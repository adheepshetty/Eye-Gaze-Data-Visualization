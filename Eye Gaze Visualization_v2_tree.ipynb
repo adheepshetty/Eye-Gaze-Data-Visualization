{
 "cells": [
  {
   "cell_type": "code",
   "execution_count": 44,
   "metadata": {},
   "outputs": [],
   "source": [
    "import pandas as pd\n",
    "import plotly.graph_objects as go\n",
    "import numpy as np"
   ]
  },
  {
   "cell_type": "code",
   "execution_count": 2,
   "metadata": {},
   "outputs": [],
   "source": [
    "bgazedf = pd.read_csv('p5GZD.txt', sep='\\t', names = ['Time', 'ID', 'ScreenL X', 'ScreenL Y', 'CamL X', 'CamL Y', 'DistL', 'PupilL', 'CodeL',\n",
    "                                                'ScreenR X', 'ScreenR Y', 'CamR X', 'CamR Y', 'DistR', 'PupilR', 'CodeR'])"
   ]
  },
  {
   "cell_type": "code",
   "execution_count": 3,
   "metadata": {},
   "outputs": [
    {
     "data": {
      "text/plain": [
       "(513, 16)"
      ]
     },
     "execution_count": 3,
     "metadata": {},
     "output_type": "execute_result"
    }
   ],
   "source": [
    "bgazedf.shape"
   ]
  },
  {
   "cell_type": "code",
   "execution_count": 4,
   "metadata": {},
   "outputs": [
    {
     "data": {
      "text/html": [
       "<div>\n",
       "<style scoped>\n",
       "    .dataframe tbody tr th:only-of-type {\n",
       "        vertical-align: middle;\n",
       "    }\n",
       "\n",
       "    .dataframe tbody tr th {\n",
       "        vertical-align: top;\n",
       "    }\n",
       "\n",
       "    .dataframe thead th {\n",
       "        text-align: right;\n",
       "    }\n",
       "</style>\n",
       "<table border=\"1\" class=\"dataframe\">\n",
       "  <thead>\n",
       "    <tr style=\"text-align: right;\">\n",
       "      <th></th>\n",
       "      <th>Time</th>\n",
       "      <th>ID</th>\n",
       "      <th>ScreenL X</th>\n",
       "      <th>ScreenL Y</th>\n",
       "      <th>CamL X</th>\n",
       "      <th>CamL Y</th>\n",
       "      <th>DistL</th>\n",
       "      <th>PupilL</th>\n",
       "      <th>CodeL</th>\n",
       "      <th>ScreenR X</th>\n",
       "      <th>ScreenR Y</th>\n",
       "      <th>CamR X</th>\n",
       "      <th>CamR Y</th>\n",
       "      <th>DistR</th>\n",
       "      <th>PupilR</th>\n",
       "      <th>CodeR</th>\n",
       "    </tr>\n",
       "  </thead>\n",
       "  <tbody>\n",
       "    <tr>\n",
       "      <th>count</th>\n",
       "      <td>513.000000</td>\n",
       "      <td>513.000000</td>\n",
       "      <td>513.000000</td>\n",
       "      <td>513.000000</td>\n",
       "      <td>513.000000</td>\n",
       "      <td>513.000000</td>\n",
       "      <td>513.000000</td>\n",
       "      <td>513.000000</td>\n",
       "      <td>513.000000</td>\n",
       "      <td>513.000000</td>\n",
       "      <td>513.000000</td>\n",
       "      <td>513.000000</td>\n",
       "      <td>513.000000</td>\n",
       "      <td>513.000000</td>\n",
       "      <td>513.000000</td>\n",
       "      <td>513.000000</td>\n",
       "    </tr>\n",
       "    <tr>\n",
       "      <th>mean</th>\n",
       "      <td>5110.302144</td>\n",
       "      <td>257.000000</td>\n",
       "      <td>-235.177388</td>\n",
       "      <td>-256.962963</td>\n",
       "      <td>0.257228</td>\n",
       "      <td>0.078793</td>\n",
       "      <td>450.472922</td>\n",
       "      <td>1.600986</td>\n",
       "      <td>1.567251</td>\n",
       "      <td>-396.454191</td>\n",
       "      <td>-384.226121</td>\n",
       "      <td>0.118259</td>\n",
       "      <td>0.090197</td>\n",
       "      <td>385.214053</td>\n",
       "      <td>1.218086</td>\n",
       "      <td>1.933723</td>\n",
       "    </tr>\n",
       "    <tr>\n",
       "      <th>std</th>\n",
       "      <td>2955.329497</td>\n",
       "      <td>148.234611</td>\n",
       "      <td>871.395095</td>\n",
       "      <td>629.447442</td>\n",
       "      <td>0.747384</td>\n",
       "      <td>0.638885</td>\n",
       "      <td>362.730660</td>\n",
       "      <td>2.091196</td>\n",
       "      <td>1.954527</td>\n",
       "      <td>879.731799</td>\n",
       "      <td>631.728077</td>\n",
       "      <td>0.668891</td>\n",
       "      <td>0.645760</td>\n",
       "      <td>374.026844</td>\n",
       "      <td>2.148947</td>\n",
       "      <td>2.000853</td>\n",
       "    </tr>\n",
       "    <tr>\n",
       "      <th>min</th>\n",
       "      <td>6.000000</td>\n",
       "      <td>1.000000</td>\n",
       "      <td>-1280.000000</td>\n",
       "      <td>-1024.000000</td>\n",
       "      <td>-1.000000</td>\n",
       "      <td>-1.000000</td>\n",
       "      <td>-1.000000</td>\n",
       "      <td>-1.000000</td>\n",
       "      <td>0.000000</td>\n",
       "      <td>-1280.000000</td>\n",
       "      <td>-1024.000000</td>\n",
       "      <td>-1.000000</td>\n",
       "      <td>-1.000000</td>\n",
       "      <td>-1.000000</td>\n",
       "      <td>-1.000000</td>\n",
       "      <td>0.000000</td>\n",
       "    </tr>\n",
       "    <tr>\n",
       "      <th>25%</th>\n",
       "      <td>2558.000000</td>\n",
       "      <td>129.000000</td>\n",
       "      <td>-1280.000000</td>\n",
       "      <td>-1024.000000</td>\n",
       "      <td>-1.000000</td>\n",
       "      <td>-1.000000</td>\n",
       "      <td>-1.000000</td>\n",
       "      <td>-1.000000</td>\n",
       "      <td>0.000000</td>\n",
       "      <td>-1280.000000</td>\n",
       "      <td>-1024.000000</td>\n",
       "      <td>-1.000000</td>\n",
       "      <td>-1.000000</td>\n",
       "      <td>-1.000000</td>\n",
       "      <td>-1.000000</td>\n",
       "      <td>0.000000</td>\n",
       "    </tr>\n",
       "    <tr>\n",
       "      <th>50%</th>\n",
       "      <td>5110.000000</td>\n",
       "      <td>257.000000</td>\n",
       "      <td>163.000000</td>\n",
       "      <td>132.000000</td>\n",
       "      <td>0.717000</td>\n",
       "      <td>0.454000</td>\n",
       "      <td>738.380000</td>\n",
       "      <td>3.178000</td>\n",
       "      <td>0.000000</td>\n",
       "      <td>129.000000</td>\n",
       "      <td>91.000000</td>\n",
       "      <td>0.465000</td>\n",
       "      <td>0.465000</td>\n",
       "      <td>739.136000</td>\n",
       "      <td>3.100000</td>\n",
       "      <td>0.000000</td>\n",
       "    </tr>\n",
       "    <tr>\n",
       "      <th>75%</th>\n",
       "      <td>7662.000000</td>\n",
       "      <td>385.000000</td>\n",
       "      <td>416.000000</td>\n",
       "      <td>168.000000</td>\n",
       "      <td>0.734000</td>\n",
       "      <td>0.456000</td>\n",
       "      <td>742.209000</td>\n",
       "      <td>3.319000</td>\n",
       "      <td>4.000000</td>\n",
       "      <td>361.000000</td>\n",
       "      <td>137.000000</td>\n",
       "      <td>0.473000</td>\n",
       "      <td>0.472000</td>\n",
       "      <td>743.460000</td>\n",
       "      <td>3.302000</td>\n",
       "      <td>4.000000</td>\n",
       "    </tr>\n",
       "    <tr>\n",
       "      <th>max</th>\n",
       "      <td>10214.000000</td>\n",
       "      <td>513.000000</td>\n",
       "      <td>1044.000000</td>\n",
       "      <td>665.000000</td>\n",
       "      <td>0.744000</td>\n",
       "      <td>0.513000</td>\n",
       "      <td>747.740000</td>\n",
       "      <td>3.512000</td>\n",
       "      <td>4.000000</td>\n",
       "      <td>1044.000000</td>\n",
       "      <td>640.000000</td>\n",
       "      <td>0.744000</td>\n",
       "      <td>0.517000</td>\n",
       "      <td>768.215000</td>\n",
       "      <td>3.520000</td>\n",
       "      <td>4.000000</td>\n",
       "    </tr>\n",
       "  </tbody>\n",
       "</table>\n",
       "</div>"
      ],
      "text/plain": [
       "               Time          ID    ScreenL X    ScreenL Y      CamL X  \\\n",
       "count    513.000000  513.000000   513.000000   513.000000  513.000000   \n",
       "mean    5110.302144  257.000000  -235.177388  -256.962963    0.257228   \n",
       "std     2955.329497  148.234611   871.395095   629.447442    0.747384   \n",
       "min        6.000000    1.000000 -1280.000000 -1024.000000   -1.000000   \n",
       "25%     2558.000000  129.000000 -1280.000000 -1024.000000   -1.000000   \n",
       "50%     5110.000000  257.000000   163.000000   132.000000    0.717000   \n",
       "75%     7662.000000  385.000000   416.000000   168.000000    0.734000   \n",
       "max    10214.000000  513.000000  1044.000000   665.000000    0.744000   \n",
       "\n",
       "           CamL Y       DistL      PupilL       CodeL    ScreenR X  \\\n",
       "count  513.000000  513.000000  513.000000  513.000000   513.000000   \n",
       "mean     0.078793  450.472922    1.600986    1.567251  -396.454191   \n",
       "std      0.638885  362.730660    2.091196    1.954527   879.731799   \n",
       "min     -1.000000   -1.000000   -1.000000    0.000000 -1280.000000   \n",
       "25%     -1.000000   -1.000000   -1.000000    0.000000 -1280.000000   \n",
       "50%      0.454000  738.380000    3.178000    0.000000   129.000000   \n",
       "75%      0.456000  742.209000    3.319000    4.000000   361.000000   \n",
       "max      0.513000  747.740000    3.512000    4.000000  1044.000000   \n",
       "\n",
       "         ScreenR Y      CamR X      CamR Y       DistR      PupilR       CodeR  \n",
       "count   513.000000  513.000000  513.000000  513.000000  513.000000  513.000000  \n",
       "mean   -384.226121    0.118259    0.090197  385.214053    1.218086    1.933723  \n",
       "std     631.728077    0.668891    0.645760  374.026844    2.148947    2.000853  \n",
       "min   -1024.000000   -1.000000   -1.000000   -1.000000   -1.000000    0.000000  \n",
       "25%   -1024.000000   -1.000000   -1.000000   -1.000000   -1.000000    0.000000  \n",
       "50%      91.000000    0.465000    0.465000  739.136000    3.100000    0.000000  \n",
       "75%     137.000000    0.473000    0.472000  743.460000    3.302000    4.000000  \n",
       "max     640.000000    0.744000    0.517000  768.215000    3.520000    4.000000  "
      ]
     },
     "execution_count": 4,
     "metadata": {},
     "output_type": "execute_result"
    }
   ],
   "source": [
    "bgazedf.describe()"
   ]
  },
  {
   "cell_type": "code",
   "execution_count": 5,
   "metadata": {},
   "outputs": [],
   "source": [
    "tgazedf=pd.read_csv('p5.treeGZD.txt', sep='\\t', names = ['Time', 'ID', 'ScreenL X', 'ScreenL Y', 'CamL X', 'CamL Y', 'DistL', 'PupilL', 'CodeL',\n",
    "                                                         'ScreenR X', 'ScreenR Y', 'CamR X', 'CamR Y', 'DistR', 'PupilR', 'CodeR'])"
   ]
  },
  {
   "cell_type": "code",
   "execution_count": 6,
   "metadata": {},
   "outputs": [
    {
     "data": {
      "text/html": [
       "<div>\n",
       "<style scoped>\n",
       "    .dataframe tbody tr th:only-of-type {\n",
       "        vertical-align: middle;\n",
       "    }\n",
       "\n",
       "    .dataframe tbody tr th {\n",
       "        vertical-align: top;\n",
       "    }\n",
       "\n",
       "    .dataframe thead th {\n",
       "        text-align: right;\n",
       "    }\n",
       "</style>\n",
       "<table border=\"1\" class=\"dataframe\">\n",
       "  <thead>\n",
       "    <tr style=\"text-align: right;\">\n",
       "      <th></th>\n",
       "      <th>Time</th>\n",
       "      <th>ID</th>\n",
       "      <th>ScreenL X</th>\n",
       "      <th>ScreenL Y</th>\n",
       "      <th>CamL X</th>\n",
       "      <th>CamL Y</th>\n",
       "      <th>DistL</th>\n",
       "      <th>PupilL</th>\n",
       "      <th>CodeL</th>\n",
       "      <th>ScreenR X</th>\n",
       "      <th>ScreenR Y</th>\n",
       "      <th>CamR X</th>\n",
       "      <th>CamR Y</th>\n",
       "      <th>DistR</th>\n",
       "      <th>PupilR</th>\n",
       "      <th>CodeR</th>\n",
       "    </tr>\n",
       "  </thead>\n",
       "  <tbody>\n",
       "    <tr>\n",
       "      <th>0</th>\n",
       "      <td>5</td>\n",
       "      <td>1</td>\n",
       "      <td>-1280</td>\n",
       "      <td>-1024</td>\n",
       "      <td>-1.000</td>\n",
       "      <td>-1.000</td>\n",
       "      <td>-1.0</td>\n",
       "      <td>-1.0</td>\n",
       "      <td>4</td>\n",
       "      <td>-1280</td>\n",
       "      <td>-1024</td>\n",
       "      <td>-1.000</td>\n",
       "      <td>-1.000</td>\n",
       "      <td>-1.0</td>\n",
       "      <td>-1.0</td>\n",
       "      <td>4</td>\n",
       "    </tr>\n",
       "    <tr>\n",
       "      <th>1</th>\n",
       "      <td>25</td>\n",
       "      <td>2</td>\n",
       "      <td>-1280</td>\n",
       "      <td>-1024</td>\n",
       "      <td>-1.000</td>\n",
       "      <td>-1.000</td>\n",
       "      <td>-1.0</td>\n",
       "      <td>-1.0</td>\n",
       "      <td>4</td>\n",
       "      <td>-1280</td>\n",
       "      <td>-1024</td>\n",
       "      <td>-1.000</td>\n",
       "      <td>-1.000</td>\n",
       "      <td>-1.0</td>\n",
       "      <td>-1.0</td>\n",
       "      <td>4</td>\n",
       "    </tr>\n",
       "    <tr>\n",
       "      <th>2</th>\n",
       "      <td>45</td>\n",
       "      <td>3</td>\n",
       "      <td>-1280</td>\n",
       "      <td>-1024</td>\n",
       "      <td>0.491</td>\n",
       "      <td>0.436</td>\n",
       "      <td>-1.0</td>\n",
       "      <td>-1.0</td>\n",
       "      <td>4</td>\n",
       "      <td>-1280</td>\n",
       "      <td>-1024</td>\n",
       "      <td>0.491</td>\n",
       "      <td>0.436</td>\n",
       "      <td>-1.0</td>\n",
       "      <td>-1.0</td>\n",
       "      <td>4</td>\n",
       "    </tr>\n",
       "    <tr>\n",
       "      <th>3</th>\n",
       "      <td>65</td>\n",
       "      <td>4</td>\n",
       "      <td>-1280</td>\n",
       "      <td>-1024</td>\n",
       "      <td>-1.000</td>\n",
       "      <td>-1.000</td>\n",
       "      <td>-1.0</td>\n",
       "      <td>-1.0</td>\n",
       "      <td>4</td>\n",
       "      <td>-1280</td>\n",
       "      <td>-1024</td>\n",
       "      <td>-1.000</td>\n",
       "      <td>-1.000</td>\n",
       "      <td>-1.0</td>\n",
       "      <td>-1.0</td>\n",
       "      <td>4</td>\n",
       "    </tr>\n",
       "    <tr>\n",
       "      <th>4</th>\n",
       "      <td>85</td>\n",
       "      <td>5</td>\n",
       "      <td>-1280</td>\n",
       "      <td>-1024</td>\n",
       "      <td>-1.000</td>\n",
       "      <td>-1.000</td>\n",
       "      <td>-1.0</td>\n",
       "      <td>-1.0</td>\n",
       "      <td>4</td>\n",
       "      <td>-1280</td>\n",
       "      <td>-1024</td>\n",
       "      <td>-1.000</td>\n",
       "      <td>-1.000</td>\n",
       "      <td>-1.0</td>\n",
       "      <td>-1.0</td>\n",
       "      <td>4</td>\n",
       "    </tr>\n",
       "  </tbody>\n",
       "</table>\n",
       "</div>"
      ],
      "text/plain": [
       "   Time  ID  ScreenL X  ScreenL Y  CamL X  CamL Y  DistL  PupilL  CodeL  \\\n",
       "0     5   1      -1280      -1024  -1.000  -1.000   -1.0    -1.0      4   \n",
       "1    25   2      -1280      -1024  -1.000  -1.000   -1.0    -1.0      4   \n",
       "2    45   3      -1280      -1024   0.491   0.436   -1.0    -1.0      4   \n",
       "3    65   4      -1280      -1024  -1.000  -1.000   -1.0    -1.0      4   \n",
       "4    85   5      -1280      -1024  -1.000  -1.000   -1.0    -1.0      4   \n",
       "\n",
       "   ScreenR X  ScreenR Y  CamR X  CamR Y  DistR  PupilR  CodeR  \n",
       "0      -1280      -1024  -1.000  -1.000   -1.0    -1.0      4  \n",
       "1      -1280      -1024  -1.000  -1.000   -1.0    -1.0      4  \n",
       "2      -1280      -1024   0.491   0.436   -1.0    -1.0      4  \n",
       "3      -1280      -1024  -1.000  -1.000   -1.0    -1.0      4  \n",
       "4      -1280      -1024  -1.000  -1.000   -1.0    -1.0      4  "
      ]
     },
     "execution_count": 6,
     "metadata": {},
     "output_type": "execute_result"
    }
   ],
   "source": [
    "tgazedf.head()"
   ]
  },
  {
   "cell_type": "code",
   "execution_count": 7,
   "metadata": {},
   "outputs": [],
   "source": [
    "tfixdf =pd.read_csv(\"p5.treeFXD.txt\",sep='\\t',header=None,names=['ID','Time','Duration','X','Y'])"
   ]
  },
  {
   "cell_type": "code",
   "execution_count": 8,
   "metadata": {},
   "outputs": [
    {
     "data": {
      "text/html": [
       "<div>\n",
       "<style scoped>\n",
       "    .dataframe tbody tr th:only-of-type {\n",
       "        vertical-align: middle;\n",
       "    }\n",
       "\n",
       "    .dataframe tbody tr th {\n",
       "        vertical-align: top;\n",
       "    }\n",
       "\n",
       "    .dataframe thead th {\n",
       "        text-align: right;\n",
       "    }\n",
       "</style>\n",
       "<table border=\"1\" class=\"dataframe\">\n",
       "  <thead>\n",
       "    <tr style=\"text-align: right;\">\n",
       "      <th></th>\n",
       "      <th>ID</th>\n",
       "      <th>Time</th>\n",
       "      <th>Duration</th>\n",
       "      <th>X</th>\n",
       "      <th>Y</th>\n",
       "    </tr>\n",
       "  </thead>\n",
       "  <tbody>\n",
       "    <tr>\n",
       "      <th>0</th>\n",
       "      <td>1</td>\n",
       "      <td>264</td>\n",
       "      <td>100</td>\n",
       "      <td>673</td>\n",
       "      <td>469</td>\n",
       "    </tr>\n",
       "    <tr>\n",
       "      <th>1</th>\n",
       "      <td>2</td>\n",
       "      <td>504</td>\n",
       "      <td>140</td>\n",
       "      <td>705</td>\n",
       "      <td>553</td>\n",
       "    </tr>\n",
       "    <tr>\n",
       "      <th>2</th>\n",
       "      <td>3</td>\n",
       "      <td>763</td>\n",
       "      <td>179</td>\n",
       "      <td>648</td>\n",
       "      <td>534</td>\n",
       "    </tr>\n",
       "    <tr>\n",
       "      <th>3</th>\n",
       "      <td>4</td>\n",
       "      <td>1142</td>\n",
       "      <td>179</td>\n",
       "      <td>641</td>\n",
       "      <td>454</td>\n",
       "    </tr>\n",
       "    <tr>\n",
       "      <th>4</th>\n",
       "      <td>5</td>\n",
       "      <td>1780</td>\n",
       "      <td>120</td>\n",
       "      <td>674</td>\n",
       "      <td>482</td>\n",
       "    </tr>\n",
       "  </tbody>\n",
       "</table>\n",
       "</div>"
      ],
      "text/plain": [
       "   ID  Time  Duration    X    Y\n",
       "0   1   264       100  673  469\n",
       "1   2   504       140  705  553\n",
       "2   3   763       179  648  534\n",
       "3   4  1142       179  641  454\n",
       "4   5  1780       120  674  482"
      ]
     },
     "execution_count": 8,
     "metadata": {},
     "output_type": "execute_result"
    }
   ],
   "source": [
    "tfixdf.head()"
   ]
  },
  {
   "cell_type": "code",
   "execution_count": 37,
   "metadata": {},
   "outputs": [],
   "source": [
    "teventdf = pd.read_csv('p5.treeEVD.txt', sep='\\t',names = ['Time', 'Event', 'EventKey', 'Data1', 'Data2', 'Description'])"
   ]
  },
  {
   "cell_type": "code",
   "execution_count": 39,
   "metadata": {},
   "outputs": [],
   "source": [
    "teventdf['Minutes'] = teventdf['Time'].apply(lambda x: x/60000)"
   ]
  },
  {
   "cell_type": "code",
   "execution_count": 46,
   "metadata": {},
   "outputs": [
    {
     "ename": "NameError",
     "evalue": "name 'tfixedgazeevent' is not defined",
     "output_type": "error",
     "traceback": [
      "\u001b[1;31m---------------------------------------------------------------------------\u001b[0m",
      "\u001b[1;31mNameError\u001b[0m                                 Traceback (most recent call last)",
      "\u001b[1;32m<ipython-input-46-f454d80c8757>\u001b[0m in \u001b[0;36m<module>\u001b[1;34m\u001b[0m\n\u001b[1;32m----> 1\u001b[1;33m \u001b[1;32mfor\u001b[0m \u001b[0mevent\u001b[0m \u001b[1;32min\u001b[0m \u001b[0mtfixedgazeevent\u001b[0m\u001b[1;33m[\u001b[0m\u001b[1;34m'Event'\u001b[0m\u001b[1;33m]\u001b[0m\u001b[1;33m:\u001b[0m\u001b[1;33m\u001b[0m\u001b[1;33m\u001b[0m\u001b[0m\n\u001b[0m\u001b[0;32m      2\u001b[0m     \u001b[1;32mif\u001b[0m \u001b[0mevent\u001b[0m \u001b[1;33m==\u001b[0m \u001b[1;34m'LMouseButton'\u001b[0m\u001b[1;33m:\u001b[0m\u001b[1;33m\u001b[0m\u001b[1;33m\u001b[0m\u001b[0m\n\u001b[0;32m      3\u001b[0m         \u001b[0mtfixedgazeevent\u001b[0m\u001b[1;33m[\u001b[0m\u001b[1;34m'X'\u001b[0m\u001b[1;33m]\u001b[0m \u001b[1;33m=\u001b[0m \u001b[0mtfixedgazeevent\u001b[0m\u001b[1;33m[\u001b[0m\u001b[1;34m'Data1'\u001b[0m\u001b[1;33m]\u001b[0m\u001b[1;33m\u001b[0m\u001b[1;33m\u001b[0m\u001b[0m\n\u001b[0;32m      4\u001b[0m         \u001b[0mtfixedgazeevent\u001b[0m\u001b[1;33m[\u001b[0m\u001b[1;34m'Y'\u001b[0m\u001b[1;33m]\u001b[0m \u001b[1;33m=\u001b[0m \u001b[0mtfixedgazeevent\u001b[0m\u001b[1;33m[\u001b[0m\u001b[1;34m'Data2'\u001b[0m\u001b[1;33m]\u001b[0m\u001b[1;33m\u001b[0m\u001b[1;33m\u001b[0m\u001b[0m\n\u001b[0;32m      5\u001b[0m     \u001b[1;32melif\u001b[0m \u001b[0mevent\u001b[0m \u001b[1;33m==\u001b[0m \u001b[1;34m'RMouseButton'\u001b[0m\u001b[1;33m:\u001b[0m\u001b[1;33m\u001b[0m\u001b[1;33m\u001b[0m\u001b[0m\n",
      "\u001b[1;31mNameError\u001b[0m: name 'tfixedgazeevent' is not defined"
     ]
    }
   ],
   "source": [
    "for event in tfixedgazeevent['Event']:\n",
    "    if event == 'LMouseButton':\n",
    "        tfixedgazeevent['X'] = tfixedgazeevent['Data1']\n",
    "        tfixedgazeevent['Y'] = tfixedgazeevent['Data2']\n",
    "    elif event == 'RMouseButton':\n",
    "        tfixedgazeevent['X'] = tfixedgazeevent['Data1']\n",
    "        tfixedgazeevent['Y'] = tfixedgazeevent['Data2']"
   ]
  },
  {
   "cell_type": "code",
   "execution_count": 9,
   "metadata": {},
   "outputs": [],
   "source": [
    "tgazedf = tgazedf[(tgazedf['CodeL'] == 0) & (tgazedf['CodeR'] == 0)]"
   ]
  },
  {
   "cell_type": "code",
   "execution_count": 10,
   "metadata": {},
   "outputs": [],
   "source": [
    "tgazedf = tgazedf[(tgazedf['CodeL'] == 0) & (tgazedf['CodeR'] == 0)]"
   ]
  },
  {
   "cell_type": "code",
   "execution_count": 11,
   "metadata": {},
   "outputs": [],
   "source": [
    "Pupil_Base_L = tgazedf['PupilL'].mean(axis = 0)\n",
    "Pupil_Base_R = tgazedf['PupilR'].mean(axis = 0)"
   ]
  },
  {
   "cell_type": "code",
   "execution_count": 12,
   "metadata": {},
   "outputs": [
    {
     "data": {
      "text/plain": [
       "3.3498113001075103"
      ]
     },
     "execution_count": 12,
     "metadata": {},
     "output_type": "execute_result"
    }
   ],
   "source": [
    "Pupil_Base_L"
   ]
  },
  {
   "cell_type": "code",
   "execution_count": 13,
   "metadata": {},
   "outputs": [
    {
     "data": {
      "text/plain": [
       "3.3558905314083862"
      ]
     },
     "execution_count": 13,
     "metadata": {},
     "output_type": "execute_result"
    }
   ],
   "source": [
    "Pupil_Base_R"
   ]
  },
  {
   "cell_type": "code",
   "execution_count": 14,
   "metadata": {},
   "outputs": [
    {
     "data": {
      "text/html": [
       "<div>\n",
       "<style scoped>\n",
       "    .dataframe tbody tr th:only-of-type {\n",
       "        vertical-align: middle;\n",
       "    }\n",
       "\n",
       "    .dataframe tbody tr th {\n",
       "        vertical-align: top;\n",
       "    }\n",
       "\n",
       "    .dataframe thead th {\n",
       "        text-align: right;\n",
       "    }\n",
       "</style>\n",
       "<table border=\"1\" class=\"dataframe\">\n",
       "  <thead>\n",
       "    <tr style=\"text-align: right;\">\n",
       "      <th></th>\n",
       "      <th>Time</th>\n",
       "      <th>ID</th>\n",
       "      <th>ScreenL X</th>\n",
       "      <th>ScreenL Y</th>\n",
       "      <th>CamL X</th>\n",
       "      <th>CamL Y</th>\n",
       "      <th>DistL</th>\n",
       "      <th>PupilL</th>\n",
       "      <th>CodeL</th>\n",
       "      <th>ScreenR X</th>\n",
       "      <th>ScreenR Y</th>\n",
       "      <th>CamR X</th>\n",
       "      <th>CamR Y</th>\n",
       "      <th>DistR</th>\n",
       "      <th>PupilR</th>\n",
       "      <th>CodeR</th>\n",
       "    </tr>\n",
       "  </thead>\n",
       "  <tbody>\n",
       "    <tr>\n",
       "      <th>7</th>\n",
       "      <td>145</td>\n",
       "      <td>8</td>\n",
       "      <td>590</td>\n",
       "      <td>380</td>\n",
       "      <td>0.771</td>\n",
       "      <td>0.404</td>\n",
       "      <td>690.7</td>\n",
       "      <td>3.399</td>\n",
       "      <td>0</td>\n",
       "      <td>544</td>\n",
       "      <td>381</td>\n",
       "      <td>0.489</td>\n",
       "      <td>0.438</td>\n",
       "      <td>686.623</td>\n",
       "      <td>3.485</td>\n",
       "      <td>0</td>\n",
       "    </tr>\n",
       "    <tr>\n",
       "      <th>8</th>\n",
       "      <td>165</td>\n",
       "      <td>9</td>\n",
       "      <td>558</td>\n",
       "      <td>372</td>\n",
       "      <td>0.770</td>\n",
       "      <td>0.404</td>\n",
       "      <td>690.7</td>\n",
       "      <td>3.466</td>\n",
       "      <td>0</td>\n",
       "      <td>560</td>\n",
       "      <td>409</td>\n",
       "      <td>0.488</td>\n",
       "      <td>0.438</td>\n",
       "      <td>686.623</td>\n",
       "      <td>3.442</td>\n",
       "      <td>0</td>\n",
       "    </tr>\n",
       "    <tr>\n",
       "      <th>9</th>\n",
       "      <td>185</td>\n",
       "      <td>10</td>\n",
       "      <td>574</td>\n",
       "      <td>371</td>\n",
       "      <td>0.770</td>\n",
       "      <td>0.404</td>\n",
       "      <td>690.7</td>\n",
       "      <td>3.484</td>\n",
       "      <td>0</td>\n",
       "      <td>571</td>\n",
       "      <td>397</td>\n",
       "      <td>0.487</td>\n",
       "      <td>0.438</td>\n",
       "      <td>686.623</td>\n",
       "      <td>3.408</td>\n",
       "      <td>0</td>\n",
       "    </tr>\n",
       "    <tr>\n",
       "      <th>10</th>\n",
       "      <td>205</td>\n",
       "      <td>11</td>\n",
       "      <td>587</td>\n",
       "      <td>413</td>\n",
       "      <td>0.768</td>\n",
       "      <td>0.405</td>\n",
       "      <td>690.7</td>\n",
       "      <td>3.425</td>\n",
       "      <td>0</td>\n",
       "      <td>612</td>\n",
       "      <td>438</td>\n",
       "      <td>0.486</td>\n",
       "      <td>0.439</td>\n",
       "      <td>686.623</td>\n",
       "      <td>3.454</td>\n",
       "      <td>0</td>\n",
       "    </tr>\n",
       "    <tr>\n",
       "      <th>11</th>\n",
       "      <td>224</td>\n",
       "      <td>12</td>\n",
       "      <td>672</td>\n",
       "      <td>510</td>\n",
       "      <td>0.766</td>\n",
       "      <td>0.405</td>\n",
       "      <td>690.7</td>\n",
       "      <td>3.416</td>\n",
       "      <td>0</td>\n",
       "      <td>693</td>\n",
       "      <td>451</td>\n",
       "      <td>0.484</td>\n",
       "      <td>0.440</td>\n",
       "      <td>686.623</td>\n",
       "      <td>3.519</td>\n",
       "      <td>0</td>\n",
       "    </tr>\n",
       "  </tbody>\n",
       "</table>\n",
       "</div>"
      ],
      "text/plain": [
       "    Time  ID  ScreenL X  ScreenL Y  CamL X  CamL Y  DistL  PupilL  CodeL  \\\n",
       "7    145   8        590        380   0.771   0.404  690.7   3.399      0   \n",
       "8    165   9        558        372   0.770   0.404  690.7   3.466      0   \n",
       "9    185  10        574        371   0.770   0.404  690.7   3.484      0   \n",
       "10   205  11        587        413   0.768   0.405  690.7   3.425      0   \n",
       "11   224  12        672        510   0.766   0.405  690.7   3.416      0   \n",
       "\n",
       "    ScreenR X  ScreenR Y  CamR X  CamR Y    DistR  PupilR  CodeR  \n",
       "7         544        381   0.489   0.438  686.623   3.485      0  \n",
       "8         560        409   0.488   0.438  686.623   3.442      0  \n",
       "9         571        397   0.487   0.438  686.623   3.408      0  \n",
       "10        612        438   0.486   0.439  686.623   3.454      0  \n",
       "11        693        451   0.484   0.440  686.623   3.519      0  "
      ]
     },
     "execution_count": 14,
     "metadata": {},
     "output_type": "execute_result"
    }
   ],
   "source": [
    "tgazedf.head()"
   ]
  },
  {
   "cell_type": "code",
   "execution_count": 15,
   "metadata": {},
   "outputs": [],
   "source": [
    "tgazedf['PupilL'] = tgazedf['PupilL'].apply(lambda x:x-Pupil_Base_L)\n",
    "tgazedf['PupilR'] = tgazedf['PupilR'].apply(lambda x:x-Pupil_Base_R)"
   ]
  },
  {
   "cell_type": "code",
   "execution_count": 16,
   "metadata": {},
   "outputs": [],
   "source": [
    "tgazedf['Screen X'] = tgazedf[['ScreenL X','ScreenR X']].mean(axis = 1)"
   ]
  },
  {
   "cell_type": "code",
   "execution_count": 17,
   "metadata": {},
   "outputs": [],
   "source": [
    "tgazedf['Screen Y'] = tgazedf[['ScreenL Y','ScreenR Y']].mean(axis = 1)"
   ]
  },
  {
   "cell_type": "code",
   "execution_count": 18,
   "metadata": {},
   "outputs": [],
   "source": [
    "tgazedf['Pupil'] = tgazedf[['PupilL','PupilR']].mean(axis = 1)"
   ]
  },
  {
   "cell_type": "code",
   "execution_count": 19,
   "metadata": {},
   "outputs": [],
   "source": [
    "tgazedf['Dist'] = tgazedf[['DistL','DistR']].mean(axis = 1)"
   ]
  },
  {
   "cell_type": "code",
   "execution_count": 20,
   "metadata": {},
   "outputs": [],
   "source": [
    "tgazedf.drop(['ScreenL X', 'ScreenL Y', 'ScreenR X', 'ScreenR Y', 'CamL X', 'CamL Y', 'CodeL', 'CodeR', 'CamR X', 'CamR Y', 'PupilL', 'PupilR', 'DistL', 'DistR'], axis = 1, inplace = True)"
   ]
  },
  {
   "cell_type": "code",
   "execution_count": 21,
   "metadata": {},
   "outputs": [
    {
     "data": {
      "text/html": [
       "<div>\n",
       "<style scoped>\n",
       "    .dataframe tbody tr th:only-of-type {\n",
       "        vertical-align: middle;\n",
       "    }\n",
       "\n",
       "    .dataframe tbody tr th {\n",
       "        vertical-align: top;\n",
       "    }\n",
       "\n",
       "    .dataframe thead th {\n",
       "        text-align: right;\n",
       "    }\n",
       "</style>\n",
       "<table border=\"1\" class=\"dataframe\">\n",
       "  <thead>\n",
       "    <tr style=\"text-align: right;\">\n",
       "      <th></th>\n",
       "      <th>Time</th>\n",
       "      <th>ID</th>\n",
       "      <th>Screen X</th>\n",
       "      <th>Screen Y</th>\n",
       "      <th>Pupil</th>\n",
       "      <th>Dist</th>\n",
       "    </tr>\n",
       "  </thead>\n",
       "  <tbody>\n",
       "    <tr>\n",
       "      <th>7</th>\n",
       "      <td>145</td>\n",
       "      <td>8</td>\n",
       "      <td>567.0</td>\n",
       "      <td>380.5</td>\n",
       "      <td>0.089149</td>\n",
       "      <td>688.6615</td>\n",
       "    </tr>\n",
       "    <tr>\n",
       "      <th>8</th>\n",
       "      <td>165</td>\n",
       "      <td>9</td>\n",
       "      <td>559.0</td>\n",
       "      <td>390.5</td>\n",
       "      <td>0.101149</td>\n",
       "      <td>688.6615</td>\n",
       "    </tr>\n",
       "    <tr>\n",
       "      <th>9</th>\n",
       "      <td>185</td>\n",
       "      <td>10</td>\n",
       "      <td>572.5</td>\n",
       "      <td>384.0</td>\n",
       "      <td>0.093149</td>\n",
       "      <td>688.6615</td>\n",
       "    </tr>\n",
       "    <tr>\n",
       "      <th>10</th>\n",
       "      <td>205</td>\n",
       "      <td>11</td>\n",
       "      <td>599.5</td>\n",
       "      <td>425.5</td>\n",
       "      <td>0.086649</td>\n",
       "      <td>688.6615</td>\n",
       "    </tr>\n",
       "    <tr>\n",
       "      <th>11</th>\n",
       "      <td>224</td>\n",
       "      <td>12</td>\n",
       "      <td>682.5</td>\n",
       "      <td>480.5</td>\n",
       "      <td>0.114649</td>\n",
       "      <td>688.6615</td>\n",
       "    </tr>\n",
       "  </tbody>\n",
       "</table>\n",
       "</div>"
      ],
      "text/plain": [
       "    Time  ID  Screen X  Screen Y     Pupil      Dist\n",
       "7    145   8     567.0     380.5  0.089149  688.6615\n",
       "8    165   9     559.0     390.5  0.101149  688.6615\n",
       "9    185  10     572.5     384.0  0.093149  688.6615\n",
       "10   205  11     599.5     425.5  0.086649  688.6615\n",
       "11   224  12     682.5     480.5  0.114649  688.6615"
      ]
     },
     "execution_count": 21,
     "metadata": {},
     "output_type": "execute_result"
    }
   ],
   "source": [
    "tgazedf.head()"
   ]
  },
  {
   "cell_type": "code",
   "execution_count": 22,
   "metadata": {},
   "outputs": [],
   "source": [
    "tfixedgaze = tfixdf.merge(tgazedf, on = ['Time'], how='left').drop(['ID_x', 'ID_y'], axis = 1)"
   ]
  },
  {
   "cell_type": "code",
   "execution_count": 23,
   "metadata": {},
   "outputs": [
    {
     "data": {
      "text/html": [
       "<div>\n",
       "<style scoped>\n",
       "    .dataframe tbody tr th:only-of-type {\n",
       "        vertical-align: middle;\n",
       "    }\n",
       "\n",
       "    .dataframe tbody tr th {\n",
       "        vertical-align: top;\n",
       "    }\n",
       "\n",
       "    .dataframe thead th {\n",
       "        text-align: right;\n",
       "    }\n",
       "</style>\n",
       "<table border=\"1\" class=\"dataframe\">\n",
       "  <thead>\n",
       "    <tr style=\"text-align: right;\">\n",
       "      <th></th>\n",
       "      <th>Time</th>\n",
       "      <th>Duration</th>\n",
       "      <th>X</th>\n",
       "      <th>Y</th>\n",
       "      <th>Screen X</th>\n",
       "      <th>Screen Y</th>\n",
       "      <th>Pupil</th>\n",
       "      <th>Dist</th>\n",
       "    </tr>\n",
       "  </thead>\n",
       "  <tbody>\n",
       "    <tr>\n",
       "      <th>0</th>\n",
       "      <td>264</td>\n",
       "      <td>100</td>\n",
       "      <td>673</td>\n",
       "      <td>469</td>\n",
       "      <td>672.5</td>\n",
       "      <td>491.0</td>\n",
       "      <td>0.163149</td>\n",
       "      <td>686.1175</td>\n",
       "    </tr>\n",
       "    <tr>\n",
       "      <th>1</th>\n",
       "      <td>504</td>\n",
       "      <td>140</td>\n",
       "      <td>705</td>\n",
       "      <td>553</td>\n",
       "      <td>NaN</td>\n",
       "      <td>NaN</td>\n",
       "      <td>NaN</td>\n",
       "      <td>NaN</td>\n",
       "    </tr>\n",
       "    <tr>\n",
       "      <th>2</th>\n",
       "      <td>763</td>\n",
       "      <td>179</td>\n",
       "      <td>648</td>\n",
       "      <td>534</td>\n",
       "      <td>650.5</td>\n",
       "      <td>538.0</td>\n",
       "      <td>-0.084351</td>\n",
       "      <td>687.1725</td>\n",
       "    </tr>\n",
       "    <tr>\n",
       "      <th>3</th>\n",
       "      <td>1142</td>\n",
       "      <td>179</td>\n",
       "      <td>641</td>\n",
       "      <td>454</td>\n",
       "      <td>635.0</td>\n",
       "      <td>456.5</td>\n",
       "      <td>-0.086351</td>\n",
       "      <td>691.6855</td>\n",
       "    </tr>\n",
       "    <tr>\n",
       "      <th>4</th>\n",
       "      <td>1780</td>\n",
       "      <td>120</td>\n",
       "      <td>674</td>\n",
       "      <td>482</td>\n",
       "      <td>675.0</td>\n",
       "      <td>486.0</td>\n",
       "      <td>-0.180351</td>\n",
       "      <td>689.7135</td>\n",
       "    </tr>\n",
       "  </tbody>\n",
       "</table>\n",
       "</div>"
      ],
      "text/plain": [
       "   Time  Duration    X    Y  Screen X  Screen Y     Pupil      Dist\n",
       "0   264       100  673  469     672.5     491.0  0.163149  686.1175\n",
       "1   504       140  705  553       NaN       NaN       NaN       NaN\n",
       "2   763       179  648  534     650.5     538.0 -0.084351  687.1725\n",
       "3  1142       179  641  454     635.0     456.5 -0.086351  691.6855\n",
       "4  1780       120  674  482     675.0     486.0 -0.180351  689.7135"
      ]
     },
     "execution_count": 23,
     "metadata": {},
     "output_type": "execute_result"
    }
   ],
   "source": [
    "tfixedgaze.head()"
   ]
  },
  {
   "cell_type": "code",
   "execution_count": 24,
   "metadata": {},
   "outputs": [
    {
     "data": {
      "text/plain": [
       "(2445, 8)"
      ]
     },
     "execution_count": 24,
     "metadata": {},
     "output_type": "execute_result"
    }
   ],
   "source": [
    "tfixedgaze.shape"
   ]
  },
  {
   "cell_type": "code",
   "execution_count": 25,
   "metadata": {
    "scrolled": true
   },
   "outputs": [
    {
     "data": {
      "text/plain": [
       "Time          0\n",
       "Duration      0\n",
       "X             0\n",
       "Y             0\n",
       "Screen X    405\n",
       "Screen Y    405\n",
       "Pupil       405\n",
       "Dist        405\n",
       "dtype: int64"
      ]
     },
     "execution_count": 25,
     "metadata": {},
     "output_type": "execute_result"
    }
   ],
   "source": [
    "tfixedgaze.isna().sum()"
   ]
  },
  {
   "cell_type": "code",
   "execution_count": 26,
   "metadata": {},
   "outputs": [
    {
     "data": {
      "text/html": [
       "<div>\n",
       "<style scoped>\n",
       "    .dataframe tbody tr th:only-of-type {\n",
       "        vertical-align: middle;\n",
       "    }\n",
       "\n",
       "    .dataframe tbody tr th {\n",
       "        vertical-align: top;\n",
       "    }\n",
       "\n",
       "    .dataframe thead th {\n",
       "        text-align: right;\n",
       "    }\n",
       "</style>\n",
       "<table border=\"1\" class=\"dataframe\">\n",
       "  <thead>\n",
       "    <tr style=\"text-align: right;\">\n",
       "      <th></th>\n",
       "      <th>Time</th>\n",
       "      <th>Duration</th>\n",
       "      <th>X</th>\n",
       "      <th>Y</th>\n",
       "      <th>Screen X</th>\n",
       "      <th>Screen Y</th>\n",
       "      <th>Pupil</th>\n",
       "      <th>Dist</th>\n",
       "    </tr>\n",
       "  </thead>\n",
       "  <tbody>\n",
       "    <tr>\n",
       "      <th>count</th>\n",
       "      <td>2.445000e+03</td>\n",
       "      <td>2445.000000</td>\n",
       "      <td>2445.000000</td>\n",
       "      <td>2445.000000</td>\n",
       "      <td>2040.000000</td>\n",
       "      <td>2040.000000</td>\n",
       "      <td>2040.000000</td>\n",
       "      <td>2040.000000</td>\n",
       "    </tr>\n",
       "    <tr>\n",
       "      <th>mean</th>\n",
       "      <td>6.002189e+05</td>\n",
       "      <td>203.928016</td>\n",
       "      <td>382.185276</td>\n",
       "      <td>438.746012</td>\n",
       "      <td>388.341176</td>\n",
       "      <td>441.070833</td>\n",
       "      <td>0.009712</td>\n",
       "      <td>696.169768</td>\n",
       "    </tr>\n",
       "    <tr>\n",
       "      <th>std</th>\n",
       "      <td>3.802457e+05</td>\n",
       "      <td>152.533725</td>\n",
       "      <td>286.718321</td>\n",
       "      <td>209.588067</td>\n",
       "      <td>286.518044</td>\n",
       "      <td>210.105623</td>\n",
       "      <td>0.115090</td>\n",
       "      <td>12.933794</td>\n",
       "    </tr>\n",
       "    <tr>\n",
       "      <th>min</th>\n",
       "      <td>2.640000e+02</td>\n",
       "      <td>100.000000</td>\n",
       "      <td>10.000000</td>\n",
       "      <td>99.000000</td>\n",
       "      <td>3.000000</td>\n",
       "      <td>91.500000</td>\n",
       "      <td>-0.403851</td>\n",
       "      <td>645.363000</td>\n",
       "    </tr>\n",
       "    <tr>\n",
       "      <th>25%</th>\n",
       "      <td>2.646550e+05</td>\n",
       "      <td>120.000000</td>\n",
       "      <td>99.000000</td>\n",
       "      <td>233.000000</td>\n",
       "      <td>103.375000</td>\n",
       "      <td>232.500000</td>\n",
       "      <td>-0.064976</td>\n",
       "      <td>687.518250</td>\n",
       "    </tr>\n",
       "    <tr>\n",
       "      <th>50%</th>\n",
       "      <td>5.596110e+05</td>\n",
       "      <td>160.000000</td>\n",
       "      <td>278.000000</td>\n",
       "      <td>511.000000</td>\n",
       "      <td>285.500000</td>\n",
       "      <td>509.750000</td>\n",
       "      <td>0.006649</td>\n",
       "      <td>695.403000</td>\n",
       "    </tr>\n",
       "    <tr>\n",
       "      <th>75%</th>\n",
       "      <td>9.232700e+05</td>\n",
       "      <td>239.000000</td>\n",
       "      <td>714.000000</td>\n",
       "      <td>600.000000</td>\n",
       "      <td>717.500000</td>\n",
       "      <td>603.625000</td>\n",
       "      <td>0.078774</td>\n",
       "      <td>703.153875</td>\n",
       "    </tr>\n",
       "    <tr>\n",
       "      <th>max</th>\n",
       "      <td>1.313846e+06</td>\n",
       "      <td>2333.000000</td>\n",
       "      <td>1315.000000</td>\n",
       "      <td>974.000000</td>\n",
       "      <td>1301.500000</td>\n",
       "      <td>977.500000</td>\n",
       "      <td>0.803649</td>\n",
       "      <td>794.995500</td>\n",
       "    </tr>\n",
       "  </tbody>\n",
       "</table>\n",
       "</div>"
      ],
      "text/plain": [
       "               Time     Duration            X            Y     Screen X  \\\n",
       "count  2.445000e+03  2445.000000  2445.000000  2445.000000  2040.000000   \n",
       "mean   6.002189e+05   203.928016   382.185276   438.746012   388.341176   \n",
       "std    3.802457e+05   152.533725   286.718321   209.588067   286.518044   \n",
       "min    2.640000e+02   100.000000    10.000000    99.000000     3.000000   \n",
       "25%    2.646550e+05   120.000000    99.000000   233.000000   103.375000   \n",
       "50%    5.596110e+05   160.000000   278.000000   511.000000   285.500000   \n",
       "75%    9.232700e+05   239.000000   714.000000   600.000000   717.500000   \n",
       "max    1.313846e+06  2333.000000  1315.000000   974.000000  1301.500000   \n",
       "\n",
       "          Screen Y        Pupil         Dist  \n",
       "count  2040.000000  2040.000000  2040.000000  \n",
       "mean    441.070833     0.009712   696.169768  \n",
       "std     210.105623     0.115090    12.933794  \n",
       "min      91.500000    -0.403851   645.363000  \n",
       "25%     232.500000    -0.064976   687.518250  \n",
       "50%     509.750000     0.006649   695.403000  \n",
       "75%     603.625000     0.078774   703.153875  \n",
       "max     977.500000     0.803649   794.995500  "
      ]
     },
     "execution_count": 26,
     "metadata": {},
     "output_type": "execute_result"
    }
   ],
   "source": [
    "tfixedgaze.describe()"
   ]
  },
  {
   "cell_type": "code",
   "execution_count": 27,
   "metadata": {},
   "outputs": [
    {
     "data": {
      "text/plain": [
       "[-0.2638509157579483,\n",
       " -0.2543509157579482,\n",
       " -0.24885091575794815,\n",
       " -0.22235091575794796,\n",
       " -0.2093509157579485,\n",
       " -0.20785091575794823,\n",
       " -0.20585091575794845,\n",
       " -0.2013509157579485,\n",
       " -0.19935091575794828,\n",
       " -0.19485091575794855,\n",
       " -0.19485091575794833,\n",
       " -0.18985091575794844,\n",
       " -0.1888509157579481,\n",
       " -0.18435091575794837,\n",
       " -0.18085091575794832,\n",
       " -0.17885091575794831,\n",
       " -0.16735091575794847,\n",
       " -0.16735091575794825,\n",
       " -0.16685091575794786,\n",
       " -0.16485091575794808,\n",
       " -0.1628509157579483,\n",
       " -0.1618509157579482,\n",
       " -0.16135091575794802,\n",
       " -0.16035091575794835,\n",
       " -0.16035091575794813,\n",
       " -0.1568509157579483,\n",
       " -0.15535091575794824,\n",
       " -0.15435091575794835,\n",
       " -0.1538509157579484,\n",
       " -0.15335091575794801,\n",
       " -0.1528509157579483,\n",
       " -0.15035091575794812,\n",
       " -0.1488509157579483,\n",
       " -0.14735091575794823,\n",
       " -0.14685091575794829,\n",
       " -0.1458509157579484,\n",
       " -0.14535091575794823,\n",
       " -0.14385091575794817,\n",
       " -0.14335091575794823,\n",
       " -0.14135091575794845,\n",
       " -0.13935091575794822,\n",
       " -0.1378509157579484,\n",
       " -0.13785091575794817,\n",
       " -0.1338509157579486,\n",
       " -0.13385091575794816,\n",
       " -0.133350915757948,\n",
       " -0.13285091575794805,\n",
       " -0.13135091575794822,\n",
       " -0.13085091575794827,\n",
       " -0.12985091575794838,\n",
       " -0.12885091575794827,\n",
       " -0.12585091575794816,\n",
       " -0.12485091575794827,\n",
       " -0.1223509157579481,\n",
       " -0.12085091575794848,\n",
       " -0.12035091575794832,\n",
       " -0.11935091575794843,\n",
       " -0.11885091575794848,\n",
       " -0.11485091575794826,\n",
       " -0.11385091575794815,\n",
       " -0.1133509157579482,\n",
       " -0.11335091575794798,\n",
       " -0.11285091575794826,\n",
       " -0.11235091575794809,\n",
       " -0.11185091575794814,\n",
       " -0.11085091575794825,\n",
       " -0.1093509157579482,\n",
       " -0.10885091575794825,\n",
       " -0.10785091575794814,\n",
       " -0.1073509157579482,\n",
       " -0.10735091575794797,\n",
       " -0.10685091575794803,\n",
       " -0.1063509157579483,\n",
       " -0.10585091575794814,\n",
       " -0.10485091575794825,\n",
       " -0.10335091575794819,\n",
       " -0.1023509157579483,\n",
       " -0.10135091575794819,\n",
       " -0.10085091575794847,\n",
       " -0.1003509157579483,\n",
       " -0.09985091575794813,\n",
       " -0.09785091575794835,\n",
       " -0.09735091575794841,\n",
       " -0.09535091575794818,\n",
       " -0.0943509157579483,\n",
       " -0.09385091575794857,\n",
       " -0.0933509157579484,\n",
       " -0.09285091575794824,\n",
       " -0.09135091575794863,\n",
       " -0.09035091575794829,\n",
       " -0.08985091575794812,\n",
       " -0.08785091575794834,\n",
       " -0.08735091575794818,\n",
       " -0.08635091575794829,\n",
       " -0.08585091575794812,\n",
       " -0.08535091575794818,\n",
       " -0.08485091575794823,\n",
       " -0.08385091575794856,\n",
       " -0.08385091575794812,\n",
       " -0.0833509157579484,\n",
       " -0.08285091575794823,\n",
       " -0.08235091575794828,\n",
       " -0.08185091575794834,\n",
       " -0.0818509157579479,\n",
       " -0.0813509157579484,\n",
       " -0.08085091575794845,\n",
       " -0.080850915757948,\n",
       " -0.08035091575794828,\n",
       " -0.07935091575794839,\n",
       " -0.07935091575794795,\n",
       " -0.07885091575794845,\n",
       " -0.07885091575794823,\n",
       " -0.07585091575794811,\n",
       " -0.07535091575794817,\n",
       " -0.07485091575794822,\n",
       " -0.0743509157579485,\n",
       " -0.07435091575794806,\n",
       " -0.07385091575794833,\n",
       " -0.07385091575794811,\n",
       " -0.07285091575794822,\n",
       " -0.07235091575794828,\n",
       " -0.07235091575794805,\n",
       " -0.07035091575794827,\n",
       " -0.06985091575794855,\n",
       " -0.068850915757948,\n",
       " -0.06535091575794838,\n",
       " -0.06535091575794816,\n",
       " -0.06485091575794821,\n",
       " -0.06485091575794799,\n",
       " -0.06435091575794827,\n",
       " -0.06435091575794805,\n",
       " -0.0638509157579481,\n",
       " -0.0618509157579481,\n",
       " -0.0613509157579486,\n",
       " -0.061350915757948155,\n",
       " -0.05985091575794832,\n",
       " -0.0598509157579481,\n",
       " -0.059350915757948375,\n",
       " -0.05885091575794821,\n",
       " -0.05835091575794826,\n",
       " -0.05735091575794815,\n",
       " -0.05685091575794843,\n",
       " -0.05635091575794826,\n",
       " -0.05635091575794804,\n",
       " -0.055850915757948094,\n",
       " -0.05535091575794837,\n",
       " -0.054850915757948204,\n",
       " -0.05485091575794798,\n",
       " -0.05435091575794826,\n",
       " -0.053850915757948314,\n",
       " -0.05385091575794809,\n",
       " -0.05335091575794837,\n",
       " -0.05135091575794837,\n",
       " -0.051350915757948146,\n",
       " -0.050350915757948256,\n",
       " -0.049350915757948366,\n",
       " -0.049350915757948144,\n",
       " -0.0488509157579482,\n",
       " -0.04835091575794803,\n",
       " -0.04585091575794831,\n",
       " -0.045850915757948085,\n",
       " -0.04535091575794836,\n",
       " -0.04535091575794814,\n",
       " -0.04485091575794842,\n",
       " -0.044850915757948195,\n",
       " -0.04435091575794847,\n",
       " -0.04435091575794825,\n",
       " -0.043850915757948306,\n",
       " -0.04235091575794847,\n",
       " -0.040850915757948414,\n",
       " -0.04085091575794797,\n",
       " -0.03935091575794836,\n",
       " -0.03885091575794819,\n",
       " -0.03835091575794847,\n",
       " -0.0378509157579483,\n",
       " -0.03735091575794813,\n",
       " -0.03685091575794841,\n",
       " -0.036350915757948465,\n",
       " -0.03635091575794824,\n",
       " -0.03635091575794802,\n",
       " -0.0358509157579483,\n",
       " -0.035850915757948076,\n",
       " -0.035350915757948354,\n",
       " -0.03535091575794813,\n",
       " -0.03485091575794841,\n",
       " -0.034850915757948187,\n",
       " -0.0338509157579483,\n",
       " -0.03335091575794835,\n",
       " -0.032850915757948185,\n",
       " -0.03235091575794824,\n",
       " -0.031850915757948295,\n",
       " -0.03135091575794857,\n",
       " -0.030850915757948405,\n",
       " -0.030350915757948238,\n",
       " -0.029350915757948126,\n",
       " -0.028850915757948403,\n",
       " -0.02785091575794829,\n",
       " -0.027350915757948124,\n",
       " -0.026350915757948234,\n",
       " -0.02585091575794829,\n",
       " -0.0248509157579484,\n",
       " -0.023850915757948066,\n",
       " -0.0233509157579479,\n",
       " -0.02235091575794801,\n",
       " -0.021850915757948286,\n",
       " -0.019850915757948284,\n",
       " -0.019850915757948062,\n",
       " -0.01935091575794834,\n",
       " -0.018350915757948227,\n",
       " -0.017850915757948282,\n",
       " -0.017350915757948338,\n",
       " -0.017350915757948115,\n",
       " -0.01685091575794795,\n",
       " -0.016350915757948226,\n",
       " -0.015350915757948336,\n",
       " -0.015350915757948114,\n",
       " -0.014350915757948224,\n",
       " -0.013850915757948279,\n",
       " -0.012850915757948389,\n",
       " -0.012850915757948167,\n",
       " -0.012350915757948444,\n",
       " -0.012350915757948,\n",
       " -0.011850915757948277,\n",
       " -0.01135091575794811,\n",
       " -0.01035091575794822,\n",
       " -0.008850915757948163,\n",
       " -0.008350915757948218,\n",
       " -0.005850915757948272,\n",
       " -0.00585091575794805,\n",
       " -0.00485091575794816,\n",
       " -0.004350915757948215,\n",
       " -0.003350915757948103,\n",
       " -0.002350915757948435,\n",
       " -0.0008509157579479343,\n",
       " -0.0003509157579482114,\n",
       " 0.00014908424205195558,\n",
       " 0.0006490842420516785,\n",
       " 0.0011490842420518455,\n",
       " 0.0016490842420517904,\n",
       " 0.0016490842420520124,\n",
       " 0.0021490842420517353,\n",
       " 0.0026490842420519023,\n",
       " 0.003149084242051625,\n",
       " 0.00364908424205157,\n",
       " 0.003649084242051792,\n",
       " 0.004149084242051737,\n",
       " 0.004649084242051904,\n",
       " 0.005149084242051849,\n",
       " 0.005649084242051572,\n",
       " 0.006149084242051517,\n",
       " 0.006149084242051961,\n",
       " 0.006649084242051684,\n",
       " 0.006649084242051906,\n",
       " 0.007149084242051629,\n",
       " 0.007649084242051574,\n",
       " 0.007649084242052018,\n",
       " 0.00814908424205174,\n",
       " 0.008649084242051464,\n",
       " 0.008649084242051908,\n",
       " 0.00914908424205163,\n",
       " 0.009149084242051853,\n",
       " 0.009149084242052075,\n",
       " 0.009649084242051797,\n",
       " 0.011149084242051632,\n",
       " 0.011649084242051577,\n",
       " 0.0116490842420518,\n",
       " 0.012149084242051744,\n",
       " 0.012649084242051467,\n",
       " 0.013149084242051856,\n",
       " 0.013649084242051801,\n",
       " 0.015149084242051858,\n",
       " 0.01564908424205158,\n",
       " 0.016149084242051748,\n",
       " 0.01614908424205197,\n",
       " 0.017149084242051638,\n",
       " 0.017649084242051583,\n",
       " 0.017649084242051805,\n",
       " 0.01814908424205175,\n",
       " 0.018649084242051694,\n",
       " 0.01914908424205164,\n",
       " 0.02014908424205175,\n",
       " 0.020649084242051696,\n",
       " 0.021149084242051863,\n",
       " 0.022149084242051753,\n",
       " 0.023149084242052087,\n",
       " 0.023649084242051588,\n",
       " 0.0246490842420517,\n",
       " 0.025649084242052034,\n",
       " 0.026149084242051757,\n",
       " 0.027649084242051813,\n",
       " 0.02814908424205176,\n",
       " 0.028649084242051925,\n",
       " 0.02914908424205165,\n",
       " 0.03014908424205176,\n",
       " 0.030649084242051705,\n",
       " 0.031149084242051872,\n",
       " 0.033149084242052096,\n",
       " 0.03414908424205154,\n",
       " 0.03464908424205171,\n",
       " 0.03514908424205143,\n",
       " 0.035149084242051654,\n",
       " 0.035149084242051876,\n",
       " 0.0356490842420516,\n",
       " 0.036149084242051766,\n",
       " 0.03664908424205171,\n",
       " 0.03664908424205193,\n",
       " 0.037149084242051655,\n",
       " 0.03714908424205188,\n",
       " 0.0376490842420516,\n",
       " 0.038149084242051545,\n",
       " 0.03864908424205171,\n",
       " 0.038649084242051934,\n",
       " 0.0396490842420516,\n",
       " 0.039649084242051824,\n",
       " 0.04114908424205166,\n",
       " 0.04214908424205177,\n",
       " 0.042649084242051716,\n",
       " 0.04264908424205194,\n",
       " 0.043649084242051606,\n",
       " 0.04364908424205183,\n",
       " 0.04464908424205172,\n",
       " 0.045149084242051885,\n",
       " 0.04564908424205183,\n",
       " 0.046149084242051774,\n",
       " 0.047149084242051886,\n",
       " 0.04764908424205161,\n",
       " 0.04764908424205205,\n",
       " 0.048149084242051776,\n",
       " 0.048149084242052,\n",
       " 0.0486490842420515,\n",
       " 0.04864908424205172,\n",
       " 0.04964908424205183,\n",
       " 0.050149084242051556,\n",
       " 0.0506490842420515,\n",
       " 0.05064908424205172,\n",
       " 0.050649084242051945,\n",
       " 0.05114908424205189,\n",
       " 0.05214908424205178,\n",
       " 0.05314908424205189,\n",
       " 0.05364908424205139,\n",
       " 0.05364908424205184,\n",
       " 0.05414908424205156,\n",
       " 0.054649084242051726,\n",
       " 0.05514908424205189,\n",
       " 0.05564908424205184,\n",
       " 0.05614908424205178,\n",
       " 0.056649084242051506,\n",
       " 0.05664908424205195,\n",
       " 0.05764908424205184,\n",
       " 0.05814908424205156,\n",
       " 0.058149084242051785,\n",
       " 0.05814908424205201,\n",
       " 0.05864908424205173,\n",
       " 0.059149084242051675,\n",
       " 0.0591490842420519,\n",
       " 0.05964908424205184,\n",
       " 0.06014908424205179,\n",
       " 0.06114908424205168,\n",
       " 0.06214908424205179,\n",
       " 0.06264908424205173,\n",
       " 0.06314908424205168,\n",
       " 0.06364908424205162,\n",
       " 0.06364908424205185,\n",
       " 0.06414908424205179,\n",
       " 0.06514908424205146,\n",
       " 0.06514908424205168,\n",
       " 0.06564908424205163,\n",
       " 0.06564908424205185,\n",
       " 0.06614908424205157,\n",
       " 0.06664908424205152,\n",
       " 0.06664908424205174,\n",
       " 0.06664908424205196,\n",
       " 0.0671490842420519,\n",
       " 0.06764908424205163,\n",
       " 0.06764908424205185,\n",
       " 0.06814908424205157,\n",
       " 0.06864908424205152,\n",
       " 0.06914908424205168,\n",
       " 0.07014908424205157,\n",
       " 0.07114908424205191,\n",
       " 0.07264908424205152,\n",
       " 0.07264908424205174,\n",
       " 0.07314908424205169,\n",
       " 0.07314908424205191,\n",
       " 0.07364908424205185,\n",
       " 0.0741490842420518,\n",
       " 0.07464908424205174,\n",
       " 0.07514908424205147,\n",
       " 0.07514908424205169,\n",
       " 0.07564908424205186,\n",
       " 0.07564908424205208,\n",
       " 0.07614908424205158,\n",
       " 0.07664908424205175,\n",
       " 0.07714908424205169,\n",
       " 0.07814908424205158,\n",
       " 0.0781490842420518,\n",
       " 0.07864908424205153,\n",
       " 0.07914908424205147,\n",
       " 0.07914908424205169,\n",
       " 0.07914908424205191,\n",
       " 0.07964908424205164,\n",
       " 0.0801490842420518,\n",
       " 0.08014908424205203,\n",
       " 0.08164908424205186,\n",
       " 0.08214908424205158,\n",
       " 0.08264908424205175,\n",
       " 0.0831490842420517,\n",
       " 0.08414908424205203,\n",
       " 0.08564908424205164,\n",
       " 0.08614908424205181,\n",
       " 0.08664908424205198,\n",
       " 0.08714908424205192,\n",
       " 0.08764908424205187,\n",
       " 0.08814908424205159,\n",
       " 0.08814908424205181,\n",
       " 0.08864908424205176,\n",
       " 0.0891490842420517,\n",
       " 0.08964908424205165,\n",
       " 0.08964908424205187,\n",
       " 0.0911490842420517,\n",
       " 0.09164908424205165,\n",
       " 0.09164908424205187,\n",
       " 0.09214908424205182,\n",
       " 0.09264908424205154,\n",
       " 0.09264908424205176,\n",
       " 0.09314908424205193,\n",
       " 0.09464908424205176,\n",
       " 0.09564908424205165,\n",
       " 0.09614908424205182,\n",
       " 0.09664908424205154,\n",
       " 0.09664908424205176,\n",
       " 0.09764908424205165,\n",
       " 0.09764908424205188,\n",
       " 0.09914908424205171,\n",
       " 0.09914908424205193,\n",
       " 0.09964908424205166,\n",
       " 0.10164908424205188,\n",
       " 0.10264908424205199,\n",
       " 0.10314908424205194,\n",
       " 0.10414908424205205,\n",
       " 0.10464908424205155,\n",
       " 0.10464908424205177,\n",
       " 0.1051490842420515,\n",
       " 0.10514908424205194,\n",
       " 0.10564908424205166,\n",
       " 0.10664908424205177,\n",
       " 0.10764908424205166,\n",
       " 0.10764908424205188,\n",
       " 0.10864908424205177,\n",
       " 0.10914908424205172,\n",
       " 0.10964908424205189,\n",
       " 0.11064908424205155,\n",
       " 0.11114908424205194,\n",
       " 0.11164908424205189,\n",
       " 0.11314908424205172,\n",
       " 0.11414908424205183,\n",
       " 0.11464908424205178,\n",
       " 0.1151490842420515,\n",
       " 0.11614908424205139,\n",
       " 0.11714908424205173,\n",
       " 0.11764908424205145,\n",
       " 0.11914908424205195,\n",
       " 0.11964908424205167,\n",
       " 0.1196490842420519,\n",
       " 0.12014908424205184,\n",
       " 0.12114908424205151,\n",
       " 0.12314908424205173,\n",
       " 0.12314908424205195,\n",
       " 0.12364908424205168,\n",
       " 0.12414908424205162,\n",
       " 0.12414908424205184,\n",
       " 0.12464908424205179,\n",
       " 0.12514908424205196,\n",
       " 0.12564908424205168,\n",
       " 0.12614908424205185,\n",
       " 0.126649084242052,\n",
       " 0.12714908424205174,\n",
       " 0.12764908424205168,\n",
       " 0.1306490842420518,\n",
       " 0.13064908424205202,\n",
       " 0.13114908424205174,\n",
       " 0.13114908424205196,\n",
       " 0.13164908424205168,\n",
       " 0.1346490842420518,\n",
       " 0.13514908424205152,\n",
       " 0.13514908424205174,\n",
       " 0.1356490842420517,\n",
       " 0.13614908424205185,\n",
       " 0.13664908424205158,\n",
       " 0.1366490842420518,\n",
       " 0.1376490842420519,\n",
       " 0.1406490842420518,\n",
       " 0.14314908424205175,\n",
       " 0.1466490842420518,\n",
       " 0.14814908424205164,\n",
       " 0.14914908424205175,\n",
       " 0.1496490842420517,\n",
       " 0.15114908424205176,\n",
       " 0.15314908424205176,\n",
       " 0.15314908424205198,\n",
       " 0.15414908424205165,\n",
       " 0.15664908424205182,\n",
       " 0.15864908424205182,\n",
       " 0.15914908424205154,\n",
       " 0.15914908424205176,\n",
       " 0.15964908424205193,\n",
       " 0.16114908424205132,\n",
       " 0.161149084242052,\n",
       " 0.163149084242052,\n",
       " nan,\n",
       " -0.4038509157579482,\n",
       " -0.3843509157579481,\n",
       " -0.3793509157579482,\n",
       " -0.3653509157579484,\n",
       " -0.35785091575794836,\n",
       " -0.3268509157579482,\n",
       " -0.3038509157579481,\n",
       " -0.3018509157579483,\n",
       " -0.2968509157579482,\n",
       " -0.28635091575794824,\n",
       " -0.2838509157579485,\n",
       " -0.2788509157579482,\n",
       " -0.2698509157579485,\n",
       " -0.2683509157579482,\n",
       " -0.2633509157579481,\n",
       " -0.2628509157579484,\n",
       " -0.2613509157579481,\n",
       " -0.2588509157579484,\n",
       " -0.25685091575794794,\n",
       " -0.2553509157579483,\n",
       " -0.25385091575794827,\n",
       " -0.2508509157579484,\n",
       " -0.2423509157579482,\n",
       " -0.23835091575794842,\n",
       " -0.23785091575794803,\n",
       " -0.2373509157579481,\n",
       " -0.23685091575794837,\n",
       " -0.2363509157579482,\n",
       " -0.23235091575794797,\n",
       " -0.22685091575794814,\n",
       " -0.22585091575794802,\n",
       " -0.22285091575794835,\n",
       " -0.2223509157579482,\n",
       " -0.21885091575794813,\n",
       " -0.2133509157579485,\n",
       " -0.20685091575794812,\n",
       " -0.20535091575794828,\n",
       " -0.20485091575794812,\n",
       " -0.20085091575794833,\n",
       " -0.19935091575794806,\n",
       " -0.19835091575794817,\n",
       " -0.19835091575794794,\n",
       " -0.195850915757948,\n",
       " -0.19535091575794827,\n",
       " -0.19385091575794822,\n",
       " -0.19335091575794827,\n",
       " -0.1928509157579481,\n",
       " -0.19235091575794838,\n",
       " -0.19235091575794816,\n",
       " -0.19085091575794833,\n",
       " -0.189850915757948,\n",
       " -0.18935091575794827,\n",
       " -0.18885091575794855,\n",
       " -0.18735091575794804,\n",
       " -0.1868509157579481,\n",
       " -0.1858509157579482,\n",
       " -0.18285091575794832,\n",
       " -0.1818509157579482,\n",
       " -0.18185091575794798,\n",
       " -0.18085091575794854,\n",
       " -0.18035091575794837,\n",
       " -0.17935091575794804,\n",
       " -0.17835091575794837,\n",
       " -0.17835091575794815,\n",
       " -0.1778509157579482,\n",
       " -0.17635091575794815,\n",
       " -0.17535091575794826,\n",
       " -0.17435091575794837,\n",
       " -0.17335091575794803,\n",
       " -0.1728509157579483,\n",
       " -0.1728509157579481,\n",
       " -0.17035091575794814,\n",
       " -0.1698509157579482,\n",
       " -0.16935091575794847,\n",
       " -0.16885091575794808,\n",
       " -0.16835091575794836,\n",
       " -0.16635091575794814,\n",
       " -0.16585091575794841,\n",
       " -0.1638509157579482,\n",
       " -0.16235091575794813,\n",
       " -0.16185091575794797,\n",
       " -0.16135091575794824,\n",
       " -0.1598509157579484,\n",
       " -0.15935091575794802,\n",
       " -0.15835091575794835,\n",
       " -0.1578509157579484,\n",
       " -0.15685091575794807,\n",
       " -0.15635091575794813,\n",
       " -0.1558509157579484,\n",
       " -0.15335091575794824,\n",
       " -0.15235091575794857,\n",
       " -0.15185091575794818,\n",
       " -0.15085091575794807,\n",
       " -0.14985091575794818,\n",
       " -0.14835091575794812,\n",
       " -0.14735091575794845,\n",
       " -0.14585091575794795,\n",
       " -0.1448509157579485,\n",
       " -0.14485091575794828,\n",
       " -0.143350915757948,\n",
       " -0.14235091575794834,\n",
       " -0.1418509157579484,\n",
       " -0.14185091575794795,\n",
       " -0.14035091575794834,\n",
       " -0.1403509157579481,\n",
       " -0.13885091575794806,\n",
       " -0.13835091575794833,\n",
       " -0.13585091575794817,\n",
       " -0.13435091575794833,\n",
       " -0.1343509157579481,\n",
       " -0.1343509157579479,\n",
       " -0.13335091575794844,\n",
       " -0.13285091575794827,\n",
       " -0.13235091575794833,\n",
       " -0.13185091575794838,\n",
       " -0.13085091575794805,\n",
       " -0.13035091575794833,\n",
       " -0.1288509157579485,\n",
       " -0.1283509157579481,\n",
       " -0.12685091575794827,\n",
       " -0.12685091575794805,\n",
       " -0.12635091575794832,\n",
       " -0.12585091575794838,\n",
       " -0.1253509157579482,\n",
       " -0.12435091575794832,\n",
       " -0.12335091575794799,\n",
       " -0.12285091575794826,\n",
       " -0.12185091575794837,\n",
       " -0.12185091575794815,\n",
       " -0.12135091575794799,\n",
       " -0.12085091575794826,\n",
       " -0.11985091575794837,\n",
       " -0.1193509157579482,\n",
       " -0.11885091575794826,\n",
       " -0.11885091575794804,\n",
       " -0.11835091575794854,\n",
       " -0.11835091575794832,\n",
       " -0.11685091575794804,\n",
       " -0.1153509157579482,\n",
       " -0.11435091575794831,\n",
       " -0.11335091575794842,\n",
       " -0.11185091575794837,\n",
       " -0.11135091575794864,\n",
       " -0.11085091575794803,\n",
       " -0.11035091575794831,\n",
       " -0.11035091575794809,\n",
       " -0.10985091575794836,\n",
       " -0.10985091575794814,\n",
       " -0.10885091575794803,\n",
       " -0.10735091575794842,\n",
       " -0.10635091575794808,\n",
       " -0.10585091575794836,\n",
       " -0.10535091575794842,\n",
       " -0.1053509157579482,\n",
       " -0.10485091575794803,\n",
       " -0.1043509157579483,\n",
       " -0.10385091575794814,\n",
       " -0.10335091575794841,\n",
       " -0.10185091575794836,\n",
       " -0.10085091575794825,\n",
       " -0.09985091575794836,\n",
       " -0.09935091575794841,\n",
       " -0.09935091575794797,\n",
       " -0.09885091575794824,\n",
       " -0.09885091575794802,\n",
       " -0.09835091575794808,\n",
       " -0.09785091575794813,\n",
       " -0.09735091575794819,\n",
       " -0.09735091575794796,\n",
       " -0.09685091575794824,\n",
       " -0.09585091575794835,\n",
       " -0.09435091575794807,\n",
       " -0.09385091575794835,\n",
       " -0.09385091575794813,\n",
       " -0.09335091575794818,\n",
       " -0.09285091575794846,\n",
       " -0.09235091575794807,\n",
       " -0.0913509157579484,\n",
       " -0.09135091575794818,\n",
       " -0.09085091575794824,\n",
       " -0.0893509157579484,\n",
       " -0.08935091575794818,\n",
       " -0.08935091575794796,\n",
       " -0.08685091575794823,\n",
       " -0.08635091575794851,\n",
       " -0.08635091575794807,\n",
       " -0.08585091575794834,\n",
       " -0.0853509157579484,\n",
       " -0.08485091575794845,\n",
       " -0.08485091575794801,\n",
       " -0.08435091575794829,\n",
       " -0.08435091575794806,\n",
       " -0.08435091575794784,\n",
       " -0.08335091575794817,\n",
       " -0.08285091575794845,\n",
       " -0.08185091575794812,\n",
       " -0.08135091575794862,\n",
       " -0.08135091575794817,\n",
       " -0.08085091575794823,\n",
       " -0.08035091575794806,\n",
       " -0.07985091575794834,\n",
       " -0.07985091575794812,\n",
       " -0.07935091575794817,\n",
       " -0.07785091575794834,\n",
       " -0.07685091575794822,\n",
       " -0.07635091575794828,\n",
       " -0.07585091575794833,\n",
       " -0.07535091575794839,\n",
       " -0.07485091575794844,\n",
       " -0.07435091575794828,\n",
       " -0.07385091575794855,\n",
       " -0.07335091575794839,\n",
       " -0.07335091575794794,\n",
       " -0.07185091575794833,\n",
       " -0.07185091575794811,\n",
       " -0.07135091575794816,\n",
       " -0.07085091575794844,\n",
       " -0.070850915757948,\n",
       " -0.07035091575794805,\n",
       " -0.0698509157579481,\n",
       " -0.06935091575794838,\n",
       " -0.06885091575794822,\n",
       " -0.0683509157579485,\n",
       " -0.0678509157579481,\n",
       " -0.06735091575794838,\n",
       " -0.06735091575794816,\n",
       " -0.06685091575794844,\n",
       " -0.06685091575794821,\n",
       " -0.0658509157579481,\n",
       " -0.06385091575794832,\n",
       " -0.06335091575794838,\n",
       " -0.06335091575794816,\n",
       " -0.06285091575794843,\n",
       " -0.06285091575794821,\n",
       " -0.06235091575794849,\n",
       " -0.062350915757948044,\n",
       " -0.06185091575794832,\n",
       " -0.06085091575794821,\n",
       " -0.060350915757948265,\n",
       " -0.05935091575794815,\n",
       " -0.058350915757948485,\n",
       " -0.05785091575794832,\n",
       " -0.057850915757948096,\n",
       " -0.05735091575794837,\n",
       " -0.056850915757948206,\n",
       " -0.056850915757947984,\n",
       " -0.055850915757948316,\n",
       " -0.05435091575794804,\n",
       " -0.053850915757948536,\n",
       " -0.05335091575794815,\n",
       " -0.053350915757947925,\n",
       " -0.052850915757948425,\n",
       " -0.0528509157579482,\n",
       " -0.05235091575794848,\n",
       " -0.05235091575794826,\n",
       " -0.05185091575794831,\n",
       " -0.05085091575794842,\n",
       " -0.0508509157579482,\n",
       " -0.05085091575794798,\n",
       " -0.04985091575794853,\n",
       " -0.04935091575794792,\n",
       " -0.04885091575794798,\n",
       " -0.048350915757948254,\n",
       " -0.04785091575794831,\n",
       " -0.04785091575794809,\n",
       " -0.047350915757948586,\n",
       " -0.04735091575794792,\n",
       " -0.04685091575794842,\n",
       " -0.0468509157579482,\n",
       " -0.04635091575794825,\n",
       " -0.04385091575794853,\n",
       " -0.04335091575794836,\n",
       " -0.042850915757948194,\n",
       " -0.041850915757948304,\n",
       " -0.04185091575794786,\n",
       " -0.04135091575794814,\n",
       " -0.04085091575794819,\n",
       " -0.04035091575794825,\n",
       " -0.039850915757948524,\n",
       " -0.0398509157579483,\n",
       " -0.038350915757948245,\n",
       " -0.03785091575794808,\n",
       " -0.03685091575794819,\n",
       " -0.03435091575794824,\n",
       " -0.03385091575794852,\n",
       " -0.033850915757948075,\n",
       " -0.03235091575794846,\n",
       " -0.03135091575794813,\n",
       " -0.030850915757948183,\n",
       " -0.029850915757948293,\n",
       " -0.029350915757948348,\n",
       " -0.02885091575794818,\n",
       " -0.028350915757948236,\n",
       " -0.02785091575794807,\n",
       " -0.027350915757948346,\n",
       " -0.0268509157579484,\n",
       " -0.02685091575794818,\n",
       " -0.026350915757948012,\n",
       " -0.025850915757948068,\n",
       " -0.025350915757948123,\n",
       " -0.024350915757948455,\n",
       " -0.024350915757948233,\n",
       " -0.02435091575794801,\n",
       " -0.02385091575794851,\n",
       " -0.023850915757948288,\n",
       " -0.023350915757948343,\n",
       " -0.02335091575794812,\n",
       " -0.022850915757948176,\n",
       " -0.022350915757948453,\n",
       " -0.02235091575794823,\n",
       " -0.02135091575794834,\n",
       " -0.020850915757948396,\n",
       " -0.020850915757948174,\n",
       " -0.020850915757947952,\n",
       " -0.02035091575794845,\n",
       " -0.02035091575794823,\n",
       " -0.019350915757948117,\n",
       " -0.018850915757948394,\n",
       " -0.018850915757948172,\n",
       " -0.01835091575794845,\n",
       " -0.016850915757948393,\n",
       " -0.01685091575794817,\n",
       " -0.016350915757948004,\n",
       " -0.01585091575794828,\n",
       " -0.01585091575794806,\n",
       " -0.01485091575794839,\n",
       " -0.014350915757948446,\n",
       " -0.013850915757948501,\n",
       " -0.013850915757948057,\n",
       " -0.013350915757948556,\n",
       " -0.013350915757948112,\n",
       " -0.01335091575794789,\n",
       " -0.011350915757948554,\n",
       " -0.011350915757948332,\n",
       " -0.010850915757948387,\n",
       " -0.010850915757947943,\n",
       " -0.009850915757948053,\n",
       " -0.008850915757948385,\n",
       " -0.00835091575794844,\n",
       " -0.007850915757948274,\n",
       " -0.007850915757948052,\n",
       " -0.007350915757948107,\n",
       " -0.006850915757948384,\n",
       " -0.006850915757948162,\n",
       " -0.006350915757948217,\n",
       " -0.005350915757948327,\n",
       " -0.004850915757947938,\n",
       " -0.004350915757948437,\n",
       " -0.004350915757947993,\n",
       " -0.00385091575794827,\n",
       " -0.003850915757948048,\n",
       " -0.003350915757948325,\n",
       " -0.002850915757948158,\n",
       " -0.002350915757948213,\n",
       " -0.0018509157579482682,\n",
       " -0.0018509157579480462,\n",
       " -0.0013509157579485453,\n",
       " -0.0013509157579481013,\n",
       " -0.0008509157579483784,\n",
       " -0.0008509157579481563,\n",
       " -0.00035091575794843344,\n",
       " 0.00014908424205173354,\n",
       " 0.0011490842420516234,\n",
       " 0.0016490842420515683,\n",
       " 0.0021490842420519574,\n",
       " 0.0026490842420516802,\n",
       " 0.0031490842420518472,\n",
       " 0.0031490842420520693,\n",
       " 0.004649084242051682,\n",
       " 0.005649084242051794,\n",
       " 0.006149084242051739,\n",
       " 0.007149084242051851,\n",
       " 0.008149084242051963,\n",
       " 0.008649084242051686,\n",
       " 0.01014908424205152,\n",
       " 0.01064908424205191,\n",
       " 0.010649084242052131,\n",
       " 0.011149084242051854,\n",
       " 0.011649084242052021,\n",
       " 0.012649084242051911,\n",
       " 0.013149084242051634,\n",
       " 0.013149084242052078,\n",
       " 0.013649084242051357,\n",
       " 0.014149084242051524,\n",
       " 0.014649084242051691,\n",
       " 0.014649084242051913,\n",
       " 0.01514908424205208,\n",
       " 0.015649084242052025,\n",
       " 0.01664908424205147,\n",
       " 0.016649084242051693,\n",
       " 0.016649084242051915,\n",
       " 0.01714908424205186,\n",
       " 0.017649084242052027,\n",
       " 0.018149084242051527,\n",
       " 0.01814908424205197,\n",
       " 0.018649084242051917,\n",
       " 0.019649084242051806,\n",
       " 0.02014908424205153,\n",
       " 0.02114908424205164,\n",
       " 0.021649084242051586,\n",
       " 0.021649084242051808,\n",
       " 0.02264908424205192,\n",
       " 0.023149084242051643,\n",
       " 0.02364908424205181,\n",
       " 0.024149084242051533,\n",
       " 0.024149084242051755,\n",
       " 0.024149084242051977,\n",
       " 0.024649084242051922,\n",
       " 0.025149084242051645,\n",
       " 0.025149084242051867,\n",
       " 0.02564908424205159,\n",
       " 0.02564908424205181,\n",
       " 0.02614908424205198,\n",
       " 0.02714908424205187,\n",
       " 0.02764908424205159,\n",
       " 0.027649084242052036,\n",
       " 0.028649084242051703,\n",
       " 0.029149084242052092,\n",
       " 0.029649084242051815,\n",
       " 0.030149084242051982,\n",
       " 0.031649084242051595,\n",
       " 0.03164908424205182,\n",
       " 0.03214908424205176,\n",
       " 0.03264908424205193,\n",
       " 0.03314908424205165,\n",
       " 0.033149084242051874,\n",
       " 0.03364908424205182,\n",
       " 0.034149084242051764,\n",
       " 0.034149084242051986,\n",
       " 0.03464908424205193,\n",
       " 0.03564908424205182,\n",
       " 0.03564908424205204,\n",
       " 0.03814908424205177,\n",
       " 0.03914908424205188,\n",
       " 0.04014908424205155,\n",
       " 0.04014908424205177,\n",
       " 0.04014908424205199,\n",
       " 0.040649084242051714,\n",
       " 0.04114908424205188,\n",
       " 0.041649084242051604,\n",
       " 0.043149084242052105,\n",
       " 0.043649084242051384,\n",
       " 0.04414908424205155,\n",
       " 0.04414908424205177,\n",
       " 0.04564908424205161,\n",
       " 0.04564908424205205,\n",
       " 0.04664908424205194,\n",
       " 0.048149084242051554,\n",
       " 0.049149084242051666,\n",
       " 0.04914908424205211,\n",
       " 0.05014908424205178,\n",
       " 0.050149084242052,\n",
       " 0.05114908424205167,\n",
       " 0.05164908424205161,\n",
       " 0.051649084242051835,\n",
       " 0.0526490842420515,\n",
       " 0.054149084242052004,\n",
       " 0.05514908424205145,\n",
       " 0.055649084242051616,\n",
       " 0.05564908424205206,\n",
       " 0.05664908424205173,\n",
       " 0.05714908424205167,\n",
       " 0.05864908424205151,\n",
       " 0.05864908424205195,\n",
       " 0.05964908424205162,\n",
       " 0.060149084242051565,\n",
       " 0.06014908424205201,\n",
       " 0.060649084242051954,\n",
       " 0.0611490842420519,\n",
       " 0.06164908424205162,\n",
       " 0.06264908424205196,\n",
       " 0.06414908424205157,\n",
       " 0.06464908424205174,\n",
       " 0.06464908424205196,\n",
       " 0.0651490842420519,\n",
       " 0.06564908424205207,\n",
       " 0.06614908424205179,\n",
       " 0.06714908424205168,\n",
       " 0.0681490842420518,\n",
       " 0.06864908424205196,\n",
       " 0.06914908424205146,\n",
       " 0.06914908424205213,\n",
       " 0.06964908424205163,\n",
       " 0.06964908424205185,\n",
       " 0.0701490842420518,\n",
       " 0.07064908424205174,\n",
       " 0.07114908424205169,\n",
       " 0.0721490842420518,\n",
       " 0.07414908424205158,\n",
       " 0.07414908424205202,\n",
       " ...]"
      ]
     },
     "execution_count": 27,
     "metadata": {},
     "output_type": "execute_result"
    }
   ],
   "source": [
    "sorted(tfixedgaze['Pupil'].unique())"
   ]
  },
  {
   "cell_type": "code",
   "execution_count": 28,
   "metadata": {},
   "outputs": [],
   "source": [
    "for val in tfixedgaze['Pupil']:\n",
    "    if val < 0:\n",
    "        tfixedgaze.loc[tfixedgaze['Pupil'] == val,'PupilDilation'] = 'Squeezed Pupil '\n",
    "    elif val > 0:\n",
    "        tfixedgaze.loc[tfixedgaze['Pupil'] == val,'PupilDilation'] = 'Dilated Pupil'"
   ]
  },
  {
   "cell_type": "code",
   "execution_count": 29,
   "metadata": {},
   "outputs": [],
   "source": [
    "tfixedgaze['Minutes'] = tfixedgaze['Time'].apply(lambda x:x/60000)"
   ]
  },
  {
   "cell_type": "code",
   "execution_count": 30,
   "metadata": {},
   "outputs": [
    {
     "data": {
      "text/html": [
       "<div>\n",
       "<style scoped>\n",
       "    .dataframe tbody tr th:only-of-type {\n",
       "        vertical-align: middle;\n",
       "    }\n",
       "\n",
       "    .dataframe tbody tr th {\n",
       "        vertical-align: top;\n",
       "    }\n",
       "\n",
       "    .dataframe thead th {\n",
       "        text-align: right;\n",
       "    }\n",
       "</style>\n",
       "<table border=\"1\" class=\"dataframe\">\n",
       "  <thead>\n",
       "    <tr style=\"text-align: right;\">\n",
       "      <th></th>\n",
       "      <th>Time</th>\n",
       "      <th>Duration</th>\n",
       "      <th>X</th>\n",
       "      <th>Y</th>\n",
       "      <th>Screen X</th>\n",
       "      <th>Screen Y</th>\n",
       "      <th>Pupil</th>\n",
       "      <th>Dist</th>\n",
       "      <th>PupilDilation</th>\n",
       "      <th>Minutes</th>\n",
       "    </tr>\n",
       "  </thead>\n",
       "  <tbody>\n",
       "    <tr>\n",
       "      <th>1</th>\n",
       "      <td>504</td>\n",
       "      <td>140</td>\n",
       "      <td>705</td>\n",
       "      <td>553</td>\n",
       "      <td>NaN</td>\n",
       "      <td>NaN</td>\n",
       "      <td>NaN</td>\n",
       "      <td>NaN</td>\n",
       "      <td>NaN</td>\n",
       "      <td>0.008400</td>\n",
       "    </tr>\n",
       "    <tr>\n",
       "      <th>5</th>\n",
       "      <td>3534</td>\n",
       "      <td>120</td>\n",
       "      <td>134</td>\n",
       "      <td>189</td>\n",
       "      <td>NaN</td>\n",
       "      <td>NaN</td>\n",
       "      <td>NaN</td>\n",
       "      <td>NaN</td>\n",
       "      <td>NaN</td>\n",
       "      <td>0.058900</td>\n",
       "    </tr>\n",
       "    <tr>\n",
       "      <th>9</th>\n",
       "      <td>5568</td>\n",
       "      <td>100</td>\n",
       "      <td>686</td>\n",
       "      <td>432</td>\n",
       "      <td>NaN</td>\n",
       "      <td>NaN</td>\n",
       "      <td>NaN</td>\n",
       "      <td>NaN</td>\n",
       "      <td>NaN</td>\n",
       "      <td>0.092800</td>\n",
       "    </tr>\n",
       "    <tr>\n",
       "      <th>23</th>\n",
       "      <td>10891</td>\n",
       "      <td>100</td>\n",
       "      <td>554</td>\n",
       "      <td>204</td>\n",
       "      <td>NaN</td>\n",
       "      <td>NaN</td>\n",
       "      <td>NaN</td>\n",
       "      <td>NaN</td>\n",
       "      <td>NaN</td>\n",
       "      <td>0.181517</td>\n",
       "    </tr>\n",
       "    <tr>\n",
       "      <th>24</th>\n",
       "      <td>11130</td>\n",
       "      <td>319</td>\n",
       "      <td>698</td>\n",
       "      <td>212</td>\n",
       "      <td>NaN</td>\n",
       "      <td>NaN</td>\n",
       "      <td>NaN</td>\n",
       "      <td>NaN</td>\n",
       "      <td>NaN</td>\n",
       "      <td>0.185500</td>\n",
       "    </tr>\n",
       "    <tr>\n",
       "      <th>49</th>\n",
       "      <td>20262</td>\n",
       "      <td>1196</td>\n",
       "      <td>622</td>\n",
       "      <td>206</td>\n",
       "      <td>NaN</td>\n",
       "      <td>NaN</td>\n",
       "      <td>NaN</td>\n",
       "      <td>NaN</td>\n",
       "      <td>NaN</td>\n",
       "      <td>0.337700</td>\n",
       "    </tr>\n",
       "    <tr>\n",
       "      <th>52</th>\n",
       "      <td>22235</td>\n",
       "      <td>518</td>\n",
       "      <td>619</td>\n",
       "      <td>207</td>\n",
       "      <td>NaN</td>\n",
       "      <td>NaN</td>\n",
       "      <td>NaN</td>\n",
       "      <td>NaN</td>\n",
       "      <td>NaN</td>\n",
       "      <td>0.370583</td>\n",
       "    </tr>\n",
       "    <tr>\n",
       "      <th>72</th>\n",
       "      <td>32782</td>\n",
       "      <td>1057</td>\n",
       "      <td>612</td>\n",
       "      <td>231</td>\n",
       "      <td>NaN</td>\n",
       "      <td>NaN</td>\n",
       "      <td>NaN</td>\n",
       "      <td>NaN</td>\n",
       "      <td>NaN</td>\n",
       "      <td>0.546367</td>\n",
       "    </tr>\n",
       "    <tr>\n",
       "      <th>92</th>\n",
       "      <td>41276</td>\n",
       "      <td>199</td>\n",
       "      <td>730</td>\n",
       "      <td>265</td>\n",
       "      <td>NaN</td>\n",
       "      <td>NaN</td>\n",
       "      <td>NaN</td>\n",
       "      <td>NaN</td>\n",
       "      <td>NaN</td>\n",
       "      <td>0.687933</td>\n",
       "    </tr>\n",
       "    <tr>\n",
       "      <th>101</th>\n",
       "      <td>44486</td>\n",
       "      <td>100</td>\n",
       "      <td>604</td>\n",
       "      <td>272</td>\n",
       "      <td>NaN</td>\n",
       "      <td>NaN</td>\n",
       "      <td>NaN</td>\n",
       "      <td>NaN</td>\n",
       "      <td>NaN</td>\n",
       "      <td>0.741433</td>\n",
       "    </tr>\n",
       "    <tr>\n",
       "      <th>111</th>\n",
       "      <td>47775</td>\n",
       "      <td>140</td>\n",
       "      <td>505</td>\n",
       "      <td>270</td>\n",
       "      <td>NaN</td>\n",
       "      <td>NaN</td>\n",
       "      <td>NaN</td>\n",
       "      <td>NaN</td>\n",
       "      <td>NaN</td>\n",
       "      <td>0.796250</td>\n",
       "    </tr>\n",
       "    <tr>\n",
       "      <th>116</th>\n",
       "      <td>49370</td>\n",
       "      <td>279</td>\n",
       "      <td>450</td>\n",
       "      <td>233</td>\n",
       "      <td>NaN</td>\n",
       "      <td>NaN</td>\n",
       "      <td>NaN</td>\n",
       "      <td>NaN</td>\n",
       "      <td>NaN</td>\n",
       "      <td>0.822833</td>\n",
       "    </tr>\n",
       "    <tr>\n",
       "      <th>136</th>\n",
       "      <td>56468</td>\n",
       "      <td>100</td>\n",
       "      <td>256</td>\n",
       "      <td>281</td>\n",
       "      <td>NaN</td>\n",
       "      <td>NaN</td>\n",
       "      <td>NaN</td>\n",
       "      <td>NaN</td>\n",
       "      <td>NaN</td>\n",
       "      <td>0.941133</td>\n",
       "    </tr>\n",
       "    <tr>\n",
       "      <th>137</th>\n",
       "      <td>56667</td>\n",
       "      <td>100</td>\n",
       "      <td>70</td>\n",
       "      <td>286</td>\n",
       "      <td>NaN</td>\n",
       "      <td>NaN</td>\n",
       "      <td>NaN</td>\n",
       "      <td>NaN</td>\n",
       "      <td>NaN</td>\n",
       "      <td>0.944450</td>\n",
       "    </tr>\n",
       "    <tr>\n",
       "      <th>154</th>\n",
       "      <td>62489</td>\n",
       "      <td>140</td>\n",
       "      <td>318</td>\n",
       "      <td>233</td>\n",
       "      <td>NaN</td>\n",
       "      <td>NaN</td>\n",
       "      <td>NaN</td>\n",
       "      <td>NaN</td>\n",
       "      <td>NaN</td>\n",
       "      <td>1.041483</td>\n",
       "    </tr>\n",
       "    <tr>\n",
       "      <th>157</th>\n",
       "      <td>64583</td>\n",
       "      <td>259</td>\n",
       "      <td>446</td>\n",
       "      <td>246</td>\n",
       "      <td>NaN</td>\n",
       "      <td>NaN</td>\n",
       "      <td>NaN</td>\n",
       "      <td>NaN</td>\n",
       "      <td>NaN</td>\n",
       "      <td>1.076383</td>\n",
       "    </tr>\n",
       "    <tr>\n",
       "      <th>159</th>\n",
       "      <td>65360</td>\n",
       "      <td>319</td>\n",
       "      <td>271</td>\n",
       "      <td>226</td>\n",
       "      <td>NaN</td>\n",
       "      <td>NaN</td>\n",
       "      <td>NaN</td>\n",
       "      <td>NaN</td>\n",
       "      <td>NaN</td>\n",
       "      <td>1.089333</td>\n",
       "    </tr>\n",
       "    <tr>\n",
       "      <th>160</th>\n",
       "      <td>65759</td>\n",
       "      <td>100</td>\n",
       "      <td>94</td>\n",
       "      <td>239</td>\n",
       "      <td>NaN</td>\n",
       "      <td>NaN</td>\n",
       "      <td>NaN</td>\n",
       "      <td>NaN</td>\n",
       "      <td>NaN</td>\n",
       "      <td>1.095983</td>\n",
       "    </tr>\n",
       "    <tr>\n",
       "      <th>164</th>\n",
       "      <td>66856</td>\n",
       "      <td>479</td>\n",
       "      <td>437</td>\n",
       "      <td>241</td>\n",
       "      <td>NaN</td>\n",
       "      <td>NaN</td>\n",
       "      <td>NaN</td>\n",
       "      <td>NaN</td>\n",
       "      <td>NaN</td>\n",
       "      <td>1.114267</td>\n",
       "    </tr>\n",
       "    <tr>\n",
       "      <th>179</th>\n",
       "      <td>72338</td>\n",
       "      <td>100</td>\n",
       "      <td>430</td>\n",
       "      <td>237</td>\n",
       "      <td>NaN</td>\n",
       "      <td>NaN</td>\n",
       "      <td>NaN</td>\n",
       "      <td>NaN</td>\n",
       "      <td>NaN</td>\n",
       "      <td>1.205633</td>\n",
       "    </tr>\n",
       "    <tr>\n",
       "      <th>183</th>\n",
       "      <td>74492</td>\n",
       "      <td>419</td>\n",
       "      <td>444</td>\n",
       "      <td>221</td>\n",
       "      <td>NaN</td>\n",
       "      <td>NaN</td>\n",
       "      <td>NaN</td>\n",
       "      <td>NaN</td>\n",
       "      <td>NaN</td>\n",
       "      <td>1.241533</td>\n",
       "    </tr>\n",
       "    <tr>\n",
       "      <th>191</th>\n",
       "      <td>79456</td>\n",
       "      <td>160</td>\n",
       "      <td>291</td>\n",
       "      <td>222</td>\n",
       "      <td>NaN</td>\n",
       "      <td>NaN</td>\n",
       "      <td>NaN</td>\n",
       "      <td>NaN</td>\n",
       "      <td>NaN</td>\n",
       "      <td>1.324267</td>\n",
       "    </tr>\n",
       "    <tr>\n",
       "      <th>192</th>\n",
       "      <td>79635</td>\n",
       "      <td>299</td>\n",
       "      <td>273</td>\n",
       "      <td>241</td>\n",
       "      <td>NaN</td>\n",
       "      <td>NaN</td>\n",
       "      <td>NaN</td>\n",
       "      <td>NaN</td>\n",
       "      <td>NaN</td>\n",
       "      <td>1.327250</td>\n",
       "    </tr>\n",
       "    <tr>\n",
       "      <th>193</th>\n",
       "      <td>80134</td>\n",
       "      <td>399</td>\n",
       "      <td>264</td>\n",
       "      <td>228</td>\n",
       "      <td>NaN</td>\n",
       "      <td>NaN</td>\n",
       "      <td>NaN</td>\n",
       "      <td>NaN</td>\n",
       "      <td>NaN</td>\n",
       "      <td>1.335567</td>\n",
       "    </tr>\n",
       "    <tr>\n",
       "      <th>195</th>\n",
       "      <td>81131</td>\n",
       "      <td>199</td>\n",
       "      <td>64</td>\n",
       "      <td>238</td>\n",
       "      <td>NaN</td>\n",
       "      <td>NaN</td>\n",
       "      <td>NaN</td>\n",
       "      <td>NaN</td>\n",
       "      <td>NaN</td>\n",
       "      <td>1.352183</td>\n",
       "    </tr>\n",
       "    <tr>\n",
       "      <th>196</th>\n",
       "      <td>81450</td>\n",
       "      <td>578</td>\n",
       "      <td>273</td>\n",
       "      <td>247</td>\n",
       "      <td>NaN</td>\n",
       "      <td>NaN</td>\n",
       "      <td>NaN</td>\n",
       "      <td>NaN</td>\n",
       "      <td>NaN</td>\n",
       "      <td>1.357500</td>\n",
       "    </tr>\n",
       "    <tr>\n",
       "      <th>201</th>\n",
       "      <td>83424</td>\n",
       "      <td>778</td>\n",
       "      <td>616</td>\n",
       "      <td>265</td>\n",
       "      <td>NaN</td>\n",
       "      <td>NaN</td>\n",
       "      <td>NaN</td>\n",
       "      <td>NaN</td>\n",
       "      <td>NaN</td>\n",
       "      <td>1.390400</td>\n",
       "    </tr>\n",
       "    <tr>\n",
       "      <th>203</th>\n",
       "      <td>84819</td>\n",
       "      <td>419</td>\n",
       "      <td>610</td>\n",
       "      <td>270</td>\n",
       "      <td>NaN</td>\n",
       "      <td>NaN</td>\n",
       "      <td>NaN</td>\n",
       "      <td>NaN</td>\n",
       "      <td>NaN</td>\n",
       "      <td>1.413650</td>\n",
       "    </tr>\n",
       "    <tr>\n",
       "      <th>206</th>\n",
       "      <td>85716</td>\n",
       "      <td>100</td>\n",
       "      <td>509</td>\n",
       "      <td>296</td>\n",
       "      <td>NaN</td>\n",
       "      <td>NaN</td>\n",
       "      <td>NaN</td>\n",
       "      <td>NaN</td>\n",
       "      <td>NaN</td>\n",
       "      <td>1.428600</td>\n",
       "    </tr>\n",
       "    <tr>\n",
       "      <th>210</th>\n",
       "      <td>87690</td>\n",
       "      <td>618</td>\n",
       "      <td>523</td>\n",
       "      <td>304</td>\n",
       "      <td>NaN</td>\n",
       "      <td>NaN</td>\n",
       "      <td>NaN</td>\n",
       "      <td>NaN</td>\n",
       "      <td>NaN</td>\n",
       "      <td>1.461500</td>\n",
       "    </tr>\n",
       "    <tr>\n",
       "      <th>...</th>\n",
       "      <td>...</td>\n",
       "      <td>...</td>\n",
       "      <td>...</td>\n",
       "      <td>...</td>\n",
       "      <td>...</td>\n",
       "      <td>...</td>\n",
       "      <td>...</td>\n",
       "      <td>...</td>\n",
       "      <td>...</td>\n",
       "      <td>...</td>\n",
       "    </tr>\n",
       "    <tr>\n",
       "      <th>2299</th>\n",
       "      <td>1218724</td>\n",
       "      <td>339</td>\n",
       "      <td>733</td>\n",
       "      <td>538</td>\n",
       "      <td>NaN</td>\n",
       "      <td>NaN</td>\n",
       "      <td>NaN</td>\n",
       "      <td>NaN</td>\n",
       "      <td>NaN</td>\n",
       "      <td>20.312067</td>\n",
       "    </tr>\n",
       "    <tr>\n",
       "      <th>2305</th>\n",
       "      <td>1223011</td>\n",
       "      <td>100</td>\n",
       "      <td>752</td>\n",
       "      <td>793</td>\n",
       "      <td>NaN</td>\n",
       "      <td>NaN</td>\n",
       "      <td>NaN</td>\n",
       "      <td>NaN</td>\n",
       "      <td>NaN</td>\n",
       "      <td>20.383517</td>\n",
       "    </tr>\n",
       "    <tr>\n",
       "      <th>2309</th>\n",
       "      <td>1226500</td>\n",
       "      <td>100</td>\n",
       "      <td>806</td>\n",
       "      <td>812</td>\n",
       "      <td>NaN</td>\n",
       "      <td>NaN</td>\n",
       "      <td>NaN</td>\n",
       "      <td>NaN</td>\n",
       "      <td>NaN</td>\n",
       "      <td>20.441667</td>\n",
       "    </tr>\n",
       "    <tr>\n",
       "      <th>2311</th>\n",
       "      <td>1227297</td>\n",
       "      <td>100</td>\n",
       "      <td>48</td>\n",
       "      <td>670</td>\n",
       "      <td>NaN</td>\n",
       "      <td>NaN</td>\n",
       "      <td>NaN</td>\n",
       "      <td>NaN</td>\n",
       "      <td>NaN</td>\n",
       "      <td>20.454950</td>\n",
       "    </tr>\n",
       "    <tr>\n",
       "      <th>2312</th>\n",
       "      <td>1227816</td>\n",
       "      <td>120</td>\n",
       "      <td>45</td>\n",
       "      <td>679</td>\n",
       "      <td>NaN</td>\n",
       "      <td>NaN</td>\n",
       "      <td>NaN</td>\n",
       "      <td>NaN</td>\n",
       "      <td>NaN</td>\n",
       "      <td>20.463600</td>\n",
       "    </tr>\n",
       "    <tr>\n",
       "      <th>2322</th>\n",
       "      <td>1237824</td>\n",
       "      <td>259</td>\n",
       "      <td>85</td>\n",
       "      <td>676</td>\n",
       "      <td>NaN</td>\n",
       "      <td>NaN</td>\n",
       "      <td>NaN</td>\n",
       "      <td>NaN</td>\n",
       "      <td>NaN</td>\n",
       "      <td>20.630400</td>\n",
       "    </tr>\n",
       "    <tr>\n",
       "      <th>2333</th>\n",
       "      <td>1254392</td>\n",
       "      <td>100</td>\n",
       "      <td>740</td>\n",
       "      <td>519</td>\n",
       "      <td>NaN</td>\n",
       "      <td>NaN</td>\n",
       "      <td>NaN</td>\n",
       "      <td>NaN</td>\n",
       "      <td>NaN</td>\n",
       "      <td>20.906533</td>\n",
       "    </tr>\n",
       "    <tr>\n",
       "      <th>2337</th>\n",
       "      <td>1257303</td>\n",
       "      <td>140</td>\n",
       "      <td>725</td>\n",
       "      <td>795</td>\n",
       "      <td>NaN</td>\n",
       "      <td>NaN</td>\n",
       "      <td>NaN</td>\n",
       "      <td>NaN</td>\n",
       "      <td>NaN</td>\n",
       "      <td>20.955050</td>\n",
       "    </tr>\n",
       "    <tr>\n",
       "      <th>2342</th>\n",
       "      <td>1260732</td>\n",
       "      <td>100</td>\n",
       "      <td>695</td>\n",
       "      <td>771</td>\n",
       "      <td>NaN</td>\n",
       "      <td>NaN</td>\n",
       "      <td>NaN</td>\n",
       "      <td>NaN</td>\n",
       "      <td>NaN</td>\n",
       "      <td>21.012200</td>\n",
       "    </tr>\n",
       "    <tr>\n",
       "      <th>2343</th>\n",
       "      <td>1260992</td>\n",
       "      <td>140</td>\n",
       "      <td>688</td>\n",
       "      <td>752</td>\n",
       "      <td>NaN</td>\n",
       "      <td>NaN</td>\n",
       "      <td>NaN</td>\n",
       "      <td>NaN</td>\n",
       "      <td>NaN</td>\n",
       "      <td>21.016533</td>\n",
       "    </tr>\n",
       "    <tr>\n",
       "      <th>2344</th>\n",
       "      <td>1261191</td>\n",
       "      <td>120</td>\n",
       "      <td>684</td>\n",
       "      <td>764</td>\n",
       "      <td>NaN</td>\n",
       "      <td>NaN</td>\n",
       "      <td>NaN</td>\n",
       "      <td>NaN</td>\n",
       "      <td>NaN</td>\n",
       "      <td>21.019850</td>\n",
       "    </tr>\n",
       "    <tr>\n",
       "      <th>2345</th>\n",
       "      <td>1261690</td>\n",
       "      <td>120</td>\n",
       "      <td>715</td>\n",
       "      <td>528</td>\n",
       "      <td>NaN</td>\n",
       "      <td>NaN</td>\n",
       "      <td>NaN</td>\n",
       "      <td>NaN</td>\n",
       "      <td>NaN</td>\n",
       "      <td>21.028167</td>\n",
       "    </tr>\n",
       "    <tr>\n",
       "      <th>2350</th>\n",
       "      <td>1263364</td>\n",
       "      <td>100</td>\n",
       "      <td>690</td>\n",
       "      <td>583</td>\n",
       "      <td>NaN</td>\n",
       "      <td>NaN</td>\n",
       "      <td>NaN</td>\n",
       "      <td>NaN</td>\n",
       "      <td>NaN</td>\n",
       "      <td>21.056067</td>\n",
       "    </tr>\n",
       "    <tr>\n",
       "      <th>2353</th>\n",
       "      <td>1264640</td>\n",
       "      <td>139</td>\n",
       "      <td>86</td>\n",
       "      <td>734</td>\n",
       "      <td>NaN</td>\n",
       "      <td>NaN</td>\n",
       "      <td>NaN</td>\n",
       "      <td>NaN</td>\n",
       "      <td>NaN</td>\n",
       "      <td>21.077333</td>\n",
       "    </tr>\n",
       "    <tr>\n",
       "      <th>2356</th>\n",
       "      <td>1266554</td>\n",
       "      <td>120</td>\n",
       "      <td>31</td>\n",
       "      <td>641</td>\n",
       "      <td>NaN</td>\n",
       "      <td>NaN</td>\n",
       "      <td>NaN</td>\n",
       "      <td>NaN</td>\n",
       "      <td>NaN</td>\n",
       "      <td>21.109233</td>\n",
       "    </tr>\n",
       "    <tr>\n",
       "      <th>2357</th>\n",
       "      <td>1267093</td>\n",
       "      <td>120</td>\n",
       "      <td>48</td>\n",
       "      <td>551</td>\n",
       "      <td>NaN</td>\n",
       "      <td>NaN</td>\n",
       "      <td>NaN</td>\n",
       "      <td>NaN</td>\n",
       "      <td>NaN</td>\n",
       "      <td>21.118217</td>\n",
       "    </tr>\n",
       "    <tr>\n",
       "      <th>2361</th>\n",
       "      <td>1268488</td>\n",
       "      <td>319</td>\n",
       "      <td>65</td>\n",
       "      <td>594</td>\n",
       "      <td>NaN</td>\n",
       "      <td>NaN</td>\n",
       "      <td>NaN</td>\n",
       "      <td>NaN</td>\n",
       "      <td>NaN</td>\n",
       "      <td>21.141467</td>\n",
       "    </tr>\n",
       "    <tr>\n",
       "      <th>2371</th>\n",
       "      <td>1273313</td>\n",
       "      <td>100</td>\n",
       "      <td>46</td>\n",
       "      <td>440</td>\n",
       "      <td>NaN</td>\n",
       "      <td>NaN</td>\n",
       "      <td>NaN</td>\n",
       "      <td>NaN</td>\n",
       "      <td>NaN</td>\n",
       "      <td>21.221883</td>\n",
       "    </tr>\n",
       "    <tr>\n",
       "      <th>2375</th>\n",
       "      <td>1274709</td>\n",
       "      <td>179</td>\n",
       "      <td>19</td>\n",
       "      <td>489</td>\n",
       "      <td>NaN</td>\n",
       "      <td>NaN</td>\n",
       "      <td>NaN</td>\n",
       "      <td>NaN</td>\n",
       "      <td>NaN</td>\n",
       "      <td>21.245150</td>\n",
       "    </tr>\n",
       "    <tr>\n",
       "      <th>2376</th>\n",
       "      <td>1274948</td>\n",
       "      <td>100</td>\n",
       "      <td>10</td>\n",
       "      <td>487</td>\n",
       "      <td>NaN</td>\n",
       "      <td>NaN</td>\n",
       "      <td>NaN</td>\n",
       "      <td>NaN</td>\n",
       "      <td>NaN</td>\n",
       "      <td>21.249133</td>\n",
       "    </tr>\n",
       "    <tr>\n",
       "      <th>2379</th>\n",
       "      <td>1275905</td>\n",
       "      <td>179</td>\n",
       "      <td>42</td>\n",
       "      <td>434</td>\n",
       "      <td>NaN</td>\n",
       "      <td>NaN</td>\n",
       "      <td>NaN</td>\n",
       "      <td>NaN</td>\n",
       "      <td>NaN</td>\n",
       "      <td>21.265083</td>\n",
       "    </tr>\n",
       "    <tr>\n",
       "      <th>2391</th>\n",
       "      <td>1283222</td>\n",
       "      <td>119</td>\n",
       "      <td>123</td>\n",
       "      <td>310</td>\n",
       "      <td>NaN</td>\n",
       "      <td>NaN</td>\n",
       "      <td>NaN</td>\n",
       "      <td>NaN</td>\n",
       "      <td>NaN</td>\n",
       "      <td>21.387033</td>\n",
       "    </tr>\n",
       "    <tr>\n",
       "      <th>2397</th>\n",
       "      <td>1285136</td>\n",
       "      <td>140</td>\n",
       "      <td>94</td>\n",
       "      <td>155</td>\n",
       "      <td>NaN</td>\n",
       "      <td>NaN</td>\n",
       "      <td>NaN</td>\n",
       "      <td>NaN</td>\n",
       "      <td>NaN</td>\n",
       "      <td>21.418933</td>\n",
       "    </tr>\n",
       "    <tr>\n",
       "      <th>2405</th>\n",
       "      <td>1290699</td>\n",
       "      <td>139</td>\n",
       "      <td>286</td>\n",
       "      <td>207</td>\n",
       "      <td>NaN</td>\n",
       "      <td>NaN</td>\n",
       "      <td>NaN</td>\n",
       "      <td>NaN</td>\n",
       "      <td>NaN</td>\n",
       "      <td>21.511650</td>\n",
       "    </tr>\n",
       "    <tr>\n",
       "      <th>2411</th>\n",
       "      <td>1293769</td>\n",
       "      <td>199</td>\n",
       "      <td>42</td>\n",
       "      <td>174</td>\n",
       "      <td>NaN</td>\n",
       "      <td>NaN</td>\n",
       "      <td>NaN</td>\n",
       "      <td>NaN</td>\n",
       "      <td>NaN</td>\n",
       "      <td>21.562817</td>\n",
       "    </tr>\n",
       "    <tr>\n",
       "      <th>2412</th>\n",
       "      <td>1293988</td>\n",
       "      <td>199</td>\n",
       "      <td>42</td>\n",
       "      <td>182</td>\n",
       "      <td>NaN</td>\n",
       "      <td>NaN</td>\n",
       "      <td>NaN</td>\n",
       "      <td>NaN</td>\n",
       "      <td>NaN</td>\n",
       "      <td>21.566467</td>\n",
       "    </tr>\n",
       "    <tr>\n",
       "      <th>2413</th>\n",
       "      <td>1294347</td>\n",
       "      <td>180</td>\n",
       "      <td>250</td>\n",
       "      <td>193</td>\n",
       "      <td>NaN</td>\n",
       "      <td>NaN</td>\n",
       "      <td>NaN</td>\n",
       "      <td>NaN</td>\n",
       "      <td>NaN</td>\n",
       "      <td>21.572450</td>\n",
       "    </tr>\n",
       "    <tr>\n",
       "      <th>2419</th>\n",
       "      <td>1298295</td>\n",
       "      <td>399</td>\n",
       "      <td>147</td>\n",
       "      <td>215</td>\n",
       "      <td>NaN</td>\n",
       "      <td>NaN</td>\n",
       "      <td>NaN</td>\n",
       "      <td>NaN</td>\n",
       "      <td>NaN</td>\n",
       "      <td>21.638250</td>\n",
       "    </tr>\n",
       "    <tr>\n",
       "      <th>2431</th>\n",
       "      <td>1304794</td>\n",
       "      <td>159</td>\n",
       "      <td>77</td>\n",
       "      <td>246</td>\n",
       "      <td>NaN</td>\n",
       "      <td>NaN</td>\n",
       "      <td>NaN</td>\n",
       "      <td>NaN</td>\n",
       "      <td>NaN</td>\n",
       "      <td>21.746567</td>\n",
       "    </tr>\n",
       "    <tr>\n",
       "      <th>2433</th>\n",
       "      <td>1307267</td>\n",
       "      <td>100</td>\n",
       "      <td>941</td>\n",
       "      <td>960</td>\n",
       "      <td>NaN</td>\n",
       "      <td>NaN</td>\n",
       "      <td>NaN</td>\n",
       "      <td>NaN</td>\n",
       "      <td>NaN</td>\n",
       "      <td>21.787783</td>\n",
       "    </tr>\n",
       "  </tbody>\n",
       "</table>\n",
       "<p>405 rows × 10 columns</p>\n",
       "</div>"
      ],
      "text/plain": [
       "         Time  Duration    X    Y  Screen X  Screen Y  Pupil  Dist  \\\n",
       "1         504       140  705  553       NaN       NaN    NaN   NaN   \n",
       "5        3534       120  134  189       NaN       NaN    NaN   NaN   \n",
       "9        5568       100  686  432       NaN       NaN    NaN   NaN   \n",
       "23      10891       100  554  204       NaN       NaN    NaN   NaN   \n",
       "24      11130       319  698  212       NaN       NaN    NaN   NaN   \n",
       "49      20262      1196  622  206       NaN       NaN    NaN   NaN   \n",
       "52      22235       518  619  207       NaN       NaN    NaN   NaN   \n",
       "72      32782      1057  612  231       NaN       NaN    NaN   NaN   \n",
       "92      41276       199  730  265       NaN       NaN    NaN   NaN   \n",
       "101     44486       100  604  272       NaN       NaN    NaN   NaN   \n",
       "111     47775       140  505  270       NaN       NaN    NaN   NaN   \n",
       "116     49370       279  450  233       NaN       NaN    NaN   NaN   \n",
       "136     56468       100  256  281       NaN       NaN    NaN   NaN   \n",
       "137     56667       100   70  286       NaN       NaN    NaN   NaN   \n",
       "154     62489       140  318  233       NaN       NaN    NaN   NaN   \n",
       "157     64583       259  446  246       NaN       NaN    NaN   NaN   \n",
       "159     65360       319  271  226       NaN       NaN    NaN   NaN   \n",
       "160     65759       100   94  239       NaN       NaN    NaN   NaN   \n",
       "164     66856       479  437  241       NaN       NaN    NaN   NaN   \n",
       "179     72338       100  430  237       NaN       NaN    NaN   NaN   \n",
       "183     74492       419  444  221       NaN       NaN    NaN   NaN   \n",
       "191     79456       160  291  222       NaN       NaN    NaN   NaN   \n",
       "192     79635       299  273  241       NaN       NaN    NaN   NaN   \n",
       "193     80134       399  264  228       NaN       NaN    NaN   NaN   \n",
       "195     81131       199   64  238       NaN       NaN    NaN   NaN   \n",
       "196     81450       578  273  247       NaN       NaN    NaN   NaN   \n",
       "201     83424       778  616  265       NaN       NaN    NaN   NaN   \n",
       "203     84819       419  610  270       NaN       NaN    NaN   NaN   \n",
       "206     85716       100  509  296       NaN       NaN    NaN   NaN   \n",
       "210     87690       618  523  304       NaN       NaN    NaN   NaN   \n",
       "...       ...       ...  ...  ...       ...       ...    ...   ...   \n",
       "2299  1218724       339  733  538       NaN       NaN    NaN   NaN   \n",
       "2305  1223011       100  752  793       NaN       NaN    NaN   NaN   \n",
       "2309  1226500       100  806  812       NaN       NaN    NaN   NaN   \n",
       "2311  1227297       100   48  670       NaN       NaN    NaN   NaN   \n",
       "2312  1227816       120   45  679       NaN       NaN    NaN   NaN   \n",
       "2322  1237824       259   85  676       NaN       NaN    NaN   NaN   \n",
       "2333  1254392       100  740  519       NaN       NaN    NaN   NaN   \n",
       "2337  1257303       140  725  795       NaN       NaN    NaN   NaN   \n",
       "2342  1260732       100  695  771       NaN       NaN    NaN   NaN   \n",
       "2343  1260992       140  688  752       NaN       NaN    NaN   NaN   \n",
       "2344  1261191       120  684  764       NaN       NaN    NaN   NaN   \n",
       "2345  1261690       120  715  528       NaN       NaN    NaN   NaN   \n",
       "2350  1263364       100  690  583       NaN       NaN    NaN   NaN   \n",
       "2353  1264640       139   86  734       NaN       NaN    NaN   NaN   \n",
       "2356  1266554       120   31  641       NaN       NaN    NaN   NaN   \n",
       "2357  1267093       120   48  551       NaN       NaN    NaN   NaN   \n",
       "2361  1268488       319   65  594       NaN       NaN    NaN   NaN   \n",
       "2371  1273313       100   46  440       NaN       NaN    NaN   NaN   \n",
       "2375  1274709       179   19  489       NaN       NaN    NaN   NaN   \n",
       "2376  1274948       100   10  487       NaN       NaN    NaN   NaN   \n",
       "2379  1275905       179   42  434       NaN       NaN    NaN   NaN   \n",
       "2391  1283222       119  123  310       NaN       NaN    NaN   NaN   \n",
       "2397  1285136       140   94  155       NaN       NaN    NaN   NaN   \n",
       "2405  1290699       139  286  207       NaN       NaN    NaN   NaN   \n",
       "2411  1293769       199   42  174       NaN       NaN    NaN   NaN   \n",
       "2412  1293988       199   42  182       NaN       NaN    NaN   NaN   \n",
       "2413  1294347       180  250  193       NaN       NaN    NaN   NaN   \n",
       "2419  1298295       399  147  215       NaN       NaN    NaN   NaN   \n",
       "2431  1304794       159   77  246       NaN       NaN    NaN   NaN   \n",
       "2433  1307267       100  941  960       NaN       NaN    NaN   NaN   \n",
       "\n",
       "     PupilDilation    Minutes  \n",
       "1              NaN   0.008400  \n",
       "5              NaN   0.058900  \n",
       "9              NaN   0.092800  \n",
       "23             NaN   0.181517  \n",
       "24             NaN   0.185500  \n",
       "49             NaN   0.337700  \n",
       "52             NaN   0.370583  \n",
       "72             NaN   0.546367  \n",
       "92             NaN   0.687933  \n",
       "101            NaN   0.741433  \n",
       "111            NaN   0.796250  \n",
       "116            NaN   0.822833  \n",
       "136            NaN   0.941133  \n",
       "137            NaN   0.944450  \n",
       "154            NaN   1.041483  \n",
       "157            NaN   1.076383  \n",
       "159            NaN   1.089333  \n",
       "160            NaN   1.095983  \n",
       "164            NaN   1.114267  \n",
       "179            NaN   1.205633  \n",
       "183            NaN   1.241533  \n",
       "191            NaN   1.324267  \n",
       "192            NaN   1.327250  \n",
       "193            NaN   1.335567  \n",
       "195            NaN   1.352183  \n",
       "196            NaN   1.357500  \n",
       "201            NaN   1.390400  \n",
       "203            NaN   1.413650  \n",
       "206            NaN   1.428600  \n",
       "210            NaN   1.461500  \n",
       "...            ...        ...  \n",
       "2299           NaN  20.312067  \n",
       "2305           NaN  20.383517  \n",
       "2309           NaN  20.441667  \n",
       "2311           NaN  20.454950  \n",
       "2312           NaN  20.463600  \n",
       "2322           NaN  20.630400  \n",
       "2333           NaN  20.906533  \n",
       "2337           NaN  20.955050  \n",
       "2342           NaN  21.012200  \n",
       "2343           NaN  21.016533  \n",
       "2344           NaN  21.019850  \n",
       "2345           NaN  21.028167  \n",
       "2350           NaN  21.056067  \n",
       "2353           NaN  21.077333  \n",
       "2356           NaN  21.109233  \n",
       "2357           NaN  21.118217  \n",
       "2361           NaN  21.141467  \n",
       "2371           NaN  21.221883  \n",
       "2375           NaN  21.245150  \n",
       "2376           NaN  21.249133  \n",
       "2379           NaN  21.265083  \n",
       "2391           NaN  21.387033  \n",
       "2397           NaN  21.418933  \n",
       "2405           NaN  21.511650  \n",
       "2411           NaN  21.562817  \n",
       "2412           NaN  21.566467  \n",
       "2413           NaN  21.572450  \n",
       "2419           NaN  21.638250  \n",
       "2431           NaN  21.746567  \n",
       "2433           NaN  21.787783  \n",
       "\n",
       "[405 rows x 10 columns]"
      ]
     },
     "execution_count": 30,
     "metadata": {},
     "output_type": "execute_result"
    }
   ],
   "source": [
    "tfixedgaze[tfixedgaze['Screen X'].isna()]"
   ]
  },
  {
   "cell_type": "code",
   "execution_count": 31,
   "metadata": {},
   "outputs": [],
   "source": [
    "tfixedgaze.dropna(how='any', inplace= True)"
   ]
  },
  {
   "cell_type": "code",
   "execution_count": 32,
   "metadata": {},
   "outputs": [
    {
     "data": {
      "text/html": [
       "<div>\n",
       "<style scoped>\n",
       "    .dataframe tbody tr th:only-of-type {\n",
       "        vertical-align: middle;\n",
       "    }\n",
       "\n",
       "    .dataframe tbody tr th {\n",
       "        vertical-align: top;\n",
       "    }\n",
       "\n",
       "    .dataframe thead th {\n",
       "        text-align: right;\n",
       "    }\n",
       "</style>\n",
       "<table border=\"1\" class=\"dataframe\">\n",
       "  <thead>\n",
       "    <tr style=\"text-align: right;\">\n",
       "      <th></th>\n",
       "      <th>Time</th>\n",
       "      <th>Duration</th>\n",
       "      <th>X</th>\n",
       "      <th>Y</th>\n",
       "      <th>Screen X</th>\n",
       "      <th>Screen Y</th>\n",
       "      <th>Pupil</th>\n",
       "      <th>Dist</th>\n",
       "      <th>Minutes</th>\n",
       "    </tr>\n",
       "  </thead>\n",
       "  <tbody>\n",
       "    <tr>\n",
       "      <th>count</th>\n",
       "      <td>2.040000e+03</td>\n",
       "      <td>2040.000000</td>\n",
       "      <td>2040.000000</td>\n",
       "      <td>2040.000000</td>\n",
       "      <td>2040.000000</td>\n",
       "      <td>2040.000000</td>\n",
       "      <td>2040.000000</td>\n",
       "      <td>2040.000000</td>\n",
       "      <td>2040.000000</td>\n",
       "    </tr>\n",
       "    <tr>\n",
       "      <th>mean</th>\n",
       "      <td>5.982879e+05</td>\n",
       "      <td>204.088725</td>\n",
       "      <td>387.845588</td>\n",
       "      <td>441.406863</td>\n",
       "      <td>388.341176</td>\n",
       "      <td>441.070833</td>\n",
       "      <td>0.009712</td>\n",
       "      <td>696.169768</td>\n",
       "      <td>9.971465</td>\n",
       "    </tr>\n",
       "    <tr>\n",
       "      <th>std</th>\n",
       "      <td>3.747650e+05</td>\n",
       "      <td>154.830745</td>\n",
       "      <td>287.577082</td>\n",
       "      <td>209.004437</td>\n",
       "      <td>286.518044</td>\n",
       "      <td>210.105623</td>\n",
       "      <td>0.115090</td>\n",
       "      <td>12.933794</td>\n",
       "      <td>6.246083</td>\n",
       "    </tr>\n",
       "    <tr>\n",
       "      <th>min</th>\n",
       "      <td>2.640000e+02</td>\n",
       "      <td>100.000000</td>\n",
       "      <td>18.000000</td>\n",
       "      <td>99.000000</td>\n",
       "      <td>3.000000</td>\n",
       "      <td>91.500000</td>\n",
       "      <td>-0.403851</td>\n",
       "      <td>645.363000</td>\n",
       "      <td>0.004400</td>\n",
       "    </tr>\n",
       "    <tr>\n",
       "      <th>25%</th>\n",
       "      <td>2.904992e+05</td>\n",
       "      <td>120.000000</td>\n",
       "      <td>100.000000</td>\n",
       "      <td>234.000000</td>\n",
       "      <td>103.375000</td>\n",
       "      <td>232.500000</td>\n",
       "      <td>-0.064976</td>\n",
       "      <td>687.518250</td>\n",
       "      <td>4.841654</td>\n",
       "    </tr>\n",
       "    <tr>\n",
       "      <th>50%</th>\n",
       "      <td>5.630695e+05</td>\n",
       "      <td>160.000000</td>\n",
       "      <td>282.500000</td>\n",
       "      <td>515.500000</td>\n",
       "      <td>285.500000</td>\n",
       "      <td>509.750000</td>\n",
       "      <td>0.006649</td>\n",
       "      <td>695.403000</td>\n",
       "      <td>9.384492</td>\n",
       "    </tr>\n",
       "    <tr>\n",
       "      <th>75%</th>\n",
       "      <td>9.141048e+05</td>\n",
       "      <td>239.000000</td>\n",
       "      <td>719.000000</td>\n",
       "      <td>603.000000</td>\n",
       "      <td>717.500000</td>\n",
       "      <td>603.625000</td>\n",
       "      <td>0.078774</td>\n",
       "      <td>703.153875</td>\n",
       "      <td>15.235079</td>\n",
       "    </tr>\n",
       "    <tr>\n",
       "      <th>max</th>\n",
       "      <td>1.313846e+06</td>\n",
       "      <td>2333.000000</td>\n",
       "      <td>1315.000000</td>\n",
       "      <td>958.000000</td>\n",
       "      <td>1301.500000</td>\n",
       "      <td>977.500000</td>\n",
       "      <td>0.803649</td>\n",
       "      <td>794.995500</td>\n",
       "      <td>21.897433</td>\n",
       "    </tr>\n",
       "  </tbody>\n",
       "</table>\n",
       "</div>"
      ],
      "text/plain": [
       "               Time     Duration            X            Y     Screen X  \\\n",
       "count  2.040000e+03  2040.000000  2040.000000  2040.000000  2040.000000   \n",
       "mean   5.982879e+05   204.088725   387.845588   441.406863   388.341176   \n",
       "std    3.747650e+05   154.830745   287.577082   209.004437   286.518044   \n",
       "min    2.640000e+02   100.000000    18.000000    99.000000     3.000000   \n",
       "25%    2.904992e+05   120.000000   100.000000   234.000000   103.375000   \n",
       "50%    5.630695e+05   160.000000   282.500000   515.500000   285.500000   \n",
       "75%    9.141048e+05   239.000000   719.000000   603.000000   717.500000   \n",
       "max    1.313846e+06  2333.000000  1315.000000   958.000000  1301.500000   \n",
       "\n",
       "          Screen Y        Pupil         Dist      Minutes  \n",
       "count  2040.000000  2040.000000  2040.000000  2040.000000  \n",
       "mean    441.070833     0.009712   696.169768     9.971465  \n",
       "std     210.105623     0.115090    12.933794     6.246083  \n",
       "min      91.500000    -0.403851   645.363000     0.004400  \n",
       "25%     232.500000    -0.064976   687.518250     4.841654  \n",
       "50%     509.750000     0.006649   695.403000     9.384492  \n",
       "75%     603.625000     0.078774   703.153875    15.235079  \n",
       "max     977.500000     0.803649   794.995500    21.897433  "
      ]
     },
     "execution_count": 32,
     "metadata": {},
     "output_type": "execute_result"
    }
   ],
   "source": [
    "tfixedgaze.describe()"
   ]
  },
  {
   "cell_type": "code",
   "execution_count": 33,
   "metadata": {
    "collapsed": true
   },
   "outputs": [
    {
     "data": {
      "text/html": [
       "<div>\n",
       "<style scoped>\n",
       "    .dataframe tbody tr th:only-of-type {\n",
       "        vertical-align: middle;\n",
       "    }\n",
       "\n",
       "    .dataframe tbody tr th {\n",
       "        vertical-align: top;\n",
       "    }\n",
       "\n",
       "    .dataframe thead th {\n",
       "        text-align: right;\n",
       "    }\n",
       "</style>\n",
       "<table border=\"1\" class=\"dataframe\">\n",
       "  <thead>\n",
       "    <tr style=\"text-align: right;\">\n",
       "      <th></th>\n",
       "      <th>Time</th>\n",
       "      <th>Duration</th>\n",
       "      <th>X</th>\n",
       "      <th>Y</th>\n",
       "      <th>Screen X</th>\n",
       "      <th>Screen Y</th>\n",
       "      <th>Pupil</th>\n",
       "      <th>Dist</th>\n",
       "      <th>PupilDilation</th>\n",
       "      <th>Minutes</th>\n",
       "    </tr>\n",
       "  </thead>\n",
       "  <tbody>\n",
       "    <tr>\n",
       "      <th>1483</th>\n",
       "      <td>720167</td>\n",
       "      <td>160</td>\n",
       "      <td>744</td>\n",
       "      <td>572</td>\n",
       "      <td>765.5</td>\n",
       "      <td>551.0</td>\n",
       "      <td>-0.023351</td>\n",
       "      <td>680.8860</td>\n",
       "      <td>Squeezed Pupil</td>\n",
       "      <td>12.002783</td>\n",
       "    </tr>\n",
       "    <tr>\n",
       "      <th>1484</th>\n",
       "      <td>720367</td>\n",
       "      <td>259</td>\n",
       "      <td>750</td>\n",
       "      <td>587</td>\n",
       "      <td>767.5</td>\n",
       "      <td>578.0</td>\n",
       "      <td>0.083149</td>\n",
       "      <td>681.1625</td>\n",
       "      <td>Dilated Pupil</td>\n",
       "      <td>12.006117</td>\n",
       "    </tr>\n",
       "    <tr>\n",
       "      <th>1485</th>\n",
       "      <td>720646</td>\n",
       "      <td>120</td>\n",
       "      <td>755</td>\n",
       "      <td>571</td>\n",
       "      <td>754.5</td>\n",
       "      <td>612.0</td>\n",
       "      <td>0.024149</td>\n",
       "      <td>679.5245</td>\n",
       "      <td>Dilated Pupil</td>\n",
       "      <td>12.010767</td>\n",
       "    </tr>\n",
       "    <tr>\n",
       "      <th>1486</th>\n",
       "      <td>720965</td>\n",
       "      <td>120</td>\n",
       "      <td>79</td>\n",
       "      <td>624</td>\n",
       "      <td>62.0</td>\n",
       "      <td>607.5</td>\n",
       "      <td>-0.130851</td>\n",
       "      <td>684.3230</td>\n",
       "      <td>Squeezed Pupil</td>\n",
       "      <td>12.016083</td>\n",
       "    </tr>\n",
       "    <tr>\n",
       "      <th>1487</th>\n",
       "      <td>721144</td>\n",
       "      <td>120</td>\n",
       "      <td>87</td>\n",
       "      <td>650</td>\n",
       "      <td>89.5</td>\n",
       "      <td>618.5</td>\n",
       "      <td>0.014649</td>\n",
       "      <td>685.6415</td>\n",
       "      <td>Dilated Pupil</td>\n",
       "      <td>12.019067</td>\n",
       "    </tr>\n",
       "    <tr>\n",
       "      <th>1488</th>\n",
       "      <td>721463</td>\n",
       "      <td>180</td>\n",
       "      <td>43</td>\n",
       "      <td>632</td>\n",
       "      <td>25.0</td>\n",
       "      <td>607.5</td>\n",
       "      <td>-0.000851</td>\n",
       "      <td>682.2390</td>\n",
       "      <td>Squeezed Pupil</td>\n",
       "      <td>12.024383</td>\n",
       "    </tr>\n",
       "    <tr>\n",
       "      <th>1489</th>\n",
       "      <td>721702</td>\n",
       "      <td>120</td>\n",
       "      <td>103</td>\n",
       "      <td>640</td>\n",
       "      <td>101.0</td>\n",
       "      <td>647.5</td>\n",
       "      <td>0.060149</td>\n",
       "      <td>681.8370</td>\n",
       "      <td>Dilated Pupil</td>\n",
       "      <td>12.028367</td>\n",
       "    </tr>\n",
       "    <tr>\n",
       "      <th>1490</th>\n",
       "      <td>721842</td>\n",
       "      <td>120</td>\n",
       "      <td>106</td>\n",
       "      <td>659</td>\n",
       "      <td>118.5</td>\n",
       "      <td>665.0</td>\n",
       "      <td>0.146149</td>\n",
       "      <td>677.6415</td>\n",
       "      <td>Dilated Pupil</td>\n",
       "      <td>12.030700</td>\n",
       "    </tr>\n",
       "    <tr>\n",
       "      <th>1491</th>\n",
       "      <td>721982</td>\n",
       "      <td>100</td>\n",
       "      <td>108</td>\n",
       "      <td>636</td>\n",
       "      <td>116.5</td>\n",
       "      <td>624.5</td>\n",
       "      <td>0.001649</td>\n",
       "      <td>680.5815</td>\n",
       "      <td>Dilated Pupil</td>\n",
       "      <td>12.033033</td>\n",
       "    </tr>\n",
       "    <tr>\n",
       "      <th>1492</th>\n",
       "      <td>722281</td>\n",
       "      <td>139</td>\n",
       "      <td>109</td>\n",
       "      <td>667</td>\n",
       "      <td>111.5</td>\n",
       "      <td>666.0</td>\n",
       "      <td>0.004149</td>\n",
       "      <td>681.2060</td>\n",
       "      <td>Dilated Pupil</td>\n",
       "      <td>12.038017</td>\n",
       "    </tr>\n",
       "    <tr>\n",
       "      <th>1493</th>\n",
       "      <td>722739</td>\n",
       "      <td>100</td>\n",
       "      <td>99</td>\n",
       "      <td>630</td>\n",
       "      <td>79.5</td>\n",
       "      <td>663.0</td>\n",
       "      <td>0.091649</td>\n",
       "      <td>685.4675</td>\n",
       "      <td>Dilated Pupil</td>\n",
       "      <td>12.045650</td>\n",
       "    </tr>\n",
       "    <tr>\n",
       "      <th>1494</th>\n",
       "      <td>724554</td>\n",
       "      <td>120</td>\n",
       "      <td>820</td>\n",
       "      <td>592</td>\n",
       "      <td>814.0</td>\n",
       "      <td>593.0</td>\n",
       "      <td>-0.188851</td>\n",
       "      <td>725.8610</td>\n",
       "      <td>Squeezed Pupil</td>\n",
       "      <td>12.075900</td>\n",
       "    </tr>\n",
       "    <tr>\n",
       "      <th>1495</th>\n",
       "      <td>724972</td>\n",
       "      <td>160</td>\n",
       "      <td>760</td>\n",
       "      <td>625</td>\n",
       "      <td>775.0</td>\n",
       "      <td>596.5</td>\n",
       "      <td>-0.198351</td>\n",
       "      <td>711.8755</td>\n",
       "      <td>Squeezed Pupil</td>\n",
       "      <td>12.082867</td>\n",
       "    </tr>\n",
       "    <tr>\n",
       "      <th>1496</th>\n",
       "      <td>726109</td>\n",
       "      <td>120</td>\n",
       "      <td>756</td>\n",
       "      <td>594</td>\n",
       "      <td>758.5</td>\n",
       "      <td>620.5</td>\n",
       "      <td>-0.112851</td>\n",
       "      <td>669.9395</td>\n",
       "      <td>Squeezed Pupil</td>\n",
       "      <td>12.101817</td>\n",
       "    </tr>\n",
       "    <tr>\n",
       "      <th>1497</th>\n",
       "      <td>726766</td>\n",
       "      <td>120</td>\n",
       "      <td>778</td>\n",
       "      <td>575</td>\n",
       "      <td>783.0</td>\n",
       "      <td>546.5</td>\n",
       "      <td>-0.118351</td>\n",
       "      <td>664.5985</td>\n",
       "      <td>Squeezed Pupil</td>\n",
       "      <td>12.112767</td>\n",
       "    </tr>\n",
       "    <tr>\n",
       "      <th>1498</th>\n",
       "      <td>727066</td>\n",
       "      <td>299</td>\n",
       "      <td>708</td>\n",
       "      <td>517</td>\n",
       "      <td>696.5</td>\n",
       "      <td>488.5</td>\n",
       "      <td>-0.158351</td>\n",
       "      <td>667.9265</td>\n",
       "      <td>Squeezed Pupil</td>\n",
       "      <td>12.117767</td>\n",
       "    </tr>\n",
       "    <tr>\n",
       "      <th>1500</th>\n",
       "      <td>728521</td>\n",
       "      <td>100</td>\n",
       "      <td>274</td>\n",
       "      <td>219</td>\n",
       "      <td>270.5</td>\n",
       "      <td>219.0</td>\n",
       "      <td>-0.032851</td>\n",
       "      <td>678.5195</td>\n",
       "      <td>Squeezed Pupil</td>\n",
       "      <td>12.142017</td>\n",
       "    </tr>\n",
       "    <tr>\n",
       "      <th>1501</th>\n",
       "      <td>728720</td>\n",
       "      <td>159</td>\n",
       "      <td>278</td>\n",
       "      <td>231</td>\n",
       "      <td>270.0</td>\n",
       "      <td>199.5</td>\n",
       "      <td>-0.030351</td>\n",
       "      <td>683.2740</td>\n",
       "      <td>Squeezed Pupil</td>\n",
       "      <td>12.145333</td>\n",
       "    </tr>\n",
       "    <tr>\n",
       "      <th>1503</th>\n",
       "      <td>729358</td>\n",
       "      <td>120</td>\n",
       "      <td>622</td>\n",
       "      <td>240</td>\n",
       "      <td>620.5</td>\n",
       "      <td>255.0</td>\n",
       "      <td>0.060149</td>\n",
       "      <td>676.6000</td>\n",
       "      <td>Dilated Pupil</td>\n",
       "      <td>12.155967</td>\n",
       "    </tr>\n",
       "    <tr>\n",
       "      <th>1504</th>\n",
       "      <td>729757</td>\n",
       "      <td>219</td>\n",
       "      <td>618</td>\n",
       "      <td>245</td>\n",
       "      <td>618.5</td>\n",
       "      <td>238.0</td>\n",
       "      <td>-0.032851</td>\n",
       "      <td>670.0500</td>\n",
       "      <td>Squeezed Pupil</td>\n",
       "      <td>12.162617</td>\n",
       "    </tr>\n",
       "    <tr>\n",
       "      <th>1505</th>\n",
       "      <td>730016</td>\n",
       "      <td>100</td>\n",
       "      <td>616</td>\n",
       "      <td>242</td>\n",
       "      <td>612.0</td>\n",
       "      <td>246.5</td>\n",
       "      <td>0.005649</td>\n",
       "      <td>669.9340</td>\n",
       "      <td>Dilated Pupil</td>\n",
       "      <td>12.166933</td>\n",
       "    </tr>\n",
       "    <tr>\n",
       "      <th>1507</th>\n",
       "      <td>730515</td>\n",
       "      <td>199</td>\n",
       "      <td>526</td>\n",
       "      <td>272</td>\n",
       "      <td>535.5</td>\n",
       "      <td>267.5</td>\n",
       "      <td>-0.019851</td>\n",
       "      <td>669.7665</td>\n",
       "      <td>Squeezed Pupil</td>\n",
       "      <td>12.175250</td>\n",
       "    </tr>\n",
       "    <tr>\n",
       "      <th>1508</th>\n",
       "      <td>730794</td>\n",
       "      <td>179</td>\n",
       "      <td>280</td>\n",
       "      <td>246</td>\n",
       "      <td>275.5</td>\n",
       "      <td>265.5</td>\n",
       "      <td>-0.047851</td>\n",
       "      <td>675.5970</td>\n",
       "      <td>Squeezed Pupil</td>\n",
       "      <td>12.179900</td>\n",
       "    </tr>\n",
       "    <tr>\n",
       "      <th>1509</th>\n",
       "      <td>731013</td>\n",
       "      <td>100</td>\n",
       "      <td>278</td>\n",
       "      <td>255</td>\n",
       "      <td>280.5</td>\n",
       "      <td>256.5</td>\n",
       "      <td>-0.093851</td>\n",
       "      <td>675.8620</td>\n",
       "      <td>Squeezed Pupil</td>\n",
       "      <td>12.183550</td>\n",
       "    </tr>\n",
       "    <tr>\n",
       "      <th>1510</th>\n",
       "      <td>731153</td>\n",
       "      <td>319</td>\n",
       "      <td>440</td>\n",
       "      <td>261</td>\n",
       "      <td>426.5</td>\n",
       "      <td>247.5</td>\n",
       "      <td>-0.038351</td>\n",
       "      <td>675.9080</td>\n",
       "      <td>Squeezed Pupil</td>\n",
       "      <td>12.185883</td>\n",
       "    </tr>\n",
       "    <tr>\n",
       "      <th>1511</th>\n",
       "      <td>731791</td>\n",
       "      <td>100</td>\n",
       "      <td>82</td>\n",
       "      <td>241</td>\n",
       "      <td>82.0</td>\n",
       "      <td>237.5</td>\n",
       "      <td>-0.064351</td>\n",
       "      <td>684.1845</td>\n",
       "      <td>Squeezed Pupil</td>\n",
       "      <td>12.196517</td>\n",
       "    </tr>\n",
       "    <tr>\n",
       "      <th>1512</th>\n",
       "      <td>732170</td>\n",
       "      <td>160</td>\n",
       "      <td>268</td>\n",
       "      <td>238</td>\n",
       "      <td>277.0</td>\n",
       "      <td>265.5</td>\n",
       "      <td>-0.093851</td>\n",
       "      <td>681.5090</td>\n",
       "      <td>Squeezed Pupil</td>\n",
       "      <td>12.202833</td>\n",
       "    </tr>\n",
       "    <tr>\n",
       "      <th>1513</th>\n",
       "      <td>732349</td>\n",
       "      <td>140</td>\n",
       "      <td>270</td>\n",
       "      <td>261</td>\n",
       "      <td>260.0</td>\n",
       "      <td>242.0</td>\n",
       "      <td>-0.114351</td>\n",
       "      <td>687.1200</td>\n",
       "      <td>Squeezed Pupil</td>\n",
       "      <td>12.205817</td>\n",
       "    </tr>\n",
       "    <tr>\n",
       "      <th>1515</th>\n",
       "      <td>732867</td>\n",
       "      <td>100</td>\n",
       "      <td>68</td>\n",
       "      <td>206</td>\n",
       "      <td>96.5</td>\n",
       "      <td>225.0</td>\n",
       "      <td>-0.135851</td>\n",
       "      <td>687.9525</td>\n",
       "      <td>Squeezed Pupil</td>\n",
       "      <td>12.214450</td>\n",
       "    </tr>\n",
       "    <tr>\n",
       "      <th>1516</th>\n",
       "      <td>733107</td>\n",
       "      <td>140</td>\n",
       "      <td>278</td>\n",
       "      <td>203</td>\n",
       "      <td>276.0</td>\n",
       "      <td>211.0</td>\n",
       "      <td>-0.108851</td>\n",
       "      <td>692.5900</td>\n",
       "      <td>Squeezed Pupil</td>\n",
       "      <td>12.218450</td>\n",
       "    </tr>\n",
       "    <tr>\n",
       "      <th>...</th>\n",
       "      <td>...</td>\n",
       "      <td>...</td>\n",
       "      <td>...</td>\n",
       "      <td>...</td>\n",
       "      <td>...</td>\n",
       "      <td>...</td>\n",
       "      <td>...</td>\n",
       "      <td>...</td>\n",
       "      <td>...</td>\n",
       "      <td>...</td>\n",
       "    </tr>\n",
       "    <tr>\n",
       "      <th>1634</th>\n",
       "      <td>807653</td>\n",
       "      <td>100</td>\n",
       "      <td>779</td>\n",
       "      <td>850</td>\n",
       "      <td>768.5</td>\n",
       "      <td>864.0</td>\n",
       "      <td>-0.138851</td>\n",
       "      <td>676.3985</td>\n",
       "      <td>Squeezed Pupil</td>\n",
       "      <td>13.460883</td>\n",
       "    </tr>\n",
       "    <tr>\n",
       "      <th>1635</th>\n",
       "      <td>809088</td>\n",
       "      <td>100</td>\n",
       "      <td>778</td>\n",
       "      <td>881</td>\n",
       "      <td>775.0</td>\n",
       "      <td>882.0</td>\n",
       "      <td>0.108649</td>\n",
       "      <td>677.5865</td>\n",
       "      <td>Dilated Pupil</td>\n",
       "      <td>13.484800</td>\n",
       "    </tr>\n",
       "    <tr>\n",
       "      <th>1636</th>\n",
       "      <td>814512</td>\n",
       "      <td>139</td>\n",
       "      <td>767</td>\n",
       "      <td>866</td>\n",
       "      <td>762.0</td>\n",
       "      <td>858.0</td>\n",
       "      <td>-0.200851</td>\n",
       "      <td>679.4385</td>\n",
       "      <td>Squeezed Pupil</td>\n",
       "      <td>13.575200</td>\n",
       "    </tr>\n",
       "    <tr>\n",
       "      <th>1637</th>\n",
       "      <td>815449</td>\n",
       "      <td>199</td>\n",
       "      <td>766</td>\n",
       "      <td>868</td>\n",
       "      <td>750.0</td>\n",
       "      <td>879.0</td>\n",
       "      <td>0.049149</td>\n",
       "      <td>681.6235</td>\n",
       "      <td>Dilated Pupil</td>\n",
       "      <td>13.590817</td>\n",
       "    </tr>\n",
       "    <tr>\n",
       "      <th>1638</th>\n",
       "      <td>816146</td>\n",
       "      <td>120</td>\n",
       "      <td>761</td>\n",
       "      <td>878</td>\n",
       "      <td>764.0</td>\n",
       "      <td>896.5</td>\n",
       "      <td>0.056649</td>\n",
       "      <td>679.8165</td>\n",
       "      <td>Dilated Pupil</td>\n",
       "      <td>13.602433</td>\n",
       "    </tr>\n",
       "    <tr>\n",
       "      <th>1639</th>\n",
       "      <td>819436</td>\n",
       "      <td>259</td>\n",
       "      <td>97</td>\n",
       "      <td>842</td>\n",
       "      <td>112.5</td>\n",
       "      <td>833.5</td>\n",
       "      <td>-0.033851</td>\n",
       "      <td>698.4260</td>\n",
       "      <td>Squeezed Pupil</td>\n",
       "      <td>13.657267</td>\n",
       "    </tr>\n",
       "    <tr>\n",
       "      <th>1640</th>\n",
       "      <td>820234</td>\n",
       "      <td>100</td>\n",
       "      <td>105</td>\n",
       "      <td>815</td>\n",
       "      <td>100.5</td>\n",
       "      <td>805.5</td>\n",
       "      <td>0.096649</td>\n",
       "      <td>692.1230</td>\n",
       "      <td>Dilated Pupil</td>\n",
       "      <td>13.670567</td>\n",
       "    </tr>\n",
       "    <tr>\n",
       "      <th>1641</th>\n",
       "      <td>821131</td>\n",
       "      <td>100</td>\n",
       "      <td>67</td>\n",
       "      <td>229</td>\n",
       "      <td>53.5</td>\n",
       "      <td>209.5</td>\n",
       "      <td>0.070649</td>\n",
       "      <td>692.3550</td>\n",
       "      <td>Dilated Pupil</td>\n",
       "      <td>13.685517</td>\n",
       "    </tr>\n",
       "    <tr>\n",
       "      <th>1642</th>\n",
       "      <td>821370</td>\n",
       "      <td>120</td>\n",
       "      <td>80</td>\n",
       "      <td>234</td>\n",
       "      <td>86.5</td>\n",
       "      <td>252.5</td>\n",
       "      <td>-0.046851</td>\n",
       "      <td>677.4095</td>\n",
       "      <td>Squeezed Pupil</td>\n",
       "      <td>13.689500</td>\n",
       "    </tr>\n",
       "    <tr>\n",
       "      <th>1643</th>\n",
       "      <td>822845</td>\n",
       "      <td>120</td>\n",
       "      <td>103</td>\n",
       "      <td>773</td>\n",
       "      <td>90.0</td>\n",
       "      <td>764.0</td>\n",
       "      <td>-0.023351</td>\n",
       "      <td>683.3470</td>\n",
       "      <td>Squeezed Pupil</td>\n",
       "      <td>13.714083</td>\n",
       "    </tr>\n",
       "    <tr>\n",
       "      <th>1644</th>\n",
       "      <td>826653</td>\n",
       "      <td>140</td>\n",
       "      <td>107</td>\n",
       "      <td>200</td>\n",
       "      <td>99.5</td>\n",
       "      <td>191.0</td>\n",
       "      <td>-0.384351</td>\n",
       "      <td>695.5620</td>\n",
       "      <td>Squeezed Pupil</td>\n",
       "      <td>13.777550</td>\n",
       "    </tr>\n",
       "    <tr>\n",
       "      <th>1645</th>\n",
       "      <td>826813</td>\n",
       "      <td>140</td>\n",
       "      <td>79</td>\n",
       "      <td>216</td>\n",
       "      <td>70.5</td>\n",
       "      <td>195.0</td>\n",
       "      <td>-0.022851</td>\n",
       "      <td>694.9740</td>\n",
       "      <td>Squeezed Pupil</td>\n",
       "      <td>13.780217</td>\n",
       "    </tr>\n",
       "    <tr>\n",
       "      <th>1646</th>\n",
       "      <td>827012</td>\n",
       "      <td>219</td>\n",
       "      <td>284</td>\n",
       "      <td>216</td>\n",
       "      <td>290.5</td>\n",
       "      <td>220.5</td>\n",
       "      <td>-0.016851</td>\n",
       "      <td>696.6860</td>\n",
       "      <td>Squeezed Pupil</td>\n",
       "      <td>13.783533</td>\n",
       "    </tr>\n",
       "    <tr>\n",
       "      <th>1648</th>\n",
       "      <td>827551</td>\n",
       "      <td>319</td>\n",
       "      <td>73</td>\n",
       "      <td>203</td>\n",
       "      <td>113.5</td>\n",
       "      <td>212.5</td>\n",
       "      <td>-0.019351</td>\n",
       "      <td>711.8550</td>\n",
       "      <td>Squeezed Pupil</td>\n",
       "      <td>13.792517</td>\n",
       "    </tr>\n",
       "    <tr>\n",
       "      <th>1649</th>\n",
       "      <td>827910</td>\n",
       "      <td>359</td>\n",
       "      <td>267</td>\n",
       "      <td>217</td>\n",
       "      <td>239.5</td>\n",
       "      <td>208.5</td>\n",
       "      <td>0.006649</td>\n",
       "      <td>709.6985</td>\n",
       "      <td>Dilated Pupil</td>\n",
       "      <td>13.798500</td>\n",
       "    </tr>\n",
       "    <tr>\n",
       "      <th>1650</th>\n",
       "      <td>828328</td>\n",
       "      <td>319</td>\n",
       "      <td>596</td>\n",
       "      <td>209</td>\n",
       "      <td>596.5</td>\n",
       "      <td>201.0</td>\n",
       "      <td>0.025149</td>\n",
       "      <td>703.5600</td>\n",
       "      <td>Dilated Pupil</td>\n",
       "      <td>13.805467</td>\n",
       "    </tr>\n",
       "    <tr>\n",
       "      <th>1651</th>\n",
       "      <td>828667</td>\n",
       "      <td>180</td>\n",
       "      <td>623</td>\n",
       "      <td>208</td>\n",
       "      <td>641.0</td>\n",
       "      <td>210.5</td>\n",
       "      <td>-0.024351</td>\n",
       "      <td>699.1785</td>\n",
       "      <td>Squeezed Pupil</td>\n",
       "      <td>13.811117</td>\n",
       "    </tr>\n",
       "    <tr>\n",
       "      <th>1652</th>\n",
       "      <td>828867</td>\n",
       "      <td>2333</td>\n",
       "      <td>619</td>\n",
       "      <td>209</td>\n",
       "      <td>611.0</td>\n",
       "      <td>213.0</td>\n",
       "      <td>0.030649</td>\n",
       "      <td>699.8610</td>\n",
       "      <td>Dilated Pupil</td>\n",
       "      <td>13.814450</td>\n",
       "    </tr>\n",
       "    <tr>\n",
       "      <th>1653</th>\n",
       "      <td>831219</td>\n",
       "      <td>877</td>\n",
       "      <td>609</td>\n",
       "      <td>202</td>\n",
       "      <td>592.5</td>\n",
       "      <td>226.0</td>\n",
       "      <td>0.131149</td>\n",
       "      <td>705.5500</td>\n",
       "      <td>Dilated Pupil</td>\n",
       "      <td>13.853650</td>\n",
       "    </tr>\n",
       "    <tr>\n",
       "      <th>1654</th>\n",
       "      <td>832136</td>\n",
       "      <td>160</td>\n",
       "      <td>445</td>\n",
       "      <td>205</td>\n",
       "      <td>445.5</td>\n",
       "      <td>204.5</td>\n",
       "      <td>0.168649</td>\n",
       "      <td>700.9205</td>\n",
       "      <td>Dilated Pupil</td>\n",
       "      <td>13.868933</td>\n",
       "    </tr>\n",
       "    <tr>\n",
       "      <th>1655</th>\n",
       "      <td>832674</td>\n",
       "      <td>1017</td>\n",
       "      <td>440</td>\n",
       "      <td>221</td>\n",
       "      <td>442.5</td>\n",
       "      <td>202.0</td>\n",
       "      <td>0.269149</td>\n",
       "      <td>710.1930</td>\n",
       "      <td>Dilated Pupil</td>\n",
       "      <td>13.877900</td>\n",
       "    </tr>\n",
       "    <tr>\n",
       "      <th>1656</th>\n",
       "      <td>833711</td>\n",
       "      <td>1595</td>\n",
       "      <td>442</td>\n",
       "      <td>213</td>\n",
       "      <td>424.0</td>\n",
       "      <td>206.5</td>\n",
       "      <td>0.068149</td>\n",
       "      <td>725.6645</td>\n",
       "      <td>Dilated Pupil</td>\n",
       "      <td>13.895183</td>\n",
       "    </tr>\n",
       "    <tr>\n",
       "      <th>1657</th>\n",
       "      <td>835366</td>\n",
       "      <td>160</td>\n",
       "      <td>240</td>\n",
       "      <td>236</td>\n",
       "      <td>241.5</td>\n",
       "      <td>229.0</td>\n",
       "      <td>0.116649</td>\n",
       "      <td>718.6945</td>\n",
       "      <td>Dilated Pupil</td>\n",
       "      <td>13.922767</td>\n",
       "    </tr>\n",
       "    <tr>\n",
       "      <th>1658</th>\n",
       "      <td>835566</td>\n",
       "      <td>199</td>\n",
       "      <td>83</td>\n",
       "      <td>252</td>\n",
       "      <td>109.5</td>\n",
       "      <td>246.5</td>\n",
       "      <td>0.121149</td>\n",
       "      <td>719.7110</td>\n",
       "      <td>Dilated Pupil</td>\n",
       "      <td>13.926100</td>\n",
       "    </tr>\n",
       "    <tr>\n",
       "      <th>1659</th>\n",
       "      <td>835904</td>\n",
       "      <td>140</td>\n",
       "      <td>242</td>\n",
       "      <td>222</td>\n",
       "      <td>253.5</td>\n",
       "      <td>227.5</td>\n",
       "      <td>0.057149</td>\n",
       "      <td>718.8815</td>\n",
       "      <td>Dilated Pupil</td>\n",
       "      <td>13.931733</td>\n",
       "    </tr>\n",
       "    <tr>\n",
       "      <th>1661</th>\n",
       "      <td>836782</td>\n",
       "      <td>199</td>\n",
       "      <td>571</td>\n",
       "      <td>223</td>\n",
       "      <td>537.0</td>\n",
       "      <td>226.5</td>\n",
       "      <td>-0.050351</td>\n",
       "      <td>703.9995</td>\n",
       "      <td>Squeezed Pupil</td>\n",
       "      <td>13.946367</td>\n",
       "    </tr>\n",
       "    <tr>\n",
       "      <th>1662</th>\n",
       "      <td>837101</td>\n",
       "      <td>100</td>\n",
       "      <td>616</td>\n",
       "      <td>223</td>\n",
       "      <td>616.0</td>\n",
       "      <td>232.0</td>\n",
       "      <td>-0.168851</td>\n",
       "      <td>701.9990</td>\n",
       "      <td>Squeezed Pupil</td>\n",
       "      <td>13.951683</td>\n",
       "    </tr>\n",
       "    <tr>\n",
       "      <th>1663</th>\n",
       "      <td>837360</td>\n",
       "      <td>100</td>\n",
       "      <td>90</td>\n",
       "      <td>715</td>\n",
       "      <td>96.5</td>\n",
       "      <td>698.5</td>\n",
       "      <td>0.021149</td>\n",
       "      <td>708.3810</td>\n",
       "      <td>Dilated Pupil</td>\n",
       "      <td>13.956000</td>\n",
       "    </tr>\n",
       "    <tr>\n",
       "      <th>1664</th>\n",
       "      <td>838995</td>\n",
       "      <td>100</td>\n",
       "      <td>99</td>\n",
       "      <td>883</td>\n",
       "      <td>84.5</td>\n",
       "      <td>893.5</td>\n",
       "      <td>-0.159851</td>\n",
       "      <td>704.1845</td>\n",
       "      <td>Squeezed Pupil</td>\n",
       "      <td>13.983250</td>\n",
       "    </tr>\n",
       "    <tr>\n",
       "      <th>1665</th>\n",
       "      <td>839114</td>\n",
       "      <td>180</td>\n",
       "      <td>107</td>\n",
       "      <td>896</td>\n",
       "      <td>114.5</td>\n",
       "      <td>913.0</td>\n",
       "      <td>0.072649</td>\n",
       "      <td>707.4605</td>\n",
       "      <td>Dilated Pupil</td>\n",
       "      <td>13.985233</td>\n",
       "    </tr>\n",
       "  </tbody>\n",
       "</table>\n",
       "<p>158 rows × 10 columns</p>\n",
       "</div>"
      ],
      "text/plain": [
       "        Time  Duration    X    Y  Screen X  Screen Y     Pupil      Dist  \\\n",
       "1483  720167       160  744  572     765.5     551.0 -0.023351  680.8860   \n",
       "1484  720367       259  750  587     767.5     578.0  0.083149  681.1625   \n",
       "1485  720646       120  755  571     754.5     612.0  0.024149  679.5245   \n",
       "1486  720965       120   79  624      62.0     607.5 -0.130851  684.3230   \n",
       "1487  721144       120   87  650      89.5     618.5  0.014649  685.6415   \n",
       "1488  721463       180   43  632      25.0     607.5 -0.000851  682.2390   \n",
       "1489  721702       120  103  640     101.0     647.5  0.060149  681.8370   \n",
       "1490  721842       120  106  659     118.5     665.0  0.146149  677.6415   \n",
       "1491  721982       100  108  636     116.5     624.5  0.001649  680.5815   \n",
       "1492  722281       139  109  667     111.5     666.0  0.004149  681.2060   \n",
       "1493  722739       100   99  630      79.5     663.0  0.091649  685.4675   \n",
       "1494  724554       120  820  592     814.0     593.0 -0.188851  725.8610   \n",
       "1495  724972       160  760  625     775.0     596.5 -0.198351  711.8755   \n",
       "1496  726109       120  756  594     758.5     620.5 -0.112851  669.9395   \n",
       "1497  726766       120  778  575     783.0     546.5 -0.118351  664.5985   \n",
       "1498  727066       299  708  517     696.5     488.5 -0.158351  667.9265   \n",
       "1500  728521       100  274  219     270.5     219.0 -0.032851  678.5195   \n",
       "1501  728720       159  278  231     270.0     199.5 -0.030351  683.2740   \n",
       "1503  729358       120  622  240     620.5     255.0  0.060149  676.6000   \n",
       "1504  729757       219  618  245     618.5     238.0 -0.032851  670.0500   \n",
       "1505  730016       100  616  242     612.0     246.5  0.005649  669.9340   \n",
       "1507  730515       199  526  272     535.5     267.5 -0.019851  669.7665   \n",
       "1508  730794       179  280  246     275.5     265.5 -0.047851  675.5970   \n",
       "1509  731013       100  278  255     280.5     256.5 -0.093851  675.8620   \n",
       "1510  731153       319  440  261     426.5     247.5 -0.038351  675.9080   \n",
       "1511  731791       100   82  241      82.0     237.5 -0.064351  684.1845   \n",
       "1512  732170       160  268  238     277.0     265.5 -0.093851  681.5090   \n",
       "1513  732349       140  270  261     260.0     242.0 -0.114351  687.1200   \n",
       "1515  732867       100   68  206      96.5     225.0 -0.135851  687.9525   \n",
       "1516  733107       140  278  203     276.0     211.0 -0.108851  692.5900   \n",
       "...      ...       ...  ...  ...       ...       ...       ...       ...   \n",
       "1634  807653       100  779  850     768.5     864.0 -0.138851  676.3985   \n",
       "1635  809088       100  778  881     775.0     882.0  0.108649  677.5865   \n",
       "1636  814512       139  767  866     762.0     858.0 -0.200851  679.4385   \n",
       "1637  815449       199  766  868     750.0     879.0  0.049149  681.6235   \n",
       "1638  816146       120  761  878     764.0     896.5  0.056649  679.8165   \n",
       "1639  819436       259   97  842     112.5     833.5 -0.033851  698.4260   \n",
       "1640  820234       100  105  815     100.5     805.5  0.096649  692.1230   \n",
       "1641  821131       100   67  229      53.5     209.5  0.070649  692.3550   \n",
       "1642  821370       120   80  234      86.5     252.5 -0.046851  677.4095   \n",
       "1643  822845       120  103  773      90.0     764.0 -0.023351  683.3470   \n",
       "1644  826653       140  107  200      99.5     191.0 -0.384351  695.5620   \n",
       "1645  826813       140   79  216      70.5     195.0 -0.022851  694.9740   \n",
       "1646  827012       219  284  216     290.5     220.5 -0.016851  696.6860   \n",
       "1648  827551       319   73  203     113.5     212.5 -0.019351  711.8550   \n",
       "1649  827910       359  267  217     239.5     208.5  0.006649  709.6985   \n",
       "1650  828328       319  596  209     596.5     201.0  0.025149  703.5600   \n",
       "1651  828667       180  623  208     641.0     210.5 -0.024351  699.1785   \n",
       "1652  828867      2333  619  209     611.0     213.0  0.030649  699.8610   \n",
       "1653  831219       877  609  202     592.5     226.0  0.131149  705.5500   \n",
       "1654  832136       160  445  205     445.5     204.5  0.168649  700.9205   \n",
       "1655  832674      1017  440  221     442.5     202.0  0.269149  710.1930   \n",
       "1656  833711      1595  442  213     424.0     206.5  0.068149  725.6645   \n",
       "1657  835366       160  240  236     241.5     229.0  0.116649  718.6945   \n",
       "1658  835566       199   83  252     109.5     246.5  0.121149  719.7110   \n",
       "1659  835904       140  242  222     253.5     227.5  0.057149  718.8815   \n",
       "1661  836782       199  571  223     537.0     226.5 -0.050351  703.9995   \n",
       "1662  837101       100  616  223     616.0     232.0 -0.168851  701.9990   \n",
       "1663  837360       100   90  715      96.5     698.5  0.021149  708.3810   \n",
       "1664  838995       100   99  883      84.5     893.5 -0.159851  704.1845   \n",
       "1665  839114       180  107  896     114.5     913.0  0.072649  707.4605   \n",
       "\n",
       "        PupilDilation    Minutes  \n",
       "1483  Squeezed Pupil   12.002783  \n",
       "1484    Dilated Pupil  12.006117  \n",
       "1485    Dilated Pupil  12.010767  \n",
       "1486  Squeezed Pupil   12.016083  \n",
       "1487    Dilated Pupil  12.019067  \n",
       "1488  Squeezed Pupil   12.024383  \n",
       "1489    Dilated Pupil  12.028367  \n",
       "1490    Dilated Pupil  12.030700  \n",
       "1491    Dilated Pupil  12.033033  \n",
       "1492    Dilated Pupil  12.038017  \n",
       "1493    Dilated Pupil  12.045650  \n",
       "1494  Squeezed Pupil   12.075900  \n",
       "1495  Squeezed Pupil   12.082867  \n",
       "1496  Squeezed Pupil   12.101817  \n",
       "1497  Squeezed Pupil   12.112767  \n",
       "1498  Squeezed Pupil   12.117767  \n",
       "1500  Squeezed Pupil   12.142017  \n",
       "1501  Squeezed Pupil   12.145333  \n",
       "1503    Dilated Pupil  12.155967  \n",
       "1504  Squeezed Pupil   12.162617  \n",
       "1505    Dilated Pupil  12.166933  \n",
       "1507  Squeezed Pupil   12.175250  \n",
       "1508  Squeezed Pupil   12.179900  \n",
       "1509  Squeezed Pupil   12.183550  \n",
       "1510  Squeezed Pupil   12.185883  \n",
       "1511  Squeezed Pupil   12.196517  \n",
       "1512  Squeezed Pupil   12.202833  \n",
       "1513  Squeezed Pupil   12.205817  \n",
       "1515  Squeezed Pupil   12.214450  \n",
       "1516  Squeezed Pupil   12.218450  \n",
       "...               ...        ...  \n",
       "1634  Squeezed Pupil   13.460883  \n",
       "1635    Dilated Pupil  13.484800  \n",
       "1636  Squeezed Pupil   13.575200  \n",
       "1637    Dilated Pupil  13.590817  \n",
       "1638    Dilated Pupil  13.602433  \n",
       "1639  Squeezed Pupil   13.657267  \n",
       "1640    Dilated Pupil  13.670567  \n",
       "1641    Dilated Pupil  13.685517  \n",
       "1642  Squeezed Pupil   13.689500  \n",
       "1643  Squeezed Pupil   13.714083  \n",
       "1644  Squeezed Pupil   13.777550  \n",
       "1645  Squeezed Pupil   13.780217  \n",
       "1646  Squeezed Pupil   13.783533  \n",
       "1648  Squeezed Pupil   13.792517  \n",
       "1649    Dilated Pupil  13.798500  \n",
       "1650    Dilated Pupil  13.805467  \n",
       "1651  Squeezed Pupil   13.811117  \n",
       "1652    Dilated Pupil  13.814450  \n",
       "1653    Dilated Pupil  13.853650  \n",
       "1654    Dilated Pupil  13.868933  \n",
       "1655    Dilated Pupil  13.877900  \n",
       "1656    Dilated Pupil  13.895183  \n",
       "1657    Dilated Pupil  13.922767  \n",
       "1658    Dilated Pupil  13.926100  \n",
       "1659    Dilated Pupil  13.931733  \n",
       "1661  Squeezed Pupil   13.946367  \n",
       "1662  Squeezed Pupil   13.951683  \n",
       "1663    Dilated Pupil  13.956000  \n",
       "1664  Squeezed Pupil   13.983250  \n",
       "1665    Dilated Pupil  13.985233  \n",
       "\n",
       "[158 rows x 10 columns]"
      ]
     },
     "execution_count": 33,
     "metadata": {},
     "output_type": "execute_result"
    }
   ],
   "source": [
    "tfixedgaze[(tfixedgaze['Minutes']>=12) & (tfixedgaze['Minutes']<14)]"
   ]
  },
  {
   "cell_type": "code",
   "execution_count": 47,
   "metadata": {},
   "outputs": [],
   "source": [
    "tfixedgazeevent = pd.concat([tfixedgaze, teventdf], join = \"outer\",axis = 0, sort = True)"
   ]
  },
  {
   "cell_type": "code",
   "execution_count": 49,
   "metadata": {},
   "outputs": [],
   "source": [
    "tfixedgazeevent[\"Minutes\"] = tfixedgazeevent[\"Time\"].apply(lambda x:x/60000)\n"
   ]
  },
  {
   "cell_type": "code",
   "execution_count": 50,
   "metadata": {},
   "outputs": [],
   "source": [
    "for event in tfixedgazeevent['Event']:\n",
    "    if event == 'LMouseButton':\n",
    "        tfixedgazeevent['X'] = tfixedgazeevent['Data1']\n",
    "        tfixedgazeevent['Y'] = tfixedgazeevent['Data2']\n",
    "    elif event == 'RMouseButton':\n",
    "        tfixedgazeevent['X'] = tfixedgazeevent['Data1']\n",
    "        tfixedgazeevent['Y'] = tfixedgazeevent['Data2']"
   ]
  },
  {
   "cell_type": "code",
   "execution_count": 56,
   "metadata": {},
   "outputs": [
    {
     "name": "stderr",
     "output_type": "stream",
     "text": [
      "c:\\users\\saumy\\appdata\\local\\programs\\python\\python37\\lib\\site-packages\\ipykernel_launcher.py:100: UserWarning:\n",
      "\n",
      "Boolean Series key will be reindexed to match DataFrame index.\n",
      "\n",
      "c:\\users\\saumy\\appdata\\local\\programs\\python\\python37\\lib\\site-packages\\ipykernel_launcher.py:104: SettingWithCopyWarning:\n",
      "\n",
      "\n",
      "A value is trying to be set on a copy of a slice from a DataFrame.\n",
      "Try using .loc[row_indexer,col_indexer] = value instead\n",
      "\n",
      "See the caveats in the documentation: http://pandas.pydata.org/pandas-docs/stable/indexing.html#indexing-view-versus-copy\n",
      "\n",
      "c:\\users\\saumy\\appdata\\local\\programs\\python\\python37\\lib\\site-packages\\ipykernel_launcher.py:124: SettingWithCopyWarning:\n",
      "\n",
      "\n",
      "A value is trying to be set on a copy of a slice from a DataFrame.\n",
      "Try using .loc[row_indexer,col_indexer] = value instead\n",
      "\n",
      "See the caveats in the documentation: http://pandas.pydata.org/pandas-docs/stable/indexing.html#indexing-view-versus-copy\n",
      "\n",
      "c:\\users\\saumy\\appdata\\local\\programs\\python\\python37\\lib\\site-packages\\ipykernel_launcher.py:168: SettingWithCopyWarning:\n",
      "\n",
      "\n",
      "A value is trying to be set on a copy of a slice from a DataFrame.\n",
      "Try using .loc[row_indexer,col_indexer] = value instead\n",
      "\n",
      "See the caveats in the documentation: http://pandas.pydata.org/pandas-docs/stable/indexing.html#indexing-view-versus-copy\n",
      "\n",
      "c:\\users\\saumy\\appdata\\local\\programs\\python\\python37\\lib\\site-packages\\ipykernel_launcher.py:188: SettingWithCopyWarning:\n",
      "\n",
      "\n",
      "A value is trying to be set on a copy of a slice from a DataFrame.\n",
      "Try using .loc[row_indexer,col_indexer] = value instead\n",
      "\n",
      "See the caveats in the documentation: http://pandas.pydata.org/pandas-docs/stable/indexing.html#indexing-view-versus-copy\n",
      "\n"
     ]
    },
    {
     "data": {
      "application/vnd.plotly.v1+json": {
       "config": {
        "plotlyServerURL": "https://plot.ly"
       },
       "data": [
        {
         "marker": {
          "opacity": 0.5,
          "size": [
           100,
           139,
           199,
           359,
           100,
           219,
           299,
           160,
           499,
           299,
           279,
           180,
           140,
           120,
           140,
           120,
           120,
           139,
           160,
           160,
           180,
           219,
           119,
           120,
           119
          ],
          "sizemode": "area",
          "sizeref": 0,
          "symbol": 0
         },
         "mode": "markers",
         "name": "Dilated Pupil",
         "text": [
          " Minute: 0.004<br>Duration: 0.00167",
          " Minute: 0.069<br>Duration: 0.00232",
          " Minute: 0.077<br>Duration: 0.00332",
          " Minute: 0.08<br>Duration: 0.00598",
          " Minute: 0.095<br>Duration: 0.00167",
          " Minute: 0.11<br>Duration: 0.00365",
          " Minute: 0.116<br>Duration: 0.00498",
          " Minute: 0.13<br>Duration: 0.00267",
          " Minute: 0.133<br>Duration: 0.00832",
          " Minute: 0.142<br>Duration: 0.00498",
          " Minute: 0.147<br>Duration: 0.00465",
          " Minute: 0.152<br>Duration: 0.003",
          " Minute: 0.163<br>Duration: 0.00233",
          " Minute: 0.167<br>Duration: 0.002",
          " Minute: 0.17<br>Duration: 0.00233",
          " Minute: 0.178<br>Duration: 0.002",
          " Minute: 0.196<br>Duration: 0.002",
          " Minute: 0.2<br>Duration: 0.00232",
          " Minute: 0.21<br>Duration: 0.00267",
          " Minute: 0.217<br>Duration: 0.00267",
          " Minute: 0.22<br>Duration: 0.003",
          " Minute: 0.223<br>Duration: 0.00365",
          " Minute: 0.231<br>Duration: 0.00198",
          " Minute: 0.242<br>Duration: 0.002",
          " Minute: 0.249<br>Duration: 0.00198"
         ],
         "type": "scatter",
         "x": [
          673,
          388,
          350,
          479,
          679,
          119,
          119,
          292,
          471,
          471,
          556,
          604,
          201,
          200,
          311,
          447,
          244,
          91,
          123,
          295,
          269,
          77,
          263,
          579,
          628
         ],
         "y": [
          469,
          191,
          454,
          452,
          425,
          193,
          196,
          203,
          228,
          232,
          240,
          235,
          179,
          174,
          207,
          189,
          208,
          246,
          229,
          218,
          233,
          271,
          215,
          242,
          220
         ]
        },
        {
         "marker": {
          "opacity": 0.5,
          "size": [
           179,
           179,
           120,
           120,
           140
          ],
          "sizemode": "area",
          "sizeref": 0,
          "symbol": 0
         },
         "mode": "markers",
         "name": "Squeezed Pupil ",
         "text": [
          " Minute: 0.013<br>Duration: 0.00298",
          " Minute: 0.019<br>Duration: 0.00298",
          " Minute: 0.03<br>Duration: 0.002",
          " Minute: 0.172<br>Duration: 0.002",
          " Minute: 0.245<br>Duration: 0.00233"
         ],
         "type": "scatter",
         "x": [
          648,
          641,
          674,
          313,
          626
         ],
         "y": [
          534,
          454,
          482,
          193,
          250
         ]
        },
        {
         "marker": {
          "size": 10,
          "sizemode": "area",
          "sizeref": 1,
          "symbol": 207
         },
         "mode": "markers",
         "name": "LMouseButton",
         "text": [
          " Minute: 0.147"
         ],
         "type": "scatter",
         "x": [
          468
         ],
         "y": [
          221
         ]
        },
        {
         "marker": {
          "size": 10,
          "sizemode": "area",
          "sizeref": 1,
          "symbol": 3
         },
         "mode": "markers",
         "name": "LMouseButton",
         "text": [
          " Minute: 0.147"
         ],
         "type": "scatter",
         "x": [],
         "y": []
        }
       ],
       "frames": [
        {
         "data": [
          {
           "marker": {
            "opacity": 0.5,
            "size": [
             100,
             139,
             199,
             359,
             100,
             219,
             299,
             160,
             499,
             299,
             279,
             180,
             140,
             120,
             140,
             120,
             120,
             139,
             160,
             160,
             180,
             219,
             119,
             120,
             119
            ],
            "sizemode": "area",
            "sizeref": 0,
            "symbol": 0
           },
           "mode": "markers",
           "name": "Dilated Pupil",
           "text": [
            " Minutes: 0.004<br>Duration: 0",
            " Minutes: 0.069<br>Duration: 0",
            " Minutes: 0.077<br>Duration: 0",
            " Minutes: 0.08<br>Duration: 0",
            " Minutes: 0.095<br>Duration: 0",
            " Minutes: 0.11<br>Duration: 0",
            " Minutes: 0.116<br>Duration: 0",
            " Minutes: 0.13<br>Duration: 0",
            " Minutes: 0.133<br>Duration: 0",
            " Minutes: 0.142<br>Duration: 0",
            " Minutes: 0.147<br>Duration: 0",
            " Minutes: 0.152<br>Duration: 0",
            " Minutes: 0.163<br>Duration: 0",
            " Minutes: 0.167<br>Duration: 0",
            " Minutes: 0.17<br>Duration: 0",
            " Minutes: 0.178<br>Duration: 0",
            " Minutes: 0.196<br>Duration: 0",
            " Minutes: 0.2<br>Duration: 0",
            " Minutes: 0.21<br>Duration: 0",
            " Minutes: 0.217<br>Duration: 0",
            " Minutes: 0.22<br>Duration: 0",
            " Minutes: 0.223<br>Duration: 0",
            " Minutes: 0.231<br>Duration: 0",
            " Minutes: 0.242<br>Duration: 0",
            " Minutes: 0.249<br>Duration: 0"
           ],
           "type": "scatter",
           "x": [
            673,
            388,
            350,
            479,
            679,
            119,
            119,
            292,
            471,
            471,
            556,
            604,
            201,
            200,
            311,
            447,
            244,
            91,
            123,
            295,
            269,
            77,
            263,
            579,
            628
           ],
           "y": [
            469,
            191,
            454,
            452,
            425,
            193,
            196,
            203,
            228,
            232,
            240,
            235,
            179,
            174,
            207,
            189,
            208,
            246,
            229,
            218,
            233,
            271,
            215,
            242,
            220
           ]
          },
          {
           "marker": {
            "opacity": 0.5,
            "size": [
             179,
             179,
             120,
             120,
             140
            ],
            "sizemode": "area",
            "sizeref": 0,
            "symbol": 0
           },
           "mode": "markers",
           "name": "Squeezed Pupil ",
           "text": [
            " Minutes: 0.013<br>Duration: 0",
            " Minutes: 0.019<br>Duration: 0",
            " Minutes: 0.03<br>Duration: 0",
            " Minutes: 0.172<br>Duration: 0",
            " Minutes: 0.245<br>Duration: 0"
           ],
           "type": "scatter",
           "x": [
            648,
            641,
            674,
            313,
            626
           ],
           "y": [
            534,
            454,
            482,
            193,
            250
           ]
          },
          {
           "marker": {
            "size": 10,
            "sizemode": "area",
            "sizeref": 1,
            "symbol": 207
           },
           "mode": "markers",
           "name": "LMouseButton",
           "text": [
            " Minute: 0.147"
           ],
           "type": "scatter",
           "x": [
            468
           ],
           "y": [
            221
           ]
          }
         ],
         "name": "0.25"
        },
        {
         "data": [
          {
           "marker": {
            "opacity": 0.5,
            "size": [
             259,
             239,
             339,
             100,
             319,
             299,
             180,
             159,
             359,
             120,
             139,
             778,
             758,
             279,
             399,
             259,
             1635,
             279,
             139,
             399,
             578,
             498,
             399,
             957,
             798,
             179,
             379
            ],
            "sizemode": "area",
            "sizeref": 0,
            "symbol": 0
           },
           "mode": "markers",
           "name": "Dilated Pupil",
           "text": [
            " Minutes: 0.252<br>Duration: 0",
            " Minutes: 0.257<br>Duration: 0",
            " Minutes: 0.261<br>Duration: 0",
            " Minutes: 0.272<br>Duration: 0",
            " Minutes: 0.276<br>Duration: 0",
            " Minutes: 0.282<br>Duration: 0",
            " Minutes: 0.288<br>Duration: 0",
            " Minutes: 0.291<br>Duration: 0",
            " Minutes: 0.294<br>Duration: 0",
            " Minutes: 0.301<br>Duration: 0",
            " Minutes: 0.303<br>Duration: 0",
            " Minutes: 0.306<br>Duration: 0",
            " Minutes: 0.319<br>Duration: 0",
            " Minutes: 0.333<br>Duration: 0",
            " Minutes: 0.358<br>Duration: 0",
            " Minutes: 0.365<br>Duration: 0",
            " Minutes: 0.38<br>Duration: 0",
            " Minutes: 0.407<br>Duration: 0",
            " Minutes: 0.414<br>Duration: 0",
            " Minutes: 0.417<br>Duration: 0",
            " Minutes: 0.427<br>Duration: 0",
            " Minutes: 0.437<br>Duration: 0",
            " Minutes: 0.449<br>Duration: 0",
            " Minutes: 0.456<br>Duration: 0",
            " Minutes: 0.474<br>Duration: 0",
            " Minutes: 0.488<br>Duration: 0",
            " Minutes: 0.494<br>Duration: 0"
           ],
           "type": "scatter",
           "x": [
            617,
            620,
            491,
            254,
            72,
            266,
            525,
            608,
            612,
            513,
            505,
            609,
            619,
            623,
            623,
            667,
            623,
            598,
            580,
            586,
            503,
            617,
            753,
            622,
            617,
            507,
            479
           ],
           "y": [
            194,
            188,
            172,
            201,
            239,
            214,
            190,
            199,
            225,
            237,
            220,
            221,
            220,
            208,
            222,
            211,
            199,
            191,
            212,
            201,
            195,
            204,
            218,
            194,
            198,
            182,
            195
           ]
          },
          {
           "marker": {
            "opacity": 0.5,
            "size": [],
            "sizemode": "area",
            "sizeref": 0,
            "symbol": 0
           },
           "mode": "markers",
           "name": "Squeezed Pupil ",
           "text": [],
           "type": "scatter",
           "x": [],
           "y": []
          },
          {
           "marker": {
            "size": 10,
            "sizemode": "area",
            "sizeref": 1,
            "symbol": 207
           },
           "mode": "markers",
           "name": "LMouseButton",
           "text": [
            " Minute: 0.287",
            " Minute: 0.298",
            " Minute: 0.31",
            " Minute: 0.329",
            " Minute: 0.339",
            " Minute: 0.344",
            " Minute: 0.359",
            " Minute: 0.367",
            " Minute: 0.374",
            " Minute: 0.387",
            " Minute: 0.394",
            " Minute: 0.399",
            " Minute: 0.409",
            " Minute: 0.417",
            " Minute: 0.421",
            " Minute: 0.431",
            " Minute: 0.452",
            " Minute: 0.474",
            " Minute: 0.492",
            " Minute: 0.499"
           ],
           "type": "scatter",
           "x": [
            588,
            607,
            594,
            589,
            585,
            584,
            613,
            587,
            587,
            599,
            601,
            604,
            583,
            578,
            577,
            510,
            593,
            604,
            584,
            578
           ],
           "y": [
            230,
            234,
            240,
            231,
            251,
            238,
            232,
            232,
            220,
            217,
            217,
            217,
            230,
            223,
            219,
            230,
            220,
            213,
            232,
            216
           ]
          }
         ],
         "name": "0.5"
        },
        {
         "data": [
          {
           "marker": {
            "opacity": 0.5,
            "size": [
             100,
             259,
             239,
             179,
             299,
             120,
             100,
             538,
             140,
             239,
             618,
             179,
             279,
             678,
             339,
             319,
             299,
             199,
             199,
             120,
             219,
             100,
             558,
             100,
             279,
             199,
             139,
             159,
             359,
             319,
             140,
             339,
             140,
             439,
             239,
             199,
             439
            ],
            "sizemode": "area",
            "sizeref": 0,
            "symbol": 0
           },
           "mode": "markers",
           "name": "Dilated Pupil",
           "text": [
            " Minutes: 0.5<br>Duration: 0",
            " Minutes: 0.502<br>Duration: 0",
            " Minutes: 0.508<br>Duration: 0",
            " Minutes: 0.514<br>Duration: 0",
            " Minutes: 0.517<br>Duration: 0",
            " Minutes: 0.526<br>Duration: 0",
            " Minutes: 0.529<br>Duration: 0",
            " Minutes: 0.533<br>Duration: 0",
            " Minutes: 0.565<br>Duration: 0",
            " Minutes: 0.567<br>Duration: 0",
            " Minutes: 0.572<br>Duration: 0",
            " Minutes: 0.582<br>Duration: 0",
            " Minutes: 0.586<br>Duration: 0",
            " Minutes: 0.591<br>Duration: 0",
            " Minutes: 0.603<br>Duration: 0",
            " Minutes: 0.609<br>Duration: 0",
            " Minutes: 0.615<br>Duration: 0",
            " Minutes: 0.62<br>Duration: 0",
            " Minutes: 0.642<br>Duration: 0",
            " Minutes: 0.655<br>Duration: 0",
            " Minutes: 0.657<br>Duration: 0",
            " Minutes: 0.663<br>Duration: 0",
            " Minutes: 0.665<br>Duration: 0",
            " Minutes: 0.675<br>Duration: 0",
            " Minutes: 0.677<br>Duration: 0",
            " Minutes: 0.682<br>Duration: 0",
            " Minutes: 0.685<br>Duration: 0",
            " Minutes: 0.694<br>Duration: 0",
            " Minutes: 0.697<br>Duration: 0",
            " Minutes: 0.703<br>Duration: 0",
            " Minutes: 0.709<br>Duration: 0",
            " Minutes: 0.713<br>Duration: 0",
            " Minutes: 0.72<br>Duration: 0",
            " Minutes: 0.729<br>Duration: 0",
            " Minutes: 0.737<br>Duration: 0",
            " Minutes: 0.743<br>Duration: 0",
            " Minutes: 0.747<br>Duration: 0"
           ],
           "type": "scatter",
           "x": [
            474,
            601,
            608,
            718,
            787,
            686,
            686,
            575,
            572,
            567,
            607,
            605,
            589,
            629,
            590,
            570,
            571,
            450,
            446,
            448,
            608,
            614,
            609,
            603,
            607,
            601,
            638,
            604,
            609,
            606,
            606,
            513,
            647,
            611,
            608,
            606,
            614
           ],
           "y": [
            236,
            279,
            275,
            264,
            239,
            291,
            297,
            245,
            247,
            235,
            238,
            236,
            185,
            170,
            244,
            249,
            241,
            225,
            232,
            233,
            239,
            247,
            242,
            238,
            242,
            274,
            259,
            269,
            279,
            273,
            267,
            260,
            260,
            260,
            263,
            268,
            265
           ]
          },
          {
           "marker": {
            "opacity": 0.5,
            "size": [],
            "sizemode": "area",
            "sizeref": 0,
            "symbol": 0
           },
           "mode": "markers",
           "name": "Squeezed Pupil ",
           "text": [],
           "type": "scatter",
           "x": [],
           "y": []
          },
          {
           "marker": {
            "size": 10,
            "sizemode": "area",
            "sizeref": 1,
            "symbol": 207
           },
           "mode": "markers",
           "name": "LMouseButton",
           "text": [
            " Minute: 0.538",
            " Minute: 0.545",
            " Minute: 0.555",
            " Minute: 0.559",
            " Minute: 0.567",
            " Minute: 0.576",
            " Minute: 0.581",
            " Minute: 0.599",
            " Minute: 0.61",
            " Minute: 0.613",
            " Minute: 0.636",
            " Minute: 0.638",
            " Minute: 0.645",
            " Minute: 0.646",
            " Minute: 0.651",
            " Minute: 0.672",
            " Minute: 0.694",
            " Minute: 0.712",
            " Minute: 0.728",
            " Minute: 0.746"
           ],
           "type": "scatter",
           "x": [
            576,
            577,
            601,
            602,
            565,
            631,
            588,
            661,
            568,
            568,
            563,
            600,
            591,
            607,
            586,
            590
           ],
           "y": [
            223,
            216,
            216,
            215,
            236,
            213,
            214,
            89,
            218,
            218,
            235,
            232,
            250,
            249,
            249,
            268
           ]
          }
         ],
         "name": "0.75"
        },
        {
         "data": [
          {
           "marker": {
            "opacity": 0.5,
            "size": [
             160,
             219,
             578,
             199,
             100,
             100,
             459,
             259,
             180,
             120,
             179,
             199,
             658,
             180,
             120,
             179,
             120,
             279,
             379,
             120,
             498,
             120,
             120,
             160,
             160,
             159,
             339,
             299,
             179,
             219,
             259
            ],
            "sizemode": "area",
            "sizeref": 0,
            "symbol": 0
           },
           "mode": "markers",
           "name": "Dilated Pupil",
           "text": [
            " Minutes: 0.755<br>Duration: 0",
            " Minutes: 0.758<br>Duration: 0",
            " Minutes: 0.764<br>Duration: 0",
            " Minutes: 0.782<br>Duration: 0",
            " Minutes: 0.786<br>Duration: 0",
            " Minutes: 0.793<br>Duration: 0",
            " Minutes: 0.802<br>Duration: 0",
            " Minutes: 0.816<br>Duration: 0",
            " Minutes: 0.852<br>Duration: 0",
            " Minutes: 0.856<br>Duration: 0",
            " Minutes: 0.859<br>Duration: 0",
            " Minutes: 0.862<br>Duration: 0",
            " Minutes: 0.866<br>Duration: 0",
            " Minutes: 0.881<br>Duration: 0",
            " Minutes: 0.885<br>Duration: 0",
            " Minutes: 0.89<br>Duration: 0",
            " Minutes: 0.893<br>Duration: 0",
            " Minutes: 0.898<br>Duration: 0",
            " Minutes: 0.905<br>Duration: 0",
            " Minutes: 0.912<br>Duration: 0",
            " Minutes: 0.917<br>Duration: 0",
            " Minutes: 0.926<br>Duration: 0",
            " Minutes: 0.928<br>Duration: 0",
            " Minutes: 0.933<br>Duration: 0",
            " Minutes: 0.946<br>Duration: 0",
            " Minutes: 0.962<br>Duration: 0",
            " Minutes: 0.971<br>Duration: 0",
            " Minutes: 0.979<br>Duration: 0",
            " Minutes: 0.985<br>Duration: 0",
            " Minutes: 0.988<br>Duration: 0",
            " Minutes: 0.995<br>Duration: 0"
           ],
           "type": "scatter",
           "x": [
            612,
            616,
            515,
            257,
            92,
            275,
            493,
            457,
            675,
            728,
            768,
            657,
            451,
            255,
            62,
            419,
            416,
            444,
            596,
            598,
            626,
            624,
            624,
            451,
            79,
            461,
            609,
            619,
            608,
            606,
            517
           ],
           "y": [
            263,
            275,
            304,
            247,
            265,
            242,
            274,
            265,
            292,
            294,
            302,
            315,
            282,
            283,
            296,
            269,
            288,
            285,
            288,
            290,
            284,
            292,
            270,
            296,
            293,
            275,
            298,
            293,
            300,
            294,
            254
           ]
          },
          {
           "marker": {
            "opacity": 0.5,
            "size": [
             160,
             120,
             140,
             279,
             299,
             179,
             100
            ],
            "sizemode": "area",
            "sizeref": 0,
            "symbol": 0
           },
           "mode": "markers",
           "name": "Squeezed Pupil ",
           "text": [
            " Minutes: 0.789<br>Duration: 0",
            " Minutes: 0.812<br>Duration: 0",
            " Minutes: 0.82<br>Duration: 0",
            " Minutes: 0.836<br>Duration: 0",
            " Minutes: 0.842<br>Duration: 0",
            " Minutes: 0.878<br>Duration: 0",
            " Minutes: 0.966<br>Duration: 0"
           ],
           "type": "scatter",
           "x": [
            81,
            483,
            440,
            622,
            609,
            278,
            620
           ],
           "y": [
            255,
            306,
            225,
            285,
            302,
            271,
            294
           ]
          },
          {
           "marker": {
            "size": 10,
            "sizemode": "area",
            "sizeref": 1,
            "symbol": 207
           },
           "mode": "markers",
           "name": "LMouseButton",
           "text": [
            " Minute: 0.758",
            " Minute: 0.799",
            " Minute: 0.975",
            " Minute: 0.987"
           ],
           "type": "scatter",
           "x": [
            610,
            550,
            589,
            611
           ],
           "y": [
            267,
            279,
            284,
            284
           ]
          }
         ],
         "name": "1.0"
        },
        {
         "data": [
          {
           "marker": {
            "opacity": 0.5,
            "size": [
             259,
             160,
             459,
             399,
             180,
             199,
             159,
             140,
             359,
             160,
             399,
             159,
             120,
             279,
             339,
             439,
             180,
             159,
             100,
             518,
             219,
             319,
             339,
             199,
             359,
             219,
             339,
             2054
            ],
            "sizemode": "area",
            "sizeref": 0,
            "symbol": 0
           },
           "mode": "markers",
           "name": "Dilated Pupil",
           "text": [
            " Minutes: 1.002<br>Duration: 0",
            " Minutes: 1.007<br>Duration: 0",
            " Minutes: 1.01<br>Duration: 0",
            " Minutes: 1.018<br>Duration: 0",
            " Minutes: 1.025<br>Duration: 0",
            " Minutes: 1.03<br>Duration: 0",
            " Minutes: 1.033<br>Duration: 0",
            " Minutes: 1.036<br>Duration: 0",
            " Minutes: 1.045<br>Duration: 0",
            " Minutes: 1.052<br>Duration: 0",
            " Minutes: 1.081<br>Duration: 0",
            " Minutes: 1.106<br>Duration: 0",
            " Minutes: 1.11<br>Duration: 0",
            " Minutes: 1.123<br>Duration: 0",
            " Minutes: 1.129<br>Duration: 0",
            " Minutes: 1.141<br>Duration: 0",
            " Minutes: 1.149<br>Duration: 0",
            " Minutes: 1.153<br>Duration: 0",
            " Minutes: 1.156<br>Duration: 0",
            " Minutes: 1.158<br>Duration: 0",
            " Minutes: 1.167<br>Duration: 0",
            " Minutes: 1.171<br>Duration: 0",
            " Minutes: 1.176<br>Duration: 0",
            " Minutes: 1.182<br>Duration: 0",
            " Minutes: 1.186<br>Duration: 0",
            " Minutes: 1.194<br>Duration: 0",
            " Minutes: 1.236<br>Duration: 0",
            " Minutes: 1.249<br>Duration: 0"
           ],
           "type": "scatter",
           "x": [
            454,
            461,
            439,
            266,
            250,
            65,
            109,
            272,
            443,
            118,
            441,
            272,
            79,
            440,
            268,
            280,
            444,
            456,
            451,
            451,
            447,
            446,
            460,
            466,
            451,
            444,
            445,
            443
           ],
           "y": [
            276,
            290,
            249,
            249,
            240,
            250,
            260,
            242,
            246,
            247,
            231,
            228,
            229,
            241,
            222,
            213,
            245,
            248,
            233,
            240,
            232,
            235,
            283,
            298,
            279,
            246,
            227,
            231
           ]
          },
          {
           "marker": {
            "opacity": 0.5,
            "size": [
             239,
             419,
             658,
             140
            ],
            "sizemode": "area",
            "sizeref": 0,
            "symbol": 0
           },
           "mode": "markers",
           "name": "Squeezed Pupil ",
           "text": [
            " Minutes: 1.098<br>Duration: 0",
            " Minutes: 1.198<br>Duration: 0",
            " Minutes: 1.208<br>Duration: 0",
            " Minutes: 1.233<br>Duration: 0"
           ],
           "type": "scatter",
           "x": [
            69,
            435,
            442,
            459
           ],
           "y": [
            241,
            231,
            226,
            209
           ]
          },
          {
           "marker": {
            "size": 10,
            "sizemode": "area",
            "sizeref": 1,
            "symbol": 207
           },
           "mode": "markers",
           "name": "LMouseButton",
           "text": [
            " Minute: 1.002",
            " Minute: 1.047",
            " Minute: 1.064",
            " Minute: 1.068",
            " Minute: 1.073",
            " Minute: 1.09",
            " Minute: 1.114",
            " Minute: 1.122",
            " Minute: 1.123",
            " Minute: 1.123",
            " Minute: 1.13",
            " Minute: 1.131",
            " Minute: 1.153",
            " Minute: 1.183",
            " Minute: 1.214",
            " Minute: 1.238",
            " Minute: 1.243"
           ],
           "type": "scatter",
           "x": [
            582,
            481,
            479,
            483,
            523,
            472
           ],
           "y": [
            234,
            249,
            235,
            217,
            273,
            220
           ]
          }
         ],
         "name": "1.25"
        },
        {
         "data": [
          {
           "marker": {
            "opacity": 0.5,
            "size": [
             199,
             120,
             299,
             499,
             319,
             259,
             140,
             259,
             140
            ],
            "sizemode": "area",
            "sizeref": 0,
            "symbol": 0
           },
           "mode": "markers",
           "name": "Dilated Pupil",
           "text": [
            " Minutes: 1.284<br>Duration: 0",
            " Minutes: 1.291<br>Duration: 0",
            " Minutes: 1.293<br>Duration: 0",
            " Minutes: 1.298<br>Duration: 0",
            " Minutes: 1.307<br>Duration: 0",
            " Minutes: 1.343<br>Duration: 0",
            " Minutes: 1.383<br>Duration: 0",
            " Minutes: 1.421<br>Duration: 0",
            " Minutes: 1.426<br>Duration: 0"
           ],
           "type": "scatter",
           "x": [
            450,
            453,
            452,
            445,
            283,
            336,
            264,
            507,
            500
           ],
           "y": [
            269,
            279,
            271,
            250,
            238,
            237,
            262,
            292,
            281
           ]
          },
          {
           "marker": {
            "opacity": 0.5,
            "size": [
             359,
             219,
             100,
             259,
             558,
             160,
             259,
             120,
             199,
             140,
             140,
             219
            ],
            "sizemode": "area",
            "sizeref": 0,
            "symbol": 0
           },
           "mode": "markers",
           "name": "Squeezed Pupil ",
           "text": [
            " Minutes: 1.313<br>Duration: 0",
            " Minutes: 1.367<br>Duration: 0",
            " Minutes: 1.372<br>Duration: 0",
            " Minutes: 1.376<br>Duration: 0",
            " Minutes: 1.404<br>Duration: 0",
            " Minutes: 1.431<br>Duration: 0",
            " Minutes: 1.436<br>Duration: 0",
            " Minutes: 1.457<br>Duration: 0",
            " Minutes: 1.474<br>Duration: 0",
            " Minutes: 1.483<br>Duration: 0",
            " Minutes: 1.491<br>Duration: 0",
            " Minutes: 1.496<br>Duration: 0"
           ],
           "type": "scatter",
           "x": [
            66,
            314,
            274,
            60,
            613,
            507,
            506,
            520,
            500,
            613,
            497,
            263
           ],
           "y": [
            254,
            248,
            244,
            250,
            277,
            286,
            299,
            299,
            287,
            273,
            300,
            253
           ]
          },
          {
           "marker": {
            "size": 10,
            "sizemode": "area",
            "sizeref": 1,
            "symbol": 207
           },
           "mode": "markers",
           "name": "LMouseButton",
           "text": [
            " Minute: 1.255",
            " Minute: 1.274",
            " Minute: 1.277",
            " Minute: 1.302",
            " Minute: 1.416"
           ],
           "type": "scatter",
           "x": [
            476,
            609
           ],
           "y": [
            250,
            248
           ]
          }
         ],
         "name": "1.5"
        },
        {
         "data": [
          {
           "marker": {
            "opacity": 0.5,
            "size": [
             120,
             219,
             160,
             160,
             239,
             319,
             140,
             279,
             120,
             160,
             598
            ],
            "sizemode": "area",
            "sizeref": 0,
            "symbol": 0
           },
           "mode": "markers",
           "name": "Dilated Pupil",
           "text": [
            " Minutes: 1.541<br>Duration: 0",
            " Minutes: 1.543<br>Duration: 0",
            " Minutes: 1.553<br>Duration: 0",
            " Minutes: 1.556<br>Duration: 0",
            " Minutes: 1.56<br>Duration: 0",
            " Minutes: 1.579<br>Duration: 0",
            " Minutes: 1.595<br>Duration: 0",
            " Minutes: 1.597<br>Duration: 0",
            " Minutes: 1.645<br>Duration: 0",
            " Minutes: 1.655<br>Duration: 0",
            " Minutes: 1.741<br>Duration: 0"
           ],
           "type": "scatter",
           "x": [
            289,
            325,
            323,
            325,
            509,
            611,
            427,
            428,
            441,
            236,
            531
           ],
           "y": [
            249,
            255,
            252,
            253,
            288,
            290,
            265,
            281,
            281,
            234,
            285
           ]
          },
          {
           "marker": {
            "opacity": 0.5,
            "size": [
             299,
             259,
             179,
             219,
             877,
             379,
             499,
             180,
             120,
             139,
             160,
             120,
             239,
             279,
             100,
             239,
             180,
             259,
             239,
             299,
             279,
             319,
             678
            ],
            "sizemode": "area",
            "sizeref": 0,
            "symbol": 0
           },
           "mode": "markers",
           "name": "Squeezed Pupil ",
           "text": [
            " Minutes: 1.502<br>Duration: 0",
            " Minutes: 1.508<br>Duration: 0",
            " Minutes: 1.514<br>Duration: 0",
            " Minutes: 1.52<br>Duration: 0",
            " Minutes: 1.526<br>Duration: 0",
            " Minutes: 1.564<br>Duration: 0",
            " Minutes: 1.571<br>Duration: 0",
            " Minutes: 1.605<br>Duration: 0",
            " Minutes: 1.618<br>Duration: 0",
            " Minutes: 1.622<br>Duration: 0",
            " Minutes: 1.633<br>Duration: 0",
            " Minutes: 1.638<br>Duration: 0",
            " Minutes: 1.64<br>Duration: 0",
            " Minutes: 1.65<br>Duration: 0",
            " Minutes: 1.66<br>Duration: 0",
            " Minutes: 1.663<br>Duration: 0",
            " Minutes: 1.668<br>Duration: 0",
            " Minutes: 1.681<br>Duration: 0",
            " Minutes: 1.691<br>Duration: 0",
            " Minutes: 1.698<br>Duration: 0",
            " Minutes: 1.709<br>Duration: 0",
            " Minutes: 1.721<br>Duration: 0",
            " Minutes: 1.729<br>Duration: 0"
           ],
           "type": "scatter",
           "x": [
            49,
            252,
            258,
            267,
            270,
            487,
            585,
            39,
            324,
            321,
            322,
            444,
            442,
            248,
            256,
            75,
            275,
            63,
            535,
            244,
            270,
            615,
            615
           ],
           "y": [
            235,
            237,
            243,
            251,
            253,
            275,
            280,
            243,
            270,
            264,
            268,
            284,
            278,
            254,
            221,
            220,
            210,
            236,
            260,
            234,
            237,
            264,
            261
           ]
          },
          {
           "marker": {
            "size": 10,
            "sizemode": "area",
            "sizeref": 1,
            "symbol": 207
           },
           "mode": "markers",
           "name": "LMouseButton",
           "text": [
            " Minute: 1.563",
            " Minute: 1.578",
            " Minute: 1.597",
            " Minute: 1.63",
            " Minute: 1.643",
            " Minute: 1.726",
            " Minute: 1.749"
           ],
           "type": "scatter",
           "x": [
            550,
            561,
            609,
            583,
            551,
            610,
            564
           ],
           "y": [
            281,
            262,
            265,
            279,
            276,
            232,
            272
           ]
          }
         ],
         "name": "1.75"
        },
        {
         "data": [
          {
           "marker": {
            "opacity": 0.5,
            "size": [
             299,
             259,
             439,
             219,
             139,
             100,
             1017,
             140
            ],
            "sizemode": "area",
            "sizeref": 0,
            "symbol": 0
           },
           "mode": "markers",
           "name": "Dilated Pupil",
           "text": [
            " Minutes: 1.752<br>Duration: 0",
            " Minutes: 1.843<br>Duration: 0",
            " Minutes: 1.893<br>Duration: 0",
            " Minutes: 1.903<br>Duration: 0",
            " Minutes: 1.907<br>Duration: 0",
            " Minutes: 1.917<br>Duration: 0",
            " Minutes: 1.942<br>Duration: 0",
            " Minutes: 1.997<br>Duration: 0"
           ],
           "type": "scatter",
           "x": [
            475,
            264,
            518,
            285,
            457,
            234,
            249,
            104
           ],
           "y": [
            249,
            257,
            287,
            227,
            243,
            225,
            237,
            326
           ]
          },
          {
           "marker": {
            "opacity": 0.5,
            "size": [
             339,
             199,
             459,
             319,
             359,
             180,
             279,
             279,
             359,
             339,
             120,
             778,
             219,
             140,
             140,
             179,
             100,
             140,
             219,
             120,
             279,
             279,
             120,
             100,
             259
            ],
            "sizemode": "area",
            "sizeref": 0,
            "symbol": 0
           },
           "mode": "markers",
           "name": "Squeezed Pupil ",
           "text": [
            " Minutes: 1.758<br>Duration: 0",
            " Minutes: 1.783<br>Duration: 0",
            " Minutes: 1.786<br>Duration: 0",
            " Minutes: 1.796<br>Duration: 0",
            " Minutes: 1.806<br>Duration: 0",
            " Minutes: 1.837<br>Duration: 0",
            " Minutes: 1.854<br>Duration: 0",
            " Minutes: 1.859<br>Duration: 0",
            " Minutes: 1.864<br>Duration: 0",
            " Minutes: 1.871<br>Duration: 0",
            " Minutes: 1.877<br>Duration: 0",
            " Minutes: 1.88<br>Duration: 0",
            " Minutes: 1.909<br>Duration: 0",
            " Minutes: 1.92<br>Duration: 0",
            " Minutes: 1.923<br>Duration: 0",
            " Minutes: 1.927<br>Duration: 0",
            " Minutes: 1.933<br>Duration: 0",
            " Minutes: 1.964<br>Duration: 0",
            " Minutes: 1.967<br>Duration: 0",
            " Minutes: 1.971<br>Duration: 0",
            " Minutes: 1.974<br>Duration: 0",
            " Minutes: 1.98<br>Duration: 0",
            " Minutes: 1.987<br>Duration: 0",
            " Minutes: 1.989<br>Duration: 0",
            " Minutes: 1.991<br>Duration: 0"
           ],
           "type": "scatter",
           "x": [
            457,
            617,
            621,
            498,
            68,
            531,
            274,
            350,
            282,
            352,
            367,
            605,
            453,
            66,
            49,
            46,
            47,
            632,
            623,
            621,
            472,
            445,
            312,
            274,
            275
           ],
           "y": [
            260,
            274,
            267,
            287,
            260,
            307,
            274,
            267,
            260,
            253,
            239,
            241,
            247,
            239,
            225,
            219,
            225,
            253,
            254,
            261,
            258,
            247,
            237,
            239,
            241
           ]
          },
          {
           "marker": {
            "size": 10,
            "sizemode": "area",
            "sizeref": 1,
            "symbol": 207
           },
           "mode": "markers",
           "name": "LMouseButton",
           "text": [
            " Minute: 1.763",
            " Minute: 1.782",
            " Minute: 1.842",
            " Minute: 1.858",
            " Minute: 1.89",
            " Minute: 1.901",
            " Minute: 1.911",
            " Minute: 1.974"
           ],
           "type": "scatter",
           "x": [
            547,
            613,
            554,
            545,
            615,
            581,
            528,
            608
           ],
           "y": [
            251,
            247,
            294,
            270,
            214,
            260,
            234,
            231
           ]
          }
         ],
         "name": "2.0"
        },
        {
         "data": [
          {
           "marker": {
            "opacity": 0.5,
            "size": [
             199,
             100,
             160,
             179,
             259,
             100,
             199,
             199,
             120,
             100
            ],
            "sizemode": "area",
            "sizeref": 0,
            "symbol": 0
           },
           "mode": "markers",
           "name": "Dilated Pupil",
           "text": [
            " Minutes: 2.012<br>Duration: 0",
            " Minutes: 2.019<br>Duration: 0",
            " Minutes: 2.021<br>Duration: 0",
            " Minutes: 2.087<br>Duration: 0",
            " Minutes: 2.097<br>Duration: 0",
            " Minutes: 2.106<br>Duration: 0",
            " Minutes: 2.128<br>Duration: 0",ca
            " Minutes: 2.159<br>Duration: 0",
            " Minutes: 2.171<br>Duration: 0",
            " Minutes: 2.243<br>Duration: 0"
           ],
           "type": "scatter",
           "x": [
            308,
            443,
            489,
            449,
            76,
            93,
            277,
            517,
            445,
            88
           ],
           "y": [
            225,
            240,
            270,
            218,
            202,
            173,
            212,
            244,
            435,
            250
           ]
          },
          {
           "marker": {
            "opacity": 0.5,
            "size": [
             179,
             419,
             120,
             658,
             120,
             120,
             160,
             857,
             219,
             279,
             219,
             179,
             179,
             160,
             199,
             140,
             100,
             100
            ],
            "sizemode": "area",
            "sizeref": 0,
            "symbol": 0
           },
           "mode": "markers",
           "name": "Squeezed Pupil ",
           "text": [
            " Minutes: 2.003<br>Duration: 0",
            " Minutes: 2.024<br>Duration: 0",
            " Minutes: 2.031<br>Duration: 0",
            " Minutes: 2.038<br>Duration: 0",
            " Minutes: 2.058<br>Duration: 0",
            " Minutes: 2.074<br>Duration: 0",
            " Minutes: 2.094<br>Duration: 0",
            " Minutes: 2.109<br>Duration: 0",
            " Minutes: 2.124<br>Duration: 0",
            " Minutes: 2.141<br>Duration: 0",
            " Minutes: 2.163<br>Duration: 0",
            " Minutes: 2.167<br>Duration: 0",
            " Minutes: 2.178<br>Duration: 0",
            " Minutes: 2.19<br>Duration: 0",
            " Minutes: 2.231<br>Duration: 0",
            " Minutes: 2.24<br>Duration: 0",
            " Minutes: 2.246<br>Duration: 0",
            " Minutes: 2.249<br>Duration: 0"
           ],
           "type": "scatter",
           "x": [
            57,
            471,
            471,
            471,
            723,
            466,
            272,
            265,
            274,
            448,
            519,
            472,
            67,
            456,
            64,
            89,
            77,
            80
           ],
           "y": [
            241,
            252,
            251,
            262,
            539,
            217,
            216,
            248,
            233,
            230,
            261,
            383,
            563,
            829,
            252,
            256,
            256,
            230
           ]
          },
          {
           "marker": {
            "size": 10,
            "sizemode": "area",
            "sizeref": 1,
            "symbol": 207
           },
           "mode": "markers",
           "name": "LMouseButton",
           "text": [
            " Minute: 2.069"
           ],
           "type": "scatter",
           "x": [
            474
           ],
           "y": [
            226
           ]
          }
         ],
         "name": "2.25"
        },
        {
         "data": [
          {
           "marker": {
            "opacity": 0.5,
            "size": [
             259,
             100,
             119,
             279,
             279,
             179,
             339,
             139,
             319,
             140,
             459,
             259,
             100,
             140,
             100,
             140,
             100,
             259,
             120,
             479,
             638
            ],
            "sizemode": "area",
            "sizeref": 0,
            "symbol": 0
           },
           "mode": "markers",
           "name": "Dilated Pupil",
           "text": [
            " Minutes: 2.263<br>Duration: 0",
            " Minutes: 2.293<br>Duration: 0",
            " Minutes: 2.295<br>Duration: 0",
            " Minutes: 2.304<br>Duration: 0",
            " Minutes: 2.313<br>Duration: 0",
            " Minutes: 2.318<br>Duration: 0",
            " Minutes: 2.324<br>Duration: 0",
            " Minutes: 2.33<br>Duration: 0",
            " Minutes: 2.332<br>Duration: 0",
            " Minutes: 2.339<br>Duration: 0",
            " Minutes: 2.344<br>Duration: 0",
            " Minutes: 2.354<br>Duration: 0",
            " Minutes: 2.364<br>Duration: 0",
            " Minutes: 2.369<br>Duration: 0",
            " Minutes: 2.419<br>Duration: 0",
            " Minutes: 2.436<br>Duration: 0",
            " Minutes: 2.449<br>Duration: 0",
            " Minutes: 2.453<br>Duration: 0",
            " Minutes: 2.458<br>Duration: 0",
            " Minutes: 2.487<br>Duration: 0",
            " Minutes: 2.497<br>Duration: 0"
           ],
           "type": "scatter",
           "x": [
            41,
            55,
            42,
            59,
            67,
            85,
            424,
            459,
            455,
            75,
            271,
            278,
            254,
            264,
            72,
            97,
            182,
            275,
            505,
            456,
            37
           ],
           "y": [
            222,
            311,
            249,
            267,
            252,
            274,
            255,
            233,
            238,
            216,
            233,
            241,
            284,
            250,
            515,
            532,
            207,
            214,
            298,
            217,
            198
           ]
          },
          {
           "marker": {
            "opacity": 0.5,
            "size": [
             100,
             179,
             199,
             159,
             120,
             140,
             159,
             199
            ],
            "sizemode": "area",
            "sizeref": 0,
            "symbol": 0
           },
           "mode": "markers",
           "name": "Squeezed Pupil ",
           "text": [
            " Minutes: 2.272<br>Duration: 0",
            " Minutes: 2.359<br>Duration: 0",
            " Minutes: 2.366<br>Duration: 0",
            " Minutes: 2.372<br>Duration: 0",
            " Minutes: 2.391<br>Duration: 0",
            " Minutes: 2.404<br>Duration: 0",
            " Minutes: 2.48<br>Duration: 0",
            " Minutes: 2.483<br>Duration: 0"
           ],
           "type": "scatter",
           "x": [
            54,
            273,
            256,
            277,
            62,
            60,
            310,
            440
           ],
           "y": [
            250,
            233,
            267,
            255,
            535,
            514,
            202,
            225
           ]
          },
          {
           "marker": {
            "size": 10,
            "sizemode": "area",
            "sizeref": 1,
            "symbol": 207
           },
           "mode": "markers",
           "name": "LMouseButton",
           "text": [
            " Minute: 2.416",
            " Minute: 2.5"
           ],
           "type": "scatter",
           "x": [
            42,
            366
           ],
           "y": [
            548,
            194
           ]
          }
         ],
         "name": "2.5"
        },
        {
         "data": [
          {
           "marker": {
            "opacity": 0.5,
            "size": [
             140,
             339,
             100,
             179,
             199,
             100
            ],
            "sizemode": "area",
            "sizeref": 0,
            "symbol": 0
           },
           "mode": "markers",
           "name": "Dilated Pupil",
           "text": [
            " Minutes: 2.508<br>Duration: 0",
            " Minutes: 2.512<br>Duration: 0",
            " Minutes: 2.564<br>Duration: 0",
            " Minutes: 2.589<br>Duration: 0",
            " Minutes: 2.595<br>Duration: 0",
            " Minutes: 2.71<br>Duration: 0"
           ],
           "type": "scatter",
           "x": [
            406,
            446,
            93,
            74,
            287,
            71
           ],
           "y": [
            203,
            216,
            561,
            286,
            247,
            661
           ]
          },
          {
           "marker": {
            "opacity": 0.5,
            "size": [
             160,
             299,
             219,
             120,
             140,
             120,
             120,
             140,
             379,
             100,
             199,
             100,
             140,
             219,
             179,
             239,
             120,
             219
            ],
            "sizemode": "area",
            "sizeref": 0,
            "symbol": 0
           },
           "mode": "markers",
           "name": "Squeezed Pupil ",
           "text": [
            " Minutes: 2.519<br>Duration: 0",
            " Minutes: 2.522<br>Duration: 0",
            " Minutes: 2.528<br>Duration: 0",
            " Minutes: 2.532<br>Duration: 0",
            " Minutes: 2.535<br>Duration: 0",
            " Minutes: 2.538<br>Duration: 0",
            " Minutes: 2.54<br>Duration: 0",
            " Minutes: 2.548<br>Duration: 0",
            " Minutes: 2.551<br>Duration: 0",
            " Minutes: 2.559<br>Duration: 0",
            " Minutes: 2.567<br>Duration: 0",
            " Minutes: 2.578<br>Duration: 0",
            " Minutes: 2.662<br>Duration: 0",
            " Minutes: 2.671<br>Duration: 0",
            " Minutes: 2.69<br>Duration: 0",
            " Minutes: 2.695<br>Duration: 0",
            " Minutes: 2.712<br>Duration: 0",
            " Minutes: 2.736<br>Duration: 0"
           ],
           "type": "scatter",
           "x": [
            110,
            72,
            284,
            280,
            47,
            60,
            60,
            82,
            90,
            92,
            97,
            79,
            131,
            96,
            102,
            76,
            128,
            78
           ],
           "y": [
            223,
            230,
            247,
            236,
            535,
            551,
            540,
            553,
            545,
            557,
            571,
            248,
            644,
            625,
            653,
            663,
            659,
            554
           ]
          },
          {
           "marker": {
            "size": 10,
            "sizemode": "area",
            "sizeref": 1,
            "symbol": 207
           },
           "mode": "markers",
           "name": "LMouseButton",
           "text": [
            " Minute: 2.652",
            " Minute: 2.706"
           ],
           "type": "scatter",
           "x": [
            39,
            58
           ],
           "y": [
            627,
            646
           ]
          }
         ],
         "name": "2.75"
        },
        {
         "data": [
          {
           "marker": {
            "opacity": 0.5,
            "size": [
             100,
             120,
             120,
             219,
             239,
             100,
             120,
             100,
             100,
             140,
             100,
             319,
             299,
             100
            ],
            "sizemode": "area",
            "sizeref": 0,
            "symbol": 0
           },
           "mode": "markers",
           "name": "Dilated Pupil",
           "text": [
            " Minutes: 2.851<br>Duration: 0",
            " Minutes: 2.861<br>Duration: 0",
            " Minutes: 2.872<br>Duration: 0",
            " Minutes: 2.883<br>Duration: 0",
            " Minutes: 2.893<br>Duration: 0",
            " Minutes: 2.901<br>Duration: 0",
            " Minutes: 2.926<br>Duration: 0",
            " Minutes: 2.936<br>Duration: 0",
            " Minutes: 2.938<br>Duration: 0",
            " Minutes: 2.941<br>Duration: 0",
            " Minutes: 2.953<br>Duration: 0",
            " Minutes: 2.955<br>Duration: 0",
            " Minutes: 2.962<br>Duration: 0",
            " Minutes: 2.974<br>Duration: 0"
           ],
           "type": "scatter",
           "x": [
            117,
            119,
            117,
            107,
            85,
            111,
            140,
            118,
            139,
            138,
            100,
            283,
            449,
            271
           ],
           "y": [
            643,
            672,
            655,
            681,
            715,
            715,
            726,
            714,
            716,
            719,
            293,
            268,
            273,
            245
           ]
          },
          {
           "marker": {
            "opacity": 0.5,
            "size": [
             100,
             179,
             100,
             100,
             139,
             100,
             100,
             140,
             100,
             159,
             100,
             120,
             140,
             100,
             179,
             140
            ],
            "sizemode": "area",
            "sizeref": 0,
            "symbol": 0
           },
           "mode": "markers",
           "name": "Squeezed Pupil ",
           "text": [
            " Minutes: 2.756<br>Duration: 0",
            " Minutes: 2.786<br>Duration: 0",
            " Minutes: 2.809<br>Duration: 0",
            " Minutes: 2.828<br>Duration: 0",
            " Minutes: 2.835<br>Duration: 0",
            " Minutes: 2.838<br>Duration: 0",
            " Minutes: 2.842<br>Duration: 0",
            " Minutes: 2.875<br>Duration: 0",
            " Minutes: 2.889<br>Duration: 0",
            " Minutes: 2.898<br>Duration: 0",
            " Minutes: 2.929<br>Duration: 0",
            " Minutes: 2.933<br>Duration: 0",
            " Minutes: 2.97<br>Duration: 0",
            " Minutes: 2.976<br>Duration: 0",
            " Minutes: 2.994<br>Duration: 0",
            " Minutes: 2.999<br>Duration: 0"
           ],
           "type": "scatter",
           "x": [
            223,
            139,
            245,
            115,
            87,
            87,
            81,
            119,
            51,
            117,
            134,
            130,
            153,
            271,
            106,
            109
           ],
           "y": [
            650,
            682,
            709,
            637,
            639,
            629,
            661,
            647,
            718,
            723,
            731,
            704,
            272,
            252,
            677,
            659
           ]
          },
          {
           "marker": {
            "size": 10,
            "sizemode": "area",
            "sizeref": 1,
            "symbol": 207
           },
           "mode": "markers",
           "name": "LMouseButton",
           "text": [
            " Minute: 2.835",
            " Minute: 2.846",
            " Minute: 2.897",
            " Minute: 2.968"
           ],
           "type": "scatter",
           "x": [
            65,
            61,
            60,
            474
           ],
           "y": [
            646,
            657,
            725,
            265
           ]
          }
         ],
         "name": "3.0"
        },
        {
         "data": [
          {
           "marker": {
            "opacity": 0.5,
            "size": [
             120,
             180,
             319,
             139,
             120,
             120,
             139
            ],
            "sizemode": "area",
            "sizeref": 0,
            "symbol": 0
           },
           "mode": "markers",
           "name": "Dilated Pupil",
           "text": [
            " Minutes: 3.012<br>Duration: 0",
            " Minutes: 3.121<br>Duration: 0",
            " Minutes: 3.133<br>Duration: 0",
            " Minutes: 3.149<br>Duration: 0",
            " Minutes: 3.163<br>Duration: 0",
            " Minutes: 3.166<br>Duration: 0",
            " Minutes: 3.177<br>Duration: 0"
           ],
           "type": "scatter",
           "x": [
            89,
            733,
            714,
            738,
            719,
            720,
            715
           ],
           "y": [
            775,
            556,
            604,
            640,
            686,
            679,
            594
           ]
          },
          {
           "marker": {
            "opacity": 0.5,
            "size": [
             100,
             140,
             120,
             139,
             160,
             259,
             160,
             140,
             160,
             119,
             100,
             199,
             179,
             100,
             259,
             100
            ],
            "sizemode": "area",
            "sizeref": 0,
            "symbol": 0
           },
           "mode": "markers",
           "name": "Squeezed Pupil ",
           "text": [
            " Minutes: 3.007<br>Duration: 0",
            " Minutes: 3.046<br>Duration: 0",
            " Minutes: 3.055<br>Duration: 0",
            " Minutes: 3.081<br>Duration: 0",
            " Minutes: 3.084<br>Duration: 0",
            " Minutes: 3.087<br>Duration: 0",
            " Minutes: 3.094<br>Duration: 0",
            " Minutes: 3.097<br>Duration: 0",
            " Minutes: 3.1<br>Duration: 0",
            " Minutes: 3.14<br>Duration: 0",
            " Minutes: 3.182<br>Duration: 0",
            " Minutes: 3.215<br>Duration: 0",
            " Minutes: 3.226<br>Duration: 0",
            " Minutes: 3.235<br>Duration: 0",
            " Minutes: 3.24<br>Duration: 0",
            " Minutes: 3.25<br>Duration: 0"
           ],
           "type": "scatter",
           "x": [
            91,
            740,
            758,
            696,
            685,
            692,
            674,
            734,
            735,
            713,
            726,
            721,
            711,
            325,
            99,
            85
           ],
           "y": [
            738,
            525,
            567,
            482,
            464,
            552,
            536,
            550,
            569,
            640,
            594,
            533,
            312,
            335,
            363,
            556
           ]
          },
          {
           "marker": {
            "size": 10,
            "sizemode": "area",
            "sizeref": 1,
            "symbol": 207
           },
           "mode": "markers",
           "name": "LMouseButton",
           "text": [
            " Minute: 3.097",
            " Minute: 3.142",
            " Minute: 3.162",
            " Minute: 3.185"
           ],
           "type": "scatter",
           "x": [
            674,
            676,
            679,
            693
           ],
           "y": [
            548,
            607,
            683,
            566
           ]
          }
         ],
         "name": "3.25"
        },
        {
         "data": [
          {
           "marker": {
            "opacity": 0.5,
            "size": [
             399,
             140,
             120,
             279,
             359,
             100,
             279,
             498,
             359,
             120,
             140,
             379,
             219,
             120,
             299,
             239,
             100
            ],
            "sizemode": "area",
            "sizeref": 0,
            "symbol": 0
           },
           "mode": "markers",
           "name": "Dilated Pupil",
           "text": [
            " Minutes: 3.28<br>Duration: 0",
            " Minutes: 3.299<br>Duration: 0",
            " Minutes: 3.318<br>Duration: 0",
            " Minutes: 3.33<br>Duration: 0",
            " Minutes: 3.335<br>Duration: 0",
            " Minutes: 3.341<br>Duration: 0",
            " Minutes: 3.352<br>Duration: 0",
            " Minutes: 3.357<br>Duration: 0",
            " Minutes: 3.365<br>Duration: 0",
            " Minutes: 3.374<br>Duration: 0",
            " Minutes: 3.377<br>Duration: 0",
            " Minutes: 3.38<br>Duration: 0",
            " Minutes: 3.387<br>Duration: 0",
            " Minutes: 3.392<br>Duration: 0",
            " Minutes: 3.396<br>Duration: 0",
            " Minutes: 3.403<br>Duration: 0",
            " Minutes: 3.414<br>Duration: 0"
           ],
           "type": "scatter",
           "x": [
            741,
            748,
            39,
            275,
            268,
            299,
            446,
            446,
            478,
            654,
            636,
            469,
            269,
            69,
            270,
            75,
            103
           ],
           "y": [
            542,
            560,
            228,
            223,
            209,
            224,
            220,
            275,
            226,
            308,
            303,
            231,
            218,
            192,
            221,
            558,
            543
           ]
          },
          {
           "marker": {
            "opacity": 0.5,
            "size": [
             159,
             120,
             259,
             120,
             120,
             179,
             120,
             160,
             160,
             120,
             120,
             100,
             359,
             160,
             120,
             140,
             100
            ],
            "sizemode": "area",
            "sizeref": 0,
            "symbol": 0
           },
           "mode": "markers",
           "name": "Squeezed Pupil ",
           "text": [
            " Minutes: 3.252<br>Duration: 0",
            " Minutes: 3.267<br>Duration: 0",
            " Minutes: 3.272<br>Duration: 0",
            " Minutes: 3.289<br>Duration: 0",
            " Minutes: 3.296<br>Duration: 0",
            " Minutes: 3.307<br>Duration: 0",
            " Minutes: 3.326<br>Duration: 0",
            " Minutes: 3.411<br>Duration: 0",
            " Minutes: 3.418<br>Duration: 0",
            " Minutes: 3.434<br>Duration: 0",
            " Minutes: 3.441<br>Duration: 0",
            " Minutes: 3.446<br>Duration: 0",
            " Minutes: 3.45<br>Duration: 0",
            " Minutes: 3.457<br>Duration: 0",
            " Minutes: 3.46<br>Duration: 0",
            " Minutes: 3.467<br>Duration: 0",
            " Minutes: 3.493<br>Duration: 0"
           ],
           "type": "scatter",
           "x": [
            75,
            715,
            64,
            749,
            740,
            151,
            83,
            102,
            745,
            743,
            729,
            729,
            740,
            739,
            740,
            768,
            760
           ],
           "y": [
            543,
            551,
            531,
            574,
            567,
            228,
            239,
            564,
            559,
            561,
            538,
            698,
            672,
            690,
            739,
            773,
            854
           ]
          },
          {
           "marker": {
            "size": 10,
            "sizemode": "area",
            "sizeref": 1,
            "symbol": 207
           },
           "mode": "markers",
           "name": "LMouseButton",
           "text": [],
           "type": "scatter",
           "x": [],
           "y": []
          }
         ],
         "name": "3.5"
        },
        {
         "data": [
          {
           "marker": {
            "opacity": 0.5,
            "size": [
             159,
             379,
             179,
             160,
             120,
             120,
             837,
             279,
             339,
             159,
             159,
             239,
             419
            ],
            "sizemode": "area",
            "sizeref": 0,
            "symbol": 0
           },
           "mode": "markers",
           "name": "Dilated Pupil",
           "text": [
            " Minutes: 3.518<br>Duration: 0",
            " Minutes: 3.557<br>Duration: 0",
            " Minutes: 3.57<br>Duration: 0",
            " Minutes: 3.609<br>Duration: 0",
            " Minutes: 3.621<br>Duration: 0",
            " Minutes: 3.639<br>Duration: 0",
            " Minutes: 3.642<br>Duration: 0",
            " Minutes: 3.663<br>Duration: 0",
            " Minutes: 3.67<br>Duration: 0",
            " Minutes: 3.676<br>Duration: 0",
            " Minutes: 3.736<br>Duration: 0",
            " Minutes: 3.739<br>Duration: 0",
            " Minutes: 3.743<br>Duration: 0"
           ],
           "type": "scatter",
           "x": [
            500,
            66,
            131,
            744,
            747,
            80,
            54,
            61,
            70,
            82,
            87,
            83,
            280
           ],
           "y": [
            613,
            530,
            721,
            670,
            690,
            597,
            539,
            553,
            556,
            574,
            248,
            211,
            197
           ]
          },
          {
           "marker": {
            "opacity": 0.5,
            "size": [
             159,
             299,
             100,
             100
            ],
            "sizemode": "area",
            "sizeref": 0,
            "symbol": 0
           },
           "mode": "markers",
           "name": "Squeezed Pupil ",
           "text": [
            " Minutes: 3.536<br>Duration: 0",
            " Minutes: 3.54<br>Duration: 0",
            " Minutes: 3.545<br>Duration: 0",
            " Minutes: 3.615<br>Duration: 0"
           ],
           "type": "scatter",
           "x": [
            276,
            258,
            259,
            746
           ],
           "y": [
            206,
            208,
            202,
            692
           ]
          },
          {
           "marker": {
            "size": 10,
            "sizemode": "area",
            "sizeref": 1,
            "symbol": 207
           },
           "mode": "markers",
           "name": "LMouseButton",
           "text": [
            " Minute: 3.656",
            " Minute: 3.667",
            " Minute: 3.694",
            " Minute: 3.706",
            " Minute: 3.711",
            " Minute: 3.722"
           ],
           "type": "scatter",
           "x": [
            45,
            42,
            681,
            669,
            673,
            679
           ],
           "y": [
            550,
            584,
            552,
            581,
            578,
            597
           ]
          }
         ],
         "name": "3.75"
        },
        {
         "data": [
          {
           "marker": {
            "opacity": 0.5,
            "size": [
             558,
             160,
             160,
             399,
             259,
             239,
             160,
             299,
             279,
             100,
             140,
             100,
             120,
             179,
             100,
             160,
             140,
             618
            ],
            "sizemode": "area",
            "sizeref": 0,
            "symbol": 0
           },
           "mode": "markers",
           "name": "Dilated Pupil",
           "text": [
            " Minutes: 3.823<br>Duration: 0",
            " Minutes: 3.833<br>Duration: 0",
            " Minutes: 3.843<br>Duration: 0",
            " Minutes: 3.851<br>Duration: 0",
            " Minutes: 3.862<br>Duration: 0",
            " Minutes: 3.869<br>Duration: 0",
            " Minutes: 3.882<br>Duration: 0",
            " Minutes: 3.917<br>Duration: 0",
            " Minutes: 3.924<br>Duration: 0",
            " Minutes: 3.953<br>Duration: 0",
            " Minutes: 3.955<br>Duration: 0",
            " Minutes: 3.958<br>Duration: 0",
            " Minutes: 3.96<br>Duration: 0",
            " Minutes: 3.975<br>Duration: 0",
            " Minutes: 3.982<br>Duration: 0",
            " Minutes: 3.984<br>Duration: 0",
            " Minutes: 3.989<br>Duration: 0",
            " Minutes: 3.995<br>Duration: 0"
           ],
           "type": "scatter",
           "x": [
            69,
            75,
            75,
            76,
            52,
            69,
            43,
            746,
            746,
            758,
            754,
            750,
            757,
            758,
            758,
            735,
            742,
            275
           ],
           "y": [
            529,
            525,
            565,
            596,
            592,
            508,
            514,
            553,
            527,
            532,
            520,
            535,
            527,
            546,
            540,
            545,
            549,
            172
           ]
          },
          {
           "marker": {
            "opacity": 0.5,
            "size": [
             359,
             180,
             239,
             119
            ],
            "sizemode": "area",
            "sizeref": 0,
            "symbol": 0
           },
           "mode": "markers",
           "name": "Squeezed Pupil ",
           "text": [
            " Minutes: 3.875<br>Duration: 0",
            " Minutes: 3.895<br>Duration: 0",
            " Minutes: 3.934<br>Duration: 0",
            " Minutes: 3.993<br>Duration: 0"
           ],
           "type": "scatter",
           "x": [
            59,
            280,
            729,
            365
           ],
           "y": [
            515,
            188,
            520,
            201
           ]
          },
          {
           "marker": {
            "size": 10,
            "sizemode": "area",
            "sizeref": 1,
            "symbol": 207
           },
           "mode": "markers",
           "name": "LMouseButton",
           "text": [
            " Minute: 3.799"
           ],
           "type": "scatter",
           "x": [
            674
           ],
           "y": [
            535
           ]
          }
         ],
         "name": "4.0"
        },
        {
         "data": [
          {
           "marker": {
            "opacity": 0.5,
            "size": [
             199,
             140,
             100,
             140,
             100,
             159,
             279
            ],
            "sizemode": "area",
            "sizeref": 0,
            "symbol": 0
           },
           "mode": "markers",
           "name": "Dilated Pupil",
           "text": [
            " Minutes: 4.018<br>Duration: 0",
            " Minutes: 4.055<br>Duration: 0",
            " Minutes: 4.058<br>Duration: 0",
            " Minutes: 4.06<br>Duration: 0",
            " Minutes: 4.123<br>Duration: 0",
            " Minutes: 4.222<br>Duration: 0",
            " Minutes: 4.233<br>Duration: 0"
           ],
           "type": "scatter",
           "x": [
            440,
            773,
            741,
            744,
            751,
            76,
            290
           ],
           "y": [
            192,
            567,
            534,
            537,
            596,
            218,
            212
           ]
          },
          {
           "marker": {
            "opacity": 0.5,
            "size": [
             140,
             159,
             140,
             179,
             179,
             160,
             239,
             239,
             120,
             139,
             199,
             199,
             219,
             239
            ],
            "sizemode": "area",
            "sizeref": 0,
            "symbol": 0
           },
           "mode": "markers",
           "name": "Squeezed Pupil ",
           "text": [
            " Minutes: 4.007<br>Duration: 0",
            " Minutes: 4.01<br>Duration: 0",
            " Minutes: 4.068<br>Duration: 0",
            " Minutes: 4.075<br>Duration: 0",
            " Minutes: 4.083<br>Duration: 0",
            " Minutes: 4.086<br>Duration: 0",
            " Minutes: 4.092<br>Duration: 0",
            " Minutes: 4.104<br>Duration: 0",
            " Minutes: 4.112<br>Duration: 0",
            " Minutes: 4.121<br>Duration: 0",
            " Minutes: 4.131<br>Duration: 0",
            " Minutes: 4.165<br>Duration: 0",
            " Minutes: 4.173<br>Duration: 0",
            " Minutes: 4.192<br>Duration: 0"
           ],
           "type": "scatter",
           "x": [
            75,
            86,
            745,
            746,
            736,
            741,
            756,
            760,
            793,
            752,
            722,
            789,
            795,
            764
           ],
           "y": [
            195,
            198,
            532,
            539,
            530,
            542,
            532,
            548,
            566,
            598,
            603,
            659,
            655,
            585
           ]
          },
          {
           "marker": {
            "size": 10,
            "sizemode": "area",
            "sizeref": 1,
            "symbol": 207
           },
           "mode": "markers",
           "name": "LMouseButton",
           "text": [
            " Minute: 4.135",
            " Minute: 4.241"
           ],
           "type": "scatter",
           "x": [
            692,
            483
           ],
           "y": [
            595,
            222
           ]
          }
         ],
         "name": "4.25"
        },
        {
         "data": [
          {
           "marker": {
            "opacity": 0.5,
            "size": [
             140,
             140,
             120,
             140,
             159,
             100,
             160,
             100,
             100,
             100,
             179,
             120,
             120,
             140,
             140,
             140,
             180,
             100,
             100
            ],
            "sizemode": "area",
            "sizeref": 0,
            "symbol": 0
           },
           "mode": "markers",
           "name": "Dilated Pupil",
           "text": [
            " Minutes: 4.255<br>Duration: 0",
            " Minutes: 4.269<br>Duration: 0",
            " Minutes: 4.281<br>Duration: 0",
            " Minutes: 4.288<br>Duration: 0",
            " Minutes: 4.345<br>Duration: 0",
            " Minutes: 4.354<br>Duration: 0",
            " Minutes: 4.357<br>Duration: 0",
            " Minutes: 4.362<br>Duration: 0",
            " Minutes: 4.402<br>Duration: 0",
            " Minutes: 4.409<br>Duration: 0",
            " Minutes: 4.411<br>Duration: 0",
            " Minutes: 4.416<br>Duration: 0",
            " Minutes: 4.421<br>Duration: 0",
            " Minutes: 4.435<br>Duration: 0",
            " Minutes: 4.441<br>Duration: 0",
            " Minutes: 4.453<br>Duration: 0",
            " Minutes: 4.46<br>Duration: 0",
            " Minutes: 4.469<br>Duration: 0",
            " Minutes: 4.494<br>Duration: 0"
           ],
           "type": "scatter",
           "x": [
            83,
            74,
            756,
            772,
            803,
            748,
            753,
            748,
            254,
            769,
            739,
            750,
            752,
            747,
            712,
            752,
            766,
            758,
            751
           ],
           "y": [
            216,
            241,
            599,
            686,
            728,
            751,
            750,
            605,
            226,
            579,
            559,
            626,
            599,
            864,
            847,
            864,
            919,
            913,
            872
           ]
          },
          {
           "marker": {
            "opacity": 0.5,
            "size": [
             159,
             120,
             100,
             120,
             160
            ],
            "sizemode": "area",
            "sizeref": 0,
            "symbol": 0
           },
           "mode": "markers",
           "name": "Squeezed Pupil ",
           "text": [
            " Minutes: 4.295<br>Duration: 0",
            " Minutes: 4.319<br>Duration: 0",
            " Minutes: 4.326<br>Duration: 0",
            " Minutes: 4.446<br>Duration: 0",
            " Minutes: 4.486<br>Duration: 0"
           ],
           "type": "scatter",
           "x": [
            784,
            776,
            769,
            706,
            755
           ],
           "y": [
            701,
            689,
            703,
            839,
            850
           ]
          },
          {
           "marker": {
            "size": 10,
            "sizemode": "area",
            "sizeref": 1,
            "symbol": 207
           },
           "mode": "markers",
           "name": "LMouseButton",
           "text": [
            " Minute: 4.339",
            " Minute: 4.351",
            " Minute: 4.449"
           ],
           "type": "scatter",
           "x": [
            713,
            713,
            674
           ],
           "y": [
            710,
            710,
            838
           ]
          }
         ],
         "name": "4.5"
        },
        {
         "data": [
          {
           "marker": {
            "opacity": 0.5,
            "size": [
             100,
             139
            ],
            "sizemode": "area",
            "sizeref": 0,
            "symbol": 0
           },
           "mode": "markers",
           "name": "Dilated Pupil",
           "text": [
            " Minutes: 4.544<br>Duration: 0",
            " Minutes: 4.549<br>Duration: 0"
           ],
           "type": "scatter",
           "x": [
            754,
            763
           ],
           "y": [
            851,
            888
           ]
          },
          {
           "marker": {
            "opacity": 0.5,
            "size": [
             199
            ],
            "sizemode": "area",
            "sizeref": 0,
            "symbol": 0
           },
           "mode": "markers",
           "name": "Squeezed Pupil ",
           "text": [
            " Minutes: 4.512<br>Duration: 0"
           ],
           "type": "scatter",
           "x": [
            751
           ],
           "y": [
            833
           ]
          },
          {
           "marker": {
            "size": 10,
            "sizemode": "area",
            "sizeref": 1,
            "symbol": 207
           },
           "mode": "markers",
           "name": "LMouseButton",
           "text": [
            " Minute: 4.612",
            " Minute: 4.685",
            " Minute: 4.722",
            " Minute: 4.735",
            " Minute: 4.746"
           ],
           "type": "scatter",
           "x": [
            697,
            703,
            693,
            693,
            696
           ],
           "y": [
            870,
            736,
            582,
            582,
            549
           ]
          }
         ],
         "name": "4.75"
        },
        {
         "data": [
          {
           "marker": {
            "opacity": 0.5,
            "size": [
             140,
             100,
             179,
             140,
             139,
             100,
             359,
             179,
             100,
             180,
             299,
             239,
             160,
             139,
             120,
             160,
             179,
             100,
             100,
             140,
             319
            ],
            "sizemode": "area",
            "sizeref": 0,
            "symbol": 0
           },
           "mode": "markers",
           "name": "Dilated Pupil",
           "text": [
            " Minutes: 4.812<br>Duration: 0",
            " Minutes: 4.829<br>Duration: 0",
            " Minutes: 4.839<br>Duration: 0",
            " Minutes: 4.843<br>Duration: 0",
            " Minutes: 4.877<br>Duration: 0",
            " Minutes: 4.883<br>Duration: 0",
            " Minutes: 4.885<br>Duration: 0",
            " Minutes: 4.893<br>Duration: 0",
            " Minutes: 4.898<br>Duration: 0",
            " Minutes: 4.907<br>Duration: 0",
            " Minutes: 4.91<br>Duration: 0",
            " Minutes: 4.915<br>Duration: 0",
            " Minutes: 4.92<br>Duration: 0",
            " Minutes: 4.925<br>Duration: 0",
            " Minutes: 4.928<br>Duration: 0",
            " Minutes: 4.93<br>Duration: 0",
            " Minutes: 4.971<br>Duration: 0",
            " Minutes: 4.975<br>Duration: 0",
            " Minutes: 4.984<br>Duration: 0",
            " Minutes: 4.991<br>Duration: 0",
            " Minutes: 4.994<br>Duration: 0"
           ],
           "type": "scatter",
           "x": [
            756,
            722,
            755,
            754,
            84,
            63,
            70,
            96,
            100,
            91,
            104,
            108,
            103,
            94,
            90,
            101,
            83,
            98,
            104,
            106,
            300
           ],
           "y": [
            585,
            828,
            899,
            926,
            595,
            524,
            541,
            557,
            564,
            551,
            566,
            571,
            567,
            570,
            578,
            591,
            207,
            559,
            563,
            206,
            199
           ]
          },
          {
           "marker": {
            "opacity": 0.5,
            "size": [
             120,
             259,
             100,
             319
            ],
            "sizemode": "area",
            "sizeref": 0,
            "symbol": 0
           },
           "mode": "markers",
           "name": "Squeezed Pupil ",
           "text": [
            " Minutes: 4.853<br>Duration: 0",
            " Minutes: 4.859<br>Duration: 0",
            " Minutes: 4.947<br>Duration: 0",
            " Minutes: 4.965<br>Duration: 0"
           ],
           "type": "scatter",
           "x": [
            81,
            69,
            165,
            277
           ],
           "y": [
            563,
            598,
            194,
            214
           ]
          },
          {
           "marker": {
            "size": 10,
            "sizemode": "area",
            "sizeref": 1,
            "symbol": 207
           },
           "mode": "markers",
           "name": "LMouseButton",
           "text": [
            " Minute: 4.759",
            " Minute: 4.89"
           ],
           "type": "scatter",
           "x": [
            696,
            41
           ],
           "y": [
            549,
            553
           ]
          }
         ],
         "name": "5.0"
        },
        {
         "data": [
          {
           "marker": {
            "opacity": 0.5,
            "size": [
             359,
             199,
             219,
             100,
             100,
             259,
             140
            ],
            "sizemode": "area",
            "sizeref": 0,
            "symbol": 0
           },
           "mode": "markers",
           "name": "Dilated Pupil",
           "text": [
            " Minutes: 5.0<br>Duration: 0",
            " Minutes: 5.007<br>Duration: 0",
            " Minutes: 5.012<br>Duration: 0",
            " Minutes: 5.017<br>Duration: 0",
            " Minutes: 5.083<br>Duration: 0",
            " Minutes: 5.208<br>Duration: 0",
            " Minutes: 5.214<br>Duration: 0"
           ],
           "type": "scatter",
           "x": [
            93,
            266,
            296,
            728,
            736,
            1101,
            479
           ],
           "y": [
            195,
            194,
            188,
            494,
            535,
            753,
            741
           ]
          },
          {
           "marker": {
            "opacity": 0.5,
            "size": [
             120,
             140,
             120,
             120,
             100,
             140,
             259,
             160
            ],
            "sizemode": "area",
            "sizeref": 0,
            "symbol": 0
           },
           "mode": "markers",
           "name": "Squeezed Pupil ",
           "text": [
            " Minutes: 5.221<br>Duration: 0",
            " Minutes: 5.228<br>Duration: 0",
            " Minutes: 5.231<br>Duration: 0",
            " Minutes: 5.235<br>Duration: 0",
            " Minutes: 5.238<br>Duration: 0",
            " Minutes: 5.24<br>Duration: 0",
            " Minutes: 5.242<br>Duration: 0",
            " Minutes: 5.247<br>Duration: 0"
           ],
           "type": "scatter",
           "x": [
            445,
            463,
            454,
            157,
            124,
            125,
            157,
            274
           ],
           "y": [
            653,
            435,
            426,
            398,
            420,
            425,
            366,
            362
           ]
          },
          {
           "marker": {
            "size": 10,
            "sizemode": "area",
            "sizeref": 1,
            "symbol": 207
           },
           "mode": "markers",
           "name": "LMouseButton",
           "text": [],
           "type": "scatter",
           "x": [],
           "y": []
          }
         ],
         "name": "5.25"
        },
        {
         "data": [
          {
           "marker": {
            "opacity": 0.5,
            "size": [
             139,
             359,
             100,
             239,
             319,
             140,
             140,
             180,
             259,
             100,
             219,
             239,
             259,
             279,
             179,
             120,
             159,
             279,
             199,
             399,
             140,
             299,
             179,
             678,
             359,
             199
            ],
            "sizemode": "area",
            "sizeref": 0,
            "symbol": 0
           },
           "mode": "markers",
           "name": "Dilated Pupil",
           "text": [
            " Minutes: 5.264<br>Duration: 0",
            " Minutes: 5.268<br>Duration: 0",
            " Minutes: 5.298<br>Duration: 0",
            " Minutes: 5.3<br>Duration: 0",
            " Minutes: 5.304<br>Duration: 0",
            " Minutes: 5.313<br>Duration: 0",
            " Minutes: 5.364<br>Duration: 0",
            " Minutes: 5.367<br>Duration: 0",
            " Minutes: 5.377<br>Duration: 0",
            " Minutes: 5.402<br>Duration: 0",
            " Minutes: 5.404<br>Duration: 0",
            " Minutes: 5.412<br>Duration: 0",
            " Minutes: 5.418<br>Duration: 0",
            " Minutes: 5.423<br>Duration: 0",
            " Minutes: 5.428<br>Duration: 0",
            " Minutes: 5.432<br>Duration: 0",
            " Minutes: 5.437<br>Duration: 0",
            " Minutes: 5.44<br>Duration: 0",
            " Minutes: 5.445<br>Duration: 0",
            " Minutes: 5.45<br>Duration: 0",
            " Minutes: 5.458<br>Duration: 0",
            " Minutes: 5.461<br>Duration: 0",
            " Minutes: 5.47<br>Duration: 0",
            " Minutes: 5.473<br>Duration: 0",
            " Minutes: 5.487<br>Duration: 0",
            " Minutes: 5.497<br>Duration: 0"
           ],
           "type": "scatter",
           "x": [
            203,
            82,
            459,
            459,
            449,
            271,
            77,
            75,
            276,
            244,
            334,
            585,
            695,
            605,
            548,
            437,
            238,
            196,
            266,
            250,
            86,
            67,
            105,
            81,
            249,
            132
           ],
           "y": [
            388,
            302,
            222,
            198,
            213,
            196,
            249,
            236,
            189,
            162,
            184,
            194,
            180,
            194,
            189,
            199,
            164,
            177,
            169,
            201,
            222,
            234,
            225,
            235,
            205,
            219
           ]
          },
          {
           "marker": {
            "opacity": 0.5,
            "size": [
             279,
             179,
             100,
             598,
             359,
             100,
             140
            ],
            "sizemode": "area",
            "sizeref": 0,
            "symbol": 0
           },
           "mode": "markers",
           "name": "Squeezed Pupil ",
           "text": [
            " Minutes: 5.253<br>Duration: 0",
            " Minutes: 5.275<br>Duration: 0",
            " Minutes: 5.278<br>Duration: 0",
            " Minutes: 5.281<br>Duration: 0",
            " Minutes: 5.292<br>Duration: 0",
            " Minutes: 5.354<br>Duration: 0",
            " Minutes: 5.356<br>Duration: 0"
           ],
           "type": "scatter",
           "x": [
            418,
            270,
            266,
            445,
            436,
            293,
            285
           ],
           "y": [
            380,
            282,
            283,
            220,
            232,
            214,
            207
           ]
          },
          {
           "marker": {
            "size": 10,
            "sizemode": "area",
            "sizeref": 1,
            "symbol": 207
           },
           "mode": "markers",
           "name": "LMouseButton",
           "text": [],
           "type": "scatter",
           "x": [],
           "y": []
          }
         ],
         "name": "5.5"
        },
        {
         "data": [
          {
           "marker": {
            "opacity": 0.5,
            "size": [
             159,
             120,
             120,
             100,
             219,
             159,
             120,
             100,
             100,
             140,
             120,
             100,
             120,
             180,
             100,
             100,
             139,
             100,
             140,
             219,
             239
            ],
            "sizemode": "area",
            "sizeref": 0,
            "symbol": 0
           },
           "mode": "markers",
           "name": "Dilated Pupil",
           "text": [
            " Minutes: 5.515<br>Duration: 0",
            " Minutes: 5.533<br>Duration: 0",
            " Minutes: 5.54<br>Duration: 0",
            " Minutes: 5.567<br>Duration: 0",
            " Minutes: 5.576<br>Duration: 0",
            " Minutes: 5.612<br>Duration: 0",
            " Minutes: 5.631<br>Duration: 0",
            " Minutes: 5.636<br>Duration: 0",
            " Minutes: 5.64<br>Duration: 0",
            " Minutes: 5.644<br>Duration: 0",
            " Minutes: 5.651<br>Duration: 0",
            " Minutes: 5.653<br>Duration: 0",
            " Minutes: 5.656<br>Duration: 0",
            " Minutes: 5.682<br>Duration: 0",
            " Minutes: 5.685<br>Duration: 0",
            " Minutes: 5.687<br>Duration: 0",
            " Minutes: 5.691<br>Duration: 0",
            " Minutes: 5.695<br>Duration: 0",
            " Minutes: 5.705<br>Duration: 0",
            " Minutes: 5.722<br>Duration: 0",
            " Minutes: 5.749<br>Duration: 0"
           ],
           "type": "scatter",
           "x": [
            87,
            791,
            759,
            762,
            771,
            95,
            123,
            93,
            96,
            95,
            102,
            91,
            87,
            780,
            765,
            754,
            752,
            744,
            792,
            73,
            55
           ],
           "y": [
            573,
            648,
            582,
            570,
            649,
            556,
            564,
            557,
            551,
            563,
            590,
            560,
            536,
            617,
            599,
            596,
            552,
            547,
            676,
            236,
            664
           ]
          },
          {
           "marker": {
            "opacity": 0.5,
            "size": [
             120,
             100,
             140,
             160,
             100,
             160
            ],
            "sizemode": "area",
            "sizeref": 0,
            "symbol": 0
           },
           "mode": "markers",
           "name": "Squeezed Pupil ",
           "text": [
            " Minutes: 5.518<br>Duration: 0",
            " Minutes: 5.546<br>Duration: 0",
            " Minutes: 5.588<br>Duration: 0",
            " Minutes: 5.592<br>Duration: 0",
            " Minutes: 5.61<br>Duration: 0",
            " Minutes: 5.697<br>Duration: 0"
           ],
           "type": "scatter",
           "x": [
            99,
            285,
            753,
            751,
            102,
            751
           ],
           "y": [
            574,
            200,
            616,
            597,
            571,
            576
           ]
          },
          {
           "marker": {
            "size": 10,
            "sizemode": "area",
            "sizeref": 1,
            "symbol": 207
           },
           "mode": "markers",
           "name": "LMouseButton",
           "text": [
            " Minute: 5.591"
           ],
           "type": "scatter",
           "x": [
            781
           ],
           "y": [
            680
           ]
          }
         ],
         "name": "5.75"
        },
        {
         "data": [
          {
           "marker": {
            "opacity": 0.5,
            "size": [
             120,
             100,
             139,
             159,
             139,
             160,
             100,
             100,
             259,
             180,
             100,
             219,
             299,
             140,
             140,
             159,
             100,
             239,
             100
            ],
            "sizemode": "area",
            "sizeref": 0,
            "symbol": 0
           },
           "mode": "markers",
           "name": "Dilated Pupil",
           "text": [
            " Minutes: 5.762<br>Duration: 0",
            " Minutes: 5.78<br>Duration: 0",
            " Minutes: 5.782<br>Duration: 0",
            " Minutes: 5.8<br>Duration: 0",
            " Minutes: 5.827<br>Duration: 0",
            " Minutes: 5.831<br>Duration: 0",
            " Minutes: 5.858<br>Duration: 0",
            " Minutes: 5.865<br>Duration: 0",
            " Minutes: 5.874<br>Duration: 0",
            " Minutes: 5.882<br>Duration: 0",
            " Minutes: 5.924<br>Duration: 0",
            " Minutes: 5.947<br>Duration: 0",
            " Minutes: 5.953<br>Duration: 0",
            " Minutes: 5.965<br>Duration: 0",
            " Minutes: 5.971<br>Duration: 0",
            " Minutes: 5.974<br>Duration: 0",
            " Minutes: 5.979<br>Duration: 0",
            " Minutes: 5.981<br>Duration: 0",
            " Minutes: 5.986<br>Duration: 0"
           ],
           "type": "scatter",
           "x": [
            106,
            743,
            733,
            738,
            704,
            691,
            697,
            730,
            717,
            704,
            79,
            248,
            106,
            294,
            87,
            115,
            112,
            121,
            110
           ],
           "y": [
            679,
            791,
            830,
            855,
            839,
            821,
            535,
            557,
            599,
            561,
            662,
            235,
            256,
            221,
            641,
            816,
            803,
            778,
            741
           ]
          },
          {
           "marker": {
            "opacity": 0.5,
            "size": [
             120,
             100,
             140,
             120,
             179,
             319,
             140,
             219,
             120,
             180
            ],
            "sizemode": "area",
            "sizeref": 0,
            "symbol": 0
           },
           "mode": "markers",
           "name": "Squeezed Pupil ",
           "text": [
            " Minutes: 5.804<br>Duration: 0",
            " Minutes: 5.807<br>Duration: 0",
            " Minutes: 5.815<br>Duration: 0",
            " Minutes: 5.835<br>Duration: 0",
            " Minutes: 5.843<br>Duration: 0",
            " Minutes: 5.847<br>Duration: 0",
            " Minutes: 5.878<br>Duration: 0",
            " Minutes: 5.906<br>Duration: 0",
            " Minutes: 5.912<br>Duration: 0",
            " Minutes: 5.996<br>Duration: 0"
           ],
           "type": "scatter",
           "x": [
            727,
            736,
            717,
            686,
            700,
            699,
            699,
            708,
            87,
            104
           ],
           "y": [
            838,
            829,
            528,
            816,
            522,
            540,
            559,
            519,
            513,
            652
           ]
          },
          {
           "marker": {
            "size": 10,
            "sizemode": "area",
            "sizeref": 1,
            "symbol": 207
           },
           "mode": "markers",
           "name": "LMouseButton",
           "text": [
            " Minute: 5.757",
            " Minute: 5.856"
           ],
           "type": "scatter",
           "x": [
            38,
            674
           ],
           "y": [
            658,
            538
           ]
          }
         ],
         "name": "6.0"
        },
        {
         "data": [
          {
           "marker": {
            "opacity": 0.5,
            "size": [
             299,
             139,
             120,
             100,
             199,
             239,
             120,
             120,
             279,
             100,
             160,
             159,
             100,
             239,
             140,
             140,
             199,
             279,
             578,
             160,
             459,
             837
            ],
            "sizemode": "area",
            "sizeref": 0,
            "symbol": 0
           },
           "mode": "markers",
           "name": "Dilated Pupil",
           "text": [
            " Minutes: 6.009<br>Duration: 0",
            " Minutes: 6.023<br>Duration: 0",
            " Minutes: 6.032<br>Duration: 0",
            " Minutes: 6.045<br>Duration: 0",
            " Minutes: 6.061<br>Duration: 0",
            " Minutes: 6.064<br>Duration: 0",
            " Minutes: 6.073<br>Duration: 0",
            " Minutes: 6.076<br>Duration: 0",
            " Minutes: 6.079<br>Duration: 0",
            " Minutes: 6.085<br>Duration: 0",
            " Minutes: 6.093<br>Duration: 0",
            " Minutes: 6.129<br>Duration: 0",
            " Minutes: 6.142<br>Duration: 0",
            " Minutes: 6.152<br>Duration: 0",
            " Minutes: 6.159<br>Duration: 0",
            " Minutes: 6.167<br>Duration: 0",
            " Minutes: 6.179<br>Duration: 0",
            " Minutes: 6.185<br>Duration: 0",
            " Minutes: 6.195<br>Duration: 0",
            " Minutes: 6.234<br>Duration: 0",
            " Minutes: 6.237<br>Duration: 0",
            " Minutes: 6.246<br>Duration: 0"
           ],
           "type": "scatter",
           "x": [
            76,
            106,
            114,
            78,
            61,
            98,
            87,
            87,
            88,
            114,
            730,
            752,
            721,
            92,
            87,
            84,
            302,
            458,
            622,
            445,
            445,
            451
           ],
           "y": [
            651,
            662,
            681,
            637,
            659,
            674,
            688,
            682,
            679,
            695,
            628,
            566,
            547,
            623,
            666,
            636,
            232,
            242,
            238,
            271,
            243,
            258
           ]
          },
          {
           "marker": {
            "opacity": 0.5,
            "size": [
             199,
             219,
             179,
             219,
             100,
             100,
             120
            ],
            "sizemode": "area",
            "sizeref": 0,
            "symbol": 0
           },
           "mode": "markers",
           "name": "Squeezed Pupil ",
           "text": [
            " Minutes: 6.1<br>Duration: 0",
            " Minutes: 6.107<br>Duration: 0",
            " Minutes: 6.114<br>Duration: 0",
            " Minutes: 6.118<br>Duration: 0",
            " Minutes: 6.122<br>Duration: 0",
            " Minutes: 6.132<br>Duration: 0",
            " Minutes: 6.136<br>Duration: 0"
           ],
           "type": "scatter",
           "x": [
            735,
            720,
            692,
            732,
            720,
            761,
            765
           ],
           "y": [
            585,
            560,
            548,
            578,
            540,
            607,
            591
           ]
          },
          {
           "marker": {
            "size": 10,
            "sizemode": "area",
            "sizeref": 1,
            "symbol": 207
           },
           "mode": "markers",
           "name": "LMouseButton",
           "text": [
            " Minute: 6.022",
            " Minute: 6.066",
            " Minute: 6.077",
            " Minute: 6.108",
            " Minute: 6.119",
            " Minute: 6.189",
            " Minute: 6.231",
            " Minute: 6.233",
            " Minute: 6.238",
            " Minute: 6.239"
           ],
           "type": "scatter",
           "x": [
            43,
            61,
            63,
            678,
            673,
            473
           ],
           "y": [
            630,
            659,
            670,
            601,
            549,
            247
           ]
          }
         ],
         "name": "6.25"
        },
        {
         "data": [
          {
           "marker": {
            "opacity": 0.5,
            "size": [
             379,
             239,
             339,
             598,
             1077,
             120,
             319,
             100,
             379,
             100,
             140,
             120,
             159,
             199,
             120
            ],
            "sizemode": "area",
            "sizeref": 0,
            "symbol": 0
           },
           "mode": "markers",
           "name": "Dilated Pupil",
           "text": [
            " Minutes: 6.26<br>Duration: 0",
            " Minutes: 6.294<br>Duration: 0",
            " Minutes: 6.325<br>Duration: 0",
            " Minutes: 6.337<br>Duration: 0",
            " Minutes: 6.349<br>Duration: 0",
            " Minutes: 6.367<br>Duration: 0",
            " Minutes: 6.373<br>Duration: 0",
            " Minutes: 6.403<br>Duration: 0",
            " Minutes: 6.408<br>Duration: 0",
            " Minutes: 6.415<br>Duration: 0",
            " Minutes: 6.448<br>Duration: 0",
            " Minutes: 6.46<br>Duration: 0",
            " Minutes: 6.478<br>Duration: 0",
            " Minutes: 6.491<br>Duration: 0",
            " Minutes: 6.494<br>Duration: 0"
           ],
           "type": "scatter",
           "x": [
            448,
            276,
            269,
            450,
            261,
            85,
            65,
            68,
            268,
            431,
            80,
            98,
            83,
            51,
            49
           ],
           "y": [
            276,
            248,
            243,
            268,
            253,
            262,
            260,
            258,
            257,
            265,
            634,
            621,
            713,
            687,
            696
           ]
          },
          {
           "marker": {
            "opacity": 0.5,
            "size": [
             239,
             100,
             279,
             160,
             159,
             259,
             239,
             159,
             140,
             140,
             160
            ],
            "sizemode": "area",
            "sizeref": 0,
            "symbol": 0
           },
           "mode": "markers",
           "name": "Squeezed Pupil ",
           "text": [
            " Minutes: 6.268<br>Duration: 0",
            " Minutes: 6.276<br>Duration: 0",
            " Minutes: 6.304<br>Duration: 0",
            " Minutes: 6.314<br>Duration: 0",
            " Minutes: 6.334<br>Duration: 0",
            " Minutes: 6.39<br>Duration: 0",
            " Minutes: 6.394<br>Duration: 0",
            " Minutes: 6.399<br>Duration: 0",
            " Minutes: 6.423<br>Duration: 0",
            " Minutes: 6.428<br>Duration: 0",
            " Minutes: 6.455<br>Duration: 0"
           ],
           "type": "scatter",
           "x": [
            272,
            70,
            268,
            266,
            448,
            268,
            324,
            287,
            90,
            79,
            101
           ],
           "y": [
            255,
            259,
            252,
            251,
            267,
            260,
            254,
            268,
            554,
            622,
            639
           ]
          },
          {
           "marker": {
            "size": 10,
            "sizemode": "area",
            "sizeref": 1,
            "symbol": 207
           },
           "mode": "markers",
           "name": "LMouseButton",
           "text": [
            " Minute: 6.254",
            " Minute: 6.5"
           ],
           "type": "scatter",
           "x": [
            554,
            40
           ],
           "y": [
            276,
            694
           ]
          }
         ],
         "name": "6.5"
        },
        {
         "data": [
          {
           "marker": {
            "opacity": 0.5,
            "size": [
             419,
             120,
             140,
             219,
             120,
             120,
             279,
             100,
             199,
             140,
             180,
             219,
             100,
             120,
             139,
             319,
             100,
             100,
             120,
             160,
             100,
             100
            ],
            "sizemode": "area",
            "sizeref": 0,
            "symbol": 0
           },
           "mode": "markers",
           "name": "Dilated Pupil",
           "text": [
            " Minutes: 6.532<br>Duration: 0",
            " Minutes: 6.547<br>Duration: 0",
            " Minutes: 6.55<br>Duration: 0",
            " Minutes: 6.562<br>Duration: 0",
            " Minutes: 6.566<br>Duration: 0",
            " Minutes: 6.577<br>Duration: 0",
            " Minutes: 6.579<br>Duration: 0",
            " Minutes: 6.584<br>Duration: 0",
            " Minutes: 6.622<br>Duration: 0",
            " Minutes: 6.629<br>Duration: 0",
            " Minutes: 6.642<br>Duration: 0",
            " Minutes: 6.652<br>Duration: 0",
            " Minutes: 6.674<br>Duration: 0",
            " Minutes: 6.682<br>Duration: 0",
            " Minutes: 6.687<br>Duration: 0",
            " Minutes: 6.692<br>Duration: 0",
            " Minutes: 6.7<br>Duration: 0",
            " Minutes: 6.71<br>Duration: 0",
            " Minutes: 6.715<br>Duration: 0",
            " Minutes: 6.719<br>Duration: 0",
            " Minutes: 6.722<br>Duration: 0",
            " Minutes: 6.725<br>Duration: 0"
           ],
           "type": "scatter",
           "x": [
            135,
            99,
            88,
            114,
            107,
            112,
            132,
            120,
            728,
            727,
            766,
            747,
            109,
            126,
            117,
            98,
            78,
            103,
            740,
            762,
            766,
            776
           ],
           "y": [
            694,
            675,
            656,
            673,
            671,
            681,
            691,
            687,
            551,
            550,
            576,
            568,
            667,
            688,
            679,
            644,
            603,
            664,
            548,
            552,
            544,
            568
           ]
          },
          {
           "marker": {
            "opacity": 0.5,
            "size": [
             100,
             120,
             100,
             259,
             199,
             120,
             140,
             140,
             159,
             120,
             100,
             140
            ],
            "sizemode": "area",
            "sizeref": 0,
            "symbol": 0
           },
           "mode": "markers",
           "name": "Squeezed Pupil ",
           "text": [
            " Minutes: 6.556<br>Duration: 0",
            " Minutes: 6.586<br>Duration: 0",
            " Minutes: 6.614<br>Duration: 0",
            " Minutes: 6.618<br>Duration: 0",
            " Minutes: 6.632<br>Duration: 0",
            " Minutes: 6.65<br>Duration: 0",
            " Minutes: 6.679<br>Duration: 0",
            " Minutes: 6.684<br>Duration: 0",
            " Minutes: 6.702<br>Duration: 0",
            " Minutes: 6.705<br>Duration: 0",
            " Minutes: 6.733<br>Duration: 0",
            " Minutes: 6.736<br>Duration: 0"
           ],
           "type": "scatter",
           "x": [
            88,
            112,
            746,
            738,
            747,
            753,
            101,
            129,
            95,
            99,
            360,
            273
           ],
           "y": [
            659,
            672,
            541,
            548,
            575,
            587,
            667,
            677,
            635,
            663,
            205,
            226
           ]
          },
          {
           "marker": {
            "size": 10,
            "sizemode": "area",
            "sizeref": 1,
            "symbol": 207
           },
           "mode": "markers",
           "name": "LMouseButton",
           "text": [
            " Minute: 6.512",
            " Minute: 6.525",
            " Minute: 6.55",
            " Minute: 6.558",
            " Minute: 6.568",
            " Minute: 6.574",
            " Minute: 6.625",
            " Minute: 6.632"
           ],
           "type": "scatter",
           "x": [
            40,
            61,
            57,
            59,
            59,
            60,
            679,
            679
           ],
           "y": [
            694,
            644,
            645,
            668,
            665,
            682,
            552,
            552
           ]
          }
         ],
         "name": "6.75"
        },
        {
         "data": [
          {
           "marker": {
            "opacity": 0.5,
            "size": [
             199,
             100,
             120,
             120,
             120,
             120,
             140,
             100,
             219,
             259,
             140,
             299,
             319,
             239,
             179,
             179,
             379,
             359,
             259,
             578,
             180,
             160,
             199
            ],
            "sizemode": "area",
            "sizeref": 0,
            "symbol": 0
           },
           "mode": "markers",
           "name": "Dilated Pupil",
           "text": [
            " Minutes: 6.754<br>Duration: 0",
            " Minutes: 6.781<br>Duration: 0",
            " Minutes: 6.787<br>Duration: 0",
            " Minutes: 6.803<br>Duration: 0",
            " Minutes: 6.806<br>Duration: 0",
            " Minutes: 6.808<br>Duration: 0",
            " Minutes: 6.812<br>Duration: 0",
            " Minutes: 6.824<br>Duration: 0",
            " Minutes: 6.829<br>Duration: 0",
            " Minutes: 6.835<br>Duration: 0",
            " Minutes: 6.843<br>Duration: 0",
            " Minutes: 6.847<br>Duration: 0",
            " Minutes: 6.867<br>Duration: 0",
            " Minutes: 6.878<br>Duration: 0",
            " Minutes: 6.885<br>Duration: 0",
            " Minutes: 6.908<br>Duration: 0",
            " Minutes: 6.942<br>Duration: 0",
            " Minutes: 6.95<br>Duration: 0",
            " Minutes: 6.967<br>Duration: 0",
            " Minutes: 6.971<br>Duration: 0",
            " Minutes: 6.991<br>Duration: 0",
            " Minutes: 6.996<br>Duration: 0",
            " Minutes: 6.999<br>Duration: 0"
           ],
           "type": "scatter",
           "x": [
            795,
            723,
            91,
            143,
            145,
            135,
            117,
            776,
            464,
            253,
            53,
            289,
            517,
            281,
            48,
            442,
            628,
            456,
            445,
            445,
            266,
            77,
            324
           ],
           "y": [
            584,
            543,
            621,
            673,
            692,
            693,
            689,
            565,
            242,
            237,
            255,
            242,
            304,
            235,
            253,
            244,
            253,
            246,
            248,
            247,
            254,
            274,
            251
           ]
          },
          {
           "marker": {
            "opacity": 0.5,
            "size": [
             179,
             459,
             179,
             180,
             100,
             199,
             837,
             199,
             159,
             1176,
             100
            ],
            "sizemode": "area",
            "sizeref": 0,
            "symbol": 0
           },
           "mode": "markers",
           "name": "Squeezed Pupil ",
           "text": [
            " Minutes: 6.768<br>Duration: 0",
            " Minutes: 6.771<br>Duration: 0",
            " Minutes: 6.794<br>Duration: 0",
            " Minutes: 6.821<br>Duration: 0",
            " Minutes: 6.863<br>Duration: 0",
            " Minutes: 6.874<br>Duration: 0",
            " Minutes: 6.89<br>Duration: 0",
            " Minutes: 6.912<br>Duration: 0",
            " Minutes: 6.919<br>Duration: 0",
            " Minutes: 6.922<br>Duration: 0",
            " Minutes: 6.963<br>Duration: 0"
           ],
           "type": "scatter",
           "x": [
            734,
            745,
            103,
            775,
            587,
            479,
            274,
            601,
            597,
            627,
            449
           ],
           "y": [
            559,
            558,
            689,
            542,
            285,
            276,
            238,
            254,
            271,
            248,
            264
           ]
          },
          {
           "marker": {
            "size": 10,
            "sizemode": "area",
            "sizeref": 1,
            "symbol": 207
           },
           "mode": "markers",
           "name": "LMouseButton",
           "text": [
            " Minute: 6.862",
            " Minute: 6.916",
            " Minute: 6.936",
            " Minute: 6.944",
            " Minute: 6.976",
            " Minute: 6.977",
            " Minute: 6.984"
           ],
           "type": "scatter",
           "x": [
            609,
            592,
            609,
            592
           ],
           "y": [
            267,
            248,
            252,
            252
           ]
          }
         ],
         "name": "7.0"
        },
        {
         "data": [
          {
           "marker": {
            "opacity": 0.5,
            "size": [
             339,
             279,
             279,
             140,
             180,
             219,
             239,
             119,
             379,
             140,
             160,
             179,
             179,
             319,
             160,
             120,
             100,
             160,
             160,
             379,
             618,
             259,
             180,
             179,
             219,
             578
            ],
            "sizemode": "area",
            "sizeref": 0,
            "symbol": 0
           },
           "mode": "markers",
           "name": "Dilated Pupil",
           "text": [
            " Minutes: 7.003<br>Duration: 0",
            " Minutes: 7.009<br>Duration: 0",
            " Minutes: 7.014<br>Duration: 0",
            " Minutes: 7.02<br>Duration: 0",
            " Minutes: 7.026<br>Duration: 0",
            " Minutes: 7.03<br>Duration: 0",
            " Minutes: 7.037<br>Duration: 0",
            " Minutes: 7.054<br>Duration: 0",
            " Minutes: 7.057<br>Duration: 0",
            " Minutes: 7.099<br>Duration: 0",
            " Minutes: 7.104<br>Duration: 0",
            " Minutes: 7.112<br>Duration: 0",
            " Minutes: 7.115<br>Duration: 0",
            " Minutes: 7.118<br>Duration: 0",
            " Minutes: 7.128<br>Duration: 0",
            " Minutes: 7.138<br>Duration: 0",
            " Minutes: 7.144<br>Duration: 0",
            " Minutes: 7.149<br>Duration: 0",
            " Minutes: 7.174<br>Duration: 0",
            " Minutes: 7.199<br>Duration: 0",
            " Minutes: 7.216<br>Duration: 0",
            " Minutes: 7.227<br>Duration: 0",
            " Minutes: 7.234<br>Duration: 0",
            " Minutes: 7.238<br>Duration: 0",
            " Minutes: 7.242<br>Duration: 0",
            " Minutes: 7.247<br>Duration: 0"
           ],
           "type": "scatter",
           "x": [
            473,
            526,
            610,
            215,
            81,
            273,
            85,
            110,
            125,
            82,
            285,
            91,
            113,
            269,
            96,
            134,
            758,
            764,
            82,
            435,
            452,
            513,
            263,
            83,
            268,
            618
           ],
           "y": [
            268,
            281,
            278,
            260,
            265,
            248,
            612,
            678,
            690,
            272,
            224,
            230,
            244,
            236,
            635,
            682,
            625,
            559,
            237,
            244,
            257,
            270,
            251,
            274,
            237,
            259
           ]
          },
          {
           "marker": {
            "opacity": 0.5,
            "size": [
             140,
             259,
             139,
             140,
             100,
             100,
             120,
             120
            ],
            "sizemode": "area",
            "sizeref": 0,
            "symbol": 0
           },
           "mode": "markers",
           "name": "Squeezed Pupil ",
           "text": [
            " Minutes: 7.042<br>Duration: 0",
            " Minutes: 7.075<br>Duration: 0",
            " Minutes: 7.085<br>Duration: 0",
            " Minutes: 7.088<br>Duration: 0",
            " Minutes: 7.092<br>Duration: 0",
            " Minutes: 7.095<br>Duration: 0",
            " Minutes: 7.097<br>Duration: 0",
            " Minutes: 7.154<br>Duration: 0"
           ],
           "type": "scatter",
           "x": [
            78,
            770,
            772,
            772,
            502,
            435,
            156,
            738
           ],
           "y": [
            526,
            593,
            559,
            567,
            242,
            260,
            238,
            564
           ]
          },
          {
           "marker": {
            "size": 10,
            "sizemode": "area",
            "sizeref": 1,
            "symbol": 207
           },
           "mode": "markers",
           "name": "LMouseButton",
           "text": [
            " Minute: 7.009",
            " Minute: 7.183",
            " Minute: 7.208",
            " Minute: 7.211",
            " Minute: 7.218",
            " Minute: 7.22",
            " Minute: 7.232"
           ],
           "type": "scatter",
           "x": [
            512,
            556,
            554
           ],
           "y": [
            266,
            248,
            266
           ]
          }
         ],
         "name": "7.25"
        },
        {
         "data": [
          {
           "marker": {
            "opacity": 0.5,
            "size": [
             778,
             120,
             179,
             399,
             120
            ],
            "sizemode": "area",
            "sizeref": 0,
            "symbol": 0
           },
           "mode": "markers",
           "name": "Dilated Pupil",
           "text": [
            " Minutes: 7.257<br>Duration: 0",
            " Minutes: 7.273<br>Duration: 0",
            " Minutes: 7.277<br>Duration: 0",
            " Minutes: 7.364<br>Duration: 0",
            " Minutes: 7.372<br>Duration: 0"
           ],
           "type": "scatter",
           "x": [
            512,
            731,
            761,
            89,
            121
           ],
           "y": [
            312,
            600,
            588,
            641,
            684
           ]
          },
          {
           "marker": {
            "opacity": 0.5,
            "size": [
             140,
             120,
             120,
             179,
             120,
             140,
             120,
             219,
             100,
             140,
             140,
             339,
             160,
             140,
             120,
             140,
             100,
             100,
             120,
             100,
             239
            ],
            "sizemode": "area",
            "sizeref": 0,
            "symbol": 0
           },
           "mode": "markers",
           "name": "Squeezed Pupil ",
           "text": [
            " Minutes: 7.293<br>Duration: 0",
            " Minutes: 7.299<br>Duration: 0",
            " Minutes: 7.327<br>Duration: 0",
            " Minutes: 7.332<br>Duration: 0",
            " Minutes: 7.336<br>Duration: 0",
            " Minutes: 7.339<br>Duration: 0",
            " Minutes: 7.343<br>Duration: 0",
            " Minutes: 7.351<br>Duration: 0",
            " Minutes: 7.379<br>Duration: 0",
            " Minutes: 7.39<br>Duration: 0",
            " Minutes: 7.396<br>Duration: 0",
            " Minutes: 7.401<br>Duration: 0",
            " Minutes: 7.419<br>Duration: 0",
            " Minutes: 7.427<br>Duration: 0",
            " Minutes: 7.431<br>Duration: 0",
            " Minutes: 7.433<br>Duration: 0",
            " Minutes: 7.443<br>Duration: 0",
            " Minutes: 7.448<br>Duration: 0",
            " Minutes: 7.45<br>Duration: 0",
            " Minutes: 7.46<br>Duration: 0",
            " Minutes: 7.498<br>Duration: 0"
           ],
           "type": "scatter",
           "x": [
            104,
            111,
            769,
            742,
            754,
            767,
            781,
            115,
            148,
            774,
            779,
            766,
            803,
            782,
            784,
            794,
            748,
            152,
            117,
            146,
            265
           ],
           "y": [
            706,
            676,
            566,
            547,
            558,
            553,
            544,
            685,
            678,
            615,
            564,
            571,
            547,
            569,
            574,
            556,
            553,
            701,
            680,
            682,
            213
           ]
          },
          {
           "marker": {
            "size": 10,
            "sizemode": "area",
            "sizeref": 1,
            "symbol": 207
           },
           "mode": "markers",
           "name": "LMouseButton",
           "text": [
            " Minute: 7.253",
            " Minute: 7.314"
           ],
           "type": "scatter",
           "x": [
            609,
            568
           ],
           "y": [
            267,
            318
           ]
          }
         ],
         "name": "7.5"
        },
        {
         "data": [
          {
           "marker": {
            "opacity": 0.5,
            "size": [
             139,
             159,
             259,
             159,
             140,
             219,
             179,
             239,
             160,
             219
            ],
            "sizemode": "area",
            "sizeref": 0,
            "symbol": 0
           },
           "mode": "markers",
           "name": "Dilated Pupil",
           "text": [
            " Minutes: 7.508<br>Duration: 0",
            " Minutes: 7.557<br>Duration: 0",
            " Minutes: 7.605<br>Duration: 0",
            " Minutes: 7.644<br>Duration: 0",
            " Minutes: 7.647<br>Duration: 0",
            " Minutes: 7.65<br>Duration: 0",
            " Minutes: 7.654<br>Duration: 0",
            " Minutes: 7.661<br>Duration: 0",
            " Minutes: 7.666<br>Duration: 0",
            " Minutes: 7.676<br>Duration: 0"
           ],
           "type": "scatter",
           "x": [
            58,
            266,
            60,
            102,
            250,
            249,
            282,
            75,
            74,
            100
           ],
           "y": [
            218,
            207,
            237,
            226,
            212,
            217,
            215,
            634,
            564,
            757
           ]
          },
          {
           "marker": {
            "opacity": 0.5,
            "size": [
             140,
             259,
             419,
             100,
             140,
             279,
             219
            ],
            "sizemode": "area",
            "sizeref": 0,
            "symbol": 0
           },
           "mode": "markers",
           "name": "Squeezed Pupil ",
           "text": [
            " Minutes: 7.516<br>Duration: 0",
            " Minutes: 7.524<br>Duration: 0",
            " Minutes: 7.569<br>Duration: 0",
            " Minutes: 7.577<br>Duration: 0",
            " Minutes: 7.583<br>Duration: 0",
            " Minutes: 7.59<br>Duration: 0",
            " Minutes: 7.672<br>Duration: 0"
           ],
           "type": "scatter",
           "x": [
            266,
            260,
            248,
            285,
            275,
            264,
            94
           ],
           "y": [
            222,
            197,
            220,
            219,
            217,
            220,
            779
           ]
          },
          {
           "marker": {
            "size": 10,
            "sizemode": "area",
            "sizeref": 1,
            "symbol": 207
           },
           "mode": "markers",
           "name": "LMouseButton",
           "text": [
            " Minute: 7.508",
            " Minute: 7.721"
           ],
           "type": "scatter",
           "x": [
            504,
            678
           ],
           "y": [
            232,
            708
           ]
          }
         ],
         "name": "7.75"
        },
        {
         "data": [
          {
           "marker": {
            "opacity": 0.5,
            "size": [
             259,
             160,
             359,
             359,
             259,
             199,
             299,
             219,
             120,
             160,
             179
            ],
            "sizemode": "area",
            "sizeref": 0,
            "symbol": 0
           },
           "mode": "markers",
           "name": "Dilated Pupil",
           "text": [
            " Minutes: 7.812<br>Duration: 0",
            " Minutes: 7.823<br>Duration: 0",
            " Minutes: 7.834<br>Duration: 0",
            " Minutes: 7.84<br>Duration: 0",
            " Minutes: 7.855<br>Duration: 0",
            " Minutes: 7.86<br>Duration: 0",
            " Minutes: 7.863<br>Duration: 0",
            " Minutes: 7.886<br>Duration: 0",
            " Minutes: 7.89<br>Duration: 0",
            " Minutes: 7.955<br>Duration: 0",
            " Minutes: 7.966<br>Duration: 0"
           ],
           "type": "scatter",
           "x": [
            441,
            66,
            266,
            69,
            446,
            221,
            73,
            278,
            342,
            116,
            736
           ],
           "y": [
            223,
            224,
            214,
            216,
            213,
            220,
            236,
            234,
            232,
            662,
            623
           ]
          },
          {
           "marker": {
            "opacity": 0.5,
            "size": [
             279,
             180,
             239,
             419,
             239,
             239,
             140,
             279,
             279,
             100,
             219,
             259,
             219
            ],
            "sizemode": "area",
            "sizeref": 0,
            "symbol": 0
           },
           "mode": "markers",
           "name": "Squeezed Pupil ",
           "text": [
            " Minutes: 7.817<br>Duration: 0",
            " Minutes: 7.826<br>Duration: 0",
            " Minutes: 7.829<br>Duration: 0",
            " Minutes: 7.847<br>Duration: 0",
            " Minutes: 7.869<br>Duration: 0",
            " Minutes: 7.873<br>Duration: 0",
            " Minutes: 7.878<br>Duration: 0",
            " Minutes: 7.881<br>Duration: 0",
            " Minutes: 7.971<br>Duration: 0",
            " Minutes: 7.976<br>Duration: 0",
            " Minutes: 7.98<br>Duration: 0",
            " Minutes: 7.985<br>Duration: 0",
            " Minutes: 7.99<br>Duration: 0"
           ],
           "type": "scatter",
           "x": [
            287,
            530,
            619,
            274,
            279,
            324,
            196,
            83,
            767,
            752,
            732,
            754,
            769
           ],
           "y": [
            211,
            205,
            207,
            219,
            227,
            228,
            235,
            241,
            602,
            585,
            557,
            559,
            601
           ]
          },
          {
           "marker": {
            "size": 10,
            "sizemode": "area",
            "sizeref": 1,
            "symbol": 207
           },
           "mode": "markers",
           "name": "LMouseButton",
           "text": [
            " Minute: 7.933"
           ],
           "type": "scatter",
           "x": [
            66
           ],
           "y": [
            658
           ]
          }
         ],
         "name": "8.0"
        },
        {
         "data": [
          {
           "marker": {
            "opacity": 0.5,
            "size": [
             498,
             180,
             179,
             179,
             100,
             120,
             160,
             199,
             439,
             279,
             618,
             279,
             279,
             160
            ],
            "sizemode": "area",
            "sizeref": 0,
            "symbol": 0
           },
           "mode": "markers",
           "name": "Dilated Pupil",
           "text": [
            " Minutes: 8.026<br>Duration: 0",
            " Minutes: 8.053<br>Duration: 0",
            " Minutes: 8.091<br>Duration: 0",
            " Minutes: 8.097<br>Duration: 0",
            " Minutes: 8.122<br>Duration: 0",
            " Minutes: 8.128<br>Duration: 0",
            " Minutes: 8.17<br>Duration: 0",
            " Minutes: 8.183<br>Duration: 0",
            " Minutes: 8.187<br>Duration: 0",
            " Minutes: 8.195<br>Duration: 0",
            " Minutes: 8.203<br>Duration: 0",
            " Minutes: 8.223<br>Duration: 0",
            " Minutes: 8.229<br>Duration: 0",
            " Minutes: 8.234<br>Duration: 0"
           ],
           "type": "scatter",
           "x": [
            777,
            800,
            811,
            809,
            775,
            123,
            305,
            261,
            95,
            281,
            427,
            88,
            265,
            319
           ],
           "y": [
            602,
            658,
            672,
            647,
            646,
            676,
            228,
            241,
            237,
            233,
            254,
            222,
            201,
            203
           ]
          },
          {
           "marker": {
            "opacity": 0.5,
            "size": [
             299,
             179,
             159,
             199,
             140,
             160,
             160,
             100,
             180,
             120,
             100,
             139,
             100,
             120,
             100,
             140,
             179,
             479,
             259,
             139,
             180,
             239,
             239
            ],
            "sizemode": "area",
            "sizeref": 0,
            "symbol": 0
           },
           "mode": "markers",
           "name": "Squeezed Pupil ",
           "text": [
            " Minutes: 8.003<br>Duration: 0",
            " Minutes: 8.008<br>Duration: 0",
            " Minutes: 8.012<br>Duration: 0",
            " Minutes: 8.018<br>Duration: 0",
            " Minutes: 8.022<br>Duration: 0",
            " Minutes: 8.035<br>Duration: 0",
            " Minutes: 8.04<br>Duration: 0",
            " Minutes: 8.043<br>Duration: 0",
            " Minutes: 8.056<br>Duration: 0",
            " Minutes: 8.066<br>Duration: 0",
            " Minutes: 8.069<br>Duration: 0",
            " Minutes: 8.076<br>Duration: 0",
            " Minutes: 8.079<br>Duration: 0",
            " Minutes: 8.082<br>Duration: 0",
            " Minutes: 8.084<br>Duration: 0",
            " Minutes: 8.094<br>Duration: 0",
            " Minutes: 8.104<br>Duration: 0",
            " Minutes: 8.11<br>Duration: 0",
            " Minutes: 8.143<br>Duration: 0",
            " Minutes: 8.18<br>Duration: 0",
            " Minutes: 8.2<br>Duration: 0",
            " Minutes: 8.214<br>Duration: 0",
            " Minutes: 8.218<br>Duration: 0"
           ],
           "type": "scatter",
           "x": [
            758,
            775,
            762,
            765,
            773,
            787,
            770,
            764,
            797,
            743,
            763,
            746,
            748,
            741,
            742,
            847,
            769,
            724,
            113,
            592,
            329,
            439,
            288
           ],
           "y": [
            553,
            568,
            608,
            612,
            588,
            587,
            608,
            620,
            643,
            663,
            634,
            661,
            672,
            652,
            650,
            660,
            645,
            553,
            661,
            230,
            241,
            233,
            200
           ]
          },
          {
           "marker": {
            "size": 10,
            "sizemode": "area",
            "sizeref": 1,
            "symbol": 207
           },
           "mode": "markers",
           "name": "LMouseButton",
           "text": [
            " Minute: 8.027",
            " Minute: 8.039",
            " Minute: 8.045",
            " Minute: 8.062",
            " Minute: 8.082",
            " Minute: 8.204"
           ],
           "type": "scatter",
           "x": [
            711,
            716,
            715,
            715,
            693,
            528
           ],
           "y": [
            599,
            598,
            609,
            610,
            660,
            258
           ]
          }
         ],
         "name": "8.25"
        },
        {
         "data": [
          {
           "marker": {
            "opacity": 0.5,
            "size": [
             179,
             339,
             199,
             140,
             179,
             179,
             219,
             100,
             140,
             100,
             140,
             259,
             100,
             100
            ],
            "sizemode": "area",
            "sizeref": 0,
            "symbol": 0
           },
           "mode": "markers",
           "name": "Dilated Pupil",
           "text": [
            " Minutes: 8.316<br>Duration: 0",
            " Minutes: 8.32<br>Duration: 0",
            " Minutes: 8.347<br>Duration: 0",
            " Minutes: 8.36<br>Duration: 0",
            " Minutes: 8.365<br>Duration: 0",
            " Minutes: 8.368<br>Duration: 0",
            " Minutes: 8.374<br>Duration: 0",
            " Minutes: 8.38<br>Duration: 0",
            " Minutes: 8.385<br>Duration: 0",
            " Minutes: 8.388<br>Duration: 0",
            " Minutes: 8.391<br>Duration: 0",
            " Minutes: 8.425<br>Duration: 0",
            " Minutes: 8.438<br>Duration: 0",
            " Minutes: 8.5<br>Duration: 0"
           ],
           "type": "scatter",
           "x": [
            777,
            793,
            739,
            713,
            706,
            721,
            721,
            721,
            710,
            704,
            711,
            795,
            770,
            115
           ],
           "y": [
            613,
            631,
            557,
            572,
            568,
            569,
            584,
            607,
            555,
            563,
            562,
            620,
            612,
            705
           ]
          },
          {
           "marker": {
            "opacity": 0.5,
            "size": [
             259,
             120,
             100,
             100,
             100,
             120,
             100,
             199,
             120,
             100,
             259,
             100,
             140,
             120,
             160,
             159,
             159,
             219,
             140,
             199,
             120,
             120,
             120,
             140,
             219,
             199,
             120
            ],
            "sizemode": "area",
            "sizeref": 0,
            "symbol": 0
           },
           "mode": "markers",
           "name": "Squeezed Pupil ",
           "text": [
            " Minutes: 8.25<br>Duration: 0",
            " Minutes: 8.282<br>Duration: 0",
            " Minutes: 8.287<br>Duration: 0",
            " Minutes: 8.296<br>Duration: 0",
            " Minutes: 8.299<br>Duration: 0",
            " Minutes: 8.302<br>Duration: 0",
            " Minutes: 8.306<br>Duration: 0",
            " Minutes: 8.311<br>Duration: 0",
            " Minutes: 8.353<br>Duration: 0",
            " Minutes: 8.395<br>Duration: 0",
            " Minutes: 8.398<br>Duration: 0",
            " Minutes: 8.403<br>Duration: 0",
            " Minutes: 8.41<br>Duration: 0",
            " Minutes: 8.413<br>Duration: 0",
            " Minutes: 8.417<br>Duration: 0",
            " Minutes: 8.432<br>Duration: 0",
            " Minutes: 8.441<br>Duration: 0",
            " Minutes: 8.447<br>Duration: 0",
            " Minutes: 8.451<br>Duration: 0",
            " Minutes: 8.455<br>Duration: 0",
            " Minutes: 8.459<br>Duration: 0",
            " Minutes: 8.461<br>Duration: 0",
            " Minutes: 8.465<br>Duration: 0",
            " Minutes: 8.468<br>Duration: 0",
            " Minutes: 8.471<br>Duration: 0",
            " Minutes: 8.475<br>Duration: 0",
            " Minutes: 8.492<br>Duration: 0"
           ],
           "type": "scatter",
           "x": [
            143,
            769,
            777,
            797,
            778,
            765,
            777,
            744,
            728,
            721,
            738,
            781,
            761,
            744,
            764,
            796,
            732,
            745,
            749,
            774,
            742,
            730,
            724,
            721,
            724,
            752,
            74
           ],
           "y": [
            733,
            629,
            646,
            678,
            632,
            597,
            590,
            608,
            596,
            562,
            565,
            571,
            582,
            585,
            602,
            669,
            600,
            599,
            604,
            614,
            585,
            609,
            583,
            571,
            557,
            557,
            643
           ]
          },
          {
           "marker": {
            "size": 10,
            "sizemode": "area",
            "sizeref": 1,
            "symbol": 207
           },
           "mode": "markers",
           "name": "LMouseButton",
           "text": [
            " Minute: 8.316",
            " Minute: 8.394",
            " Minute: 8.408"
           ],
           "type": "scatter",
           "x": [
            718,
            699,
            698
           ],
           "y": [
            612,
            567,
            567
           ]
          }
         ],
         "name": "8.5"
        },
        {
         "data": [
          {
           "marker": {
            "opacity": 0.5,
            "size": [
             578,
             199,
             299,
             578,
             1196,
             239,
             359,
             199
            ],
            "sizemode": "area",
            "sizeref": 0,
            "symbol": 0
           },
           "mode": "markers",
           "name": "Dilated Pupil",
           "text": [
            " Minutes: 8.65<br>Duration: 0",
            " Minutes: 8.66<br>Duration: 0",
            " Minutes: 8.664<br>Duration: 0",
            " Minutes: 8.669<br>Duration: 0",
            " Minutes: 8.694<br>Duration: 0",
            " Minutes: 8.733<br>Duration: 0",
            " Minutes: 8.737<br>Duration: 0",
            " Minutes: 8.744<br>Duration: 0"
           ],
           "type": "scatter",
           "x": [
            617,
            477,
            513,
            443,
            270,
            100,
            269,
            103
           ],
           "y": [
            183,
            223,
            231,
            207,
            200,
            233,
            224,
            223
           ]
          },
          {
           "marker": {
            "opacity": 0.5,
            "size": [
             140,
             279,
             180,
             279,
             259,
             140,
             159,
             359,
             658
            ],
            "sizemode": "area",
            "sizeref": 0,
            "symbol": 0
           },
           "mode": "markers",
           "name": "Squeezed Pupil ",
           "text": [
            " Minutes: 8.633<br>Duration: 0",
            " Minutes: 8.636<br>Duration: 0",
            " Minutes: 8.641<br>Duration: 0",
            " Minutes: 8.645<br>Duration: 0",
            " Minutes: 8.68<br>Duration: 0",
            " Minutes: 8.685<br>Duration: 0",
            " Minutes: 8.691<br>Duration: 0",
            " Minutes: 8.714<br>Duration: 0",
            " Minutes: 8.721<br>Duration: 0"
           ],
           "type": "scatter",
           "x": [
            423,
            290,
            88,
            462,
            279,
            87,
            237,
            87,
            287
           ],
           "y": [
            203,
            208,
            255,
            200,
            219,
            233,
            227,
            230,
            226
           ]
          },
          {
           "marker": {
            "size": 10,
            "sizemode": "area",
            "sizeref": 1,
            "symbol": 207
           },
           "mode": "markers",
           "name": "LMouseButton",
           "text": [
            " Minute: 8.658",
            " Minute: 8.67"
           ],
           "type": "scatter",
           "x": [
            609,
            559
           ],
           "y": [
            212,
            265
           ]
          }
         ],
         "name": "8.75"
        },
        {
         "data": [
          {
           "marker": {
            "opacity": 0.5,
            "size": [
             180,
             100,
             180,
             120,
             159,
             100,
             199,
             120,
             638,
             100,
             140
            ],
            "sizemode": "area",
            "sizeref": 0,
            "symbol": 0
           },
           "mode": "markers",
           "name": "Dilated Pupil",
           "text": [
            " Minutes: 8.751<br>Duration: 0",
            " Minutes: 8.754<br>Duration: 0",
            " Minutes: 8.78<br>Duration: 0",
            " Minutes: 8.786<br>Duration: 0",
            " Minutes: 8.792<br>Duration: 0",
            " Minutes: 8.795<br>Duration: 0",
            " Minutes: 8.917<br>Duration: 0",
            " Minutes: 8.921<br>Duration: 0",
            " Minutes: 8.928<br>Duration: 0",
            " Minutes: 8.947<br>Duration: 0",
            " Minutes: 8.949<br>Duration: 0"
           ],
           "type": "scatter",
           "x": [
            108,
            124,
            107,
            116,
            131,
            121,
            45,
            40,
            46,
            32,
            37
           ],
           "y": [
            697,
            716,
            828,
            848,
            896,
            892,
            617,
            612,
            525,
            507,
            508
           ]
          },
          {
           "marker": {
            "opacity": 0.5,
            "size": [
             160,
             199
            ],
            "sizemode": "area",
            "sizeref": 0,
            "symbol": 0
           },
           "mode": "markers",
           "name": "Squeezed Pupil ",
           "text": [
            " Minutes: 8.766<br>Duration: 0",
            " Minutes: 8.924<br>Duration: 0"
           ],
           "type": "scatter",
           "x": [
            99,
            52
           ],
           "y": [
            645,
            612
           ]
          },
          {
           "marker": {
            "size": 10,
            "sizemode": "area",
            "sizeref": 1,
            "symbol": 207
           },
           "mode": "markers",
           "name": "LMouseButton",
           "text": [
            " Minute: 8.822",
            " Minute: 8.868",
            " Minute: 8.892",
            " Minute: 8.906",
            " Minute: 8.919",
            " Minute: 8.985",
            " Minute: 8.999"
           ],
           "type": "scatter",
           "x": [
            390,
            43,
            39,
            46,
            40,
            673,
            675
           ],
           "y": [
            802,
            775,
            784,
            791,
            628,
            533,
            536
           ]
          }
         ],
         "name": "9.0"
        },
        {
         "data": [
          {
           "marker": {
            "opacity": 0.5,
            "size": [
             100,
             120,
             239,
             179,
             100,
             498,
             259,
             678,
             299,
             199,
             120,
             279,
             100,
             179,
             120,
             159,
             180,
             120,
             179,
             160
            ],
            "sizemode": "area",
            "sizeref": 0,
            "symbol": 0
           },
           "mode": "markers",
           "name": "Dilated Pupil",
           "text": [
            " Minutes: 9.051<br>Duration: 0",
            " Minutes: 9.067<br>Duration: 0",
            " Minutes: 9.08<br>Duration: 0",
            " Minutes: 9.106<br>Duration: 0",
            " Minutes: 9.109<br>Duration: 0",
            " Minutes: 9.113<br>Duration: 0",
            " Minutes: 9.126<br>Duration: 0",
            " Minutes: 9.146<br>Duration: 0",
            " Minutes: 9.157<br>Duration: 0",
            " Minutes: 9.164<br>Duration: 0",
            " Minutes: 9.168<br>Duration: 0",
            " Minutes: 9.186<br>Duration: 0",
            " Minutes: 9.204<br>Duration: 0",
            " Minutes: 9.208<br>Duration: 0",
            " Minutes: 9.212<br>Duration: 0",
            " Minutes: 9.219<br>Duration: 0",
            " Minutes: 9.227<br>Duration: 0",
            " Minutes: 9.235<br>Duration: 0",
            " Minutes: 9.241<br>Duration: 0",
            " Minutes: 9.244<br>Duration: 0"
           ],
           "type": "scatter",
           "x": [
            717,
            58,
            278,
            81,
            273,
            621,
            517,
            71,
            103,
            259,
            94,
            449,
            70,
            78,
            83,
            82,
            88,
            100,
            124,
            115
           ],
           "y": [
            591,
            674,
            224,
            229,
            210,
            231,
            266,
            240,
            246,
            227,
            238,
            233,
            661,
            662,
            670,
            643,
            640,
            671,
            777,
            760
           ]
          },
          {
           "marker": {
            "opacity": 0.5,
            "size": [
             140,
             239,
             179,
             140,
             239,
             279,
             179,
             279,
             259,
             160,
             459,
             120,
             100,
             259
            ],
            "sizemode": "area",
            "sizeref": 0,
            "symbol": 0
           },
           "mode": "markers",
           "name": "Squeezed Pupil ",
           "text": [
            " Minutes: 9.053<br>Duration: 0",
            " Minutes: 9.057<br>Duration: 0",
            " Minutes: 9.094<br>Duration: 0",
            " Minutes: 9.101<br>Duration: 0",
            " Minutes: 9.121<br>Duration: 0",
            " Minutes: 9.13<br>Duration: 0",
            " Minutes: 9.136<br>Duration: 0",
            " Minutes: 9.14<br>Duration: 0",
            " Minutes: 9.174<br>Duration: 0",
            " Minutes: 9.179<br>Duration: 0",
            " Minutes: 9.191<br>Duration: 0",
            " Minutes: 9.214<br>Duration: 0",
            " Minutes: 9.233<br>Duration: 0",
            " Minutes: 9.25<br>Duration: 0"
           ],
           "type": "scatter",
           "x": [
            723,
            708,
            442,
            274,
            620,
            446,
            449,
            262,
            82,
            261,
            265,
            86,
            97,
            118
           ],
           "y": [
            588,
            516,
            213,
            215,
            228,
            222,
            228,
            222,
            248,
            231,
            226,
            654,
            672,
            756
           ]
          },
          {
           "marker": {
            "size": 10,
            "sizemode": "area",
            "sizeref": 1,
            "symbol": 207
           },
           "mode": "markers",
           "name": "LMouseButton",
           "text": [
            " Minute: 9.014",
            " Minute: 9.041",
            " Minute: 9.099",
            " Minute: 9.121",
            " Minute: 9.13",
            " Minute: 9.231"
           ],
           "type": "scatter",
           "x": [
            681,
            679,
            525,
            610,
            580,
            42
           ],
           "y": [
            551,
            597,
            230,
            231,
            254,
            661
           ]
          }
         ],
         "name": "9.25"
        },
        {
         "data": [
          {
           "marker": {
            "opacity": 0.5,
            "size": [
             100,
             159,
             139,
             140,
             100,
             219,
             199,
             179,
             100,
             219,
             100,
             200,
             179,
             100,
             199,
             140,
             239,
             160,
             140,
             219,
             120,
             219
            ],
            "sizemode": "area",
            "sizeref": 0,
            "symbol": 0
           },
           "mode": "markers",
           "name": "Dilated Pupil",
           "text": [
            " Minutes: 9.256<br>Duration: 0",
            " Minutes: 9.276<br>Duration: 0",
            " Minutes: 9.28<br>Duration: 0",
            " Minutes: 9.284<br>Duration: 0",
            " Minutes: 9.291<br>Duration: 0",
            " Minutes: 9.294<br>Duration: 0",
            " Minutes: 9.314<br>Duration: 0",
            " Minutes: 9.319<br>Duration: 0",
            " Minutes: 9.346<br>Duration: 0",
            " Minutes: 9.382<br>Duration: 0",
            " Minutes: 9.387<br>Duration: 0",
            " Minutes: 9.389<br>Duration: 0",
            " Minutes: 9.395<br>Duration: 0",
            " Minutes: 9.398<br>Duration: 0",
            " Minutes: 9.405<br>Duration: 0",
            " Minutes: 9.409<br>Duration: 0",
            " Minutes: 9.42<br>Duration: 0",
            " Minutes: 9.425<br>Duration: 0",
            " Minutes: 9.428<br>Duration: 0",
            " Minutes: 9.449<br>Duration: 0",
            " Minutes: 9.453<br>Duration: 0",
            " Minutes: 9.468<br>Duration: 0"
           ],
           "type": "scatter",
           "x": [
            126,
            75,
            82,
            84,
            113,
            116,
            105,
            699,
            749,
            769,
            785,
            773,
            793,
            779,
            726,
            737,
            717,
            737,
            725,
            745,
            751,
            808
           ],
           "y": [
            769,
            606,
            614,
            552,
            574,
            570,
            562,
            530,
            574,
            589,
            573,
            602,
            620,
            606,
            529,
            535,
            539,
            573,
            580,
            545,
            553,
            543
           ]
          },
          {
           "marker": {
            "opacity": 0.5,
            "size": [
             140,
             160,
             219,
             120,
             180,
             219,
             140,
             199,
             120,
             219,
             100,
             259,
             100,
             339,
             120,
             100,
             100,
             120
            ],
            "sizemode": "area",
            "sizeref": 0,
            "symbol": 0
           },
           "mode": "markers",
           "name": "Squeezed Pupil ",
           "text": [
            " Minutes: 9.269<br>Duration: 0",
            " Minutes: 9.288<br>Duration: 0",
            " Minutes: 9.301<br>Duration: 0",
            " Minutes: 9.323<br>Duration: 0",
            " Minutes: 9.335<br>Duration: 0",
            " Minutes: 9.339<br>Duration: 0",
            " Minutes: 9.37<br>Duration: 0",
            " Minutes: 9.377<br>Duration: 0",
            " Minutes: 9.4<br>Duration: 0",
            " Minutes: 9.415<br>Duration: 0",
            " Minutes: 9.433<br>Duration: 0",
            " Minutes: 9.437<br>Duration: 0",
            " Minutes: 9.446<br>Duration: 0",
            " Minutes: 9.456<br>Duration: 0",
            " Minutes: 9.474<br>Duration: 0",
            " Minutes: 9.481<br>Duration: 0",
            " Minutes: 9.488<br>Duration: 0",
            " Minutes: 9.494<br>Duration: 0"
           ],
           "type": "scatter",
           "x": [
            118,
            102,
            79,
            720,
            723,
            741,
            732,
            748,
            769,
            750,
            727,
            732,
            763,
            742,
            724,
            783,
            780,
            783
           ],
           "y": [
            822,
            590,
            528,
            547,
            520,
            527,
            559,
            571,
            591,
            543,
            588,
            575,
            589,
            557,
            595,
            646,
            628,
            656
           ]
          },
          {
           "marker": {
            "size": 10,
            "sizemode": "area",
            "sizeref": 1,
            "symbol": 207
           },
           "mode": "markers",
           "name": "LMouseButton",
           "text": [
            " Minute: 9.255",
            " Minute: 9.271",
            " Minute: 9.339",
            " Minute: 9.362",
            " Minute: 9.373",
            " Minute: 9.406",
            " Minute: 9.412",
            " Minute: 9.438",
            " Minute: 9.447",
            " Minute: 9.456",
            " Minute: 9.458",
            " Minute: 9.469"
           ],
           "type": "scatter",
           "x": [
            61,
            61,
            674,
            674,
            673,
            674,
            674,
            693,
            695,
            690,
            697,
            697
           ],
           "y": [
            758,
            758,
            532,
            532,
            550,
            549,
            537,
            582,
            582,
            552,
            551,
            550
           ]
          }
         ],
         "name": "9.5"
        },
        {
         "data": [
          {
           "marker": {
            "opacity": 0.5,
            "size": [
             180,
             120,
             100,
             100,
             160,
             160,
             100,
             299,
             100,
             279,
             140,
             140,
             140,
             299
            ],
            "sizemode": "area",
            "sizeref": 0,
            "symbol": 0
           },
           "mode": "markers",
           "name": "Dilated Pupil",
           "text": [
            " Minutes: 9.54<br>Duration: 0",
            " Minutes: 9.546<br>Duration: 0",
            " Minutes: 9.586<br>Duration: 0",
            " Minutes: 9.591<br>Duration: 0",
            " Minutes: 9.606<br>Duration: 0",
            " Minutes: 9.626<br>Duration: 0",
            " Minutes: 9.636<br>Duration: 0",
            " Minutes: 9.649<br>Duration: 0",
            " Minutes: 9.684<br>Duration: 0",
            " Minutes: 9.689<br>Duration: 0",
            " Minutes: 9.704<br>Duration: 0",
            " Minutes: 9.722<br>Duration: 0",
            " Minutes: 9.728<br>Duration: 0",
            " Minutes: 9.74<br>Duration: 0"
           ],
           "type": "scatter",
           "x": [
            772,
            766,
            252,
            774,
            731,
            762,
            738,
            727,
            805,
            796,
            802,
            815,
            838,
            781
           ],
           "y": [
            681,
            652,
            224,
            797,
            833,
            717,
            685,
            732,
            691,
            691,
            706,
            730,
            731,
            722
           ]
          },
          {
           "marker": {
            "opacity": 0.5,
            "size": [
             140,
             100,
             120,
             120,
             120,
             140,
             159,
             180
            ],
            "sizemode": "area",
            "sizeref": 0,
            "symbol": 0
           },
           "mode": "markers",
           "name": "Squeezed Pupil ",
           "text": [
            " Minutes: 9.548<br>Duration: 0",
            " Minutes: 9.553<br>Duration: 0",
            " Minutes: 9.556<br>Duration: 0",
            " Minutes: 9.559<br>Duration: 0",
            " Minutes: 9.563<br>Duration: 0",
            " Minutes: 9.578<br>Duration: 0",
            " Minutes: 9.67<br>Duration: 0",
            " Minutes: 9.68<br>Duration: 0"
           ],
           "type": "scatter",
           "x": [
            785,
            779,
            782,
            780,
            785,
            265,
            766,
            735
           ],
           "y": [
            684,
            691,
            673,
            695,
            627,
            248,
            721,
            671
           ]
          },
          {
           "marker": {
            "size": 10,
            "sizemode": "area",
            "sizeref": 1,
            "symbol": 207
           },
           "mode": "markers",
           "name": "LMouseButton",
           "text": [
            " Minute: 9.618",
            " Minute: 9.639",
            " Minute: 9.652",
            " Minute: 9.664",
            " Minute: 9.685",
            " Minute: 9.703",
            " Minute: 9.719",
            " Minute: 9.746"
           ],
           "type": "scatter",
           "x": [
            678,
            678,
            700,
            696,
            713,
            744,
            752,
            754
           ],
           "y": [
            791,
            716,
            757,
            756,
            709,
            730,
            744,
            741
           ]
          }
         ],
         "name": "9.75"
        },
        {
         "data": [
          {
           "marker": {
            "opacity": 0.5,
            "size": [
             120,
             120,
             199,
             100,
             100,
             140,
             120,
             120,
             100,
             259,
             159
            ],
            "sizemode": "area",
            "sizeref": 0,
            "symbol": 0
           },
           "mode": "markers",
           "name": "Dilated Pupil",
           "text": [
            " Minutes: 9.869<br>Duration: 0",
            " Minutes: 9.903<br>Duration: 0",
            " Minutes: 9.913<br>Duration: 0",
            " Minutes: 9.923<br>Duration: 0",
            " Minutes: 9.93<br>Duration: 0",
            " Minutes: 9.944<br>Duration: 0",
            " Minutes: 9.956<br>Duration: 0",
            " Minutes: 9.976<br>Duration: 0",
            " Minutes: 9.98<br>Duration: 0",
            " Minutes: 9.984<br>Duration: 0",
            " Minutes: 9.999<br>Duration: 0"
           ],
           "type": "scatter",
           "x": [
            722,
            736,
            774,
            725,
            732,
            776,
            713,
            725,
            711,
            707,
            708
           ],
           "y": [
            541,
            528,
            580,
            592,
            570,
            601,
            529,
            568,
            561,
            574,
            551
           ]
          },
          {
           "marker": {
            "opacity": 0.5,
            "size": [
             159,
             120,
             100,
             120,
             120,
             379,
             120
            ],
            "sizemode": "area",
            "sizeref": 0,
            "symbol": 0
           },
           "mode": "markers",
           "name": "Squeezed Pupil ",
           "text": [
            " Minutes: 9.756<br>Duration: 0",
            " Minutes: 9.765<br>Duration: 0",
            " Minutes: 9.871<br>Duration: 0",
            " Minutes: 9.877<br>Duration: 0",
            " Minutes: 9.885<br>Duration: 0",
            " Minutes: 9.934<br>Duration: 0",
            " Minutes: 9.972<br>Duration: 0"
           ],
           "type": "scatter",
           "x": [
            777,
            778,
            735,
            741,
            751,
            743,
            717
           ],
           "y": [
            662,
            606,
            514,
            500,
            505,
            591,
            542
           ]
          },
          {
           "marker": {
            "size": 10,
            "sizemode": "area",
            "sizeref": 1,
            "symbol": 207
           },
           "mode": "markers",
           "name": "LMouseButton",
           "text": [
            " Minute: 9.752",
            " Minute: 9.759",
            " Minute: 9.791",
            " Minute: 9.806",
            " Minute: 9.845",
            " Minute: 9.856",
            " Minute: 9.861",
            " Minute: 9.889",
            " Minute: 9.902",
            " Minute: 9.91",
            " Minute: 9.915",
            " Minute: 9.925",
            " Minute: 9.931",
            " Minute: 9.938",
            " Minute: 9.986",
            " Minute: 9.995"
           ],
           "type": "scatter",
           "x": [
            741,
            725,
            675,
            697,
            707,
            719,
            704,
            703,
            703,
            698,
            698,
            698,
            697,
            723,
            698,
            697
           ],
           "y": [
            728,
            713,
            837,
            872,
            732,
            737,
            725,
            551,
            551,
            571,
            576,
            576,
            578,
            598,
            580,
            550
           ]
          }
         ],
         "name": "10.0"
        },
        {
         "data": [
          {
           "marker": {
            "opacity": 0.5,
            "size": [
             140,
             100,
             259,
             100,
             239,
             199,
             140,
             120,
             120,
             160,
             219,
             100,
             120,
             160
            ],
            "sizemode": "area",
            "sizeref": 0,
            "symbol": 0
           },
           "mode": "markers",
           "name": "Dilated Pupil",
           "text": [
            " Minutes: 10.002<br>Duration: 0",
            " Minutes: 10.013<br>Duration: 0",
            " Minutes: 10.02<br>Duration: 0",
            " Minutes: 10.078<br>Duration: 0",
            " Minutes: 10.084<br>Duration: 0",
            " Minutes: 10.118<br>Duration: 0",
            " Minutes: 10.128<br>Duration: 0",
            " Minutes: 10.148<br>Duration: 0",
            " Minutes: 10.153<br>Duration: 0",
            " Minutes: 10.158<br>Duration: 0",
            " Minutes: 10.162<br>Duration: 0",
            " Minutes: 10.203<br>Duration: 0",
            " Minutes: 10.211<br>Duration: 0",
            " Minutes: 10.246<br>Duration: 0"
           ],
           "type": "scatter",
           "x": [
            736,
            717,
            741,
            700,
            731,
            743,
            67,
            88,
            80,
            727,
            730,
            731,
            748,
            753
           ],
           "y": [
            558,
            557,
            602,
            529,
            643,
            522,
            508,
            537,
            527,
            511,
            530,
            529,
            537,
            556
           ]
          },
          {
           "marker": {
            "opacity": 0.5,
            "size": [
             179,
             140,
             160,
             180,
             120,
             179,
             100,
             120,
             140,
             140,
             100,
             239,
             120,
             100
            ],
            "sizemode": "area",
            "sizeref": 0,
            "symbol": 0
           },
           "mode": "markers",
           "name": "Squeezed Pupil ",
           "text": [
            " Minutes: 10.031<br>Duration: 0",
            " Minutes: 10.035<br>Duration: 0",
            " Minutes: 10.05<br>Duration: 0",
            " Minutes: 10.055<br>Duration: 0",
            " Minutes: 10.074<br>Duration: 0",
            " Minutes: 10.092<br>Duration: 0",
            " Minutes: 10.103<br>Duration: 0",
            " Minutes: 10.123<br>Duration: 0",
            " Minutes: 10.142<br>Duration: 0",
            " Minutes: 10.166<br>Duration: 0",
            " Minutes: 10.193<br>Duration: 0",
            " Minutes: 10.229<br>Duration: 0",
            " Minutes: 10.234<br>Duration: 0",
            " Minutes: 10.239<br>Duration: 0"
           ],
           "type": "scatter",
           "x": [
            722,
            708,
            718,
            734,
            733,
            97,
            81,
            738,
            85,
            737,
            732,
            751,
            757,
            718
           ],
           "y": [
            602,
            598,
            551,
            591,
            541,
            584,
            541,
            527,
            535,
            535,
            530,
            653,
            651,
            524
           ]
          },
          {
           "marker": {
            "size": 10,
            "sizemode": "area",
            "sizeref": 1,
            "symbol": 207
           },
           "mode": "markers",
           "name": "LMouseButton",
           "text": [
            " Minute: 10.04"
           ],
           "type": "scatter",
           "x": [
            697
           ],
           "y": [
            613
           ]
          }
         ],
         "name": "10.25"
        },
        {
         "data": [
          {
           "marker": {
            "opacity": 0.5,
            "size": [
             100,
             100,
             140
            ],
            "sizemode": "area",
            "sizeref": 0,
            "symbol": 0
           },
           "mode": "markers",
           "name": "Dilated Pupil",
           "text": [
            " Minutes: 10.253<br>Duration: 0",
            " Minutes: 10.275<br>Duration: 0",
            " Minutes: 10.284<br>Duration: 0"
           ],
           "type": "scatter",
           "x": [
            755,
            67,
            58
           ],
           "y": [
            626,
            516,
            534
           ]
          },
          {
           "marker": {
            "opacity": 0.5,
            "size": [
             100,
             120
            ],
            "sizemode": "area",
            "sizeref": 0,
            "symbol": 0
           },
           "mode": "markers",
           "name": "Squeezed Pupil ",
           "text": [
            " Minutes: 10.494<br>Duration: 0",
            " Minutes: 10.499<br>Duration: 0"
           ],
           "type": "scatter",
           "x": [
            430,
            272
           ],
           "y": [
            191,
            206
           ]
          },
          {
           "marker": {
            "size": 10,
            "sizemode": "area",
            "sizeref": 1,
            "symbol": 207
           },
           "mode": "markers",
           "name": "LMouseButton",
           "text": [],
           "type": "scatter",
           "x": [],
           "y": []
          }
         ],
         "name": "10.5"
        },
        {
         "data": [
          {
           "marker": {
            "opacity": 0.5,
            "size": [
             179,
             299,
             180,
             100,
             120,
             100,
             179,
             140
            ],
            "sizemode": "area",
            "sizeref": 0,
            "symbol": 0
           },
           "mode": "markers",
           "name": "Dilated Pupil",
           "text": [
            " Minutes: 10.604<br>Duration: 0",
            " Minutes: 10.632<br>Duration: 0",
            " Minutes: 10.675<br>Duration: 0",
            " Minutes: 10.684<br>Duration: 0",
            " Minutes: 10.696<br>Duration: 0",
            " Minutes: 10.709<br>Duration: 0",
            " Minutes: 10.736<br>Duration: 0",
            " Minutes: 10.743<br>Duration: 0"
           ],
           "type": "scatter",
           "x": [
            744,
            82,
            102,
            89,
            99,
            98,
            67,
            112
           ],
           "y": [
            545,
            248,
            210,
            182,
            719,
            777,
            646,
            750
           ]
          },
          {
           "marker": {
            "opacity": 0.5,
            "size": [
             159,
             100,
             100,
             140,
             439,
             199,
             239,
             459,
             239,
             120,
             578,
             359,
             160,
             120,
             239,
             498,
             180,
             120,
             140,
             339,
             159,
             199,
             120,
             120
            ],
            "sizemode": "area",
            "sizeref": 0,
            "symbol": 0
           },
           "mode": "markers",
           "name": "Squeezed Pupil ",
           "text": [
            " Minutes: 10.502<br>Duration: 0",
            " Minutes: 10.505<br>Duration: 0",
            " Minutes: 10.511<br>Duration: 0",
            " Minutes: 10.513<br>Duration: 0",
            " Minutes: 10.516<br>Duration: 0",
            " Minutes: 10.525<br>Duration: 0",
            " Minutes: 10.528<br>Duration: 0",
            " Minutes: 10.533<br>Duration: 0",
            " Minutes: 10.541<br>Duration: 0",
            " Minutes: 10.546<br>Duration: 0",
            " Minutes: 10.554<br>Duration: 0",
            " Minutes: 10.564<br>Duration: 0",
            " Minutes: 10.571<br>Duration: 0",
            " Minutes: 10.578<br>Duration: 0",
            " Minutes: 10.583<br>Duration: 0",
            " Minutes: 10.587<br>Duration: 0",
            " Minutes: 10.596<br>Duration: 0",
            " Minutes: 10.607<br>Duration: 0",
            " Minutes: 10.638<br>Duration: 0",
            " Minutes: 10.649<br>Duration: 0",
            " Minutes: 10.663<br>Duration: 0",
            " Minutes: 10.67<br>Duration: 0",
            " Minutes: 10.71<br>Duration: 0",
            " Minutes: 10.73<br>Duration: 0"
           ],
           "type": "scatter",
           "x": [
            68,
            62,
            277,
            318,
            618,
            324,
            253,
            75,
            240,
            280,
            606,
            615,
            279,
            84,
            514,
            251,
            433,
            738,
            257,
            78,
            288,
            336,
            104,
            50
           ],
           "y": [
            202,
            203,
            200,
            200,
            215,
            204,
            209,
            210,
            216,
            211,
            239,
            240,
            231,
            238,
            266,
            222,
            232,
            537,
            217,
            222,
            201,
            190,
            740,
            546
           ]
          },
          {
           "marker": {
            "size": 10,
            "sizemode": "area",
            "sizeref": 1,
            "symbol": 207
           },
           "mode": "markers",
           "name": "LMouseButton",
           "text": [
            " Minute: 10.56",
            " Minute: 10.571",
            " Minute: 10.625"
           ],
           "type": "scatter",
           "x": [
            574,
            610,
            443
           ],
           "y": [
            250,
            250,
            266
           ]
          }
         ],
         "name": "10.75"
        },
        {
         "data": [
          {
           "marker": {
            "opacity": 0.5,
            "size": [
             140,
             140,
             100,
             140,
             120,
             159,
             100,
             160,
             179,
             160,
             339,
             299
            ],
            "sizemode": "area",
            "sizeref": 0,
            "symbol": 0
           },
           "mode": "markers",
           "name": "Dilated Pupil",
           "text": [
            " Minutes: 10.752<br>Duration: 0",
            " Minutes: 10.758<br>Duration: 0",
            " Minutes: 10.781<br>Duration: 0",
            " Minutes: 10.819<br>Duration: 0",
            " Minutes: 10.872<br>Duration: 0",
            " Minutes: 10.881<br>Duration: 0",
            " Minutes: 10.889<br>Duration: 0",
            " Minutes: 10.949<br>Duration: 0",
            " Minutes: 10.954<br>Duration: 0",
            " Minutes: 10.973<br>Duration: 0",
            " Minutes: 10.98<br>Duration: 0",
            " Minutes: 11.0<br>Duration: 0"
           ],
           "type": "scatter",
           "x": [
            749,
            772,
            824,
            711,
            64,
            106,
            117,
            238,
            86,
            83,
            254,
            250
           ],
           "y": [
            823,
            696,
            620,
            744,
            529,
            656,
            757,
            200,
            216,
            220,
            212,
            217
           ]
          },
          {
           "marker": {
            "opacity": 0.5,
            "size": [
             100,
             140,
             339,
             259,
             399,
             180,
             100,
             180,
             100,
             179,
             100,
             100,
             180,
             199,
             239
            ],
            "sizemode": "area",
            "sizeref": 0,
            "symbol": 0
           },
           "mode": "markers",
           "name": "Squeezed Pupil ",
           "text": [
            " Minutes: 10.783<br>Duration: 0",
            " Minutes: 10.787<br>Duration: 0",
            " Minutes: 10.799<br>Duration: 0",
            " Minutes: 10.807<br>Duration: 0",
            " Minutes: 10.812<br>Duration: 0",
            " Minutes: 10.823<br>Duration: 0",
            " Minutes: 10.827<br>Duration: 0",
            " Minutes: 10.831<br>Duration: 0",
            " Minutes: 10.854<br>Duration: 0",
            " Minutes: 10.858<br>Duration: 0",
            " Minutes: 10.897<br>Duration: 0",
            " Minutes: 10.902<br>Duration: 0",
            " Minutes: 10.905<br>Duration: 0",
            " Minutes: 10.909<br>Duration: 0",
            " Minutes: 10.992<br>Duration: 0"
           ],
           "type": "scatter",
           "x": [
            802,
            741,
            721,
            721,
            706,
            717,
            743,
            749,
            691,
            712,
            777,
            577,
            456,
            272,
            246
           ],
           "y": [
            617,
            587,
            532,
            544,
            533,
            671,
            638,
            626,
            514,
            599,
            622,
            258,
            210,
            202,
            213
           ]
          },
          {
           "marker": {
            "size": 10,
            "sizemode": "area",
            "sizeref": 1,
            "symbol": 207
           },
           "mode": "markers",
           "name": "LMouseButton",
           "text": [
            " Minute: 10.795",
            " Minute: 10.808",
            " Minute: 10.82",
            " Minute: 10.922",
            " Minute: 10.931"
           ],
           "type": "scatter",
           "x": [
            699,
            695,
            676,
            612,
            587
           ],
           "y": [
            609,
            548,
            532,
            212,
            240
           ]
          }
         ],
         "name": "11.0"
        },
        {
         "data": [
          {
           "marker": {
            "opacity": 0.5,
            "size": [
             279,
             160,
             159,
             159,
             120,
             239,
             100,
             120,
             419
            ],
            "sizemode": "area",
            "sizeref": 0,
            "symbol": 0
           },
           "mode": "markers",
           "name": "Dilated Pupil",
           "text": [
            " Minutes: 11.008<br>Duration: 0",
            " Minutes: 11.015<br>Duration: 0",
            " Minutes: 11.021<br>Duration: 0",
            " Minutes: 11.031<br>Duration: 0",
            " Minutes: 11.048<br>Duration: 0",
            " Minutes: 11.051<br>Duration: 0",
            " Minutes: 11.058<br>Duration: 0",
            " Minutes: 11.06<br>Duration: 0",
            " Minutes: 11.068<br>Duration: 0"
           ],
           "type": "scatter",
           "x": [
            89,
            102,
            103,
            85,
            99,
            97,
            102,
            99,
            119
           ],
           "y": [
            251,
            250,
            242,
            233,
            755,
            672,
            658,
            645,
            726
           ]
          },
          {
           "marker": {
            "opacity": 0.5,
            "size": [
             140,
             120,
             259,
             160,
             100,
             219
            ],
            "sizemode": "area",
            "sizeref": 0,
            "symbol": 0
           },
           "mode": "markers",
           "name": "Squeezed Pupil ",
           "text": [
            " Minutes: 11.065<br>Duration: 0",
            " Minutes: 11.097<br>Duration: 0",
            " Minutes: 11.104<br>Duration: 0",
            " Minutes: 11.147<br>Duration: 0",
            " Minutes: 11.167<br>Duration: 0",
            " Minutes: 11.171<br>Duration: 0"
           ],
           "type": "scatter",
           "x": [
            107,
            102,
            94,
            577,
            506,
            503
           ],
           "y": [
            693,
            704,
            702,
            739,
            714,
            730
           ]
          },
          {
           "marker": {
            "size": 10,
            "sizemode": "area",
            "sizeref": 1,
            "symbol": 207
           },
           "mode": "markers",
           "name": "LMouseButton",
           "text": [
            " Minute: 11.099",
            " Minute: 11.158"
           ],
           "type": "scatter",
           "x": [
            107,
            622
           ],
           "y": [
            726,
            717
           ]
          }
         ],
         "name": "11.25"
        },
        {
         "data": [
          {
           "marker": {
            "opacity": 0.5,
            "size": [
             100,
             120,
             339,
             339,
             538,
             399,
             100
            ],
            "sizemode": "area",
            "sizeref": 0,
            "symbol": 0
           },
           "mode": "markers",
           "name": "Dilated Pupil",
           "text": [
            " Minutes: 11.312<br>Duration: 0",
            " Minutes: 11.314<br>Duration: 0",
            " Minutes: 11.317<br>Duration: 0",
            " Minutes: 11.323<br>Duration: 0",
            " Minutes: 11.329<br>Duration: 0",
            " Minutes: 11.339<br>Duration: 0",
            " Minutes: 11.444<br>Duration: 0"
           ],
           "type": "scatter",
           "x": [
            503,
            460,
            612,
            287,
            78,
            248,
            155
           ],
           "y": [
            206,
            185,
            205,
            197,
            194,
            184,
            222
           ]
          },
          {
           "marker": {
            "opacity": 0.5,
            "size": [
             140,
             120,
             100,
             100,
             199
            ],
            "sizemode": "area",
            "sizeref": 0,
            "symbol": 0
           },
           "mode": "markers",
           "name": "Squeezed Pupil ",
           "text": [
            " Minutes: 11.254<br>Duration: 0",
            " Minutes: 11.265<br>Duration: 0",
            " Minutes: 11.274<br>Duration: 0",
            " Minutes: 11.277<br>Duration: 0",
            " Minutes: 11.452<br>Duration: 0"
           ],
           "type": "scatter",
           "x": [
            286,
            767,
            730,
            726,
            257
           ],
           "y": [
            198,
            628,
            600,
            603,
            210
           ]
          },
          {
           "marker": {
            "size": 10,
            "sizemode": "area",
            "sizeref": 1,
            "symbol": 207
           },
           "mode": "markers",
           "name": "LMouseButton",
           "text": [
            " Minute: 11.334",
            " Minute: 11.403",
            " Minute: 11.478"
           ],
           "type": "scatter",
           "x": [
            500,
            694,
            714
           ],
           "y": [
            237,
            627,
            688
           ]
          }
         ],
         "name": "11.5"
        },
        {
         "data": [
          {
           "marker": {
            "opacity": 0.5,
            "size": [
             180,
             219,
             100,
             140,
             160,
             100,
             100,
             100,
             199
            ],
            "sizemode": "area",
            "sizeref": 0,
            "symbol": 0
           },
           "mode": "markers",
           "name": "Dilated Pupil",
           "text": [
            " Minutes: 11.546<br>Duration: 0",
            " Minutes: 11.614<br>Duration: 0",
            " Minutes: 11.636<br>Duration: 0",
            " Minutes: 11.643<br>Duration: 0",
            " Minutes: 11.656<br>Duration: 0",
            " Minutes: 11.659<br>Duration: 0",
            " Minutes: 11.7<br>Duration: 0",
            " Minutes: 11.702<br>Duration: 0",
            " Minutes: 11.704<br>Duration: 0"
           ],
           "type": "scatter",
           "x": [
            111,
            765,
            788,
            839,
            766,
            788,
            133,
            118,
            104
           ],
           "y": [
            709,
            621,
            614,
            621,
            615,
            682,
            724,
            718,
            708
           ]
          },
          {
           "marker": {
            "opacity": 0.5,
            "size": [
             100,
             119,
             339,
             120,
             140,
             100,
             100
            ],
            "sizemode": "area",
            "sizeref": 0,
            "symbol": 0
           },
           "mode": "markers",
           "name": "Squeezed Pupil ",
           "text": [
            " Minutes: 11.54<br>Duration: 0",
            " Minutes: 11.542<br>Duration: 0",
            " Minutes: 11.602<br>Duration: 0",
            " Minutes: 11.676<br>Duration: 0",
            " Minutes: 11.727<br>Duration: 0",
            " Minutes: 11.73<br>Duration: 0",
            " Minutes: 11.737<br>Duration: 0"
           ],
           "type": "scatter",
           "x": [
            96,
            112,
            776,
            789,
            789,
            802,
            779
           ],
           "y": [
            685,
            716,
            610,
            673,
            684,
            692,
            657
           ]
          },
          {
           "marker": {
            "size": 10,
            "sizemode": "area",
            "sizeref": 1,
            "symbol": 207
           },
           "mode": "markers",
           "name": "LMouseButton",
           "text": [],
           "type": "scatter",
           "x": [],
           "y": []
          }
         ],
         "name": "11.75"
        },
        {
         "data": [
          {
           "marker": {
            "opacity": 0.5,
            "size": [
             120,
             120,
             239,
             120,
             459,
             458,
             140,
             399,
             100,
             339,
             140,
             558,
             359,
             678,
             140,
             239
            ],
            "sizemode": "area",
            "sizeref": 0,
            "symbol": 0
           },
           "mode": "markers",
           "name": "Dilated Pupil",
           "text": [
            " Minutes: 11.777<br>Duration: 0",
            " Minutes: 11.779<br>Duration: 0",
            " Minutes: 11.781<br>Duration: 0",
            " Minutes: 11.785<br>Duration: 0",
            " Minutes: 11.788<br>Duration: 0",
            " Minutes: 11.832<br>Duration: 0",
            " Minutes: 11.84<br>Duration: 0",
            " Minutes: 11.843<br>Duration: 0",
            " Minutes: 11.855<br>Duration: 0",
            " Minutes: 11.858<br>Duration: 0",
            " Minutes: 11.864<br>Duration: 0",
            " Minutes: 11.87<br>Duration: 0",
            " Minutes: 11.886<br>Duration: 0",
            " Minutes: 11.896<br>Duration: 0",
            " Minutes: 11.965<br>Duration: 0",
            " Minutes: 11.975<br>Duration: 0"
           ],
           "type": "scatter",
           "x": [
            605,
            603,
            605,
            618,
            499,
            441,
            424,
            429,
            228,
            71,
            95,
            267,
            76,
            262,
            45,
            740
           ],
           "y": [
            231,
            219,
            220,
            238,
            260,
            235,
            231,
            241,
            218,
            243,
            236,
            218,
            240,
            213,
            521,
            572
           ]
          },
          {
           "marker": {
            "opacity": 0.5,
            "size": [
             120,
             140,
             140,
             140,
             140,
             678,
             279,
             139,
             279,
             100,
             140,
             139,
             219,
             120,
             100,
             100,
             100,
             140,
             219,
             279
            ],
            "sizemode": "area",
            "sizeref": 0,
            "symbol": 0
           },
           "mode": "markers",
           "name": "Squeezed Pupil ",
           "text": [
            " Minutes: 11.767<br>Duration: 0",
            " Minutes: 11.769<br>Duration: 0",
            " Minutes: 11.772<br>Duration: 0",
            " Minutes: 11.796<br>Duration: 0",
            " Minutes: 11.812<br>Duration: 0",
            " Minutes: 11.82<br>Duration: 0",
            " Minutes: 11.88<br>Duration: 0",
            " Minutes: 11.917<br>Duration: 0",
            " Minutes: 11.925<br>Duration: 0",
            " Minutes: 11.931<br>Duration: 0",
            " Minutes: 11.933<br>Duration: 0",
            " Minutes: 11.943<br>Duration: 0",
            " Minutes: 11.945<br>Duration: 0",
            " Minutes: 11.961<br>Duration: 0",
            " Minutes: 11.969<br>Duration: 0",
            " Minutes: 11.979<br>Duration: 0",
            " Minutes: 11.982<br>Duration: 0",
            " Minutes: 11.986<br>Duration: 0",
            " Minutes: 11.989<br>Duration: 0",
            " Minutes: 11.993<br>Duration: 0"
           ],
           "type": "scatter",
           "x": [
            496,
            446,
            264,
            505,
            310,
            441,
            92,
            278,
            96,
            99,
            106,
            103,
            106,
            42,
            708,
            758,
            760,
            723,
            699,
            699
           ],
           "y": [
            240,
            225,
            217,
            268,
            154,
            231,
            247,
            230,
            735,
            737,
            756,
            641,
            630,
            539,
            588,
            554,
            567,
            506,
            585,
            569
           ]
          },
          {
           "marker": {
            "size": 10,
            "sizemode": "area",
            "sizeref": 1,
            "symbol": 207
           },
           "mode": "markers",
           "name": "LMouseButton",
           "text": [
            " Minute: 11.785",
            " Minute: 11.819",
            " Minute: 11.999"
           ],
           "type": "scatter",
           "x": [
            610,
            576,
            675
           ],
           "y": [
            233,
            275,
            584
           ]
          }
         ],
         "name": "12.0"
        },
        {
         "data": [
          {
           "marker": {
            "opacity": 0.5,
            "size": [
             259,
             120,
             120,
             120,
             120,
             100,
             139,
             100,
             120,
             100,
             219
            ],
            "sizemode": "area",
            "sizeref": 0,
            "symbol": 0
           },
           "mode": "markers",
           "name": "Dilated Pupil",
           "text": [
            " Minutes: 12.006<br>Duration: 0",
            " Minutes: 12.011<br>Duration: 0",
            " Minutes: 12.019<br>Duration: 0",
            " Minutes: 12.028<br>Duration: 0",
            " Minutes: 12.031<br>Duration: 0",
            " Minutes: 12.033<br>Duration: 0",
            " Minutes: 12.038<br>Duration: 0",
            " Minutes: 12.046<br>Duration: 0",
            " Minutes: 12.156<br>Duration: 0",
            " Minutes: 12.167<br>Duration: 0",
            " Minutes: 12.224<br>Duration: 0"
           ],
           "type": "scatter",
           "x": [
            750,
            755,
            87,
            103,
            106,
            108,
            109,
            99,
            622,
            616,
            82
           ],
           "y": [
            587,
            571,
            650,
            640,
            659,
            636,
            667,
            630,
            240,
            242,
            609
           ]
          },
          {
           "marker": {
            "opacity": 0.5,
            "size": [
             160,
             120,
             180,
             120,
             160,
             120,
             120,
             299,
             100,
             159,
             219,
             199,
             179,
             100,
             319,
             100,
             160,
             140,
             100,
             140,
             140
            ],
            "sizemode": "area",
            "sizeref": 0,
            "symbol": 0
           },
           "mode": "markers",
           "name": "Squeezed Pupil ",
           "text": [
            " Minutes: 12.003<br>Duration: 0",
            " Minutes: 12.016<br>Duration: 0",
            " Minutes: 12.024<br>Duration: 0",
            " Minutes: 12.076<br>Duration: 0",
            " Minutes: 12.083<br>Duration: 0",
            " Minutes: 12.102<br>Duration: 0",
            " Minutes: 12.113<br>Duration: 0",
            " Minutes: 12.118<br>Duration: 0",
            " Minutes: 12.142<br>Duration: 0",
            " Minutes: 12.145<br>Duration: 0",
            " Minutes: 12.163<br>Duration: 0",
            " Minutes: 12.175<br>Duration: 0",
            " Minutes: 12.18<br>Duration: 0",
            " Minutes: 12.184<br>Duration: 0",
            " Minutes: 12.186<br>Duration: 0",
            " Minutes: 12.197<br>Duration: 0",
            " Minutes: 12.203<br>Duration: 0",
            " Minutes: 12.206<br>Duration: 0",
            " Minutes: 12.214<br>Duration: 0",
            " Minutes: 12.218<br>Duration: 0",
            " Minutes: 12.247<br>Duration: 0"
           ],
           "type": "scatter",
           "x": [
            744,
            79,
            43,
            820,
            760,
            756,
            778,
            708,
            274,
            278,
            618,
            526,
            280,
            278,
            440,
            82,
            268,
            270,
            68,
            278,
            114
           ],
           "y": [
            572,
            624,
            632,
            592,
            625,
            594,
            575,
            517,
            219,
            231,
            245,
            272,
            246,
            255,
            261,
            241,
            238,
            261,
            206,
            203,
            648
           ]
          },
          {
           "marker": {
            "size": 10,
            "sizemode": "area",
            "sizeref": 1,
            "symbol": 207
           },
           "mode": "markers",
           "name": "LMouseButton",
           "text": [
            " Minute: 12.028",
            " Minute: 12.162",
            " Minute: 12.171",
            " Minute: 12.179",
            " Minute: 12.191"
           ],
           "type": "scatter",
           "x": [
            43,
            590,
            611,
            595,
            540
           ],
           "y": [
            641,
            250,
            250,
            264,
            264
           ]
          }
         ],
         "name": "12.25"
        },
        {
         "data": [
          {
           "marker": {
            "opacity": 0.5,
            "size": [
             100,
             100,
             100,
             100,
             140,
             120,
             100,
             100,
             100,
             159,
             140,
             140
            ],
            "sizemode": "area",
            "sizeref": 0,
            "symbol": 0
           },
           "mode": "markers",
           "name": "Dilated Pupil",
           "text": [
            " Minutes: 12.317<br>Duration: 0",
            " Minutes: 12.324<br>Duration: 0",
            " Minutes: 12.332<br>Duration: 0",
            " Minutes: 12.336<br>Duration: 0",
            " Minutes: 12.353<br>Duration: 0",
            " Minutes: 12.361<br>Duration: 0",
            " Minutes: 12.417<br>Duration: 0",
            " Minutes: 12.458<br>Duration: 0",
            " Minutes: 12.473<br>Duration: 0",
            " Minutes: 12.481<br>Duration: 0",
            " Minutes: 12.492<br>Duration: 0",
            " Minutes: 12.495<br>Duration: 0"
           ],
           "type": "scatter",
           "x": [
            86,
            47,
            88,
            86,
            71,
            96,
            59,
            90,
            77,
            39,
            39,
            76
           ],
           "y": [
            618,
            611,
            599,
            620,
            642,
            647,
            482,
            884,
            663,
            637,
            612,
            618
           ]
          },
          {
           "marker": {
            "opacity": 0.5,
            "size": [
             100,
             100
            ],
            "sizemode": "area",
            "sizeref": 0,
            "symbol": 0
           },
           "mode": "markers",
           "name": "Squeezed Pupil ",
           "text": [
            " Minutes: 12.264<br>Duration: 0",
            " Minutes: 12.388<br>Duration: 0"
           ],
           "type": "scatter",
           "x": [
            134,
            73
           ],
           "y": [
            710,
            716
           ]
          },
          {
           "marker": {
            "size": 10,
            "sizemode": "area",
            "sizeref": 1,
            "symbol": 207
           },
           "mode": "markers",
           "name": "LMouseButton",
           "text": [
            " Minute: 12.257",
            " Minute: 12.299",
            " Minute: 12.303",
            " Minute: 12.32",
            " Minute: 12.326",
            " Minute: 12.337",
            " Minute: 12.345",
            " Minute: 12.355",
            " Minute: 12.378",
            " Minute: 12.387",
            " Minute: 12.495"
           ],
           "type": "scatter",
           "x": [
            49,
            68,
            66,
            66,
            66,
            66,
            66,
            66,
            76,
            67,
            61
           ],
           "y": [
            630,
            659,
            652,
            652,
            659,
            661,
            678,
            679,
            676,
            673,
            675
           ]
          }
         ],
         "name": "12.5"
        },
        {
         "data": [
          {
           "marker": {
            "opacity": 0.5,
            "size": [
             120,
             259,
             120,
             140,
             140,
             199,
             140,
             100,
             100,
             160,
             120
            ],
            "sizemode": "area",
            "sizeref": 0,
            "symbol": 0
           },
           "mode": "markers",
           "name": "Dilated Pupil",
           "text": [
            " Minutes: 12.505<br>Duration: 0",
            " Minutes: 12.544<br>Duration: 0",
            " Minutes: 12.55<br>Duration: 0",
            " Minutes: 12.616<br>Duration: 0",
            " Minutes: 12.625<br>Duration: 0",
            " Minutes: 12.639<br>Duration: 0",
            " Minutes: 12.65<br>Duration: 0",
            " Minutes: 12.655<br>Duration: 0",
            " Minutes: 12.72<br>Duration: 0",
            " Minutes: 12.73<br>Duration: 0",
            " Minutes: 12.745<br>Duration: 0"
           ],
           "type": "scatter",
           "x": [
            90,
            748,
            735,
            799,
            723,
            743,
            723,
            723,
            76,
            69,
            145
           ],
           "y": [
            650,
            549,
            542,
            733,
            510,
            531,
            650,
            546,
            596,
            623,
            706
           ]
          },
          {
           "marker": {
            "opacity": 0.5,
            "size": [
             160,
             100,
             100,
             140,
             140,
             100
            ],
            "sizemode": "area",
            "sizeref": 0,
            "symbol": 0
           },
           "mode": "markers",
           "name": "Squeezed Pupil ",
           "text": [
            " Minutes: 12.556<br>Duration: 0",
            " Minutes: 12.56<br>Duration: 0",
            " Minutes: 12.566<br>Duration: 0",
            " Minutes: 12.569<br>Duration: 0",
            " Minutes: 12.667<br>Duration: 0",
            " Minutes: 12.68<br>Duration: 0"
           ],
           "type": "scatter",
           "x": [
            731,
            732,
            747,
            779,
            757,
            715
           ],
           "y": [
            509,
            525,
            545,
            604,
            717,
            512
           ]
          },
          {
           "marker": {
            "size": 10,
            "sizemode": "area",
            "sizeref": 1,
            "symbol": 207
           },
           "mode": "markers",
           "name": "LMouseButton",
           "text": [
            " Minute: 12.507",
            " Minute: 12.515",
            " Minute: 12.56"
           ],
           "type": "scatter",
           "x": [
            61,
            60,
            675
           ],
           "y": [
            675,
            663,
            548
           ]
          }
         ],
         "name": "12.75"
        },
        {
         "data": [
          {
           "marker": {
            "opacity": 0.5,
            "size": [
             100,
             100,
             219,
             100,
             219,
             180,
             120,
             319,
             379,
             359
            ],
            "sizemode": "area",
            "sizeref": 0,
            "symbol": 0
           },
           "mode": "markers",
           "name": "Dilated Pupil",
           "text": [
            " Minutes: 12.752<br>Duration: 0",
            " Minutes: 12.81<br>Duration: 0",
            " Minutes: 12.812<br>Duration: 0",
            " Minutes: 12.838<br>Duration: 0",
            " Minutes: 12.875<br>Duration: 0",
            " Minutes: 12.88<br>Duration: 0",
            " Minutes: 12.888<br>Duration: 0",
            " Minutes: 12.941<br>Duration: 0",
            " Minutes: 12.948<br>Duration: 0",
            " Minutes: 12.983<br>Duration: 0"
           ],
           "type": "scatter",
           "x": [
            85,
            102,
            76,
            742,
            439,
            267,
            255,
            238,
            247,
            71
           ],
           "y": [
            585,
            630,
            609,
            532,
            200,
            198,
            185,
            178,
            194,
            227
           ]
          },
          {
           "marker": {
            "opacity": 0.5,
            "size": [
             159,
             120,
             299,
             100,
             140,
             259,
             379
            ],
            "sizemode": "area",
            "sizeref": 0,
            "symbol": 0
           },
           "mode": "markers",
           "name": "Squeezed Pupil ",
           "text": [
            " Minutes: 12.825<br>Duration: 0",
            " Minutes: 12.9<br>Duration: 0",
            " Minutes: 12.955<br>Duration: 0",
            " Minutes: 12.99<br>Duration: 0",
            " Minutes: 12.992<br>Duration: 0",
            " Minutes: 12.995<br>Duration: 0",
            " Minutes: 12.999<br>Duration: 0"
           ],
           "type": "scatter",
           "x": [
            775,
            516,
            270,
            68,
            71,
            96,
            116
           ],
           "y": [
            575,
            203,
            196,
            241,
            228,
            219,
            223
           ]
          },
          {
           "marker": {
            "size": 10,
            "sizemode": "area",
            "sizeref": 1,
            "symbol": 207
           },
           "mode": "markers",
           "name": "LMouseButton",
           "text": [
            " Minute: 12.896",
            " Minute: 12.904"
           ],
           "type": "scatter",
           "x": [
            612,
            588
           ],
           "y": [
            212,
            245
           ]
          }
         ],
         "name": "13.0"
        },
        {
         "data": [
          {
           "marker": {
            "opacity": 0.5,
            "size": [
             159,
             219,
             538,
             379,
             160,
             199,
             179,
             239,
             160,
             100,
             120,
             279,
             140,
             139,
             100,
             199,
             1097,
             100,
             219
            ],
            "sizemode": "area",
            "sizeref": 0,
            "symbol": 0
           },
           "mode": "markers",
           "name": "Dilated Pupil",
           "text": [
            " Minutes: 13.008<br>Duration: 0",
            " Minutes: 13.061<br>Duration: 0",
            " Minutes: 13.065<br>Duration: 0",
            " Minutes: 13.088<br>Duration: 0",
            " Minutes: 13.095<br>Duration: 0",
            " Minutes: 13.099<br>Duration: 0",
            " Minutes: 13.111<br>Duration: 0",
            " Minutes: 13.115<br>Duration: 0",
            " Minutes: 13.163<br>Duration: 0",
            " Minutes: 13.166<br>Duration: 0",
            " Minutes: 13.169<br>Duration: 0",
            " Minutes: 13.183<br>Duration: 0",
            " Minutes: 13.191<br>Duration: 0",
            " Minutes: 13.193<br>Duration: 0",
            " Minutes: 13.204<br>Duration: 0",
            " Minutes: 13.21<br>Duration: 0",
            " Minutes: 13.224<br>Duration: 0",
            " Minutes: 13.246<br>Duration: 0",
            " Minutes: 13.248<br>Duration: 0"
           ],
           "type": "scatter",
           "x": [
            108,
            229,
            82,
            101,
            96,
            96,
            91,
            246,
            79,
            81,
            77,
            107,
            72,
            70,
            227,
            262,
            267,
            55,
            41
           ],
           "y": [
            209,
            187,
            222,
            219,
            218,
            235,
            251,
            250,
            253,
            256,
            227,
            239,
            228,
            206,
            223,
            214,
            217,
            205,
            196
           ]
          },
          {
           "marker": {
            "opacity": 0.5,
            "size": [
             100,
             100,
             279,
             119,
             120,
             120,
             139,
             120,
             100,
             160,
             199
            ],
            "sizemode": "area",
            "sizeref": 0,
            "symbol": 0
           },
           "mode": "markers",
           "name": "Squeezed Pupil ",
           "text": [
            " Minutes: 13.012<br>Duration: 0",
            " Minutes: 13.014<br>Duration: 0",
            " Minutes: 13.026<br>Duration: 0",
            " Minutes: 13.034<br>Duration: 0",
            " Minutes: 13.057<br>Duration: 0",
            " Minutes: 13.078<br>Duration: 0",
            " Minutes: 13.102<br>Duration: 0",
            " Minutes: 13.128<br>Duration: 0",
            " Minutes: 13.139<br>Duration: 0",
            " Minutes: 13.201<br>Duration: 0",
            " Minutes: 13.217<br>Duration: 0"
           ],
           "type": "scatter",
           "x": [
            239,
            241,
            271,
            279,
            277,
            104,
            138,
            257,
            274,
            120,
            272
           ],
           "y": [
            205,
            189,
            206,
            184,
            208,
            234,
            277,
            241,
            229,
            235,
            224
           ]
          },
          {
           "marker": {
            "size": 10,
            "sizemode": "area",
            "sizeref": 1,
            "symbol": 207
           },
           "mode": "markers",
           "name": "LMouseButton",
           "text": [],
           "type": "scatter",
           "x": [],
           "y": []
          }
         ],
         "name": "13.25"
        },
        {
         "data": [
          {
           "marker": {
            "opacity": 0.5,
            "size": [
             179,
             598,
             159,
             279,
             120,
             439,
             199,
             578,
             359,
             159,
             159,
             100
            ],
            "sizemode": "area",
            "sizeref": 0,
            "symbol": 0
           },
           "mode": "markers",
           "name": "Dilated Pupil",
           "text": [
            " Minutes: 13.253<br>Duration: 0",
            " Minutes: 13.257<br>Duration: 0",
            " Minutes: 13.27<br>Duration: 0",
            " Minutes: 13.278<br>Duration: 0",
            " Minutes: 13.286<br>Duration: 0",
            " Minutes: 13.288<br>Duration: 0",
            " Minutes: 13.296<br>Duration: 0",
            " Minutes: 13.3<br>Duration: 0",
            " Minutes: 13.31<br>Duration: 0",
            " Minutes: 13.364<br>Duration: 0",
            " Minutes: 13.392<br>Duration: 0",
            " Minutes: 13.485<br>Duration: 0"
           ],
           "type": "scatter",
           "x": [
            69,
            36,
            82,
            84,
            63,
            120,
            121,
            113,
            249,
            84,
            82,
            778
           ],
           "y": [
            245,
            213,
            224,
            234,
            220,
            242,
            228,
            223,
            215,
            617,
            754,
            881
           ]
          },
          {
           "marker": {
            "opacity": 0.5,
            "size": [
             160,
             100,
             279,
             179,
             439,
             119,
             179,
             100
            ],
            "sizemode": "area",
            "sizeref": 0,
            "symbol": 0
           },
           "mode": "markers",
           "name": "Squeezed Pupil ",
           "text": [
            " Minutes: 13.319<br>Duration: 0",
            " Minutes: 13.324<br>Duration: 0",
            " Minutes: 13.326<br>Duration: 0",
            " Minutes: 13.337<br>Duration: 0",
            " Minutes: 13.35<br>Duration: 0",
            " Minutes: 13.396<br>Duration: 0",
            " Minutes: 13.4<br>Duration: 0",
            " Minutes: 13.461<br>Duration: 0"
           ],
           "type": "scatter",
           "x": [
            266,
            291,
            267,
            256,
            252,
            104,
            123,
            779
           ],
           "y": [
            212,
            233,
            208,
            211,
            217,
            822,
            840,
            850
           ]
          },
          {
           "marker": {
            "size": 10,
            "sizemode": "area",
            "sizeref": 1,
            "symbol": 207
           },
           "mode": "markers",
           "name": "LMouseButton",
           "text": [
            " Minute: 13.43"
           ],
           "type": "scatter",
           "x": [
            810
           ],
           "y": [
            841
           ]
          }
         ],
         "name": "13.5"
        },
        {
         "data": [
          {
           "marker": {
            "opacity": 0.5,
            "size": [
             199,
             120,
             100,
             100
            ],
            "sizemode": "area",
            "sizeref": 0,
            "symbol": 0
           },
           "mode": "markers",
           "name": "Dilated Pupil",
           "text": [
            " Minutes: 13.591<br>Duration: 0",
            " Minutes: 13.602<br>Duration: 0",
            " Minutes: 13.671<br>Duration: 0",
            " Minutes: 13.686<br>Duration: 0"
           ],
           "type": "scatter",
           "x": [
            766,
            761,
            105,
            67
           ],
           "y": [
            868,
            878,
            815,
            229
           ]
          },
          {
           "marker": {
            "opacity": 0.5,
            "size": [
             139,
             259,
             120,
             120
            ],
            "sizemode": "area",
            "sizeref": 0,
            "symbol": 0
           },
           "mode": "markers",
           "name": "Squeezed Pupil ",
           "text": [
            " Minutes: 13.575<br>Duration: 0",
            " Minutes: 13.657<br>Duration: 0",
            " Minutes: 13.69<br>Duration: 0",
            " Minutes: 13.714<br>Duration: 0"
           ],
           "type": "scatter",
           "x": [
            767,
            97,
            80,
            103
           ],
           "y": [
            866,
            842,
            234,
            773
           ]
          },
          {
           "marker": {
            "size": 10,
            "sizemode": "area",
            "sizeref": 1,
            "symbol": 207
           },
           "mode": "markers",
           "name": "LMouseButton",
           "text": [
            " Minute: 13.513",
            " Minute: 13.549",
            " Minute: 13.559",
            " Minute: 13.591"
           ],
           "type": "scatter",
           "x": [
            721,
            720,
            720,
            695
           ],
           "y": [
            826,
            856,
            856,
            906
           ]
          }
         ],
         "name": "13.75"
        },
        {
         "data": [
          {
           "marker": {
            "opacity": 0.5,
            "size": [
             359,
             319,
             2333,
             877,
             160,
             1017,
             1595,
             160,
             199,
             140,
             100,
             180
            ],
            "sizemode": "area",
            "sizeref": 0,
            "symbol": 0
           },
           "mode": "markers",
           "name": "Dilated Pupil",
           "text": [
            " Minutes: 13.799<br>Duration: 0",
            " Minutes: 13.805<br>Duration: 0",
            " Minutes: 13.814<br>Duration: 0",
            " Minutes: 13.854<br>Duration: 0",
            " Minutes: 13.869<br>Duration: 0",
            " Minutes: 13.878<br>Duration: 0",
            " Minutes: 13.895<br>Duration: 0",
            " Minutes: 13.923<br>Duration: 0",
            " Minutes: 13.926<br>Duration: 0",
            " Minutes: 13.932<br>Duration: 0",
            " Minutes: 13.956<br>Duration: 0",
            " Minutes: 13.985<br>Duration: 0"
           ],
           "type": "scatter",
           "x": [
            267,
            596,
            619,
            609,
            445,
            440,
            442,
            240,
            83,
            242,
            90,
            107
           ],
           "y": [
            217,
            209,
            209,
            202,
            205,
            221,
            213,
            236,
            252,
            222,
            715,
            896
           ]
          },
          {
           "marker": {
            "opacity": 0.5,
            "size": [
             140,
             140,
             219,
             319,
             180,
             199,
             100,
             100
            ],
            "sizemode": "area",
            "sizeref": 0,
            "symbol": 0
           },
           "mode": "markers",
           "name": "Squeezed Pupil ",
           "text": [
            " Minutes: 13.778<br>Duration: 0",
            " Minutes: 13.78<br>Duration: 0",
            " Minutes: 13.784<br>Duration: 0",
            " Minutes: 13.793<br>Duration: 0",
            " Minutes: 13.811<br>Duration: 0",
            " Minutes: 13.946<br>Duration: 0",
            " Minutes: 13.952<br>Duration: 0",
            " Minutes: 13.983<br>Duration: 0"
           ],
           "type": "scatter",
           "x": [
            107,
            79,
            284,
            73,
            623,
            571,
            616,
            99
           ],
           "y": [
            200,
            216,
            216,
            203,
            208,
            223,
            223,
            883
           ]
          },
          {
           "marker": {
            "size": 10,
            "sizemode": "area",
            "sizeref": 1,
            "symbol": 207
           },
           "mode": "markers",
           "name": "LMouseButton",
           "text": [
            " Minute: 13.822",
            " Minute: 13.83",
            " Minute: 13.841",
            " Minute: 13.853",
            " Minute: 13.886",
            " Minute: 13.888",
            " Minute: 13.893",
            " Minute: 13.902",
            " Minute: 13.905",
            " Minute: 13.907",
            " Minute: 13.91",
            " Minute: 13.916",
            " Minute: 13.946",
            " Minute: 13.987"
           ],
           "type": "scatter",
           "x": [
            581,
            607,
            597,
            593,
            545,
            280
           ],
           "y": [
            233,
            231,
            231,
            229,
            251,
            618
           ]
          }
         ],
         "name": "14.0"
        },
        {
         "data": [
          {
           "marker": {
            "opacity": 0.5,
            "size": [
             199,
             299,
             100,
             279,
             100,
             179
            ],
            "sizemode": "area",
            "sizeref": 0,
            "symbol": 0
           },
           "mode": "markers",
           "name": "Dilated Pupil",
           "text": [
            " Minutes: 14.155<br>Duration: 0",
            " Minutes: 14.174<br>Duration: 0",
            " Minutes: 14.209<br>Duration: 0",
            " Minutes: 14.224<br>Duration: 0",
            " Minutes: 14.229<br>Duration: 0",
            " Minutes: 14.232<br>Duration: 0"
           ],
           "type": "scatter",
           "x": [
            73,
            459,
            105,
            443,
            444,
            437
           ],
           "y": [
            238,
            241,
            775,
            217,
            216,
            196
           ]
          },
          {
           "marker": {
            "opacity": 0.5,
            "size": [
             100,
             199,
             439,
             120,
             199,
             439
            ],
            "sizemode": "area",
            "sizeref": 0,
            "symbol": 0
           },
           "mode": "markers",
           "name": "Squeezed Pupil ",
           "text": [
            " Minutes: 14.002<br>Duration: 0",
            " Minutes: 14.151<br>Duration: 0",
            " Minutes: 14.163<br>Duration: 0",
            " Minutes: 14.171<br>Duration: 0",
            " Minutes: 14.179<br>Duration: 0",
            " Minutes: 14.24<br>Duration: 0"
           ],
           "type": "scatter",
           "x": [
            790,
            241,
            606,
            615,
            507,
            62
           ],
           "y": [
            823,
            225,
            219,
            209,
            251,
            218
           ]
          },
          {
           "marker": {
            "size": 10,
            "sizemode": "area",
            "sizeref": 1,
            "symbol": 207
           },
           "mode": "markers",
           "name": "LMouseButton",
           "text": [
            " Minute: 14.035",
            " Minute: 14.081",
            " Minute: 14.125",
            " Minute: 14.173",
            " Minute: 14.186",
            " Minute: 14.242"
           ],
           "type": "scatter",
           "x": [
            678,
            698,
            696,
            608,
            547,
            501
           ],
           "y": [
            637,
            715,
            885,
            247,
            278,
            216
           ]
          }
         ],
         "name": "14.25"
        },
        {
         "data": [
          {
           "marker": {
            "opacity": 0.5,
            "size": [
             159,
             120,
             100,
             119,
             379,
             159,
             100,
             100,
             199,
             239,
             219,
             100
            ],
            "sizemode": "area",
            "sizeref": 0,
            "symbol": 0
           },
           "mode": "markers",
           "name": "Dilated Pupil",
           "text": [
            " Minutes: 14.252<br>Duration: 0",
            " Minutes: 14.257<br>Duration: 0",
            " Minutes: 14.29<br>Duration: 0",
            " Minutes: 14.305<br>Duration: 0",
            " Minutes: 14.313<br>Duration: 0",
            " Minutes: 14.325<br>Duration: 0",
            " Minutes: 14.333<br>Duration: 0",
            " Minutes: 14.343<br>Duration: 0",
            " Minutes: 14.348<br>Duration: 0",
            " Minutes: 14.449<br>Duration: 0",
            " Minutes: 14.453<br>Duration: 0",
            " Minutes: 14.458<br>Duration: 0"
           ],
           "type": "scatter",
           "x": [
            95,
            260,
            90,
            82,
            74,
            80,
            63,
            75,
            58,
            499,
            515,
            515
           ],
           "y": [
            215,
            172,
            624,
            603,
            216,
            611,
            608,
            602,
            598,
            194,
            209,
            213
           ]
          },
          {
           "marker": {
            "opacity": 0.5,
            "size": [
             179,
             100,
             100,
             140,
             299,
             219,
             219,
             179,
             618
            ],
            "sizemode": "area",
            "sizeref": 0,
            "symbol": 0
           },
           "mode": "markers",
           "name": "Squeezed Pupil ",
           "text": [
            " Minutes: 14.321<br>Duration: 0",
            " Minutes: 14.389<br>Duration: 0",
            " Minutes: 14.396<br>Duration: 0",
            " Minutes: 14.402<br>Duration: 0",
            " Minutes: 14.421<br>Duration: 0",
            " Minutes: 14.426<br>Duration: 0",
            " Minutes: 14.431<br>Duration: 0",
            " Minutes: 14.435<br>Duration: 0",
            " Minutes: 14.438<br>Duration: 0"
           ],
           "type": "scatter",
           "x": [
            82,
            756,
            750,
            732,
            106,
            87,
            274,
            578,
            618
           ],
           "y": [
            602,
            671,
            548,
            526,
            240,
            232,
            204,
            199,
            209
           ]
          },
          {
           "marker": {
            "size": 10,
            "sizemode": "area",
            "sizeref": 1,
            "symbol": 207
           },
           "mode": "markers",
           "name": "LMouseButton",
           "text": [
            " Minute: 14.336",
            " Minute: 14.446",
            " Minute: 14.48"
           ],
           "type": "scatter",
           "x": [
            44,
            608,
            558
           ],
           "y": [
            617,
            212,
            264
           ]
          }
         ],
         "name": "14.5"
        },
        {
         "data": [
          {
           "marker": {
            "opacity": 0.5,
            "size": [
             179,
             239,
             339,
             279,
             100,
             239,
             120,
             419,
             179,
             359,
             239,
             160,
             379,
             160,
             299,
             100,
             160,
             120,
             319,
             618,
             538,
             179,
             259,
             379
            ],
            "sizemode": "area",
            "sizeref": 0,
            "symbol": 0
           },
           "mode": "markers",
           "name": "Dilated Pupil",
           "text": [
            " Minutes: 14.546<br>Duration: 0",
            " Minutes: 14.549<br>Duration: 0",
            " Minutes: 14.58<br>Duration: 0",
            " Minutes: 14.586<br>Duration: 0",
            " Minutes: 14.591<br>Duration: 0",
            " Minutes: 14.606<br>Duration: 0",
            " Minutes: 14.61<br>Duration: 0",
            " Minutes: 14.614<br>Duration: 0",
            " Minutes: 14.621<br>Duration: 0",
            " Minutes: 14.625<br>Duration: 0",
            " Minutes: 14.632<br>Duration: 0",
            " Minutes: 14.636<br>Duration: 0",
            " Minutes: 14.64<br>Duration: 0",
            " Minutes: 14.647<br>Duration: 0",
            " Minutes: 14.65<br>Duration: 0",
            " Minutes: 14.658<br>Duration: 0",
            " Minutes: 14.662<br>Duration: 0",
            " Minutes: 14.665<br>Duration: 0",
            " Minutes: 14.667<br>Duration: 0",
            " Minutes: 14.673<br>Duration: 0",
            " Minutes: 14.684<br>Duration: 0",
            " Minutes: 14.695<br>Duration: 0",
            " Minutes: 14.705<br>Duration: 0",
            " Minutes: 14.739<br>Duration: 0"
           ],
           "type": "scatter",
           "x": [
            1091,
            1121,
            449,
            251,
            66,
            250,
            196,
            259,
            219,
            273,
            123,
            246,
            109,
            144,
            252,
            515,
            625,
            626,
            450,
            455,
            618,
            648,
            494,
            280
           ],
           "y": [
            718,
            690,
            175,
            188,
            230,
            296,
            275,
            247,
            255,
            248,
            296,
            239,
            253,
            209,
            222,
            200,
            218,
            205,
            207,
            204,
            218,
            248,
            212,
            206
           ]
          },
          {
           "marker": {
            "opacity": 0.5,
            "size": [
             160,
             199,
             379,
             199,
             120,
             1097
            ],
            "sizemode": "area",
            "sizeref": 0,
            "symbol": 0
           },
           "mode": "markers",
           "name": "Squeezed Pupil ",
           "text": [
            " Minutes: 14.602<br>Duration: 0",
            " Minutes: 14.71<br>Duration: 0",
            " Minutes: 14.714<br>Duration: 0",
            " Minutes: 14.723<br>Duration: 0",
            " Minutes: 14.727<br>Duration: 0",
            " Minutes: 14.746<br>Duration: 0"
           ],
           "type": "scatter",
           "x": [
            173,
            217,
            106,
            59,
            84,
            277
           ],
           "y": [
            303,
            215,
            215,
            226,
            245,
            212
           ]
          },
          {
           "marker": {
            "size": 10,
            "sizemode": "area",
            "sizeref": 1,
            "symbol": 207
           },
           "mode": "markers",
           "name": "LMouseButton",
           "text": [
            " Minute: 14.691",
            " Minute: 14.698"
           ],
           "type": "scatter",
           "x": [
            629,
            622
           ],
           "y": [
            264,
            258
           ]
          }
         ],
         "name": "14.75"
        },
        {
         "data": [
          {
           "marker": {
            "opacity": 0.5,
            "size": [
             678,
             180,
             259,
             259,
             419,
             399,
             299,
             159,
             120,
             180,
             239,
             239,
             120,
             139,
             159
            ],
            "sizemode": "area",
            "sizeref": 0,
            "symbol": 0
           },
           "mode": "markers",
           "name": "Dilated Pupil",
           "text": [
            " Minutes: 14.773<br>Duration: 0",
            " Minutes: 14.785<br>Duration: 0",
            " Minutes: 14.788<br>Duration: 0",
            " Minutes: 14.803<br>Duration: 0",
            " Minutes: 14.811<br>Duration: 0",
            " Minutes: 14.915<br>Duration: 0",
            " Minutes: 14.923<br>Duration: 0",
            " Minutes: 14.93<br>Duration: 0",
            " Minutes: 14.955<br>Duration: 0",
            " Minutes: 14.959<br>Duration: 0",
            " Minutes: 14.962<br>Duration: 0",
            " Minutes: 14.972<br>Duration: 0",
            " Minutes: 14.977<br>Duration: 0",
            " Minutes: 14.98<br>Duration: 0",
            " Minutes: 14.989<br>Duration: 0"
           ],
           "type": "scatter",
           "x": [
            482,
            521,
            451,
            450,
            523,
            206,
            241,
            156,
            131,
            165,
            206,
            138,
            179,
            225,
            242
           ],
           "y": [
            197,
            205,
            234,
            213,
            215,
            192,
            198,
            208,
            183,
            209,
            126,
            178,
            198,
            184,
            194
           ]
          },
          {
           "marker": {
            "opacity": 0.5,
            "size": [
             120,
             160,
             200,
             100,
             120,
             419,
             279,
             160,
             100,
             359,
             180,
             1156,
             199,
             160,
             199
            ],
            "sizemode": "area",
            "sizeref": 0,
            "symbol": 0
           },
           "mode": "markers",
           "name": "Squeezed Pupil ",
           "text": [
            " Minutes: 14.768<br>Duration: 0",
            " Minutes: 14.793<br>Duration: 0",
            " Minutes: 14.797<br>Duration: 0",
            " Minutes: 14.801<br>Duration: 0",
            " Minutes: 14.808<br>Duration: 0",
            " Minutes: 14.823<br>Duration: 0",
            " Minutes: 14.835<br>Duration: 0",
            " Minutes: 14.852<br>Duration: 0",
            " Minutes: 14.857<br>Duration: 0",
            " Minutes: 14.865<br>Duration: 0",
            " Minutes: 14.872<br>Duration: 0",
            " Minutes: 14.875<br>Duration: 0",
            " Minutes: 14.899<br>Duration: 0",
            " Minutes: 14.992<br>Duration: 0",
            " Minutes: 14.997<br>Duration: 0"
           ],
           "type": "scatter",
           "x": [
            310,
            519,
            283,
            286,
            491,
            264,
            53,
            70,
            142,
            453,
            459,
            453,
            279,
            231,
            240
           ],
           "y": [
            177,
            200,
            227,
            230,
            209,
            251,
            299,
            263,
            250,
            262,
            261,
            262,
            236,
            176,
            194
           ]
          },
          {
           "marker": {
            "size": 10,
            "sizemode": "area",
            "sizeref": 1,
            "symbol": 207
           },
           "mode": "markers",
           "name": "LMouseButton",
           "text": [
            " Minute: 14.917",
            " Minute: 14.925",
            " Minute: 14.935",
            " Minute: 14.941"
           ],
           "type": "scatter",
           "x": [
            227,
            264,
            243,
            230
           ],
           "y": [
            225,
            225,
            220,
            217
           ]
          }
         ],
         "name": "15.0"
        },
        {
         "data": [
          {
           "marker": {
            "opacity": 0.5,
            "size": [
             259,
             319,
             100,
             120,
             159,
             140
            ],
            "sizemode": "area",
            "sizeref": 0,
            "symbol": 0
           },
           "mode": "markers",
           "name": "Dilated Pupil",
           "text": [
            " Minutes: 15.061<br>Duration: 0",
            " Minutes: 15.067<br>Duration: 0",
            " Minutes: 15.072<br>Duration: 0",
            " Minutes: 15.097<br>Duration: 0",
            " Minutes: 15.123<br>Duration: 0",
            " Minutes: 15.226<br>Duration: 0"
           ],
           "type": "scatter",
           "x": [
            129,
            217,
            191,
            96,
            214,
            217
           ],
           "y": [
            160,
            167,
            99,
            181,
            183,
            203
           ]
          },
          {
           "marker": {
            "opacity": 0.5,
            "size": [
             160,
             100,
             339,
             239,
             219,
             179,
             179,
             219,
             139,
             100,
             219,
             140,
             140,
             140,
             100,
             140,
             239,
             758,
             279,
             140,
             100,
             100,
             140,
             160
            ],
            "sizemode": "area",
            "sizeref": 0,
            "symbol": 0
           },
           "mode": "markers",
           "name": "Squeezed Pupil ",
           "text": [
            " Minutes: 15.014<br>Duration: 0",
            " Minutes: 15.025<br>Duration: 0",
            " Minutes: 15.041<br>Duration: 0",
            " Minutes: 15.057<br>Duration: 0",
            " Minutes: 15.076<br>Duration: 0",
            " Minutes: 15.08<br>Duration: 0",
            " Minutes: 15.083<br>Duration: 0",
            " Minutes: 15.087<br>Duration: 0",
            " Minutes: 15.091<br>Duration: 0",
            " Minutes: 15.102<br>Duration: 0",
            " Minutes: 15.109<br>Duration: 0",
            " Minutes: 15.135<br>Duration: 0",
            " Minutes: 15.138<br>Duration: 0",
            " Minutes: 15.143<br>Duration: 0",
            " Minutes: 15.146<br>Duration: 0",
            " Minutes: 15.169<br>Duration: 0",
            " Minutes: 15.174<br>Duration: 0",
            " Minutes: 15.213<br>Duration: 0",
            " Minutes: 15.229<br>Duration: 0",
            " Minutes: 15.234<br>Duration: 0",
            " Minutes: 15.238<br>Duration: 0",
            " Minutes: 15.244<br>Duration: 0",
            " Minutes: 15.246<br>Duration: 0",
            " Minutes: 15.249<br>Duration: 0"
           ],
           "type": "scatter",
           "x": [
            1108,
            877,
            1109,
            101,
            433,
            493,
            513,
            559,
            463,
            122,
            225,
            100,
            102,
            130,
            151,
            222,
            285,
            236,
            266,
            272,
            51,
            63,
            44,
            53
           ],
           "y": [
            105,
            827,
            120,
            206,
            131,
            129,
            146,
            139,
            141,
            156,
            195,
            175,
            171,
            176,
            211,
            193,
            200,
            189,
            192,
            200,
            608,
            531,
            520,
            532
           ]
          },
          {
           "marker": {
            "size": 10,
            "sizemode": "area",
            "sizeref": 1,
            "symbol": 207
           },
           "mode": "markers",
           "name": "LMouseButton",
           "text": [],
           "type": "scatter",
           "x": [],
           "y": []
          }
         ],
         "name": "15.25"
        },
        {
         "data": [
          {
           "marker": {
            "opacity": 0.5,
            "size": [
             160,
             100,
             179,
             199,
             159,
             279,
             160,
             239,
             299,
             100,
             120,
             100,
             219,
             219,
             160,
             100,
             120
            ],
            "sizemode": "area",
            "sizeref": 0,
            "symbol": 0
           },
           "mode": "markers",
           "name": "Dilated Pupil",
           "text": [
            " Minutes: 15.262<br>Duration: 0",
            " Minutes: 15.267<br>Duration: 0",
            " Minutes: 15.285<br>Duration: 0",
            " Minutes: 15.289<br>Duration: 0",
            " Minutes: 15.297<br>Duration: 0",
            " Minutes: 15.316<br>Duration: 0",
            " Minutes: 15.327<br>Duration: 0",
            " Minutes: 15.334<br>Duration: 0",
            " Minutes: 15.338<br>Duration: 0",
            " Minutes: 15.368<br>Duration: 0",
            " Minutes: 15.372<br>Duration: 0",
            " Minutes: 15.376<br>Duration: 0",
            " Minutes: 15.384<br>Duration: 0",
            " Minutes: 15.402<br>Duration: 0",
            " Minutes: 15.409<br>Duration: 0",
            " Minutes: 15.413<br>Duration: 0",
            " Minutes: 15.443<br>Duration: 0"
           ],
           "type": "scatter",
           "x": [
            54,
            716,
            250,
            83,
            183,
            38,
            42,
            78,
            68,
            76,
            81,
            48,
            67,
            70,
            60,
            728,
            692
           ],
           "y": [
            516,
            531,
            200,
            185,
            192,
            525,
            557,
            549,
            550,
            589,
            597,
            601,
            589,
            551,
            567,
            542,
            577
           ]
          },
          {
           "marker": {
            "opacity": 0.5,
            "size": [
             160,
             100,
             180,
             359,
             160,
             259,
             120,
             159,
             259,
             100,
             359,
             100,
             120,
             120
            ],
            "sizemode": "area",
            "sizeref": 0,
            "symbol": 0
           },
           "mode": "markers",
           "name": "Squeezed Pupil ",
           "text": [
            " Minutes: 15.271<br>Duration: 0",
            " Minutes: 15.276<br>Duration: 0",
            " Minutes: 15.3<br>Duration: 0",
            " Minutes: 15.309<br>Duration: 0",
            " Minutes: 15.354<br>Duration: 0",
            " Minutes: 15.36<br>Duration: 0",
            " Minutes: 15.394<br>Duration: 0",
            " Minutes: 15.415<br>Duration: 0",
            " Minutes: 15.419<br>Duration: 0",
            " Minutes: 15.426<br>Duration: 0",
            " Minutes: 15.431<br>Duration: 0",
            " Minutes: 15.451<br>Duration: 0",
            " Minutes: 15.459<br>Duration: 0",
            " Minutes: 15.496<br>Duration: 0"
           ],
           "type": "scatter",
           "x": [
            734,
            729,
            187,
            48,
            34,
            31,
            73,
            722,
            699,
            701,
            699,
            704,
            713,
            55
           ],
           "y": [
            530,
            496,
            422,
            541,
            596,
            598,
            577,
            543,
            543,
            551,
            579,
            595,
            580,
            520
           ]
          },
          {
           "marker": {
            "size": 10,
            "sizemode": "area",
            "sizeref": 1,
            "symbol": 207
           },
           "mode": "markers",
           "name": "LMouseButton",
           "text": [
            " Minute: 15.333",
            " Minute: 15.367",
            " Minute: 15.384",
            " Minute: 15.423",
            " Minute: 15.434",
            " Minute: 15.446",
            " Minute: 15.456"
           ],
           "type": "scatter",
           "x": [
            39,
            42,
            38,
            678,
            672,
            675,
            676
           ],
           "y": [
            550,
            596,
            608,
            546,
            580,
            582,
            602
           ]
          }
         ],
         "name": "15.5"
        },
        {
         "data": [
          {
           "marker": {
            "opacity": 0.5,
            "size": [
             199,
             160,
             239
            ],
            "sizemode": "area",
            "sizeref": 0,
            "symbol": 0
           },
           "mode": "markers",
           "name": "Dilated Pupil",
           "text": [
            " Minutes: 15.622<br>Duration: 0",
            " Minutes: 15.692<br>Duration: 0",
            " Minutes: 15.704<br>Duration: 0"
           ],
           "type": "scatter",
           "x": [
            71,
            741,
            744
           ],
           "y": [
            551,
            531,
            564
           ]
          },
          {
           "marker": {
            "opacity": 0.5,
            "size": [
             199,
             160,
             159,
             219,
             139,
             140,
             180,
             140,
             299,
             299,
             160,
             239,
             419,
             100,
             219,
             120,
             120,
             100,
             140
            ],
            "sizemode": "area",
            "sizeref": 0,
            "symbol": 0
           },
           "mode": "markers",
           "name": "Squeezed Pupil ",
           "text": [
            " Minutes: 15.518<br>Duration: 0",
            " Minutes: 15.526<br>Duration: 0",
            " Minutes: 15.529<br>Duration: 0",
            " Minutes: 15.545<br>Duration: 0",
            " Minutes: 15.55<br>Duration: 0",
            " Minutes: 15.59<br>Duration: 0",
            " Minutes: 15.597<br>Duration: 0",
            " Minutes: 15.609<br>Duration: 0",
            " Minutes: 15.615<br>Duration: 0",
            " Minutes: 15.627<br>Duration: 0",
            " Minutes: 15.632<br>Duration: 0",
            " Minutes: 15.639<br>Duration: 0",
            " Minutes: 15.648<br>Duration: 0",
            " Minutes: 15.672<br>Duration: 0",
            " Minutes: 15.676<br>Duration: 0",
            " Minutes: 15.685<br>Duration: 0",
            " Minutes: 15.719<br>Duration: 0",
            " Minutes: 15.737<br>Duration: 0",
            " Minutes: 15.74<br>Duration: 0"
           ],
           "type": "scatter",
           "x": [
            44,
            80,
            69,
            70,
            710,
            51,
            77,
            726,
            747,
            64,
            73,
            248,
            280,
            735,
            739,
            742,
            752,
            766,
            755
           ],
           "y": [
            511,
            529,
            547,
            593,
            580,
            537,
            572,
            524,
            561,
            572,
            583,
            203,
            209,
            552,
            542,
            543,
            569,
            565,
            582
           ]
          },
          {
           "marker": {
            "size": 10,
            "sizemode": "area",
            "sizeref": 1,
            "symbol": 207
           },
           "mode": "markers",
           "name": "LMouseButton",
           "text": [],
           "type": "scatter",
           "x": [],
           "y": []
          }
         ],
         "name": "15.75"
        },
        {
         "data": [
          {
           "marker": {
            "opacity": 0.5,
            "size": [
             100,
             100,
             199,
             119,
             160,
             179,
             100
            ],
            "sizemode": "area",
            "sizeref": 0,
            "symbol": 0
           },
           "mode": "markers",
           "name": "Dilated Pupil",
           "text": [
            " Minutes: 15.857<br>Duration: 0",
            " Minutes: 15.859<br>Duration: 0",
            " Minutes: 15.866<br>Duration: 0",
            " Minutes: 15.87<br>Duration: 0",
            " Minutes: 15.874<br>Duration: 0",
            " Minutes: 15.9<br>Duration: 0",
            " Minutes: 15.904<br>Duration: 0"
           ],
           "type": "scatter",
           "x": [
            80,
            77,
            100,
            96,
            730,
            754,
            745
           ],
           "y": [
            544,
            528,
            561,
            555,
            513,
            553,
            544
           ]
          },
          {
           "marker": {
            "opacity": 0.5,
            "size": [
             120,
             100,
             120,
             100,
             100,
             100,
             100,
             180,
             100
            ],
            "sizemode": "area",
            "sizeref": 0,
            "symbol": 0
           },
           "mode": "markers",
           "name": "Squeezed Pupil ",
           "text": [
            " Minutes: 15.76<br>Duration: 0",
            " Minutes: 15.791<br>Duration: 0",
            " Minutes: 15.842<br>Duration: 0",
            " Minutes: 15.877<br>Duration: 0",
            " Minutes: 15.932<br>Duration: 0",
            " Minutes: 15.943<br>Duration: 0",
            " Minutes: 15.954<br>Duration: 0",
            " Minutes: 15.983<br>Duration: 0",
            " Minutes: 15.992<br>Duration: 0"
           ],
           "type": "scatter",
           "x": [
            780,
            763,
            74,
            728,
            782,
            825,
            789,
            745,
            189
           ],
           "y": [
            606,
            550,
            525,
            504,
            626,
            625,
            580,
            580,
            229
           ]
          },
          {
           "marker": {
            "size": 10,
            "sizemode": "area",
            "sizeref": 1,
            "symbol": 207
           },
           "mode": "markers",
           "name": "LMouseButton",
           "text": [
            " Minute: 15.854",
            " Minute: 15.894"
           ],
           "type": "scatter",
           "x": [
            39,
            675
           ],
           "y": [
            546,
            533
           ]
          }
         ],
         "name": "16.0"
        },
        {
         "data": [
          {
           "marker": {
            "opacity": 0.5,
            "size": [
             259,
             179,
             399,
             459,
             140,
             199,
             160,
             179,
             160,
             179,
             219,
             179
            ],
            "sizemode": "area",
            "sizeref": 0,
            "symbol": 0
           },
           "mode": "markers",
           "name": "Dilated Pupil",
           "text": [
            " Minutes: 16.015<br>Duration: 0",
            " Minutes: 16.025<br>Duration: 0",
            " Minutes: 16.029<br>Duration: 0",
            " Minutes: 16.04<br>Duration: 0",
            " Minutes: 16.129<br>Duration: 0",
            " Minutes: 16.131<br>Duration: 0",
            " Minutes: 16.136<br>Duration: 0",
            " Minutes: 16.14<br>Duration: 0",
            " Minutes: 16.143<br>Duration: 0",
            " Minutes: 16.146<br>Duration: 0",
            " Minutes: 16.161<br>Duration: 0",
            " Minutes: 16.218<br>Duration: 0"
           ],
           "type": "scatter",
           "x": [
            194,
            214,
            243,
            474,
            160,
            166,
            213,
            164,
            240,
            240,
            502,
            56
           ],
           "y": [
            186,
            183,
            186,
            403,
            205,
            187,
            194,
            194,
            197,
            196,
            126,
            478
           ]
          },
          {
           "marker": {
            "opacity": 0.5,
            "size": [
             100,
             239,
             140,
             179,
             319,
             120,
             159,
             120
            ],
            "sizemode": "area",
            "sizeref": 0,
            "symbol": 0
           },
           "mode": "markers",
           "name": "Squeezed Pupil ",
           "text": [
            " Minutes: 16.119<br>Duration: 0",
            " Minutes: 16.157<br>Duration: 0",
            " Minutes: 16.183<br>Duration: 0",
            " Minutes: 16.188<br>Duration: 0",
            " Minutes: 16.195<br>Duration: 0",
            " Minutes: 16.216<br>Duration: 0",
            " Minutes: 16.225<br>Duration: 0",
            " Minutes: 16.24<br>Duration: 0"
           ],
           "type": "scatter",
           "x": [
            160,
            460,
            299,
            289,
            255,
            52,
            34,
            487
           ],
           "y": [
            200,
            137,
            170,
            194,
            198,
            482,
            454,
            458
           ]
          },
          {
           "marker": {
            "size": 10,
            "sizemode": "area",
            "sizeref": 1,
            "symbol": 207
           },
           "mode": "markers",
           "name": "LMouseButton",
           "text": [],
           "type": "scatter",
           "x": [],
           "y": []
          }
         ],
         "name": "16.25"
        },
        {
         "data": [
          {
           "marker": {
            "opacity": 0.5,
            "size": [
             140,
             140,
             100,
             279,
             159,
             239,
             259,
             239,
             399,
             758
            ],
            "sizemode": "area",
            "sizeref": 0,
            "symbol": 0
           },
           "mode": "markers",
           "name": "Dilated Pupil",
           "text": [
            " Minutes: 16.328<br>Duration: 0",
            " Minutes: 16.38<br>Duration: 0",
            " Minutes: 16.398<br>Duration: 0",
            " Minutes: 16.412<br>Duration: 0",
            " Minutes: 16.418<br>Duration: 0",
            " Minutes: 16.422<br>Duration: 0",
            " Minutes: 16.427<br>Duration: 0",
            " Minutes: 16.432<br>Duration: 0",
            " Minutes: 16.439<br>Duration: 0",
            " Minutes: 16.455<br>Duration: 0"
           ],
           "type": "scatter",
           "x": [
            605,
            80,
            149,
            127,
            136,
            144,
            138,
            202,
            236,
            249
           ],
           "y": [
            958,
            550,
            182,
            166,
            172,
            195,
            169,
            180,
            188,
            185
           ]
          },
          {
           "marker": {
            "opacity": 0.5,
            "size": [
             160,
             100,
             259,
             279,
             399,
             279,
             219,
             160,
             259
            ],
            "sizemode": "area",
            "sizeref": 0,
            "symbol": 0
           },
           "mode": "markers",
           "name": "Squeezed Pupil ",
           "text": [
            " Minutes: 16.259<br>Duration: 0",
            " Minutes: 16.266<br>Duration: 0",
            " Minutes: 16.362<br>Duration: 0",
            " Minutes: 16.383<br>Duration: 0",
            " Minutes: 16.391<br>Duration: 0",
            " Minutes: 16.405<br>Duration: 0",
            " Minutes: 16.451<br>Duration: 0",
            " Minutes: 16.493<br>Duration: 0",
            " Minutes: 16.497<br>Duration: 0"
           ],
           "type": "scatter",
           "x": [
            60,
            62,
            69,
            87,
            94,
            237,
            218,
            60,
            53
           ],
           "y": [
            599,
            633,
            541,
            538,
            210,
            192,
            187,
            541,
            547
           ]
          },
          {
           "marker": {
            "size": 10,
            "sizemode": "area",
            "sizeref": 1,
            "symbol": 207
           },
           "mode": "markers",
           "name": "LMouseButton",
           "text": [],
           "type": "scatter",
           "x": [],
           "y": []
          }
         ],
         "name": "16.5"
        },
        {
         "data": [
          {
           "marker": {
            "opacity": 0.5,
            "size": [
             159,
             159,
             499,
             259,
             219,
             279,
             120,
             179,
             140,
             120,
             299,
             479,
             120,
             140,
             479,
             180,
             259
            ],
            "sizemode": "area",
            "sizeref": 0,
            "symbol": 0
           },
           "mode": "markers",
           "name": "Dilated Pupil",
           "text": [
            " Minutes: 16.639<br>Duration: 0",
            " Minutes: 16.642<br>Duration: 0",
            " Minutes: 16.647<br>Duration: 0",
            " Minutes: 16.664<br>Duration: 0",
            " Minutes: 16.672<br>Duration: 0",
            " Minutes: 16.678<br>Duration: 0",
            " Minutes: 16.683<br>Duration: 0",
            " Minutes: 16.686<br>Duration: 0",
            " Minutes: 16.689<br>Duration: 0",
            " Minutes: 16.695<br>Duration: 0",
            " Minutes: 16.697<br>Duration: 0",
            " Minutes: 16.704<br>Duration: 0",
            " Minutes: 16.712<br>Duration: 0",
            " Minutes: 16.714<br>Duration: 0",
            " Minutes: 16.728<br>Duration: 0",
            " Minutes: 16.737<br>Duration: 0",
            " Minutes: 16.742<br>Duration: 0"
           ],
           "type": "scatter",
           "x": [
            53,
            55,
            60,
            75,
            53,
            46,
            41,
            41,
            45,
            45,
            40,
            66,
            75,
            73,
            57,
            55,
            44
           ],
           "y": [
            523,
            521,
            527,
            636,
            631,
            642,
            630,
            626,
            643,
            650,
            643,
            569,
            540,
            531,
            537,
            545,
            536
           ]
          },
          {
           "marker": {
            "opacity": 0.5,
            "size": [
             120,
             339,
             479,
             199,
             239,
             160,
             120,
             139,
             160,
             140,
             100,
             439,
             100,
             259
            ],
            "sizemode": "area",
            "sizeref": 0,
            "symbol": 0
           },
           "mode": "markers",
           "name": "Squeezed Pupil ",
           "text": [
            " Minutes: 16.506<br>Duration: 0",
            " Minutes: 16.512<br>Duration: 0",
            " Minutes: 16.523<br>Duration: 0",
            " Minutes: 16.533<br>Duration: 0",
            " Minutes: 16.538<br>Duration: 0",
            " Minutes: 16.548<br>Duration: 0",
            " Minutes: 16.562<br>Duration: 0",
            " Minutes: 16.567<br>Duration: 0",
            " Minutes: 16.58<br>Duration: 0",
            " Minutes: 16.586<br>Duration: 0",
            " Minutes: 16.597<br>Duration: 0",
            " Minutes: 16.599<br>Duration: 0",
            " Minutes: 16.62<br>Duration: 0",
            " Minutes: 16.629<br>Duration: 0"
           ],
           "type": "scatter",
           "x": [
            56,
            67,
            130,
            449,
            481,
            42,
            65,
            58,
            61,
            64,
            59,
            49,
            52,
            60
           ],
           "y": [
            541,
            534,
            448,
            413,
            453,
            523,
            552,
            516,
            522,
            514,
            536,
            509,
            510,
            518
           ]
          },
          {
           "marker": {
            "size": 10,
            "sizemode": "area",
            "sizeref": 1,
            "symbol": 207
           },
           "mode": "markers",
           "name": "LMouseButton",
           "text": [],
           "type": "scatter",
           "x": [],
           "y": []
          }
         ],
         "name": "16.75"
        },
        {
         "data": [
          {
           "marker": {
            "opacity": 0.5,
            "size": [
             479,
             359,
             239,
             259,
             140,
             100,
             160,
             179,
             339,
             100,
             120,
             160
            ],
            "sizemode": "area",
            "sizeref": 0,
            "symbol": 0
           },
           "mode": "markers",
           "name": "Dilated Pupil",
           "text": [
            " Minutes: 16.755<br>Duration: 0",
            " Minutes: 16.764<br>Duration: 0",
            " Minutes: 16.777<br>Duration: 0",
            " Minutes: 16.781<br>Duration: 0",
            " Minutes: 16.793<br>Duration: 0",
            " Minutes: 16.799<br>Duration: 0",
            " Minutes: 16.801<br>Duration: 0",
            " Minutes: 16.831<br>Duration: 0",
            " Minutes: 16.835<br>Duration: 0",
            " Minutes: 16.852<br>Duration: 0",
            " Minutes: 16.854<br>Duration: 0",
            " Minutes: 16.887<br>Duration: 0"
           ],
           "type": "scatter",
           "x": [
            47,
            49,
            67,
            75,
            69,
            140,
            132,
            39,
            48,
            362,
            379,
            43
           ],
           "y": [
            533,
            530,
            544,
            541,
            457,
            431,
            432,
            578,
            523,
            452,
            424,
            524
           ]
          },
          {
           "marker": {
            "opacity": 0.5,
            "size": [
             159,
             140,
             259,
             159,
             259,
             120,
             199,
             299,
             100,
             339,
             279,
             160,
             100,
             259,
             120
            ],
            "sizemode": "area",
            "sizeref": 0,
            "symbol": 0
           },
           "mode": "markers",
           "name": "Squeezed Pupil ",
           "text": [
            " Minutes: 16.806<br>Duration: 0",
            " Minutes: 16.857<br>Duration: 0",
            " Minutes: 16.864<br>Duration: 0",
            " Minutes: 16.873<br>Duration: 0",
            " Minutes: 16.89<br>Duration: 0",
            " Minutes: 16.901<br>Duration: 0",
            " Minutes: 16.91<br>Duration: 0",
            " Minutes: 16.923<br>Duration: 0",
            " Minutes: 16.938<br>Duration: 0",
            " Minutes: 16.94<br>Duration: 0",
            " Minutes: 16.946<br>Duration: 0",
            " Minutes: 16.951<br>Duration: 0",
            " Minutes: 16.958<br>Duration: 0",
            " Minutes: 16.972<br>Duration: 0",
            " Minutes: 16.999<br>Duration: 0"
           ],
           "type": "scatter",
           "x": [
            53,
            377,
            53,
            62,
            82,
            87,
            117,
            84,
            93,
            89,
            95,
            94,
            91,
            123,
            87
           ],
           "y": [
            504,
            444,
            521,
            528,
            539,
            547,
            544,
            553,
            566,
            562,
            576,
            575,
            565,
            590,
            615
           ]
          },
          {
           "marker": {
            "size": 10,
            "sizemode": "area",
            "sizeref": 1,
            "symbol": 207
           },
           "mode": "markers",
           "name": "LMouseButton",
           "text": [],
           "type": "scatter",
           "x": [],
           "y": []
          }
         ],
         "name": "17.0"
        },
        {
         "data": [
          {
           "marker": {
            "opacity": 0.5,
            "size": [
             120,
             140,
             199,
             140,
             120,
             179,
             100,
             120,
             778,
             160,
             239,
             199,
             120,
             179
            ],
            "sizemode": "area",
            "sizeref": 0,
            "symbol": 0
           },
           "mode": "markers",
           "name": "Dilated Pupil",
           "text": [
            " Minutes: 17.028<br>Duration: 0",
            " Minutes: 17.044<br>Duration: 0",
            " Minutes: 17.129<br>Duration: 0",
            " Minutes: 17.136<br>Duration: 0",
            " Minutes: 17.145<br>Duration: 0",
            " Minutes: 17.148<br>Duration: 0",
            " Minutes: 17.151<br>Duration: 0",
            " Minutes: 17.153<br>Duration: 0",
            " Minutes: 17.167<br>Duration: 0",
            " Minutes: 17.189<br>Duration: 0",
            " Minutes: 17.201<br>Duration: 0",
            " Minutes: 17.205<br>Duration: 0",
            " Minutes: 17.213<br>Duration: 0",
            " Minutes: 17.215<br>Duration: 0"
           ],
           "type": "scatter",
           "x": [
            111,
            93,
            284,
            70,
            93,
            101,
            105,
            108,
            65,
            40,
            50,
            59,
            92,
            68
           ],
           "y": [
            621,
            648,
            195,
            564,
            556,
            564,
            554,
            567,
            534,
            483,
            518,
            527,
            549,
            526
           ]
          },
          {
           "marker": {
            "opacity": 0.5,
            "size": [
             359,
             120,
             159,
             199,
             279,
             100,
             160,
             159,
             259,
             139,
             259,
             1117,
             100,
             359,
             259,
             179,
             219
            ],
            "sizemode": "area",
            "sizeref": 0,
            "symbol": 0
           },
           "mode": "markers",
           "name": "Squeezed Pupil ",
           "text": [
            " Minutes: 17.002<br>Duration: 0",
            " Minutes: 17.014<br>Duration: 0",
            " Minutes: 17.017<br>Duration: 0",
            " Minutes: 17.033<br>Duration: 0",
            " Minutes: 17.039<br>Duration: 0",
            " Minutes: 17.057<br>Duration: 0",
            " Minutes: 17.081<br>Duration: 0",
            " Minutes: 17.086<br>Duration: 0",
            " Minutes: 17.094<br>Duration: 0",
            " Minutes: 17.101<br>Duration: 0",
            " Minutes: 17.105<br>Duration: 0",
            " Minutes: 17.11<br>Duration: 0",
            " Minutes: 17.163<br>Duration: 0",
            " Minutes: 17.193<br>Duration: 0",
            " Minutes: 17.223<br>Duration: 0",
            " Minutes: 17.236<br>Duration: 0",
            " Minutes: 17.24<br>Duration: 0"
           ],
           "type": "scatter",
           "x": [
            81,
            90,
            94,
            100,
            86,
            88,
            76,
            105,
            173,
            225,
            182,
            255,
            105,
            35,
            81,
            103,
            107
           ],
           "y": [
            615,
            628,
            626,
            656,
            645,
            654,
            211,
            206,
            198,
            177,
            205,
            190,
            564,
            477,
            537,
            544,
            541
           ]
          },
          {
           "marker": {
            "size": 10,
            "sizemode": "area",
            "sizeref": 1,
            "symbol": 207
           },
           "mode": "markers",
           "name": "LMouseButton",
           "text": [],
           "type": "scatter",
           "x": [],
           "y": []
          }
         ],
         "name": "17.25"
        },
        {
         "data": [
          {
           "marker": {
            "opacity": 0.5,
            "size": [
             160,
             160,
             160,
             100,
             140,
             100,
             219,
             120,
             120,
             120,
             100
            ],
            "sizemode": "area",
            "sizeref": 0,
            "symbol": 0
           },
           "mode": "markers",
           "name": "Dilated Pupil",
           "text": [
            " Minutes: 17.251<br>Duration: 0",
            " Minutes: 17.257<br>Duration: 0",
            " Minutes: 17.261<br>Duration: 0",
            " Minutes: 17.273<br>Duration: 0",
            " Minutes: 17.275<br>Duration: 0",
            " Minutes: 17.291<br>Duration: 0",
            " Minutes: 17.294<br>Duration: 0",
            " Minutes: 17.315<br>Duration: 0",
            " Minutes: 17.42<br>Duration: 0",
            " Minutes: 17.423<br>Duration: 0",
            " Minutes: 17.427<br>Duration: 0"
           ],
           "type": "scatter",
           "x": [
            104,
            98,
            108,
            94,
            100,
            84,
            93,
            755,
            767,
            770,
            732
           ],
           "y": [
            555,
            557,
            548,
            592,
            571,
            618,
            618,
            582,
            693,
            706,
            688
           ]
          },
          {
           "marker": {
            "opacity": 0.5,
            "size": [
             279,
             159,
             100,
             140,
             120,
             120,
             100,
             120,
             100,
             100,
             120,
             100,
             100,
             160,
             100
            ],
            "sizemode": "area",
            "sizeref": 0,
            "symbol": 0
           },
           "mode": "markers",
           "name": "Squeezed Pupil ",
           "text": [
            " Minutes: 17.278<br>Duration: 0",
            " Minutes: 17.286<br>Duration: 0",
            " Minutes: 17.289<br>Duration: 0",
            " Minutes: 17.305<br>Duration: 0",
            " Minutes: 17.308<br>Duration: 0",
            " Minutes: 17.312<br>Duration: 0",
            " Minutes: 17.32<br>Duration: 0",
            " Minutes: 17.328<br>Duration: 0",
            " Minutes: 17.358<br>Duration: 0",
            " Minutes: 17.362<br>Duration: 0",
            " Minutes: 17.396<br>Duration: 0",
            " Minutes: 17.402<br>Duration: 0",
            " Minutes: 17.418<br>Duration: 0",
            " Minutes: 17.487<br>Duration: 0",
            " Minutes: 17.494<br>Duration: 0"
           ],
           "type": "scatter",
           "x": [
            78,
            74,
            70,
            89,
            89,
            124,
            747,
            766,
            710,
            740,
            764,
            778,
            754,
            782,
            768
           ],
           "y": [
            612,
            611,
            605,
            624,
            641,
            629,
            559,
            533,
            762,
            778,
            722,
            684,
            700,
            710,
            755
           ]
          },
          {
           "marker": {
            "size": 10,
            "sizemode": "area",
            "sizeref": 1,
            "symbol": 207
           },
           "mode": "markers",
           "name": "LMouseButton",
           "text": [
            " Minute: 17.287",
            " Minute: 17.362"
           ],
           "type": "scatter",
           "x": [
            43,
            671
           ],
           "y": [
            629,
            784
           ]
          }
         ],
         "name": "17.5"
        },
        {
         "data": [
          {
           "marker": {
            "opacity": 0.5,
            "size": [
             120,
             140,
             100,
             120,
             120,
             100,
             199,
             100,
             219,
             100,
             100
            ],
            "sizemode": "area",
            "sizeref": 0,
            "symbol": 0
           },
           "mode": "markers",
           "name": "Dilated Pupil",
           "text": [
            " Minutes: 17.661<br>Duration: 0",
            " Minutes: 17.669<br>Duration: 0",
            " Minutes: 17.672<br>Duration: 0",
            " Minutes: 17.677<br>Duration: 0",
            " Minutes: 17.684<br>Duration: 0",
            " Minutes: 17.695<br>Duration: 0",
            " Minutes: 17.697<br>Duration: 0",
            " Minutes: 17.706<br>Duration: 0",
            " Minutes: 17.711<br>Duration: 0",
            " Minutes: 17.716<br>Duration: 0",
            " Minutes: 17.732<br>Duration: 0"
           ],
           "type": "scatter",
           "x": [
            123,
            113,
            114,
            117,
            93,
            68,
            81,
            121,
            122,
            792,
            757
           ],
           "y": [
            678,
            736,
            732,
            744,
            797,
            792,
            792,
            815,
            795,
            695,
            710
           ]
          },
          {
           "marker": {
            "opacity": 0.5,
            "size": [
             120,
             180,
             239,
             159,
             160,
             120,
             160,
             160,
             140
            ],
            "sizemode": "area",
            "sizeref": 0,
            "symbol": 0
           },
           "mode": "markers",
           "name": "Squeezed Pupil ",
           "text": [
            " Minutes: 17.516<br>Duration: 0",
            " Minutes: 17.586<br>Duration: 0",
            " Minutes: 17.596<br>Duration: 0",
            " Minutes: 17.605<br>Duration: 0",
            " Minutes: 17.617<br>Duration: 0",
            " Minutes: 17.622<br>Duration: 0",
            " Minutes: 17.635<br>Duration: 0",
            " Minutes: 17.721<br>Duration: 0",
            " Minutes: 17.726<br>Duration: 0"
           ],
           "type": "scatter",
           "x": [
            781,
            98,
            157,
            756,
            135,
            194,
            114,
            764,
            788
           ],
           "y": [
            759,
            636,
            631,
            672,
            626,
            623,
            727,
            669,
            687
           ]
          },
          {
           "marker": {
            "size": 10,
            "sizemode": "area",
            "sizeref": 1,
            "symbol": 207
           },
           "mode": "markers",
           "name": "LMouseButton",
           "text": [
            " Minute: 17.584",
            " Minute: 17.702"
           ],
           "type": "scatter",
           "x": [
            58,
            65
           ],
           "y": [
            644,
            801
           ]
          }
         ],
         "name": "17.75"
        },
        {
         "data": [
          {
           "marker": {
            "opacity": 0.5,
            "size": [
             180,
             100,
             160,
             140,
             179,
             120,
             120
            ],
            "sizemode": "area",
            "sizeref": 0,
            "symbol": 0
           },
           "mode": "markers",
           "name": "Dilated Pupil",
           "text": [
            " Minutes: 17.792<br>Duration: 0",
            " Minutes: 17.797<br>Duration: 0",
            " Minutes: 17.8<br>Duration: 0",
            " Minutes: 17.816<br>Duration: 0",
            " Minutes: 17.822<br>Duration: 0",
            " Minutes: 17.854<br>Duration: 0",
            " Minutes: 17.999<br>Duration: 0"
           ],
           "type": "scatter",
           "x": [
            140,
            719,
            769,
            780,
            772,
            114,
            128
           ],
           "y": [
            808,
            711,
            694,
            855,
            845,
            774,
            681
           ]
          },
          {
           "marker": {
            "opacity": 0.5,
            "size": [
             100,
             120,
             120,
             100,
             100,
             120,
             159,
             100,
             120
            ],
            "sizemode": "area",
            "sizeref": 0,
            "symbol": 0
           },
           "mode": "markers",
           "name": "Squeezed Pupil ",
           "text": [
            " Minutes: 17.754<br>Duration: 0",
            " Minutes: 17.758<br>Duration: 0",
            " Minutes: 17.809<br>Duration: 0",
            " Minutes: 17.906<br>Duration: 0",
            " Minutes: 17.91<br>Duration: 0",
            " Minutes: 17.916<br>Duration: 0",
            " Minutes: 17.933<br>Duration: 0",
            " Minutes: 17.941<br>Duration: 0",
            " Minutes: 17.974<br>Duration: 0"
           ],
           "type": "scatter",
           "x": [
            773,
            788,
            771,
            749,
            750,
            737,
            130,
            104,
            136
           ],
           "y": [
            802,
            837,
            681,
            717,
            726,
            688,
            655,
            619,
            667
           ]
          },
          {
           "marker": {
            "size": 10,
            "sizemode": "area",
            "sizeref": 1,
            "symbol": 207
           },
           "mode": "markers",
           "name": "LMouseButton",
           "text": [],
           "type": "scatter",
           "x": [],
           "y": []
          }
         ],
         "name": "18.0"
        },
        {
         "data": [
          {
           "marker": {
            "opacity": 0.5,
            "size": [
             100,
             259,
             120,
             160
            ],
            "sizemode": "area",
            "sizeref": 0,
            "symbol": 0
           },
           "mode": "markers",
           "name": "Dilated Pupil",
           "text": [
            " Minutes: 18.03<br>Duration: 0",
            " Minutes: 18.184<br>Duration: 0",
            " Minutes: 18.224<br>Duration: 0",
            " Minutes: 18.227<br>Duration: 0"
           ],
           "type": "scatter",
           "x": [
            148,
            743,
            82,
            745
           ],
           "y": [
            727,
            563,
            536,
            578
           ]
          },
          {
           "marker": {
            "opacity": 0.5,
            "size": [
             100,
             100,
             120,
             100,
             140,
             159,
             120,
             120,
             100,
             259
            ],
            "sizemode": "area",
            "sizeref": 0,
            "symbol": 0
           },
           "mode": "markers",
           "name": "Squeezed Pupil ",
           "text": [
            " Minutes: 18.111<br>Duration: 0",
            " Minutes: 18.163<br>Duration: 0",
            " Minutes: 18.167<br>Duration: 0",
            " Minutes: 18.204<br>Duration: 0",
            " Minutes: 18.211<br>Duration: 0",
            " Minutes: 18.221<br>Duration: 0",
            " Minutes: 18.233<br>Duration: 0",
            " Minutes: 18.236<br>Duration: 0",
            " Minutes: 18.245<br>Duration: 0",
            " Minutes: 18.247<br>Duration: 0"
           ],
           "type": "scatter",
           "x": [
            808,
            970,
            992,
            62,
            87,
            102,
            727,
            731,
            801,
            831
           ],
           "y": [
            703,
            571,
            515,
            551,
            539,
            556,
            521,
            519,
            598,
            575
           ]
          },
          {
           "marker": {
            "size": 10,
            "sizemode": "area",
            "sizeref": 1,
            "symbol": 207
           },
           "mode": "markers",
           "name": "LMouseButton",
           "text": [
            " Minute: 18.16",
            " Minute: 18.22"
           ],
           "type": "scatter",
           "x": [
            748,
            120
           ],
           "y": [
            699,
            566
           ]
          }
         ],
         "name": "18.25"
        },
        {
         "data": [
          {
           "marker": {
            "opacity": 0.5,
            "size": [
             100,
             140,
             120,
             180
            ],
            "sizemode": "area",
            "sizeref": 0,
            "symbol": 0
           },
           "mode": "markers",
           "name": "Dilated Pupil",
           "text": [
            " Minutes: 18.31<br>Duration: 0",
            " Minutes: 18.312<br>Duration: 0",
            " Minutes: 18.333<br>Duration: 0",
            " Minutes: 18.336<br>Duration: 0"
           ],
           "type": "scatter",
           "x": [
            89,
            94,
            710,
            735
           ],
           "y": [
            559,
            567,
            605,
            571
           ]
          },
          {
           "marker": {
            "opacity": 0.5,
            "size": [
             100,
             100,
             199,
             180,
             159,
             120,
             100
            ],
            "sizemode": "area",
            "sizeref": 0,
            "symbol": 0
           },
           "mode": "markers",
           "name": "Squeezed Pupil ",
           "text": [
            " Minutes: 18.26<br>Duration: 0",
            " Minutes: 18.267<br>Duration: 0",
            " Minutes: 18.283<br>Duration: 0",
            " Minutes: 18.295<br>Duration: 0",
            " Minutes: 18.4<br>Duration: 0",
            " Minutes: 18.405<br>Duration: 0",
            " Minutes: 18.494<br>Duration: 0"
           ],
           "type": "scatter",
           "x": [
            781,
            761,
            747,
            736,
            766,
            756,
            721
           ],
           "y": [
            688,
            566,
            554,
            527,
            767,
            738,
            819
           ]
          },
          {
           "marker": {
            "size": 10,
            "sizemode": "area",
            "sizeref": 1,
            "symbol": 207
           },
           "mode": "markers",
           "name": "LMouseButton",
           "text": [
            " Minute: 18.414",
            " Minute: 18.46"
           ],
           "type": "scatter",
           "x": [
            972,
            683
           ],
           "y": [
            737,
            905
           ]
          }
         ],
         "name": "18.5"
        },
        {
         "data": [
          {
           "marker": {
            "opacity": 0.5,
            "size": [
             100
            ],
            "sizemode": "area",
            "sizeref": 0,
            "symbol": 0
           },
           "mode": "markers",
           "name": "Dilated Pupil",
           "text": [
            " Minutes: 18.699<br>Duration: 0"
           ],
           "type": "scatter",
           "x": [
            86
           ],
           "y": [
            859
           ]
          },
          {
           "marker": {
            "opacity": 0.5,
            "size": [
             200,
             160,
             160
            ],
            "sizemode": "area",
            "sizeref": 0,
            "symbol": 0
           },
           "mode": "markers",
           "name": "Squeezed Pupil ",
           "text": [
            " Minutes: 18.501<br>Duration: 0",
            " Minutes: 18.725<br>Duration: 0",
            " Minutes: 18.737<br>Duration: 0"
           ],
           "type": "scatter",
           "x": [
            93,
            163,
            245
           ],
           "y": [
            849,
            169,
            175
           ]
          },
          {
           "marker": {
            "size": 10,
            "sizemode": "area",
            "sizeref": 1,
            "symbol": 207
           },
           "mode": "markers",
           "name": "LMouseButton",
           "text": [
            " Minute: 18.511",
            " Minute: 18.601"
           ],
           "type": "scatter",
           "x": [
            46,
            699
           ],
           "y": [
            862,
            873
           ]
          }
         ],
         "name": "18.75"
        },
        {
         "data": [
          {
           "marker": {
            "opacity": 0.5,
            "size": [
             120,
             139
            ],
            "sizemode": "area",
            "sizeref": 0,
            "symbol": 0
           },
           "mode": "markers",
           "name": "Dilated Pupil",
           "text": [
            " Minutes: 18.829<br>Duration: 0",
            " Minutes: 18.86<br>Duration: 0"
           ],
           "type": "scatter",
           "x": [
            116,
            122
           ],
           "y": [
            845,
            853
           ]
          },
          {
           "marker": {
            "opacity": 0.5,
            "size": [
             100,
             100,
             120,
             120,
             100,
             160,
             160
            ],
            "sizemode": "area",
            "sizeref": 0,
            "symbol": 0
           },
           "mode": "markers",
           "name": "Squeezed Pupil ",
           "text": [
            " Minutes: 18.75<br>Duration: 0",
            " Minutes: 18.755<br>Duration: 0",
            " Minutes: 18.762<br>Duration: 0",
            " Minutes: 18.795<br>Duration: 0",
            " Minutes: 18.82<br>Duration: 0",
            " Minutes: 18.838<br>Duration: 0",
            " Minutes: 18.957<br>Duration: 0"
           ],
           "type": "scatter",
           "x": [
            790,
            766,
            96,
            110,
            121,
            117,
            770
           ],
           "y": [
            861,
            806,
            845,
            873,
            844,
            854,
            863
           ]
          },
          {
           "marker": {
            "size": 10,
            "sizemode": "area",
            "sizeref": 1,
            "symbol": 207
           },
           "mode": "markers",
           "name": "LMouseButton",
           "text": [],
           "type": "scatter",
           "x": [],
           "y": []
          }
         ],
         "name": "19.0"
        },
        {
         "data": [
          {
           "marker": {
            "opacity": 0.5,
            "size": [
             120,
             140,
             120
            ],
            "sizemode": "area",
            "sizeref": 0,
            "symbol": 0
           },
           "mode": "markers",
           "name": "Dilated Pupil",
           "text": [
            " Minutes: 19.167<br>Duration: 0",
            " Minutes: 19.185<br>Duration: 0",
            " Minutes: 19.226<br>Duration: 0"
           ],
           "type": "scatter",
           "x": [
            773,
            782,
            782
           ],
           "y": [
            880,
            881,
            818
           ]
          },
          {
           "marker": {
            "opacity": 0.5,
            "size": [
             120,
             100,
             100,
             120,
             140,
             100,
             239,
             120,
             140,
             279,
             140,
             140
            ],
            "sizemode": "area",
            "sizeref": 0,
            "symbol": 0
           },
           "mode": "markers",
           "name": "Squeezed Pupil ",
           "text": [
            " Minutes: 19.004<br>Duration: 0",
            " Minutes: 19.027<br>Duration: 0",
            " Minutes: 19.053<br>Duration: 0",
            " Minutes: 19.056<br>Duration: 0",
            " Minutes: 19.069<br>Duration: 0",
            " Minutes: 19.141<br>Duration: 0",
            " Minutes: 19.188<br>Duration: 0",
            " Minutes: 19.193<br>Duration: 0",
            " Minutes: 19.195<br>Duration: 0",
            " Minutes: 19.198<br>Duration: 0",
            " Minutes: 19.203<br>Duration: 0",
            " Minutes: 19.235<br>Duration: 0"
           ],
           "type": "scatter",
           "x": [
            870,
            774,
            804,
            810,
            794,
            777,
            775,
            779,
            768,
            797,
            788,
            91
           ],
           "y": [
            881,
            860,
            849,
            894,
            878,
            852,
            881,
            887,
            871,
            898,
            893,
            217
           ]
          },
          {
           "marker": {
            "size": 10,
            "sizemode": "area",
            "sizeref": 1,
            "symbol": 207
           },
           "mode": "markers",
           "name": "LMouseButton",
           "text": [
            " Minute: 19.204",
            " Minute: 19.209",
            " Minute: 19.218",
            " Minute: 19.241"
           ],
           "type": "scatter",
           "x": [
            106
           ],
           "y": [
            221
           ]
          }
         ],
         "name": "19.25"
        },
        {
         "data": [
          {
           "marker": {
            "opacity": 0.5,
            "size": [
             239,
             100,
             140,
             160
            ],
            "sizemode": "area",
            "sizeref": 0,
            "symbol": 0
           },
           "mode": "markers",
           "name": "Dilated Pupil",
           "text": [
            " Minutes: 19.271<br>Duration: 0",
            " Minutes: 19.316<br>Duration: 0",
            " Minutes: 19.333<br>Duration: 0",
            " Minutes: 19.336<br>Duration: 0"
           ],
           "type": "scatter",
           "x": [
            88,
            144,
            734,
            771
           ],
           "y": [
            231,
            235,
            658,
            720
           ]
          },
          {
           "marker": {
            "opacity": 0.5,
            "size": [
             120,
             199,
             180,
             239,
             160,
             259
            ],
            "sizemode": "area",
            "sizeref": 0,
            "symbol": 0
           },
           "mode": "markers",
           "name": "Squeezed Pupil ",
           "text": [
            " Minutes: 19.387<br>Duration: 0",
            " Minutes: 19.397<br>Duration: 0",
            " Minutes: 19.434<br>Duration: 0",
            " Minutes: 19.44<br>Duration: 0",
            " Minutes: 19.445<br>Duration: 0",
            " Minutes: 19.463<br>Duration: 0"
           ],
           "type": "scatter",
           "x": [
            781,
            846,
            151,
            137,
            138,
            31
           ],
           "y": [
            905,
            910,
            224,
            210,
            215,
            228
           ]
          },
          {
           "marker": {
            "size": 10,
            "sizemode": "area",
            "sizeref": 1,
            "symbol": 207
           },
           "mode": "markers",
           "name": "LMouseButton",
           "text": [
            " Minute: 19.252",
            " Minute: 19.261",
            " Minute: 19.261",
            " Minute: 19.262",
            " Minute: 19.263",
            " Minute: 19.263",
            " Minute: 19.264",
            " Minute: 19.265",
            " Minute: 19.265",
            " Minute: 19.266",
            " Minute: 19.272",
            " Minute: 19.275",
            " Minute: 19.277",
            " Minute: 19.28",
            " Minute: 19.282",
            " Minute: 19.286",
            " Minute: 19.288",
            " Minute: 19.29",
            " Minute: 19.293",
            " Minute: 19.299",
            " Minute: 19.302",
            " Minute: 19.304",
            " Minute: 19.307",
            " Minute: 19.308",
            " Minute: 19.312",
            " Minute: 19.315",
            " Minute: 19.345",
            " Minute: 19.445",
            " Minute: 19.457",
            " Minute: 19.465",
            " Minute: 19.47",
            " Minute: 19.472",
            " Minute: 19.476",
            " Minute: 19.479",
            " Minute: 19.483",
            " Minute: 19.486",
            " Minute: 19.489",
            " Minute: 19.49",
            " Minute: 19.492",
            " Minute: 19.494",
            " Minute: 19.495",
            " Minute: 19.5"
           ],
           "type": "scatter",
           "x": [
            866,
            195
           ],
           "y": [
            777,
            239
           ]
          }
         ],
         "name": "19.5"
        },
        {
         "data": [
          {
           "marker": {
            "opacity": 0.5,
            "size": [
             159,
             160,
             219,
             159,
             120
            ],
            "sizemode": "area",
            "sizeref": 0,
            "symbol": 0
           },
           "mode": "markers",
           "name": "Dilated Pupil",
           "text": [
            " Minutes: 19.508<br>Duration: 0",
            " Minutes: 19.577<br>Duration: 0",
            " Minutes: 19.65<br>Duration: 0",
            " Minutes: 19.688<br>Duration: 0",
            " Minutes: 19.694<br>Duration: 0"
           ],
           "type": "scatter",
           "x": [
            146,
            52,
            748,
            113,
            69
           ],
           "y": [
            218,
            623,
            554,
            241,
            531
           ]
          },
          {
           "marker": {
            "opacity": 0.5,
            "size": [
             120,
             199,
             160,
             179,
             120,
             159,
             179,
             120,
             219,
             160,
             120,
             140,
             140,
             159,
             239
            ],
            "sizemode": "area",
            "sizeref": 0,
            "symbol": 0
           },
           "mode": "markers",
           "name": "Squeezed Pupil ",
           "text": [
            " Minutes: 19.566<br>Duration: 0",
            " Minutes: 19.59<br>Duration: 0",
            " Minutes: 19.594<br>Duration: 0",
            " Minutes: 19.612<br>Duration: 0",
            " Minutes: 19.622<br>Duration: 0",
            " Minutes: 19.625<br>Duration: 0",
            " Minutes: 19.63<br>Duration: 0",
            " Minutes: 19.633<br>Duration: 0",
            " Minutes: 19.636<br>Duration: 0",
            " Minutes: 19.642<br>Duration: 0",
            " Minutes: 19.654<br>Duration: 0",
            " Minutes: 19.666<br>Duration: 0",
            " Minutes: 19.668<br>Duration: 0",
            " Minutes: 19.737<br>Duration: 0",
            " Minutes: 19.742<br>Duration: 0"
           ],
           "type": "scatter",
           "x": [
            135,
            712,
            711,
            752,
            67,
            81,
            93,
            82,
            85,
            101,
            746,
            114,
            95,
            743,
            743
           ],
           "y": [
            632,
            562,
            564,
            521,
            533,
            532,
            561,
            552,
            552,
            562,
            538,
            568,
            563,
            547,
            524
           ]
          },
          {
           "marker": {
            "size": 10,
            "sizemode": "area",
            "sizeref": 1,
            "symbol": 207
           },
           "mode": "markers",
           "name": "LMouseButton",
           "text": [
            " Minute: 19.505",
            " Minute: 19.506",
            " Minute: 19.509",
            " Minute: 19.51",
            " Minute: 19.512",
            " Minute: 19.515",
            " Minute: 19.516",
            " Minute: 19.518",
            " Minute: 19.575",
            " Minute: 19.597",
            " Minute: 19.686"
           ],
           "type": "scatter",
           "x": [
            42,
            679,
            151
           ],
           "y": [
            624,
            573,
            255
           ]
          }
         ],
         "name": "19.75"
        },
        {
         "data": [
          {
           "marker": {
            "opacity": 0.5,
            "size": [
             379,
             159,
             159,
             160,
             160,
             120,
             120,
             100,
             259
            ],
            "sizemode": "area",
            "sizeref": 0,
            "symbol": 0
           },
           "mode": "markers",
           "name": "Dilated Pupil",
           "text": [
            " Minutes: 19.824<br>Duration: 0",
            " Minutes: 19.932<br>Duration: 0",
            " Minutes: 19.936<br>Duration: 0",
            " Minutes: 19.956<br>Duration: 0",
            " Minutes: 19.959<br>Duration: 0",
            " Minutes: 19.965<br>Duration: 0",
            " Minutes: 19.978<br>Duration: 0",
            " Minutes: 19.987<br>Duration: 0",
            " Minutes: 19.991<br>Duration: 0"
           ],
           "type": "scatter",
           "x": [
            146,
            50,
            54,
            64,
            64,
            75,
            88,
            1045,
            1112
           ],
           "y": [
            218,
            251,
            241,
            255,
            258,
            255,
            267,
            164,
            126
           ]
          },
          {
           "marker": {
            "opacity": 0.5,
            "size": [
             180,
             119,
             160,
             339,
             100,
             239,
             160,
             140,
             119,
             140,
             159,
             120,
             160,
             219,
             219
            ],
            "sizemode": "area",
            "sizeref": 0,
            "symbol": 0
           },
           "mode": "markers",
           "name": "Squeezed Pupil ",
           "text": [
            " Minutes: 19.751<br>Duration: 0",
            " Minutes: 19.754<br>Duration: 0",
            " Minutes: 19.761<br>Duration: 0",
            " Minutes: 19.789<br>Duration: 0",
            " Minutes: 19.798<br>Duration: 0",
            " Minutes: 19.8<br>Duration: 0",
            " Minutes: 19.836<br>Duration: 0",
            " Minutes: 19.851<br>Duration: 0",
            " Minutes: 19.876<br>Duration: 0",
            " Minutes: 19.881<br>Duration: 0",
            " Minutes: 19.888<br>Duration: 0",
            " Minutes: 19.897<br>Duration: 0",
            " Minutes: 19.901<br>Duration: 0",
            " Minutes: 19.906<br>Duration: 0",
            " Minutes: 19.926<br>Duration: 0"
           ],
           "type": "scatter",
           "x": [
            739,
            744,
            753,
            76,
            258,
            256,
            58,
            734,
            760,
            755,
            777,
            768,
            765,
            99,
            50
           ],
           "y": [
            582,
            563,
            542,
            208,
            194,
            192,
            241,
            546,
            539,
            525,
            574,
            573,
            534,
            550,
            254
           ]
          },
          {
           "marker": {
            "size": 10,
            "sizemode": "area",
            "sizeref": 1,
            "symbol": 207
           },
           "mode": "markers",
           "name": "LMouseButton",
           "text": [
            " Minute: 19.908",
            " Minute: 19.911",
            " Minute: 19.916",
            " Minute: 19.93",
            " Minute: 19.934",
            " Minute: 19.938",
            " Minute: 19.94",
            " Minute: 19.941",
            " Minute: 19.951",
            " Minute: 19.953",
            " Minute: 19.954",
            " Minute: 19.958",
            " Minute: 19.962",
            " Minute: 19.963",
            " Minute: 19.967",
            " Minute: 19.97",
            " Minute: 19.973",
            " Minute: 19.979"
           ],
           "type": "scatter",
           "x": [],
           "y": []
          }
         ],
         "name": "20.0"
        },
        {
         "data": [
          {
           "marker": {
            "opacity": 0.5,
            "size": [
             658,
             1316,
             140,
             180,
             179,
             339,
             140,
             120,
             120,
             100,
             120
            ],
            "sizemode": "area",
            "sizeref": 0,
            "symbol": 0
           },
           "mode": "markers",
           "name": "Dilated Pupil",
           "text": [
            " Minutes: 20.003<br>Duration: 0",
            " Minutes: 20.033<br>Duration: 0",
            " Minutes: 20.062<br>Duration: 0",
            " Minutes: 20.066<br>Duration: 0",
            " Minutes: 20.071<br>Duration: 0",
            " Minutes: 20.074<br>Duration: 0",
            " Minutes: 20.085<br>Duration: 0",
            " Minutes: 20.116<br>Duration: 0",
            " Minutes: 20.119<br>Duration: 0",
            " Minutes: 20.122<br>Duration: 0",
            " Minutes: 20.124<br>Duration: 0"
           ],
           "type": "scatter",
           "x": [
            1075,
            1083,
            1143,
            1205,
            1124,
            1078,
            114,
            145,
            148,
            43,
            27
           ],
           "y": [
            123,
            185,
            178,
            188,
            261,
            129,
            227,
            268,
            252,
            266,
            255
           ]
          },
          {
           "marker": {
            "opacity": 0.5,
            "size": [
             359,
             100,
             379,
             120,
             100,
             120,
             459,
             140,
             100,
             100
            ],
            "sizemode": "area",
            "sizeref": 0,
            "symbol": 0
           },
           "mode": "markers",
           "name": "Squeezed Pupil ",
           "text": [
            " Minutes: 20.055<br>Duration: 0",
            " Minutes: 20.1<br>Duration: 0",
            " Minutes: 20.104<br>Duration: 0",
            " Minutes: 20.139<br>Duration: 0",
            " Minutes: 20.147<br>Duration: 0",
            " Minutes: 20.157<br>Duration: 0",
            " Minutes: 20.17<br>Duration: 0",
            " Minutes: 20.18<br>Duration: 0",
            " Minutes: 20.214<br>Duration: 0",
            " Minutes: 20.219<br>Duration: 0"
           ],
           "type": "scatter",
           "x": [
            1095,
            34,
            42,
            745,
            749,
            767,
            837,
            798,
            753,
            745
           ],
           "y": [
            185,
            259,
            254,
            551,
            545,
            572,
            541,
            536,
            581,
            581
           ]
          },
          {
           "marker": {
            "size": 10,
            "sizemode": "area",
            "sizeref": 1,
            "symbol": 207
           },
           "mode": "markers",
           "name": "LMouseButton",
           "text": [
            " Minute: 20.015",
            " Minute: 20.065",
            " Minute: 20.123"
           ],
           "type": "scatter",
           "x": [
            1032,
            1032,
            184
           ],
           "y": [
            95,
            95,
            285
           ]
          }
         ],
         "name": "20.25"
        },
        {
         "data": [
          {
           "marker": {
            "opacity": 0.5,
            "size": [
             239
            ],
            "sizemode": "area",
            "sizeref": 0,
            "symbol": 0
           },
           "mode": "markers",
           "name": "Dilated Pupil",
           "text": [
            " Minutes: 20.484<br>Duration: 0"
           ],
           "type": "scatter",
           "x": [
            103
           ],
           "y": [
            681
           ]
          },
          {
           "marker": {
            "opacity": 0.5,
            "size": [
             239,
             100,
             179,
             120,
             199,
             120,
             120,
             120,
             160,
             259,
             140,
             120
            ],
            "sizemode": "area",
            "sizeref": 0,
            "symbol": 0
           },
           "mode": "markers",
           "name": "Squeezed Pupil ",
           "text": [
            " Minutes: 20.278<br>Duration: 0",
            " Minutes: 20.302<br>Duration: 0",
            " Minutes: 20.304<br>Duration: 0",
            " Minutes: 20.318<br>Duration: 0",
            " Minutes: 20.32<br>Duration: 0",
            " Minutes: 20.33<br>Duration: 0",
            " Minutes: 20.337<br>Duration: 0",
            " Minutes: 20.381<br>Duration: 0",
            " Minutes: 20.386<br>Duration: 0",
            " Minutes: 20.406<br>Duration: 0",
            " Minutes: 20.421<br>Duration: 0",
            " Minutes: 20.452<br>Duration: 0"
           ],
           "type": "scatter",
           "x": [
            619,
            719,
            714,
            753,
            736,
            761,
            754,
            740,
            746,
            65,
            694,
            44
           ],
           "y": [
            682,
            544,
            540,
            540,
            552,
            547,
            603,
            785,
            785,
            670,
            862,
            660
           ]
          },
          {
           "marker": {
            "size": 10,
            "sizemode": "area",
            "sizeref": 1,
            "symbol": 207
           },
           "mode": "markers",
           "name": "LMouseButton",
           "text": [
            " Minute: 20.385",
            " Minute: 20.422",
            " Minute: 20.461"
           ],
           "type": "scatter",
           "x": [
            846,
            675,
            37
           ],
           "y": [
            787,
            916,
            687
           ]
          }
         ],
         "name": "20.5"
        },
        {
         "data": [
          {
           "marker": {
            "opacity": 0.5,
            "size": [],
            "sizemode": "area",
            "sizeref": 0,
            "symbol": 0
           },
           "mode": "markers",
           "name": "Dilated Pupil",
           "text": [],
           "type": "scatter",
           "x": [],
           "y": []
          },
          {
           "marker": {
            "opacity": 0.5,
            "size": [
             120,
             120,
             140,
             159,
             419,
             120,
             120,
             100,
             100,
             140,
             179,
             140,
             160
            ],
            "sizemode": "area",
            "sizeref": 0,
            "symbol": 0
           },
           "mode": "markers",
           "name": "Squeezed Pupil ",
           "text": [
            " Minutes: 20.505<br>Duration: 0",
            " Minutes: 20.509<br>Duration: 0",
            " Minutes: 20.512<br>Duration: 0",
            " Minutes: 20.518<br>Duration: 0",
            " Minutes: 20.521<br>Duration: 0",
            " Minutes: 20.535<br>Duration: 0",
            " Minutes: 20.603<br>Duration: 0",
            " Minutes: 20.61<br>Duration: 0",
            " Minutes: 20.657<br>Duration: 0",
            " Minutes: 20.659<br>Duration: 0",
            " Minutes: 20.668<br>Duration: 0",
            " Minutes: 20.718<br>Duration: 0",
            " Minutes: 20.741<br>Duration: 0"
           ],
           "type": "scatter",
           "x": [
            125,
            144,
            174,
            1219,
            1315,
            771,
            766,
            757,
            768,
            756,
            105,
            763,
            714
           ],
           "y": [
            690,
            295,
            277,
            259,
            275,
            807,
            885,
            852,
            851,
            818,
            714,
            835,
            836
           ]
          },
          {
           "marker": {
            "size": 10,
            "sizemode": "area",
            "sizeref": 1,
            "symbol": 207
           },
           "mode": "markers",
           "name": "LMouseButton",
           "text": [
            " Minute: 20.677",
            " Minute: 20.685",
            " Minute: 20.69",
            " Minute: 20.711",
            " Minute: 20.745"
           ],
           "type": "scatter",
           "x": [
            66,
            62,
            62,
            62,
            688
           ],
           "y": [
            781,
            781,
            784,
            786,
            875
           ]
          }
         ],
         "name": "20.75"
        },
        {
         "data": [
          {
           "marker": {
            "opacity": 0.5,
            "size": [],
            "sizemode": "area",
            "sizeref": 0,
            "symbol": 0
           },
           "mode": "markers",
           "name": "Dilated Pupil",
           "text": [],
           "type": "scatter",
           "x": [],
           "y": []
          },
          {
           "marker": {
            "opacity": 0.5,
            "size": [
             120,
             100,
             140,
             120,
             160,
             100,
             140,
             140,
             160,
             239,
             120
            ],
            "sizemode": "area",
            "sizeref": 0,
            "symbol": 0
           },
           "mode": "markers",
           "name": "Squeezed Pupil ",
           "text": [
            " Minutes: 20.754<br>Duration: 0",
            " Minutes: 20.828<br>Duration: 0",
            " Minutes: 20.854<br>Duration: 0",
            " Minutes: 20.879<br>Duration: 0",
            " Minutes: 20.899<br>Duration: 0",
            " Minutes: 20.93<br>Duration: 0",
            " Minutes: 20.938<br>Duration: 0",
            " Minutes: 20.944<br>Duration: 0",
            " Minutes: 20.969<br>Duration: 0",
            " Minutes: 20.978<br>Duration: 0",
            " Minutes: 20.997<br>Duration: 0"
           ],
           "type": "scatter",
           "x": [
            772,
            751,
            720,
            730,
            752,
            718,
            85,
            76,
            39,
            66,
            713
           ],
           "y": [
            855,
            918,
            712,
            700,
            578,
            772,
            667,
            628,
            604,
            535,
            800
           ]
          },
          {
           "marker": {
            "size": 10,
            "sizemode": "area",
            "sizeref": 1,
            "symbol": 207
           },
           "mode": "markers",
           "name": "LMouseButton",
           "text": [
            " Minute: 20.751",
            " Minute: 20.773",
            " Minute: 20.795",
            " Minute: 20.803",
            " Minute: 20.867",
            " Minute: 20.881",
            " Minute: 20.892",
            " Minute: 20.927",
            " Minute: 20.932",
            " Minute: 20.973",
            " Minute: 20.999"
           ],
           "type": "scatter",
           "x": [
            694,
            705,
            691,
            691,
            672,
            682,
            678,
            678,
            676,
            48,
            674
           ],
           "y": [
            875,
            792,
            904,
            904,
            713,
            720,
            751,
            812,
            815,
            640,
            814
           ]
          }
         ],
         "name": "21.0"
        },
        {
         "data": [
          {
           "marker": {
            "opacity": 0.5,
            "size": [
             119,
             120,
             100
            ],
            "sizemode": "area",
            "sizeref": 0,
            "symbol": 0
           },
           "mode": "markers",
           "name": "Dilated Pupil",
           "text": [
            " Minutes: 21.001<br>Duration: 0",
            " Minutes: 21.131<br>Duration: 0",
            " Minutes: 21.172<br>Duration: 0"
           ],
           "type": "scatter",
           "x": [
            719,
            51,
            721
           ],
           "y": [
            816,
            560,
            375
           ]
          },
          {
           "marker": {
            "opacity": 0.5,
            "size": [
             120,
             100,
             100,
             159,
             100,
             120,
             120,
             179,
             179,
             140,
             140,
             120,
             120,
             120,
             379,
             160,
             140,
             239,
             160,
             239,
             100
            ],
            "sizemode": "area",
            "sizeref": 0,
            "symbol": 0
           },
           "mode": "markers",
           "name": "Squeezed Pupil ",
           "text": [
            " Minutes: 21.036<br>Duration: 0",
            " Minutes: 21.044<br>Duration: 0",
            " Minutes: 21.047<br>Duration: 0",
            " Minutes: 21.049<br>Duration: 0",
            " Minutes: 21.066<br>Duration: 0",
            " Minutes: 21.072<br>Duration: 0",
            " Minutes: 21.084<br>Duration: 0",
            " Minutes: 21.103<br>Duration: 0",
            " Minutes: 21.121<br>Duration: 0",
            " Minutes: 21.126<br>Duration: 0",
            " Minutes: 21.177<br>Duration: 0",
            " Minutes: 21.18<br>Duration: 0",
            " Minutes: 21.182<br>Duration: 0",
            " Minutes: 21.188<br>Duration: 0",
            " Minutes: 21.197<br>Duration: 0",
            " Minutes: 21.204<br>Duration: 0",
            " Minutes: 21.208<br>Duration: 0",
            " Minutes: 21.218<br>Duration: 0",
            " Minutes: 21.224<br>Duration: 0",
            " Minutes: 21.229<br>Duration: 0",
            " Minutes: 21.24<br>Duration: 0"
           ],
           "type": "scatter",
           "x": [
            686,
            675,
            712,
            720,
            746,
            730,
            63,
            54,
            40,
            45,
            804,
            797,
            846,
            186,
            190,
            201,
            116,
            42,
            60,
            106,
            22
           ],
           "y": [
            512,
            497,
            545,
            539,
            602,
            580,
            647,
            537,
            550,
            571,
            395,
            418,
            418,
            398,
            421,
            425,
            435,
            477,
            446,
            451,
            484
           ]
          },
          {
           "marker": {
            "size": 10,
            "sizemode": "area",
            "sizeref": 1,
            "symbol": 207
           },
           "mode": "markers",
           "name": "LMouseButton",
           "text": [
            " Minute: 21.046",
            " Minute: 21.07",
            " Minute: 21.095",
            " Minute: 21.102",
            " Minute: 21.109",
            " Minute: 21.132",
            " Minute: 21.208"
           ],
           "type": "scatter",
           "x": [
            680,
            680,
            31,
            32,
            36,
            45,
            185
           ],
           "y": [
            529,
            596,
            660,
            658,
            658,
            548,
            445
           ]
          }
         ],
         "name": "21.25"
        },
        {
         "data": [
          {
           "marker": {
            "opacity": 0.5,
            "size": [
             180,
             140,
             100
            ],
            "sizemode": "area",
            "sizeref": 0,
            "symbol": 0
           },
           "mode": "markers",
           "name": "Dilated Pupil",
           "text": [
            " Minutes: 21.382<br>Duration: 0",
            " Minutes: 21.458<br>Duration: 0",
            " Minutes: 21.468<br>Duration: 0"
           ],
           "type": "scatter",
           "x": [
            124,
            215,
            92
           ],
           "y": [
            311,
            187,
            507
           ]
          },
          {
           "marker": {
            "opacity": 0.5,
            "size": [
             140,
             160,
             160,
             120,
             439,
             100,
             120,
             219,
             140,
             120,
             120,
             100,
             100,
             100,
             419,
             459,
             159,
             100,
             159,
             259,
             159
            ],
            "sizemode": "area",
            "sizeref": 0,
            "symbol": 0
           },
           "mode": "markers",
           "name": "Squeezed Pupil ",
           "text": [
            " Minutes: 21.251<br>Duration: 0",
            " Minutes: 21.254<br>Duration: 0",
            " Minutes: 21.27<br>Duration: 0",
            " Minutes: 21.278<br>Duration: 0",
            " Minutes: 21.283<br>Duration: 0",
            " Minutes: 21.29<br>Duration: 0",
            " Minutes: 21.294<br>Duration: 0",
            " Minutes: 21.304<br>Duration: 0",
            " Minutes: 21.315<br>Duration: 0",
            " Minutes: 21.318<br>Duration: 0",
            " Minutes: 21.323<br>Duration: 0",
            " Minutes: 21.358<br>Duration: 0",
            " Minutes: 21.39<br>Duration: 0",
            " Minutes: 21.392<br>Duration: 0",
            " Minutes: 21.397<br>Duration: 0",
            " Minutes: 21.406<br>Duration: 0",
            " Minutes: 21.414<br>Duration: 0",
            " Minutes: 21.427<br>Duration: 0",
            " Minutes: 21.43<br>Duration: 0",
            " Minutes: 21.46<br>Duration: 0",
            " Minutes: 21.497<br>Duration: 0"
           ],
           "type": "scatter",
           "x": [
            18,
            58,
            43,
            674,
            829,
            837,
            847,
            823,
            699,
            693,
            670,
            287,
            65,
            39,
            337,
            226,
            256,
            206,
            152,
            238,
            286
           ],
           "y": [
            481,
            498,
            441,
            463,
            405,
            405,
            391,
            400,
            488,
            472,
            487,
            179,
            275,
            253,
            226,
            221,
            229,
            189,
            151,
            181,
            181
           ]
          },
          {
           "marker": {
            "size": 10,
            "sizemode": "area",
            "sizeref": 1,
            "symbol": 207
           },
           "mode": "markers",
           "name": "LMouseButton",
           "text": [
            " Minute: 21.25",
            " Minute: 21.261",
            " Minute: 21.272",
            " Minute: 21.293",
            " Minute: 21.304",
            " Minute: 21.329",
            " Minute: 21.333",
            " Minute: 21.339",
            " Minute: 21.362"
           ],
           "type": "scatter",
           "x": [
            26,
            26,
            50,
            844,
            834,
            647,
            656,
            656,
            423
           ],
           "y": [
            486,
            485,
            450,
            437,
            450,
            494,
            493,
            493,
            252
           ]
          }
         ],
         "name": "21.5"
        },
        {
         "data": [
          {
           "marker": {
            "opacity": 0.5,
            "size": [
             319,
             199,
             259,
             339,
             120,
             100,
             160,
             299,
             100,
             140,
             259,
             179,
             419,
             219,
             219
            ],
            "sizemode": "area",
            "sizeref": 0,
            "symbol": 0
           },
           "mode": "markers",
           "name": "Dilated Pupil",
           "text": [
            " Minutes: 21.506<br>Duration: 0",
            " Minutes: 21.576<br>Duration: 0",
            " Minutes: 21.616<br>Duration: 0",
            " Minutes: 21.622<br>Duration: 0",
            " Minutes: 21.629<br>Duration: 0",
            " Minutes: 21.632<br>Duration: 0",
            " Minutes: 21.647<br>Duration: 0",
            " Minutes: 21.654<br>Duration: 0",
            " Minutes: 21.679<br>Duration: 0",
            " Minutes: 21.686<br>Duration: 0",
            " Minutes: 21.688<br>Duration: 0",
            " Minutes: 21.694<br>Duration: 0",
            " Minutes: 21.698<br>Duration: 0",
            " Minutes: 21.708<br>Duration: 0",
            " Minutes: 21.738<br>Duration: 0"
           ],
           "type": "scatter",
           "x": [
            287,
            114,
            48,
            62,
            73,
            96,
            150,
            40,
            53,
            99,
            98,
            145,
            159,
            163,
            447
           ],
           "y": [
            196,
            205,
            227,
            210,
            206,
            194,
            216,
            200,
            222,
            226,
            233,
            232,
            228,
            229,
            333
           ]
          },
          {
           "marker": {
            "opacity": 0.5,
            "size": [
             179,
             159,
             219,
             698,
             140,
             100,
             239
            ],
            "sizemode": "area",
            "sizeref": 0,
            "symbol": 0
           },
           "mode": "markers",
           "name": "Squeezed Pupil ",
           "text": [
            " Minutes: 21.516<br>Duration: 0",
            " Minutes: 21.521<br>Duration: 0",
            " Minutes: 21.526<br>Duration: 0",
            " Minutes: 21.533<br>Duration: 0",
            " Minutes: 21.545<br>Duration: 0",
            " Minutes: 21.651<br>Duration: 0",
            " Minutes: 21.732<br>Duration: 0"
           ],
           "type": "scatter",
           "x": [
            415,
            467,
            651,
            282,
            255,
            139,
            52
           ],
           "y": [
            219,
            229,
            270,
            235,
            191,
            203,
            247
           ]
          },
          {
           "marker": {
            "size": 10,
            "sizemode": "area",
            "sizeref": 1,
            "symbol": 207
           },
           "mode": "markers",
           "name": "LMouseButton",
           "text": [],
           "type": "scatter",
           "x": [],
           "y": []
          }
         ],
         "name": "21.75"
        },
        {
         "data": [
          {
           "marker": {
            "opacity": 0.5,
            "size": [
             139,
             139,
             100,
             419,
             439,
             179,
             100,
             179,
             159,
             279,
             439
            ],
            "sizemode": "area",
            "sizeref": 0,
            "symbol": 0
           },
           "mode": "markers",
           "name": "Dilated Pupil",
           "text": [
            " Minutes: 21.762<br>Duration: 0",
            " Minutes: 21.834<br>Duration: 0",
            " Minutes: 21.853<br>Duration: 0",
            " Minutes: 21.856<br>Duration: 0",
            " Minutes: 21.864<br>Duration: 0",
            " Minutes: 21.872<br>Duration: 0",
            " Minutes: 21.88<br>Duration: 0",
            " Minutes: 21.885<br>Duration: 0",
            " Minutes: 21.889<br>Duration: 0",
            " Minutes: 21.892<br>Duration: 0",
            " Minutes: 21.897<br>Duration: 0"
           ],
           "type": "scatter",
           "x": [
            84,
            1107,
            558,
            565,
            318,
            239,
            121,
            96,
            94,
            140,
            277
           ],
           "y": [
            275,
            813,
            284,
            163,
            156,
            232,
            195,
            255,
            246,
            323,
            210
           ]
          },
          {
           "marker": {
            "opacity": 0.5,
            "size": [
             259
            ],
            "sizemode": "area",
            "sizeref": 0,
            "symbol": 0
           },
           "mode": "markers",
           "name": "Squeezed Pupil ",
           "text": [
            " Minutes: 21.823<br>Duration: 0"
           ],
           "type": "scatter",
           "x": [
            708
           ],
           "y": [
            473
           ]
          },
          {
           "marker": {
            "size": 10,
            "sizemode": "area",
            "sizeref": 1,
            "symbol": 207
           },
           "mode": "markers",
           "name": "LMouseButton",
           "text": [],
           "type": "scatter",
           "x": [],
           "y": []
          }
         ],
         "name": "22.0"
        },
        {
         "data": [
          {
           "marker": {
            "opacity": 0.5,
            "size": [],
            "sizemode": "area",
            "sizeref": 0,
            "symbol": 0
           },
           "mode": "markers",
           "name": "Dilated Pupil",
           "text": [],
           "type": "scatter",
           "x": [],
           "y": []
          },
          {
           "marker": {
            "opacity": 0.5,
            "size": [],
            "sizemode": "area",
            "sizeref": 0,
            "symbol": 0
           },
           "mode": "markers",
           "name": "Squeezed Pupil ",
           "text": [],
           "type": "scatter",
           "x": [],
           "y": []
          },
          {
           "marker": {
            "size": 10,
            "sizemode": "area",
            "sizeref": 1,
            "symbol": 207
           },
           "mode": "markers",
           "name": "LMouseButton",
           "text": [],
           "type": "scatter",
           "x": [],
           "y": []
          }
         ],
         "name": "22.25"
        },
        {
         "data": [
          {
           "marker": {
            "opacity": 0.5,
            "size": [],
            "sizemode": "area",
            "sizeref": 0,
            "symbol": 0
           },
           "mode": "markers",
           "name": "Dilated Pupil",
           "text": [],
           "type": "scatter",
           "x": [],
           "y": []
          },
          {
           "marker": {
            "opacity": 0.5,
            "size": [],
            "sizemode": "area",
            "sizeref": 0,
            "symbol": 0
           },
           "mode": "markers",
           "name": "Squeezed Pupil ",
           "text": [],
           "type": "scatter",
           "x": [],
           "y": []
          },
          {
           "marker": {
            "size": 10,
            "sizemode": "area",
            "sizeref": 1,
            "symbol": 207
           },
           "mode": "markers",
           "name": "LMouseButton",
           "text": [],
           "type": "scatter",
           "x": [],
           "y": []
          }
         ],
         "name": "22.5"
        },
        {
         "data": [
          {
           "marker": {
            "opacity": 0.5,
            "size": [],
            "sizemode": "area",
            "sizeref": 0,
            "symbol": 0
           },
           "mode": "markers",
           "name": "Dilated Pupil",
           "text": [],
           "type": "scatter",
           "x": [],
           "y": []
          },
          {
           "marker": {
            "opacity": 0.5,
            "size": [],
            "sizemode": "area",
            "sizeref": 0,
            "symbol": 0
           },
           "mode": "markers",
           "name": "Squeezed Pupil ",
           "text": [],
           "type": "scatter",
           "x": [],
           "y": []
          },
          {
           "marker": {
            "size": 10,
            "sizemode": "area",
            "sizeref": 1,
            "symbol": 207
           },
           "mode": "markers",
           "name": "LMouseButton",
           "text": [],
           "type": "scatter",
           "x": [],
           "y": []
          }
         ],
         "name": "22.75"
        },
        {
         "data": [
          {
           "marker": {
            "opacity": 0.5,
            "size": [],
            "sizemode": "area",
            "sizeref": 0,
            "symbol": 0
           },
           "mode": "markers",
           "name": "Dilated Pupil",
           "text": [],
           "type": "scatter",
           "x": [],
           "y": []
          },
          {
           "marker": {
            "opacity": 0.5,
            "size": [],
            "sizemode": "area",
            "sizeref": 0,
            "symbol": 0
           },
           "mode": "markers",
           "name": "Squeezed Pupil ",
           "text": [],
           "type": "scatter",
           "x": [],
           "y": []
          },
          {
           "marker": {
            "size": 10,
            "sizemode": "area",
            "sizeref": 1,
            "symbol": 207
           },
           "mode": "markers",
           "name": "LMouseButton",
           "text": [],
           "type": "scatter",
           "x": [],
           "y": []
          }
         ],
         "name": "23.0"
        },
        {
         "data": [
          {
           "marker": {
            "opacity": 0.5,
            "size": [],
            "sizemode": "area",
            "sizeref": 0,
            "symbol": 0
           },
           "mode": "markers",
           "name": "Dilated Pupil",
           "text": [],
           "type": "scatter",
           "x": [],
           "y": []
          },
          {
           "marker": {
            "opacity": 0.5,
            "size": [],
            "sizemode": "area",
            "sizeref": 0,
            "symbol": 0
           },
           "mode": "markers",
           "name": "Squeezed Pupil ",
           "text": [],
           "type": "scatter",
           "x": [],
           "y": []
          },
          {
           "marker": {
            "size": 10,
            "sizemode": "area",
            "sizeref": 1,
            "symbol": 207
           },
           "mode": "markers",
           "name": "LMouseButton",
           "text": [],
           "type": "scatter",
           "x": [],
           "y": []
          }
         ],
         "name": "23.25"
        },
        {
         "data": [
          {
           "marker": {
            "opacity": 0.5,
            "size": [],
            "sizemode": "area",
            "sizeref": 0,
            "symbol": 0
           },
           "mode": "markers",
           "name": "Dilated Pupil",
           "text": [],
           "type": "scatter",
           "x": [],
           "y": []
          },
          {
           "marker": {
            "opacity": 0.5,
            "size": [],
            "sizemode": "area",
            "sizeref": 0,
            "symbol": 0
           },
           "mode": "markers",
           "name": "Squeezed Pupil ",
           "text": [],
           "type": "scatter",
           "x": [],
           "y": []
          },
          {
           "marker": {
            "size": 10,
            "sizemode": "area",
            "sizeref": 1,
            "symbol": 207
           },
           "mode": "markers",
           "name": "LMouseButton",
           "text": [],
           "type": "scatter",
           "x": [],
           "y": []
          }
         ],
         "name": "23.5"
        },
        {
         "data": [
          {
           "marker": {
            "opacity": 0.5,
            "size": [],
            "sizemode": "area",
            "sizeref": 0,
            "symbol": 0
           },
           "mode": "markers",
           "name": "Dilated Pupil",
           "text": [],
           "type": "scatter",
           "x": [],
           "y": []
          },
          {
           "marker": {
            "opacity": 0.5,
            "size": [],
            "sizemode": "area",
            "sizeref": 0,
            "symbol": 0
           },
           "mode": "markers",
           "name": "Squeezed Pupil ",
           "text": [],
           "type": "scatter",
           "x": [],
           "y": []
          },
          {
           "marker": {
            "size": 10,
            "sizemode": "area",
            "sizeref": 1,
            "symbol": 207
           },
           "mode": "markers",
           "name": "LMouseButton",
           "text": [],
           "type": "scatter",
           "x": [],
           "y": []
          }
         ],
         "name": "23.75"
        },
        {
         "data": [
          {
           "marker": {
            "opacity": 0.5,
            "size": [],
            "sizemode": "area",
            "sizeref": 0,
            "symbol": 0
           },
           "mode": "markers",
           "name": "Dilated Pupil",
           "text": [],
           "type": "scatter",
           "x": [],
           "y": []
          },
          {
           "marker": {
            "opacity": 0.5,
            "size": [],
            "sizemode": "area",
            "sizeref": 0,
            "symbol": 0
           },
           "mode": "markers",
           "name": "Squeezed Pupil ",
           "text": [],
           "type": "scatter",
           "x": [],
           "y": []
          },
          {
           "marker": {
            "size": 10,
            "sizemode": "area",
            "sizeref": 1,
            "symbol": 207
           },
           "mode": "markers",
           "name": "LMouseButton",
           "text": [],
           "type": "scatter",
           "x": [],
           "y": []
          }
         ],
         "name": "24.0"
        },
        {
         "data": [
          {
           "marker": {
            "opacity": 0.5,
            "size": [],
            "sizemode": "area",
            "sizeref": 0,
            "symbol": 0
           },
           "mode": "markers",
           "name": "Dilated Pupil",
           "text": [],
           "type": "scatter",
           "x": [],
           "y": []
          },
          {
           "marker": {
            "opacity": 0.5,
            "size": [],
            "sizemode": "area",
            "sizeref": 0,
            "symbol": 0
           },
           "mode": "markers",
           "name": "Squeezed Pupil ",
           "text": [],
           "type": "scatter",
           "x": [],
           "y": []
          },
          {
           "marker": {
            "size": 10,
            "sizemode": "area",
            "sizeref": 1,
            "symbol": 207
           },
           "mode": "markers",
           "name": "LMouseButton",
           "text": [],
           "type": "scatter",
           "x": [],
           "y": []
          }
         ],
         "name": "24.25"
        },
        {
         "data": [
          {
           "marker": {
            "opacity": 0.5,
            "size": [],
            "sizemode": "area",
            "sizeref": 0,
            "symbol": 0
           },
           "mode": "markers",
           "name": "Dilated Pupil",
           "text": [],
           "type": "scatter",
           "x": [],
           "y": []
          },
          {
           "marker": {
            "opacity": 0.5,
            "size": [],
            "sizemode": "area",
            "sizeref": 0,
            "symbol": 0
           },
           "mode": "markers",
           "name": "Squeezed Pupil ",
           "text": [],
           "type": "scatter",
           "x": [],
           "y": []
          },
          {
           "marker": {
            "size": 10,
            "sizemode": "area",
            "sizeref": 1,
            "symbol": 207
           },
           "mode": "markers",
           "name": "LMouseButton",
           "text": [],
           "type": "scatter",
           "x": [],
           "y": []
          }
         ],
         "name": "24.5"
        },
        {
         "data": [
          {
           "marker": {
            "opacity": 0.5,
            "size": [],
            "sizemode": "area",
            "sizeref": 0,
            "symbol": 0
           },
           "mode": "markers",
           "name": "Dilated Pupil",
           "text": [],
           "type": "scatter",
           "x": [],
           "y": []
          },
          {
           "marker": {
            "opacity": 0.5,
            "size": [],
            "sizemode": "area",
            "sizeref": 0,
            "symbol": 0
           },
           "mode": "markers",
           "name": "Squeezed Pupil ",
           "text": [],
           "type": "scatter",
           "x": [],
           "y": []
          },
          {
           "marker": {
            "size": 10,
            "sizemode": "area",
            "sizeref": 1,
            "symbol": 207
           },
           "mode": "markers",
           "name": "LMouseButton",
           "text": [],
           "type": "scatter",
           "x": [],
           "y": []
          }
         ],
         "name": "24.75"
        },
        {
         "data": [
          {
           "marker": {
            "opacity": 0.5,
            "size": [],
            "sizemode": "area",
            "sizeref": 0,
            "symbol": 0
           },
           "mode": "markers",
           "name": "Dilated Pupil",
           "text": [],
           "type": "scatter",
           "x": [],
           "y": []
          },
          {
           "marker": {
            "opacity": 0.5,
            "size": [],
            "sizemode": "area",
            "sizeref": 0,
            "symbol": 0
           },
           "mode": "markers",
           "name": "Squeezed Pupil ",
           "text": [],
           "type": "scatter",
           "x": [],
           "y": []
          },
          {
           "marker": {
            "size": 10,
            "sizemode": "area",
            "sizeref": 1,
            "symbol": 207
           },
           "mode": "markers",
           "name": "LMouseButton",
           "text": [],
           "type": "scatter",
           "x": [],
           "y": []
          }
         ],
         "name": "25.0"
        },
        {
         "data": [
          {
           "marker": {
            "opacity": 0.5,
            "size": [],
            "sizemode": "area",
            "sizeref": 0,
            "symbol": 0
           },
           "mode": "markers",
           "name": "Dilated Pupil",
           "text": [],
           "type": "scatter",
           "x": [],
           "y": []
          },
          {
           "marker": {
            "opacity": 0.5,
            "size": [],
            "sizemode": "area",
            "sizeref": 0,
            "symbol": 0
           },
           "mode": "markers",
           "name": "Squeezed Pupil ",
           "text": [],
           "type": "scatter",
           "x": [],
           "y": []
          },
          {
           "marker": {
            "size": 10,
            "sizemode": "area",
            "sizeref": 1,
            "symbol": 207
           },
           "mode": "markers",
           "name": "LMouseButton",
           "text": [],
           "type": "scatter",
           "x": [],
           "y": []
          }
         ],
         "name": "25.25"
        },
        {
         "data": [
          {
           "marker": {
            "opacity": 0.5,
            "size": [],
            "sizemode": "area",
            "sizeref": 0,
            "symbol": 0
           },
           "mode": "markers",
           "name": "Dilated Pupil",
           "text": [],
           "type": "scatter",
           "x": [],
           "y": []
          },
          {
           "marker": {
            "opacity": 0.5,
            "size": [],
            "sizemode": "area",
            "sizeref": 0,
            "symbol": 0
           },
           "mode": "markers",
           "name": "Squeezed Pupil ",
           "text": [],
           "type": "scatter",
           "x": [],
           "y": []
          },
          {
           "marker": {
            "size": 10,
            "sizemode": "area",
            "sizeref": 1,
            "symbol": 207
           },
           "mode": "markers",
           "name": "LMouseButton",
           "text": [],
           "type": "scatter",
           "x": [],
           "y": []
          }
         ],
         "name": "25.5"
        },
        {
         "data": [
          {
           "marker": {
            "opacity": 0.5,
            "size": [],
            "sizemode": "area",
            "sizeref": 0,
            "symbol": 0
           },
           "mode": "markers",
           "name": "Dilated Pupil",
           "text": [],
           "type": "scatter",
           "x": [],
           "y": []
          },
          {
           "marker": {
            "opacity": 0.5,
            "size": [],
            "sizemode": "area",
            "sizeref": 0,
            "symbol": 0
           },
           "mode": "markers",
           "name": "Squeezed Pupil ",
           "text": [],
           "type": "scatter",
           "x": [],
           "y": []
          },
          {
           "marker": {
            "size": 10,
            "sizemode": "area",
            "sizeref": 1,
            "symbol": 207
           },
           "mode": "markers",
           "name": "LMouseButton",
           "text": [],
           "type": "scatter",
           "x": [],
           "y": []
          }
         ],
         "name": "25.75"
        },
        {
         "data": [
          {
           "marker": {
            "opacity": 0.5,
            "size": [],
            "sizemode": "area",
            "sizeref": 0,
            "symbol": 0
           },
           "mode": "markers",
           "name": "Dilated Pupil",
           "text": [],
           "type": "scatter",
           "x": [],
           "y": []
          },
          {
           "marker": {
            "opacity": 0.5,
            "size": [],
            "sizemode": "area",
            "sizeref": 0,
            "symbol": 0
           },
           "mode": "markers",
           "name": "Squeezed Pupil ",
           "text": [],
           "type": "scatter",
           "x": [],
           "y": []
          },
          {
           "marker": {
            "size": 10,
            "sizemode": "area",
            "sizeref": 1,
            "symbol": 207
           },
           "mode": "markers",
           "name": "LMouseButton",
           "text": [],
           "type": "scatter",
           "x": [],
           "y": []
          }
         ],
         "name": "26.0"
        },
        {
         "data": [
          {
           "marker": {
            "opacity": 0.5,
            "size": [],
            "sizemode": "area",
            "sizeref": 0,
            "symbol": 0
           },
           "mode": "markers",
           "name": "Dilated Pupil",
           "text": [],
           "type": "scatter",
           "x": [],
           "y": []
          },
          {
           "marker": {
            "opacity": 0.5,
            "size": [],
            "sizemode": "area",
            "sizeref": 0,
            "symbol": 0
           },
           "mode": "markers",
           "name": "Squeezed Pupil ",
           "text": [],
           "type": "scatter",
           "x": [],
           "y": []
          },
          {
           "marker": {
            "size": 10,
            "sizemode": "area",
            "sizeref": 1,
            "symbol": 207
           },
           "mode": "markers",
           "name": "LMouseButton",
           "text": [],
           "type": "scatter",
           "x": [],
           "y": []
          }
         ],
         "name": "26.25"
        },
        {
         "data": [
          {
           "marker": {
            "opacity": 0.5,
            "size": [],
            "sizemode": "area",
            "sizeref": 0,
            "symbol": 0
           },
           "mode": "markers",
           "name": "Dilated Pupil",
           "text": [],
           "type": "scatter",
           "x": [],
           "y": []
          },
          {
           "marker": {
            "opacity": 0.5,
            "size": [],
            "sizemode": "area",
            "sizeref": 0,
            "symbol": 0
           },
           "mode": "markers",
           "name": "Squeezed Pupil ",
           "text": [],
           "type": "scatter",
           "x": [],
           "y": []
          },
          {
           "marker": {
            "size": 10,
            "sizemode": "area",
            "sizeref": 1,
            "symbol": 207
           },
           "mode": "markers",
           "name": "LMouseButton",
           "text": [],
           "type": "scatter",
           "x": [],
           "y": []
          }
         ],
         "name": "26.5"
        },
        {
         "data": [
          {
           "marker": {
            "opacity": 0.5,
            "size": [],
            "sizemode": "area",
            "sizeref": 0,
            "symbol": 0
           },
           "mode": "markers",
           "name": "Dilated Pupil",
           "text": [],
           "type": "scatter",
           "x": [],
           "y": []
          },
          {
           "marker": {
            "opacity": 0.5,
            "size": [],
            "sizemode": "area",
            "sizeref": 0,
            "symbol": 0
           },
           "mode": "markers",
           "name": "Squeezed Pupil ",
           "text": [],
           "type": "scatter",
           "x": [],
           "y": []
          },
          {
           "marker": {
            "size": 10,
            "sizemode": "area",
            "sizeref": 1,
            "symbol": 207
           },
           "mode": "markers",
           "name": "LMouseButton",
           "text": [],
           "type": "scatter",
           "x": [],
           "y": []
          }
         ],
         "name": "26.75"
        },
        {
         "data": [
          {
           "marker": {
            "opacity": 0.5,
            "size": [],
            "sizemode": "area",
            "sizeref": 0,
            "symbol": 0
           },
           "mode": "markers",
           "name": "Dilated Pupil",
           "text": [],
           "type": "scatter",
           "x": [],
           "y": []
          },
          {
           "marker": {
            "opacity": 0.5,
            "size": [],
            "sizemode": "area",
            "sizeref": 0,
            "symbol": 0
           },
           "mode": "markers",
           "name": "Squeezed Pupil ",
           "text": [],
           "type": "scatter",
           "x": [],
           "y": []
          },
          {
           "marker": {
            "size": 10,
            "sizemode": "area",
            "sizeref": 1,
            "symbol": 207
           },
           "mode": "markers",
           "name": "LMouseButton",
           "text": [],
           "type": "scatter",
           "x": [],
           "y": []
          }
         ],
         "name": "27.0"
        },
        {
         "data": [
          {
           "marker": {
            "opacity": 0.5,
            "size": [],
            "sizemode": "area",
            "sizeref": 0,
            "symbol": 0
           },
           "mode": "markers",
           "name": "Dilated Pupil",
           "text": [],
           "type": "scatter",
           "x": [],
           "y": []
          },
          {
           "marker": {
            "opacity": 0.5,
            "size": [],
            "sizemode": "area",
            "sizeref": 0,
            "symbol": 0
           },
           "mode": "markers",
           "name": "Squeezed Pupil ",
           "text": [],
           "type": "scatter",
           "x": [],
           "y": []
          },
          {
           "marker": {
            "size": 10,
            "sizemode": "area",
            "sizeref": 1,
            "symbol": 207
           },
           "mode": "markers",
           "name": "LMouseButton",
           "text": [],
           "type": "scatter",
           "x": [],
           "y": []
          }
         ],
         "name": "27.25"
        }
       ],
       "layout": {
        "colorway": [
         "#DDA0DD",
         "#4B0082",
         "#ff0000",
         "#0000ff"
        ],
        "height": 768,
        "hovermode": "closest",
        "images": [
         {
          "layer": "below",
          "opacity": 1,
          "sizex": 1,
          "sizey": 1,
          "sizing": "stretch",
          "source": "Capture1.jpg",
          "x": 0,
          "xref": "paper",
          "y": 1,
          "yref": "paper"
         }
        ],
        "sliders": [
         {
          "active": 0,
          "currentvalue": {
           "font": {
            "size": 20
           },
           "prefix": "Minute:",
           "visible": true,
           "xanchor": "right"
          },
          "len": 0.9,
          "pad": {
           "b": 10,
           "t": 50
          },
          "steps": [
           {
            "args": [
             [
              "0.25"
             ],
             {
              "frame": {
               "duration": 300,
               "redraw": false
              },
              "mode": "immediate",
              "transition": {
               "duration": 300
              }
             }
            ],
            "label": "0.25",
            "method": "animate"
           },
           {
            "args": [
             [
              "0.5"
             ],
             {
              "frame": {
               "duration": 300,
               "redraw": false
              },
              "mode": "immediate",
              "transition": {
               "duration": 300
              }
             }
            ],
            "label": "0.5",
            "method": "animate"
           },
           {
            "args": [
             [
              "0.75"
             ],
             {
              "frame": {
               "duration": 300,
               "redraw": false
              },
              "mode": "immediate",
              "transition": {
               "duration": 300
              }
             }
            ],
            "label": "0.75",
            "method": "animate"
           },
           {
            "args": [
             [
              "1.0"
             ],
             {
              "frame": {
               "duration": 300,
               "redraw": false
              },
              "mode": "immediate",
              "transition": {
               "duration": 300
              }
             }
            ],
            "label": "1.0",
            "method": "animate"
           },
           {
            "args": [
             [
              "1.25"
             ],
             {
              "frame": {
               "duration": 300,
               "redraw": false
              },
              "mode": "immediate",
              "transition": {
               "duration": 300
              }
             }
            ],
            "label": "1.25",
            "method": "animate"
           },
           {
            "args": [
             [
              "1.5"
             ],
             {
              "frame": {
               "duration": 300,
               "redraw": false
              },
              "mode": "immediate",
              "transition": {
               "duration": 300
              }
             }
            ],
            "label": "1.5",
            "method": "animate"
           },
           {
            "args": [
             [
              "1.75"
             ],
             {
              "frame": {
               "duration": 300,
               "redraw": false
              },
              "mode": "immediate",
              "transition": {
               "duration": 300
              }
             }
            ],
            "label": "1.75",
            "method": "animate"
           },
           {
            "args": [
             [
              "2.0"
             ],
             {
              "frame": {
               "duration": 300,
               "redraw": false
              },
              "mode": "immediate",
              "transition": {
               "duration": 300
              }
             }
            ],
            "label": "2.0",
            "method": "animate"
           },
           {
            "args": [
             [
              "2.25"
             ],
             {
              "frame": {
               "duration": 300,
               "redraw": false
              },
              "mode": "immediate",
              "transition": {
               "duration": 300
              }
             }
            ],
            "label": "2.25",
            "method": "animate"
           },
           {
            "args": [
             [
              "2.5"
             ],
             {
              "frame": {
               "duration": 300,
               "redraw": false
              },
              "mode": "immediate",
              "transition": {
               "duration": 300
              }
             }
            ],
            "label": "2.5",
            "method": "animate"
           },
           {
            "args": [
             [
              "2.75"
             ],
             {
              "frame": {
               "duration": 300,
               "redraw": false
              },
              "mode": "immediate",
              "transition": {
               "duration": 300
              }
             }
            ],
            "label": "2.75",
            "method": "animate"
           },
           {
            "args": [
             [
              "3.0"
             ],
             {
              "frame": {
               "duration": 300,
               "redraw": false
              },
              "mode": "immediate",
              "transition": {
               "duration": 300
              }
             }
            ],
            "label": "3.0",
            "method": "animate"
           },
           {
            "args": [
             [
              "3.25"
             ],
             {
              "frame": {
               "duration": 300,
               "redraw": false
              },
              "mode": "immediate",
              "transition": {
               "duration": 300
              }
             }
            ],
            "label": "3.25",
            "method": "animate"
           },
           {
            "args": [
             [
              "3.5"
             ],
             {
              "frame": {
               "duration": 300,
               "redraw": false
              },
              "mode": "immediate",
              "transition": {
               "duration": 300
              }
             }
            ],
            "label": "3.5",
            "method": "animate"
           },
           {
            "args": [
             [
              "3.75"
             ],
             {
              "frame": {
               "duration": 300,
               "redraw": false
              },
              "mode": "immediate",
              "transition": {
               "duration": 300
              }
             }
            ],
            "label": "3.75",
            "method": "animate"
           },
           {
            "args": [
             [
              "4.0"
             ],
             {
              "frame": {
               "duration": 300,
               "redraw": false
              },
              "mode": "immediate",
              "transition": {
               "duration": 300
              }
             }
            ],
            "label": "4.0",
            "method": "animate"
           },
           {
            "args": [
             [
              "4.25"
             ],
             {
              "frame": {
               "duration": 300,
               "redraw": false
              },
              "mode": "immediate",
              "transition": {
               "duration": 300
              }
             }
            ],
            "label": "4.25",
            "method": "animate"
           },
           {
            "args": [
             [
              "4.5"
             ],
             {
              "frame": {
               "duration": 300,
               "redraw": false
              },
              "mode": "immediate",
              "transition": {
               "duration": 300
              }
             }
            ],
            "label": "4.5",
            "method": "animate"
           },
           {
            "args": [
             [
              "4.75"
             ],
             {
              "frame": {
               "duration": 300,
               "redraw": false
              },
              "mode": "immediate",
              "transition": {
               "duration": 300
              }
             }
            ],
            "label": "4.75",
            "method": "animate"
           },
           {
            "args": [
             [
              "5.0"
             ],
             {
              "frame": {
               "duration": 300,
               "redraw": false
              },
              "mode": "immediate",
              "transition": {
               "duration": 300
              }
             }
            ],
            "label": "5.0",
            "method": "animate"
           },
           {
            "args": [
             [
              "5.25"
             ],
             {
              "frame": {
               "duration": 300,
               "redraw": false
              },
              "mode": "immediate",
              "transition": {
               "duration": 300
              }
             }
            ],
            "label": "5.25",
            "method": "animate"
           },
           {
            "args": [
             [
              "5.5"
             ],
             {
              "frame": {
               "duration": 300,
               "redraw": false
              },
              "mode": "immediate",
              "transition": {
               "duration": 300
              }
             }
            ],
            "label": "5.5",
            "method": "animate"
           },
           {
            "args": [
             [
              "5.75"
             ],
             {
              "frame": {
               "duration": 300,
               "redraw": false
              },
              "mode": "immediate",
              "transition": {
               "duration": 300
              }
             }
            ],
            "label": "5.75",
            "method": "animate"
           },
           {
            "args": [
             [
              "6.0"
             ],
             {
              "frame": {
               "duration": 300,
               "redraw": false
              },
              "mode": "immediate",
              "transition": {
               "duration": 300
              }
             }
            ],
            "label": "6.0",
            "method": "animate"
           },
           {
            "args": [
             [
              "6.25"
             ],
             {
              "frame": {
               "duration": 300,
               "redraw": false
              },
              "mode": "immediate",
              "transition": {
               "duration": 300
              }
             }
            ],
            "label": "6.25",
            "method": "animate"
           },
           {
            "args": [
             [
              "6.5"
             ],
             {
              "frame": {
               "duration": 300,
               "redraw": false
              },
              "mode": "immediate",
              "transition": {
               "duration": 300
              }
             }
            ],
            "label": "6.5",
            "method": "animate"
           },
           {
            "args": [
             [
              "6.75"
             ],
             {
              "frame": {
               "duration": 300,
               "redraw": false
              },
              "mode": "immediate",
              "transition": {
               "duration": 300
              }
             }
            ],
            "label": "6.75",
            "method": "animate"
           },
           {
            "args": [
             [
              "7.0"
             ],
             {
              "frame": {
               "duration": 300,
               "redraw": false
              },
              "mode": "immediate",
              "transition": {
               "duration": 300
              }
             }
            ],
            "label": "7.0",
            "method": "animate"
           },
           {
            "args": [
             [
              "7.25"
             ],
             {
              "frame": {
               "duration": 300,
               "redraw": false
              },
              "mode": "immediate",
              "transition": {
               "duration": 300
              }
             }
            ],
            "label": "7.25",
            "method": "animate"
           },
           {
            "args": [
             [
              "7.5"
             ],
             {
              "frame": {
               "duration": 300,
               "redraw": false
              },
              "mode": "immediate",
              "transition": {
               "duration": 300
              }
             }
            ],
            "label": "7.5",
            "method": "animate"
           },
           {
            "args": [
             [
              "7.75"
             ],
             {
              "frame": {
               "duration": 300,
               "redraw": false
              },
              "mode": "immediate",
              "transition": {
               "duration": 300
              }
             }
            ],
            "label": "7.75",
            "method": "animate"
           },
           {
            "args": [
             [
              "8.0"
             ],
             {
              "frame": {
               "duration": 300,
               "redraw": false
              },
              "mode": "immediate",
              "transition": {
               "duration": 300
              }
             }
            ],
            "label": "8.0",
            "method": "animate"
           },
           {
            "args": [
             [
              "8.25"
             ],
             {
              "frame": {
               "duration": 300,
               "redraw": false
              },
              "mode": "immediate",
              "transition": {
               "duration": 300
              }
             }
            ],
            "label": "8.25",
            "method": "animate"
           },
           {
            "args": [
             [
              "8.5"
             ],
             {
              "frame": {
               "duration": 300,
               "redraw": false
              },
              "mode": "immediate",
              "transition": {
               "duration": 300
              }
             }
            ],
            "label": "8.5",
            "method": "animate"
           },
           {
            "args": [
             [
              "8.75"
             ],
             {
              "frame": {
               "duration": 300,
               "redraw": false
              },
              "mode": "immediate",
              "transition": {
               "duration": 300
              }
             }
            ],
            "label": "8.75",
            "method": "animate"
           },
           {
            "args": [
             [
              "9.0"
             ],
             {
              "frame": {
               "duration": 300,
               "redraw": false
              },
              "mode": "immediate",
              "transition": {
               "duration": 300
              }
             }
            ],
            "label": "9.0",
            "method": "animate"
           },
           {
            "args": [
             [
              "9.25"
             ],
             {
              "frame": {
               "duration": 300,
               "redraw": false
              },
              "mode": "immediate",
              "transition": {
               "duration": 300
              }
             }
            ],
            "label": "9.25",
            "method": "animate"
           },
           {
            "args": [
             [
              "9.5"
             ],
             {
              "frame": {
               "duration": 300,
               "redraw": false
              },
              "mode": "immediate",
              "transition": {
               "duration": 300
              }
             }
            ],
            "label": "9.5",
            "method": "animate"
           },
           {
            "args": [
             [
              "9.75"
             ],
             {
              "frame": {
               "duration": 300,
               "redraw": false
              },
              "mode": "immediate",
              "transition": {
               "duration": 300
              }
             }
            ],
            "label": "9.75",
            "method": "animate"
           },
           {
            "args": [
             [
              "10.0"
             ],
             {
              "frame": {
               "duration": 300,
               "redraw": false
              },
              "mode": "immediate",
              "transition": {
               "duration": 300
              }
             }
            ],
            "label": "10.0",
            "method": "animate"
           },
           {
            "args": [
             [
              "10.25"
             ],
             {
              "frame": {
               "duration": 300,
               "redraw": false
              },
              "mode": "immediate",
              "transition": {
               "duration": 300
              }
             }
            ],
            "label": "10.25",
            "method": "animate"
           },
           {
            "args": [
             [
              "10.5"
             ],
             {
              "frame": {
               "duration": 300,
               "redraw": false
              },
              "mode": "immediate",
              "transition": {
               "duration": 300
              }
             }
            ],
            "label": "10.5",
            "method": "animate"
           },
           {
            "args": [
             [
              "10.75"
             ],
             {
              "frame": {
               "duration": 300,
               "redraw": false
              },
              "mode": "immediate",
              "transition": {
               "duration": 300
              }
             }
            ],
            "label": "10.75",
            "method": "animate"
           },
           {
            "args": [
             [
              "11.0"
             ],
             {
              "frame": {
               "duration": 300,
               "redraw": false
              },
              "mode": "immediate",
              "transition": {
               "duration": 300
              }
             }
            ],
            "label": "11.0",
            "method": "animate"
           },
           {
            "args": [
             [
              "11.25"
             ],
             {
              "frame": {
               "duration": 300,
               "redraw": false
              },
              "mode": "immediate",
              "transition": {
               "duration": 300
              }
             }
            ],
            "label": "11.25",
            "method": "animate"
           },
           {
            "args": [
             [
              "11.5"
             ],
             {
              "frame": {
               "duration": 300,
               "redraw": false
              },
              "mode": "immediate",
              "transition": {
               "duration": 300
              }
             }
            ],
            "label": "11.5",
            "method": "animate"
           },
           {
            "args": [
             [
              "11.75"
             ],
             {
              "frame": {
               "duration": 300,
               "redraw": false
              },
              "mode": "immediate",
              "transition": {
               "duration": 300
              }
             }
            ],
            "label": "11.75",
            "method": "animate"
           },
           {
            "args": [
             [
              "12.0"
             ],
             {
              "frame": {
               "duration": 300,
               "redraw": false
              },
              "mode": "immediate",
              "transition": {
               "duration": 300
              }
             }
            ],
            "label": "12.0",
            "method": "animate"
           },
           {
            "args": [
             [
              "12.25"
             ],
             {
              "frame": {
               "duration": 300,
               "redraw": false
              },
              "mode": "immediate",
              "transition": {
               "duration": 300
              }
             }
            ],
            "label": "12.25",
            "method": "animate"
           },
           {
            "args": [
             [
              "12.5"
             ],
             {
              "frame": {
               "duration": 300,
               "redraw": false
              },
              "mode": "immediate",
              "transition": {
               "duration": 300
              }
             }
            ],
            "label": "12.5",
            "method": "animate"
           },
           {
            "args": [
             [
              "12.75"
             ],
             {
              "frame": {
               "duration": 300,
               "redraw": false
              },
              "mode": "immediate",
              "transition": {
               "duration": 300
              }
             }
            ],
            "label": "12.75",
            "method": "animate"
           },
           {
            "args": [
             [
              "13.0"
             ],
             {
              "frame": {
               "duration": 300,
               "redraw": false
              },
              "mode": "immediate",
              "transition": {
               "duration": 300
              }
             }
            ],
            "label": "13.0",
            "method": "animate"
           },
           {
            "args": [
             [
              "13.25"
             ],
             {
              "frame": {
               "duration": 300,
               "redraw": false
              },
              "mode": "immediate",
              "transition": {
               "duration": 300
              }
             }
            ],
            "label": "13.25",
            "method": "animate"
           },
           {
            "args": [
             [
              "13.5"
             ],
             {
              "frame": {
               "duration": 300,
               "redraw": false
              },
              "mode": "immediate",
              "transition": {
               "duration": 300
              }
             }
            ],
            "label": "13.5",
            "method": "animate"
           },
           {
            "args": [
             [
              "13.75"
             ],
             {
              "frame": {
               "duration": 300,
               "redraw": false
              },
              "mode": "immediate",
              "transition": {
               "duration": 300
              }
             }
            ],
            "label": "13.75",
            "method": "animate"
           },
           {
            "args": [
             [
              "14.0"
             ],
             {
              "frame": {
               "duration": 300,
               "redraw": false
              },
              "mode": "immediate",
              "transition": {
               "duration": 300
              }
             }
            ],
            "label": "14.0",
            "method": "animate"
           },
           {
            "args": [
             [
              "14.25"
             ],
             {
              "frame": {
               "duration": 300,
               "redraw": false
              },
              "mode": "immediate",
              "transition": {
               "duration": 300
              }
             }
            ],
            "label": "14.25",
            "method": "animate"
           },
           {
            "args": [
             [
              "14.5"
             ],
             {
              "frame": {
               "duration": 300,
               "redraw": false
              },
              "mode": "immediate",
              "transition": {
               "duration": 300
              }
             }
            ],
            "label": "14.5",
            "method": "animate"
           },
           {
            "args": [
             [
              "14.75"
             ],
             {
              "frame": {
               "duration": 300,
               "redraw": false
              },
              "mode": "immediate",
              "transition": {
               "duration": 300
              }
             }
            ],
            "label": "14.75",
            "method": "animate"
           },
           {
            "args": [
             [
              "15.0"
             ],
             {
              "frame": {
               "duration": 300,
               "redraw": false
              },
              "mode": "immediate",
              "transition": {
               "duration": 300
              }
             }
            ],
            "label": "15.0",
            "method": "animate"
           },
           {
            "args": [
             [
              "15.25"
             ],
             {
              "frame": {
               "duration": 300,
               "redraw": false
              },
              "mode": "immediate",
              "transition": {
               "duration": 300
              }
             }
            ],
            "label": "15.25",
            "method": "animate"
           },
           {
            "args": [
             [
              "15.5"
             ],
             {
              "frame": {
               "duration": 300,
               "redraw": false
              },
              "mode": "immediate",
              "transition": {
               "duration": 300
              }
             }
            ],
            "label": "15.5",
            "method": "animate"
           },
           {
            "args": [
             [
              "15.75"
             ],
             {
              "frame": {
               "duration": 300,
               "redraw": false
              },
              "mode": "immediate",
              "transition": {
               "duration": 300
              }
             }
            ],
            "label": "15.75",
            "method": "animate"
           },
           {
            "args": [
             [
              "16.0"
             ],
             {
              "frame": {
               "duration": 300,
               "redraw": false
              },
              "mode": "immediate",
              "transition": {
               "duration": 300
              }
             }
            ],
            "label": "16.0",
            "method": "animate"
           },
           {
            "args": [
             [
              "16.25"
             ],
             {
              "frame": {
               "duration": 300,
               "redraw": false
              },
              "mode": "immediate",
              "transition": {
               "duration": 300
              }
             }
            ],
            "label": "16.25",
            "method": "animate"
           },
           {
            "args": [
             [
              "16.5"
             ],
             {
              "frame": {
               "duration": 300,
               "redraw": false
              },
              "mode": "immediate",
              "transition": {
               "duration": 300
              }
             }
            ],
            "label": "16.5",
            "method": "animate"
           },
           {
            "args": [
             [
              "16.75"
             ],
             {
              "frame": {
               "duration": 300,
               "redraw": false
              },
              "mode": "immediate",
              "transition": {
               "duration": 300
              }
             }
            ],
            "label": "16.75",
            "method": "animate"
           },
           {
            "args": [
             [
              "17.0"
             ],
             {
              "frame": {
               "duration": 300,
               "redraw": false
              },
              "mode": "immediate",
              "transition": {
               "duration": 300
              }
             }
            ],
            "label": "17.0",
            "method": "animate"
           },
           {
            "args": [
             [
              "17.25"
             ],
             {
              "frame": {
               "duration": 300,
               "redraw": false
              },
              "mode": "immediate",
              "transition": {
               "duration": 300
              }
             }
            ],
            "label": "17.25",
            "method": "animate"
           },
           {
            "args": [
             [
              "17.5"
             ],
             {
              "frame": {
               "duration": 300,
               "redraw": false
              },
              "mode": "immediate",
              "transition": {
               "duration": 300
              }
             }
            ],
            "label": "17.5",
            "method": "animate"
           },
           {
            "args": [
             [
              "17.75"
             ],
             {
              "frame": {
               "duration": 300,
               "redraw": false
              },
              "mode": "immediate",
              "transition": {
               "duration": 300
              }
             }
            ],
            "label": "17.75",
            "method": "animate"
           },
           {
            "args": [
             [
              "18.0"
             ],
             {
              "frame": {
               "duration": 300,
               "redraw": false
              },
              "mode": "immediate",
              "transition": {
               "duration": 300
              }
             }
            ],
            "label": "18.0",
            "method": "animate"
           },
           {
            "args": [
             [
              "18.25"
             ],
             {
              "frame": {
               "duration": 300,
               "redraw": false
              },
              "mode": "immediate",
              "transition": {
               "duration": 300
              }
             }
            ],
            "label": "18.25",
            "method": "animate"
           },
           {
            "args": [
             [
              "18.5"
             ],
             {
              "frame": {
               "duration": 300,
               "redraw": false
              },
              "mode": "immediate",
              "transition": {
               "duration": 300
              }
             }
            ],
            "label": "18.5",
            "method": "animate"
           },
           {
            "args": [
             [
              "18.75"
             ],
             {
              "frame": {
               "duration": 300,
               "redraw": false
              },
              "mode": "immediate",
              "transition": {
               "duration": 300
              }
             }
            ],
            "label": "18.75",
            "method": "animate"
           },
           {
            "args": [
             [
              "19.0"
             ],
             {
              "frame": {
               "duration": 300,
               "redraw": false
              },
              "mode": "immediate",
              "transition": {
               "duration": 300
              }
             }
            ],
            "label": "19.0",
            "method": "animate"
           },
           {
            "args": [
             [
              "19.25"
             ],
             {
              "frame": {
               "duration": 300,
               "redraw": false
              },
              "mode": "immediate",
              "transition": {
               "duration": 300
              }
             }
            ],
            "label": "19.25",
            "method": "animate"
           },
           {
            "args": [
             [
              "19.5"
             ],
             {
              "frame": {
               "duration": 300,
               "redraw": false
              },
              "mode": "immediate",
              "transition": {
               "duration": 300
              }
             }
            ],
            "label": "19.5",
            "method": "animate"
           },
           {
            "args": [
             [
              "19.75"
             ],
             {
              "frame": {
               "duration": 300,
               "redraw": false
              },
              "mode": "immediate",
              "transition": {
               "duration": 300
              }
             }
            ],
            "label": "19.75",
            "method": "animate"
           },
           {
            "args": [
             [
              "20.0"
             ],
             {
              "frame": {
               "duration": 300,
               "redraw": false
              },
              "mode": "immediate",
              "transition": {
               "duration": 300
              }
             }
            ],
            "label": "20.0",
            "method": "animate"
           },
           {
            "args": [
             [
              "20.25"
             ],
             {
              "frame": {
               "duration": 300,
               "redraw": false
              },
              "mode": "immediate",
              "transition": {
               "duration": 300
              }
             }
            ],
            "label": "20.25",
            "method": "animate"
           },
           {
            "args": [
             [
              "20.5"
             ],
             {
              "frame": {
               "duration": 300,
               "redraw": false
              },
              "mode": "immediate",
              "transition": {
               "duration": 300
              }
             }
            ],
            "label": "20.5",
            "method": "animate"
           },
           {
            "args": [
             [
              "20.75"
             ],
             {
              "frame": {
               "duration": 300,
               "redraw": false
              },
              "mode": "immediate",
              "transition": {
               "duration": 300
              }
             }
            ],
            "label": "20.75",
            "method": "animate"
           },
           {
            "args": [
             [
              "21.0"
             ],
             {
              "frame": {
               "duration": 300,
               "redraw": false
              },
              "mode": "immediate",
              "transition": {
               "duration": 300
              }
             }
            ],
            "label": "21.0",
            "method": "animate"
           },
           {
            "args": [
             [
              "21.25"
             ],
             {
              "frame": {
               "duration": 300,
               "redraw": false
              },
              "mode": "immediate",
              "transition": {
               "duration": 300
              }
             }
            ],
            "label": "21.25",
            "method": "animate"
           },
           {
            "args": [
             [
              "21.5"
             ],
             {
              "frame": {
               "duration": 300,
               "redraw": false
              },
              "mode": "immediate",
              "transition": {
               "duration": 300
              }
             }
            ],
            "label": "21.5",
            "method": "animate"
           },
           {
            "args": [
             [
              "21.75"
             ],
             {
              "frame": {
               "duration": 300,
               "redraw": false
              },
              "mode": "immediate",
              "transition": {
               "duration": 300
              }
             }
            ],
            "label": "21.75",
            "method": "animate"
           },
           {
            "args": [
             [
              "22.0"
             ],
             {
              "frame": {
               "duration": 300,
               "redraw": false
              },
              "mode": "immediate",
              "transition": {
               "duration": 300
              }
             }
            ],
            "label": "22.0",
            "method": "animate"
           },
           {
            "args": [
             [
              "22.25"
             ],
             {
              "frame": {
               "duration": 300,
               "redraw": false
              },
              "mode": "immediate",
              "transition": {
               "duration": 300
              }
             }
            ],
            "label": "22.25",
            "method": "animate"
           },
           {
            "args": [
             [
              "22.5"
             ],
             {
              "frame": {
               "duration": 300,
               "redraw": false
              },
              "mode": "immediate",
              "transition": {
               "duration": 300
              }
             }
            ],
            "label": "22.5",
            "method": "animate"
           },
           {
            "args": [
             [
              "22.75"
             ],
             {
              "frame": {
               "duration": 300,
               "redraw": false
              },
              "mode": "immediate",
              "transition": {
               "duration": 300
              }
             }
            ],
            "label": "22.75",
            "method": "animate"
           },
           {
            "args": [
             [
              "23.0"
             ],
             {
              "frame": {
               "duration": 300,
               "redraw": false
              },
              "mode": "immediate",
              "transition": {
               "duration": 300
              }
             }
            ],
            "label": "23.0",
            "method": "animate"
           },
           {
            "args": [
             [
              "23.25"
             ],
             {
              "frame": {
               "duration": 300,
               "redraw": false
              },
              "mode": "immediate",
              "transition": {
               "duration": 300
              }
             }
            ],
            "label": "23.25",
            "method": "animate"
           },
           {
            "args": [
             [
              "23.5"
             ],
             {
              "frame": {
               "duration": 300,
               "redraw": false
              },
              "mode": "immediate",
              "transition": {
               "duration": 300
              }
             }
            ],
            "label": "23.5",
            "method": "animate"
           },
           {
            "args": [
             [
              "23.75"
             ],
             {
              "frame": {
               "duration": 300,
               "redraw": false
              },
              "mode": "immediate",
              "transition": {
               "duration": 300
              }
             }
            ],
            "label": "23.75",
            "method": "animate"
           },
           {
            "args": [
             [
              "24.0"
             ],
             {
              "frame": {
               "duration": 300,
               "redraw": false
              },
              "mode": "immediate",
              "transition": {
               "duration": 300
              }
             }
            ],
            "label": "24.0",
            "method": "animate"
           },
           {
            "args": [
             [
              "24.25"
             ],
             {
              "frame": {
               "duration": 300,
               "redraw": false
              },
              "mode": "immediate",
              "transition": {
               "duration": 300
              }
             }
            ],
            "label": "24.25",
            "method": "animate"
           },
           {
            "args": [
             [
              "24.5"
             ],
             {
              "frame": {
               "duration": 300,
               "redraw": false
              },
              "mode": "immediate",
              "transition": {
               "duration": 300
              }
             }
            ],
            "label": "24.5",
            "method": "animate"
           },
           {
            "args": [
             [
              "24.75"
             ],
             {
              "frame": {
               "duration": 300,
               "redraw": false
              },
              "mode": "immediate",
              "transition": {
               "duration": 300
              }
             }
            ],
            "label": "24.75",
            "method": "animate"
           },
           {
            "args": [
             [
              "25.0"
             ],
             {
              "frame": {
               "duration": 300,
               "redraw": false
              },
              "mode": "immediate",
              "transition": {
               "duration": 300
              }
             }
            ],
            "label": "25.0",
            "method": "animate"
           },
           {
            "args": [
             [
              "25.25"
             ],
             {
              "frame": {
               "duration": 300,
               "redraw": false
              },
              "mode": "immediate",
              "transition": {
               "duration": 300
              }
             }
            ],
            "label": "25.25",
            "method": "animate"
           },
           {
            "args": [
             [
              "25.5"
             ],
             {
              "frame": {
               "duration": 300,
               "redraw": false
              },
              "mode": "immediate",
              "transition": {
               "duration": 300
              }
             }
            ],
            "label": "25.5",
            "method": "animate"
           },
           {
            "args": [
             [
              "25.75"
             ],
             {
              "frame": {
               "duration": 300,
               "redraw": false
              },
              "mode": "immediate",
              "transition": {
               "duration": 300
              }
             }
            ],
            "label": "25.75",
            "method": "animate"
           },
           {
            "args": [
             [
              "26.0"
             ],
             {
              "frame": {
               "duration": 300,
               "redraw": false
              },
              "mode": "immediate",
              "transition": {
               "duration": 300
              }
             }
            ],
            "label": "26.0",
            "method": "animate"
           },
           {
            "args": [
             [
              "26.25"
             ],
             {
              "frame": {
               "duration": 300,
               "redraw": false
              },
              "mode": "immediate",
              "transition": {
               "duration": 300
              }
             }
            ],
            "label": "26.25",
            "method": "animate"
           },
           {
            "args": [
             [
              "26.5"
             ],
             {
              "frame": {
               "duration": 300,
               "redraw": false
              },
              "mode": "immediate",
              "transition": {
               "duration": 300
              }
             }
            ],
            "label": "26.5",
            "method": "animate"
           },
           {
            "args": [
             [
              "26.75"
             ],
             {
              "frame": {
               "duration": 300,
               "redraw": false
              },
              "mode": "immediate",
              "transition": {
               "duration": 300
              }
             }
            ],
            "label": "26.75",
            "method": "animate"
           },
           {
            "args": [
             [
              "27.0"
             ],
             {
              "frame": {
               "duration": 300,
               "redraw": false
              },
              "mode": "immediate",
              "transition": {
               "duration": 300
              }
             }
            ],
            "label": "27.0",
            "method": "animate"
           },
           {
            "args": [
             [
              "27.25"
             ],
             {
              "frame": {
               "duration": 300,
               "redraw": false
              },
              "mode": "immediate",
              "transition": {
               "duration": 300
              }
             }
            ],
            "label": "27.25",
            "method": "animate"
           }
          ],
          "transition": {
           "duration": 300,
           "easing": "cubic-in-out"
          },
          "x": 0.1,
          "xanchor": "left",
          "y": 0,
          "yanchor": "top"
         }
        ],
        "template": {
         "data": {
          "bar": [
           {
            "error_x": {
             "color": "#2a3f5f"
            },
            "error_y": {
             "color": "#2a3f5f"
            },
            "marker": {
             "line": {
              "color": "#E5ECF6",
              "width": 0.5
             }
            },
            "type": "bar"
           }
          ],
          "barpolar": [
           {
            "marker": {
             "line": {
              "color": "#E5ECF6",
              "width": 0.5
             }
            },
            "type": "barpolar"
           }
          ],
          "carpet": [
           {
            "aaxis": {
             "endlinecolor": "#2a3f5f",
             "gridcolor": "white",
             "linecolor": "white",
             "minorgridcolor": "white",
             "startlinecolor": "#2a3f5f"
            },
            "baxis": {
             "endlinecolor": "#2a3f5f",
             "gridcolor": "white",
             "linecolor": "white",
             "minorgridcolor": "white",
             "startlinecolor": "#2a3f5f"
            },
            "type": "carpet"
           }
          ],
          "choropleth": [
           {
            "colorbar": {
             "outlinewidth": 0,
             "ticks": ""
            },
            "type": "choropleth"
           }
          ],
          "contour": [
           {
            "colorbar": {
             "outlinewidth": 0,
             "ticks": ""
            },
            "colorscale": [
             [
              0,
              "#0d0887"
             ],
             [
              0.1111111111111111,
              "#46039f"
             ],
             [
              0.2222222222222222,
              "#7201a8"
             ],
             [
              0.3333333333333333,
              "#9c179e"
             ],
             [
              0.4444444444444444,
              "#bd3786"
             ],
             [
              0.5555555555555556,
              "#d8576b"
             ],
             [
              0.6666666666666666,
              "#ed7953"
             ],
             [
              0.7777777777777778,
              "#fb9f3a"
             ],
             [
              0.8888888888888888,
              "#fdca26"
             ],
             [
              1,
              "#f0f921"
             ]
            ],
            "type": "contour"
           }
          ],
          "contourcarpet": [
           {
            "colorbar": {
             "outlinewidth": 0,
             "ticks": ""
            },
            "type": "contourcarpet"
           }
          ],
          "heatmap": [
           {
            "colorbar": {
             "outlinewidth": 0,
             "ticks": ""
            },
            "colorscale": [
             [
              0,
              "#0d0887"
             ],
             [
              0.1111111111111111,
              "#46039f"
             ],
             [
              0.2222222222222222,
              "#7201a8"
             ],
             [
              0.3333333333333333,
              "#9c179e"
             ],
             [
              0.4444444444444444,
              "#bd3786"
             ],
             [
              0.5555555555555556,
              "#d8576b"
             ],
             [
              0.6666666666666666,
              "#ed7953"
             ],
             [
              0.7777777777777778,
              "#fb9f3a"
             ],
             [
              0.8888888888888888,
              "#fdca26"
             ],
             [
              1,
              "#f0f921"
             ]
            ],
            "type": "heatmap"
           }
          ],
          "heatmapgl": [
           {
            "colorbar": {
             "outlinewidth": 0,
             "ticks": ""
            },
            "colorscale": [
             [
              0,
              "#0d0887"
             ],
             [
              0.1111111111111111,
              "#46039f"
             ],
             [
              0.2222222222222222,
              "#7201a8"
             ],
             [
              0.3333333333333333,
              "#9c179e"
             ],
             [
              0.4444444444444444,
              "#bd3786"
             ],
             [
              0.5555555555555556,
              "#d8576b"
             ],
             [
              0.6666666666666666,
              "#ed7953"
             ],
             [
              0.7777777777777778,
              "#fb9f3a"
             ],
             [
              0.8888888888888888,
              "#fdca26"
             ],
             [
              1,
              "#f0f921"
             ]
            ],
            "type": "heatmapgl"
           }
          ],
          "histogram": [
           {
            "marker": {
             "colorbar": {
              "outlinewidth": 0,
              "ticks": ""
             }
            },
            "type": "histogram"
           }
          ],
          "histogram2d": [
           {
            "colorbar": {
             "outlinewidth": 0,
             "ticks": ""
            },
            "colorscale": [
             [
              0,
              "#0d0887"
             ],
             [
              0.1111111111111111,
              "#46039f"
             ],
             [
              0.2222222222222222,
              "#7201a8"
             ],
             [
              0.3333333333333333,
              "#9c179e"
             ],
             [
              0.4444444444444444,
              "#bd3786"
             ],
             [
              0.5555555555555556,
              "#d8576b"
             ],
             [
              0.6666666666666666,
              "#ed7953"
             ],
             [
              0.7777777777777778,
              "#fb9f3a"
             ],
             [
              0.8888888888888888,
              "#fdca26"
             ],
             [
              1,
              "#f0f921"
             ]
            ],
            "type": "histogram2d"
           }
          ],
          "histogram2dcontour": [
           {
            "colorbar": {
             "outlinewidth": 0,
             "ticks": ""
            },
            "colorscale": [
             [
              0,
              "#0d0887"
             ],
             [
              0.1111111111111111,
              "#46039f"
             ],
             [
              0.2222222222222222,
              "#7201a8"
             ],
             [
              0.3333333333333333,
              "#9c179e"
             ],
             [
              0.4444444444444444,
              "#bd3786"
             ],
             [
              0.5555555555555556,
              "#d8576b"
             ],
             [
              0.6666666666666666,
              "#ed7953"
             ],
             [
              0.7777777777777778,
              "#fb9f3a"
             ],
             [
              0.8888888888888888,
              "#fdca26"
             ],
             [
              1,
              "#f0f921"
             ]
            ],
            "type": "histogram2dcontour"
           }
          ],
          "mesh3d": [
           {
            "colorbar": {
             "outlinewidth": 0,
             "ticks": ""
            },
            "type": "mesh3d"
           }
          ],
          "parcoords": [
           {
            "line": {
             "colorbar": {
              "outlinewidth": 0,
              "ticks": ""
             }
            },
            "type": "parcoords"
           }
          ],
          "scatter": [
           {
            "marker": {
             "colorbar": {
              "outlinewidth": 0,
              "ticks": ""
             }
            },
            "type": "scatter"
           }
          ],
          "scatter3d": [
           {
            "line": {
             "colorbar": {
              "outlinewidth": 0,
              "ticks": ""
             }
            },
            "marker": {
             "colorbar": {
              "outlinewidth": 0,
              "ticks": ""
             }
            },
            "type": "scatter3d"
           }
          ],
          "scattercarpet": [
           {
            "marker": {
             "colorbar": {
              "outlinewidth": 0,
              "ticks": ""
             }
            },
            "type": "scattercarpet"
           }
          ],
          "scattergeo": [
           {
            "marker": {
             "colorbar": {
              "outlinewidth": 0,
              "ticks": ""
             }
            },
            "type": "scattergeo"
           }
          ],
          "scattergl": [
           {
            "marker": {
             "colorbar": {
              "outlinewidth": 0,
              "ticks": ""
             }
            },
            "type": "scattergl"
           }
          ],
          "scattermapbox": [
           {
            "marker": {
             "colorbar": {
              "outlinewidth": 0,
              "ticks": ""
             }
            },
            "type": "scattermapbox"
           }
          ],
          "scatterpolar": [
           {
            "marker": {
             "colorbar": {
              "outlinewidth": 0,
              "ticks": ""
             }
            },
            "type": "scatterpolar"
           }
          ],
          "scatterpolargl": [
           {
            "marker": {
             "colorbar": {
              "outlinewidth": 0,
              "ticks": ""
             }
            },
            "type": "scatterpolargl"
           }
          ],
          "scatterternary": [
           {
            "marker": {
             "colorbar": {
              "outlinewidth": 0,
              "ticks": ""
             }
            },
            "type": "scatterternary"
           }
          ],
          "surface": [
           {
            "colorbar": {
             "outlinewidth": 0,
             "ticks": ""
            },
            "colorscale": [
             [
              0,
              "#0d0887"
             ],
             [
              0.1111111111111111,
              "#46039f"
             ],
             [
              0.2222222222222222,
              "#7201a8"
             ],
             [
              0.3333333333333333,
              "#9c179e"
             ],
             [
              0.4444444444444444,
              "#bd3786"
             ],
             [
              0.5555555555555556,
              "#d8576b"
             ],
             [
              0.6666666666666666,
              "#ed7953"
             ],
             [
              0.7777777777777778,
              "#fb9f3a"
             ],
             [
              0.8888888888888888,
              "#fdca26"
             ],
             [
              1,
              "#f0f921"
             ]
            ],
            "type": "surface"
           }
          ],
          "table": [
           {
            "cells": {
             "fill": {
              "color": "#EBF0F8"
             },
             "line": {
              "color": "white"
             }
            },
            "header": {
             "fill": {
              "color": "#C8D4E3"
             },
             "line": {
              "color": "white"
             }
            },
            "type": "table"
           }
          ]
         },
         "layout": {
          "annotationdefaults": {
           "arrowcolor": "#2a3f5f",
           "arrowhead": 0,
           "arrowwidth": 1
          },
          "colorscale": {
           "diverging": [
            [
             0,
             "#8e0152"
            ],
            [
             0.1,
             "#c51b7d"
            ],
            [
             0.2,
             "#de77ae"
            ],
            [
             0.3,
             "#f1b6da"
            ],
            [
             0.4,
             "#fde0ef"
            ],
            [
             0.5,
             "#f7f7f7"
            ],
            [
             0.6,
             "#e6f5d0"
            ],
            [
             0.7,
             "#b8e186"
            ],
            [
             0.8,
             "#7fbc41"
            ],
            [
             0.9,
             "#4d9221"
            ],
            [
             1,
             "#276419"
            ]
           ],
           "sequential": [
            [
             0,
             "#0d0887"
            ],
            [
             0.1111111111111111,
             "#46039f"
            ],
            [
             0.2222222222222222,
             "#7201a8"
            ],
            [
             0.3333333333333333,
             "#9c179e"
            ],
            [
             0.4444444444444444,
             "#bd3786"
            ],
            [
             0.5555555555555556,
             "#d8576b"
            ],
            [
             0.6666666666666666,
             "#ed7953"
            ],
            [
             0.7777777777777778,
             "#fb9f3a"
            ],
            [
             0.8888888888888888,
             "#fdca26"
            ],
            [
             1,
             "#f0f921"
            ]
           ],
           "sequentialminus": [
            [
             0,
             "#0d0887"
            ],
            [
             0.1111111111111111,
             "#46039f"
            ],
            [
             0.2222222222222222,
             "#7201a8"
            ],
            [
             0.3333333333333333,
             "#9c179e"
            ],
            [
             0.4444444444444444,
             "#bd3786"
            ],
            [
             0.5555555555555556,
             "#d8576b"
            ],
            [
             0.6666666666666666,
             "#ed7953"
            ],
            [
             0.7777777777777778,
             "#fb9f3a"
            ],
            [
             0.8888888888888888,
             "#fdca26"
            ],
            [
             1,
             "#f0f921"
            ]
           ]
          },
          "colorway": [
           "#636efa",
           "#EF553B",
           "#00cc96",
           "#ab63fa",
           "#FFA15A",
           "#19d3f3",
           "#FF6692",
           "#B6E880",
           "#FF97FF",
           "#FECB52"
          ],
          "font": {
           "color": "#2a3f5f"
          },
          "geo": {
           "bgcolor": "white",
           "lakecolor": "white",
           "landcolor": "#E5ECF6",
           "showlakes": true,
           "showland": true,
           "subunitcolor": "white"
          },
          "hoverlabel": {
           "align": "left"
          },
          "hovermode": "closest",
          "mapbox": {
           "style": "light"
          },
          "paper_bgcolor": "white",
          "plot_bgcolor": "#E5ECF6",
          "polar": {
           "angularaxis": {
            "gridcolor": "white",
            "linecolor": "white",
            "ticks": ""
           },
           "bgcolor": "#E5ECF6",
           "radialaxis": {
            "gridcolor": "white",
            "linecolor": "white",
            "ticks": ""
           }
          },
          "scene": {
           "xaxis": {
            "backgroundcolor": "#E5ECF6",
            "gridcolor": "white",
            "gridwidth": 2,
            "linecolor": "white",
            "showbackground": true,
            "ticks": "",
            "zerolinecolor": "white"
           },
           "yaxis": {
            "backgroundcolor": "#E5ECF6",
            "gridcolor": "white",
            "gridwidth": 2,
            "linecolor": "white",
            "showbackground": true,
            "ticks": "",
            "zerolinecolor": "white"
           },
           "zaxis": {
            "backgroundcolor": "#E5ECF6",
            "gridcolor": "white",
            "gridwidth": 2,
            "linecolor": "white",
            "showbackground": true,
            "ticks": "",
            "zerolinecolor": "white"
           }
          },
          "shapedefaults": {
           "line": {
            "color": "#2a3f5f"
           }
          },
          "ternary": {
           "aaxis": {
            "gridcolor": "white",
            "linecolor": "white",
            "ticks": ""
           },
           "baxis": {
            "gridcolor": "white",
            "linecolor": "white",
            "ticks": ""
           },
           "bgcolor": "#E5ECF6",
           "caxis": {
            "gridcolor": "white",
            "linecolor": "white",
            "ticks": ""
           }
          },
          "title": {
           "x": 0.05
          },
          "xaxis": {
           "automargin": true,
           "gridcolor": "white",
           "linecolor": "white",
           "ticks": "",
           "zerolinecolor": "white",
           "zerolinewidth": 2
          },
          "yaxis": {
           "automargin": true,
           "gridcolor": "white",
           "linecolor": "white",
           "ticks": "",
           "zerolinecolor": "white",
           "zerolinewidth": 2
          }
         }
        },
        "title": {
         "text": "Participant 5 Eye Gaze Graph Visualization"
        },
        "updatemenus": [
         {
          "buttons": [
           {
            "args": [
             null,
             {
              "frame": {
               "duration": 2000,
               "redraw": false
              },
              "fromcurrent": true,
              "transition": {
               "duration": 300,
               "easing": "quadratic-in-out"
              }
             }
            ],
            "label": "Play",
            "method": "animate"
           },
           {
            "args": [
             [
              null
             ],
             {
              "frame": {
               "duration": 0,
               "redraw": false
              },
              "mode": "immediate",
              "transition": {
               "duration": 0
              }
             }
            ],
            "label": "Pause",
            "method": "animate"
           }
          ],
          "direction": "left",
          "pad": {
           "r": 10,
           "t": 87
          },
          "showactive": false,
          "type": "buttons",
          "x": 0.1,
          "xanchor": "right",
          "y": 0,
          "yanchor": "top"
         }
        ],
        "width": 1024,
        "xaxis": {
         "range": [
          0,
          1300
         ],
         "title": {
          "text": "Screen X"
         }
        },
        "yaxis": {
         "range": [
          0,
          1200
         ],
         "title": {
          "text": "Screen Y"
         }
        }
       }
      },
      "text/html": [
       "<div>\n",
       "        \n",
       "        \n",
       "            <div id=\"09e2ac49-da18-4364-ad7b-ac8d282c19cb\" class=\"plotly-graph-div\" style=\"height:768px; width:1024px;\"></div>\n",
       "            <script type=\"text/javascript\">\n",
       "                require([\"plotly\"], function(Plotly) {\n",
       "                    window.PLOTLYENV=window.PLOTLYENV || {};\n",
       "                    \n",
       "                if (document.getElementById(\"09e2ac49-da18-4364-ad7b-ac8d282c19cb\")) {\n",
       "                    Plotly.newPlot(\n",
       "                        '09e2ac49-da18-4364-ad7b-ac8d282c19cb',\n",
       "                        [{\"marker\": {\"opacity\": 0.5, \"size\": [100, 139, 199, 359, 100, 219, 299, 160, 499, 299, 279, 180, 140, 120, 140, 120, 120, 139, 160, 160, 180, 219, 119, 120, 119], \"sizemode\": \"area\", \"sizeref\": 0, \"symbol\": 0}, \"mode\": \"markers\", \"name\": \"Dilated Pupil\", \"text\": [\" Minute: 0.004<br>Duration: 0.00167\", \" Minute: 0.069<br>Duration: 0.00232\", \" Minute: 0.077<br>Duration: 0.00332\", \" Minute: 0.08<br>Duration: 0.00598\", \" Minute: 0.095<br>Duration: 0.00167\", \" Minute: 0.11<br>Duration: 0.00365\", \" Minute: 0.116<br>Duration: 0.00498\", \" Minute: 0.13<br>Duration: 0.00267\", \" Minute: 0.133<br>Duration: 0.00832\", \" Minute: 0.142<br>Duration: 0.00498\", \" Minute: 0.147<br>Duration: 0.00465\", \" Minute: 0.152<br>Duration: 0.003\", \" Minute: 0.163<br>Duration: 0.00233\", \" Minute: 0.167<br>Duration: 0.002\", \" Minute: 0.17<br>Duration: 0.00233\", \" Minute: 0.178<br>Duration: 0.002\", \" Minute: 0.196<br>Duration: 0.002\", \" Minute: 0.2<br>Duration: 0.00232\", \" Minute: 0.21<br>Duration: 0.00267\", \" Minute: 0.217<br>Duration: 0.00267\", \" Minute: 0.22<br>Duration: 0.003\", \" Minute: 0.223<br>Duration: 0.00365\", \" Minute: 0.231<br>Duration: 0.00198\", \" Minute: 0.242<br>Duration: 0.002\", \" Minute: 0.249<br>Duration: 0.00198\"], \"type\": \"scatter\", \"x\": [673, 388, 350, 479, 679, 119, 119, 292, 471, 471, 556, 604, 201, 200, 311, 447, 244, 91, 123, 295, 269, 77, 263, 579, 628], \"y\": [469, 191, 454, 452, 425, 193, 196, 203, 228, 232, 240, 235, 179, 174, 207, 189, 208, 246, 229, 218, 233, 271, 215, 242, 220]}, {\"marker\": {\"opacity\": 0.5, \"size\": [179, 179, 120, 120, 140], \"sizemode\": \"area\", \"sizeref\": 0, \"symbol\": 0}, \"mode\": \"markers\", \"name\": \"Squeezed Pupil \", \"text\": [\" Minute: 0.013<br>Duration: 0.00298\", \" Minute: 0.019<br>Duration: 0.00298\", \" Minute: 0.03<br>Duration: 0.002\", \" Minute: 0.172<br>Duration: 0.002\", \" Minute: 0.245<br>Duration: 0.00233\"], \"type\": \"scatter\", \"x\": [648, 641, 674, 313, 626], \"y\": [534, 454, 482, 193, 250]}, {\"marker\": {\"size\": 10, \"sizemode\": \"area\", \"sizeref\": 1, \"symbol\": 207}, \"mode\": \"markers\", \"name\": \"LMouseButton\", \"text\": [\" Minute: 0.147\"], \"type\": \"scatter\", \"x\": [468], \"y\": [221]}, {\"marker\": {\"size\": 10, \"sizemode\": \"area\", \"sizeref\": 1, \"symbol\": 3}, \"mode\": \"markers\", \"name\": \"LMouseButton\", \"text\": [\" Minute: 0.147\"], \"type\": \"scatter\", \"x\": [], \"y\": []}],\n",
       "                        {\"colorway\": [\"#DDA0DD\", \"#4B0082\", \"#ff0000\", \"#0000ff\"], \"height\": 768, \"hovermode\": \"closest\", \"images\": [{\"layer\": \"below\", \"opacity\": 1, \"sizex\": 1, \"sizey\": 1, \"sizing\": \"stretch\", \"source\": \"Capture1.JPG\", \"x\": 0, \"xref\": \"paper\", \"y\": 1, \"yref\": \"paper\"}], \"sliders\": [{\"active\": 0, \"currentvalue\": {\"font\": {\"size\": 20}, \"prefix\": \"Minute:\", \"visible\": true, \"xanchor\": \"right\"}, \"len\": 0.9, \"pad\": {\"b\": 10, \"t\": 50}, \"steps\": [{\"args\": [[\"0.25\"], {\"frame\": {\"duration\": 300, \"redraw\": false}, \"mode\": \"immediate\", \"transition\": {\"duration\": 300}}], \"label\": \"0.25\", \"method\": \"animate\"}, {\"args\": [[\"0.5\"], {\"frame\": {\"duration\": 300, \"redraw\": false}, \"mode\": \"immediate\", \"transition\": {\"duration\": 300}}], \"label\": \"0.5\", \"method\": \"animate\"}, {\"args\": [[\"0.75\"], {\"frame\": {\"duration\": 300, \"redraw\": false}, \"mode\": \"immediate\", \"transition\": {\"duration\": 300}}], \"label\": \"0.75\", \"method\": \"animate\"}, {\"args\": [[\"1.0\"], {\"frame\": {\"duration\": 300, \"redraw\": false}, \"mode\": \"immediate\", \"transition\": {\"duration\": 300}}], \"label\": \"1.0\", \"method\": \"animate\"}, {\"args\": [[\"1.25\"], {\"frame\": {\"duration\": 300, \"redraw\": false}, \"mode\": \"immediate\", \"transition\": {\"duration\": 300}}], \"label\": \"1.25\", \"method\": \"animate\"}, {\"args\": [[\"1.5\"], {\"frame\": {\"duration\": 300, \"redraw\": false}, \"mode\": \"immediate\", \"transition\": {\"duration\": 300}}], \"label\": \"1.5\", \"method\": \"animate\"}, {\"args\": [[\"1.75\"], {\"frame\": {\"duration\": 300, \"redraw\": false}, \"mode\": \"immediate\", \"transition\": {\"duration\": 300}}], \"label\": \"1.75\", \"method\": \"animate\"}, {\"args\": [[\"2.0\"], {\"frame\": {\"duration\": 300, \"redraw\": false}, \"mode\": \"immediate\", \"transition\": {\"duration\": 300}}], \"label\": \"2.0\", \"method\": \"animate\"}, {\"args\": [[\"2.25\"], {\"frame\": {\"duration\": 300, \"redraw\": false}, \"mode\": \"immediate\", \"transition\": {\"duration\": 300}}], \"label\": \"2.25\", \"method\": \"animate\"}, {\"args\": [[\"2.5\"], {\"frame\": {\"duration\": 300, \"redraw\": false}, \"mode\": \"immediate\", \"transition\": {\"duration\": 300}}], \"label\": \"2.5\", \"method\": \"animate\"}, {\"args\": [[\"2.75\"], {\"frame\": {\"duration\": 300, \"redraw\": false}, \"mode\": \"immediate\", \"transition\": {\"duration\": 300}}], \"label\": \"2.75\", \"method\": \"animate\"}, {\"args\": [[\"3.0\"], {\"frame\": {\"duration\": 300, \"redraw\": false}, \"mode\": \"immediate\", \"transition\": {\"duration\": 300}}], \"label\": \"3.0\", \"method\": \"animate\"}, {\"args\": [[\"3.25\"], {\"frame\": {\"duration\": 300, \"redraw\": false}, \"mode\": \"immediate\", \"transition\": {\"duration\": 300}}], \"label\": \"3.25\", \"method\": \"animate\"}, {\"args\": [[\"3.5\"], {\"frame\": {\"duration\": 300, \"redraw\": false}, \"mode\": \"immediate\", \"transition\": {\"duration\": 300}}], \"label\": \"3.5\", \"method\": \"animate\"}, {\"args\": [[\"3.75\"], {\"frame\": {\"duration\": 300, \"redraw\": false}, \"mode\": \"immediate\", \"transition\": {\"duration\": 300}}], \"label\": \"3.75\", \"method\": \"animate\"}, {\"args\": [[\"4.0\"], {\"frame\": {\"duration\": 300, \"redraw\": false}, \"mode\": \"immediate\", \"transition\": {\"duration\": 300}}], \"label\": \"4.0\", \"method\": \"animate\"}, {\"args\": [[\"4.25\"], {\"frame\": {\"duration\": 300, \"redraw\": false}, \"mode\": \"immediate\", \"transition\": {\"duration\": 300}}], \"label\": \"4.25\", \"method\": \"animate\"}, {\"args\": [[\"4.5\"], {\"frame\": {\"duration\": 300, \"redraw\": false}, \"mode\": \"immediate\", \"transition\": {\"duration\": 300}}], \"label\": \"4.5\", \"method\": \"animate\"}, {\"args\": [[\"4.75\"], {\"frame\": {\"duration\": 300, \"redraw\": false}, \"mode\": \"immediate\", \"transition\": {\"duration\": 300}}], \"label\": \"4.75\", \"method\": \"animate\"}, {\"args\": [[\"5.0\"], {\"frame\": {\"duration\": 300, \"redraw\": false}, \"mode\": \"immediate\", \"transition\": {\"duration\": 300}}], \"label\": \"5.0\", \"method\": \"animate\"}, {\"args\": [[\"5.25\"], {\"frame\": {\"duration\": 300, \"redraw\": false}, \"mode\": \"immediate\", \"transition\": {\"duration\": 300}}], \"label\": \"5.25\", \"method\": \"animate\"}, {\"args\": [[\"5.5\"], {\"frame\": {\"duration\": 300, \"redraw\": false}, \"mode\": \"immediate\", \"transition\": {\"duration\": 300}}], \"label\": \"5.5\", \"method\": \"animate\"}, {\"args\": [[\"5.75\"], {\"frame\": {\"duration\": 300, \"redraw\": false}, \"mode\": \"immediate\", \"transition\": {\"duration\": 300}}], \"label\": \"5.75\", \"method\": \"animate\"}, {\"args\": [[\"6.0\"], {\"frame\": {\"duration\": 300, \"redraw\": false}, \"mode\": \"immediate\", \"transition\": {\"duration\": 300}}], \"label\": \"6.0\", \"method\": \"animate\"}, {\"args\": [[\"6.25\"], {\"frame\": {\"duration\": 300, \"redraw\": false}, \"mode\": \"immediate\", \"transition\": {\"duration\": 300}}], \"label\": \"6.25\", \"method\": \"animate\"}, {\"args\": [[\"6.5\"], {\"frame\": {\"duration\": 300, \"redraw\": false}, \"mode\": \"immediate\", \"transition\": {\"duration\": 300}}], \"label\": \"6.5\", \"method\": \"animate\"}, {\"args\": [[\"6.75\"], {\"frame\": {\"duration\": 300, \"redraw\": false}, \"mode\": \"immediate\", \"transition\": {\"duration\": 300}}], \"label\": \"6.75\", \"method\": \"animate\"}, {\"args\": [[\"7.0\"], {\"frame\": {\"duration\": 300, \"redraw\": false}, \"mode\": \"immediate\", \"transition\": {\"duration\": 300}}], \"label\": \"7.0\", \"method\": \"animate\"}, {\"args\": [[\"7.25\"], {\"frame\": {\"duration\": 300, \"redraw\": false}, \"mode\": \"immediate\", \"transition\": {\"duration\": 300}}], \"label\": \"7.25\", \"method\": \"animate\"}, {\"args\": [[\"7.5\"], {\"frame\": {\"duration\": 300, \"redraw\": false}, \"mode\": \"immediate\", \"transition\": {\"duration\": 300}}], \"label\": \"7.5\", \"method\": \"animate\"}, {\"args\": [[\"7.75\"], {\"frame\": {\"duration\": 300, \"redraw\": false}, \"mode\": \"immediate\", \"transition\": {\"duration\": 300}}], \"label\": \"7.75\", \"method\": \"animate\"}, {\"args\": [[\"8.0\"], {\"frame\": {\"duration\": 300, \"redraw\": false}, \"mode\": \"immediate\", \"transition\": {\"duration\": 300}}], \"label\": \"8.0\", \"method\": \"animate\"}, {\"args\": [[\"8.25\"], {\"frame\": {\"duration\": 300, \"redraw\": false}, \"mode\": \"immediate\", \"transition\": {\"duration\": 300}}], \"label\": \"8.25\", \"method\": \"animate\"}, {\"args\": [[\"8.5\"], {\"frame\": {\"duration\": 300, \"redraw\": false}, \"mode\": \"immediate\", \"transition\": {\"duration\": 300}}], \"label\": \"8.5\", \"method\": \"animate\"}, {\"args\": [[\"8.75\"], {\"frame\": {\"duration\": 300, \"redraw\": false}, \"mode\": \"immediate\", \"transition\": {\"duration\": 300}}], \"label\": \"8.75\", \"method\": \"animate\"}, {\"args\": [[\"9.0\"], {\"frame\": {\"duration\": 300, \"redraw\": false}, \"mode\": \"immediate\", \"transition\": {\"duration\": 300}}], \"label\": \"9.0\", \"method\": \"animate\"}, {\"args\": [[\"9.25\"], {\"frame\": {\"duration\": 300, \"redraw\": false}, \"mode\": \"immediate\", \"transition\": {\"duration\": 300}}], \"label\": \"9.25\", \"method\": \"animate\"}, {\"args\": [[\"9.5\"], {\"frame\": {\"duration\": 300, \"redraw\": false}, \"mode\": \"immediate\", \"transition\": {\"duration\": 300}}], \"label\": \"9.5\", \"method\": \"animate\"}, {\"args\": [[\"9.75\"], {\"frame\": {\"duration\": 300, \"redraw\": false}, \"mode\": \"immediate\", \"transition\": {\"duration\": 300}}], \"label\": \"9.75\", \"method\": \"animate\"}, {\"args\": [[\"10.0\"], {\"frame\": {\"duration\": 300, \"redraw\": false}, \"mode\": \"immediate\", \"transition\": {\"duration\": 300}}], \"label\": \"10.0\", \"method\": \"animate\"}, {\"args\": [[\"10.25\"], {\"frame\": {\"duration\": 300, \"redraw\": false}, \"mode\": \"immediate\", \"transition\": {\"duration\": 300}}], \"label\": \"10.25\", \"method\": \"animate\"}, {\"args\": [[\"10.5\"], {\"frame\": {\"duration\": 300, \"redraw\": false}, \"mode\": \"immediate\", \"transition\": {\"duration\": 300}}], \"label\": \"10.5\", \"method\": \"animate\"}, {\"args\": [[\"10.75\"], {\"frame\": {\"duration\": 300, \"redraw\": false}, \"mode\": \"immediate\", \"transition\": {\"duration\": 300}}], \"label\": \"10.75\", \"method\": \"animate\"}, {\"args\": [[\"11.0\"], {\"frame\": {\"duration\": 300, \"redraw\": false}, \"mode\": \"immediate\", \"transition\": {\"duration\": 300}}], \"label\": \"11.0\", \"method\": \"animate\"}, {\"args\": [[\"11.25\"], {\"frame\": {\"duration\": 300, \"redraw\": false}, \"mode\": \"immediate\", \"transition\": {\"duration\": 300}}], \"label\": \"11.25\", \"method\": \"animate\"}, {\"args\": [[\"11.5\"], {\"frame\": {\"duration\": 300, \"redraw\": false}, \"mode\": \"immediate\", \"transition\": {\"duration\": 300}}], \"label\": \"11.5\", \"method\": \"animate\"}, {\"args\": [[\"11.75\"], {\"frame\": {\"duration\": 300, \"redraw\": false}, \"mode\": \"immediate\", \"transition\": {\"duration\": 300}}], \"label\": \"11.75\", \"method\": \"animate\"}, {\"args\": [[\"12.0\"], {\"frame\": {\"duration\": 300, \"redraw\": false}, \"mode\": \"immediate\", \"transition\": {\"duration\": 300}}], \"label\": \"12.0\", \"method\": \"animate\"}, {\"args\": [[\"12.25\"], {\"frame\": {\"duration\": 300, \"redraw\": false}, \"mode\": \"immediate\", \"transition\": {\"duration\": 300}}], \"label\": \"12.25\", \"method\": \"animate\"}, {\"args\": [[\"12.5\"], {\"frame\": {\"duration\": 300, \"redraw\": false}, \"mode\": \"immediate\", \"transition\": {\"duration\": 300}}], \"label\": \"12.5\", \"method\": \"animate\"}, {\"args\": [[\"12.75\"], {\"frame\": {\"duration\": 300, \"redraw\": false}, \"mode\": \"immediate\", \"transition\": {\"duration\": 300}}], \"label\": \"12.75\", \"method\": \"animate\"}, {\"args\": [[\"13.0\"], {\"frame\": {\"duration\": 300, \"redraw\": false}, \"mode\": \"immediate\", \"transition\": {\"duration\": 300}}], \"label\": \"13.0\", \"method\": \"animate\"}, {\"args\": [[\"13.25\"], {\"frame\": {\"duration\": 300, \"redraw\": false}, \"mode\": \"immediate\", \"transition\": {\"duration\": 300}}], \"label\": \"13.25\", \"method\": \"animate\"}, {\"args\": [[\"13.5\"], {\"frame\": {\"duration\": 300, \"redraw\": false}, \"mode\": \"immediate\", \"transition\": {\"duration\": 300}}], \"label\": \"13.5\", \"method\": \"animate\"}, {\"args\": [[\"13.75\"], {\"frame\": {\"duration\": 300, \"redraw\": false}, \"mode\": \"immediate\", \"transition\": {\"duration\": 300}}], \"label\": \"13.75\", \"method\": \"animate\"}, {\"args\": [[\"14.0\"], {\"frame\": {\"duration\": 300, \"redraw\": false}, \"mode\": \"immediate\", \"transition\": {\"duration\": 300}}], \"label\": \"14.0\", \"method\": \"animate\"}, {\"args\": [[\"14.25\"], {\"frame\": {\"duration\": 300, \"redraw\": false}, \"mode\": \"immediate\", \"transition\": {\"duration\": 300}}], \"label\": \"14.25\", \"method\": \"animate\"}, {\"args\": [[\"14.5\"], {\"frame\": {\"duration\": 300, \"redraw\": false}, \"mode\": \"immediate\", \"transition\": {\"duration\": 300}}], \"label\": \"14.5\", \"method\": \"animate\"}, {\"args\": [[\"14.75\"], {\"frame\": {\"duration\": 300, \"redraw\": false}, \"mode\": \"immediate\", \"transition\": {\"duration\": 300}}], \"label\": \"14.75\", \"method\": \"animate\"}, {\"args\": [[\"15.0\"], {\"frame\": {\"duration\": 300, \"redraw\": false}, \"mode\": \"immediate\", \"transition\": {\"duration\": 300}}], \"label\": \"15.0\", \"method\": \"animate\"}, {\"args\": [[\"15.25\"], {\"frame\": {\"duration\": 300, \"redraw\": false}, \"mode\": \"immediate\", \"transition\": {\"duration\": 300}}], \"label\": \"15.25\", \"method\": \"animate\"}, {\"args\": [[\"15.5\"], {\"frame\": {\"duration\": 300, \"redraw\": false}, \"mode\": \"immediate\", \"transition\": {\"duration\": 300}}], \"label\": \"15.5\", \"method\": \"animate\"}, {\"args\": [[\"15.75\"], {\"frame\": {\"duration\": 300, \"redraw\": false}, \"mode\": \"immediate\", \"transition\": {\"duration\": 300}}], \"label\": \"15.75\", \"method\": \"animate\"}, {\"args\": [[\"16.0\"], {\"frame\": {\"duration\": 300, \"redraw\": false}, \"mode\": \"immediate\", \"transition\": {\"duration\": 300}}], \"label\": \"16.0\", \"method\": \"animate\"}, {\"args\": [[\"16.25\"], {\"frame\": {\"duration\": 300, \"redraw\": false}, \"mode\": \"immediate\", \"transition\": {\"duration\": 300}}], \"label\": \"16.25\", \"method\": \"animate\"}, {\"args\": [[\"16.5\"], {\"frame\": {\"duration\": 300, \"redraw\": false}, \"mode\": \"immediate\", \"transition\": {\"duration\": 300}}], \"label\": \"16.5\", \"method\": \"animate\"}, {\"args\": [[\"16.75\"], {\"frame\": {\"duration\": 300, \"redraw\": false}, \"mode\": \"immediate\", \"transition\": {\"duration\": 300}}], \"label\": \"16.75\", \"method\": \"animate\"}, {\"args\": [[\"17.0\"], {\"frame\": {\"duration\": 300, \"redraw\": false}, \"mode\": \"immediate\", \"transition\": {\"duration\": 300}}], \"label\": \"17.0\", \"method\": \"animate\"}, {\"args\": [[\"17.25\"], {\"frame\": {\"duration\": 300, \"redraw\": false}, \"mode\": \"immediate\", \"transition\": {\"duration\": 300}}], \"label\": \"17.25\", \"method\": \"animate\"}, {\"args\": [[\"17.5\"], {\"frame\": {\"duration\": 300, \"redraw\": false}, \"mode\": \"immediate\", \"transition\": {\"duration\": 300}}], \"label\": \"17.5\", \"method\": \"animate\"}, {\"args\": [[\"17.75\"], {\"frame\": {\"duration\": 300, \"redraw\": false}, \"mode\": \"immediate\", \"transition\": {\"duration\": 300}}], \"label\": \"17.75\", \"method\": \"animate\"}, {\"args\": [[\"18.0\"], {\"frame\": {\"duration\": 300, \"redraw\": false}, \"mode\": \"immediate\", \"transition\": {\"duration\": 300}}], \"label\": \"18.0\", \"method\": \"animate\"}, {\"args\": [[\"18.25\"], {\"frame\": {\"duration\": 300, \"redraw\": false}, \"mode\": \"immediate\", \"transition\": {\"duration\": 300}}], \"label\": \"18.25\", \"method\": \"animate\"}, {\"args\": [[\"18.5\"], {\"frame\": {\"duration\": 300, \"redraw\": false}, \"mode\": \"immediate\", \"transition\": {\"duration\": 300}}], \"label\": \"18.5\", \"method\": \"animate\"}, {\"args\": [[\"18.75\"], {\"frame\": {\"duration\": 300, \"redraw\": false}, \"mode\": \"immediate\", \"transition\": {\"duration\": 300}}], \"label\": \"18.75\", \"method\": \"animate\"}, {\"args\": [[\"19.0\"], {\"frame\": {\"duration\": 300, \"redraw\": false}, \"mode\": \"immediate\", \"transition\": {\"duration\": 300}}], \"label\": \"19.0\", \"method\": \"animate\"}, {\"args\": [[\"19.25\"], {\"frame\": {\"duration\": 300, \"redraw\": false}, \"mode\": \"immediate\", \"transition\": {\"duration\": 300}}], \"label\": \"19.25\", \"method\": \"animate\"}, {\"args\": [[\"19.5\"], {\"frame\": {\"duration\": 300, \"redraw\": false}, \"mode\": \"immediate\", \"transition\": {\"duration\": 300}}], \"label\": \"19.5\", \"method\": \"animate\"}, {\"args\": [[\"19.75\"], {\"frame\": {\"duration\": 300, \"redraw\": false}, \"mode\": \"immediate\", \"transition\": {\"duration\": 300}}], \"label\": \"19.75\", \"method\": \"animate\"}, {\"args\": [[\"20.0\"], {\"frame\": {\"duration\": 300, \"redraw\": false}, \"mode\": \"immediate\", \"transition\": {\"duration\": 300}}], \"label\": \"20.0\", \"method\": \"animate\"}, {\"args\": [[\"20.25\"], {\"frame\": {\"duration\": 300, \"redraw\": false}, \"mode\": \"immediate\", \"transition\": {\"duration\": 300}}], \"label\": \"20.25\", \"method\": \"animate\"}, {\"args\": [[\"20.5\"], {\"frame\": {\"duration\": 300, \"redraw\": false}, \"mode\": \"immediate\", \"transition\": {\"duration\": 300}}], \"label\": \"20.5\", \"method\": \"animate\"}, {\"args\": [[\"20.75\"], {\"frame\": {\"duration\": 300, \"redraw\": false}, \"mode\": \"immediate\", \"transition\": {\"duration\": 300}}], \"label\": \"20.75\", \"method\": \"animate\"}, {\"args\": [[\"21.0\"], {\"frame\": {\"duration\": 300, \"redraw\": false}, \"mode\": \"immediate\", \"transition\": {\"duration\": 300}}], \"label\": \"21.0\", \"method\": \"animate\"}, {\"args\": [[\"21.25\"], {\"frame\": {\"duration\": 300, \"redraw\": false}, \"mode\": \"immediate\", \"transition\": {\"duration\": 300}}], \"label\": \"21.25\", \"method\": \"animate\"}, {\"args\": [[\"21.5\"], {\"frame\": {\"duration\": 300, \"redraw\": false}, \"mode\": \"immediate\", \"transition\": {\"duration\": 300}}], \"label\": \"21.5\", \"method\": \"animate\"}, {\"args\": [[\"21.75\"], {\"frame\": {\"duration\": 300, \"redraw\": false}, \"mode\": \"immediate\", \"transition\": {\"duration\": 300}}], \"label\": \"21.75\", \"method\": \"animate\"}, {\"args\": [[\"22.0\"], {\"frame\": {\"duration\": 300, \"redraw\": false}, \"mode\": \"immediate\", \"transition\": {\"duration\": 300}}], \"label\": \"22.0\", \"method\": \"animate\"}, {\"args\": [[\"22.25\"], {\"frame\": {\"duration\": 300, \"redraw\": false}, \"mode\": \"immediate\", \"transition\": {\"duration\": 300}}], \"label\": \"22.25\", \"method\": \"animate\"}, {\"args\": [[\"22.5\"], {\"frame\": {\"duration\": 300, \"redraw\": false}, \"mode\": \"immediate\", \"transition\": {\"duration\": 300}}], \"label\": \"22.5\", \"method\": \"animate\"}, {\"args\": [[\"22.75\"], {\"frame\": {\"duration\": 300, \"redraw\": false}, \"mode\": \"immediate\", \"transition\": {\"duration\": 300}}], \"label\": \"22.75\", \"method\": \"animate\"}, {\"args\": [[\"23.0\"], {\"frame\": {\"duration\": 300, \"redraw\": false}, \"mode\": \"immediate\", \"transition\": {\"duration\": 300}}], \"label\": \"23.0\", \"method\": \"animate\"}, {\"args\": [[\"23.25\"], {\"frame\": {\"duration\": 300, \"redraw\": false}, \"mode\": \"immediate\", \"transition\": {\"duration\": 300}}], \"label\": \"23.25\", \"method\": \"animate\"}, {\"args\": [[\"23.5\"], {\"frame\": {\"duration\": 300, \"redraw\": false}, \"mode\": \"immediate\", \"transition\": {\"duration\": 300}}], \"label\": \"23.5\", \"method\": \"animate\"}, {\"args\": [[\"23.75\"], {\"frame\": {\"duration\": 300, \"redraw\": false}, \"mode\": \"immediate\", \"transition\": {\"duration\": 300}}], \"label\": \"23.75\", \"method\": \"animate\"}, {\"args\": [[\"24.0\"], {\"frame\": {\"duration\": 300, \"redraw\": false}, \"mode\": \"immediate\", \"transition\": {\"duration\": 300}}], \"label\": \"24.0\", \"method\": \"animate\"}, {\"args\": [[\"24.25\"], {\"frame\": {\"duration\": 300, \"redraw\": false}, \"mode\": \"immediate\", \"transition\": {\"duration\": 300}}], \"label\": \"24.25\", \"method\": \"animate\"}, {\"args\": [[\"24.5\"], {\"frame\": {\"duration\": 300, \"redraw\": false}, \"mode\": \"immediate\", \"transition\": {\"duration\": 300}}], \"label\": \"24.5\", \"method\": \"animate\"}, {\"args\": [[\"24.75\"], {\"frame\": {\"duration\": 300, \"redraw\": false}, \"mode\": \"immediate\", \"transition\": {\"duration\": 300}}], \"label\": \"24.75\", \"method\": \"animate\"}, {\"args\": [[\"25.0\"], {\"frame\": {\"duration\": 300, \"redraw\": false}, \"mode\": \"immediate\", \"transition\": {\"duration\": 300}}], \"label\": \"25.0\", \"method\": \"animate\"}, {\"args\": [[\"25.25\"], {\"frame\": {\"duration\": 300, \"redraw\": false}, \"mode\": \"immediate\", \"transition\": {\"duration\": 300}}], \"label\": \"25.25\", \"method\": \"animate\"}, {\"args\": [[\"25.5\"], {\"frame\": {\"duration\": 300, \"redraw\": false}, \"mode\": \"immediate\", \"transition\": {\"duration\": 300}}], \"label\": \"25.5\", \"method\": \"animate\"}, {\"args\": [[\"25.75\"], {\"frame\": {\"duration\": 300, \"redraw\": false}, \"mode\": \"immediate\", \"transition\": {\"duration\": 300}}], \"label\": \"25.75\", \"method\": \"animate\"}, {\"args\": [[\"26.0\"], {\"frame\": {\"duration\": 300, \"redraw\": false}, \"mode\": \"immediate\", \"transition\": {\"duration\": 300}}], \"label\": \"26.0\", \"method\": \"animate\"}, {\"args\": [[\"26.25\"], {\"frame\": {\"duration\": 300, \"redraw\": false}, \"mode\": \"immediate\", \"transition\": {\"duration\": 300}}], \"label\": \"26.25\", \"method\": \"animate\"}, {\"args\": [[\"26.5\"], {\"frame\": {\"duration\": 300, \"redraw\": false}, \"mode\": \"immediate\", \"transition\": {\"duration\": 300}}], \"label\": \"26.5\", \"method\": \"animate\"}, {\"args\": [[\"26.75\"], {\"frame\": {\"duration\": 300, \"redraw\": false}, \"mode\": \"immediate\", \"transition\": {\"duration\": 300}}], \"label\": \"26.75\", \"method\": \"animate\"}, {\"args\": [[\"27.0\"], {\"frame\": {\"duration\": 300, \"redraw\": false}, \"mode\": \"immediate\", \"transition\": {\"duration\": 300}}], \"label\": \"27.0\", \"method\": \"animate\"}, {\"args\": [[\"27.25\"], {\"frame\": {\"duration\": 300, \"redraw\": false}, \"mode\": \"immediate\", \"transition\": {\"duration\": 300}}], \"label\": \"27.25\", \"method\": \"animate\"}], \"transition\": {\"duration\": 300, \"easing\": \"cubic-in-out\"}, \"x\": 0.1, \"xanchor\": \"left\", \"y\": 0, \"yanchor\": \"top\"}], \"template\": {\"data\": {\"bar\": [{\"error_x\": {\"color\": \"#2a3f5f\"}, \"error_y\": {\"color\": \"#2a3f5f\"}, \"marker\": {\"line\": {\"color\": \"#E5ECF6\", \"width\": 0.5}}, \"type\": \"bar\"}], \"barpolar\": [{\"marker\": {\"line\": {\"color\": \"#E5ECF6\", \"width\": 0.5}}, \"type\": \"barpolar\"}], \"carpet\": [{\"aaxis\": {\"endlinecolor\": \"#2a3f5f\", \"gridcolor\": \"white\", \"linecolor\": \"white\", \"minorgridcolor\": \"white\", \"startlinecolor\": \"#2a3f5f\"}, \"baxis\": {\"endlinecolor\": \"#2a3f5f\", \"gridcolor\": \"white\", \"linecolor\": \"white\", \"minorgridcolor\": \"white\", \"startlinecolor\": \"#2a3f5f\"}, \"type\": \"carpet\"}], \"choropleth\": [{\"colorbar\": {\"outlinewidth\": 0, \"ticks\": \"\"}, \"type\": \"choropleth\"}], \"contour\": [{\"colorbar\": {\"outlinewidth\": 0, \"ticks\": \"\"}, \"colorscale\": [[0.0, \"#0d0887\"], [0.1111111111111111, \"#46039f\"], [0.2222222222222222, \"#7201a8\"], [0.3333333333333333, \"#9c179e\"], [0.4444444444444444, \"#bd3786\"], [0.5555555555555556, \"#d8576b\"], [0.6666666666666666, \"#ed7953\"], [0.7777777777777778, \"#fb9f3a\"], [0.8888888888888888, \"#fdca26\"], [1.0, \"#f0f921\"]], \"type\": \"contour\"}], \"contourcarpet\": [{\"colorbar\": {\"outlinewidth\": 0, \"ticks\": \"\"}, \"type\": \"contourcarpet\"}], \"heatmap\": [{\"colorbar\": {\"outlinewidth\": 0, \"ticks\": \"\"}, \"colorscale\": [[0.0, \"#0d0887\"], [0.1111111111111111, \"#46039f\"], [0.2222222222222222, \"#7201a8\"], [0.3333333333333333, \"#9c179e\"], [0.4444444444444444, \"#bd3786\"], [0.5555555555555556, \"#d8576b\"], [0.6666666666666666, \"#ed7953\"], [0.7777777777777778, \"#fb9f3a\"], [0.8888888888888888, \"#fdca26\"], [1.0, \"#f0f921\"]], \"type\": \"heatmap\"}], \"heatmapgl\": [{\"colorbar\": {\"outlinewidth\": 0, \"ticks\": \"\"}, \"colorscale\": [[0.0, \"#0d0887\"], [0.1111111111111111, \"#46039f\"], [0.2222222222222222, \"#7201a8\"], [0.3333333333333333, \"#9c179e\"], [0.4444444444444444, \"#bd3786\"], [0.5555555555555556, \"#d8576b\"], [0.6666666666666666, \"#ed7953\"], [0.7777777777777778, \"#fb9f3a\"], [0.8888888888888888, \"#fdca26\"], [1.0, \"#f0f921\"]], \"type\": \"heatmapgl\"}], \"histogram\": [{\"marker\": {\"colorbar\": {\"outlinewidth\": 0, \"ticks\": \"\"}}, \"type\": \"histogram\"}], \"histogram2d\": [{\"colorbar\": {\"outlinewidth\": 0, \"ticks\": \"\"}, \"colorscale\": [[0.0, \"#0d0887\"], [0.1111111111111111, \"#46039f\"], [0.2222222222222222, \"#7201a8\"], [0.3333333333333333, \"#9c179e\"], [0.4444444444444444, \"#bd3786\"], [0.5555555555555556, \"#d8576b\"], [0.6666666666666666, \"#ed7953\"], [0.7777777777777778, \"#fb9f3a\"], [0.8888888888888888, \"#fdca26\"], [1.0, \"#f0f921\"]], \"type\": \"histogram2d\"}], \"histogram2dcontour\": [{\"colorbar\": {\"outlinewidth\": 0, \"ticks\": \"\"}, \"colorscale\": [[0.0, \"#0d0887\"], [0.1111111111111111, \"#46039f\"], [0.2222222222222222, \"#7201a8\"], [0.3333333333333333, \"#9c179e\"], [0.4444444444444444, \"#bd3786\"], [0.5555555555555556, \"#d8576b\"], [0.6666666666666666, \"#ed7953\"], [0.7777777777777778, \"#fb9f3a\"], [0.8888888888888888, \"#fdca26\"], [1.0, \"#f0f921\"]], \"type\": \"histogram2dcontour\"}], \"mesh3d\": [{\"colorbar\": {\"outlinewidth\": 0, \"ticks\": \"\"}, \"type\": \"mesh3d\"}], \"parcoords\": [{\"line\": {\"colorbar\": {\"outlinewidth\": 0, \"ticks\": \"\"}}, \"type\": \"parcoords\"}], \"scatter\": [{\"marker\": {\"colorbar\": {\"outlinewidth\": 0, \"ticks\": \"\"}}, \"type\": \"scatter\"}], \"scatter3d\": [{\"line\": {\"colorbar\": {\"outlinewidth\": 0, \"ticks\": \"\"}}, \"marker\": {\"colorbar\": {\"outlinewidth\": 0, \"ticks\": \"\"}}, \"type\": \"scatter3d\"}], \"scattercarpet\": [{\"marker\": {\"colorbar\": {\"outlinewidth\": 0, \"ticks\": \"\"}}, \"type\": \"scattercarpet\"}], \"scattergeo\": [{\"marker\": {\"colorbar\": {\"outlinewidth\": 0, \"ticks\": \"\"}}, \"type\": \"scattergeo\"}], \"scattergl\": [{\"marker\": {\"colorbar\": {\"outlinewidth\": 0, \"ticks\": \"\"}}, \"type\": \"scattergl\"}], \"scattermapbox\": [{\"marker\": {\"colorbar\": {\"outlinewidth\": 0, \"ticks\": \"\"}}, \"type\": \"scattermapbox\"}], \"scatterpolar\": [{\"marker\": {\"colorbar\": {\"outlinewidth\": 0, \"ticks\": \"\"}}, \"type\": \"scatterpolar\"}], \"scatterpolargl\": [{\"marker\": {\"colorbar\": {\"outlinewidth\": 0, \"ticks\": \"\"}}, \"type\": \"scatterpolargl\"}], \"scatterternary\": [{\"marker\": {\"colorbar\": {\"outlinewidth\": 0, \"ticks\": \"\"}}, \"type\": \"scatterternary\"}], \"surface\": [{\"colorbar\": {\"outlinewidth\": 0, \"ticks\": \"\"}, \"colorscale\": [[0.0, \"#0d0887\"], [0.1111111111111111, \"#46039f\"], [0.2222222222222222, \"#7201a8\"], [0.3333333333333333, \"#9c179e\"], [0.4444444444444444, \"#bd3786\"], [0.5555555555555556, \"#d8576b\"], [0.6666666666666666, \"#ed7953\"], [0.7777777777777778, \"#fb9f3a\"], [0.8888888888888888, \"#fdca26\"], [1.0, \"#f0f921\"]], \"type\": \"surface\"}], \"table\": [{\"cells\": {\"fill\": {\"color\": \"#EBF0F8\"}, \"line\": {\"color\": \"white\"}}, \"header\": {\"fill\": {\"color\": \"#C8D4E3\"}, \"line\": {\"color\": \"white\"}}, \"type\": \"table\"}]}, \"layout\": {\"annotationdefaults\": {\"arrowcolor\": \"#2a3f5f\", \"arrowhead\": 0, \"arrowwidth\": 1}, \"colorscale\": {\"diverging\": [[0, \"#8e0152\"], [0.1, \"#c51b7d\"], [0.2, \"#de77ae\"], [0.3, \"#f1b6da\"], [0.4, \"#fde0ef\"], [0.5, \"#f7f7f7\"], [0.6, \"#e6f5d0\"], [0.7, \"#b8e186\"], [0.8, \"#7fbc41\"], [0.9, \"#4d9221\"], [1, \"#276419\"]], \"sequential\": [[0.0, \"#0d0887\"], [0.1111111111111111, \"#46039f\"], [0.2222222222222222, \"#7201a8\"], [0.3333333333333333, \"#9c179e\"], [0.4444444444444444, \"#bd3786\"], [0.5555555555555556, \"#d8576b\"], [0.6666666666666666, \"#ed7953\"], [0.7777777777777778, \"#fb9f3a\"], [0.8888888888888888, \"#fdca26\"], [1.0, \"#f0f921\"]], \"sequentialminus\": [[0.0, \"#0d0887\"], [0.1111111111111111, \"#46039f\"], [0.2222222222222222, \"#7201a8\"], [0.3333333333333333, \"#9c179e\"], [0.4444444444444444, \"#bd3786\"], [0.5555555555555556, \"#d8576b\"], [0.6666666666666666, \"#ed7953\"], [0.7777777777777778, \"#fb9f3a\"], [0.8888888888888888, \"#fdca26\"], [1.0, \"#f0f921\"]]}, \"colorway\": [\"#636efa\", \"#EF553B\", \"#00cc96\", \"#ab63fa\", \"#FFA15A\", \"#19d3f3\", \"#FF6692\", \"#B6E880\", \"#FF97FF\", \"#FECB52\"], \"font\": {\"color\": \"#2a3f5f\"}, \"geo\": {\"bgcolor\": \"white\", \"lakecolor\": \"white\", \"landcolor\": \"#E5ECF6\", \"showlakes\": true, \"showland\": true, \"subunitcolor\": \"white\"}, \"hoverlabel\": {\"align\": \"left\"}, \"hovermode\": \"closest\", \"mapbox\": {\"style\": \"light\"}, \"paper_bgcolor\": \"white\", \"plot_bgcolor\": \"#E5ECF6\", \"polar\": {\"angularaxis\": {\"gridcolor\": \"white\", \"linecolor\": \"white\", \"ticks\": \"\"}, \"bgcolor\": \"#E5ECF6\", \"radialaxis\": {\"gridcolor\": \"white\", \"linecolor\": \"white\", \"ticks\": \"\"}}, \"scene\": {\"xaxis\": {\"backgroundcolor\": \"#E5ECF6\", \"gridcolor\": \"white\", \"gridwidth\": 2, \"linecolor\": \"white\", \"showbackground\": true, \"ticks\": \"\", \"zerolinecolor\": \"white\"}, \"yaxis\": {\"backgroundcolor\": \"#E5ECF6\", \"gridcolor\": \"white\", \"gridwidth\": 2, \"linecolor\": \"white\", \"showbackground\": true, \"ticks\": \"\", \"zerolinecolor\": \"white\"}, \"zaxis\": {\"backgroundcolor\": \"#E5ECF6\", \"gridcolor\": \"white\", \"gridwidth\": 2, \"linecolor\": \"white\", \"showbackground\": true, \"ticks\": \"\", \"zerolinecolor\": \"white\"}}, \"shapedefaults\": {\"line\": {\"color\": \"#2a3f5f\"}}, \"ternary\": {\"aaxis\": {\"gridcolor\": \"white\", \"linecolor\": \"white\", \"ticks\": \"\"}, \"baxis\": {\"gridcolor\": \"white\", \"linecolor\": \"white\", \"ticks\": \"\"}, \"bgcolor\": \"#E5ECF6\", \"caxis\": {\"gridcolor\": \"white\", \"linecolor\": \"white\", \"ticks\": \"\"}}, \"title\": {\"x\": 0.05}, \"xaxis\": {\"automargin\": true, \"gridcolor\": \"white\", \"linecolor\": \"white\", \"ticks\": \"\", \"zerolinecolor\": \"white\", \"zerolinewidth\": 2}, \"yaxis\": {\"automargin\": true, \"gridcolor\": \"white\", \"linecolor\": \"white\", \"ticks\": \"\", \"zerolinecolor\": \"white\", \"zerolinewidth\": 2}}}, \"title\": {\"text\": \"Participant 5 Eye Gaze Graph Visualization\"}, \"updatemenus\": [{\"buttons\": [{\"args\": [null, {\"frame\": {\"duration\": 2000, \"redraw\": false}, \"fromcurrent\": true, \"transition\": {\"duration\": 300, \"easing\": \"quadratic-in-out\"}}], \"label\": \"Play\", \"method\": \"animate\"}, {\"args\": [[null], {\"frame\": {\"duration\": 0, \"redraw\": false}, \"mode\": \"immediate\", \"transition\": {\"duration\": 0}}], \"label\": \"Pause\", \"method\": \"animate\"}], \"direction\": \"left\", \"pad\": {\"r\": 10, \"t\": 87}, \"showactive\": false, \"type\": \"buttons\", \"x\": 0.1, \"xanchor\": \"right\", \"y\": 0, \"yanchor\": \"top\"}], \"width\": 1024, \"xaxis\": {\"range\": [0, 1300], \"title\": {\"text\": \"Screen X\"}}, \"yaxis\": {\"range\": [0, 1200], \"title\": {\"text\": \"Screen Y\"}}},\n",
       "                        {\"responsive\": true}\n",
       "                    ).then(function(){\n",
       "                            Plotly.addFrames('09e2ac49-da18-4364-ad7b-ac8d282c19cb', [{\"data\": [{\"marker\": {\"opacity\": 0.5, \"size\": [100, 139, 199, 359, 100, 219, 299, 160, 499, 299, 279, 180, 140, 120, 140, 120, 120, 139, 160, 160, 180, 219, 119, 120, 119], \"sizemode\": \"area\", \"sizeref\": 0, \"symbol\": 0}, \"mode\": \"markers\", \"name\": \"Dilated Pupil\", \"text\": [\" Minutes: 0.004<br>Duration: 0\", \" Minutes: 0.069<br>Duration: 0\", \" Minutes: 0.077<br>Duration: 0\", \" Minutes: 0.08<br>Duration: 0\", \" Minutes: 0.095<br>Duration: 0\", \" Minutes: 0.11<br>Duration: 0\", \" Minutes: 0.116<br>Duration: 0\", \" Minutes: 0.13<br>Duration: 0\", \" Minutes: 0.133<br>Duration: 0\", \" Minutes: 0.142<br>Duration: 0\", \" Minutes: 0.147<br>Duration: 0\", \" Minutes: 0.152<br>Duration: 0\", \" Minutes: 0.163<br>Duration: 0\", \" Minutes: 0.167<br>Duration: 0\", \" Minutes: 0.17<br>Duration: 0\", \" Minutes: 0.178<br>Duration: 0\", \" Minutes: 0.196<br>Duration: 0\", \" Minutes: 0.2<br>Duration: 0\", \" Minutes: 0.21<br>Duration: 0\", \" Minutes: 0.217<br>Duration: 0\", \" Minutes: 0.22<br>Duration: 0\", \" Minutes: 0.223<br>Duration: 0\", \" Minutes: 0.231<br>Duration: 0\", \" Minutes: 0.242<br>Duration: 0\", \" Minutes: 0.249<br>Duration: 0\"], \"x\": [673, 388, 350, 479, 679, 119, 119, 292, 471, 471, 556, 604, 201, 200, 311, 447, 244, 91, 123, 295, 269, 77, 263, 579, 628], \"y\": [469, 191, 454, 452, 425, 193, 196, 203, 228, 232, 240, 235, 179, 174, 207, 189, 208, 246, 229, 218, 233, 271, 215, 242, 220], \"type\": \"scatter\"}, {\"marker\": {\"opacity\": 0.5, \"size\": [179, 179, 120, 120, 140], \"sizemode\": \"area\", \"sizeref\": 0, \"symbol\": 0}, \"mode\": \"markers\", \"name\": \"Squeezed Pupil \", \"text\": [\" Minutes: 0.013<br>Duration: 0\", \" Minutes: 0.019<br>Duration: 0\", \" Minutes: 0.03<br>Duration: 0\", \" Minutes: 0.172<br>Duration: 0\", \" Minutes: 0.245<br>Duration: 0\"], \"x\": [648, 641, 674, 313, 626], \"y\": [534, 454, 482, 193, 250], \"type\": \"scatter\"}, {\"marker\": {\"size\": 10, \"sizemode\": \"area\", \"sizeref\": 1, \"symbol\": 207}, \"mode\": \"markers\", \"name\": \"LMouseButton\", \"text\": [\" Minute: 0.147\"], \"x\": [468], \"y\": [221], \"type\": \"scatter\"}], \"name\": \"0.25\"}, {\"data\": [{\"marker\": {\"opacity\": 0.5, \"size\": [259, 239, 339, 100, 319, 299, 180, 159, 359, 120, 139, 778, 758, 279, 399, 259, 1635, 279, 139, 399, 578, 498, 399, 957, 798, 179, 379], \"sizemode\": \"area\", \"sizeref\": 0, \"symbol\": 0}, \"mode\": \"markers\", \"name\": \"Dilated Pupil\", \"text\": [\" Minutes: 0.252<br>Duration: 0\", \" Minutes: 0.257<br>Duration: 0\", \" Minutes: 0.261<br>Duration: 0\", \" Minutes: 0.272<br>Duration: 0\", \" Minutes: 0.276<br>Duration: 0\", \" Minutes: 0.282<br>Duration: 0\", \" Minutes: 0.288<br>Duration: 0\", \" Minutes: 0.291<br>Duration: 0\", \" Minutes: 0.294<br>Duration: 0\", \" Minutes: 0.301<br>Duration: 0\", \" Minutes: 0.303<br>Duration: 0\", \" Minutes: 0.306<br>Duration: 0\", \" Minutes: 0.319<br>Duration: 0\", \" Minutes: 0.333<br>Duration: 0\", \" Minutes: 0.358<br>Duration: 0\", \" Minutes: 0.365<br>Duration: 0\", \" Minutes: 0.38<br>Duration: 0\", \" Minutes: 0.407<br>Duration: 0\", \" Minutes: 0.414<br>Duration: 0\", \" Minutes: 0.417<br>Duration: 0\", \" Minutes: 0.427<br>Duration: 0\", \" Minutes: 0.437<br>Duration: 0\", \" Minutes: 0.449<br>Duration: 0\", \" Minutes: 0.456<br>Duration: 0\", \" Minutes: 0.474<br>Duration: 0\", \" Minutes: 0.488<br>Duration: 0\", \" Minutes: 0.494<br>Duration: 0\"], \"x\": [617, 620, 491, 254, 72, 266, 525, 608, 612, 513, 505, 609, 619, 623, 623, 667, 623, 598, 580, 586, 503, 617, 753, 622, 617, 507, 479], \"y\": [194, 188, 172, 201, 239, 214, 190, 199, 225, 237, 220, 221, 220, 208, 222, 211, 199, 191, 212, 201, 195, 204, 218, 194, 198, 182, 195], \"type\": \"scatter\"}, {\"marker\": {\"opacity\": 0.5, \"size\": [], \"sizemode\": \"area\", \"sizeref\": 0, \"symbol\": 0}, \"mode\": \"markers\", \"name\": \"Squeezed Pupil \", \"text\": [], \"x\": [], \"y\": [], \"type\": \"scatter\"}, {\"marker\": {\"size\": 10, \"sizemode\": \"area\", \"sizeref\": 1, \"symbol\": 207}, \"mode\": \"markers\", \"name\": \"LMouseButton\", \"text\": [\" Minute: 0.287\", \" Minute: 0.298\", \" Minute: 0.31\", \" Minute: 0.329\", \" Minute: 0.339\", \" Minute: 0.344\", \" Minute: 0.359\", \" Minute: 0.367\", \" Minute: 0.374\", \" Minute: 0.387\", \" Minute: 0.394\", \" Minute: 0.399\", \" Minute: 0.409\", \" Minute: 0.417\", \" Minute: 0.421\", \" Minute: 0.431\", \" Minute: 0.452\", \" Minute: 0.474\", \" Minute: 0.492\", \" Minute: 0.499\"], \"x\": [588, 607, 594, 589, 585, 584, 613, 587, 587, 599, 601, 604, 583, 578, 577, 510, 593, 604, 584, 578], \"y\": [230, 234, 240, 231, 251, 238, 232, 232, 220, 217, 217, 217, 230, 223, 219, 230, 220, 213, 232, 216], \"type\": \"scatter\"}], \"name\": \"0.5\"}, {\"data\": [{\"marker\": {\"opacity\": 0.5, \"size\": [100, 259, 239, 179, 299, 120, 100, 538, 140, 239, 618, 179, 279, 678, 339, 319, 299, 199, 199, 120, 219, 100, 558, 100, 279, 199, 139, 159, 359, 319, 140, 339, 140, 439, 239, 199, 439], \"sizemode\": \"area\", \"sizeref\": 0, \"symbol\": 0}, \"mode\": \"markers\", \"name\": \"Dilated Pupil\", \"text\": [\" Minutes: 0.5<br>Duration: 0\", \" Minutes: 0.502<br>Duration: 0\", \" Minutes: 0.508<br>Duration: 0\", \" Minutes: 0.514<br>Duration: 0\", \" Minutes: 0.517<br>Duration: 0\", \" Minutes: 0.526<br>Duration: 0\", \" Minutes: 0.529<br>Duration: 0\", \" Minutes: 0.533<br>Duration: 0\", \" Minutes: 0.565<br>Duration: 0\", \" Minutes: 0.567<br>Duration: 0\", \" Minutes: 0.572<br>Duration: 0\", \" Minutes: 0.582<br>Duration: 0\", \" Minutes: 0.586<br>Duration: 0\", \" Minutes: 0.591<br>Duration: 0\", \" Minutes: 0.603<br>Duration: 0\", \" Minutes: 0.609<br>Duration: 0\", \" Minutes: 0.615<br>Duration: 0\", \" Minutes: 0.62<br>Duration: 0\", \" Minutes: 0.642<br>Duration: 0\", \" Minutes: 0.655<br>Duration: 0\", \" Minutes: 0.657<br>Duration: 0\", \" Minutes: 0.663<br>Duration: 0\", \" Minutes: 0.665<br>Duration: 0\", \" Minutes: 0.675<br>Duration: 0\", \" Minutes: 0.677<br>Duration: 0\", \" Minutes: 0.682<br>Duration: 0\", \" Minutes: 0.685<br>Duration: 0\", \" Minutes: 0.694<br>Duration: 0\", \" Minutes: 0.697<br>Duration: 0\", \" Minutes: 0.703<br>Duration: 0\", \" Minutes: 0.709<br>Duration: 0\", \" Minutes: 0.713<br>Duration: 0\", \" Minutes: 0.72<br>Duration: 0\", \" Minutes: 0.729<br>Duration: 0\", \" Minutes: 0.737<br>Duration: 0\", \" Minutes: 0.743<br>Duration: 0\", \" Minutes: 0.747<br>Duration: 0\"], \"x\": [474, 601, 608, 718, 787, 686, 686, 575, 572, 567, 607, 605, 589, 629, 590, 570, 571, 450, 446, 448, 608, 614, 609, 603, 607, 601, 638, 604, 609, 606, 606, 513, 647, 611, 608, 606, 614], \"y\": [236, 279, 275, 264, 239, 291, 297, 245, 247, 235, 238, 236, 185, 170, 244, 249, 241, 225, 232, 233, 239, 247, 242, 238, 242, 274, 259, 269, 279, 273, 267, 260, 260, 260, 263, 268, 265], \"type\": \"scatter\"}, {\"marker\": {\"opacity\": 0.5, \"size\": [], \"sizemode\": \"area\", \"sizeref\": 0, \"symbol\": 0}, \"mode\": \"markers\", \"name\": \"Squeezed Pupil \", \"text\": [], \"x\": [], \"y\": [], \"type\": \"scatter\"}, {\"marker\": {\"size\": 10, \"sizemode\": \"area\", \"sizeref\": 1, \"symbol\": 207}, \"mode\": \"markers\", \"name\": \"LMouseButton\", \"text\": [\" Minute: 0.538\", \" Minute: 0.545\", \" Minute: 0.555\", \" Minute: 0.559\", \" Minute: 0.567\", \" Minute: 0.576\", \" Minute: 0.581\", \" Minute: 0.599\", \" Minute: 0.61\", \" Minute: 0.613\", \" Minute: 0.636\", \" Minute: 0.638\", \" Minute: 0.645\", \" Minute: 0.646\", \" Minute: 0.651\", \" Minute: 0.672\", \" Minute: 0.694\", \" Minute: 0.712\", \" Minute: 0.728\", \" Minute: 0.746\"], \"x\": [576, 577, 601, 602, 565, 631, 588, 661, 568, 568, 563, 600, 591, 607, 586, 590], \"y\": [223, 216, 216, 215, 236, 213, 214, 89, 218, 218, 235, 232, 250, 249, 249, 268], \"type\": \"scatter\"}], \"name\": \"0.75\"}, {\"data\": [{\"marker\": {\"opacity\": 0.5, \"size\": [160, 219, 578, 199, 100, 100, 459, 259, 180, 120, 179, 199, 658, 180, 120, 179, 120, 279, 379, 120, 498, 120, 120, 160, 160, 159, 339, 299, 179, 219, 259], \"sizemode\": \"area\", \"sizeref\": 0, \"symbol\": 0}, \"mode\": \"markers\", \"name\": \"Dilated Pupil\", \"text\": [\" Minutes: 0.755<br>Duration: 0\", \" Minutes: 0.758<br>Duration: 0\", \" Minutes: 0.764<br>Duration: 0\", \" Minutes: 0.782<br>Duration: 0\", \" Minutes: 0.786<br>Duration: 0\", \" Minutes: 0.793<br>Duration: 0\", \" Minutes: 0.802<br>Duration: 0\", \" Minutes: 0.816<br>Duration: 0\", \" Minutes: 0.852<br>Duration: 0\", \" Minutes: 0.856<br>Duration: 0\", \" Minutes: 0.859<br>Duration: 0\", \" Minutes: 0.862<br>Duration: 0\", \" Minutes: 0.866<br>Duration: 0\", \" Minutes: 0.881<br>Duration: 0\", \" Minutes: 0.885<br>Duration: 0\", \" Minutes: 0.89<br>Duration: 0\", \" Minutes: 0.893<br>Duration: 0\", \" Minutes: 0.898<br>Duration: 0\", \" Minutes: 0.905<br>Duration: 0\", \" Minutes: 0.912<br>Duration: 0\", \" Minutes: 0.917<br>Duration: 0\", \" Minutes: 0.926<br>Duration: 0\", \" Minutes: 0.928<br>Duration: 0\", \" Minutes: 0.933<br>Duration: 0\", \" Minutes: 0.946<br>Duration: 0\", \" Minutes: 0.962<br>Duration: 0\", \" Minutes: 0.971<br>Duration: 0\", \" Minutes: 0.979<br>Duration: 0\", \" Minutes: 0.985<br>Duration: 0\", \" Minutes: 0.988<br>Duration: 0\", \" Minutes: 0.995<br>Duration: 0\"], \"x\": [612, 616, 515, 257, 92, 275, 493, 457, 675, 728, 768, 657, 451, 255, 62, 419, 416, 444, 596, 598, 626, 624, 624, 451, 79, 461, 609, 619, 608, 606, 517], \"y\": [263, 275, 304, 247, 265, 242, 274, 265, 292, 294, 302, 315, 282, 283, 296, 269, 288, 285, 288, 290, 284, 292, 270, 296, 293, 275, 298, 293, 300, 294, 254], \"type\": \"scatter\"}, {\"marker\": {\"opacity\": 0.5, \"size\": [160, 120, 140, 279, 299, 179, 100], \"sizemode\": \"area\", \"sizeref\": 0, \"symbol\": 0}, \"mode\": \"markers\", \"name\": \"Squeezed Pupil \", \"text\": [\" Minutes: 0.789<br>Duration: 0\", \" Minutes: 0.812<br>Duration: 0\", \" Minutes: 0.82<br>Duration: 0\", \" Minutes: 0.836<br>Duration: 0\", \" Minutes: 0.842<br>Duration: 0\", \" Minutes: 0.878<br>Duration: 0\", \" Minutes: 0.966<br>Duration: 0\"], \"x\": [81, 483, 440, 622, 609, 278, 620], \"y\": [255, 306, 225, 285, 302, 271, 294], \"type\": \"scatter\"}, {\"marker\": {\"size\": 10, \"sizemode\": \"area\", \"sizeref\": 1, \"symbol\": 207}, \"mode\": \"markers\", \"name\": \"LMouseButton\", \"text\": [\" Minute: 0.758\", \" Minute: 0.799\", \" Minute: 0.975\", \" Minute: 0.987\"], \"x\": [610, 550, 589, 611], \"y\": [267, 279, 284, 284], \"type\": \"scatter\"}], \"name\": \"1.0\"}, {\"data\": [{\"marker\": {\"opacity\": 0.5, \"size\": [259, 160, 459, 399, 180, 199, 159, 140, 359, 160, 399, 159, 120, 279, 339, 439, 180, 159, 100, 518, 219, 319, 339, 199, 359, 219, 339, 2054], \"sizemode\": \"area\", \"sizeref\": 0, \"symbol\": 0}, \"mode\": \"markers\", \"name\": \"Dilated Pupil\", \"text\": [\" Minutes: 1.002<br>Duration: 0\", \" Minutes: 1.007<br>Duration: 0\", \" Minutes: 1.01<br>Duration: 0\", \" Minutes: 1.018<br>Duration: 0\", \" Minutes: 1.025<br>Duration: 0\", \" Minutes: 1.03<br>Duration: 0\", \" Minutes: 1.033<br>Duration: 0\", \" Minutes: 1.036<br>Duration: 0\", \" Minutes: 1.045<br>Duration: 0\", \" Minutes: 1.052<br>Duration: 0\", \" Minutes: 1.081<br>Duration: 0\", \" Minutes: 1.106<br>Duration: 0\", \" Minutes: 1.11<br>Duration: 0\", \" Minutes: 1.123<br>Duration: 0\", \" Minutes: 1.129<br>Duration: 0\", \" Minutes: 1.141<br>Duration: 0\", \" Minutes: 1.149<br>Duration: 0\", \" Minutes: 1.153<br>Duration: 0\", \" Minutes: 1.156<br>Duration: 0\", \" Minutes: 1.158<br>Duration: 0\", \" Minutes: 1.167<br>Duration: 0\", \" Minutes: 1.171<br>Duration: 0\", \" Minutes: 1.176<br>Duration: 0\", \" Minutes: 1.182<br>Duration: 0\", \" Minutes: 1.186<br>Duration: 0\", \" Minutes: 1.194<br>Duration: 0\", \" Minutes: 1.236<br>Duration: 0\", \" Minutes: 1.249<br>Duration: 0\"], \"x\": [454, 461, 439, 266, 250, 65, 109, 272, 443, 118, 441, 272, 79, 440, 268, 280, 444, 456, 451, 451, 447, 446, 460, 466, 451, 444, 445, 443], \"y\": [276, 290, 249, 249, 240, 250, 260, 242, 246, 247, 231, 228, 229, 241, 222, 213, 245, 248, 233, 240, 232, 235, 283, 298, 279, 246, 227, 231], \"type\": \"scatter\"}, {\"marker\": {\"opacity\": 0.5, \"size\": [239, 419, 658, 140], \"sizemode\": \"area\", \"sizeref\": 0, \"symbol\": 0}, \"mode\": \"markers\", \"name\": \"Squeezed Pupil \", \"text\": [\" Minutes: 1.098<br>Duration: 0\", \" Minutes: 1.198<br>Duration: 0\", \" Minutes: 1.208<br>Duration: 0\", \" Minutes: 1.233<br>Duration: 0\"], \"x\": [69, 435, 442, 459], \"y\": [241, 231, 226, 209], \"type\": \"scatter\"}, {\"marker\": {\"size\": 10, \"sizemode\": \"area\", \"sizeref\": 1, \"symbol\": 207}, \"mode\": \"markers\", \"name\": \"LMouseButton\", \"text\": [\" Minute: 1.002\", \" Minute: 1.047\", \" Minute: 1.064\", \" Minute: 1.068\", \" Minute: 1.073\", \" Minute: 1.09\", \" Minute: 1.114\", \" Minute: 1.122\", \" Minute: 1.123\", \" Minute: 1.123\", \" Minute: 1.13\", \" Minute: 1.131\", \" Minute: 1.153\", \" Minute: 1.183\", \" Minute: 1.214\", \" Minute: 1.238\", \" Minute: 1.243\"], \"x\": [582, 481, 479, 483, 523, 472], \"y\": [234, 249, 235, 217, 273, 220], \"type\": \"scatter\"}], \"name\": \"1.25\"}, {\"data\": [{\"marker\": {\"opacity\": 0.5, \"size\": [199, 120, 299, 499, 319, 259, 140, 259, 140], \"sizemode\": \"area\", \"sizeref\": 0, \"symbol\": 0}, \"mode\": \"markers\", \"name\": \"Dilated Pupil\", \"text\": [\" Minutes: 1.284<br>Duration: 0\", \" Minutes: 1.291<br>Duration: 0\", \" Minutes: 1.293<br>Duration: 0\", \" Minutes: 1.298<br>Duration: 0\", \" Minutes: 1.307<br>Duration: 0\", \" Minutes: 1.343<br>Duration: 0\", \" Minutes: 1.383<br>Duration: 0\", \" Minutes: 1.421<br>Duration: 0\", \" Minutes: 1.426<br>Duration: 0\"], \"x\": [450, 453, 452, 445, 283, 336, 264, 507, 500], \"y\": [269, 279, 271, 250, 238, 237, 262, 292, 281], \"type\": \"scatter\"}, {\"marker\": {\"opacity\": 0.5, \"size\": [359, 219, 100, 259, 558, 160, 259, 120, 199, 140, 140, 219], \"sizemode\": \"area\", \"sizeref\": 0, \"symbol\": 0}, \"mode\": \"markers\", \"name\": \"Squeezed Pupil \", \"text\": [\" Minutes: 1.313<br>Duration: 0\", \" Minutes: 1.367<br>Duration: 0\", \" Minutes: 1.372<br>Duration: 0\", \" Minutes: 1.376<br>Duration: 0\", \" Minutes: 1.404<br>Duration: 0\", \" Minutes: 1.431<br>Duration: 0\", \" Minutes: 1.436<br>Duration: 0\", \" Minutes: 1.457<br>Duration: 0\", \" Minutes: 1.474<br>Duration: 0\", \" Minutes: 1.483<br>Duration: 0\", \" Minutes: 1.491<br>Duration: 0\", \" Minutes: 1.496<br>Duration: 0\"], \"x\": [66, 314, 274, 60, 613, 507, 506, 520, 500, 613, 497, 263], \"y\": [254, 248, 244, 250, 277, 286, 299, 299, 287, 273, 300, 253], \"type\": \"scatter\"}, {\"marker\": {\"size\": 10, \"sizemode\": \"area\", \"sizeref\": 1, \"symbol\": 207}, \"mode\": \"markers\", \"name\": \"LMouseButton\", \"text\": [\" Minute: 1.255\", \" Minute: 1.274\", \" Minute: 1.277\", \" Minute: 1.302\", \" Minute: 1.416\"], \"x\": [476, 609], \"y\": [250, 248], \"type\": \"scatter\"}], \"name\": \"1.5\"}, {\"data\": [{\"marker\": {\"opacity\": 0.5, \"size\": [120, 219, 160, 160, 239, 319, 140, 279, 120, 160, 598], \"sizemode\": \"area\", \"sizeref\": 0, \"symbol\": 0}, \"mode\": \"markers\", \"name\": \"Dilated Pupil\", \"text\": [\" Minutes: 1.541<br>Duration: 0\", \" Minutes: 1.543<br>Duration: 0\", \" Minutes: 1.553<br>Duration: 0\", \" Minutes: 1.556<br>Duration: 0\", \" Minutes: 1.56<br>Duration: 0\", \" Minutes: 1.579<br>Duration: 0\", \" Minutes: 1.595<br>Duration: 0\", \" Minutes: 1.597<br>Duration: 0\", \" Minutes: 1.645<br>Duration: 0\", \" Minutes: 1.655<br>Duration: 0\", \" Minutes: 1.741<br>Duration: 0\"], \"x\": [289, 325, 323, 325, 509, 611, 427, 428, 441, 236, 531], \"y\": [249, 255, 252, 253, 288, 290, 265, 281, 281, 234, 285], \"type\": \"scatter\"}, {\"marker\": {\"opacity\": 0.5, \"size\": [299, 259, 179, 219, 877, 379, 499, 180, 120, 139, 160, 120, 239, 279, 100, 239, 180, 259, 239, 299, 279, 319, 678], \"sizemode\": \"area\", \"sizeref\": 0, \"symbol\": 0}, \"mode\": \"markers\", \"name\": \"Squeezed Pupil \", \"text\": [\" Minutes: 1.502<br>Duration: 0\", \" Minutes: 1.508<br>Duration: 0\", \" Minutes: 1.514<br>Duration: 0\", \" Minutes: 1.52<br>Duration: 0\", \" Minutes: 1.526<br>Duration: 0\", \" Minutes: 1.564<br>Duration: 0\", \" Minutes: 1.571<br>Duration: 0\", \" Minutes: 1.605<br>Duration: 0\", \" Minutes: 1.618<br>Duration: 0\", \" Minutes: 1.622<br>Duration: 0\", \" Minutes: 1.633<br>Duration: 0\", \" Minutes: 1.638<br>Duration: 0\", \" Minutes: 1.64<br>Duration: 0\", \" Minutes: 1.65<br>Duration: 0\", \" Minutes: 1.66<br>Duration: 0\", \" Minutes: 1.663<br>Duration: 0\", \" Minutes: 1.668<br>Duration: 0\", \" Minutes: 1.681<br>Duration: 0\", \" Minutes: 1.691<br>Duration: 0\", \" Minutes: 1.698<br>Duration: 0\", \" Minutes: 1.709<br>Duration: 0\", \" Minutes: 1.721<br>Duration: 0\", \" Minutes: 1.729<br>Duration: 0\"], \"x\": [49, 252, 258, 267, 270, 487, 585, 39, 324, 321, 322, 444, 442, 248, 256, 75, 275, 63, 535, 244, 270, 615, 615], \"y\": [235, 237, 243, 251, 253, 275, 280, 243, 270, 264, 268, 284, 278, 254, 221, 220, 210, 236, 260, 234, 237, 264, 261], \"type\": \"scatter\"}, {\"marker\": {\"size\": 10, \"sizemode\": \"area\", \"sizeref\": 1, \"symbol\": 207}, \"mode\": \"markers\", \"name\": \"LMouseButton\", \"text\": [\" Minute: 1.563\", \" Minute: 1.578\", \" Minute: 1.597\", \" Minute: 1.63\", \" Minute: 1.643\", \" Minute: 1.726\", \" Minute: 1.749\"], \"x\": [550, 561, 609, 583, 551, 610, 564], \"y\": [281, 262, 265, 279, 276, 232, 272], \"type\": \"scatter\"}], \"name\": \"1.75\"}, {\"data\": [{\"marker\": {\"opacity\": 0.5, \"size\": [299, 259, 439, 219, 139, 100, 1017, 140], \"sizemode\": \"area\", \"sizeref\": 0, \"symbol\": 0}, \"mode\": \"markers\", \"name\": \"Dilated Pupil\", \"text\": [\" Minutes: 1.752<br>Duration: 0\", \" Minutes: 1.843<br>Duration: 0\", \" Minutes: 1.893<br>Duration: 0\", \" Minutes: 1.903<br>Duration: 0\", \" Minutes: 1.907<br>Duration: 0\", \" Minutes: 1.917<br>Duration: 0\", \" Minutes: 1.942<br>Duration: 0\", \" Minutes: 1.997<br>Duration: 0\"], \"x\": [475, 264, 518, 285, 457, 234, 249, 104], \"y\": [249, 257, 287, 227, 243, 225, 237, 326], \"type\": \"scatter\"}, {\"marker\": {\"opacity\": 0.5, \"size\": [339, 199, 459, 319, 359, 180, 279, 279, 359, 339, 120, 778, 219, 140, 140, 179, 100, 140, 219, 120, 279, 279, 120, 100, 259], \"sizemode\": \"area\", \"sizeref\": 0, \"symbol\": 0}, \"mode\": \"markers\", \"name\": \"Squeezed Pupil \", \"text\": [\" Minutes: 1.758<br>Duration: 0\", \" Minutes: 1.783<br>Duration: 0\", \" Minutes: 1.786<br>Duration: 0\", \" Minutes: 1.796<br>Duration: 0\", \" Minutes: 1.806<br>Duration: 0\", \" Minutes: 1.837<br>Duration: 0\", \" Minutes: 1.854<br>Duration: 0\", \" Minutes: 1.859<br>Duration: 0\", \" Minutes: 1.864<br>Duration: 0\", \" Minutes: 1.871<br>Duration: 0\", \" Minutes: 1.877<br>Duration: 0\", \" Minutes: 1.88<br>Duration: 0\", \" Minutes: 1.909<br>Duration: 0\", \" Minutes: 1.92<br>Duration: 0\", \" Minutes: 1.923<br>Duration: 0\", \" Minutes: 1.927<br>Duration: 0\", \" Minutes: 1.933<br>Duration: 0\", \" Minutes: 1.964<br>Duration: 0\", \" Minutes: 1.967<br>Duration: 0\", \" Minutes: 1.971<br>Duration: 0\", \" Minutes: 1.974<br>Duration: 0\", \" Minutes: 1.98<br>Duration: 0\", \" Minutes: 1.987<br>Duration: 0\", \" Minutes: 1.989<br>Duration: 0\", \" Minutes: 1.991<br>Duration: 0\"], \"x\": [457, 617, 621, 498, 68, 531, 274, 350, 282, 352, 367, 605, 453, 66, 49, 46, 47, 632, 623, 621, 472, 445, 312, 274, 275], \"y\": [260, 274, 267, 287, 260, 307, 274, 267, 260, 253, 239, 241, 247, 239, 225, 219, 225, 253, 254, 261, 258, 247, 237, 239, 241], \"type\": \"scatter\"}, {\"marker\": {\"size\": 10, \"sizemode\": \"area\", \"sizeref\": 1, \"symbol\": 207}, \"mode\": \"markers\", \"name\": \"LMouseButton\", \"text\": [\" Minute: 1.763\", \" Minute: 1.782\", \" Minute: 1.842\", \" Minute: 1.858\", \" Minute: 1.89\", \" Minute: 1.901\", \" Minute: 1.911\", \" Minute: 1.974\"], \"x\": [547, 613, 554, 545, 615, 581, 528, 608], \"y\": [251, 247, 294, 270, 214, 260, 234, 231], \"type\": \"scatter\"}], \"name\": \"2.0\"}, {\"data\": [{\"marker\": {\"opacity\": 0.5, \"size\": [199, 100, 160, 179, 259, 100, 199, 199, 120, 100], \"sizemode\": \"area\", \"sizeref\": 0, \"symbol\": 0}, \"mode\": \"markers\", \"name\": \"Dilated Pupil\", \"text\": [\" Minutes: 2.012<br>Duration: 0\", \" Minutes: 2.019<br>Duration: 0\", \" Minutes: 2.021<br>Duration: 0\", \" Minutes: 2.087<br>Duration: 0\", \" Minutes: 2.097<br>Duration: 0\", \" Minutes: 2.106<br>Duration: 0\", \" Minutes: 2.128<br>Duration: 0\", \" Minutes: 2.159<br>Duration: 0\", \" Minutes: 2.171<br>Duration: 0\", \" Minutes: 2.243<br>Duration: 0\"], \"x\": [308, 443, 489, 449, 76, 93, 277, 517, 445, 88], \"y\": [225, 240, 270, 218, 202, 173, 212, 244, 435, 250], \"type\": \"scatter\"}, {\"marker\": {\"opacity\": 0.5, \"size\": [179, 419, 120, 658, 120, 120, 160, 857, 219, 279, 219, 179, 179, 160, 199, 140, 100, 100], \"sizemode\": \"area\", \"sizeref\": 0, \"symbol\": 0}, \"mode\": \"markers\", \"name\": \"Squeezed Pupil \", \"text\": [\" Minutes: 2.003<br>Duration: 0\", \" Minutes: 2.024<br>Duration: 0\", \" Minutes: 2.031<br>Duration: 0\", \" Minutes: 2.038<br>Duration: 0\", \" Minutes: 2.058<br>Duration: 0\", \" Minutes: 2.074<br>Duration: 0\", \" Minutes: 2.094<br>Duration: 0\", \" Minutes: 2.109<br>Duration: 0\", \" Minutes: 2.124<br>Duration: 0\", \" Minutes: 2.141<br>Duration: 0\", \" Minutes: 2.163<br>Duration: 0\", \" Minutes: 2.167<br>Duration: 0\", \" Minutes: 2.178<br>Duration: 0\", \" Minutes: 2.19<br>Duration: 0\", \" Minutes: 2.231<br>Duration: 0\", \" Minutes: 2.24<br>Duration: 0\", \" Minutes: 2.246<br>Duration: 0\", \" Minutes: 2.249<br>Duration: 0\"], \"x\": [57, 471, 471, 471, 723, 466, 272, 265, 274, 448, 519, 472, 67, 456, 64, 89, 77, 80], \"y\": [241, 252, 251, 262, 539, 217, 216, 248, 233, 230, 261, 383, 563, 829, 252, 256, 256, 230], \"type\": \"scatter\"}, {\"marker\": {\"size\": 10, \"sizemode\": \"area\", \"sizeref\": 1, \"symbol\": 207}, \"mode\": \"markers\", \"name\": \"LMouseButton\", \"text\": [\" Minute: 2.069\"], \"x\": [474], \"y\": [226], \"type\": \"scatter\"}], \"name\": \"2.25\"}, {\"data\": [{\"marker\": {\"opacity\": 0.5, \"size\": [259, 100, 119, 279, 279, 179, 339, 139, 319, 140, 459, 259, 100, 140, 100, 140, 100, 259, 120, 479, 638], \"sizemode\": \"area\", \"sizeref\": 0, \"symbol\": 0}, \"mode\": \"markers\", \"name\": \"Dilated Pupil\", \"text\": [\" Minutes: 2.263<br>Duration: 0\", \" Minutes: 2.293<br>Duration: 0\", \" Minutes: 2.295<br>Duration: 0\", \" Minutes: 2.304<br>Duration: 0\", \" Minutes: 2.313<br>Duration: 0\", \" Minutes: 2.318<br>Duration: 0\", \" Minutes: 2.324<br>Duration: 0\", \" Minutes: 2.33<br>Duration: 0\", \" Minutes: 2.332<br>Duration: 0\", \" Minutes: 2.339<br>Duration: 0\", \" Minutes: 2.344<br>Duration: 0\", \" Minutes: 2.354<br>Duration: 0\", \" Minutes: 2.364<br>Duration: 0\", \" Minutes: 2.369<br>Duration: 0\", \" Minutes: 2.419<br>Duration: 0\", \" Minutes: 2.436<br>Duration: 0\", \" Minutes: 2.449<br>Duration: 0\", \" Minutes: 2.453<br>Duration: 0\", \" Minutes: 2.458<br>Duration: 0\", \" Minutes: 2.487<br>Duration: 0\", \" Minutes: 2.497<br>Duration: 0\"], \"x\": [41, 55, 42, 59, 67, 85, 424, 459, 455, 75, 271, 278, 254, 264, 72, 97, 182, 275, 505, 456, 37], \"y\": [222, 311, 249, 267, 252, 274, 255, 233, 238, 216, 233, 241, 284, 250, 515, 532, 207, 214, 298, 217, 198], \"type\": \"scatter\"}, {\"marker\": {\"opacity\": 0.5, \"size\": [100, 179, 199, 159, 120, 140, 159, 199], \"sizemode\": \"area\", \"sizeref\": 0, \"symbol\": 0}, \"mode\": \"markers\", \"name\": \"Squeezed Pupil \", \"text\": [\" Minutes: 2.272<br>Duration: 0\", \" Minutes: 2.359<br>Duration: 0\", \" Minutes: 2.366<br>Duration: 0\", \" Minutes: 2.372<br>Duration: 0\", \" Minutes: 2.391<br>Duration: 0\", \" Minutes: 2.404<br>Duration: 0\", \" Minutes: 2.48<br>Duration: 0\", \" Minutes: 2.483<br>Duration: 0\"], \"x\": [54, 273, 256, 277, 62, 60, 310, 440], \"y\": [250, 233, 267, 255, 535, 514, 202, 225], \"type\": \"scatter\"}, {\"marker\": {\"size\": 10, \"sizemode\": \"area\", \"sizeref\": 1, \"symbol\": 207}, \"mode\": \"markers\", \"name\": \"LMouseButton\", \"text\": [\" Minute: 2.416\", \" Minute: 2.5\"], \"x\": [42, 366], \"y\": [548, 194], \"type\": \"scatter\"}], \"name\": \"2.5\"}, {\"data\": [{\"marker\": {\"opacity\": 0.5, \"size\": [140, 339, 100, 179, 199, 100], \"sizemode\": \"area\", \"sizeref\": 0, \"symbol\": 0}, \"mode\": \"markers\", \"name\": \"Dilated Pupil\", \"text\": [\" Minutes: 2.508<br>Duration: 0\", \" Minutes: 2.512<br>Duration: 0\", \" Minutes: 2.564<br>Duration: 0\", \" Minutes: 2.589<br>Duration: 0\", \" Minutes: 2.595<br>Duration: 0\", \" Minutes: 2.71<br>Duration: 0\"], \"x\": [406, 446, 93, 74, 287, 71], \"y\": [203, 216, 561, 286, 247, 661], \"type\": \"scatter\"}, {\"marker\": {\"opacity\": 0.5, \"size\": [160, 299, 219, 120, 140, 120, 120, 140, 379, 100, 199, 100, 140, 219, 179, 239, 120, 219], \"sizemode\": \"area\", \"sizeref\": 0, \"symbol\": 0}, \"mode\": \"markers\", \"name\": \"Squeezed Pupil \", \"text\": [\" Minutes: 2.519<br>Duration: 0\", \" Minutes: 2.522<br>Duration: 0\", \" Minutes: 2.528<br>Duration: 0\", \" Minutes: 2.532<br>Duration: 0\", \" Minutes: 2.535<br>Duration: 0\", \" Minutes: 2.538<br>Duration: 0\", \" Minutes: 2.54<br>Duration: 0\", \" Minutes: 2.548<br>Duration: 0\", \" Minutes: 2.551<br>Duration: 0\", \" Minutes: 2.559<br>Duration: 0\", \" Minutes: 2.567<br>Duration: 0\", \" Minutes: 2.578<br>Duration: 0\", \" Minutes: 2.662<br>Duration: 0\", \" Minutes: 2.671<br>Duration: 0\", \" Minutes: 2.69<br>Duration: 0\", \" Minutes: 2.695<br>Duration: 0\", \" Minutes: 2.712<br>Duration: 0\", \" Minutes: 2.736<br>Duration: 0\"], \"x\": [110, 72, 284, 280, 47, 60, 60, 82, 90, 92, 97, 79, 131, 96, 102, 76, 128, 78], \"y\": [223, 230, 247, 236, 535, 551, 540, 553, 545, 557, 571, 248, 644, 625, 653, 663, 659, 554], \"type\": \"scatter\"}, {\"marker\": {\"size\": 10, \"sizemode\": \"area\", \"sizeref\": 1, \"symbol\": 207}, \"mode\": \"markers\", \"name\": \"LMouseButton\", \"text\": [\" Minute: 2.652\", \" Minute: 2.706\"], \"x\": [39, 58], \"y\": [627, 646], \"type\": \"scatter\"}], \"name\": \"2.75\"}, {\"data\": [{\"marker\": {\"opacity\": 0.5, \"size\": [100, 120, 120, 219, 239, 100, 120, 100, 100, 140, 100, 319, 299, 100], \"sizemode\": \"area\", \"sizeref\": 0, \"symbol\": 0}, \"mode\": \"markers\", \"name\": \"Dilated Pupil\", \"text\": [\" Minutes: 2.851<br>Duration: 0\", \" Minutes: 2.861<br>Duration: 0\", \" Minutes: 2.872<br>Duration: 0\", \" Minutes: 2.883<br>Duration: 0\", \" Minutes: 2.893<br>Duration: 0\", \" Minutes: 2.901<br>Duration: 0\", \" Minutes: 2.926<br>Duration: 0\", \" Minutes: 2.936<br>Duration: 0\", \" Minutes: 2.938<br>Duration: 0\", \" Minutes: 2.941<br>Duration: 0\", \" Minutes: 2.953<br>Duration: 0\", \" Minutes: 2.955<br>Duration: 0\", \" Minutes: 2.962<br>Duration: 0\", \" Minutes: 2.974<br>Duration: 0\"], \"x\": [117, 119, 117, 107, 85, 111, 140, 118, 139, 138, 100, 283, 449, 271], \"y\": [643, 672, 655, 681, 715, 715, 726, 714, 716, 719, 293, 268, 273, 245], \"type\": \"scatter\"}, {\"marker\": {\"opacity\": 0.5, \"size\": [100, 179, 100, 100, 139, 100, 100, 140, 100, 159, 100, 120, 140, 100, 179, 140], \"sizemode\": \"area\", \"sizeref\": 0, \"symbol\": 0}, \"mode\": \"markers\", \"name\": \"Squeezed Pupil \", \"text\": [\" Minutes: 2.756<br>Duration: 0\", \" Minutes: 2.786<br>Duration: 0\", \" Minutes: 2.809<br>Duration: 0\", \" Minutes: 2.828<br>Duration: 0\", \" Minutes: 2.835<br>Duration: 0\", \" Minutes: 2.838<br>Duration: 0\", \" Minutes: 2.842<br>Duration: 0\", \" Minutes: 2.875<br>Duration: 0\", \" Minutes: 2.889<br>Duration: 0\", \" Minutes: 2.898<br>Duration: 0\", \" Minutes: 2.929<br>Duration: 0\", \" Minutes: 2.933<br>Duration: 0\", \" Minutes: 2.97<br>Duration: 0\", \" Minutes: 2.976<br>Duration: 0\", \" Minutes: 2.994<br>Duration: 0\", \" Minutes: 2.999<br>Duration: 0\"], \"x\": [223, 139, 245, 115, 87, 87, 81, 119, 51, 117, 134, 130, 153, 271, 106, 109], \"y\": [650, 682, 709, 637, 639, 629, 661, 647, 718, 723, 731, 704, 272, 252, 677, 659], \"type\": \"scatter\"}, {\"marker\": {\"size\": 10, \"sizemode\": \"area\", \"sizeref\": 1, \"symbol\": 207}, \"mode\": \"markers\", \"name\": \"LMouseButton\", \"text\": [\" Minute: 2.835\", \" Minute: 2.846\", \" Minute: 2.897\", \" Minute: 2.968\"], \"x\": [65, 61, 60, 474], \"y\": [646, 657, 725, 265], \"type\": \"scatter\"}], \"name\": \"3.0\"}, {\"data\": [{\"marker\": {\"opacity\": 0.5, \"size\": [120, 180, 319, 139, 120, 120, 139], \"sizemode\": \"area\", \"sizeref\": 0, \"symbol\": 0}, \"mode\": \"markers\", \"name\": \"Dilated Pupil\", \"text\": [\" Minutes: 3.012<br>Duration: 0\", \" Minutes: 3.121<br>Duration: 0\", \" Minutes: 3.133<br>Duration: 0\", \" Minutes: 3.149<br>Duration: 0\", \" Minutes: 3.163<br>Duration: 0\", \" Minutes: 3.166<br>Duration: 0\", \" Minutes: 3.177<br>Duration: 0\"], \"x\": [89, 733, 714, 738, 719, 720, 715], \"y\": [775, 556, 604, 640, 686, 679, 594], \"type\": \"scatter\"}, {\"marker\": {\"opacity\": 0.5, \"size\": [100, 140, 120, 139, 160, 259, 160, 140, 160, 119, 100, 199, 179, 100, 259, 100], \"sizemode\": \"area\", \"sizeref\": 0, \"symbol\": 0}, \"mode\": \"markers\", \"name\": \"Squeezed Pupil \", \"text\": [\" Minutes: 3.007<br>Duration: 0\", \" Minutes: 3.046<br>Duration: 0\", \" Minutes: 3.055<br>Duration: 0\", \" Minutes: 3.081<br>Duration: 0\", \" Minutes: 3.084<br>Duration: 0\", \" Minutes: 3.087<br>Duration: 0\", \" Minutes: 3.094<br>Duration: 0\", \" Minutes: 3.097<br>Duration: 0\", \" Minutes: 3.1<br>Duration: 0\", \" Minutes: 3.14<br>Duration: 0\", \" Minutes: 3.182<br>Duration: 0\", \" Minutes: 3.215<br>Duration: 0\", \" Minutes: 3.226<br>Duration: 0\", \" Minutes: 3.235<br>Duration: 0\", \" Minutes: 3.24<br>Duration: 0\", \" Minutes: 3.25<br>Duration: 0\"], \"x\": [91, 740, 758, 696, 685, 692, 674, 734, 735, 713, 726, 721, 711, 325, 99, 85], \"y\": [738, 525, 567, 482, 464, 552, 536, 550, 569, 640, 594, 533, 312, 335, 363, 556], \"type\": \"scatter\"}, {\"marker\": {\"size\": 10, \"sizemode\": \"area\", \"sizeref\": 1, \"symbol\": 207}, \"mode\": \"markers\", \"name\": \"LMouseButton\", \"text\": [\" Minute: 3.097\", \" Minute: 3.142\", \" Minute: 3.162\", \" Minute: 3.185\"], \"x\": [674, 676, 679, 693], \"y\": [548, 607, 683, 566], \"type\": \"scatter\"}], \"name\": \"3.25\"}, {\"data\": [{\"marker\": {\"opacity\": 0.5, \"size\": [399, 140, 120, 279, 359, 100, 279, 498, 359, 120, 140, 379, 219, 120, 299, 239, 100], \"sizemode\": \"area\", \"sizeref\": 0, \"symbol\": 0}, \"mode\": \"markers\", \"name\": \"Dilated Pupil\", \"text\": [\" Minutes: 3.28<br>Duration: 0\", \" Minutes: 3.299<br>Duration: 0\", \" Minutes: 3.318<br>Duration: 0\", \" Minutes: 3.33<br>Duration: 0\", \" Minutes: 3.335<br>Duration: 0\", \" Minutes: 3.341<br>Duration: 0\", \" Minutes: 3.352<br>Duration: 0\", \" Minutes: 3.357<br>Duration: 0\", \" Minutes: 3.365<br>Duration: 0\", \" Minutes: 3.374<br>Duration: 0\", \" Minutes: 3.377<br>Duration: 0\", \" Minutes: 3.38<br>Duration: 0\", \" Minutes: 3.387<br>Duration: 0\", \" Minutes: 3.392<br>Duration: 0\", \" Minutes: 3.396<br>Duration: 0\", \" Minutes: 3.403<br>Duration: 0\", \" Minutes: 3.414<br>Duration: 0\"], \"x\": [741, 748, 39, 275, 268, 299, 446, 446, 478, 654, 636, 469, 269, 69, 270, 75, 103], \"y\": [542, 560, 228, 223, 209, 224, 220, 275, 226, 308, 303, 231, 218, 192, 221, 558, 543], \"type\": \"scatter\"}, {\"marker\": {\"opacity\": 0.5, \"size\": [159, 120, 259, 120, 120, 179, 120, 160, 160, 120, 120, 100, 359, 160, 120, 140, 100], \"sizemode\": \"area\", \"sizeref\": 0, \"symbol\": 0}, \"mode\": \"markers\", \"name\": \"Squeezed Pupil \", \"text\": [\" Minutes: 3.252<br>Duration: 0\", \" Minutes: 3.267<br>Duration: 0\", \" Minutes: 3.272<br>Duration: 0\", \" Minutes: 3.289<br>Duration: 0\", \" Minutes: 3.296<br>Duration: 0\", \" Minutes: 3.307<br>Duration: 0\", \" Minutes: 3.326<br>Duration: 0\", \" Minutes: 3.411<br>Duration: 0\", \" Minutes: 3.418<br>Duration: 0\", \" Minutes: 3.434<br>Duration: 0\", \" Minutes: 3.441<br>Duration: 0\", \" Minutes: 3.446<br>Duration: 0\", \" Minutes: 3.45<br>Duration: 0\", \" Minutes: 3.457<br>Duration: 0\", \" Minutes: 3.46<br>Duration: 0\", \" Minutes: 3.467<br>Duration: 0\", \" Minutes: 3.493<br>Duration: 0\"], \"x\": [75, 715, 64, 749, 740, 151, 83, 102, 745, 743, 729, 729, 740, 739, 740, 768, 760], \"y\": [543, 551, 531, 574, 567, 228, 239, 564, 559, 561, 538, 698, 672, 690, 739, 773, 854], \"type\": \"scatter\"}, {\"marker\": {\"size\": 10, \"sizemode\": \"area\", \"sizeref\": 1, \"symbol\": 207}, \"mode\": \"markers\", \"name\": \"LMouseButton\", \"text\": [], \"x\": [], \"y\": [], \"type\": \"scatter\"}], \"name\": \"3.5\"}, {\"data\": [{\"marker\": {\"opacity\": 0.5, \"size\": [159, 379, 179, 160, 120, 120, 837, 279, 339, 159, 159, 239, 419], \"sizemode\": \"area\", \"sizeref\": 0, \"symbol\": 0}, \"mode\": \"markers\", \"name\": \"Dilated Pupil\", \"text\": [\" Minutes: 3.518<br>Duration: 0\", \" Minutes: 3.557<br>Duration: 0\", \" Minutes: 3.57<br>Duration: 0\", \" Minutes: 3.609<br>Duration: 0\", \" Minutes: 3.621<br>Duration: 0\", \" Minutes: 3.639<br>Duration: 0\", \" Minutes: 3.642<br>Duration: 0\", \" Minutes: 3.663<br>Duration: 0\", \" Minutes: 3.67<br>Duration: 0\", \" Minutes: 3.676<br>Duration: 0\", \" Minutes: 3.736<br>Duration: 0\", \" Minutes: 3.739<br>Duration: 0\", \" Minutes: 3.743<br>Duration: 0\"], \"x\": [500, 66, 131, 744, 747, 80, 54, 61, 70, 82, 87, 83, 280], \"y\": [613, 530, 721, 670, 690, 597, 539, 553, 556, 574, 248, 211, 197], \"type\": \"scatter\"}, {\"marker\": {\"opacity\": 0.5, \"size\": [159, 299, 100, 100], \"sizemode\": \"area\", \"sizeref\": 0, \"symbol\": 0}, \"mode\": \"markers\", \"name\": \"Squeezed Pupil \", \"text\": [\" Minutes: 3.536<br>Duration: 0\", \" Minutes: 3.54<br>Duration: 0\", \" Minutes: 3.545<br>Duration: 0\", \" Minutes: 3.615<br>Duration: 0\"], \"x\": [276, 258, 259, 746], \"y\": [206, 208, 202, 692], \"type\": \"scatter\"}, {\"marker\": {\"size\": 10, \"sizemode\": \"area\", \"sizeref\": 1, \"symbol\": 207}, \"mode\": \"markers\", \"name\": \"LMouseButton\", \"text\": [\" Minute: 3.656\", \" Minute: 3.667\", \" Minute: 3.694\", \" Minute: 3.706\", \" Minute: 3.711\", \" Minute: 3.722\"], \"x\": [45, 42, 681, 669, 673, 679], \"y\": [550, 584, 552, 581, 578, 597], \"type\": \"scatter\"}], \"name\": \"3.75\"}, {\"data\": [{\"marker\": {\"opacity\": 0.5, \"size\": [558, 160, 160, 399, 259, 239, 160, 299, 279, 100, 140, 100, 120, 179, 100, 160, 140, 618], \"sizemode\": \"area\", \"sizeref\": 0, \"symbol\": 0}, \"mode\": \"markers\", \"name\": \"Dilated Pupil\", \"text\": [\" Minutes: 3.823<br>Duration: 0\", \" Minutes: 3.833<br>Duration: 0\", \" Minutes: 3.843<br>Duration: 0\", \" Minutes: 3.851<br>Duration: 0\", \" Minutes: 3.862<br>Duration: 0\", \" Minutes: 3.869<br>Duration: 0\", \" Minutes: 3.882<br>Duration: 0\", \" Minutes: 3.917<br>Duration: 0\", \" Minutes: 3.924<br>Duration: 0\", \" Minutes: 3.953<br>Duration: 0\", \" Minutes: 3.955<br>Duration: 0\", \" Minutes: 3.958<br>Duration: 0\", \" Minutes: 3.96<br>Duration: 0\", \" Minutes: 3.975<br>Duration: 0\", \" Minutes: 3.982<br>Duration: 0\", \" Minutes: 3.984<br>Duration: 0\", \" Minutes: 3.989<br>Duration: 0\", \" Minutes: 3.995<br>Duration: 0\"], \"x\": [69, 75, 75, 76, 52, 69, 43, 746, 746, 758, 754, 750, 757, 758, 758, 735, 742, 275], \"y\": [529, 525, 565, 596, 592, 508, 514, 553, 527, 532, 520, 535, 527, 546, 540, 545, 549, 172], \"type\": \"scatter\"}, {\"marker\": {\"opacity\": 0.5, \"size\": [359, 180, 239, 119], \"sizemode\": \"area\", \"sizeref\": 0, \"symbol\": 0}, \"mode\": \"markers\", \"name\": \"Squeezed Pupil \", \"text\": [\" Minutes: 3.875<br>Duration: 0\", \" Minutes: 3.895<br>Duration: 0\", \" Minutes: 3.934<br>Duration: 0\", \" Minutes: 3.993<br>Duration: 0\"], \"x\": [59, 280, 729, 365], \"y\": [515, 188, 520, 201], \"type\": \"scatter\"}, {\"marker\": {\"size\": 10, \"sizemode\": \"area\", \"sizeref\": 1, \"symbol\": 207}, \"mode\": \"markers\", \"name\": \"LMouseButton\", \"text\": [\" Minute: 3.799\"], \"x\": [674], \"y\": [535], \"type\": \"scatter\"}], \"name\": \"4.0\"}, {\"data\": [{\"marker\": {\"opacity\": 0.5, \"size\": [199, 140, 100, 140, 100, 159, 279], \"sizemode\": \"area\", \"sizeref\": 0, \"symbol\": 0}, \"mode\": \"markers\", \"name\": \"Dilated Pupil\", \"text\": [\" Minutes: 4.018<br>Duration: 0\", \" Minutes: 4.055<br>Duration: 0\", \" Minutes: 4.058<br>Duration: 0\", \" Minutes: 4.06<br>Duration: 0\", \" Minutes: 4.123<br>Duration: 0\", \" Minutes: 4.222<br>Duration: 0\", \" Minutes: 4.233<br>Duration: 0\"], \"x\": [440, 773, 741, 744, 751, 76, 290], \"y\": [192, 567, 534, 537, 596, 218, 212], \"type\": \"scatter\"}, {\"marker\": {\"opacity\": 0.5, \"size\": [140, 159, 140, 179, 179, 160, 239, 239, 120, 139, 199, 199, 219, 239], \"sizemode\": \"area\", \"sizeref\": 0, \"symbol\": 0}, \"mode\": \"markers\", \"name\": \"Squeezed Pupil \", \"text\": [\" Minutes: 4.007<br>Duration: 0\", \" Minutes: 4.01<br>Duration: 0\", \" Minutes: 4.068<br>Duration: 0\", \" Minutes: 4.075<br>Duration: 0\", \" Minutes: 4.083<br>Duration: 0\", \" Minutes: 4.086<br>Duration: 0\", \" Minutes: 4.092<br>Duration: 0\", \" Minutes: 4.104<br>Duration: 0\", \" Minutes: 4.112<br>Duration: 0\", \" Minutes: 4.121<br>Duration: 0\", \" Minutes: 4.131<br>Duration: 0\", \" Minutes: 4.165<br>Duration: 0\", \" Minutes: 4.173<br>Duration: 0\", \" Minutes: 4.192<br>Duration: 0\"], \"x\": [75, 86, 745, 746, 736, 741, 756, 760, 793, 752, 722, 789, 795, 764], \"y\": [195, 198, 532, 539, 530, 542, 532, 548, 566, 598, 603, 659, 655, 585], \"type\": \"scatter\"}, {\"marker\": {\"size\": 10, \"sizemode\": \"area\", \"sizeref\": 1, \"symbol\": 207}, \"mode\": \"markers\", \"name\": \"LMouseButton\", \"text\": [\" Minute: 4.135\", \" Minute: 4.241\"], \"x\": [692, 483], \"y\": [595, 222], \"type\": \"scatter\"}], \"name\": \"4.25\"}, {\"data\": [{\"marker\": {\"opacity\": 0.5, \"size\": [140, 140, 120, 140, 159, 100, 160, 100, 100, 100, 179, 120, 120, 140, 140, 140, 180, 100, 100], \"sizemode\": \"area\", \"sizeref\": 0, \"symbol\": 0}, \"mode\": \"markers\", \"name\": \"Dilated Pupil\", \"text\": [\" Minutes: 4.255<br>Duration: 0\", \" Minutes: 4.269<br>Duration: 0\", \" Minutes: 4.281<br>Duration: 0\", \" Minutes: 4.288<br>Duration: 0\", \" Minutes: 4.345<br>Duration: 0\", \" Minutes: 4.354<br>Duration: 0\", \" Minutes: 4.357<br>Duration: 0\", \" Minutes: 4.362<br>Duration: 0\", \" Minutes: 4.402<br>Duration: 0\", \" Minutes: 4.409<br>Duration: 0\", \" Minutes: 4.411<br>Duration: 0\", \" Minutes: 4.416<br>Duration: 0\", \" Minutes: 4.421<br>Duration: 0\", \" Minutes: 4.435<br>Duration: 0\", \" Minutes: 4.441<br>Duration: 0\", \" Minutes: 4.453<br>Duration: 0\", \" Minutes: 4.46<br>Duration: 0\", \" Minutes: 4.469<br>Duration: 0\", \" Minutes: 4.494<br>Duration: 0\"], \"x\": [83, 74, 756, 772, 803, 748, 753, 748, 254, 769, 739, 750, 752, 747, 712, 752, 766, 758, 751], \"y\": [216, 241, 599, 686, 728, 751, 750, 605, 226, 579, 559, 626, 599, 864, 847, 864, 919, 913, 872], \"type\": \"scatter\"}, {\"marker\": {\"opacity\": 0.5, \"size\": [159, 120, 100, 120, 160], \"sizemode\": \"area\", \"sizeref\": 0, \"symbol\": 0}, \"mode\": \"markers\", \"name\": \"Squeezed Pupil \", \"text\": [\" Minutes: 4.295<br>Duration: 0\", \" Minutes: 4.319<br>Duration: 0\", \" Minutes: 4.326<br>Duration: 0\", \" Minutes: 4.446<br>Duration: 0\", \" Minutes: 4.486<br>Duration: 0\"], \"x\": [784, 776, 769, 706, 755], \"y\": [701, 689, 703, 839, 850], \"type\": \"scatter\"}, {\"marker\": {\"size\": 10, \"sizemode\": \"area\", \"sizeref\": 1, \"symbol\": 207}, \"mode\": \"markers\", \"name\": \"LMouseButton\", \"text\": [\" Minute: 4.339\", \" Minute: 4.351\", \" Minute: 4.449\"], \"x\": [713, 713, 674], \"y\": [710, 710, 838], \"type\": \"scatter\"}], \"name\": \"4.5\"}, {\"data\": [{\"marker\": {\"opacity\": 0.5, \"size\": [100, 139], \"sizemode\": \"area\", \"sizeref\": 0, \"symbol\": 0}, \"mode\": \"markers\", \"name\": \"Dilated Pupil\", \"text\": [\" Minutes: 4.544<br>Duration: 0\", \" Minutes: 4.549<br>Duration: 0\"], \"x\": [754, 763], \"y\": [851, 888], \"type\": \"scatter\"}, {\"marker\": {\"opacity\": 0.5, \"size\": [199], \"sizemode\": \"area\", \"sizeref\": 0, \"symbol\": 0}, \"mode\": \"markers\", \"name\": \"Squeezed Pupil \", \"text\": [\" Minutes: 4.512<br>Duration: 0\"], \"x\": [751], \"y\": [833], \"type\": \"scatter\"}, {\"marker\": {\"size\": 10, \"sizemode\": \"area\", \"sizeref\": 1, \"symbol\": 207}, \"mode\": \"markers\", \"name\": \"LMouseButton\", \"text\": [\" Minute: 4.612\", \" Minute: 4.685\", \" Minute: 4.722\", \" Minute: 4.735\", \" Minute: 4.746\"], \"x\": [697, 703, 693, 693, 696], \"y\": [870, 736, 582, 582, 549], \"type\": \"scatter\"}], \"name\": \"4.75\"}, {\"data\": [{\"marker\": {\"opacity\": 0.5, \"size\": [140, 100, 179, 140, 139, 100, 359, 179, 100, 180, 299, 239, 160, 139, 120, 160, 179, 100, 100, 140, 319], \"sizemode\": \"area\", \"sizeref\": 0, \"symbol\": 0}, \"mode\": \"markers\", \"name\": \"Dilated Pupil\", \"text\": [\" Minutes: 4.812<br>Duration: 0\", \" Minutes: 4.829<br>Duration: 0\", \" Minutes: 4.839<br>Duration: 0\", \" Minutes: 4.843<br>Duration: 0\", \" Minutes: 4.877<br>Duration: 0\", \" Minutes: 4.883<br>Duration: 0\", \" Minutes: 4.885<br>Duration: 0\", \" Minutes: 4.893<br>Duration: 0\", \" Minutes: 4.898<br>Duration: 0\", \" Minutes: 4.907<br>Duration: 0\", \" Minutes: 4.91<br>Duration: 0\", \" Minutes: 4.915<br>Duration: 0\", \" Minutes: 4.92<br>Duration: 0\", \" Minutes: 4.925<br>Duration: 0\", \" Minutes: 4.928<br>Duration: 0\", \" Minutes: 4.93<br>Duration: 0\", \" Minutes: 4.971<br>Duration: 0\", \" Minutes: 4.975<br>Duration: 0\", \" Minutes: 4.984<br>Duration: 0\", \" Minutes: 4.991<br>Duration: 0\", \" Minutes: 4.994<br>Duration: 0\"], \"x\": [756, 722, 755, 754, 84, 63, 70, 96, 100, 91, 104, 108, 103, 94, 90, 101, 83, 98, 104, 106, 300], \"y\": [585, 828, 899, 926, 595, 524, 541, 557, 564, 551, 566, 571, 567, 570, 578, 591, 207, 559, 563, 206, 199], \"type\": \"scatter\"}, {\"marker\": {\"opacity\": 0.5, \"size\": [120, 259, 100, 319], \"sizemode\": \"area\", \"sizeref\": 0, \"symbol\": 0}, \"mode\": \"markers\", \"name\": \"Squeezed Pupil \", \"text\": [\" Minutes: 4.853<br>Duration: 0\", \" Minutes: 4.859<br>Duration: 0\", \" Minutes: 4.947<br>Duration: 0\", \" Minutes: 4.965<br>Duration: 0\"], \"x\": [81, 69, 165, 277], \"y\": [563, 598, 194, 214], \"type\": \"scatter\"}, {\"marker\": {\"size\": 10, \"sizemode\": \"area\", \"sizeref\": 1, \"symbol\": 207}, \"mode\": \"markers\", \"name\": \"LMouseButton\", \"text\": [\" Minute: 4.759\", \" Minute: 4.89\"], \"x\": [696, 41], \"y\": [549, 553], \"type\": \"scatter\"}], \"name\": \"5.0\"}, {\"data\": [{\"marker\": {\"opacity\": 0.5, \"size\": [359, 199, 219, 100, 100, 259, 140], \"sizemode\": \"area\", \"sizeref\": 0, \"symbol\": 0}, \"mode\": \"markers\", \"name\": \"Dilated Pupil\", \"text\": [\" Minutes: 5.0<br>Duration: 0\", \" Minutes: 5.007<br>Duration: 0\", \" Minutes: 5.012<br>Duration: 0\", \" Minutes: 5.017<br>Duration: 0\", \" Minutes: 5.083<br>Duration: 0\", \" Minutes: 5.208<br>Duration: 0\", \" Minutes: 5.214<br>Duration: 0\"], \"x\": [93, 266, 296, 728, 736, 1101, 479], \"y\": [195, 194, 188, 494, 535, 753, 741], \"type\": \"scatter\"}, {\"marker\": {\"opacity\": 0.5, \"size\": [120, 140, 120, 120, 100, 140, 259, 160], \"sizemode\": \"area\", \"sizeref\": 0, \"symbol\": 0}, \"mode\": \"markers\", \"name\": \"Squeezed Pupil \", \"text\": [\" Minutes: 5.221<br>Duration: 0\", \" Minutes: 5.228<br>Duration: 0\", \" Minutes: 5.231<br>Duration: 0\", \" Minutes: 5.235<br>Duration: 0\", \" Minutes: 5.238<br>Duration: 0\", \" Minutes: 5.24<br>Duration: 0\", \" Minutes: 5.242<br>Duration: 0\", \" Minutes: 5.247<br>Duration: 0\"], \"x\": [445, 463, 454, 157, 124, 125, 157, 274], \"y\": [653, 435, 426, 398, 420, 425, 366, 362], \"type\": \"scatter\"}, {\"marker\": {\"size\": 10, \"sizemode\": \"area\", \"sizeref\": 1, \"symbol\": 207}, \"mode\": \"markers\", \"name\": \"LMouseButton\", \"text\": [], \"x\": [], \"y\": [], \"type\": \"scatter\"}], \"name\": \"5.25\"}, {\"data\": [{\"marker\": {\"opacity\": 0.5, \"size\": [139, 359, 100, 239, 319, 140, 140, 180, 259, 100, 219, 239, 259, 279, 179, 120, 159, 279, 199, 399, 140, 299, 179, 678, 359, 199], \"sizemode\": \"area\", \"sizeref\": 0, \"symbol\": 0}, \"mode\": \"markers\", \"name\": \"Dilated Pupil\", \"text\": [\" Minutes: 5.264<br>Duration: 0\", \" Minutes: 5.268<br>Duration: 0\", \" Minutes: 5.298<br>Duration: 0\", \" Minutes: 5.3<br>Duration: 0\", \" Minutes: 5.304<br>Duration: 0\", \" Minutes: 5.313<br>Duration: 0\", \" Minutes: 5.364<br>Duration: 0\", \" Minutes: 5.367<br>Duration: 0\", \" Minutes: 5.377<br>Duration: 0\", \" Minutes: 5.402<br>Duration: 0\", \" Minutes: 5.404<br>Duration: 0\", \" Minutes: 5.412<br>Duration: 0\", \" Minutes: 5.418<br>Duration: 0\", \" Minutes: 5.423<br>Duration: 0\", \" Minutes: 5.428<br>Duration: 0\", \" Minutes: 5.432<br>Duration: 0\", \" Minutes: 5.437<br>Duration: 0\", \" Minutes: 5.44<br>Duration: 0\", \" Minutes: 5.445<br>Duration: 0\", \" Minutes: 5.45<br>Duration: 0\", \" Minutes: 5.458<br>Duration: 0\", \" Minutes: 5.461<br>Duration: 0\", \" Minutes: 5.47<br>Duration: 0\", \" Minutes: 5.473<br>Duration: 0\", \" Minutes: 5.487<br>Duration: 0\", \" Minutes: 5.497<br>Duration: 0\"], \"x\": [203, 82, 459, 459, 449, 271, 77, 75, 276, 244, 334, 585, 695, 605, 548, 437, 238, 196, 266, 250, 86, 67, 105, 81, 249, 132], \"y\": [388, 302, 222, 198, 213, 196, 249, 236, 189, 162, 184, 194, 180, 194, 189, 199, 164, 177, 169, 201, 222, 234, 225, 235, 205, 219], \"type\": \"scatter\"}, {\"marker\": {\"opacity\": 0.5, \"size\": [279, 179, 100, 598, 359, 100, 140], \"sizemode\": \"area\", \"sizeref\": 0, \"symbol\": 0}, \"mode\": \"markers\", \"name\": \"Squeezed Pupil \", \"text\": [\" Minutes: 5.253<br>Duration: 0\", \" Minutes: 5.275<br>Duration: 0\", \" Minutes: 5.278<br>Duration: 0\", \" Minutes: 5.281<br>Duration: 0\", \" Minutes: 5.292<br>Duration: 0\", \" Minutes: 5.354<br>Duration: 0\", \" Minutes: 5.356<br>Duration: 0\"], \"x\": [418, 270, 266, 445, 436, 293, 285], \"y\": [380, 282, 283, 220, 232, 214, 207], \"type\": \"scatter\"}, {\"marker\": {\"size\": 10, \"sizemode\": \"area\", \"sizeref\": 1, \"symbol\": 207}, \"mode\": \"markers\", \"name\": \"LMouseButton\", \"text\": [], \"x\": [], \"y\": [], \"type\": \"scatter\"}], \"name\": \"5.5\"}, {\"data\": [{\"marker\": {\"opacity\": 0.5, \"size\": [159, 120, 120, 100, 219, 159, 120, 100, 100, 140, 120, 100, 120, 180, 100, 100, 139, 100, 140, 219, 239], \"sizemode\": \"area\", \"sizeref\": 0, \"symbol\": 0}, \"mode\": \"markers\", \"name\": \"Dilated Pupil\", \"text\": [\" Minutes: 5.515<br>Duration: 0\", \" Minutes: 5.533<br>Duration: 0\", \" Minutes: 5.54<br>Duration: 0\", \" Minutes: 5.567<br>Duration: 0\", \" Minutes: 5.576<br>Duration: 0\", \" Minutes: 5.612<br>Duration: 0\", \" Minutes: 5.631<br>Duration: 0\", \" Minutes: 5.636<br>Duration: 0\", \" Minutes: 5.64<br>Duration: 0\", \" Minutes: 5.644<br>Duration: 0\", \" Minutes: 5.651<br>Duration: 0\", \" Minutes: 5.653<br>Duration: 0\", \" Minutes: 5.656<br>Duration: 0\", \" Minutes: 5.682<br>Duration: 0\", \" Minutes: 5.685<br>Duration: 0\", \" Minutes: 5.687<br>Duration: 0\", \" Minutes: 5.691<br>Duration: 0\", \" Minutes: 5.695<br>Duration: 0\", \" Minutes: 5.705<br>Duration: 0\", \" Minutes: 5.722<br>Duration: 0\", \" Minutes: 5.749<br>Duration: 0\"], \"x\": [87, 791, 759, 762, 771, 95, 123, 93, 96, 95, 102, 91, 87, 780, 765, 754, 752, 744, 792, 73, 55], \"y\": [573, 648, 582, 570, 649, 556, 564, 557, 551, 563, 590, 560, 536, 617, 599, 596, 552, 547, 676, 236, 664], \"type\": \"scatter\"}, {\"marker\": {\"opacity\": 0.5, \"size\": [120, 100, 140, 160, 100, 160], \"sizemode\": \"area\", \"sizeref\": 0, \"symbol\": 0}, \"mode\": \"markers\", \"name\": \"Squeezed Pupil \", \"text\": [\" Minutes: 5.518<br>Duration: 0\", \" Minutes: 5.546<br>Duration: 0\", \" Minutes: 5.588<br>Duration: 0\", \" Minutes: 5.592<br>Duration: 0\", \" Minutes: 5.61<br>Duration: 0\", \" Minutes: 5.697<br>Duration: 0\"], \"x\": [99, 285, 753, 751, 102, 751], \"y\": [574, 200, 616, 597, 571, 576], \"type\": \"scatter\"}, {\"marker\": {\"size\": 10, \"sizemode\": \"area\", \"sizeref\": 1, \"symbol\": 207}, \"mode\": \"markers\", \"name\": \"LMouseButton\", \"text\": [\" Minute: 5.591\"], \"x\": [781], \"y\": [680], \"type\": \"scatter\"}], \"name\": \"5.75\"}, {\"data\": [{\"marker\": {\"opacity\": 0.5, \"size\": [120, 100, 139, 159, 139, 160, 100, 100, 259, 180, 100, 219, 299, 140, 140, 159, 100, 239, 100], \"sizemode\": \"area\", \"sizeref\": 0, \"symbol\": 0}, \"mode\": \"markers\", \"name\": \"Dilated Pupil\", \"text\": [\" Minutes: 5.762<br>Duration: 0\", \" Minutes: 5.78<br>Duration: 0\", \" Minutes: 5.782<br>Duration: 0\", \" Minutes: 5.8<br>Duration: 0\", \" Minutes: 5.827<br>Duration: 0\", \" Minutes: 5.831<br>Duration: 0\", \" Minutes: 5.858<br>Duration: 0\", \" Minutes: 5.865<br>Duration: 0\", \" Minutes: 5.874<br>Duration: 0\", \" Minutes: 5.882<br>Duration: 0\", \" Minutes: 5.924<br>Duration: 0\", \" Minutes: 5.947<br>Duration: 0\", \" Minutes: 5.953<br>Duration: 0\", \" Minutes: 5.965<br>Duration: 0\", \" Minutes: 5.971<br>Duration: 0\", \" Minutes: 5.974<br>Duration: 0\", \" Minutes: 5.979<br>Duration: 0\", \" Minutes: 5.981<br>Duration: 0\", \" Minutes: 5.986<br>Duration: 0\"], \"x\": [106, 743, 733, 738, 704, 691, 697, 730, 717, 704, 79, 248, 106, 294, 87, 115, 112, 121, 110], \"y\": [679, 791, 830, 855, 839, 821, 535, 557, 599, 561, 662, 235, 256, 221, 641, 816, 803, 778, 741], \"type\": \"scatter\"}, {\"marker\": {\"opacity\": 0.5, \"size\": [120, 100, 140, 120, 179, 319, 140, 219, 120, 180], \"sizemode\": \"area\", \"sizeref\": 0, \"symbol\": 0}, \"mode\": \"markers\", \"name\": \"Squeezed Pupil \", \"text\": [\" Minutes: 5.804<br>Duration: 0\", \" Minutes: 5.807<br>Duration: 0\", \" Minutes: 5.815<br>Duration: 0\", \" Minutes: 5.835<br>Duration: 0\", \" Minutes: 5.843<br>Duration: 0\", \" Minutes: 5.847<br>Duration: 0\", \" Minutes: 5.878<br>Duration: 0\", \" Minutes: 5.906<br>Duration: 0\", \" Minutes: 5.912<br>Duration: 0\", \" Minutes: 5.996<br>Duration: 0\"], \"x\": [727, 736, 717, 686, 700, 699, 699, 708, 87, 104], \"y\": [838, 829, 528, 816, 522, 540, 559, 519, 513, 652], \"type\": \"scatter\"}, {\"marker\": {\"size\": 10, \"sizemode\": \"area\", \"sizeref\": 1, \"symbol\": 207}, \"mode\": \"markers\", \"name\": \"LMouseButton\", \"text\": [\" Minute: 5.757\", \" Minute: 5.856\"], \"x\": [38, 674], \"y\": [658, 538], \"type\": \"scatter\"}], \"name\": \"6.0\"}, {\"data\": [{\"marker\": {\"opacity\": 0.5, \"size\": [299, 139, 120, 100, 199, 239, 120, 120, 279, 100, 160, 159, 100, 239, 140, 140, 199, 279, 578, 160, 459, 837], \"sizemode\": \"area\", \"sizeref\": 0, \"symbol\": 0}, \"mode\": \"markers\", \"name\": \"Dilated Pupil\", \"text\": [\" Minutes: 6.009<br>Duration: 0\", \" Minutes: 6.023<br>Duration: 0\", \" Minutes: 6.032<br>Duration: 0\", \" Minutes: 6.045<br>Duration: 0\", \" Minutes: 6.061<br>Duration: 0\", \" Minutes: 6.064<br>Duration: 0\", \" Minutes: 6.073<br>Duration: 0\", \" Minutes: 6.076<br>Duration: 0\", \" Minutes: 6.079<br>Duration: 0\", \" Minutes: 6.085<br>Duration: 0\", \" Minutes: 6.093<br>Duration: 0\", \" Minutes: 6.129<br>Duration: 0\", \" Minutes: 6.142<br>Duration: 0\", \" Minutes: 6.152<br>Duration: 0\", \" Minutes: 6.159<br>Duration: 0\", \" Minutes: 6.167<br>Duration: 0\", \" Minutes: 6.179<br>Duration: 0\", \" Minutes: 6.185<br>Duration: 0\", \" Minutes: 6.195<br>Duration: 0\", \" Minutes: 6.234<br>Duration: 0\", \" Minutes: 6.237<br>Duration: 0\", \" Minutes: 6.246<br>Duration: 0\"], \"x\": [76, 106, 114, 78, 61, 98, 87, 87, 88, 114, 730, 752, 721, 92, 87, 84, 302, 458, 622, 445, 445, 451], \"y\": [651, 662, 681, 637, 659, 674, 688, 682, 679, 695, 628, 566, 547, 623, 666, 636, 232, 242, 238, 271, 243, 258], \"type\": \"scatter\"}, {\"marker\": {\"opacity\": 0.5, \"size\": [199, 219, 179, 219, 100, 100, 120], \"sizemode\": \"area\", \"sizeref\": 0, \"symbol\": 0}, \"mode\": \"markers\", \"name\": \"Squeezed Pupil \", \"text\": [\" Minutes: 6.1<br>Duration: 0\", \" Minutes: 6.107<br>Duration: 0\", \" Minutes: 6.114<br>Duration: 0\", \" Minutes: 6.118<br>Duration: 0\", \" Minutes: 6.122<br>Duration: 0\", \" Minutes: 6.132<br>Duration: 0\", \" Minutes: 6.136<br>Duration: 0\"], \"x\": [735, 720, 692, 732, 720, 761, 765], \"y\": [585, 560, 548, 578, 540, 607, 591], \"type\": \"scatter\"}, {\"marker\": {\"size\": 10, \"sizemode\": \"area\", \"sizeref\": 1, \"symbol\": 207}, \"mode\": \"markers\", \"name\": \"LMouseButton\", \"text\": [\" Minute: 6.022\", \" Minute: 6.066\", \" Minute: 6.077\", \" Minute: 6.108\", \" Minute: 6.119\", \" Minute: 6.189\", \" Minute: 6.231\", \" Minute: 6.233\", \" Minute: 6.238\", \" Minute: 6.239\"], \"x\": [43, 61, 63, 678, 673, 473], \"y\": [630, 659, 670, 601, 549, 247], \"type\": \"scatter\"}], \"name\": \"6.25\"}, {\"data\": [{\"marker\": {\"opacity\": 0.5, \"size\": [379, 239, 339, 598, 1077, 120, 319, 100, 379, 100, 140, 120, 159, 199, 120], \"sizemode\": \"area\", \"sizeref\": 0, \"symbol\": 0}, \"mode\": \"markers\", \"name\": \"Dilated Pupil\", \"text\": [\" Minutes: 6.26<br>Duration: 0\", \" Minutes: 6.294<br>Duration: 0\", \" Minutes: 6.325<br>Duration: 0\", \" Minutes: 6.337<br>Duration: 0\", \" Minutes: 6.349<br>Duration: 0\", \" Minutes: 6.367<br>Duration: 0\", \" Minutes: 6.373<br>Duration: 0\", \" Minutes: 6.403<br>Duration: 0\", \" Minutes: 6.408<br>Duration: 0\", \" Minutes: 6.415<br>Duration: 0\", \" Minutes: 6.448<br>Duration: 0\", \" Minutes: 6.46<br>Duration: 0\", \" Minutes: 6.478<br>Duration: 0\", \" Minutes: 6.491<br>Duration: 0\", \" Minutes: 6.494<br>Duration: 0\"], \"x\": [448, 276, 269, 450, 261, 85, 65, 68, 268, 431, 80, 98, 83, 51, 49], \"y\": [276, 248, 243, 268, 253, 262, 260, 258, 257, 265, 634, 621, 713, 687, 696], \"type\": \"scatter\"}, {\"marker\": {\"opacity\": 0.5, \"size\": [239, 100, 279, 160, 159, 259, 239, 159, 140, 140, 160], \"sizemode\": \"area\", \"sizeref\": 0, \"symbol\": 0}, \"mode\": \"markers\", \"name\": \"Squeezed Pupil \", \"text\": [\" Minutes: 6.268<br>Duration: 0\", \" Minutes: 6.276<br>Duration: 0\", \" Minutes: 6.304<br>Duration: 0\", \" Minutes: 6.314<br>Duration: 0\", \" Minutes: 6.334<br>Duration: 0\", \" Minutes: 6.39<br>Duration: 0\", \" Minutes: 6.394<br>Duration: 0\", \" Minutes: 6.399<br>Duration: 0\", \" Minutes: 6.423<br>Duration: 0\", \" Minutes: 6.428<br>Duration: 0\", \" Minutes: 6.455<br>Duration: 0\"], \"x\": [272, 70, 268, 266, 448, 268, 324, 287, 90, 79, 101], \"y\": [255, 259, 252, 251, 267, 260, 254, 268, 554, 622, 639], \"type\": \"scatter\"}, {\"marker\": {\"size\": 10, \"sizemode\": \"area\", \"sizeref\": 1, \"symbol\": 207}, \"mode\": \"markers\", \"name\": \"LMouseButton\", \"text\": [\" Minute: 6.254\", \" Minute: 6.5\"], \"x\": [554, 40], \"y\": [276, 694], \"type\": \"scatter\"}], \"name\": \"6.5\"}, {\"data\": [{\"marker\": {\"opacity\": 0.5, \"size\": [419, 120, 140, 219, 120, 120, 279, 100, 199, 140, 180, 219, 100, 120, 139, 319, 100, 100, 120, 160, 100, 100], \"sizemode\": \"area\", \"sizeref\": 0, \"symbol\": 0}, \"mode\": \"markers\", \"name\": \"Dilated Pupil\", \"text\": [\" Minutes: 6.532<br>Duration: 0\", \" Minutes: 6.547<br>Duration: 0\", \" Minutes: 6.55<br>Duration: 0\", \" Minutes: 6.562<br>Duration: 0\", \" Minutes: 6.566<br>Duration: 0\", \" Minutes: 6.577<br>Duration: 0\", \" Minutes: 6.579<br>Duration: 0\", \" Minutes: 6.584<br>Duration: 0\", \" Minutes: 6.622<br>Duration: 0\", \" Minutes: 6.629<br>Duration: 0\", \" Minutes: 6.642<br>Duration: 0\", \" Minutes: 6.652<br>Duration: 0\", \" Minutes: 6.674<br>Duration: 0\", \" Minutes: 6.682<br>Duration: 0\", \" Minutes: 6.687<br>Duration: 0\", \" Minutes: 6.692<br>Duration: 0\", \" Minutes: 6.7<br>Duration: 0\", \" Minutes: 6.71<br>Duration: 0\", \" Minutes: 6.715<br>Duration: 0\", \" Minutes: 6.719<br>Duration: 0\", \" Minutes: 6.722<br>Duration: 0\", \" Minutes: 6.725<br>Duration: 0\"], \"x\": [135, 99, 88, 114, 107, 112, 132, 120, 728, 727, 766, 747, 109, 126, 117, 98, 78, 103, 740, 762, 766, 776], \"y\": [694, 675, 656, 673, 671, 681, 691, 687, 551, 550, 576, 568, 667, 688, 679, 644, 603, 664, 548, 552, 544, 568], \"type\": \"scatter\"}, {\"marker\": {\"opacity\": 0.5, \"size\": [100, 120, 100, 259, 199, 120, 140, 140, 159, 120, 100, 140], \"sizemode\": \"area\", \"sizeref\": 0, \"symbol\": 0}, \"mode\": \"markers\", \"name\": \"Squeezed Pupil \", \"text\": [\" Minutes: 6.556<br>Duration: 0\", \" Minutes: 6.586<br>Duration: 0\", \" Minutes: 6.614<br>Duration: 0\", \" Minutes: 6.618<br>Duration: 0\", \" Minutes: 6.632<br>Duration: 0\", \" Minutes: 6.65<br>Duration: 0\", \" Minutes: 6.679<br>Duration: 0\", \" Minutes: 6.684<br>Duration: 0\", \" Minutes: 6.702<br>Duration: 0\", \" Minutes: 6.705<br>Duration: 0\", \" Minutes: 6.733<br>Duration: 0\", \" Minutes: 6.736<br>Duration: 0\"], \"x\": [88, 112, 746, 738, 747, 753, 101, 129, 95, 99, 360, 273], \"y\": [659, 672, 541, 548, 575, 587, 667, 677, 635, 663, 205, 226], \"type\": \"scatter\"}, {\"marker\": {\"size\": 10, \"sizemode\": \"area\", \"sizeref\": 1, \"symbol\": 207}, \"mode\": \"markers\", \"name\": \"LMouseButton\", \"text\": [\" Minute: 6.512\", \" Minute: 6.525\", \" Minute: 6.55\", \" Minute: 6.558\", \" Minute: 6.568\", \" Minute: 6.574\", \" Minute: 6.625\", \" Minute: 6.632\"], \"x\": [40, 61, 57, 59, 59, 60, 679, 679], \"y\": [694, 644, 645, 668, 665, 682, 552, 552], \"type\": \"scatter\"}], \"name\": \"6.75\"}, {\"data\": [{\"marker\": {\"opacity\": 0.5, \"size\": [199, 100, 120, 120, 120, 120, 140, 100, 219, 259, 140, 299, 319, 239, 179, 179, 379, 359, 259, 578, 180, 160, 199], \"sizemode\": \"area\", \"sizeref\": 0, \"symbol\": 0}, \"mode\": \"markers\", \"name\": \"Dilated Pupil\", \"text\": [\" Minutes: 6.754<br>Duration: 0\", \" Minutes: 6.781<br>Duration: 0\", \" Minutes: 6.787<br>Duration: 0\", \" Minutes: 6.803<br>Duration: 0\", \" Minutes: 6.806<br>Duration: 0\", \" Minutes: 6.808<br>Duration: 0\", \" Minutes: 6.812<br>Duration: 0\", \" Minutes: 6.824<br>Duration: 0\", \" Minutes: 6.829<br>Duration: 0\", \" Minutes: 6.835<br>Duration: 0\", \" Minutes: 6.843<br>Duration: 0\", \" Minutes: 6.847<br>Duration: 0\", \" Minutes: 6.867<br>Duration: 0\", \" Minutes: 6.878<br>Duration: 0\", \" Minutes: 6.885<br>Duration: 0\", \" Minutes: 6.908<br>Duration: 0\", \" Minutes: 6.942<br>Duration: 0\", \" Minutes: 6.95<br>Duration: 0\", \" Minutes: 6.967<br>Duration: 0\", \" Minutes: 6.971<br>Duration: 0\", \" Minutes: 6.991<br>Duration: 0\", \" Minutes: 6.996<br>Duration: 0\", \" Minutes: 6.999<br>Duration: 0\"], \"x\": [795, 723, 91, 143, 145, 135, 117, 776, 464, 253, 53, 289, 517, 281, 48, 442, 628, 456, 445, 445, 266, 77, 324], \"y\": [584, 543, 621, 673, 692, 693, 689, 565, 242, 237, 255, 242, 304, 235, 253, 244, 253, 246, 248, 247, 254, 274, 251], \"type\": \"scatter\"}, {\"marker\": {\"opacity\": 0.5, \"size\": [179, 459, 179, 180, 100, 199, 837, 199, 159, 1176, 100], \"sizemode\": \"area\", \"sizeref\": 0, \"symbol\": 0}, \"mode\": \"markers\", \"name\": \"Squeezed Pupil \", \"text\": [\" Minutes: 6.768<br>Duration: 0\", \" Minutes: 6.771<br>Duration: 0\", \" Minutes: 6.794<br>Duration: 0\", \" Minutes: 6.821<br>Duration: 0\", \" Minutes: 6.863<br>Duration: 0\", \" Minutes: 6.874<br>Duration: 0\", \" Minutes: 6.89<br>Duration: 0\", \" Minutes: 6.912<br>Duration: 0\", \" Minutes: 6.919<br>Duration: 0\", \" Minutes: 6.922<br>Duration: 0\", \" Minutes: 6.963<br>Duration: 0\"], \"x\": [734, 745, 103, 775, 587, 479, 274, 601, 597, 627, 449], \"y\": [559, 558, 689, 542, 285, 276, 238, 254, 271, 248, 264], \"type\": \"scatter\"}, {\"marker\": {\"size\": 10, \"sizemode\": \"area\", \"sizeref\": 1, \"symbol\": 207}, \"mode\": \"markers\", \"name\": \"LMouseButton\", \"text\": [\" Minute: 6.862\", \" Minute: 6.916\", \" Minute: 6.936\", \" Minute: 6.944\", \" Minute: 6.976\", \" Minute: 6.977\", \" Minute: 6.984\"], \"x\": [609, 592, 609, 592], \"y\": [267, 248, 252, 252], \"type\": \"scatter\"}], \"name\": \"7.0\"}, {\"data\": [{\"marker\": {\"opacity\": 0.5, \"size\": [339, 279, 279, 140, 180, 219, 239, 119, 379, 140, 160, 179, 179, 319, 160, 120, 100, 160, 160, 379, 618, 259, 180, 179, 219, 578], \"sizemode\": \"area\", \"sizeref\": 0, \"symbol\": 0}, \"mode\": \"markers\", \"name\": \"Dilated Pupil\", \"text\": [\" Minutes: 7.003<br>Duration: 0\", \" Minutes: 7.009<br>Duration: 0\", \" Minutes: 7.014<br>Duration: 0\", \" Minutes: 7.02<br>Duration: 0\", \" Minutes: 7.026<br>Duration: 0\", \" Minutes: 7.03<br>Duration: 0\", \" Minutes: 7.037<br>Duration: 0\", \" Minutes: 7.054<br>Duration: 0\", \" Minutes: 7.057<br>Duration: 0\", \" Minutes: 7.099<br>Duration: 0\", \" Minutes: 7.104<br>Duration: 0\", \" Minutes: 7.112<br>Duration: 0\", \" Minutes: 7.115<br>Duration: 0\", \" Minutes: 7.118<br>Duration: 0\", \" Minutes: 7.128<br>Duration: 0\", \" Minutes: 7.138<br>Duration: 0\", \" Minutes: 7.144<br>Duration: 0\", \" Minutes: 7.149<br>Duration: 0\", \" Minutes: 7.174<br>Duration: 0\", \" Minutes: 7.199<br>Duration: 0\", \" Minutes: 7.216<br>Duration: 0\", \" Minutes: 7.227<br>Duration: 0\", \" Minutes: 7.234<br>Duration: 0\", \" Minutes: 7.238<br>Duration: 0\", \" Minutes: 7.242<br>Duration: 0\", \" Minutes: 7.247<br>Duration: 0\"], \"x\": [473, 526, 610, 215, 81, 273, 85, 110, 125, 82, 285, 91, 113, 269, 96, 134, 758, 764, 82, 435, 452, 513, 263, 83, 268, 618], \"y\": [268, 281, 278, 260, 265, 248, 612, 678, 690, 272, 224, 230, 244, 236, 635, 682, 625, 559, 237, 244, 257, 270, 251, 274, 237, 259], \"type\": \"scatter\"}, {\"marker\": {\"opacity\": 0.5, \"size\": [140, 259, 139, 140, 100, 100, 120, 120], \"sizemode\": \"area\", \"sizeref\": 0, \"symbol\": 0}, \"mode\": \"markers\", \"name\": \"Squeezed Pupil \", \"text\": [\" Minutes: 7.042<br>Duration: 0\", \" Minutes: 7.075<br>Duration: 0\", \" Minutes: 7.085<br>Duration: 0\", \" Minutes: 7.088<br>Duration: 0\", \" Minutes: 7.092<br>Duration: 0\", \" Minutes: 7.095<br>Duration: 0\", \" Minutes: 7.097<br>Duration: 0\", \" Minutes: 7.154<br>Duration: 0\"], \"x\": [78, 770, 772, 772, 502, 435, 156, 738], \"y\": [526, 593, 559, 567, 242, 260, 238, 564], \"type\": \"scatter\"}, {\"marker\": {\"size\": 10, \"sizemode\": \"area\", \"sizeref\": 1, \"symbol\": 207}, \"mode\": \"markers\", \"name\": \"LMouseButton\", \"text\": [\" Minute: 7.009\", \" Minute: 7.183\", \" Minute: 7.208\", \" Minute: 7.211\", \" Minute: 7.218\", \" Minute: 7.22\", \" Minute: 7.232\"], \"x\": [512, 556, 554], \"y\": [266, 248, 266], \"type\": \"scatter\"}], \"name\": \"7.25\"}, {\"data\": [{\"marker\": {\"opacity\": 0.5, \"size\": [778, 120, 179, 399, 120], \"sizemode\": \"area\", \"sizeref\": 0, \"symbol\": 0}, \"mode\": \"markers\", \"name\": \"Dilated Pupil\", \"text\": [\" Minutes: 7.257<br>Duration: 0\", \" Minutes: 7.273<br>Duration: 0\", \" Minutes: 7.277<br>Duration: 0\", \" Minutes: 7.364<br>Duration: 0\", \" Minutes: 7.372<br>Duration: 0\"], \"x\": [512, 731, 761, 89, 121], \"y\": [312, 600, 588, 641, 684], \"type\": \"scatter\"}, {\"marker\": {\"opacity\": 0.5, \"size\": [140, 120, 120, 179, 120, 140, 120, 219, 100, 140, 140, 339, 160, 140, 120, 140, 100, 100, 120, 100, 239], \"sizemode\": \"area\", \"sizeref\": 0, \"symbol\": 0}, \"mode\": \"markers\", \"name\": \"Squeezed Pupil \", \"text\": [\" Minutes: 7.293<br>Duration: 0\", \" Minutes: 7.299<br>Duration: 0\", \" Minutes: 7.327<br>Duration: 0\", \" Minutes: 7.332<br>Duration: 0\", \" Minutes: 7.336<br>Duration: 0\", \" Minutes: 7.339<br>Duration: 0\", \" Minutes: 7.343<br>Duration: 0\", \" Minutes: 7.351<br>Duration: 0\", \" Minutes: 7.379<br>Duration: 0\", \" Minutes: 7.39<br>Duration: 0\", \" Minutes: 7.396<br>Duration: 0\", \" Minutes: 7.401<br>Duration: 0\", \" Minutes: 7.419<br>Duration: 0\", \" Minutes: 7.427<br>Duration: 0\", \" Minutes: 7.431<br>Duration: 0\", \" Minutes: 7.433<br>Duration: 0\", \" Minutes: 7.443<br>Duration: 0\", \" Minutes: 7.448<br>Duration: 0\", \" Minutes: 7.45<br>Duration: 0\", \" Minutes: 7.46<br>Duration: 0\", \" Minutes: 7.498<br>Duration: 0\"], \"x\": [104, 111, 769, 742, 754, 767, 781, 115, 148, 774, 779, 766, 803, 782, 784, 794, 748, 152, 117, 146, 265], \"y\": [706, 676, 566, 547, 558, 553, 544, 685, 678, 615, 564, 571, 547, 569, 574, 556, 553, 701, 680, 682, 213], \"type\": \"scatter\"}, {\"marker\": {\"size\": 10, \"sizemode\": \"area\", \"sizeref\": 1, \"symbol\": 207}, \"mode\": \"markers\", \"name\": \"LMouseButton\", \"text\": [\" Minute: 7.253\", \" Minute: 7.314\"], \"x\": [609, 568], \"y\": [267, 318], \"type\": \"scatter\"}], \"name\": \"7.5\"}, {\"data\": [{\"marker\": {\"opacity\": 0.5, \"size\": [139, 159, 259, 159, 140, 219, 179, 239, 160, 219], \"sizemode\": \"area\", \"sizeref\": 0, \"symbol\": 0}, \"mode\": \"markers\", \"name\": \"Dilated Pupil\", \"text\": [\" Minutes: 7.508<br>Duration: 0\", \" Minutes: 7.557<br>Duration: 0\", \" Minutes: 7.605<br>Duration: 0\", \" Minutes: 7.644<br>Duration: 0\", \" Minutes: 7.647<br>Duration: 0\", \" Minutes: 7.65<br>Duration: 0\", \" Minutes: 7.654<br>Duration: 0\", \" Minutes: 7.661<br>Duration: 0\", \" Minutes: 7.666<br>Duration: 0\", \" Minutes: 7.676<br>Duration: 0\"], \"x\": [58, 266, 60, 102, 250, 249, 282, 75, 74, 100], \"y\": [218, 207, 237, 226, 212, 217, 215, 634, 564, 757], \"type\": \"scatter\"}, {\"marker\": {\"opacity\": 0.5, \"size\": [140, 259, 419, 100, 140, 279, 219], \"sizemode\": \"area\", \"sizeref\": 0, \"symbol\": 0}, \"mode\": \"markers\", \"name\": \"Squeezed Pupil \", \"text\": [\" Minutes: 7.516<br>Duration: 0\", \" Minutes: 7.524<br>Duration: 0\", \" Minutes: 7.569<br>Duration: 0\", \" Minutes: 7.577<br>Duration: 0\", \" Minutes: 7.583<br>Duration: 0\", \" Minutes: 7.59<br>Duration: 0\", \" Minutes: 7.672<br>Duration: 0\"], \"x\": [266, 260, 248, 285, 275, 264, 94], \"y\": [222, 197, 220, 219, 217, 220, 779], \"type\": \"scatter\"}, {\"marker\": {\"size\": 10, \"sizemode\": \"area\", \"sizeref\": 1, \"symbol\": 207}, \"mode\": \"markers\", \"name\": \"LMouseButton\", \"text\": [\" Minute: 7.508\", \" Minute: 7.721\"], \"x\": [504, 678], \"y\": [232, 708], \"type\": \"scatter\"}], \"name\": \"7.75\"}, {\"data\": [{\"marker\": {\"opacity\": 0.5, \"size\": [259, 160, 359, 359, 259, 199, 299, 219, 120, 160, 179], \"sizemode\": \"area\", \"sizeref\": 0, \"symbol\": 0}, \"mode\": \"markers\", \"name\": \"Dilated Pupil\", \"text\": [\" Minutes: 7.812<br>Duration: 0\", \" Minutes: 7.823<br>Duration: 0\", \" Minutes: 7.834<br>Duration: 0\", \" Minutes: 7.84<br>Duration: 0\", \" Minutes: 7.855<br>Duration: 0\", \" Minutes: 7.86<br>Duration: 0\", \" Minutes: 7.863<br>Duration: 0\", \" Minutes: 7.886<br>Duration: 0\", \" Minutes: 7.89<br>Duration: 0\", \" Minutes: 7.955<br>Duration: 0\", \" Minutes: 7.966<br>Duration: 0\"], \"x\": [441, 66, 266, 69, 446, 221, 73, 278, 342, 116, 736], \"y\": [223, 224, 214, 216, 213, 220, 236, 234, 232, 662, 623], \"type\": \"scatter\"}, {\"marker\": {\"opacity\": 0.5, \"size\": [279, 180, 239, 419, 239, 239, 140, 279, 279, 100, 219, 259, 219], \"sizemode\": \"area\", \"sizeref\": 0, \"symbol\": 0}, \"mode\": \"markers\", \"name\": \"Squeezed Pupil \", \"text\": [\" Minutes: 7.817<br>Duration: 0\", \" Minutes: 7.826<br>Duration: 0\", \" Minutes: 7.829<br>Duration: 0\", \" Minutes: 7.847<br>Duration: 0\", \" Minutes: 7.869<br>Duration: 0\", \" Minutes: 7.873<br>Duration: 0\", \" Minutes: 7.878<br>Duration: 0\", \" Minutes: 7.881<br>Duration: 0\", \" Minutes: 7.971<br>Duration: 0\", \" Minutes: 7.976<br>Duration: 0\", \" Minutes: 7.98<br>Duration: 0\", \" Minutes: 7.985<br>Duration: 0\", \" Minutes: 7.99<br>Duration: 0\"], \"x\": [287, 530, 619, 274, 279, 324, 196, 83, 767, 752, 732, 754, 769], \"y\": [211, 205, 207, 219, 227, 228, 235, 241, 602, 585, 557, 559, 601], \"type\": \"scatter\"}, {\"marker\": {\"size\": 10, \"sizemode\": \"area\", \"sizeref\": 1, \"symbol\": 207}, \"mode\": \"markers\", \"name\": \"LMouseButton\", \"text\": [\" Minute: 7.933\"], \"x\": [66], \"y\": [658], \"type\": \"scatter\"}], \"name\": \"8.0\"}, {\"data\": [{\"marker\": {\"opacity\": 0.5, \"size\": [498, 180, 179, 179, 100, 120, 160, 199, 439, 279, 618, 279, 279, 160], \"sizemode\": \"area\", \"sizeref\": 0, \"symbol\": 0}, \"mode\": \"markers\", \"name\": \"Dilated Pupil\", \"text\": [\" Minutes: 8.026<br>Duration: 0\", \" Minutes: 8.053<br>Duration: 0\", \" Minutes: 8.091<br>Duration: 0\", \" Minutes: 8.097<br>Duration: 0\", \" Minutes: 8.122<br>Duration: 0\", \" Minutes: 8.128<br>Duration: 0\", \" Minutes: 8.17<br>Duration: 0\", \" Minutes: 8.183<br>Duration: 0\", \" Minutes: 8.187<br>Duration: 0\", \" Minutes: 8.195<br>Duration: 0\", \" Minutes: 8.203<br>Duration: 0\", \" Minutes: 8.223<br>Duration: 0\", \" Minutes: 8.229<br>Duration: 0\", \" Minutes: 8.234<br>Duration: 0\"], \"x\": [777, 800, 811, 809, 775, 123, 305, 261, 95, 281, 427, 88, 265, 319], \"y\": [602, 658, 672, 647, 646, 676, 228, 241, 237, 233, 254, 222, 201, 203], \"type\": \"scatter\"}, {\"marker\": {\"opacity\": 0.5, \"size\": [299, 179, 159, 199, 140, 160, 160, 100, 180, 120, 100, 139, 100, 120, 100, 140, 179, 479, 259, 139, 180, 239, 239], \"sizemode\": \"area\", \"sizeref\": 0, \"symbol\": 0}, \"mode\": \"markers\", \"name\": \"Squeezed Pupil \", \"text\": [\" Minutes: 8.003<br>Duration: 0\", \" Minutes: 8.008<br>Duration: 0\", \" Minutes: 8.012<br>Duration: 0\", \" Minutes: 8.018<br>Duration: 0\", \" Minutes: 8.022<br>Duration: 0\", \" Minutes: 8.035<br>Duration: 0\", \" Minutes: 8.04<br>Duration: 0\", \" Minutes: 8.043<br>Duration: 0\", \" Minutes: 8.056<br>Duration: 0\", \" Minutes: 8.066<br>Duration: 0\", \" Minutes: 8.069<br>Duration: 0\", \" Minutes: 8.076<br>Duration: 0\", \" Minutes: 8.079<br>Duration: 0\", \" Minutes: 8.082<br>Duration: 0\", \" Minutes: 8.084<br>Duration: 0\", \" Minutes: 8.094<br>Duration: 0\", \" Minutes: 8.104<br>Duration: 0\", \" Minutes: 8.11<br>Duration: 0\", \" Minutes: 8.143<br>Duration: 0\", \" Minutes: 8.18<br>Duration: 0\", \" Minutes: 8.2<br>Duration: 0\", \" Minutes: 8.214<br>Duration: 0\", \" Minutes: 8.218<br>Duration: 0\"], \"x\": [758, 775, 762, 765, 773, 787, 770, 764, 797, 743, 763, 746, 748, 741, 742, 847, 769, 724, 113, 592, 329, 439, 288], \"y\": [553, 568, 608, 612, 588, 587, 608, 620, 643, 663, 634, 661, 672, 652, 650, 660, 645, 553, 661, 230, 241, 233, 200], \"type\": \"scatter\"}, {\"marker\": {\"size\": 10, \"sizemode\": \"area\", \"sizeref\": 1, \"symbol\": 207}, \"mode\": \"markers\", \"name\": \"LMouseButton\", \"text\": [\" Minute: 8.027\", \" Minute: 8.039\", \" Minute: 8.045\", \" Minute: 8.062\", \" Minute: 8.082\", \" Minute: 8.204\"], \"x\": [711, 716, 715, 715, 693, 528], \"y\": [599, 598, 609, 610, 660, 258], \"type\": \"scatter\"}], \"name\": \"8.25\"}, {\"data\": [{\"marker\": {\"opacity\": 0.5, \"size\": [179, 339, 199, 140, 179, 179, 219, 100, 140, 100, 140, 259, 100, 100], \"sizemode\": \"area\", \"sizeref\": 0, \"symbol\": 0}, \"mode\": \"markers\", \"name\": \"Dilated Pupil\", \"text\": [\" Minutes: 8.316<br>Duration: 0\", \" Minutes: 8.32<br>Duration: 0\", \" Minutes: 8.347<br>Duration: 0\", \" Minutes: 8.36<br>Duration: 0\", \" Minutes: 8.365<br>Duration: 0\", \" Minutes: 8.368<br>Duration: 0\", \" Minutes: 8.374<br>Duration: 0\", \" Minutes: 8.38<br>Duration: 0\", \" Minutes: 8.385<br>Duration: 0\", \" Minutes: 8.388<br>Duration: 0\", \" Minutes: 8.391<br>Duration: 0\", \" Minutes: 8.425<br>Duration: 0\", \" Minutes: 8.438<br>Duration: 0\", \" Minutes: 8.5<br>Duration: 0\"], \"x\": [777, 793, 739, 713, 706, 721, 721, 721, 710, 704, 711, 795, 770, 115], \"y\": [613, 631, 557, 572, 568, 569, 584, 607, 555, 563, 562, 620, 612, 705], \"type\": \"scatter\"}, {\"marker\": {\"opacity\": 0.5, \"size\": [259, 120, 100, 100, 100, 120, 100, 199, 120, 100, 259, 100, 140, 120, 160, 159, 159, 219, 140, 199, 120, 120, 120, 140, 219, 199, 120], \"sizemode\": \"area\", \"sizeref\": 0, \"symbol\": 0}, \"mode\": \"markers\", \"name\": \"Squeezed Pupil \", \"text\": [\" Minutes: 8.25<br>Duration: 0\", \" Minutes: 8.282<br>Duration: 0\", \" Minutes: 8.287<br>Duration: 0\", \" Minutes: 8.296<br>Duration: 0\", \" Minutes: 8.299<br>Duration: 0\", \" Minutes: 8.302<br>Duration: 0\", \" Minutes: 8.306<br>Duration: 0\", \" Minutes: 8.311<br>Duration: 0\", \" Minutes: 8.353<br>Duration: 0\", \" Minutes: 8.395<br>Duration: 0\", \" Minutes: 8.398<br>Duration: 0\", \" Minutes: 8.403<br>Duration: 0\", \" Minutes: 8.41<br>Duration: 0\", \" Minutes: 8.413<br>Duration: 0\", \" Minutes: 8.417<br>Duration: 0\", \" Minutes: 8.432<br>Duration: 0\", \" Minutes: 8.441<br>Duration: 0\", \" Minutes: 8.447<br>Duration: 0\", \" Minutes: 8.451<br>Duration: 0\", \" Minutes: 8.455<br>Duration: 0\", \" Minutes: 8.459<br>Duration: 0\", \" Minutes: 8.461<br>Duration: 0\", \" Minutes: 8.465<br>Duration: 0\", \" Minutes: 8.468<br>Duration: 0\", \" Minutes: 8.471<br>Duration: 0\", \" Minutes: 8.475<br>Duration: 0\", \" Minutes: 8.492<br>Duration: 0\"], \"x\": [143, 769, 777, 797, 778, 765, 777, 744, 728, 721, 738, 781, 761, 744, 764, 796, 732, 745, 749, 774, 742, 730, 724, 721, 724, 752, 74], \"y\": [733, 629, 646, 678, 632, 597, 590, 608, 596, 562, 565, 571, 582, 585, 602, 669, 600, 599, 604, 614, 585, 609, 583, 571, 557, 557, 643], \"type\": \"scatter\"}, {\"marker\": {\"size\": 10, \"sizemode\": \"area\", \"sizeref\": 1, \"symbol\": 207}, \"mode\": \"markers\", \"name\": \"LMouseButton\", \"text\": [\" Minute: 8.316\", \" Minute: 8.394\", \" Minute: 8.408\"], \"x\": [718, 699, 698], \"y\": [612, 567, 567], \"type\": \"scatter\"}], \"name\": \"8.5\"}, {\"data\": [{\"marker\": {\"opacity\": 0.5, \"size\": [578, 199, 299, 578, 1196, 239, 359, 199], \"sizemode\": \"area\", \"sizeref\": 0, \"symbol\": 0}, \"mode\": \"markers\", \"name\": \"Dilated Pupil\", \"text\": [\" Minutes: 8.65<br>Duration: 0\", \" Minutes: 8.66<br>Duration: 0\", \" Minutes: 8.664<br>Duration: 0\", \" Minutes: 8.669<br>Duration: 0\", \" Minutes: 8.694<br>Duration: 0\", \" Minutes: 8.733<br>Duration: 0\", \" Minutes: 8.737<br>Duration: 0\", \" Minutes: 8.744<br>Duration: 0\"], \"x\": [617, 477, 513, 443, 270, 100, 269, 103], \"y\": [183, 223, 231, 207, 200, 233, 224, 223], \"type\": \"scatter\"}, {\"marker\": {\"opacity\": 0.5, \"size\": [140, 279, 180, 279, 259, 140, 159, 359, 658], \"sizemode\": \"area\", \"sizeref\": 0, \"symbol\": 0}, \"mode\": \"markers\", \"name\": \"Squeezed Pupil \", \"text\": [\" Minutes: 8.633<br>Duration: 0\", \" Minutes: 8.636<br>Duration: 0\", \" Minutes: 8.641<br>Duration: 0\", \" Minutes: 8.645<br>Duration: 0\", \" Minutes: 8.68<br>Duration: 0\", \" Minutes: 8.685<br>Duration: 0\", \" Minutes: 8.691<br>Duration: 0\", \" Minutes: 8.714<br>Duration: 0\", \" Minutes: 8.721<br>Duration: 0\"], \"x\": [423, 290, 88, 462, 279, 87, 237, 87, 287], \"y\": [203, 208, 255, 200, 219, 233, 227, 230, 226], \"type\": \"scatter\"}, {\"marker\": {\"size\": 10, \"sizemode\": \"area\", \"sizeref\": 1, \"symbol\": 207}, \"mode\": \"markers\", \"name\": \"LMouseButton\", \"text\": [\" Minute: 8.658\", \" Minute: 8.67\"], \"x\": [609, 559], \"y\": [212, 265], \"type\": \"scatter\"}], \"name\": \"8.75\"}, {\"data\": [{\"marker\": {\"opacity\": 0.5, \"size\": [180, 100, 180, 120, 159, 100, 199, 120, 638, 100, 140], \"sizemode\": \"area\", \"sizeref\": 0, \"symbol\": 0}, \"mode\": \"markers\", \"name\": \"Dilated Pupil\", \"text\": [\" Minutes: 8.751<br>Duration: 0\", \" Minutes: 8.754<br>Duration: 0\", \" Minutes: 8.78<br>Duration: 0\", \" Minutes: 8.786<br>Duration: 0\", \" Minutes: 8.792<br>Duration: 0\", \" Minutes: 8.795<br>Duration: 0\", \" Minutes: 8.917<br>Duration: 0\", \" Minutes: 8.921<br>Duration: 0\", \" Minutes: 8.928<br>Duration: 0\", \" Minutes: 8.947<br>Duration: 0\", \" Minutes: 8.949<br>Duration: 0\"], \"x\": [108, 124, 107, 116, 131, 121, 45, 40, 46, 32, 37], \"y\": [697, 716, 828, 848, 896, 892, 617, 612, 525, 507, 508], \"type\": \"scatter\"}, {\"marker\": {\"opacity\": 0.5, \"size\": [160, 199], \"sizemode\": \"area\", \"sizeref\": 0, \"symbol\": 0}, \"mode\": \"markers\", \"name\": \"Squeezed Pupil \", \"text\": [\" Minutes: 8.766<br>Duration: 0\", \" Minutes: 8.924<br>Duration: 0\"], \"x\": [99, 52], \"y\": [645, 612], \"type\": \"scatter\"}, {\"marker\": {\"size\": 10, \"sizemode\": \"area\", \"sizeref\": 1, \"symbol\": 207}, \"mode\": \"markers\", \"name\": \"LMouseButton\", \"text\": [\" Minute: 8.822\", \" Minute: 8.868\", \" Minute: 8.892\", \" Minute: 8.906\", \" Minute: 8.919\", \" Minute: 8.985\", \" Minute: 8.999\"], \"x\": [390, 43, 39, 46, 40, 673, 675], \"y\": [802, 775, 784, 791, 628, 533, 536], \"type\": \"scatter\"}], \"name\": \"9.0\"}, {\"data\": [{\"marker\": {\"opacity\": 0.5, \"size\": [100, 120, 239, 179, 100, 498, 259, 678, 299, 199, 120, 279, 100, 179, 120, 159, 180, 120, 179, 160], \"sizemode\": \"area\", \"sizeref\": 0, \"symbol\": 0}, \"mode\": \"markers\", \"name\": \"Dilated Pupil\", \"text\": [\" Minutes: 9.051<br>Duration: 0\", \" Minutes: 9.067<br>Duration: 0\", \" Minutes: 9.08<br>Duration: 0\", \" Minutes: 9.106<br>Duration: 0\", \" Minutes: 9.109<br>Duration: 0\", \" Minutes: 9.113<br>Duration: 0\", \" Minutes: 9.126<br>Duration: 0\", \" Minutes: 9.146<br>Duration: 0\", \" Minutes: 9.157<br>Duration: 0\", \" Minutes: 9.164<br>Duration: 0\", \" Minutes: 9.168<br>Duration: 0\", \" Minutes: 9.186<br>Duration: 0\", \" Minutes: 9.204<br>Duration: 0\", \" Minutes: 9.208<br>Duration: 0\", \" Minutes: 9.212<br>Duration: 0\", \" Minutes: 9.219<br>Duration: 0\", \" Minutes: 9.227<br>Duration: 0\", \" Minutes: 9.235<br>Duration: 0\", \" Minutes: 9.241<br>Duration: 0\", \" Minutes: 9.244<br>Duration: 0\"], \"x\": [717, 58, 278, 81, 273, 621, 517, 71, 103, 259, 94, 449, 70, 78, 83, 82, 88, 100, 124, 115], \"y\": [591, 674, 224, 229, 210, 231, 266, 240, 246, 227, 238, 233, 661, 662, 670, 643, 640, 671, 777, 760], \"type\": \"scatter\"}, {\"marker\": {\"opacity\": 0.5, \"size\": [140, 239, 179, 140, 239, 279, 179, 279, 259, 160, 459, 120, 100, 259], \"sizemode\": \"area\", \"sizeref\": 0, \"symbol\": 0}, \"mode\": \"markers\", \"name\": \"Squeezed Pupil \", \"text\": [\" Minutes: 9.053<br>Duration: 0\", \" Minutes: 9.057<br>Duration: 0\", \" Minutes: 9.094<br>Duration: 0\", \" Minutes: 9.101<br>Duration: 0\", \" Minutes: 9.121<br>Duration: 0\", \" Minutes: 9.13<br>Duration: 0\", \" Minutes: 9.136<br>Duration: 0\", \" Minutes: 9.14<br>Duration: 0\", \" Minutes: 9.174<br>Duration: 0\", \" Minutes: 9.179<br>Duration: 0\", \" Minutes: 9.191<br>Duration: 0\", \" Minutes: 9.214<br>Duration: 0\", \" Minutes: 9.233<br>Duration: 0\", \" Minutes: 9.25<br>Duration: 0\"], \"x\": [723, 708, 442, 274, 620, 446, 449, 262, 82, 261, 265, 86, 97, 118], \"y\": [588, 516, 213, 215, 228, 222, 228, 222, 248, 231, 226, 654, 672, 756], \"type\": \"scatter\"}, {\"marker\": {\"size\": 10, \"sizemode\": \"area\", \"sizeref\": 1, \"symbol\": 207}, \"mode\": \"markers\", \"name\": \"LMouseButton\", \"text\": [\" Minute: 9.014\", \" Minute: 9.041\", \" Minute: 9.099\", \" Minute: 9.121\", \" Minute: 9.13\", \" Minute: 9.231\"], \"x\": [681, 679, 525, 610, 580, 42], \"y\": [551, 597, 230, 231, 254, 661], \"type\": \"scatter\"}], \"name\": \"9.25\"}, {\"data\": [{\"marker\": {\"opacity\": 0.5, \"size\": [100, 159, 139, 140, 100, 219, 199, 179, 100, 219, 100, 200, 179, 100, 199, 140, 239, 160, 140, 219, 120, 219], \"sizemode\": \"area\", \"sizeref\": 0, \"symbol\": 0}, \"mode\": \"markers\", \"name\": \"Dilated Pupil\", \"text\": [\" Minutes: 9.256<br>Duration: 0\", \" Minutes: 9.276<br>Duration: 0\", \" Minutes: 9.28<br>Duration: 0\", \" Minutes: 9.284<br>Duration: 0\", \" Minutes: 9.291<br>Duration: 0\", \" Minutes: 9.294<br>Duration: 0\", \" Minutes: 9.314<br>Duration: 0\", \" Minutes: 9.319<br>Duration: 0\", \" Minutes: 9.346<br>Duration: 0\", \" Minutes: 9.382<br>Duration: 0\", \" Minutes: 9.387<br>Duration: 0\", \" Minutes: 9.389<br>Duration: 0\", \" Minutes: 9.395<br>Duration: 0\", \" Minutes: 9.398<br>Duration: 0\", \" Minutes: 9.405<br>Duration: 0\", \" Minutes: 9.409<br>Duration: 0\", \" Minutes: 9.42<br>Duration: 0\", \" Minutes: 9.425<br>Duration: 0\", \" Minutes: 9.428<br>Duration: 0\", \" Minutes: 9.449<br>Duration: 0\", \" Minutes: 9.453<br>Duration: 0\", \" Minutes: 9.468<br>Duration: 0\"], \"x\": [126, 75, 82, 84, 113, 116, 105, 699, 749, 769, 785, 773, 793, 779, 726, 737, 717, 737, 725, 745, 751, 808], \"y\": [769, 606, 614, 552, 574, 570, 562, 530, 574, 589, 573, 602, 620, 606, 529, 535, 539, 573, 580, 545, 553, 543], \"type\": \"scatter\"}, {\"marker\": {\"opacity\": 0.5, \"size\": [140, 160, 219, 120, 180, 219, 140, 199, 120, 219, 100, 259, 100, 339, 120, 100, 100, 120], \"sizemode\": \"area\", \"sizeref\": 0, \"symbol\": 0}, \"mode\": \"markers\", \"name\": \"Squeezed Pupil \", \"text\": [\" Minutes: 9.269<br>Duration: 0\", \" Minutes: 9.288<br>Duration: 0\", \" Minutes: 9.301<br>Duration: 0\", \" Minutes: 9.323<br>Duration: 0\", \" Minutes: 9.335<br>Duration: 0\", \" Minutes: 9.339<br>Duration: 0\", \" Minutes: 9.37<br>Duration: 0\", \" Minutes: 9.377<br>Duration: 0\", \" Minutes: 9.4<br>Duration: 0\", \" Minutes: 9.415<br>Duration: 0\", \" Minutes: 9.433<br>Duration: 0\", \" Minutes: 9.437<br>Duration: 0\", \" Minutes: 9.446<br>Duration: 0\", \" Minutes: 9.456<br>Duration: 0\", \" Minutes: 9.474<br>Duration: 0\", \" Minutes: 9.481<br>Duration: 0\", \" Minutes: 9.488<br>Duration: 0\", \" Minutes: 9.494<br>Duration: 0\"], \"x\": [118, 102, 79, 720, 723, 741, 732, 748, 769, 750, 727, 732, 763, 742, 724, 783, 780, 783], \"y\": [822, 590, 528, 547, 520, 527, 559, 571, 591, 543, 588, 575, 589, 557, 595, 646, 628, 656], \"type\": \"scatter\"}, {\"marker\": {\"size\": 10, \"sizemode\": \"area\", \"sizeref\": 1, \"symbol\": 207}, \"mode\": \"markers\", \"name\": \"LMouseButton\", \"text\": [\" Minute: 9.255\", \" Minute: 9.271\", \" Minute: 9.339\", \" Minute: 9.362\", \" Minute: 9.373\", \" Minute: 9.406\", \" Minute: 9.412\", \" Minute: 9.438\", \" Minute: 9.447\", \" Minute: 9.456\", \" Minute: 9.458\", \" Minute: 9.469\"], \"x\": [61, 61, 674, 674, 673, 674, 674, 693, 695, 690, 697, 697], \"y\": [758, 758, 532, 532, 550, 549, 537, 582, 582, 552, 551, 550], \"type\": \"scatter\"}], \"name\": \"9.5\"}, {\"data\": [{\"marker\": {\"opacity\": 0.5, \"size\": [180, 120, 100, 100, 160, 160, 100, 299, 100, 279, 140, 140, 140, 299], \"sizemode\": \"area\", \"sizeref\": 0, \"symbol\": 0}, \"mode\": \"markers\", \"name\": \"Dilated Pupil\", \"text\": [\" Minutes: 9.54<br>Duration: 0\", \" Minutes: 9.546<br>Duration: 0\", \" Minutes: 9.586<br>Duration: 0\", \" Minutes: 9.591<br>Duration: 0\", \" Minutes: 9.606<br>Duration: 0\", \" Minutes: 9.626<br>Duration: 0\", \" Minutes: 9.636<br>Duration: 0\", \" Minutes: 9.649<br>Duration: 0\", \" Minutes: 9.684<br>Duration: 0\", \" Minutes: 9.689<br>Duration: 0\", \" Minutes: 9.704<br>Duration: 0\", \" Minutes: 9.722<br>Duration: 0\", \" Minutes: 9.728<br>Duration: 0\", \" Minutes: 9.74<br>Duration: 0\"], \"x\": [772, 766, 252, 774, 731, 762, 738, 727, 805, 796, 802, 815, 838, 781], \"y\": [681, 652, 224, 797, 833, 717, 685, 732, 691, 691, 706, 730, 731, 722], \"type\": \"scatter\"}, {\"marker\": {\"opacity\": 0.5, \"size\": [140, 100, 120, 120, 120, 140, 159, 180], \"sizemode\": \"area\", \"sizeref\": 0, \"symbol\": 0}, \"mode\": \"markers\", \"name\": \"Squeezed Pupil \", \"text\": [\" Minutes: 9.548<br>Duration: 0\", \" Minutes: 9.553<br>Duration: 0\", \" Minutes: 9.556<br>Duration: 0\", \" Minutes: 9.559<br>Duration: 0\", \" Minutes: 9.563<br>Duration: 0\", \" Minutes: 9.578<br>Duration: 0\", \" Minutes: 9.67<br>Duration: 0\", \" Minutes: 9.68<br>Duration: 0\"], \"x\": [785, 779, 782, 780, 785, 265, 766, 735], \"y\": [684, 691, 673, 695, 627, 248, 721, 671], \"type\": \"scatter\"}, {\"marker\": {\"size\": 10, \"sizemode\": \"area\", \"sizeref\": 1, \"symbol\": 207}, \"mode\": \"markers\", \"name\": \"LMouseButton\", \"text\": [\" Minute: 9.618\", \" Minute: 9.639\", \" Minute: 9.652\", \" Minute: 9.664\", \" Minute: 9.685\", \" Minute: 9.703\", \" Minute: 9.719\", \" Minute: 9.746\"], \"x\": [678, 678, 700, 696, 713, 744, 752, 754], \"y\": [791, 716, 757, 756, 709, 730, 744, 741], \"type\": \"scatter\"}], \"name\": \"9.75\"}, {\"data\": [{\"marker\": {\"opacity\": 0.5, \"size\": [120, 120, 199, 100, 100, 140, 120, 120, 100, 259, 159], \"sizemode\": \"area\", \"sizeref\": 0, \"symbol\": 0}, \"mode\": \"markers\", \"name\": \"Dilated Pupil\", \"text\": [\" Minutes: 9.869<br>Duration: 0\", \" Minutes: 9.903<br>Duration: 0\", \" Minutes: 9.913<br>Duration: 0\", \" Minutes: 9.923<br>Duration: 0\", \" Minutes: 9.93<br>Duration: 0\", \" Minutes: 9.944<br>Duration: 0\", \" Minutes: 9.956<br>Duration: 0\", \" Minutes: 9.976<br>Duration: 0\", \" Minutes: 9.98<br>Duration: 0\", \" Minutes: 9.984<br>Duration: 0\", \" Minutes: 9.999<br>Duration: 0\"], \"x\": [722, 736, 774, 725, 732, 776, 713, 725, 711, 707, 708], \"y\": [541, 528, 580, 592, 570, 601, 529, 568, 561, 574, 551], \"type\": \"scatter\"}, {\"marker\": {\"opacity\": 0.5, \"size\": [159, 120, 100, 120, 120, 379, 120], \"sizemode\": \"area\", \"sizeref\": 0, \"symbol\": 0}, \"mode\": \"markers\", \"name\": \"Squeezed Pupil \", \"text\": [\" Minutes: 9.756<br>Duration: 0\", \" Minutes: 9.765<br>Duration: 0\", \" Minutes: 9.871<br>Duration: 0\", \" Minutes: 9.877<br>Duration: 0\", \" Minutes: 9.885<br>Duration: 0\", \" Minutes: 9.934<br>Duration: 0\", \" Minutes: 9.972<br>Duration: 0\"], \"x\": [777, 778, 735, 741, 751, 743, 717], \"y\": [662, 606, 514, 500, 505, 591, 542], \"type\": \"scatter\"}, {\"marker\": {\"size\": 10, \"sizemode\": \"area\", \"sizeref\": 1, \"symbol\": 207}, \"mode\": \"markers\", \"name\": \"LMouseButton\", \"text\": [\" Minute: 9.752\", \" Minute: 9.759\", \" Minute: 9.791\", \" Minute: 9.806\", \" Minute: 9.845\", \" Minute: 9.856\", \" Minute: 9.861\", \" Minute: 9.889\", \" Minute: 9.902\", \" Minute: 9.91\", \" Minute: 9.915\", \" Minute: 9.925\", \" Minute: 9.931\", \" Minute: 9.938\", \" Minute: 9.986\", \" Minute: 9.995\"], \"x\": [741, 725, 675, 697, 707, 719, 704, 703, 703, 698, 698, 698, 697, 723, 698, 697], \"y\": [728, 713, 837, 872, 732, 737, 725, 551, 551, 571, 576, 576, 578, 598, 580, 550], \"type\": \"scatter\"}], \"name\": \"10.0\"}, {\"data\": [{\"marker\": {\"opacity\": 0.5, \"size\": [140, 100, 259, 100, 239, 199, 140, 120, 120, 160, 219, 100, 120, 160], \"sizemode\": \"area\", \"sizeref\": 0, \"symbol\": 0}, \"mode\": \"markers\", \"name\": \"Dilated Pupil\", \"text\": [\" Minutes: 10.002<br>Duration: 0\", \" Minutes: 10.013<br>Duration: 0\", \" Minutes: 10.02<br>Duration: 0\", \" Minutes: 10.078<br>Duration: 0\", \" Minutes: 10.084<br>Duration: 0\", \" Minutes: 10.118<br>Duration: 0\", \" Minutes: 10.128<br>Duration: 0\", \" Minutes: 10.148<br>Duration: 0\", \" Minutes: 10.153<br>Duration: 0\", \" Minutes: 10.158<br>Duration: 0\", \" Minutes: 10.162<br>Duration: 0\", \" Minutes: 10.203<br>Duration: 0\", \" Minutes: 10.211<br>Duration: 0\", \" Minutes: 10.246<br>Duration: 0\"], \"x\": [736, 717, 741, 700, 731, 743, 67, 88, 80, 727, 730, 731, 748, 753], \"y\": [558, 557, 602, 529, 643, 522, 508, 537, 527, 511, 530, 529, 537, 556], \"type\": \"scatter\"}, {\"marker\": {\"opacity\": 0.5, \"size\": [179, 140, 160, 180, 120, 179, 100, 120, 140, 140, 100, 239, 120, 100], \"sizemode\": \"area\", \"sizeref\": 0, \"symbol\": 0}, \"mode\": \"markers\", \"name\": \"Squeezed Pupil \", \"text\": [\" Minutes: 10.031<br>Duration: 0\", \" Minutes: 10.035<br>Duration: 0\", \" Minutes: 10.05<br>Duration: 0\", \" Minutes: 10.055<br>Duration: 0\", \" Minutes: 10.074<br>Duration: 0\", \" Minutes: 10.092<br>Duration: 0\", \" Minutes: 10.103<br>Duration: 0\", \" Minutes: 10.123<br>Duration: 0\", \" Minutes: 10.142<br>Duration: 0\", \" Minutes: 10.166<br>Duration: 0\", \" Minutes: 10.193<br>Duration: 0\", \" Minutes: 10.229<br>Duration: 0\", \" Minutes: 10.234<br>Duration: 0\", \" Minutes: 10.239<br>Duration: 0\"], \"x\": [722, 708, 718, 734, 733, 97, 81, 738, 85, 737, 732, 751, 757, 718], \"y\": [602, 598, 551, 591, 541, 584, 541, 527, 535, 535, 530, 653, 651, 524], \"type\": \"scatter\"}, {\"marker\": {\"size\": 10, \"sizemode\": \"area\", \"sizeref\": 1, \"symbol\": 207}, \"mode\": \"markers\", \"name\": \"LMouseButton\", \"text\": [\" Minute: 10.04\"], \"x\": [697], \"y\": [613], \"type\": \"scatter\"}], \"name\": \"10.25\"}, {\"data\": [{\"marker\": {\"opacity\": 0.5, \"size\": [100, 100, 140], \"sizemode\": \"area\", \"sizeref\": 0, \"symbol\": 0}, \"mode\": \"markers\", \"name\": \"Dilated Pupil\", \"text\": [\" Minutes: 10.253<br>Duration: 0\", \" Minutes: 10.275<br>Duration: 0\", \" Minutes: 10.284<br>Duration: 0\"], \"x\": [755, 67, 58], \"y\": [626, 516, 534], \"type\": \"scatter\"}, {\"marker\": {\"opacity\": 0.5, \"size\": [100, 120], \"sizemode\": \"area\", \"sizeref\": 0, \"symbol\": 0}, \"mode\": \"markers\", \"name\": \"Squeezed Pupil \", \"text\": [\" Minutes: 10.494<br>Duration: 0\", \" Minutes: 10.499<br>Duration: 0\"], \"x\": [430, 272], \"y\": [191, 206], \"type\": \"scatter\"}, {\"marker\": {\"size\": 10, \"sizemode\": \"area\", \"sizeref\": 1, \"symbol\": 207}, \"mode\": \"markers\", \"name\": \"LMouseButton\", \"text\": [], \"x\": [], \"y\": [], \"type\": \"scatter\"}], \"name\": \"10.5\"}, {\"data\": [{\"marker\": {\"opacity\": 0.5, \"size\": [179, 299, 180, 100, 120, 100, 179, 140], \"sizemode\": \"area\", \"sizeref\": 0, \"symbol\": 0}, \"mode\": \"markers\", \"name\": \"Dilated Pupil\", \"text\": [\" Minutes: 10.604<br>Duration: 0\", \" Minutes: 10.632<br>Duration: 0\", \" Minutes: 10.675<br>Duration: 0\", \" Minutes: 10.684<br>Duration: 0\", \" Minutes: 10.696<br>Duration: 0\", \" Minutes: 10.709<br>Duration: 0\", \" Minutes: 10.736<br>Duration: 0\", \" Minutes: 10.743<br>Duration: 0\"], \"x\": [744, 82, 102, 89, 99, 98, 67, 112], \"y\": [545, 248, 210, 182, 719, 777, 646, 750], \"type\": \"scatter\"}, {\"marker\": {\"opacity\": 0.5, \"size\": [159, 100, 100, 140, 439, 199, 239, 459, 239, 120, 578, 359, 160, 120, 239, 498, 180, 120, 140, 339, 159, 199, 120, 120], \"sizemode\": \"area\", \"sizeref\": 0, \"symbol\": 0}, \"mode\": \"markers\", \"name\": \"Squeezed Pupil \", \"text\": [\" Minutes: 10.502<br>Duration: 0\", \" Minutes: 10.505<br>Duration: 0\", \" Minutes: 10.511<br>Duration: 0\", \" Minutes: 10.513<br>Duration: 0\", \" Minutes: 10.516<br>Duration: 0\", \" Minutes: 10.525<br>Duration: 0\", \" Minutes: 10.528<br>Duration: 0\", \" Minutes: 10.533<br>Duration: 0\", \" Minutes: 10.541<br>Duration: 0\", \" Minutes: 10.546<br>Duration: 0\", \" Minutes: 10.554<br>Duration: 0\", \" Minutes: 10.564<br>Duration: 0\", \" Minutes: 10.571<br>Duration: 0\", \" Minutes: 10.578<br>Duration: 0\", \" Minutes: 10.583<br>Duration: 0\", \" Minutes: 10.587<br>Duration: 0\", \" Minutes: 10.596<br>Duration: 0\", \" Minutes: 10.607<br>Duration: 0\", \" Minutes: 10.638<br>Duration: 0\", \" Minutes: 10.649<br>Duration: 0\", \" Minutes: 10.663<br>Duration: 0\", \" Minutes: 10.67<br>Duration: 0\", \" Minutes: 10.71<br>Duration: 0\", \" Minutes: 10.73<br>Duration: 0\"], \"x\": [68, 62, 277, 318, 618, 324, 253, 75, 240, 280, 606, 615, 279, 84, 514, 251, 433, 738, 257, 78, 288, 336, 104, 50], \"y\": [202, 203, 200, 200, 215, 204, 209, 210, 216, 211, 239, 240, 231, 238, 266, 222, 232, 537, 217, 222, 201, 190, 740, 546], \"type\": \"scatter\"}, {\"marker\": {\"size\": 10, \"sizemode\": \"area\", \"sizeref\": 1, \"symbol\": 207}, \"mode\": \"markers\", \"name\": \"LMouseButton\", \"text\": [\" Minute: 10.56\", \" Minute: 10.571\", \" Minute: 10.625\"], \"x\": [574, 610, 443], \"y\": [250, 250, 266], \"type\": \"scatter\"}], \"name\": \"10.75\"}, {\"data\": [{\"marker\": {\"opacity\": 0.5, \"size\": [140, 140, 100, 140, 120, 159, 100, 160, 179, 160, 339, 299], \"sizemode\": \"area\", \"sizeref\": 0, \"symbol\": 0}, \"mode\": \"markers\", \"name\": \"Dilated Pupil\", \"text\": [\" Minutes: 10.752<br>Duration: 0\", \" Minutes: 10.758<br>Duration: 0\", \" Minutes: 10.781<br>Duration: 0\", \" Minutes: 10.819<br>Duration: 0\", \" Minutes: 10.872<br>Duration: 0\", \" Minutes: 10.881<br>Duration: 0\", \" Minutes: 10.889<br>Duration: 0\", \" Minutes: 10.949<br>Duration: 0\", \" Minutes: 10.954<br>Duration: 0\", \" Minutes: 10.973<br>Duration: 0\", \" Minutes: 10.98<br>Duration: 0\", \" Minutes: 11.0<br>Duration: 0\"], \"x\": [749, 772, 824, 711, 64, 106, 117, 238, 86, 83, 254, 250], \"y\": [823, 696, 620, 744, 529, 656, 757, 200, 216, 220, 212, 217], \"type\": \"scatter\"}, {\"marker\": {\"opacity\": 0.5, \"size\": [100, 140, 339, 259, 399, 180, 100, 180, 100, 179, 100, 100, 180, 199, 239], \"sizemode\": \"area\", \"sizeref\": 0, \"symbol\": 0}, \"mode\": \"markers\", \"name\": \"Squeezed Pupil \", \"text\": [\" Minutes: 10.783<br>Duration: 0\", \" Minutes: 10.787<br>Duration: 0\", \" Minutes: 10.799<br>Duration: 0\", \" Minutes: 10.807<br>Duration: 0\", \" Minutes: 10.812<br>Duration: 0\", \" Minutes: 10.823<br>Duration: 0\", \" Minutes: 10.827<br>Duration: 0\", \" Minutes: 10.831<br>Duration: 0\", \" Minutes: 10.854<br>Duration: 0\", \" Minutes: 10.858<br>Duration: 0\", \" Minutes: 10.897<br>Duration: 0\", \" Minutes: 10.902<br>Duration: 0\", \" Minutes: 10.905<br>Duration: 0\", \" Minutes: 10.909<br>Duration: 0\", \" Minutes: 10.992<br>Duration: 0\"], \"x\": [802, 741, 721, 721, 706, 717, 743, 749, 691, 712, 777, 577, 456, 272, 246], \"y\": [617, 587, 532, 544, 533, 671, 638, 626, 514, 599, 622, 258, 210, 202, 213], \"type\": \"scatter\"}, {\"marker\": {\"size\": 10, \"sizemode\": \"area\", \"sizeref\": 1, \"symbol\": 207}, \"mode\": \"markers\", \"name\": \"LMouseButton\", \"text\": [\" Minute: 10.795\", \" Minute: 10.808\", \" Minute: 10.82\", \" Minute: 10.922\", \" Minute: 10.931\"], \"x\": [699, 695, 676, 612, 587], \"y\": [609, 548, 532, 212, 240], \"type\": \"scatter\"}], \"name\": \"11.0\"}, {\"data\": [{\"marker\": {\"opacity\": 0.5, \"size\": [279, 160, 159, 159, 120, 239, 100, 120, 419], \"sizemode\": \"area\", \"sizeref\": 0, \"symbol\": 0}, \"mode\": \"markers\", \"name\": \"Dilated Pupil\", \"text\": [\" Minutes: 11.008<br>Duration: 0\", \" Minutes: 11.015<br>Duration: 0\", \" Minutes: 11.021<br>Duration: 0\", \" Minutes: 11.031<br>Duration: 0\", \" Minutes: 11.048<br>Duration: 0\", \" Minutes: 11.051<br>Duration: 0\", \" Minutes: 11.058<br>Duration: 0\", \" Minutes: 11.06<br>Duration: 0\", \" Minutes: 11.068<br>Duration: 0\"], \"x\": [89, 102, 103, 85, 99, 97, 102, 99, 119], \"y\": [251, 250, 242, 233, 755, 672, 658, 645, 726], \"type\": \"scatter\"}, {\"marker\": {\"opacity\": 0.5, \"size\": [140, 120, 259, 160, 100, 219], \"sizemode\": \"area\", \"sizeref\": 0, \"symbol\": 0}, \"mode\": \"markers\", \"name\": \"Squeezed Pupil \", \"text\": [\" Minutes: 11.065<br>Duration: 0\", \" Minutes: 11.097<br>Duration: 0\", \" Minutes: 11.104<br>Duration: 0\", \" Minutes: 11.147<br>Duration: 0\", \" Minutes: 11.167<br>Duration: 0\", \" Minutes: 11.171<br>Duration: 0\"], \"x\": [107, 102, 94, 577, 506, 503], \"y\": [693, 704, 702, 739, 714, 730], \"type\": \"scatter\"}, {\"marker\": {\"size\": 10, \"sizemode\": \"area\", \"sizeref\": 1, \"symbol\": 207}, \"mode\": \"markers\", \"name\": \"LMouseButton\", \"text\": [\" Minute: 11.099\", \" Minute: 11.158\"], \"x\": [107, 622], \"y\": [726, 717], \"type\": \"scatter\"}], \"name\": \"11.25\"}, {\"data\": [{\"marker\": {\"opacity\": 0.5, \"size\": [100, 120, 339, 339, 538, 399, 100], \"sizemode\": \"area\", \"sizeref\": 0, \"symbol\": 0}, \"mode\": \"markers\", \"name\": \"Dilated Pupil\", \"text\": [\" Minutes: 11.312<br>Duration: 0\", \" Minutes: 11.314<br>Duration: 0\", \" Minutes: 11.317<br>Duration: 0\", \" Minutes: 11.323<br>Duration: 0\", \" Minutes: 11.329<br>Duration: 0\", \" Minutes: 11.339<br>Duration: 0\", \" Minutes: 11.444<br>Duration: 0\"], \"x\": [503, 460, 612, 287, 78, 248, 155], \"y\": [206, 185, 205, 197, 194, 184, 222], \"type\": \"scatter\"}, {\"marker\": {\"opacity\": 0.5, \"size\": [140, 120, 100, 100, 199], \"sizemode\": \"area\", \"sizeref\": 0, \"symbol\": 0}, \"mode\": \"markers\", \"name\": \"Squeezed Pupil \", \"text\": [\" Minutes: 11.254<br>Duration: 0\", \" Minutes: 11.265<br>Duration: 0\", \" Minutes: 11.274<br>Duration: 0\", \" Minutes: 11.277<br>Duration: 0\", \" Minutes: 11.452<br>Duration: 0\"], \"x\": [286, 767, 730, 726, 257], \"y\": [198, 628, 600, 603, 210], \"type\": \"scatter\"}, {\"marker\": {\"size\": 10, \"sizemode\": \"area\", \"sizeref\": 1, \"symbol\": 207}, \"mode\": \"markers\", \"name\": \"LMouseButton\", \"text\": [\" Minute: 11.334\", \" Minute: 11.403\", \" Minute: 11.478\"], \"x\": [500, 694, 714], \"y\": [237, 627, 688], \"type\": \"scatter\"}], \"name\": \"11.5\"}, {\"data\": [{\"marker\": {\"opacity\": 0.5, \"size\": [180, 219, 100, 140, 160, 100, 100, 100, 199], \"sizemode\": \"area\", \"sizeref\": 0, \"symbol\": 0}, \"mode\": \"markers\", \"name\": \"Dilated Pupil\", \"text\": [\" Minutes: 11.546<br>Duration: 0\", \" Minutes: 11.614<br>Duration: 0\", \" Minutes: 11.636<br>Duration: 0\", \" Minutes: 11.643<br>Duration: 0\", \" Minutes: 11.656<br>Duration: 0\", \" Minutes: 11.659<br>Duration: 0\", \" Minutes: 11.7<br>Duration: 0\", \" Minutes: 11.702<br>Duration: 0\", \" Minutes: 11.704<br>Duration: 0\"], \"x\": [111, 765, 788, 839, 766, 788, 133, 118, 104], \"y\": [709, 621, 614, 621, 615, 682, 724, 718, 708], \"type\": \"scatter\"}, {\"marker\": {\"opacity\": 0.5, \"size\": [100, 119, 339, 120, 140, 100, 100], \"sizemode\": \"area\", \"sizeref\": 0, \"symbol\": 0}, \"mode\": \"markers\", \"name\": \"Squeezed Pupil \", \"text\": [\" Minutes: 11.54<br>Duration: 0\", \" Minutes: 11.542<br>Duration: 0\", \" Minutes: 11.602<br>Duration: 0\", \" Minutes: 11.676<br>Duration: 0\", \" Minutes: 11.727<br>Duration: 0\", \" Minutes: 11.73<br>Duration: 0\", \" Minutes: 11.737<br>Duration: 0\"], \"x\": [96, 112, 776, 789, 789, 802, 779], \"y\": [685, 716, 610, 673, 684, 692, 657], \"type\": \"scatter\"}, {\"marker\": {\"size\": 10, \"sizemode\": \"area\", \"sizeref\": 1, \"symbol\": 207}, \"mode\": \"markers\", \"name\": \"LMouseButton\", \"text\": [], \"x\": [], \"y\": [], \"type\": \"scatter\"}], \"name\": \"11.75\"}, {\"data\": [{\"marker\": {\"opacity\": 0.5, \"size\": [120, 120, 239, 120, 459, 458, 140, 399, 100, 339, 140, 558, 359, 678, 140, 239], \"sizemode\": \"area\", \"sizeref\": 0, \"symbol\": 0}, \"mode\": \"markers\", \"name\": \"Dilated Pupil\", \"text\": [\" Minutes: 11.777<br>Duration: 0\", \" Minutes: 11.779<br>Duration: 0\", \" Minutes: 11.781<br>Duration: 0\", \" Minutes: 11.785<br>Duration: 0\", \" Minutes: 11.788<br>Duration: 0\", \" Minutes: 11.832<br>Duration: 0\", \" Minutes: 11.84<br>Duration: 0\", \" Minutes: 11.843<br>Duration: 0\", \" Minutes: 11.855<br>Duration: 0\", \" Minutes: 11.858<br>Duration: 0\", \" Minutes: 11.864<br>Duration: 0\", \" Minutes: 11.87<br>Duration: 0\", \" Minutes: 11.886<br>Duration: 0\", \" Minutes: 11.896<br>Duration: 0\", \" Minutes: 11.965<br>Duration: 0\", \" Minutes: 11.975<br>Duration: 0\"], \"x\": [605, 603, 605, 618, 499, 441, 424, 429, 228, 71, 95, 267, 76, 262, 45, 740], \"y\": [231, 219, 220, 238, 260, 235, 231, 241, 218, 243, 236, 218, 240, 213, 521, 572], \"type\": \"scatter\"}, {\"marker\": {\"opacity\": 0.5, \"size\": [120, 140, 140, 140, 140, 678, 279, 139, 279, 100, 140, 139, 219, 120, 100, 100, 100, 140, 219, 279], \"sizemode\": \"area\", \"sizeref\": 0, \"symbol\": 0}, \"mode\": \"markers\", \"name\": \"Squeezed Pupil \", \"text\": [\" Minutes: 11.767<br>Duration: 0\", \" Minutes: 11.769<br>Duration: 0\", \" Minutes: 11.772<br>Duration: 0\", \" Minutes: 11.796<br>Duration: 0\", \" Minutes: 11.812<br>Duration: 0\", \" Minutes: 11.82<br>Duration: 0\", \" Minutes: 11.88<br>Duration: 0\", \" Minutes: 11.917<br>Duration: 0\", \" Minutes: 11.925<br>Duration: 0\", \" Minutes: 11.931<br>Duration: 0\", \" Minutes: 11.933<br>Duration: 0\", \" Minutes: 11.943<br>Duration: 0\", \" Minutes: 11.945<br>Duration: 0\", \" Minutes: 11.961<br>Duration: 0\", \" Minutes: 11.969<br>Duration: 0\", \" Minutes: 11.979<br>Duration: 0\", \" Minutes: 11.982<br>Duration: 0\", \" Minutes: 11.986<br>Duration: 0\", \" Minutes: 11.989<br>Duration: 0\", \" Minutes: 11.993<br>Duration: 0\"], \"x\": [496, 446, 264, 505, 310, 441, 92, 278, 96, 99, 106, 103, 106, 42, 708, 758, 760, 723, 699, 699], \"y\": [240, 225, 217, 268, 154, 231, 247, 230, 735, 737, 756, 641, 630, 539, 588, 554, 567, 506, 585, 569], \"type\": \"scatter\"}, {\"marker\": {\"size\": 10, \"sizemode\": \"area\", \"sizeref\": 1, \"symbol\": 207}, \"mode\": \"markers\", \"name\": \"LMouseButton\", \"text\": [\" Minute: 11.785\", \" Minute: 11.819\", \" Minute: 11.999\"], \"x\": [610, 576, 675], \"y\": [233, 275, 584], \"type\": \"scatter\"}], \"name\": \"12.0\"}, {\"data\": [{\"marker\": {\"opacity\": 0.5, \"size\": [259, 120, 120, 120, 120, 100, 139, 100, 120, 100, 219], \"sizemode\": \"area\", \"sizeref\": 0, \"symbol\": 0}, \"mode\": \"markers\", \"name\": \"Dilated Pupil\", \"text\": [\" Minutes: 12.006<br>Duration: 0\", \" Minutes: 12.011<br>Duration: 0\", \" Minutes: 12.019<br>Duration: 0\", \" Minutes: 12.028<br>Duration: 0\", \" Minutes: 12.031<br>Duration: 0\", \" Minutes: 12.033<br>Duration: 0\", \" Minutes: 12.038<br>Duration: 0\", \" Minutes: 12.046<br>Duration: 0\", \" Minutes: 12.156<br>Duration: 0\", \" Minutes: 12.167<br>Duration: 0\", \" Minutes: 12.224<br>Duration: 0\"], \"x\": [750, 755, 87, 103, 106, 108, 109, 99, 622, 616, 82], \"y\": [587, 571, 650, 640, 659, 636, 667, 630, 240, 242, 609], \"type\": \"scatter\"}, {\"marker\": {\"opacity\": 0.5, \"size\": [160, 120, 180, 120, 160, 120, 120, 299, 100, 159, 219, 199, 179, 100, 319, 100, 160, 140, 100, 140, 140], \"sizemode\": \"area\", \"sizeref\": 0, \"symbol\": 0}, \"mode\": \"markers\", \"name\": \"Squeezed Pupil \", \"text\": [\" Minutes: 12.003<br>Duration: 0\", \" Minutes: 12.016<br>Duration: 0\", \" Minutes: 12.024<br>Duration: 0\", \" Minutes: 12.076<br>Duration: 0\", \" Minutes: 12.083<br>Duration: 0\", \" Minutes: 12.102<br>Duration: 0\", \" Minutes: 12.113<br>Duration: 0\", \" Minutes: 12.118<br>Duration: 0\", \" Minutes: 12.142<br>Duration: 0\", \" Minutes: 12.145<br>Duration: 0\", \" Minutes: 12.163<br>Duration: 0\", \" Minutes: 12.175<br>Duration: 0\", \" Minutes: 12.18<br>Duration: 0\", \" Minutes: 12.184<br>Duration: 0\", \" Minutes: 12.186<br>Duration: 0\", \" Minutes: 12.197<br>Duration: 0\", \" Minutes: 12.203<br>Duration: 0\", \" Minutes: 12.206<br>Duration: 0\", \" Minutes: 12.214<br>Duration: 0\", \" Minutes: 12.218<br>Duration: 0\", \" Minutes: 12.247<br>Duration: 0\"], \"x\": [744, 79, 43, 820, 760, 756, 778, 708, 274, 278, 618, 526, 280, 278, 440, 82, 268, 270, 68, 278, 114], \"y\": [572, 624, 632, 592, 625, 594, 575, 517, 219, 231, 245, 272, 246, 255, 261, 241, 238, 261, 206, 203, 648], \"type\": \"scatter\"}, {\"marker\": {\"size\": 10, \"sizemode\": \"area\", \"sizeref\": 1, \"symbol\": 207}, \"mode\": \"markers\", \"name\": \"LMouseButton\", \"text\": [\" Minute: 12.028\", \" Minute: 12.162\", \" Minute: 12.171\", \" Minute: 12.179\", \" Minute: 12.191\"], \"x\": [43, 590, 611, 595, 540], \"y\": [641, 250, 250, 264, 264], \"type\": \"scatter\"}], \"name\": \"12.25\"}, {\"data\": [{\"marker\": {\"opacity\": 0.5, \"size\": [100, 100, 100, 100, 140, 120, 100, 100, 100, 159, 140, 140], \"sizemode\": \"area\", \"sizeref\": 0, \"symbol\": 0}, \"mode\": \"markers\", \"name\": \"Dilated Pupil\", \"text\": [\" Minutes: 12.317<br>Duration: 0\", \" Minutes: 12.324<br>Duration: 0\", \" Minutes: 12.332<br>Duration: 0\", \" Minutes: 12.336<br>Duration: 0\", \" Minutes: 12.353<br>Duration: 0\", \" Minutes: 12.361<br>Duration: 0\", \" Minutes: 12.417<br>Duration: 0\", \" Minutes: 12.458<br>Duration: 0\", \" Minutes: 12.473<br>Duration: 0\", \" Minutes: 12.481<br>Duration: 0\", \" Minutes: 12.492<br>Duration: 0\", \" Minutes: 12.495<br>Duration: 0\"], \"x\": [86, 47, 88, 86, 71, 96, 59, 90, 77, 39, 39, 76], \"y\": [618, 611, 599, 620, 642, 647, 482, 884, 663, 637, 612, 618], \"type\": \"scatter\"}, {\"marker\": {\"opacity\": 0.5, \"size\": [100, 100], \"sizemode\": \"area\", \"sizeref\": 0, \"symbol\": 0}, \"mode\": \"markers\", \"name\": \"Squeezed Pupil \", \"text\": [\" Minutes: 12.264<br>Duration: 0\", \" Minutes: 12.388<br>Duration: 0\"], \"x\": [134, 73], \"y\": [710, 716], \"type\": \"scatter\"}, {\"marker\": {\"size\": 10, \"sizemode\": \"area\", \"sizeref\": 1, \"symbol\": 207}, \"mode\": \"markers\", \"name\": \"LMouseButton\", \"text\": [\" Minute: 12.257\", \" Minute: 12.299\", \" Minute: 12.303\", \" Minute: 12.32\", \" Minute: 12.326\", \" Minute: 12.337\", \" Minute: 12.345\", \" Minute: 12.355\", \" Minute: 12.378\", \" Minute: 12.387\", \" Minute: 12.495\"], \"x\": [49, 68, 66, 66, 66, 66, 66, 66, 76, 67, 61], \"y\": [630, 659, 652, 652, 659, 661, 678, 679, 676, 673, 675], \"type\": \"scatter\"}], \"name\": \"12.5\"}, {\"data\": [{\"marker\": {\"opacity\": 0.5, \"size\": [120, 259, 120, 140, 140, 199, 140, 100, 100, 160, 120], \"sizemode\": \"area\", \"sizeref\": 0, \"symbol\": 0}, \"mode\": \"markers\", \"name\": \"Dilated Pupil\", \"text\": [\" Minutes: 12.505<br>Duration: 0\", \" Minutes: 12.544<br>Duration: 0\", \" Minutes: 12.55<br>Duration: 0\", \" Minutes: 12.616<br>Duration: 0\", \" Minutes: 12.625<br>Duration: 0\", \" Minutes: 12.639<br>Duration: 0\", \" Minutes: 12.65<br>Duration: 0\", \" Minutes: 12.655<br>Duration: 0\", \" Minutes: 12.72<br>Duration: 0\", \" Minutes: 12.73<br>Duration: 0\", \" Minutes: 12.745<br>Duration: 0\"], \"x\": [90, 748, 735, 799, 723, 743, 723, 723, 76, 69, 145], \"y\": [650, 549, 542, 733, 510, 531, 650, 546, 596, 623, 706], \"type\": \"scatter\"}, {\"marker\": {\"opacity\": 0.5, \"size\": [160, 100, 100, 140, 140, 100], \"sizemode\": \"area\", \"sizeref\": 0, \"symbol\": 0}, \"mode\": \"markers\", \"name\": \"Squeezed Pupil \", \"text\": [\" Minutes: 12.556<br>Duration: 0\", \" Minutes: 12.56<br>Duration: 0\", \" Minutes: 12.566<br>Duration: 0\", \" Minutes: 12.569<br>Duration: 0\", \" Minutes: 12.667<br>Duration: 0\", \" Minutes: 12.68<br>Duration: 0\"], \"x\": [731, 732, 747, 779, 757, 715], \"y\": [509, 525, 545, 604, 717, 512], \"type\": \"scatter\"}, {\"marker\": {\"size\": 10, \"sizemode\": \"area\", \"sizeref\": 1, \"symbol\": 207}, \"mode\": \"markers\", \"name\": \"LMouseButton\", \"text\": [\" Minute: 12.507\", \" Minute: 12.515\", \" Minute: 12.56\"], \"x\": [61, 60, 675], \"y\": [675, 663, 548], \"type\": \"scatter\"}], \"name\": \"12.75\"}, {\"data\": [{\"marker\": {\"opacity\": 0.5, \"size\": [100, 100, 219, 100, 219, 180, 120, 319, 379, 359], \"sizemode\": \"area\", \"sizeref\": 0, \"symbol\": 0}, \"mode\": \"markers\", \"name\": \"Dilated Pupil\", \"text\": [\" Minutes: 12.752<br>Duration: 0\", \" Minutes: 12.81<br>Duration: 0\", \" Minutes: 12.812<br>Duration: 0\", \" Minutes: 12.838<br>Duration: 0\", \" Minutes: 12.875<br>Duration: 0\", \" Minutes: 12.88<br>Duration: 0\", \" Minutes: 12.888<br>Duration: 0\", \" Minutes: 12.941<br>Duration: 0\", \" Minutes: 12.948<br>Duration: 0\", \" Minutes: 12.983<br>Duration: 0\"], \"x\": [85, 102, 76, 742, 439, 267, 255, 238, 247, 71], \"y\": [585, 630, 609, 532, 200, 198, 185, 178, 194, 227], \"type\": \"scatter\"}, {\"marker\": {\"opacity\": 0.5, \"size\": [159, 120, 299, 100, 140, 259, 379], \"sizemode\": \"area\", \"sizeref\": 0, \"symbol\": 0}, \"mode\": \"markers\", \"name\": \"Squeezed Pupil \", \"text\": [\" Minutes: 12.825<br>Duration: 0\", \" Minutes: 12.9<br>Duration: 0\", \" Minutes: 12.955<br>Duration: 0\", \" Minutes: 12.99<br>Duration: 0\", \" Minutes: 12.992<br>Duration: 0\", \" Minutes: 12.995<br>Duration: 0\", \" Minutes: 12.999<br>Duration: 0\"], \"x\": [775, 516, 270, 68, 71, 96, 116], \"y\": [575, 203, 196, 241, 228, 219, 223], \"type\": \"scatter\"}, {\"marker\": {\"size\": 10, \"sizemode\": \"area\", \"sizeref\": 1, \"symbol\": 207}, \"mode\": \"markers\", \"name\": \"LMouseButton\", \"text\": [\" Minute: 12.896\", \" Minute: 12.904\"], \"x\": [612, 588], \"y\": [212, 245], \"type\": \"scatter\"}], \"name\": \"13.0\"}, {\"data\": [{\"marker\": {\"opacity\": 0.5, \"size\": [159, 219, 538, 379, 160, 199, 179, 239, 160, 100, 120, 279, 140, 139, 100, 199, 1097, 100, 219], \"sizemode\": \"area\", \"sizeref\": 0, \"symbol\": 0}, \"mode\": \"markers\", \"name\": \"Dilated Pupil\", \"text\": [\" Minutes: 13.008<br>Duration: 0\", \" Minutes: 13.061<br>Duration: 0\", \" Minutes: 13.065<br>Duration: 0\", \" Minutes: 13.088<br>Duration: 0\", \" Minutes: 13.095<br>Duration: 0\", \" Minutes: 13.099<br>Duration: 0\", \" Minutes: 13.111<br>Duration: 0\", \" Minutes: 13.115<br>Duration: 0\", \" Minutes: 13.163<br>Duration: 0\", \" Minutes: 13.166<br>Duration: 0\", \" Minutes: 13.169<br>Duration: 0\", \" Minutes: 13.183<br>Duration: 0\", \" Minutes: 13.191<br>Duration: 0\", \" Minutes: 13.193<br>Duration: 0\", \" Minutes: 13.204<br>Duration: 0\", \" Minutes: 13.21<br>Duration: 0\", \" Minutes: 13.224<br>Duration: 0\", \" Minutes: 13.246<br>Duration: 0\", \" Minutes: 13.248<br>Duration: 0\"], \"x\": [108, 229, 82, 101, 96, 96, 91, 246, 79, 81, 77, 107, 72, 70, 227, 262, 267, 55, 41], \"y\": [209, 187, 222, 219, 218, 235, 251, 250, 253, 256, 227, 239, 228, 206, 223, 214, 217, 205, 196], \"type\": \"scatter\"}, {\"marker\": {\"opacity\": 0.5, \"size\": [100, 100, 279, 119, 120, 120, 139, 120, 100, 160, 199], \"sizemode\": \"area\", \"sizeref\": 0, \"symbol\": 0}, \"mode\": \"markers\", \"name\": \"Squeezed Pupil \", \"text\": [\" Minutes: 13.012<br>Duration: 0\", \" Minutes: 13.014<br>Duration: 0\", \" Minutes: 13.026<br>Duration: 0\", \" Minutes: 13.034<br>Duration: 0\", \" Minutes: 13.057<br>Duration: 0\", \" Minutes: 13.078<br>Duration: 0\", \" Minutes: 13.102<br>Duration: 0\", \" Minutes: 13.128<br>Duration: 0\", \" Minutes: 13.139<br>Duration: 0\", \" Minutes: 13.201<br>Duration: 0\", \" Minutes: 13.217<br>Duration: 0\"], \"x\": [239, 241, 271, 279, 277, 104, 138, 257, 274, 120, 272], \"y\": [205, 189, 206, 184, 208, 234, 277, 241, 229, 235, 224], \"type\": \"scatter\"}, {\"marker\": {\"size\": 10, \"sizemode\": \"area\", \"sizeref\": 1, \"symbol\": 207}, \"mode\": \"markers\", \"name\": \"LMouseButton\", \"text\": [], \"x\": [], \"y\": [], \"type\": \"scatter\"}], \"name\": \"13.25\"}, {\"data\": [{\"marker\": {\"opacity\": 0.5, \"size\": [179, 598, 159, 279, 120, 439, 199, 578, 359, 159, 159, 100], \"sizemode\": \"area\", \"sizeref\": 0, \"symbol\": 0}, \"mode\": \"markers\", \"name\": \"Dilated Pupil\", \"text\": [\" Minutes: 13.253<br>Duration: 0\", \" Minutes: 13.257<br>Duration: 0\", \" Minutes: 13.27<br>Duration: 0\", \" Minutes: 13.278<br>Duration: 0\", \" Minutes: 13.286<br>Duration: 0\", \" Minutes: 13.288<br>Duration: 0\", \" Minutes: 13.296<br>Duration: 0\", \" Minutes: 13.3<br>Duration: 0\", \" Minutes: 13.31<br>Duration: 0\", \" Minutes: 13.364<br>Duration: 0\", \" Minutes: 13.392<br>Duration: 0\", \" Minutes: 13.485<br>Duration: 0\"], \"x\": [69, 36, 82, 84, 63, 120, 121, 113, 249, 84, 82, 778], \"y\": [245, 213, 224, 234, 220, 242, 228, 223, 215, 617, 754, 881], \"type\": \"scatter\"}, {\"marker\": {\"opacity\": 0.5, \"size\": [160, 100, 279, 179, 439, 119, 179, 100], \"sizemode\": \"area\", \"sizeref\": 0, \"symbol\": 0}, \"mode\": \"markers\", \"name\": \"Squeezed Pupil \", \"text\": [\" Minutes: 13.319<br>Duration: 0\", \" Minutes: 13.324<br>Duration: 0\", \" Minutes: 13.326<br>Duration: 0\", \" Minutes: 13.337<br>Duration: 0\", \" Minutes: 13.35<br>Duration: 0\", \" Minutes: 13.396<br>Duration: 0\", \" Minutes: 13.4<br>Duration: 0\", \" Minutes: 13.461<br>Duration: 0\"], \"x\": [266, 291, 267, 256, 252, 104, 123, 779], \"y\": [212, 233, 208, 211, 217, 822, 840, 850], \"type\": \"scatter\"}, {\"marker\": {\"size\": 10, \"sizemode\": \"area\", \"sizeref\": 1, \"symbol\": 207}, \"mode\": \"markers\", \"name\": \"LMouseButton\", \"text\": [\" Minute: 13.43\"], \"x\": [810], \"y\": [841], \"type\": \"scatter\"}], \"name\": \"13.5\"}, {\"data\": [{\"marker\": {\"opacity\": 0.5, \"size\": [199, 120, 100, 100], \"sizemode\": \"area\", \"sizeref\": 0, \"symbol\": 0}, \"mode\": \"markers\", \"name\": \"Dilated Pupil\", \"text\": [\" Minutes: 13.591<br>Duration: 0\", \" Minutes: 13.602<br>Duration: 0\", \" Minutes: 13.671<br>Duration: 0\", \" Minutes: 13.686<br>Duration: 0\"], \"x\": [766, 761, 105, 67], \"y\": [868, 878, 815, 229], \"type\": \"scatter\"}, {\"marker\": {\"opacity\": 0.5, \"size\": [139, 259, 120, 120], \"sizemode\": \"area\", \"sizeref\": 0, \"symbol\": 0}, \"mode\": \"markers\", \"name\": \"Squeezed Pupil \", \"text\": [\" Minutes: 13.575<br>Duration: 0\", \" Minutes: 13.657<br>Duration: 0\", \" Minutes: 13.69<br>Duration: 0\", \" Minutes: 13.714<br>Duration: 0\"], \"x\": [767, 97, 80, 103], \"y\": [866, 842, 234, 773], \"type\": \"scatter\"}, {\"marker\": {\"size\": 10, \"sizemode\": \"area\", \"sizeref\": 1, \"symbol\": 207}, \"mode\": \"markers\", \"name\": \"LMouseButton\", \"text\": [\" Minute: 13.513\", \" Minute: 13.549\", \" Minute: 13.559\", \" Minute: 13.591\"], \"x\": [721, 720, 720, 695], \"y\": [826, 856, 856, 906], \"type\": \"scatter\"}], \"name\": \"13.75\"}, {\"data\": [{\"marker\": {\"opacity\": 0.5, \"size\": [359, 319, 2333, 877, 160, 1017, 1595, 160, 199, 140, 100, 180], \"sizemode\": \"area\", \"sizeref\": 0, \"symbol\": 0}, \"mode\": \"markers\", \"name\": \"Dilated Pupil\", \"text\": [\" Minutes: 13.799<br>Duration: 0\", \" Minutes: 13.805<br>Duration: 0\", \" Minutes: 13.814<br>Duration: 0\", \" Minutes: 13.854<br>Duration: 0\", \" Minutes: 13.869<br>Duration: 0\", \" Minutes: 13.878<br>Duration: 0\", \" Minutes: 13.895<br>Duration: 0\", \" Minutes: 13.923<br>Duration: 0\", \" Minutes: 13.926<br>Duration: 0\", \" Minutes: 13.932<br>Duration: 0\", \" Minutes: 13.956<br>Duration: 0\", \" Minutes: 13.985<br>Duration: 0\"], \"x\": [267, 596, 619, 609, 445, 440, 442, 240, 83, 242, 90, 107], \"y\": [217, 209, 209, 202, 205, 221, 213, 236, 252, 222, 715, 896], \"type\": \"scatter\"}, {\"marker\": {\"opacity\": 0.5, \"size\": [140, 140, 219, 319, 180, 199, 100, 100], \"sizemode\": \"area\", \"sizeref\": 0, \"symbol\": 0}, \"mode\": \"markers\", \"name\": \"Squeezed Pupil \", \"text\": [\" Minutes: 13.778<br>Duration: 0\", \" Minutes: 13.78<br>Duration: 0\", \" Minutes: 13.784<br>Duration: 0\", \" Minutes: 13.793<br>Duration: 0\", \" Minutes: 13.811<br>Duration: 0\", \" Minutes: 13.946<br>Duration: 0\", \" Minutes: 13.952<br>Duration: 0\", \" Minutes: 13.983<br>Duration: 0\"], \"x\": [107, 79, 284, 73, 623, 571, 616, 99], \"y\": [200, 216, 216, 203, 208, 223, 223, 883], \"type\": \"scatter\"}, {\"marker\": {\"size\": 10, \"sizemode\": \"area\", \"sizeref\": 1, \"symbol\": 207}, \"mode\": \"markers\", \"name\": \"LMouseButton\", \"text\": [\" Minute: 13.822\", \" Minute: 13.83\", \" Minute: 13.841\", \" Minute: 13.853\", \" Minute: 13.886\", \" Minute: 13.888\", \" Minute: 13.893\", \" Minute: 13.902\", \" Minute: 13.905\", \" Minute: 13.907\", \" Minute: 13.91\", \" Minute: 13.916\", \" Minute: 13.946\", \" Minute: 13.987\"], \"x\": [581, 607, 597, 593, 545, 280], \"y\": [233, 231, 231, 229, 251, 618], \"type\": \"scatter\"}], \"name\": \"14.0\"}, {\"data\": [{\"marker\": {\"opacity\": 0.5, \"size\": [199, 299, 100, 279, 100, 179], \"sizemode\": \"area\", \"sizeref\": 0, \"symbol\": 0}, \"mode\": \"markers\", \"name\": \"Dilated Pupil\", \"text\": [\" Minutes: 14.155<br>Duration: 0\", \" Minutes: 14.174<br>Duration: 0\", \" Minutes: 14.209<br>Duration: 0\", \" Minutes: 14.224<br>Duration: 0\", \" Minutes: 14.229<br>Duration: 0\", \" Minutes: 14.232<br>Duration: 0\"], \"x\": [73, 459, 105, 443, 444, 437], \"y\": [238, 241, 775, 217, 216, 196], \"type\": \"scatter\"}, {\"marker\": {\"opacity\": 0.5, \"size\": [100, 199, 439, 120, 199, 439], \"sizemode\": \"area\", \"sizeref\": 0, \"symbol\": 0}, \"mode\": \"markers\", \"name\": \"Squeezed Pupil \", \"text\": [\" Minutes: 14.002<br>Duration: 0\", \" Minutes: 14.151<br>Duration: 0\", \" Minutes: 14.163<br>Duration: 0\", \" Minutes: 14.171<br>Duration: 0\", \" Minutes: 14.179<br>Duration: 0\", \" Minutes: 14.24<br>Duration: 0\"], \"x\": [790, 241, 606, 615, 507, 62], \"y\": [823, 225, 219, 209, 251, 218], \"type\": \"scatter\"}, {\"marker\": {\"size\": 10, \"sizemode\": \"area\", \"sizeref\": 1, \"symbol\": 207}, \"mode\": \"markers\", \"name\": \"LMouseButton\", \"text\": [\" Minute: 14.035\", \" Minute: 14.081\", \" Minute: 14.125\", \" Minute: 14.173\", \" Minute: 14.186\", \" Minute: 14.242\"], \"x\": [678, 698, 696, 608, 547, 501], \"y\": [637, 715, 885, 247, 278, 216], \"type\": \"scatter\"}], \"name\": \"14.25\"}, {\"data\": [{\"marker\": {\"opacity\": 0.5, \"size\": [159, 120, 100, 119, 379, 159, 100, 100, 199, 239, 219, 100], \"sizemode\": \"area\", \"sizeref\": 0, \"symbol\": 0}, \"mode\": \"markers\", \"name\": \"Dilated Pupil\", \"text\": [\" Minutes: 14.252<br>Duration: 0\", \" Minutes: 14.257<br>Duration: 0\", \" Minutes: 14.29<br>Duration: 0\", \" Minutes: 14.305<br>Duration: 0\", \" Minutes: 14.313<br>Duration: 0\", \" Minutes: 14.325<br>Duration: 0\", \" Minutes: 14.333<br>Duration: 0\", \" Minutes: 14.343<br>Duration: 0\", \" Minutes: 14.348<br>Duration: 0\", \" Minutes: 14.449<br>Duration: 0\", \" Minutes: 14.453<br>Duration: 0\", \" Minutes: 14.458<br>Duration: 0\"], \"x\": [95, 260, 90, 82, 74, 80, 63, 75, 58, 499, 515, 515], \"y\": [215, 172, 624, 603, 216, 611, 608, 602, 598, 194, 209, 213], \"type\": \"scatter\"}, {\"marker\": {\"opacity\": 0.5, \"size\": [179, 100, 100, 140, 299, 219, 219, 179, 618], \"sizemode\": \"area\", \"sizeref\": 0, \"symbol\": 0}, \"mode\": \"markers\", \"name\": \"Squeezed Pupil \", \"text\": [\" Minutes: 14.321<br>Duration: 0\", \" Minutes: 14.389<br>Duration: 0\", \" Minutes: 14.396<br>Duration: 0\", \" Minutes: 14.402<br>Duration: 0\", \" Minutes: 14.421<br>Duration: 0\", \" Minutes: 14.426<br>Duration: 0\", \" Minutes: 14.431<br>Duration: 0\", \" Minutes: 14.435<br>Duration: 0\", \" Minutes: 14.438<br>Duration: 0\"], \"x\": [82, 756, 750, 732, 106, 87, 274, 578, 618], \"y\": [602, 671, 548, 526, 240, 232, 204, 199, 209], \"type\": \"scatter\"}, {\"marker\": {\"size\": 10, \"sizemode\": \"area\", \"sizeref\": 1, \"symbol\": 207}, \"mode\": \"markers\", \"name\": \"LMouseButton\", \"text\": [\" Minute: 14.336\", \" Minute: 14.446\", \" Minute: 14.48\"], \"x\": [44, 608, 558], \"y\": [617, 212, 264], \"type\": \"scatter\"}], \"name\": \"14.5\"}, {\"data\": [{\"marker\": {\"opacity\": 0.5, \"size\": [179, 239, 339, 279, 100, 239, 120, 419, 179, 359, 239, 160, 379, 160, 299, 100, 160, 120, 319, 618, 538, 179, 259, 379], \"sizemode\": \"area\", \"sizeref\": 0, \"symbol\": 0}, \"mode\": \"markers\", \"name\": \"Dilated Pupil\", \"text\": [\" Minutes: 14.546<br>Duration: 0\", \" Minutes: 14.549<br>Duration: 0\", \" Minutes: 14.58<br>Duration: 0\", \" Minutes: 14.586<br>Duration: 0\", \" Minutes: 14.591<br>Duration: 0\", \" Minutes: 14.606<br>Duration: 0\", \" Minutes: 14.61<br>Duration: 0\", \" Minutes: 14.614<br>Duration: 0\", \" Minutes: 14.621<br>Duration: 0\", \" Minutes: 14.625<br>Duration: 0\", \" Minutes: 14.632<br>Duration: 0\", \" Minutes: 14.636<br>Duration: 0\", \" Minutes: 14.64<br>Duration: 0\", \" Minutes: 14.647<br>Duration: 0\", \" Minutes: 14.65<br>Duration: 0\", \" Minutes: 14.658<br>Duration: 0\", \" Minutes: 14.662<br>Duration: 0\", \" Minutes: 14.665<br>Duration: 0\", \" Minutes: 14.667<br>Duration: 0\", \" Minutes: 14.673<br>Duration: 0\", \" Minutes: 14.684<br>Duration: 0\", \" Minutes: 14.695<br>Duration: 0\", \" Minutes: 14.705<br>Duration: 0\", \" Minutes: 14.739<br>Duration: 0\"], \"x\": [1091, 1121, 449, 251, 66, 250, 196, 259, 219, 273, 123, 246, 109, 144, 252, 515, 625, 626, 450, 455, 618, 648, 494, 280], \"y\": [718, 690, 175, 188, 230, 296, 275, 247, 255, 248, 296, 239, 253, 209, 222, 200, 218, 205, 207, 204, 218, 248, 212, 206], \"type\": \"scatter\"}, {\"marker\": {\"opacity\": 0.5, \"size\": [160, 199, 379, 199, 120, 1097], \"sizemode\": \"area\", \"sizeref\": 0, \"symbol\": 0}, \"mode\": \"markers\", \"name\": \"Squeezed Pupil \", \"text\": [\" Minutes: 14.602<br>Duration: 0\", \" Minutes: 14.71<br>Duration: 0\", \" Minutes: 14.714<br>Duration: 0\", \" Minutes: 14.723<br>Duration: 0\", \" Minutes: 14.727<br>Duration: 0\", \" Minutes: 14.746<br>Duration: 0\"], \"x\": [173, 217, 106, 59, 84, 277], \"y\": [303, 215, 215, 226, 245, 212], \"type\": \"scatter\"}, {\"marker\": {\"size\": 10, \"sizemode\": \"area\", \"sizeref\": 1, \"symbol\": 207}, \"mode\": \"markers\", \"name\": \"LMouseButton\", \"text\": [\" Minute: 14.691\", \" Minute: 14.698\"], \"x\": [629, 622], \"y\": [264, 258], \"type\": \"scatter\"}], \"name\": \"14.75\"}, {\"data\": [{\"marker\": {\"opacity\": 0.5, \"size\": [678, 180, 259, 259, 419, 399, 299, 159, 120, 180, 239, 239, 120, 139, 159], \"sizemode\": \"area\", \"sizeref\": 0, \"symbol\": 0}, \"mode\": \"markers\", \"name\": \"Dilated Pupil\", \"text\": [\" Minutes: 14.773<br>Duration: 0\", \" Minutes: 14.785<br>Duration: 0\", \" Minutes: 14.788<br>Duration: 0\", \" Minutes: 14.803<br>Duration: 0\", \" Minutes: 14.811<br>Duration: 0\", \" Minutes: 14.915<br>Duration: 0\", \" Minutes: 14.923<br>Duration: 0\", \" Minutes: 14.93<br>Duration: 0\", \" Minutes: 14.955<br>Duration: 0\", \" Minutes: 14.959<br>Duration: 0\", \" Minutes: 14.962<br>Duration: 0\", \" Minutes: 14.972<br>Duration: 0\", \" Minutes: 14.977<br>Duration: 0\", \" Minutes: 14.98<br>Duration: 0\", \" Minutes: 14.989<br>Duration: 0\"], \"x\": [482, 521, 451, 450, 523, 206, 241, 156, 131, 165, 206, 138, 179, 225, 242], \"y\": [197, 205, 234, 213, 215, 192, 198, 208, 183, 209, 126, 178, 198, 184, 194], \"type\": \"scatter\"}, {\"marker\": {\"opacity\": 0.5, \"size\": [120, 160, 200, 100, 120, 419, 279, 160, 100, 359, 180, 1156, 199, 160, 199], \"sizemode\": \"area\", \"sizeref\": 0, \"symbol\": 0}, \"mode\": \"markers\", \"name\": \"Squeezed Pupil \", \"text\": [\" Minutes: 14.768<br>Duration: 0\", \" Minutes: 14.793<br>Duration: 0\", \" Minutes: 14.797<br>Duration: 0\", \" Minutes: 14.801<br>Duration: 0\", \" Minutes: 14.808<br>Duration: 0\", \" Minutes: 14.823<br>Duration: 0\", \" Minutes: 14.835<br>Duration: 0\", \" Minutes: 14.852<br>Duration: 0\", \" Minutes: 14.857<br>Duration: 0\", \" Minutes: 14.865<br>Duration: 0\", \" Minutes: 14.872<br>Duration: 0\", \" Minutes: 14.875<br>Duration: 0\", \" Minutes: 14.899<br>Duration: 0\", \" Minutes: 14.992<br>Duration: 0\", \" Minutes: 14.997<br>Duration: 0\"], \"x\": [310, 519, 283, 286, 491, 264, 53, 70, 142, 453, 459, 453, 279, 231, 240], \"y\": [177, 200, 227, 230, 209, 251, 299, 263, 250, 262, 261, 262, 236, 176, 194], \"type\": \"scatter\"}, {\"marker\": {\"size\": 10, \"sizemode\": \"area\", \"sizeref\": 1, \"symbol\": 207}, \"mode\": \"markers\", \"name\": \"LMouseButton\", \"text\": [\" Minute: 14.917\", \" Minute: 14.925\", \" Minute: 14.935\", \" Minute: 14.941\"], \"x\": [227, 264, 243, 230], \"y\": [225, 225, 220, 217], \"type\": \"scatter\"}], \"name\": \"15.0\"}, {\"data\": [{\"marker\": {\"opacity\": 0.5, \"size\": [259, 319, 100, 120, 159, 140], \"sizemode\": \"area\", \"sizeref\": 0, \"symbol\": 0}, \"mode\": \"markers\", \"name\": \"Dilated Pupil\", \"text\": [\" Minutes: 15.061<br>Duration: 0\", \" Minutes: 15.067<br>Duration: 0\", \" Minutes: 15.072<br>Duration: 0\", \" Minutes: 15.097<br>Duration: 0\", \" Minutes: 15.123<br>Duration: 0\", \" Minutes: 15.226<br>Duration: 0\"], \"x\": [129, 217, 191, 96, 214, 217], \"y\": [160, 167, 99, 181, 183, 203], \"type\": \"scatter\"}, {\"marker\": {\"opacity\": 0.5, \"size\": [160, 100, 339, 239, 219, 179, 179, 219, 139, 100, 219, 140, 140, 140, 100, 140, 239, 758, 279, 140, 100, 100, 140, 160], \"sizemode\": \"area\", \"sizeref\": 0, \"symbol\": 0}, \"mode\": \"markers\", \"name\": \"Squeezed Pupil \", \"text\": [\" Minutes: 15.014<br>Duration: 0\", \" Minutes: 15.025<br>Duration: 0\", \" Minutes: 15.041<br>Duration: 0\", \" Minutes: 15.057<br>Duration: 0\", \" Minutes: 15.076<br>Duration: 0\", \" Minutes: 15.08<br>Duration: 0\", \" Minutes: 15.083<br>Duration: 0\", \" Minutes: 15.087<br>Duration: 0\", \" Minutes: 15.091<br>Duration: 0\", \" Minutes: 15.102<br>Duration: 0\", \" Minutes: 15.109<br>Duration: 0\", \" Minutes: 15.135<br>Duration: 0\", \" Minutes: 15.138<br>Duration: 0\", \" Minutes: 15.143<br>Duration: 0\", \" Minutes: 15.146<br>Duration: 0\", \" Minutes: 15.169<br>Duration: 0\", \" Minutes: 15.174<br>Duration: 0\", \" Minutes: 15.213<br>Duration: 0\", \" Minutes: 15.229<br>Duration: 0\", \" Minutes: 15.234<br>Duration: 0\", \" Minutes: 15.238<br>Duration: 0\", \" Minutes: 15.244<br>Duration: 0\", \" Minutes: 15.246<br>Duration: 0\", \" Minutes: 15.249<br>Duration: 0\"], \"x\": [1108, 877, 1109, 101, 433, 493, 513, 559, 463, 122, 225, 100, 102, 130, 151, 222, 285, 236, 266, 272, 51, 63, 44, 53], \"y\": [105, 827, 120, 206, 131, 129, 146, 139, 141, 156, 195, 175, 171, 176, 211, 193, 200, 189, 192, 200, 608, 531, 520, 532], \"type\": \"scatter\"}, {\"marker\": {\"size\": 10, \"sizemode\": \"area\", \"sizeref\": 1, \"symbol\": 207}, \"mode\": \"markers\", \"name\": \"LMouseButton\", \"text\": [], \"x\": [], \"y\": [], \"type\": \"scatter\"}], \"name\": \"15.25\"}, {\"data\": [{\"marker\": {\"opacity\": 0.5, \"size\": [160, 100, 179, 199, 159, 279, 160, 239, 299, 100, 120, 100, 219, 219, 160, 100, 120], \"sizemode\": \"area\", \"sizeref\": 0, \"symbol\": 0}, \"mode\": \"markers\", \"name\": \"Dilated Pupil\", \"text\": [\" Minutes: 15.262<br>Duration: 0\", \" Minutes: 15.267<br>Duration: 0\", \" Minutes: 15.285<br>Duration: 0\", \" Minutes: 15.289<br>Duration: 0\", \" Minutes: 15.297<br>Duration: 0\", \" Minutes: 15.316<br>Duration: 0\", \" Minutes: 15.327<br>Duration: 0\", \" Minutes: 15.334<br>Duration: 0\", \" Minutes: 15.338<br>Duration: 0\", \" Minutes: 15.368<br>Duration: 0\", \" Minutes: 15.372<br>Duration: 0\", \" Minutes: 15.376<br>Duration: 0\", \" Minutes: 15.384<br>Duration: 0\", \" Minutes: 15.402<br>Duration: 0\", \" Minutes: 15.409<br>Duration: 0\", \" Minutes: 15.413<br>Duration: 0\", \" Minutes: 15.443<br>Duration: 0\"], \"x\": [54, 716, 250, 83, 183, 38, 42, 78, 68, 76, 81, 48, 67, 70, 60, 728, 692], \"y\": [516, 531, 200, 185, 192, 525, 557, 549, 550, 589, 597, 601, 589, 551, 567, 542, 577], \"type\": \"scatter\"}, {\"marker\": {\"opacity\": 0.5, \"size\": [160, 100, 180, 359, 160, 259, 120, 159, 259, 100, 359, 100, 120, 120], \"sizemode\": \"area\", \"sizeref\": 0, \"symbol\": 0}, \"mode\": \"markers\", \"name\": \"Squeezed Pupil \", \"text\": [\" Minutes: 15.271<br>Duration: 0\", \" Minutes: 15.276<br>Duration: 0\", \" Minutes: 15.3<br>Duration: 0\", \" Minutes: 15.309<br>Duration: 0\", \" Minutes: 15.354<br>Duration: 0\", \" Minutes: 15.36<br>Duration: 0\", \" Minutes: 15.394<br>Duration: 0\", \" Minutes: 15.415<br>Duration: 0\", \" Minutes: 15.419<br>Duration: 0\", \" Minutes: 15.426<br>Duration: 0\", \" Minutes: 15.431<br>Duration: 0\", \" Minutes: 15.451<br>Duration: 0\", \" Minutes: 15.459<br>Duration: 0\", \" Minutes: 15.496<br>Duration: 0\"], \"x\": [734, 729, 187, 48, 34, 31, 73, 722, 699, 701, 699, 704, 713, 55], \"y\": [530, 496, 422, 541, 596, 598, 577, 543, 543, 551, 579, 595, 580, 520], \"type\": \"scatter\"}, {\"marker\": {\"size\": 10, \"sizemode\": \"area\", \"sizeref\": 1, \"symbol\": 207}, \"mode\": \"markers\", \"name\": \"LMouseButton\", \"text\": [\" Minute: 15.333\", \" Minute: 15.367\", \" Minute: 15.384\", \" Minute: 15.423\", \" Minute: 15.434\", \" Minute: 15.446\", \" Minute: 15.456\"], \"x\": [39, 42, 38, 678, 672, 675, 676], \"y\": [550, 596, 608, 546, 580, 582, 602], \"type\": \"scatter\"}], \"name\": \"15.5\"}, {\"data\": [{\"marker\": {\"opacity\": 0.5, \"size\": [199, 160, 239], \"sizemode\": \"area\", \"sizeref\": 0, \"symbol\": 0}, \"mode\": \"markers\", \"name\": \"Dilated Pupil\", \"text\": [\" Minutes: 15.622<br>Duration: 0\", \" Minutes: 15.692<br>Duration: 0\", \" Minutes: 15.704<br>Duration: 0\"], \"x\": [71, 741, 744], \"y\": [551, 531, 564], \"type\": \"scatter\"}, {\"marker\": {\"opacity\": 0.5, \"size\": [199, 160, 159, 219, 139, 140, 180, 140, 299, 299, 160, 239, 419, 100, 219, 120, 120, 100, 140], \"sizemode\": \"area\", \"sizeref\": 0, \"symbol\": 0}, \"mode\": \"markers\", \"name\": \"Squeezed Pupil \", \"text\": [\" Minutes: 15.518<br>Duration: 0\", \" Minutes: 15.526<br>Duration: 0\", \" Minutes: 15.529<br>Duration: 0\", \" Minutes: 15.545<br>Duration: 0\", \" Minutes: 15.55<br>Duration: 0\", \" Minutes: 15.59<br>Duration: 0\", \" Minutes: 15.597<br>Duration: 0\", \" Minutes: 15.609<br>Duration: 0\", \" Minutes: 15.615<br>Duration: 0\", \" Minutes: 15.627<br>Duration: 0\", \" Minutes: 15.632<br>Duration: 0\", \" Minutes: 15.639<br>Duration: 0\", \" Minutes: 15.648<br>Duration: 0\", \" Minutes: 15.672<br>Duration: 0\", \" Minutes: 15.676<br>Duration: 0\", \" Minutes: 15.685<br>Duration: 0\", \" Minutes: 15.719<br>Duration: 0\", \" Minutes: 15.737<br>Duration: 0\", \" Minutes: 15.74<br>Duration: 0\"], \"x\": [44, 80, 69, 70, 710, 51, 77, 726, 747, 64, 73, 248, 280, 735, 739, 742, 752, 766, 755], \"y\": [511, 529, 547, 593, 580, 537, 572, 524, 561, 572, 583, 203, 209, 552, 542, 543, 569, 565, 582], \"type\": \"scatter\"}, {\"marker\": {\"size\": 10, \"sizemode\": \"area\", \"sizeref\": 1, \"symbol\": 207}, \"mode\": \"markers\", \"name\": \"LMouseButton\", \"text\": [], \"x\": [], \"y\": [], \"type\": \"scatter\"}], \"name\": \"15.75\"}, {\"data\": [{\"marker\": {\"opacity\": 0.5, \"size\": [100, 100, 199, 119, 160, 179, 100], \"sizemode\": \"area\", \"sizeref\": 0, \"symbol\": 0}, \"mode\": \"markers\", \"name\": \"Dilated Pupil\", \"text\": [\" Minutes: 15.857<br>Duration: 0\", \" Minutes: 15.859<br>Duration: 0\", \" Minutes: 15.866<br>Duration: 0\", \" Minutes: 15.87<br>Duration: 0\", \" Minutes: 15.874<br>Duration: 0\", \" Minutes: 15.9<br>Duration: 0\", \" Minutes: 15.904<br>Duration: 0\"], \"x\": [80, 77, 100, 96, 730, 754, 745], \"y\": [544, 528, 561, 555, 513, 553, 544], \"type\": \"scatter\"}, {\"marker\": {\"opacity\": 0.5, \"size\": [120, 100, 120, 100, 100, 100, 100, 180, 100], \"sizemode\": \"area\", \"sizeref\": 0, \"symbol\": 0}, \"mode\": \"markers\", \"name\": \"Squeezed Pupil \", \"text\": [\" Minutes: 15.76<br>Duration: 0\", \" Minutes: 15.791<br>Duration: 0\", \" Minutes: 15.842<br>Duration: 0\", \" Minutes: 15.877<br>Duration: 0\", \" Minutes: 15.932<br>Duration: 0\", \" Minutes: 15.943<br>Duration: 0\", \" Minutes: 15.954<br>Duration: 0\", \" Minutes: 15.983<br>Duration: 0\", \" Minutes: 15.992<br>Duration: 0\"], \"x\": [780, 763, 74, 728, 782, 825, 789, 745, 189], \"y\": [606, 550, 525, 504, 626, 625, 580, 580, 229], \"type\": \"scatter\"}, {\"marker\": {\"size\": 10, \"sizemode\": \"area\", \"sizeref\": 1, \"symbol\": 207}, \"mode\": \"markers\", \"name\": \"LMouseButton\", \"text\": [\" Minute: 15.854\", \" Minute: 15.894\"], \"x\": [39, 675], \"y\": [546, 533], \"type\": \"scatter\"}], \"name\": \"16.0\"}, {\"data\": [{\"marker\": {\"opacity\": 0.5, \"size\": [259, 179, 399, 459, 140, 199, 160, 179, 160, 179, 219, 179], \"sizemode\": \"area\", \"sizeref\": 0, \"symbol\": 0}, \"mode\": \"markers\", \"name\": \"Dilated Pupil\", \"text\": [\" Minutes: 16.015<br>Duration: 0\", \" Minutes: 16.025<br>Duration: 0\", \" Minutes: 16.029<br>Duration: 0\", \" Minutes: 16.04<br>Duration: 0\", \" Minutes: 16.129<br>Duration: 0\", \" Minutes: 16.131<br>Duration: 0\", \" Minutes: 16.136<br>Duration: 0\", \" Minutes: 16.14<br>Duration: 0\", \" Minutes: 16.143<br>Duration: 0\", \" Minutes: 16.146<br>Duration: 0\", \" Minutes: 16.161<br>Duration: 0\", \" Minutes: 16.218<br>Duration: 0\"], \"x\": [194, 214, 243, 474, 160, 166, 213, 164, 240, 240, 502, 56], \"y\": [186, 183, 186, 403, 205, 187, 194, 194, 197, 196, 126, 478], \"type\": \"scatter\"}, {\"marker\": {\"opacity\": 0.5, \"size\": [100, 239, 140, 179, 319, 120, 159, 120], \"sizemode\": \"area\", \"sizeref\": 0, \"symbol\": 0}, \"mode\": \"markers\", \"name\": \"Squeezed Pupil \", \"text\": [\" Minutes: 16.119<br>Duration: 0\", \" Minutes: 16.157<br>Duration: 0\", \" Minutes: 16.183<br>Duration: 0\", \" Minutes: 16.188<br>Duration: 0\", \" Minutes: 16.195<br>Duration: 0\", \" Minutes: 16.216<br>Duration: 0\", \" Minutes: 16.225<br>Duration: 0\", \" Minutes: 16.24<br>Duration: 0\"], \"x\": [160, 460, 299, 289, 255, 52, 34, 487], \"y\": [200, 137, 170, 194, 198, 482, 454, 458], \"type\": \"scatter\"}, {\"marker\": {\"size\": 10, \"sizemode\": \"area\", \"sizeref\": 1, \"symbol\": 207}, \"mode\": \"markers\", \"name\": \"LMouseButton\", \"text\": [], \"x\": [], \"y\": [], \"type\": \"scatter\"}], \"name\": \"16.25\"}, {\"data\": [{\"marker\": {\"opacity\": 0.5, \"size\": [140, 140, 100, 279, 159, 239, 259, 239, 399, 758], \"sizemode\": \"area\", \"sizeref\": 0, \"symbol\": 0}, \"mode\": \"markers\", \"name\": \"Dilated Pupil\", \"text\": [\" Minutes: 16.328<br>Duration: 0\", \" Minutes: 16.38<br>Duration: 0\", \" Minutes: 16.398<br>Duration: 0\", \" Minutes: 16.412<br>Duration: 0\", \" Minutes: 16.418<br>Duration: 0\", \" Minutes: 16.422<br>Duration: 0\", \" Minutes: 16.427<br>Duration: 0\", \" Minutes: 16.432<br>Duration: 0\", \" Minutes: 16.439<br>Duration: 0\", \" Minutes: 16.455<br>Duration: 0\"], \"x\": [605, 80, 149, 127, 136, 144, 138, 202, 236, 249], \"y\": [958, 550, 182, 166, 172, 195, 169, 180, 188, 185], \"type\": \"scatter\"}, {\"marker\": {\"opacity\": 0.5, \"size\": [160, 100, 259, 279, 399, 279, 219, 160, 259], \"sizemode\": \"area\", \"sizeref\": 0, \"symbol\": 0}, \"mode\": \"markers\", \"name\": \"Squeezed Pupil \", \"text\": [\" Minutes: 16.259<br>Duration: 0\", \" Minutes: 16.266<br>Duration: 0\", \" Minutes: 16.362<br>Duration: 0\", \" Minutes: 16.383<br>Duration: 0\", \" Minutes: 16.391<br>Duration: 0\", \" Minutes: 16.405<br>Duration: 0\", \" Minutes: 16.451<br>Duration: 0\", \" Minutes: 16.493<br>Duration: 0\", \" Minutes: 16.497<br>Duration: 0\"], \"x\": [60, 62, 69, 87, 94, 237, 218, 60, 53], \"y\": [599, 633, 541, 538, 210, 192, 187, 541, 547], \"type\": \"scatter\"}, {\"marker\": {\"size\": 10, \"sizemode\": \"area\", \"sizeref\": 1, \"symbol\": 207}, \"mode\": \"markers\", \"name\": \"LMouseButton\", \"text\": [], \"x\": [], \"y\": [], \"type\": \"scatter\"}], \"name\": \"16.5\"}, {\"data\": [{\"marker\": {\"opacity\": 0.5, \"size\": [159, 159, 499, 259, 219, 279, 120, 179, 140, 120, 299, 479, 120, 140, 479, 180, 259], \"sizemode\": \"area\", \"sizeref\": 0, \"symbol\": 0}, \"mode\": \"markers\", \"name\": \"Dilated Pupil\", \"text\": [\" Minutes: 16.639<br>Duration: 0\", \" Minutes: 16.642<br>Duration: 0\", \" Minutes: 16.647<br>Duration: 0\", \" Minutes: 16.664<br>Duration: 0\", \" Minutes: 16.672<br>Duration: 0\", \" Minutes: 16.678<br>Duration: 0\", \" Minutes: 16.683<br>Duration: 0\", \" Minutes: 16.686<br>Duration: 0\", \" Minutes: 16.689<br>Duration: 0\", \" Minutes: 16.695<br>Duration: 0\", \" Minutes: 16.697<br>Duration: 0\", \" Minutes: 16.704<br>Duration: 0\", \" Minutes: 16.712<br>Duration: 0\", \" Minutes: 16.714<br>Duration: 0\", \" Minutes: 16.728<br>Duration: 0\", \" Minutes: 16.737<br>Duration: 0\", \" Minutes: 16.742<br>Duration: 0\"], \"x\": [53, 55, 60, 75, 53, 46, 41, 41, 45, 45, 40, 66, 75, 73, 57, 55, 44], \"y\": [523, 521, 527, 636, 631, 642, 630, 626, 643, 650, 643, 569, 540, 531, 537, 545, 536], \"type\": \"scatter\"}, {\"marker\": {\"opacity\": 0.5, \"size\": [120, 339, 479, 199, 239, 160, 120, 139, 160, 140, 100, 439, 100, 259], \"sizemode\": \"area\", \"sizeref\": 0, \"symbol\": 0}, \"mode\": \"markers\", \"name\": \"Squeezed Pupil \", \"text\": [\" Minutes: 16.506<br>Duration: 0\", \" Minutes: 16.512<br>Duration: 0\", \" Minutes: 16.523<br>Duration: 0\", \" Minutes: 16.533<br>Duration: 0\", \" Minutes: 16.538<br>Duration: 0\", \" Minutes: 16.548<br>Duration: 0\", \" Minutes: 16.562<br>Duration: 0\", \" Minutes: 16.567<br>Duration: 0\", \" Minutes: 16.58<br>Duration: 0\", \" Minutes: 16.586<br>Duration: 0\", \" Minutes: 16.597<br>Duration: 0\", \" Minutes: 16.599<br>Duration: 0\", \" Minutes: 16.62<br>Duration: 0\", \" Minutes: 16.629<br>Duration: 0\"], \"x\": [56, 67, 130, 449, 481, 42, 65, 58, 61, 64, 59, 49, 52, 60], \"y\": [541, 534, 448, 413, 453, 523, 552, 516, 522, 514, 536, 509, 510, 518], \"type\": \"scatter\"}, {\"marker\": {\"size\": 10, \"sizemode\": \"area\", \"sizeref\": 1, \"symbol\": 207}, \"mode\": \"markers\", \"name\": \"LMouseButton\", \"text\": [], \"x\": [], \"y\": [], \"type\": \"scatter\"}], \"name\": \"16.75\"}, {\"data\": [{\"marker\": {\"opacity\": 0.5, \"size\": [479, 359, 239, 259, 140, 100, 160, 179, 339, 100, 120, 160], \"sizemode\": \"area\", \"sizeref\": 0, \"symbol\": 0}, \"mode\": \"markers\", \"name\": \"Dilated Pupil\", \"text\": [\" Minutes: 16.755<br>Duration: 0\", \" Minutes: 16.764<br>Duration: 0\", \" Minutes: 16.777<br>Duration: 0\", \" Minutes: 16.781<br>Duration: 0\", \" Minutes: 16.793<br>Duration: 0\", \" Minutes: 16.799<br>Duration: 0\", \" Minutes: 16.801<br>Duration: 0\", \" Minutes: 16.831<br>Duration: 0\", \" Minutes: 16.835<br>Duration: 0\", \" Minutes: 16.852<br>Duration: 0\", \" Minutes: 16.854<br>Duration: 0\", \" Minutes: 16.887<br>Duration: 0\"], \"x\": [47, 49, 67, 75, 69, 140, 132, 39, 48, 362, 379, 43], \"y\": [533, 530, 544, 541, 457, 431, 432, 578, 523, 452, 424, 524], \"type\": \"scatter\"}, {\"marker\": {\"opacity\": 0.5, \"size\": [159, 140, 259, 159, 259, 120, 199, 299, 100, 339, 279, 160, 100, 259, 120], \"sizemode\": \"area\", \"sizeref\": 0, \"symbol\": 0}, \"mode\": \"markers\", \"name\": \"Squeezed Pupil \", \"text\": [\" Minutes: 16.806<br>Duration: 0\", \" Minutes: 16.857<br>Duration: 0\", \" Minutes: 16.864<br>Duration: 0\", \" Minutes: 16.873<br>Duration: 0\", \" Minutes: 16.89<br>Duration: 0\", \" Minutes: 16.901<br>Duration: 0\", \" Minutes: 16.91<br>Duration: 0\", \" Minutes: 16.923<br>Duration: 0\", \" Minutes: 16.938<br>Duration: 0\", \" Minutes: 16.94<br>Duration: 0\", \" Minutes: 16.946<br>Duration: 0\", \" Minutes: 16.951<br>Duration: 0\", \" Minutes: 16.958<br>Duration: 0\", \" Minutes: 16.972<br>Duration: 0\", \" Minutes: 16.999<br>Duration: 0\"], \"x\": [53, 377, 53, 62, 82, 87, 117, 84, 93, 89, 95, 94, 91, 123, 87], \"y\": [504, 444, 521, 528, 539, 547, 544, 553, 566, 562, 576, 575, 565, 590, 615], \"type\": \"scatter\"}, {\"marker\": {\"size\": 10, \"sizemode\": \"area\", \"sizeref\": 1, \"symbol\": 207}, \"mode\": \"markers\", \"name\": \"LMouseButton\", \"text\": [], \"x\": [], \"y\": [], \"type\": \"scatter\"}], \"name\": \"17.0\"}, {\"data\": [{\"marker\": {\"opacity\": 0.5, \"size\": [120, 140, 199, 140, 120, 179, 100, 120, 778, 160, 239, 199, 120, 179], \"sizemode\": \"area\", \"sizeref\": 0, \"symbol\": 0}, \"mode\": \"markers\", \"name\": \"Dilated Pupil\", \"text\": [\" Minutes: 17.028<br>Duration: 0\", \" Minutes: 17.044<br>Duration: 0\", \" Minutes: 17.129<br>Duration: 0\", \" Minutes: 17.136<br>Duration: 0\", \" Minutes: 17.145<br>Duration: 0\", \" Minutes: 17.148<br>Duration: 0\", \" Minutes: 17.151<br>Duration: 0\", \" Minutes: 17.153<br>Duration: 0\", \" Minutes: 17.167<br>Duration: 0\", \" Minutes: 17.189<br>Duration: 0\", \" Minutes: 17.201<br>Duration: 0\", \" Minutes: 17.205<br>Duration: 0\", \" Minutes: 17.213<br>Duration: 0\", \" Minutes: 17.215<br>Duration: 0\"], \"x\": [111, 93, 284, 70, 93, 101, 105, 108, 65, 40, 50, 59, 92, 68], \"y\": [621, 648, 195, 564, 556, 564, 554, 567, 534, 483, 518, 527, 549, 526], \"type\": \"scatter\"}, {\"marker\": {\"opacity\": 0.5, \"size\": [359, 120, 159, 199, 279, 100, 160, 159, 259, 139, 259, 1117, 100, 359, 259, 179, 219], \"sizemode\": \"area\", \"sizeref\": 0, \"symbol\": 0}, \"mode\": \"markers\", \"name\": \"Squeezed Pupil \", \"text\": [\" Minutes: 17.002<br>Duration: 0\", \" Minutes: 17.014<br>Duration: 0\", \" Minutes: 17.017<br>Duration: 0\", \" Minutes: 17.033<br>Duration: 0\", \" Minutes: 17.039<br>Duration: 0\", \" Minutes: 17.057<br>Duration: 0\", \" Minutes: 17.081<br>Duration: 0\", \" Minutes: 17.086<br>Duration: 0\", \" Minutes: 17.094<br>Duration: 0\", \" Minutes: 17.101<br>Duration: 0\", \" Minutes: 17.105<br>Duration: 0\", \" Minutes: 17.11<br>Duration: 0\", \" Minutes: 17.163<br>Duration: 0\", \" Minutes: 17.193<br>Duration: 0\", \" Minutes: 17.223<br>Duration: 0\", \" Minutes: 17.236<br>Duration: 0\", \" Minutes: 17.24<br>Duration: 0\"], \"x\": [81, 90, 94, 100, 86, 88, 76, 105, 173, 225, 182, 255, 105, 35, 81, 103, 107], \"y\": [615, 628, 626, 656, 645, 654, 211, 206, 198, 177, 205, 190, 564, 477, 537, 544, 541], \"type\": \"scatter\"}, {\"marker\": {\"size\": 10, \"sizemode\": \"area\", \"sizeref\": 1, \"symbol\": 207}, \"mode\": \"markers\", \"name\": \"LMouseButton\", \"text\": [], \"x\": [], \"y\": [], \"type\": \"scatter\"}], \"name\": \"17.25\"}, {\"data\": [{\"marker\": {\"opacity\": 0.5, \"size\": [160, 160, 160, 100, 140, 100, 219, 120, 120, 120, 100], \"sizemode\": \"area\", \"sizeref\": 0, \"symbol\": 0}, \"mode\": \"markers\", \"name\": \"Dilated Pupil\", \"text\": [\" Minutes: 17.251<br>Duration: 0\", \" Minutes: 17.257<br>Duration: 0\", \" Minutes: 17.261<br>Duration: 0\", \" Minutes: 17.273<br>Duration: 0\", \" Minutes: 17.275<br>Duration: 0\", \" Minutes: 17.291<br>Duration: 0\", \" Minutes: 17.294<br>Duration: 0\", \" Minutes: 17.315<br>Duration: 0\", \" Minutes: 17.42<br>Duration: 0\", \" Minutes: 17.423<br>Duration: 0\", \" Minutes: 17.427<br>Duration: 0\"], \"x\": [104, 98, 108, 94, 100, 84, 93, 755, 767, 770, 732], \"y\": [555, 557, 548, 592, 571, 618, 618, 582, 693, 706, 688], \"type\": \"scatter\"}, {\"marker\": {\"opacity\": 0.5, \"size\": [279, 159, 100, 140, 120, 120, 100, 120, 100, 100, 120, 100, 100, 160, 100], \"sizemode\": \"area\", \"sizeref\": 0, \"symbol\": 0}, \"mode\": \"markers\", \"name\": \"Squeezed Pupil \", \"text\": [\" Minutes: 17.278<br>Duration: 0\", \" Minutes: 17.286<br>Duration: 0\", \" Minutes: 17.289<br>Duration: 0\", \" Minutes: 17.305<br>Duration: 0\", \" Minutes: 17.308<br>Duration: 0\", \" Minutes: 17.312<br>Duration: 0\", \" Minutes: 17.32<br>Duration: 0\", \" Minutes: 17.328<br>Duration: 0\", \" Minutes: 17.358<br>Duration: 0\", \" Minutes: 17.362<br>Duration: 0\", \" Minutes: 17.396<br>Duration: 0\", \" Minutes: 17.402<br>Duration: 0\", \" Minutes: 17.418<br>Duration: 0\", \" Minutes: 17.487<br>Duration: 0\", \" Minutes: 17.494<br>Duration: 0\"], \"x\": [78, 74, 70, 89, 89, 124, 747, 766, 710, 740, 764, 778, 754, 782, 768], \"y\": [612, 611, 605, 624, 641, 629, 559, 533, 762, 778, 722, 684, 700, 710, 755], \"type\": \"scatter\"}, {\"marker\": {\"size\": 10, \"sizemode\": \"area\", \"sizeref\": 1, \"symbol\": 207}, \"mode\": \"markers\", \"name\": \"LMouseButton\", \"text\": [\" Minute: 17.287\", \" Minute: 17.362\"], \"x\": [43, 671], \"y\": [629, 784], \"type\": \"scatter\"}], \"name\": \"17.5\"}, {\"data\": [{\"marker\": {\"opacity\": 0.5, \"size\": [120, 140, 100, 120, 120, 100, 199, 100, 219, 100, 100], \"sizemode\": \"area\", \"sizeref\": 0, \"symbol\": 0}, \"mode\": \"markers\", \"name\": \"Dilated Pupil\", \"text\": [\" Minutes: 17.661<br>Duration: 0\", \" Minutes: 17.669<br>Duration: 0\", \" Minutes: 17.672<br>Duration: 0\", \" Minutes: 17.677<br>Duration: 0\", \" Minutes: 17.684<br>Duration: 0\", \" Minutes: 17.695<br>Duration: 0\", \" Minutes: 17.697<br>Duration: 0\", \" Minutes: 17.706<br>Duration: 0\", \" Minutes: 17.711<br>Duration: 0\", \" Minutes: 17.716<br>Duration: 0\", \" Minutes: 17.732<br>Duration: 0\"], \"x\": [123, 113, 114, 117, 93, 68, 81, 121, 122, 792, 757], \"y\": [678, 736, 732, 744, 797, 792, 792, 815, 795, 695, 710], \"type\": \"scatter\"}, {\"marker\": {\"opacity\": 0.5, \"size\": [120, 180, 239, 159, 160, 120, 160, 160, 140], \"sizemode\": \"area\", \"sizeref\": 0, \"symbol\": 0}, \"mode\": \"markers\", \"name\": \"Squeezed Pupil \", \"text\": [\" Minutes: 17.516<br>Duration: 0\", \" Minutes: 17.586<br>Duration: 0\", \" Minutes: 17.596<br>Duration: 0\", \" Minutes: 17.605<br>Duration: 0\", \" Minutes: 17.617<br>Duration: 0\", \" Minutes: 17.622<br>Duration: 0\", \" Minutes: 17.635<br>Duration: 0\", \" Minutes: 17.721<br>Duration: 0\", \" Minutes: 17.726<br>Duration: 0\"], \"x\": [781, 98, 157, 756, 135, 194, 114, 764, 788], \"y\": [759, 636, 631, 672, 626, 623, 727, 669, 687], \"type\": \"scatter\"}, {\"marker\": {\"size\": 10, \"sizemode\": \"area\", \"sizeref\": 1, \"symbol\": 207}, \"mode\": \"markers\", \"name\": \"LMouseButton\", \"text\": [\" Minute: 17.584\", \" Minute: 17.702\"], \"x\": [58, 65], \"y\": [644, 801], \"type\": \"scatter\"}], \"name\": \"17.75\"}, {\"data\": [{\"marker\": {\"opacity\": 0.5, \"size\": [180, 100, 160, 140, 179, 120, 120], \"sizemode\": \"area\", \"sizeref\": 0, \"symbol\": 0}, \"mode\": \"markers\", \"name\": \"Dilated Pupil\", \"text\": [\" Minutes: 17.792<br>Duration: 0\", \" Minutes: 17.797<br>Duration: 0\", \" Minutes: 17.8<br>Duration: 0\", \" Minutes: 17.816<br>Duration: 0\", \" Minutes: 17.822<br>Duration: 0\", \" Minutes: 17.854<br>Duration: 0\", \" Minutes: 17.999<br>Duration: 0\"], \"x\": [140, 719, 769, 780, 772, 114, 128], \"y\": [808, 711, 694, 855, 845, 774, 681], \"type\": \"scatter\"}, {\"marker\": {\"opacity\": 0.5, \"size\": [100, 120, 120, 100, 100, 120, 159, 100, 120], \"sizemode\": \"area\", \"sizeref\": 0, \"symbol\": 0}, \"mode\": \"markers\", \"name\": \"Squeezed Pupil \", \"text\": [\" Minutes: 17.754<br>Duration: 0\", \" Minutes: 17.758<br>Duration: 0\", \" Minutes: 17.809<br>Duration: 0\", \" Minutes: 17.906<br>Duration: 0\", \" Minutes: 17.91<br>Duration: 0\", \" Minutes: 17.916<br>Duration: 0\", \" Minutes: 17.933<br>Duration: 0\", \" Minutes: 17.941<br>Duration: 0\", \" Minutes: 17.974<br>Duration: 0\"], \"x\": [773, 788, 771, 749, 750, 737, 130, 104, 136], \"y\": [802, 837, 681, 717, 726, 688, 655, 619, 667], \"type\": \"scatter\"}, {\"marker\": {\"size\": 10, \"sizemode\": \"area\", \"sizeref\": 1, \"symbol\": 207}, \"mode\": \"markers\", \"name\": \"LMouseButton\", \"text\": [], \"x\": [], \"y\": [], \"type\": \"scatter\"}], \"name\": \"18.0\"}, {\"data\": [{\"marker\": {\"opacity\": 0.5, \"size\": [100, 259, 120, 160], \"sizemode\": \"area\", \"sizeref\": 0, \"symbol\": 0}, \"mode\": \"markers\", \"name\": \"Dilated Pupil\", \"text\": [\" Minutes: 18.03<br>Duration: 0\", \" Minutes: 18.184<br>Duration: 0\", \" Minutes: 18.224<br>Duration: 0\", \" Minutes: 18.227<br>Duration: 0\"], \"x\": [148, 743, 82, 745], \"y\": [727, 563, 536, 578], \"type\": \"scatter\"}, {\"marker\": {\"opacity\": 0.5, \"size\": [100, 100, 120, 100, 140, 159, 120, 120, 100, 259], \"sizemode\": \"area\", \"sizeref\": 0, \"symbol\": 0}, \"mode\": \"markers\", \"name\": \"Squeezed Pupil \", \"text\": [\" Minutes: 18.111<br>Duration: 0\", \" Minutes: 18.163<br>Duration: 0\", \" Minutes: 18.167<br>Duration: 0\", \" Minutes: 18.204<br>Duration: 0\", \" Minutes: 18.211<br>Duration: 0\", \" Minutes: 18.221<br>Duration: 0\", \" Minutes: 18.233<br>Duration: 0\", \" Minutes: 18.236<br>Duration: 0\", \" Minutes: 18.245<br>Duration: 0\", \" Minutes: 18.247<br>Duration: 0\"], \"x\": [808, 970, 992, 62, 87, 102, 727, 731, 801, 831], \"y\": [703, 571, 515, 551, 539, 556, 521, 519, 598, 575], \"type\": \"scatter\"}, {\"marker\": {\"size\": 10, \"sizemode\": \"area\", \"sizeref\": 1, \"symbol\": 207}, \"mode\": \"markers\", \"name\": \"LMouseButton\", \"text\": [\" Minute: 18.16\", \" Minute: 18.22\"], \"x\": [748, 120], \"y\": [699, 566], \"type\": \"scatter\"}], \"name\": \"18.25\"}, {\"data\": [{\"marker\": {\"opacity\": 0.5, \"size\": [100, 140, 120, 180], \"sizemode\": \"area\", \"sizeref\": 0, \"symbol\": 0}, \"mode\": \"markers\", \"name\": \"Dilated Pupil\", \"text\": [\" Minutes: 18.31<br>Duration: 0\", \" Minutes: 18.312<br>Duration: 0\", \" Minutes: 18.333<br>Duration: 0\", \" Minutes: 18.336<br>Duration: 0\"], \"x\": [89, 94, 710, 735], \"y\": [559, 567, 605, 571], \"type\": \"scatter\"}, {\"marker\": {\"opacity\": 0.5, \"size\": [100, 100, 199, 180, 159, 120, 100], \"sizemode\": \"area\", \"sizeref\": 0, \"symbol\": 0}, \"mode\": \"markers\", \"name\": \"Squeezed Pupil \", \"text\": [\" Minutes: 18.26<br>Duration: 0\", \" Minutes: 18.267<br>Duration: 0\", \" Minutes: 18.283<br>Duration: 0\", \" Minutes: 18.295<br>Duration: 0\", \" Minutes: 18.4<br>Duration: 0\", \" Minutes: 18.405<br>Duration: 0\", \" Minutes: 18.494<br>Duration: 0\"], \"x\": [781, 761, 747, 736, 766, 756, 721], \"y\": [688, 566, 554, 527, 767, 738, 819], \"type\": \"scatter\"}, {\"marker\": {\"size\": 10, \"sizemode\": \"area\", \"sizeref\": 1, \"symbol\": 207}, \"mode\": \"markers\", \"name\": \"LMouseButton\", \"text\": [\" Minute: 18.414\", \" Minute: 18.46\"], \"x\": [972, 683], \"y\": [737, 905], \"type\": \"scatter\"}], \"name\": \"18.5\"}, {\"data\": [{\"marker\": {\"opacity\": 0.5, \"size\": [100], \"sizemode\": \"area\", \"sizeref\": 0, \"symbol\": 0}, \"mode\": \"markers\", \"name\": \"Dilated Pupil\", \"text\": [\" Minutes: 18.699<br>Duration: 0\"], \"x\": [86], \"y\": [859], \"type\": \"scatter\"}, {\"marker\": {\"opacity\": 0.5, \"size\": [200, 160, 160], \"sizemode\": \"area\", \"sizeref\": 0, \"symbol\": 0}, \"mode\": \"markers\", \"name\": \"Squeezed Pupil \", \"text\": [\" Minutes: 18.501<br>Duration: 0\", \" Minutes: 18.725<br>Duration: 0\", \" Minutes: 18.737<br>Duration: 0\"], \"x\": [93, 163, 245], \"y\": [849, 169, 175], \"type\": \"scatter\"}, {\"marker\": {\"size\": 10, \"sizemode\": \"area\", \"sizeref\": 1, \"symbol\": 207}, \"mode\": \"markers\", \"name\": \"LMouseButton\", \"text\": [\" Minute: 18.511\", \" Minute: 18.601\"], \"x\": [46, 699], \"y\": [862, 873], \"type\": \"scatter\"}], \"name\": \"18.75\"}, {\"data\": [{\"marker\": {\"opacity\": 0.5, \"size\": [120, 139], \"sizemode\": \"area\", \"sizeref\": 0, \"symbol\": 0}, \"mode\": \"markers\", \"name\": \"Dilated Pupil\", \"text\": [\" Minutes: 18.829<br>Duration: 0\", \" Minutes: 18.86<br>Duration: 0\"], \"x\": [116, 122], \"y\": [845, 853], \"type\": \"scatter\"}, {\"marker\": {\"opacity\": 0.5, \"size\": [100, 100, 120, 120, 100, 160, 160], \"sizemode\": \"area\", \"sizeref\": 0, \"symbol\": 0}, \"mode\": \"markers\", \"name\": \"Squeezed Pupil \", \"text\": [\" Minutes: 18.75<br>Duration: 0\", \" Minutes: 18.755<br>Duration: 0\", \" Minutes: 18.762<br>Duration: 0\", \" Minutes: 18.795<br>Duration: 0\", \" Minutes: 18.82<br>Duration: 0\", \" Minutes: 18.838<br>Duration: 0\", \" Minutes: 18.957<br>Duration: 0\"], \"x\": [790, 766, 96, 110, 121, 117, 770], \"y\": [861, 806, 845, 873, 844, 854, 863], \"type\": \"scatter\"}, {\"marker\": {\"size\": 10, \"sizemode\": \"area\", \"sizeref\": 1, \"symbol\": 207}, \"mode\": \"markers\", \"name\": \"LMouseButton\", \"text\": [], \"x\": [], \"y\": [], \"type\": \"scatter\"}], \"name\": \"19.0\"}, {\"data\": [{\"marker\": {\"opacity\": 0.5, \"size\": [120, 140, 120], \"sizemode\": \"area\", \"sizeref\": 0, \"symbol\": 0}, \"mode\": \"markers\", \"name\": \"Dilated Pupil\", \"text\": [\" Minutes: 19.167<br>Duration: 0\", \" Minutes: 19.185<br>Duration: 0\", \" Minutes: 19.226<br>Duration: 0\"], \"x\": [773, 782, 782], \"y\": [880, 881, 818], \"type\": \"scatter\"}, {\"marker\": {\"opacity\": 0.5, \"size\": [120, 100, 100, 120, 140, 100, 239, 120, 140, 279, 140, 140], \"sizemode\": \"area\", \"sizeref\": 0, \"symbol\": 0}, \"mode\": \"markers\", \"name\": \"Squeezed Pupil \", \"text\": [\" Minutes: 19.004<br>Duration: 0\", \" Minutes: 19.027<br>Duration: 0\", \" Minutes: 19.053<br>Duration: 0\", \" Minutes: 19.056<br>Duration: 0\", \" Minutes: 19.069<br>Duration: 0\", \" Minutes: 19.141<br>Duration: 0\", \" Minutes: 19.188<br>Duration: 0\", \" Minutes: 19.193<br>Duration: 0\", \" Minutes: 19.195<br>Duration: 0\", \" Minutes: 19.198<br>Duration: 0\", \" Minutes: 19.203<br>Duration: 0\", \" Minutes: 19.235<br>Duration: 0\"], \"x\": [870, 774, 804, 810, 794, 777, 775, 779, 768, 797, 788, 91], \"y\": [881, 860, 849, 894, 878, 852, 881, 887, 871, 898, 893, 217], \"type\": \"scatter\"}, {\"marker\": {\"size\": 10, \"sizemode\": \"area\", \"sizeref\": 1, \"symbol\": 207}, \"mode\": \"markers\", \"name\": \"LMouseButton\", \"text\": [\" Minute: 19.204\", \" Minute: 19.209\", \" Minute: 19.218\", \" Minute: 19.241\"], \"x\": [106], \"y\": [221], \"type\": \"scatter\"}], \"name\": \"19.25\"}, {\"data\": [{\"marker\": {\"opacity\": 0.5, \"size\": [239, 100, 140, 160], \"sizemode\": \"area\", \"sizeref\": 0, \"symbol\": 0}, \"mode\": \"markers\", \"name\": \"Dilated Pupil\", \"text\": [\" Minutes: 19.271<br>Duration: 0\", \" Minutes: 19.316<br>Duration: 0\", \" Minutes: 19.333<br>Duration: 0\", \" Minutes: 19.336<br>Duration: 0\"], \"x\": [88, 144, 734, 771], \"y\": [231, 235, 658, 720], \"type\": \"scatter\"}, {\"marker\": {\"opacity\": 0.5, \"size\": [120, 199, 180, 239, 160, 259], \"sizemode\": \"area\", \"sizeref\": 0, \"symbol\": 0}, \"mode\": \"markers\", \"name\": \"Squeezed Pupil \", \"text\": [\" Minutes: 19.387<br>Duration: 0\", \" Minutes: 19.397<br>Duration: 0\", \" Minutes: 19.434<br>Duration: 0\", \" Minutes: 19.44<br>Duration: 0\", \" Minutes: 19.445<br>Duration: 0\", \" Minutes: 19.463<br>Duration: 0\"], \"x\": [781, 846, 151, 137, 138, 31], \"y\": [905, 910, 224, 210, 215, 228], \"type\": \"scatter\"}, {\"marker\": {\"size\": 10, \"sizemode\": \"area\", \"sizeref\": 1, \"symbol\": 207}, \"mode\": \"markers\", \"name\": \"LMouseButton\", \"text\": [\" Minute: 19.252\", \" Minute: 19.261\", \" Minute: 19.261\", \" Minute: 19.262\", \" Minute: 19.263\", \" Minute: 19.263\", \" Minute: 19.264\", \" Minute: 19.265\", \" Minute: 19.265\", \" Minute: 19.266\", \" Minute: 19.272\", \" Minute: 19.275\", \" Minute: 19.277\", \" Minute: 19.28\", \" Minute: 19.282\", \" Minute: 19.286\", \" Minute: 19.288\", \" Minute: 19.29\", \" Minute: 19.293\", \" Minute: 19.299\", \" Minute: 19.302\", \" Minute: 19.304\", \" Minute: 19.307\", \" Minute: 19.308\", \" Minute: 19.312\", \" Minute: 19.315\", \" Minute: 19.345\", \" Minute: 19.445\", \" Minute: 19.457\", \" Minute: 19.465\", \" Minute: 19.47\", \" Minute: 19.472\", \" Minute: 19.476\", \" Minute: 19.479\", \" Minute: 19.483\", \" Minute: 19.486\", \" Minute: 19.489\", \" Minute: 19.49\", \" Minute: 19.492\", \" Minute: 19.494\", \" Minute: 19.495\", \" Minute: 19.5\"], \"x\": [866, 195], \"y\": [777, 239], \"type\": \"scatter\"}], \"name\": \"19.5\"}, {\"data\": [{\"marker\": {\"opacity\": 0.5, \"size\": [159, 160, 219, 159, 120], \"sizemode\": \"area\", \"sizeref\": 0, \"symbol\": 0}, \"mode\": \"markers\", \"name\": \"Dilated Pupil\", \"text\": [\" Minutes: 19.508<br>Duration: 0\", \" Minutes: 19.577<br>Duration: 0\", \" Minutes: 19.65<br>Duration: 0\", \" Minutes: 19.688<br>Duration: 0\", \" Minutes: 19.694<br>Duration: 0\"], \"x\": [146, 52, 748, 113, 69], \"y\": [218, 623, 554, 241, 531], \"type\": \"scatter\"}, {\"marker\": {\"opacity\": 0.5, \"size\": [120, 199, 160, 179, 120, 159, 179, 120, 219, 160, 120, 140, 140, 159, 239], \"sizemode\": \"area\", \"sizeref\": 0, \"symbol\": 0}, \"mode\": \"markers\", \"name\": \"Squeezed Pupil \", \"text\": [\" Minutes: 19.566<br>Duration: 0\", \" Minutes: 19.59<br>Duration: 0\", \" Minutes: 19.594<br>Duration: 0\", \" Minutes: 19.612<br>Duration: 0\", \" Minutes: 19.622<br>Duration: 0\", \" Minutes: 19.625<br>Duration: 0\", \" Minutes: 19.63<br>Duration: 0\", \" Minutes: 19.633<br>Duration: 0\", \" Minutes: 19.636<br>Duration: 0\", \" Minutes: 19.642<br>Duration: 0\", \" Minutes: 19.654<br>Duration: 0\", \" Minutes: 19.666<br>Duration: 0\", \" Minutes: 19.668<br>Duration: 0\", \" Minutes: 19.737<br>Duration: 0\", \" Minutes: 19.742<br>Duration: 0\"], \"x\": [135, 712, 711, 752, 67, 81, 93, 82, 85, 101, 746, 114, 95, 743, 743], \"y\": [632, 562, 564, 521, 533, 532, 561, 552, 552, 562, 538, 568, 563, 547, 524], \"type\": \"scatter\"}, {\"marker\": {\"size\": 10, \"sizemode\": \"area\", \"sizeref\": 1, \"symbol\": 207}, \"mode\": \"markers\", \"name\": \"LMouseButton\", \"text\": [\" Minute: 19.505\", \" Minute: 19.506\", \" Minute: 19.509\", \" Minute: 19.51\", \" Minute: 19.512\", \" Minute: 19.515\", \" Minute: 19.516\", \" Minute: 19.518\", \" Minute: 19.575\", \" Minute: 19.597\", \" Minute: 19.686\"], \"x\": [42, 679, 151], \"y\": [624, 573, 255], \"type\": \"scatter\"}], \"name\": \"19.75\"}, {\"data\": [{\"marker\": {\"opacity\": 0.5, \"size\": [379, 159, 159, 160, 160, 120, 120, 100, 259], \"sizemode\": \"area\", \"sizeref\": 0, \"symbol\": 0}, \"mode\": \"markers\", \"name\": \"Dilated Pupil\", \"text\": [\" Minutes: 19.824<br>Duration: 0\", \" Minutes: 19.932<br>Duration: 0\", \" Minutes: 19.936<br>Duration: 0\", \" Minutes: 19.956<br>Duration: 0\", \" Minutes: 19.959<br>Duration: 0\", \" Minutes: 19.965<br>Duration: 0\", \" Minutes: 19.978<br>Duration: 0\", \" Minutes: 19.987<br>Duration: 0\", \" Minutes: 19.991<br>Duration: 0\"], \"x\": [146, 50, 54, 64, 64, 75, 88, 1045, 1112], \"y\": [218, 251, 241, 255, 258, 255, 267, 164, 126], \"type\": \"scatter\"}, {\"marker\": {\"opacity\": 0.5, \"size\": [180, 119, 160, 339, 100, 239, 160, 140, 119, 140, 159, 120, 160, 219, 219], \"sizemode\": \"area\", \"sizeref\": 0, \"symbol\": 0}, \"mode\": \"markers\", \"name\": \"Squeezed Pupil \", \"text\": [\" Minutes: 19.751<br>Duration: 0\", \" Minutes: 19.754<br>Duration: 0\", \" Minutes: 19.761<br>Duration: 0\", \" Minutes: 19.789<br>Duration: 0\", \" Minutes: 19.798<br>Duration: 0\", \" Minutes: 19.8<br>Duration: 0\", \" Minutes: 19.836<br>Duration: 0\", \" Minutes: 19.851<br>Duration: 0\", \" Minutes: 19.876<br>Duration: 0\", \" Minutes: 19.881<br>Duration: 0\", \" Minutes: 19.888<br>Duration: 0\", \" Minutes: 19.897<br>Duration: 0\", \" Minutes: 19.901<br>Duration: 0\", \" Minutes: 19.906<br>Duration: 0\", \" Minutes: 19.926<br>Duration: 0\"], \"x\": [739, 744, 753, 76, 258, 256, 58, 734, 760, 755, 777, 768, 765, 99, 50], \"y\": [582, 563, 542, 208, 194, 192, 241, 546, 539, 525, 574, 573, 534, 550, 254], \"type\": \"scatter\"}, {\"marker\": {\"size\": 10, \"sizemode\": \"area\", \"sizeref\": 1, \"symbol\": 207}, \"mode\": \"markers\", \"name\": \"LMouseButton\", \"text\": [\" Minute: 19.908\", \" Minute: 19.911\", \" Minute: 19.916\", \" Minute: 19.93\", \" Minute: 19.934\", \" Minute: 19.938\", \" Minute: 19.94\", \" Minute: 19.941\", \" Minute: 19.951\", \" Minute: 19.953\", \" Minute: 19.954\", \" Minute: 19.958\", \" Minute: 19.962\", \" Minute: 19.963\", \" Minute: 19.967\", \" Minute: 19.97\", \" Minute: 19.973\", \" Minute: 19.979\"], \"x\": [], \"y\": [], \"type\": \"scatter\"}], \"name\": \"20.0\"}, {\"data\": [{\"marker\": {\"opacity\": 0.5, \"size\": [658, 1316, 140, 180, 179, 339, 140, 120, 120, 100, 120], \"sizemode\": \"area\", \"sizeref\": 0, \"symbol\": 0}, \"mode\": \"markers\", \"name\": \"Dilated Pupil\", \"text\": [\" Minutes: 20.003<br>Duration: 0\", \" Minutes: 20.033<br>Duration: 0\", \" Minutes: 20.062<br>Duration: 0\", \" Minutes: 20.066<br>Duration: 0\", \" Minutes: 20.071<br>Duration: 0\", \" Minutes: 20.074<br>Duration: 0\", \" Minutes: 20.085<br>Duration: 0\", \" Minutes: 20.116<br>Duration: 0\", \" Minutes: 20.119<br>Duration: 0\", \" Minutes: 20.122<br>Duration: 0\", \" Minutes: 20.124<br>Duration: 0\"], \"x\": [1075, 1083, 1143, 1205, 1124, 1078, 114, 145, 148, 43, 27], \"y\": [123, 185, 178, 188, 261, 129, 227, 268, 252, 266, 255], \"type\": \"scatter\"}, {\"marker\": {\"opacity\": 0.5, \"size\": [359, 100, 379, 120, 100, 120, 459, 140, 100, 100], \"sizemode\": \"area\", \"sizeref\": 0, \"symbol\": 0}, \"mode\": \"markers\", \"name\": \"Squeezed Pupil \", \"text\": [\" Minutes: 20.055<br>Duration: 0\", \" Minutes: 20.1<br>Duration: 0\", \" Minutes: 20.104<br>Duration: 0\", \" Minutes: 20.139<br>Duration: 0\", \" Minutes: 20.147<br>Duration: 0\", \" Minutes: 20.157<br>Duration: 0\", \" Minutes: 20.17<br>Duration: 0\", \" Minutes: 20.18<br>Duration: 0\", \" Minutes: 20.214<br>Duration: 0\", \" Minutes: 20.219<br>Duration: 0\"], \"x\": [1095, 34, 42, 745, 749, 767, 837, 798, 753, 745], \"y\": [185, 259, 254, 551, 545, 572, 541, 536, 581, 581], \"type\": \"scatter\"}, {\"marker\": {\"size\": 10, \"sizemode\": \"area\", \"sizeref\": 1, \"symbol\": 207}, \"mode\": \"markers\", \"name\": \"LMouseButton\", \"text\": [\" Minute: 20.015\", \" Minute: 20.065\", \" Minute: 20.123\"], \"x\": [1032, 1032, 184], \"y\": [95, 95, 285], \"type\": \"scatter\"}], \"name\": \"20.25\"}, {\"data\": [{\"marker\": {\"opacity\": 0.5, \"size\": [239], \"sizemode\": \"area\", \"sizeref\": 0, \"symbol\": 0}, \"mode\": \"markers\", \"name\": \"Dilated Pupil\", \"text\": [\" Minutes: 20.484<br>Duration: 0\"], \"x\": [103], \"y\": [681], \"type\": \"scatter\"}, {\"marker\": {\"opacity\": 0.5, \"size\": [239, 100, 179, 120, 199, 120, 120, 120, 160, 259, 140, 120], \"sizemode\": \"area\", \"sizeref\": 0, \"symbol\": 0}, \"mode\": \"markers\", \"name\": \"Squeezed Pupil \", \"text\": [\" Minutes: 20.278<br>Duration: 0\", \" Minutes: 20.302<br>Duration: 0\", \" Minutes: 20.304<br>Duration: 0\", \" Minutes: 20.318<br>Duration: 0\", \" Minutes: 20.32<br>Duration: 0\", \" Minutes: 20.33<br>Duration: 0\", \" Minutes: 20.337<br>Duration: 0\", \" Minutes: 20.381<br>Duration: 0\", \" Minutes: 20.386<br>Duration: 0\", \" Minutes: 20.406<br>Duration: 0\", \" Minutes: 20.421<br>Duration: 0\", \" Minutes: 20.452<br>Duration: 0\"], \"x\": [619, 719, 714, 753, 736, 761, 754, 740, 746, 65, 694, 44], \"y\": [682, 544, 540, 540, 552, 547, 603, 785, 785, 670, 862, 660], \"type\": \"scatter\"}, {\"marker\": {\"size\": 10, \"sizemode\": \"area\", \"sizeref\": 1, \"symbol\": 207}, \"mode\": \"markers\", \"name\": \"LMouseButton\", \"text\": [\" Minute: 20.385\", \" Minute: 20.422\", \" Minute: 20.461\"], \"x\": [846, 675, 37], \"y\": [787, 916, 687], \"type\": \"scatter\"}], \"name\": \"20.5\"}, {\"data\": [{\"marker\": {\"opacity\": 0.5, \"size\": [], \"sizemode\": \"area\", \"sizeref\": 0, \"symbol\": 0}, \"mode\": \"markers\", \"name\": \"Dilated Pupil\", \"text\": [], \"x\": [], \"y\": [], \"type\": \"scatter\"}, {\"marker\": {\"opacity\": 0.5, \"size\": [120, 120, 140, 159, 419, 120, 120, 100, 100, 140, 179, 140, 160], \"sizemode\": \"area\", \"sizeref\": 0, \"symbol\": 0}, \"mode\": \"markers\", \"name\": \"Squeezed Pupil \", \"text\": [\" Minutes: 20.505<br>Duration: 0\", \" Minutes: 20.509<br>Duration: 0\", \" Minutes: 20.512<br>Duration: 0\", \" Minutes: 20.518<br>Duration: 0\", \" Minutes: 20.521<br>Duration: 0\", \" Minutes: 20.535<br>Duration: 0\", \" Minutes: 20.603<br>Duration: 0\", \" Minutes: 20.61<br>Duration: 0\", \" Minutes: 20.657<br>Duration: 0\", \" Minutes: 20.659<br>Duration: 0\", \" Minutes: 20.668<br>Duration: 0\", \" Minutes: 20.718<br>Duration: 0\", \" Minutes: 20.741<br>Duration: 0\"], \"x\": [125, 144, 174, 1219, 1315, 771, 766, 757, 768, 756, 105, 763, 714], \"y\": [690, 295, 277, 259, 275, 807, 885, 852, 851, 818, 714, 835, 836], \"type\": \"scatter\"}, {\"marker\": {\"size\": 10, \"sizemode\": \"area\", \"sizeref\": 1, \"symbol\": 207}, \"mode\": \"markers\", \"name\": \"LMouseButton\", \"text\": [\" Minute: 20.677\", \" Minute: 20.685\", \" Minute: 20.69\", \" Minute: 20.711\", \" Minute: 20.745\"], \"x\": [66, 62, 62, 62, 688], \"y\": [781, 781, 784, 786, 875], \"type\": \"scatter\"}], \"name\": \"20.75\"}, {\"data\": [{\"marker\": {\"opacity\": 0.5, \"size\": [], \"sizemode\": \"area\", \"sizeref\": 0, \"symbol\": 0}, \"mode\": \"markers\", \"name\": \"Dilated Pupil\", \"text\": [], \"x\": [], \"y\": [], \"type\": \"scatter\"}, {\"marker\": {\"opacity\": 0.5, \"size\": [120, 100, 140, 120, 160, 100, 140, 140, 160, 239, 120], \"sizemode\": \"area\", \"sizeref\": 0, \"symbol\": 0}, \"mode\": \"markers\", \"name\": \"Squeezed Pupil \", \"text\": [\" Minutes: 20.754<br>Duration: 0\", \" Minutes: 20.828<br>Duration: 0\", \" Minutes: 20.854<br>Duration: 0\", \" Minutes: 20.879<br>Duration: 0\", \" Minutes: 20.899<br>Duration: 0\", \" Minutes: 20.93<br>Duration: 0\", \" Minutes: 20.938<br>Duration: 0\", \" Minutes: 20.944<br>Duration: 0\", \" Minutes: 20.969<br>Duration: 0\", \" Minutes: 20.978<br>Duration: 0\", \" Minutes: 20.997<br>Duration: 0\"], \"x\": [772, 751, 720, 730, 752, 718, 85, 76, 39, 66, 713], \"y\": [855, 918, 712, 700, 578, 772, 667, 628, 604, 535, 800], \"type\": \"scatter\"}, {\"marker\": {\"size\": 10, \"sizemode\": \"area\", \"sizeref\": 1, \"symbol\": 207}, \"mode\": \"markers\", \"name\": \"LMouseButton\", \"text\": [\" Minute: 20.751\", \" Minute: 20.773\", \" Minute: 20.795\", \" Minute: 20.803\", \" Minute: 20.867\", \" Minute: 20.881\", \" Minute: 20.892\", \" Minute: 20.927\", \" Minute: 20.932\", \" Minute: 20.973\", \" Minute: 20.999\"], \"x\": [694, 705, 691, 691, 672, 682, 678, 678, 676, 48, 674], \"y\": [875, 792, 904, 904, 713, 720, 751, 812, 815, 640, 814], \"type\": \"scatter\"}], \"name\": \"21.0\"}, {\"data\": [{\"marker\": {\"opacity\": 0.5, \"size\": [119, 120, 100], \"sizemode\": \"area\", \"sizeref\": 0, \"symbol\": 0}, \"mode\": \"markers\", \"name\": \"Dilated Pupil\", \"text\": [\" Minutes: 21.001<br>Duration: 0\", \" Minutes: 21.131<br>Duration: 0\", \" Minutes: 21.172<br>Duration: 0\"], \"x\": [719, 51, 721], \"y\": [816, 560, 375], \"type\": \"scatter\"}, {\"marker\": {\"opacity\": 0.5, \"size\": [120, 100, 100, 159, 100, 120, 120, 179, 179, 140, 140, 120, 120, 120, 379, 160, 140, 239, 160, 239, 100], \"sizemode\": \"area\", \"sizeref\": 0, \"symbol\": 0}, \"mode\": \"markers\", \"name\": \"Squeezed Pupil \", \"text\": [\" Minutes: 21.036<br>Duration: 0\", \" Minutes: 21.044<br>Duration: 0\", \" Minutes: 21.047<br>Duration: 0\", \" Minutes: 21.049<br>Duration: 0\", \" Minutes: 21.066<br>Duration: 0\", \" Minutes: 21.072<br>Duration: 0\", \" Minutes: 21.084<br>Duration: 0\", \" Minutes: 21.103<br>Duration: 0\", \" Minutes: 21.121<br>Duration: 0\", \" Minutes: 21.126<br>Duration: 0\", \" Minutes: 21.177<br>Duration: 0\", \" Minutes: 21.18<br>Duration: 0\", \" Minutes: 21.182<br>Duration: 0\", \" Minutes: 21.188<br>Duration: 0\", \" Minutes: 21.197<br>Duration: 0\", \" Minutes: 21.204<br>Duration: 0\", \" Minutes: 21.208<br>Duration: 0\", \" Minutes: 21.218<br>Duration: 0\", \" Minutes: 21.224<br>Duration: 0\", \" Minutes: 21.229<br>Duration: 0\", \" Minutes: 21.24<br>Duration: 0\"], \"x\": [686, 675, 712, 720, 746, 730, 63, 54, 40, 45, 804, 797, 846, 186, 190, 201, 116, 42, 60, 106, 22], \"y\": [512, 497, 545, 539, 602, 580, 647, 537, 550, 571, 395, 418, 418, 398, 421, 425, 435, 477, 446, 451, 484], \"type\": \"scatter\"}, {\"marker\": {\"size\": 10, \"sizemode\": \"area\", \"sizeref\": 1, \"symbol\": 207}, \"mode\": \"markers\", \"name\": \"LMouseButton\", \"text\": [\" Minute: 21.046\", \" Minute: 21.07\", \" Minute: 21.095\", \" Minute: 21.102\", \" Minute: 21.109\", \" Minute: 21.132\", \" Minute: 21.208\"], \"x\": [680, 680, 31, 32, 36, 45, 185], \"y\": [529, 596, 660, 658, 658, 548, 445], \"type\": \"scatter\"}], \"name\": \"21.25\"}, {\"data\": [{\"marker\": {\"opacity\": 0.5, \"size\": [180, 140, 100], \"sizemode\": \"area\", \"sizeref\": 0, \"symbol\": 0}, \"mode\": \"markers\", \"name\": \"Dilated Pupil\", \"text\": [\" Minutes: 21.382<br>Duration: 0\", \" Minutes: 21.458<br>Duration: 0\", \" Minutes: 21.468<br>Duration: 0\"], \"x\": [124, 215, 92], \"y\": [311, 187, 507], \"type\": \"scatter\"}, {\"marker\": {\"opacity\": 0.5, \"size\": [140, 160, 160, 120, 439, 100, 120, 219, 140, 120, 120, 100, 100, 100, 419, 459, 159, 100, 159, 259, 159], \"sizemode\": \"area\", \"sizeref\": 0, \"symbol\": 0}, \"mode\": \"markers\", \"name\": \"Squeezed Pupil \", \"text\": [\" Minutes: 21.251<br>Duration: 0\", \" Minutes: 21.254<br>Duration: 0\", \" Minutes: 21.27<br>Duration: 0\", \" Minutes: 21.278<br>Duration: 0\", \" Minutes: 21.283<br>Duration: 0\", \" Minutes: 21.29<br>Duration: 0\", \" Minutes: 21.294<br>Duration: 0\", \" Minutes: 21.304<br>Duration: 0\", \" Minutes: 21.315<br>Duration: 0\", \" Minutes: 21.318<br>Duration: 0\", \" Minutes: 21.323<br>Duration: 0\", \" Minutes: 21.358<br>Duration: 0\", \" Minutes: 21.39<br>Duration: 0\", \" Minutes: 21.392<br>Duration: 0\", \" Minutes: 21.397<br>Duration: 0\", \" Minutes: 21.406<br>Duration: 0\", \" Minutes: 21.414<br>Duration: 0\", \" Minutes: 21.427<br>Duration: 0\", \" Minutes: 21.43<br>Duration: 0\", \" Minutes: 21.46<br>Duration: 0\", \" Minutes: 21.497<br>Duration: 0\"], \"x\": [18, 58, 43, 674, 829, 837, 847, 823, 699, 693, 670, 287, 65, 39, 337, 226, 256, 206, 152, 238, 286], \"y\": [481, 498, 441, 463, 405, 405, 391, 400, 488, 472, 487, 179, 275, 253, 226, 221, 229, 189, 151, 181, 181], \"type\": \"scatter\"}, {\"marker\": {\"size\": 10, \"sizemode\": \"area\", \"sizeref\": 1, \"symbol\": 207}, \"mode\": \"markers\", \"name\": \"LMouseButton\", \"text\": [\" Minute: 21.25\", \" Minute: 21.261\", \" Minute: 21.272\", \" Minute: 21.293\", \" Minute: 21.304\", \" Minute: 21.329\", \" Minute: 21.333\", \" Minute: 21.339\", \" Minute: 21.362\"], \"x\": [26, 26, 50, 844, 834, 647, 656, 656, 423], \"y\": [486, 485, 450, 437, 450, 494, 493, 493, 252], \"type\": \"scatter\"}], \"name\": \"21.5\"}, {\"data\": [{\"marker\": {\"opacity\": 0.5, \"size\": [319, 199, 259, 339, 120, 100, 160, 299, 100, 140, 259, 179, 419, 219, 219], \"sizemode\": \"area\", \"sizeref\": 0, \"symbol\": 0}, \"mode\": \"markers\", \"name\": \"Dilated Pupil\", \"text\": [\" Minutes: 21.506<br>Duration: 0\", \" Minutes: 21.576<br>Duration: 0\", \" Minutes: 21.616<br>Duration: 0\", \" Minutes: 21.622<br>Duration: 0\", \" Minutes: 21.629<br>Duration: 0\", \" Minutes: 21.632<br>Duration: 0\", \" Minutes: 21.647<br>Duration: 0\", \" Minutes: 21.654<br>Duration: 0\", \" Minutes: 21.679<br>Duration: 0\", \" Minutes: 21.686<br>Duration: 0\", \" Minutes: 21.688<br>Duration: 0\", \" Minutes: 21.694<br>Duration: 0\", \" Minutes: 21.698<br>Duration: 0\", \" Minutes: 21.708<br>Duration: 0\", \" Minutes: 21.738<br>Duration: 0\"], \"x\": [287, 114, 48, 62, 73, 96, 150, 40, 53, 99, 98, 145, 159, 163, 447], \"y\": [196, 205, 227, 210, 206, 194, 216, 200, 222, 226, 233, 232, 228, 229, 333], \"type\": \"scatter\"}, {\"marker\": {\"opacity\": 0.5, \"size\": [179, 159, 219, 698, 140, 100, 239], \"sizemode\": \"area\", \"sizeref\": 0, \"symbol\": 0}, \"mode\": \"markers\", \"name\": \"Squeezed Pupil \", \"text\": [\" Minutes: 21.516<br>Duration: 0\", \" Minutes: 21.521<br>Duration: 0\", \" Minutes: 21.526<br>Duration: 0\", \" Minutes: 21.533<br>Duration: 0\", \" Minutes: 21.545<br>Duration: 0\", \" Minutes: 21.651<br>Duration: 0\", \" Minutes: 21.732<br>Duration: 0\"], \"x\": [415, 467, 651, 282, 255, 139, 52], \"y\": [219, 229, 270, 235, 191, 203, 247], \"type\": \"scatter\"}, {\"marker\": {\"size\": 10, \"sizemode\": \"area\", \"sizeref\": 1, \"symbol\": 207}, \"mode\": \"markers\", \"name\": \"LMouseButton\", \"text\": [], \"x\": [], \"y\": [], \"type\": \"scatter\"}], \"name\": \"21.75\"}, {\"data\": [{\"marker\": {\"opacity\": 0.5, \"size\": [139, 139, 100, 419, 439, 179, 100, 179, 159, 279, 439], \"sizemode\": \"area\", \"sizeref\": 0, \"symbol\": 0}, \"mode\": \"markers\", \"name\": \"Dilated Pupil\", \"text\": [\" Minutes: 21.762<br>Duration: 0\", \" Minutes: 21.834<br>Duration: 0\", \" Minutes: 21.853<br>Duration: 0\", \" Minutes: 21.856<br>Duration: 0\", \" Minutes: 21.864<br>Duration: 0\", \" Minutes: 21.872<br>Duration: 0\", \" Minutes: 21.88<br>Duration: 0\", \" Minutes: 21.885<br>Duration: 0\", \" Minutes: 21.889<br>Duration: 0\", \" Minutes: 21.892<br>Duration: 0\", \" Minutes: 21.897<br>Duration: 0\"], \"x\": [84, 1107, 558, 565, 318, 239, 121, 96, 94, 140, 277], \"y\": [275, 813, 284, 163, 156, 232, 195, 255, 246, 323, 210], \"type\": \"scatter\"}, {\"marker\": {\"opacity\": 0.5, \"size\": [259], \"sizemode\": \"area\", \"sizeref\": 0, \"symbol\": 0}, \"mode\": \"markers\", \"name\": \"Squeezed Pupil \", \"text\": [\" Minutes: 21.823<br>Duration: 0\"], \"x\": [708], \"y\": [473], \"type\": \"scatter\"}, {\"marker\": {\"size\": 10, \"sizemode\": \"area\", \"sizeref\": 1, \"symbol\": 207}, \"mode\": \"markers\", \"name\": \"LMouseButton\", \"text\": [], \"x\": [], \"y\": [], \"type\": \"scatter\"}], \"name\": \"22.0\"}, {\"data\": [{\"marker\": {\"opacity\": 0.5, \"size\": [], \"sizemode\": \"area\", \"sizeref\": 0, \"symbol\": 0}, \"mode\": \"markers\", \"name\": \"Dilated Pupil\", \"text\": [], \"x\": [], \"y\": [], \"type\": \"scatter\"}, {\"marker\": {\"opacity\": 0.5, \"size\": [], \"sizemode\": \"area\", \"sizeref\": 0, \"symbol\": 0}, \"mode\": \"markers\", \"name\": \"Squeezed Pupil \", \"text\": [], \"x\": [], \"y\": [], \"type\": \"scatter\"}, {\"marker\": {\"size\": 10, \"sizemode\": \"area\", \"sizeref\": 1, \"symbol\": 207}, \"mode\": \"markers\", \"name\": \"LMouseButton\", \"text\": [], \"x\": [], \"y\": [], \"type\": \"scatter\"}], \"name\": \"22.25\"}, {\"data\": [{\"marker\": {\"opacity\": 0.5, \"size\": [], \"sizemode\": \"area\", \"sizeref\": 0, \"symbol\": 0}, \"mode\": \"markers\", \"name\": \"Dilated Pupil\", \"text\": [], \"x\": [], \"y\": [], \"type\": \"scatter\"}, {\"marker\": {\"opacity\": 0.5, \"size\": [], \"sizemode\": \"area\", \"sizeref\": 0, \"symbol\": 0}, \"mode\": \"markers\", \"name\": \"Squeezed Pupil \", \"text\": [], \"x\": [], \"y\": [], \"type\": \"scatter\"}, {\"marker\": {\"size\": 10, \"sizemode\": \"area\", \"sizeref\": 1, \"symbol\": 207}, \"mode\": \"markers\", \"name\": \"LMouseButton\", \"text\": [], \"x\": [], \"y\": [], \"type\": \"scatter\"}], \"name\": \"22.5\"}, {\"data\": [{\"marker\": {\"opacity\": 0.5, \"size\": [], \"sizemode\": \"area\", \"sizeref\": 0, \"symbol\": 0}, \"mode\": \"markers\", \"name\": \"Dilated Pupil\", \"text\": [], \"x\": [], \"y\": [], \"type\": \"scatter\"}, {\"marker\": {\"opacity\": 0.5, \"size\": [], \"sizemode\": \"area\", \"sizeref\": 0, \"symbol\": 0}, \"mode\": \"markers\", \"name\": \"Squeezed Pupil \", \"text\": [], \"x\": [], \"y\": [], \"type\": \"scatter\"}, {\"marker\": {\"size\": 10, \"sizemode\": \"area\", \"sizeref\": 1, \"symbol\": 207}, \"mode\": \"markers\", \"name\": \"LMouseButton\", \"text\": [], \"x\": [], \"y\": [], \"type\": \"scatter\"}], \"name\": \"22.75\"}, {\"data\": [{\"marker\": {\"opacity\": 0.5, \"size\": [], \"sizemode\": \"area\", \"sizeref\": 0, \"symbol\": 0}, \"mode\": \"markers\", \"name\": \"Dilated Pupil\", \"text\": [], \"x\": [], \"y\": [], \"type\": \"scatter\"}, {\"marker\": {\"opacity\": 0.5, \"size\": [], \"sizemode\": \"area\", \"sizeref\": 0, \"symbol\": 0}, \"mode\": \"markers\", \"name\": \"Squeezed Pupil \", \"text\": [], \"x\": [], \"y\": [], \"type\": \"scatter\"}, {\"marker\": {\"size\": 10, \"sizemode\": \"area\", \"sizeref\": 1, \"symbol\": 207}, \"mode\": \"markers\", \"name\": \"LMouseButton\", \"text\": [], \"x\": [], \"y\": [], \"type\": \"scatter\"}], \"name\": \"23.0\"}, {\"data\": [{\"marker\": {\"opacity\": 0.5, \"size\": [], \"sizemode\": \"area\", \"sizeref\": 0, \"symbol\": 0}, \"mode\": \"markers\", \"name\": \"Dilated Pupil\", \"text\": [], \"x\": [], \"y\": [], \"type\": \"scatter\"}, {\"marker\": {\"opacity\": 0.5, \"size\": [], \"sizemode\": \"area\", \"sizeref\": 0, \"symbol\": 0}, \"mode\": \"markers\", \"name\": \"Squeezed Pupil \", \"text\": [], \"x\": [], \"y\": [], \"type\": \"scatter\"}, {\"marker\": {\"size\": 10, \"sizemode\": \"area\", \"sizeref\": 1, \"symbol\": 207}, \"mode\": \"markers\", \"name\": \"LMouseButton\", \"text\": [], \"x\": [], \"y\": [], \"type\": \"scatter\"}], \"name\": \"23.25\"}, {\"data\": [{\"marker\": {\"opacity\": 0.5, \"size\": [], \"sizemode\": \"area\", \"sizeref\": 0, \"symbol\": 0}, \"mode\": \"markers\", \"name\": \"Dilated Pupil\", \"text\": [], \"x\": [], \"y\": [], \"type\": \"scatter\"}, {\"marker\": {\"opacity\": 0.5, \"size\": [], \"sizemode\": \"area\", \"sizeref\": 0, \"symbol\": 0}, \"mode\": \"markers\", \"name\": \"Squeezed Pupil \", \"text\": [], \"x\": [], \"y\": [], \"type\": \"scatter\"}, {\"marker\": {\"size\": 10, \"sizemode\": \"area\", \"sizeref\": 1, \"symbol\": 207}, \"mode\": \"markers\", \"name\": \"LMouseButton\", \"text\": [], \"x\": [], \"y\": [], \"type\": \"scatter\"}], \"name\": \"23.5\"}, {\"data\": [{\"marker\": {\"opacity\": 0.5, \"size\": [], \"sizemode\": \"area\", \"sizeref\": 0, \"symbol\": 0}, \"mode\": \"markers\", \"name\": \"Dilated Pupil\", \"text\": [], \"x\": [], \"y\": [], \"type\": \"scatter\"}, {\"marker\": {\"opacity\": 0.5, \"size\": [], \"sizemode\": \"area\", \"sizeref\": 0, \"symbol\": 0}, \"mode\": \"markers\", \"name\": \"Squeezed Pupil \", \"text\": [], \"x\": [], \"y\": [], \"type\": \"scatter\"}, {\"marker\": {\"size\": 10, \"sizemode\": \"area\", \"sizeref\": 1, \"symbol\": 207}, \"mode\": \"markers\", \"name\": \"LMouseButton\", \"text\": [], \"x\": [], \"y\": [], \"type\": \"scatter\"}], \"name\": \"23.75\"}, {\"data\": [{\"marker\": {\"opacity\": 0.5, \"size\": [], \"sizemode\": \"area\", \"sizeref\": 0, \"symbol\": 0}, \"mode\": \"markers\", \"name\": \"Dilated Pupil\", \"text\": [], \"x\": [], \"y\": [], \"type\": \"scatter\"}, {\"marker\": {\"opacity\": 0.5, \"size\": [], \"sizemode\": \"area\", \"sizeref\": 0, \"symbol\": 0}, \"mode\": \"markers\", \"name\": \"Squeezed Pupil \", \"text\": [], \"x\": [], \"y\": [], \"type\": \"scatter\"}, {\"marker\": {\"size\": 10, \"sizemode\": \"area\", \"sizeref\": 1, \"symbol\": 207}, \"mode\": \"markers\", \"name\": \"LMouseButton\", \"text\": [], \"x\": [], \"y\": [], \"type\": \"scatter\"}], \"name\": \"24.0\"}, {\"data\": [{\"marker\": {\"opacity\": 0.5, \"size\": [], \"sizemode\": \"area\", \"sizeref\": 0, \"symbol\": 0}, \"mode\": \"markers\", \"name\": \"Dilated Pupil\", \"text\": [], \"x\": [], \"y\": [], \"type\": \"scatter\"}, {\"marker\": {\"opacity\": 0.5, \"size\": [], \"sizemode\": \"area\", \"sizeref\": 0, \"symbol\": 0}, \"mode\": \"markers\", \"name\": \"Squeezed Pupil \", \"text\": [], \"x\": [], \"y\": [], \"type\": \"scatter\"}, {\"marker\": {\"size\": 10, \"sizemode\": \"area\", \"sizeref\": 1, \"symbol\": 207}, \"mode\": \"markers\", \"name\": \"LMouseButton\", \"text\": [], \"x\": [], \"y\": [], \"type\": \"scatter\"}], \"name\": \"24.25\"}, {\"data\": [{\"marker\": {\"opacity\": 0.5, \"size\": [], \"sizemode\": \"area\", \"sizeref\": 0, \"symbol\": 0}, \"mode\": \"markers\", \"name\": \"Dilated Pupil\", \"text\": [], \"x\": [], \"y\": [], \"type\": \"scatter\"}, {\"marker\": {\"opacity\": 0.5, \"size\": [], \"sizemode\": \"area\", \"sizeref\": 0, \"symbol\": 0}, \"mode\": \"markers\", \"name\": \"Squeezed Pupil \", \"text\": [], \"x\": [], \"y\": [], \"type\": \"scatter\"}, {\"marker\": {\"size\": 10, \"sizemode\": \"area\", \"sizeref\": 1, \"symbol\": 207}, \"mode\": \"markers\", \"name\": \"LMouseButton\", \"text\": [], \"x\": [], \"y\": [], \"type\": \"scatter\"}], \"name\": \"24.5\"}, {\"data\": [{\"marker\": {\"opacity\": 0.5, \"size\": [], \"sizemode\": \"area\", \"sizeref\": 0, \"symbol\": 0}, \"mode\": \"markers\", \"name\": \"Dilated Pupil\", \"text\": [], \"x\": [], \"y\": [], \"type\": \"scatter\"}, {\"marker\": {\"opacity\": 0.5, \"size\": [], \"sizemode\": \"area\", \"sizeref\": 0, \"symbol\": 0}, \"mode\": \"markers\", \"name\": \"Squeezed Pupil \", \"text\": [], \"x\": [], \"y\": [], \"type\": \"scatter\"}, {\"marker\": {\"size\": 10, \"sizemode\": \"area\", \"sizeref\": 1, \"symbol\": 207}, \"mode\": \"markers\", \"name\": \"LMouseButton\", \"text\": [], \"x\": [], \"y\": [], \"type\": \"scatter\"}], \"name\": \"24.75\"}, {\"data\": [{\"marker\": {\"opacity\": 0.5, \"size\": [], \"sizemode\": \"area\", \"sizeref\": 0, \"symbol\": 0}, \"mode\": \"markers\", \"name\": \"Dilated Pupil\", \"text\": [], \"x\": [], \"y\": [], \"type\": \"scatter\"}, {\"marker\": {\"opacity\": 0.5, \"size\": [], \"sizemode\": \"area\", \"sizeref\": 0, \"symbol\": 0}, \"mode\": \"markers\", \"name\": \"Squeezed Pupil \", \"text\": [], \"x\": [], \"y\": [], \"type\": \"scatter\"}, {\"marker\": {\"size\": 10, \"sizemode\": \"area\", \"sizeref\": 1, \"symbol\": 207}, \"mode\": \"markers\", \"name\": \"LMouseButton\", \"text\": [], \"x\": [], \"y\": [], \"type\": \"scatter\"}], \"name\": \"25.0\"}, {\"data\": [{\"marker\": {\"opacity\": 0.5, \"size\": [], \"sizemode\": \"area\", \"sizeref\": 0, \"symbol\": 0}, \"mode\": \"markers\", \"name\": \"Dilated Pupil\", \"text\": [], \"x\": [], \"y\": [], \"type\": \"scatter\"}, {\"marker\": {\"opacity\": 0.5, \"size\": [], \"sizemode\": \"area\", \"sizeref\": 0, \"symbol\": 0}, \"mode\": \"markers\", \"name\": \"Squeezed Pupil \", \"text\": [], \"x\": [], \"y\": [], \"type\": \"scatter\"}, {\"marker\": {\"size\": 10, \"sizemode\": \"area\", \"sizeref\": 1, \"symbol\": 207}, \"mode\": \"markers\", \"name\": \"LMouseButton\", \"text\": [], \"x\": [], \"y\": [], \"type\": \"scatter\"}], \"name\": \"25.25\"}, {\"data\": [{\"marker\": {\"opacity\": 0.5, \"size\": [], \"sizemode\": \"area\", \"sizeref\": 0, \"symbol\": 0}, \"mode\": \"markers\", \"name\": \"Dilated Pupil\", \"text\": [], \"x\": [], \"y\": [], \"type\": \"scatter\"}, {\"marker\": {\"opacity\": 0.5, \"size\": [], \"sizemode\": \"area\", \"sizeref\": 0, \"symbol\": 0}, \"mode\": \"markers\", \"name\": \"Squeezed Pupil \", \"text\": [], \"x\": [], \"y\": [], \"type\": \"scatter\"}, {\"marker\": {\"size\": 10, \"sizemode\": \"area\", \"sizeref\": 1, \"symbol\": 207}, \"mode\": \"markers\", \"name\": \"LMouseButton\", \"text\": [], \"x\": [], \"y\": [], \"type\": \"scatter\"}], \"name\": \"25.5\"}, {\"data\": [{\"marker\": {\"opacity\": 0.5, \"size\": [], \"sizemode\": \"area\", \"sizeref\": 0, \"symbol\": 0}, \"mode\": \"markers\", \"name\": \"Dilated Pupil\", \"text\": [], \"x\": [], \"y\": [], \"type\": \"scatter\"}, {\"marker\": {\"opacity\": 0.5, \"size\": [], \"sizemode\": \"area\", \"sizeref\": 0, \"symbol\": 0}, \"mode\": \"markers\", \"name\": \"Squeezed Pupil \", \"text\": [], \"x\": [], \"y\": [], \"type\": \"scatter\"}, {\"marker\": {\"size\": 10, \"sizemode\": \"area\", \"sizeref\": 1, \"symbol\": 207}, \"mode\": \"markers\", \"name\": \"LMouseButton\", \"text\": [], \"x\": [], \"y\": [], \"type\": \"scatter\"}], \"name\": \"25.75\"}, {\"data\": [{\"marker\": {\"opacity\": 0.5, \"size\": [], \"sizemode\": \"area\", \"sizeref\": 0, \"symbol\": 0}, \"mode\": \"markers\", \"name\": \"Dilated Pupil\", \"text\": [], \"x\": [], \"y\": [], \"type\": \"scatter\"}, {\"marker\": {\"opacity\": 0.5, \"size\": [], \"sizemode\": \"area\", \"sizeref\": 0, \"symbol\": 0}, \"mode\": \"markers\", \"name\": \"Squeezed Pupil \", \"text\": [], \"x\": [], \"y\": [], \"type\": \"scatter\"}, {\"marker\": {\"size\": 10, \"sizemode\": \"area\", \"sizeref\": 1, \"symbol\": 207}, \"mode\": \"markers\", \"name\": \"LMouseButton\", \"text\": [], \"x\": [], \"y\": [], \"type\": \"scatter\"}], \"name\": \"26.0\"}, {\"data\": [{\"marker\": {\"opacity\": 0.5, \"size\": [], \"sizemode\": \"area\", \"sizeref\": 0, \"symbol\": 0}, \"mode\": \"markers\", \"name\": \"Dilated Pupil\", \"text\": [], \"x\": [], \"y\": [], \"type\": \"scatter\"}, {\"marker\": {\"opacity\": 0.5, \"size\": [], \"sizemode\": \"area\", \"sizeref\": 0, \"symbol\": 0}, \"mode\": \"markers\", \"name\": \"Squeezed Pupil \", \"text\": [], \"x\": [], \"y\": [], \"type\": \"scatter\"}, {\"marker\": {\"size\": 10, \"sizemode\": \"area\", \"sizeref\": 1, \"symbol\": 207}, \"mode\": \"markers\", \"name\": \"LMouseButton\", \"text\": [], \"x\": [], \"y\": [], \"type\": \"scatter\"}], \"name\": \"26.25\"}, {\"data\": [{\"marker\": {\"opacity\": 0.5, \"size\": [], \"sizemode\": \"area\", \"sizeref\": 0, \"symbol\": 0}, \"mode\": \"markers\", \"name\": \"Dilated Pupil\", \"text\": [], \"x\": [], \"y\": [], \"type\": \"scatter\"}, {\"marker\": {\"opacity\": 0.5, \"size\": [], \"sizemode\": \"area\", \"sizeref\": 0, \"symbol\": 0}, \"mode\": \"markers\", \"name\": \"Squeezed Pupil \", \"text\": [], \"x\": [], \"y\": [], \"type\": \"scatter\"}, {\"marker\": {\"size\": 10, \"sizemode\": \"area\", \"sizeref\": 1, \"symbol\": 207}, \"mode\": \"markers\", \"name\": \"LMouseButton\", \"text\": [], \"x\": [], \"y\": [], \"type\": \"scatter\"}], \"name\": \"26.5\"}, {\"data\": [{\"marker\": {\"opacity\": 0.5, \"size\": [], \"sizemode\": \"area\", \"sizeref\": 0, \"symbol\": 0}, \"mode\": \"markers\", \"name\": \"Dilated Pupil\", \"text\": [], \"x\": [], \"y\": [], \"type\": \"scatter\"}, {\"marker\": {\"opacity\": 0.5, \"size\": [], \"sizemode\": \"area\", \"sizeref\": 0, \"symbol\": 0}, \"mode\": \"markers\", \"name\": \"Squeezed Pupil \", \"text\": [], \"x\": [], \"y\": [], \"type\": \"scatter\"}, {\"marker\": {\"size\": 10, \"sizemode\": \"area\", \"sizeref\": 1, \"symbol\": 207}, \"mode\": \"markers\", \"name\": \"LMouseButton\", \"text\": [], \"x\": [], \"y\": [], \"type\": \"scatter\"}], \"name\": \"26.75\"}, {\"data\": [{\"marker\": {\"opacity\": 0.5, \"size\": [], \"sizemode\": \"area\", \"sizeref\": 0, \"symbol\": 0}, \"mode\": \"markers\", \"name\": \"Dilated Pupil\", \"text\": [], \"x\": [], \"y\": [], \"type\": \"scatter\"}, {\"marker\": {\"opacity\": 0.5, \"size\": [], \"sizemode\": \"area\", \"sizeref\": 0, \"symbol\": 0}, \"mode\": \"markers\", \"name\": \"Squeezed Pupil \", \"text\": [], \"x\": [], \"y\": [], \"type\": \"scatter\"}, {\"marker\": {\"size\": 10, \"sizemode\": \"area\", \"sizeref\": 1, \"symbol\": 207}, \"mode\": \"markers\", \"name\": \"LMouseButton\", \"text\": [], \"x\": [], \"y\": [], \"type\": \"scatter\"}], \"name\": \"27.0\"}, {\"data\": [{\"marker\": {\"opacity\": 0.5, \"size\": [], \"sizemode\": \"area\", \"sizeref\": 0, \"symbol\": 0}, \"mode\": \"markers\", \"name\": \"Dilated Pupil\", \"text\": [], \"x\": [], \"y\": [], \"type\": \"scatter\"}, {\"marker\": {\"opacity\": 0.5, \"size\": [], \"sizemode\": \"area\", \"sizeref\": 0, \"symbol\": 0}, \"mode\": \"markers\", \"name\": \"Squeezed Pupil \", \"text\": [], \"x\": [], \"y\": [], \"type\": \"scatter\"}, {\"marker\": {\"size\": 10, \"sizemode\": \"area\", \"sizeref\": 1, \"symbol\": 207}, \"mode\": \"markers\", \"name\": \"LMouseButton\", \"text\": [], \"x\": [], \"y\": [], \"type\": \"scatter\"}], \"name\": \"27.25\"}]);\n",
       "                        }).then(function(){\n",
       "                            \n",
       "var gd = document.getElementById('09e2ac49-da18-4364-ad7b-ac8d282c19cb');\n",
       "var x = new MutationObserver(function (mutations, observer) {{\n",
       "        var display = window.getComputedStyle(gd).display;\n",
       "        if (!display || display === 'none') {{\n",
       "            console.log([gd, 'removed!']);\n",
       "            Plotly.purge(gd);\n",
       "            observer.disconnect();\n",
       "        }}\n",
       "}});\n",
       "\n",
       "// Listen for the removal of the full notebook cells\n",
       "var notebookContainer = gd.closest('#notebook-container');\n",
       "if (notebookContainer) {{\n",
       "    x.observe(notebookContainer, {childList: true});\n",
       "}}\n",
       "\n",
       "// Listen for the clearing of the current output cell\n",
       "var outputEl = gd.closest('.output');\n",
       "if (outputEl) {{\n",
       "    x.observe(outputEl, {childList: true});\n",
       "}}\n",
       "\n",
       "                        })\n",
       "                };\n",
       "                });\n",
       "            </script>\n",
       "        </div>"
      ]
     },
     "metadata": {},
     "output_type": "display_data"
    }
   ],
   "source": [
    "minutes = []\n",
    "for i in np.arange(0.0,27.5,0.25):\n",
    "    minutes.append(str(i))\n",
    "# minutes = [\"0\", \"1\", \"2\", \"3\", \"4\", \"5\", \"6\", \"7\", \"8\", \"9\", \"10\", \"11\", \"12\", \"13\", \"14\",\"15\",\n",
    "#            \"16\", \"17\", \"18\", \"19\", \"20\", \"21\", \"22\", \"23\", \"24\", \"25\", \"26\", \"27\", \"28\"]\n",
    "\n",
    "# make list of continents\n",
    "dilations = list(tfixedgaze['PupilDilation'].unique())\n",
    "# dilations = []\n",
    "# for dilation in gfixedgaze[\"PupilDilation\"]:\n",
    "#     if dilation not in dilations:\n",
    "#         dilations.append(dilation)\n",
    "# print(\"Dilations :\",dilations)\n",
    "# make figure\n",
    "fig_dict = {\n",
    "    \"data\": [],\n",
    "    \"layout\": {},\n",
    "    \"frames\": []\n",
    "}\n",
    "\n",
    "# fill in most of layout\n",
    "fig_dict[\"layout\"] = {'images': [{'source': \"Capture1.JPG\",                          \n",
    "                                 'sizing': 'stretch', 'xref': 'paper', 'yref': 'paper', 'x':0,'y':1, 'layer':'below',\n",
    "                                 'sizex':1,'sizey':1,'opacity':1\n",
    "                                }],\n",
    "                      'title' : 'Participant 5 Eye Gaze Graph Visualization',\n",
    "                      'width' : 1024,\n",
    "                      'height' : 768,\n",
    "#                       'colorway': ['#FFFF99', '#000000']\n",
    "#                       'colorway':['#f3cec9', '#e7a4b6', '#e7a499']\n",
    "                      'colorway':['#DDA0DD', '#4B0082', '#ff0000','#0000ff']\n",
    "                    \n",
    "                     }\n",
    "fig_dict[\"layout\"][\"xaxis\"] = {\"range\": [0, 1300], \"title\": \"Screen X\"}\n",
    "fig_dict[\"layout\"][\"yaxis\"] = {\"range\": [0, 1200], \"title\": \"Screen Y\"}\n",
    "fig_dict[\"layout\"][\"hovermode\"] = \"closest\"\n",
    "fig_dict[\"layout\"][\"sliders\"] = {\n",
    "    \"args\": [\n",
    "        \"transition\", {\n",
    "            \"duration\": 400,\n",
    "            \"easing\": \"cubic-in-out\"\n",
    "        }\n",
    "    ],\n",
    "    \"initialValue\": \"3\",\n",
    "    \"plotlycommand\": \"animate\",\n",
    "    \"values\": minutes,\n",
    "    \"visible\": True\n",
    "}\n",
    "fig_dict[\"layout\"][\"updatemenus\"] = [\n",
    "    {\n",
    "        \"buttons\": [\n",
    "            {\n",
    "                \"args\": [None, {\"frame\": {\"duration\": 2000, \"redraw\": False},\n",
    "                                \"fromcurrent\": True, \"transition\": {\"duration\": 300,\n",
    "                                                                    \"easing\": \"quadratic-in-out\"}}],\n",
    "                \"label\": \"Play\",\n",
    "                \"method\": \"animate\"\n",
    "            },\n",
    "            {\n",
    "                \"args\": [[None], {\"frame\": {\"duration\": 0, \"redraw\": False},\n",
    "                                  \"mode\": \"immediate\",\n",
    "                                  \"transition\": {\"duration\": 0}}],\n",
    "                \"label\": \"Pause\",\n",
    "                \"method\": \"animate\"\n",
    "            }\n",
    "        ],\n",
    "        \"direction\": \"left\",\n",
    "        \"pad\": {\"r\": 10, \"t\": 87},\n",
    "        \"showactive\": False,\n",
    "        \"type\": \"buttons\",\n",
    "        \"x\": 0.1,\n",
    "        \"xanchor\": \"right\",\n",
    "        \"y\": 0,\n",
    "        \"yanchor\": \"top\"\n",
    "    }\n",
    "]\n",
    "\n",
    "sliders_dict = {\n",
    "    \"active\": 0,\n",
    "    \"yanchor\": \"top\",\n",
    "    \"xanchor\": \"left\",\n",
    "    \"currentvalue\": {\n",
    "        \"font\": {\"size\": 20},\n",
    "        \"prefix\": \"Minute:\",\n",
    "        \"visible\": True,\n",
    "        \"xanchor\": \"right\"\n",
    "    },\n",
    "    \"transition\": {\"duration\": 300, \"easing\": \"cubic-in-out\"},\n",
    "    \"pad\": {\"b\": 10, \"t\": 50},\n",
    "    \"len\": 0.9,\n",
    "    \"x\": 0.1,\n",
    "    \"y\": 0,\n",
    "    \"steps\": []\n",
    "}\n",
    "\n",
    "# make data\n",
    "minute = 0.25\n",
    "for dilation in dilations:\n",
    "    tfixedgaze_by_minute = tfixedgaze[tfixedgaze[\"Minutes\"] <= minute]\n",
    "    tfixedgaze_by_minute_and_dil = tfixedgaze_by_minute[tfixedgaze[\"PupilDilation\"] == dilation]\n",
    "#     print(gfixedgaze_by_minute)\n",
    "    #print(gfixedgaze_by_minute_and_dil)\n",
    "    tfixedgaze_by_minute_and_dil[\"Text\"] = tfixedgaze_by_minute_and_dil[\"Minutes\"].apply(lambda x: round(x,3)).map(str).apply(lambda x:' Minute: '+x)\\\n",
    "                                        +tfixedgaze_by_minute_and_dil[\"Duration\"].apply(lambda x:round(x/60000,5)).map(str).apply(lambda x:'<br>Duration: '+x)\n",
    "    data_dict1 = {\n",
    "        \"x\": list(tfixedgaze_by_minute_and_dil[\"X\"]),\n",
    "        \"y\": list(tfixedgaze_by_minute_and_dil[\"Y\"]),\n",
    "        \"mode\": \"markers\",\n",
    "        \"text\": list(tfixedgaze_by_minute_and_dil[\"Text\"]),\n",
    "        \"marker\": {\n",
    "            \"sizemode\": \"area\",\n",
    "            \"sizeref\": 0,\n",
    "            \"size\": list(tfixedgaze_by_minute_and_dil[\"Duration\"]),\n",
    "            \"symbol\": 0,\n",
    "            \"opacity\":0.5\n",
    "        },\n",
    "        \"name\": dilation\n",
    "    }\n",
    "    fig_dict[\"data\"].append(data_dict1)\n",
    "    \n",
    "    \n",
    "    \n",
    "teventdf_by_minute = teventdf[teventdf[\"Minutes\"] <= minute]\n",
    "teventdf_by_minute['Text'] = teventdf_by_minute[\"Minutes\"].apply(lambda x: round(x,3)).map(str).apply(lambda x:' Minute: '+x)\n",
    "\n",
    "data_dict2 = {\n",
    "    \"x\": list(teventdf_by_minute[teventdf_by_minute['Event'] == 'LMouseButton']['Data1']),\n",
    "    \"y\": list(teventdf_by_minute[teventdf_by_minute['Event'] == 'LMouseButton']['Data2']),\n",
    "    \"mode\": \"markers\",\n",
    "    \"text\": list(teventdf_by_minute[\"Text\"]),\n",
    "    \"marker\": {\n",
    "        \"sizemode\": \"area\",\n",
    "        \"sizeref\": 1,\n",
    "        \"size\": 10,\n",
    "        \"symbol\": 207\n",
    "    },\n",
    "    \"name\": event\n",
    "}\n",
    "fig_dict[\"data\"].append(data_dict2)\n",
    "# add right mouse button\n",
    "data_dict3 = {\n",
    "    \"x\": list(teventdf_by_minute[teventdf_by_minute['Event'] == 'RMouseButton']['Data1']),\n",
    "    \"y\": list(teventdf_by_minute[teventdf_by_minute['Event'] == 'RMouseButton']['Data2']),\n",
    "    \"mode\": \"markers\",\n",
    "    \"text\": list(teventdf_by_minute[\"Text\"]),\n",
    "    \"marker\": {\n",
    "        \"sizemode\": \"area\",\n",
    "        \"sizeref\": 1,\n",
    "        \"size\": 10,\n",
    "        \"symbol\": 3\n",
    "    },\n",
    "    \"name\": event\n",
    "}\n",
    "fig_dict[\"data\"].append(data_dict3)\n",
    "\n",
    "\n",
    "\n",
    "    \n",
    "# make frames\n",
    "for i in range(1,len(minutes)):\n",
    "    frame = {\"data\": [], \"name\": str(minutes[i])}\n",
    "    for dilation in dilations:\n",
    "#         print(minutes[i])\n",
    "        tfixedgaze_by_minute = tfixedgaze[(tfixedgaze[\"Minutes\"] >= float(minutes[i-1])) & (tfixedgaze[\"Minutes\"] < float(minutes[i]))]\n",
    "        tfixedgaze_by_minute_and_dil = tfixedgaze_by_minute[\n",
    "            tfixedgaze_by_minute[\"PupilDilation\"] == dilation]\n",
    "        tfixedgaze_by_minute_and_dil[\"Text\"] = tfixedgaze_by_minute_and_dil[\"Minutes\"].apply(lambda x: round(x,3)).map(str).apply(lambda x:' Minutes: '+x)\\\n",
    "                                        + tfixedgaze_by_minute_and_dil[\"Duration\"].apply(lambda x:round(x/60000),5).map(str).apply(lambda x:'<br>Duration: '+x)\n",
    "    \n",
    "        data_dict1 = {\n",
    "            \"x\": list(tfixedgaze_by_minute_and_dil[\"X\"]),\n",
    "            \"y\": list(tfixedgaze_by_minute_and_dil[\"Y\"]),\n",
    "            \"mode\": \"markers\",\n",
    "            \"text\": list(tfixedgaze_by_minute_and_dil[\"Text\"]),\n",
    "            \"marker\": {\n",
    "                \"sizemode\": \"area\",\n",
    "                \"sizeref\": 0,\n",
    "                \"size\": list(tfixedgaze_by_minute_and_dil[\"Duration\"]),\n",
    "                \"symbol\": 0,\n",
    "                \"opacity\":0.5\n",
    "            },\n",
    "            \"name\": dilation\n",
    "        }\n",
    "        frame[\"data\"].append(data_dict1)\n",
    "       \n",
    "\n",
    "    teventdf_by_minute = teventdf[(teventdf[\"Minutes\"] >= float(minutes[i-1])) & (teventdf[\"Minutes\"] < float(minutes[i]))]\n",
    "    teventdf_by_minute['Text'] = teventdf_by_minute[\"Minutes\"].apply(lambda x: round(x,3)).map(str).apply(lambda x:' Minute: '+x)\n",
    "    \n",
    "    data_dict2 = {\n",
    "        \"x\": list(teventdf_by_minute[teventdf_by_minute['Event'] == 'LMouseButton']['Data1']),\n",
    "        \"y\": list(teventdf_by_minute[teventdf_by_minute['Event'] == 'LMouseButton']['Data2']),\n",
    "        \"mode\": \"markers\",\n",
    "        \"text\": list(teventdf_by_minute[\"Text\"]),\n",
    "        \"marker\": {\n",
    "            \"sizemode\": \"area\",\n",
    "            \"sizeref\": 1,\n",
    "            \"size\": 10,\n",
    "            \"symbol\": 207\n",
    "        },\n",
    "        \"name\": event\n",
    "    }\n",
    "    frame[\"data\"].append(data_dict2)\n",
    "    \n",
    "    \n",
    "    \n",
    "    \n",
    "#     data_dict3 = {\n",
    "#         \"x\": list(geventdf_by_minute[geventdf_by_minute['Event'] == 'RMouseButton']['Data1']),\n",
    "#         \"y\": list(geventdf_by_minute[geventdf_by_minute['Event'] == 'RMouseButton']['Data2']),\n",
    "#         \"mode\": \"markers\",\n",
    "#         \"text\": list(geventdf_by_minute[\"Text\"]),\n",
    "#         \"marker\": {\n",
    "#             \"sizemode\": \"area\",\n",
    "#             \"sizeref\": 1,\n",
    "#             \"size\": 10,\n",
    "#             \"symbol\": 3\n",
    "#         },\n",
    "#         \"name\": event\n",
    "#     }\n",
    "#     frame[\"data\"].append(data_dict3)\n",
    "    \n",
    "\n",
    "    fig_dict[\"frames\"].append(frame)\n",
    "    \n",
    "    slider_step = {\"args\": [\n",
    "        [minutes[i]],\n",
    "        {\"frame\": {\"duration\": 300, \"redraw\": False},\n",
    "         \"mode\": \"immediate\",\n",
    "         \"transition\": {\"duration\": 300}}\n",
    "    ],\n",
    "        \"label\": minutes[i],\n",
    "        \"method\": \"animate\"}\n",
    "    sliders_dict[\"steps\"].append(slider_step)\n",
    "\n",
    "#     temp = []\n",
    "#     for descr in geventdf_by_minute[geventdf['Event'] == 'Keyboard']['Description']:\n",
    "#         temp.append(descr)\n",
    "#     for val in temp:\n",
    "#         slider_step2 = {\n",
    "#             \"args\": [\n",
    "#             [val],\n",
    "#             {\"frame\": {\"duration\": 300, \"redraw\": False},\n",
    "#              \"mode\": \"immediate\",\n",
    "#              \"transition\": {\"duration\": 300}}\n",
    "#         ],\n",
    "#             \"label\": val,\n",
    "#             \"method\": \"animate\"\n",
    "#         }\n",
    "            \n",
    "#         sliders_dict[\"steps\"].append(slider_step2)\n",
    "\n",
    "    \n",
    "\n",
    "fig_dict[\"layout\"][\"sliders\"] = [sliders_dict]\n",
    "\n",
    "\n",
    "fig = go.Figure(fig_dict)\n",
    "\n",
    "fig.show()\n",
    "import plotly.io as pt\n",
    "pt.write_html(fig,\"tree_output.html\")"
   ]
  }
 ],
 "metadata": {
  "kernelspec": {
   "display_name": "Python 3",
   "language": "python",
   "name": "python3"
  },
  "language_info": {
   "codemirror_mode": {
    "name": "ipython",
    "version": 3
   },
   "file_extension": ".py",
   "mimetype": "text/x-python",
   "name": "python",
   "nbconvert_exporter": "python",
   "pygments_lexer": "ipython3",
   "version": "3.7.3"
  }
 },
 "nbformat": 4,
 "nbformat_minor": 2
}
